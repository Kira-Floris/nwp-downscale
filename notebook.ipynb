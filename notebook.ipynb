{
 "cells": [
  {
   "cell_type": "code",
   "execution_count": null,
   "metadata": {},
   "outputs": [],
   "source": [
    "import torch\n",
    "from datetime import datetime\n",
    "import os\n",
    "import dask\n",
    "import logging\n",
    "import numpy as np\n",
    "from torch.utils.data import Dataset\n",
    "import xarray as xr\n",
    "import pandas as pd"
   ]
  },
  {
   "cell_type": "markdown",
   "metadata": {},
   "source": [
    "## Defining Variables"
   ]
  },
  {
   "cell_type": "code",
   "execution_count": null,
   "metadata": {},
   "outputs": [],
   "source": [
    "dask.config.set({\"array.slicing.split_large_chunks\": True})\n",
    "# logging.basicConfig(level=logging.INFO, \n",
    "#             handlers=[logging.FileHandler(f'{save_dir}/{exp_id}.log', mode='w'), logging.StreamHandler()])\n",
    "time_stamp = datetime.now().strftime(\"%Y-%m-%dT%H:%M:%S\")\n",
    "cwd = os.getcwd()\n",
    "logging.info(f'starting_time: {time_stamp}')"
   ]
  },
  {
   "cell_type": "markdown",
   "metadata": {},
   "source": [
    "## Dataloaders"
   ]
  },
  {
   "cell_type": "code",
   "execution_count": null,
   "metadata": {},
   "outputs": [],
   "source": [
    "tigge_dir = '/path/to/tigge_data'  # Path to the TIGGE dataset\n",
    "tigge_vars = []  # Replace with actual TIGGE variable names\n",
    "mrms_dir = '/path/to/mrms_data'  # Path to the MRMS dataset\n",
    "rq_fn = '/path/to/request_function'  # Replace with the actual function or path\n",
    "const_fn = '/path/to/constant_function'  # Replace with the actual function or path\n",
    "const_vars = ['const1', 'const2']  # Replace with actual constants\n",
    "first_days = ['2020-01-01', '2020-02-01']  # Replace with actual date strings\n",
    "train_period = ('2020-01-01', '2020-12-31')  # Time range for training\n",
    "val_days = 30  # Example number of days for validation\n",
    "test_period = ('2021-01-01', '2021-12-31')  # Time range for testing\n"
   ]
  },
  {
   "cell_type": "code",
   "execution_count": null,
   "metadata": {},
   "outputs": [],
   "source": [
    "from src.dataloader import *\n",
    "\n",
    "ds_train = TiggeMRMSDataset(\n",
    "    tigge_dir=tigge_dir,\n",
    "    tigge_vars=tigge_vars,\n",
    "    mrms_dir=mrms_dir,\n",
    "    rq_fn=rq_fn,\n",
    "    const_fn=const_fn,\n",
    "    const_vars=const_vars,\n",
    "    first_days=first_days,\n",
    "    data_period=train_period,\n",
    "    val_days=val_days,\n",
    "    split='train',\n",
    ")\n",
    "ds_valid = TiggeMRMSDataset(\n",
    "    tigge_dir=tigge_dir,\n",
    "    tigge_vars=tigge_vars,\n",
    "    mrms_dir=mrms_dir,\n",
    "    rq_fn=rq_fn,\n",
    "    const_fn=const_fn,\n",
    "    const_vars=const_vars,\n",
    "    first_days=first_days,\n",
    "    data_period=train_period,\n",
    "    val_days=val_days,\n",
    "    split='valid',\n",
    "    mins=ds_train.mins,\n",
    "    maxs=ds_train.maxs\n",
    ")\n",
    "ds_test = TiggeMRMSDataset(\n",
    "    tigge_dir=tigge_dir,\n",
    "    tigge_vars=tigge_vars,\n",
    "    mrms_dir=mrms_dir,\n",
    "    rq_fn=rq_fn,\n",
    "    const_fn=const_fn,\n",
    "    const_vars=const_vars,\n",
    "    first_days=first_days,\n",
    "    data_period=test_period,\n",
    "    mins=ds_train.mins,\n",
    "    maxs=ds_train.maxs\n",
    ")"
   ]
  }
 ],
 "metadata": {
  "kernelspec": {
   "display_name": "idl2024",
   "language": "python",
   "name": "python3"
  },
  "language_info": {
   "name": "python",
   "version": "3.7.13"
  }
 },
 "nbformat": 4,
 "nbformat_minor": 2
}
