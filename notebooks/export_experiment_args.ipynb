{
 "cells": [
  {
   "cell_type": "code",
   "execution_count": 1,
   "id": "e7d8f731",
   "metadata": {},
   "outputs": [],
   "source": [
    "import json"
   ]
  },
  {
   "cell_type": "markdown",
   "id": "08ced5dd",
   "metadata": {},
   "source": [
    "### Leingan with ens10 tp stacked"
   ]
  },
  {
   "cell_type": "code",
   "execution_count": 2,
   "id": "737bb45f",
   "metadata": {},
   "outputs": [],
   "source": [
    "args = {'gan': 'base',\n",
    "        'seed': 0,\n",
    "        'save_hparams':{'save_dir': '/home/jupyter/data/saved_models/', \n",
    "                       'run_name': 'leingan/ens10_tp/stacked/', \n",
    "                       'run_number': 0                       \n",
    "                      },\n",
    "        'gan_hparams': {'generaltor': 'leingen',\n",
    "                        'discriminator': 'leindisc',\n",
    "                        'noise_shape' : (1, 16, 16),\n",
    "                        'input_channels' : 10,\n",
    "                        'disc_lr' : 1e-4,\n",
    "                        'gen_lr' : 1e-4,\n",
    "                        'lambda_gp' : 10,\n",
    "                        'gen_freq' : 1, \n",
    "                        'disc_freq':5, \n",
    "                        'disc_spectral_norm' : False,\n",
    "                        'gen_spectral_norm' : False, \n",
    "                        'loss_type' : \"wasserstein\",     \n",
    "                        'val_hparams' : {'val_nens':10}\n",
    "                       },\n",
    "        'train_hparams': {'epochs': 150, \n",
    "                          'gpus': 4, \n",
    "                          'batch_size': 64\n",
    "                         },\n",
    "        'data_hparams': {'train_dataset_path': \"/home/jupyter/data/saved_datasets/traindataset_ensemble_forecast_x10_log_trans_full.pkl\",\n",
    "                        'valid_dataset_path': \"/home/jupyter/data/saved_datasets/validdataset_ensemble_forecast_x10_log_trans_full.pkl\"}\n",
    "        \n",
    "}\n",
    "\n",
    "json.dump(args, open('../experiments/leingan_ens10_tp_stacked_input.json', 'w'))"
   ]
  },
  {
   "cell_type": "markdown",
   "id": "e6fb8ad1",
   "metadata": {},
   "source": [
    "### Leingan with ens10 tp random"
   ]
  },
  {
   "cell_type": "code",
   "execution_count": 3,
   "id": "95077773",
   "metadata": {},
   "outputs": [],
   "source": [
    "args = {'gan': 'base',\n",
    "        'seed': 0,\n",
    "        'save_hparams':{'save_dir': '/home/jupyter/data/saved_models/', \n",
    "                       'run_name': 'leingan/ens10_tp/random/', \n",
    "                       'run_number': 0                       \n",
    "                      },\n",
    "        'gan_hparams': {'generator': 'leingen',\n",
    "                        'discriminator': 'leindisc',\n",
    "                        'noise_shape' : (1, 16, 16),\n",
    "                        'input_channels' : 1,\n",
    "                        'disc_lr' : 1e-4,\n",
    "                        'gen_lr' : 1e-4,\n",
    "                        'lambda_gp' : 10,\n",
    "                        'gen_freq' : 1, \n",
    "                        'disc_freq':5, \n",
    "                        'disc_spectral_norm' : False,\n",
    "                        'gen_spectral_norm' : False, \n",
    "                        'loss_type' : \"wasserstein\",     \n",
    "                        'val_hparams' : {'val_nens':10}\n",
    "                       },\n",
    "        'train_hparams': {'epochs': 200, \n",
    "                          'gpus': 4, \n",
    "                          'batch_size': 64\n",
    "                         },\n",
    "        'data_hparams': {'train_dataset_path': \"/home/jupyter/data/saved_datasets/traindataset_ensemble_forecast_x10_random_log_trans_full.pkl\",\n",
    "                        'valid_dataset_path': \"/home/jupyter/data/saved_datasets/validdataset_ensemble_forecast_x10_random_log_trans_full.pkl\"}\n",
    "        \n",
    "}\n",
    "\n",
    "json.dump(args, open('../experiments/leingan_ens10_tp_random_input.json', 'w'))"
   ]
  },
  {
   "cell_type": "markdown",
   "id": "e8ac1453",
   "metadata": {},
   "source": [
    "### Leingan with ens10 temp random lower lr"
   ]
  },
  {
   "cell_type": "code",
   "execution_count": 4,
   "id": "93b5d588",
   "metadata": {},
   "outputs": [],
   "source": [
    "args = {'gan': 'base',\n",
    "        'seed': 0,\n",
    "        'save_hparams':{'save_dir': '/home/jupyter/data/saved_models/', \n",
    "                       'run_name': 'leingan/ens10_tp/random/', \n",
    "                       'run_number': 1                       \n",
    "                      },\n",
    "        'gan_hparams': {'generator': 'leingen',\n",
    "                        'discriminator': 'leindisc',\n",
    "                        'noise_shape' : (1, 16, 16),\n",
    "                        'input_channels' : 1,\n",
    "                        'disc_lr' : 5e-5,\n",
    "                        'gen_lr' : 5e-5,\n",
    "                        'lambda_gp' : 10,\n",
    "                        'gen_freq' : 1, \n",
    "                        'disc_freq':5, \n",
    "                        'disc_spectral_norm' : False,\n",
    "                        'gen_spectral_norm' : False, \n",
    "                        'loss_type' : \"wasserstein\",     \n",
    "                        'val_hparams' : {'val_nens':10}\n",
    "                       },\n",
    "        'train_hparams': {'epochs': 200, \n",
    "                          'gpus': 4, \n",
    "                          'batch_size': 64\n",
    "                         },\n",
    "        'data_hparams': {'train_dataset_path': \"/home/jupyter/data/saved_datasets/traindataset_ensemble_forecast_x10_random_log_trans_full.pkl\",\n",
    "                        'valid_dataset_path': \"/home/jupyter/data/saved_datasets/validdataset_ensemble_forecast_x10_random_log_trans_full.pkl\"}\n",
    "        \n",
    "}\n",
    "\n",
    "json.dump(args, open('../experiments/leingan_ens10_tp_random_input_low_lr.json', 'w'))"
   ]
  },
  {
   "cell_type": "markdown",
   "id": "70d6850f",
   "metadata": {},
   "source": [
    "### Leingan with ens10 tp random - gen loss: ens_mean_L1_weighted"
   ]
  },
  {
   "cell_type": "code",
   "execution_count": 1,
   "id": "6bbefc6b",
   "metadata": {},
   "outputs": [],
   "source": [
    "import json\n",
    "args = {'gan': 'base2',\n",
    "        'seed': 0,\n",
    "        'save_hparams':{'save_dir': '/home/jupyter/data/saved_models/', \n",
    "                       'run_name': 'leingan/ens10_tp/random/ens_mean_L1_weighted_gen_loss/', \n",
    "                       'run_number': 3                 \n",
    "                      },\n",
    "        'gan_hparams': {'generator': 'leingen',\n",
    "                        'discriminator': 'leindisc',\n",
    "                        'noise_shape' : (6, 1, 16, 16),\n",
    "                        'input_channels' : 1,\n",
    "                        'disc_lr' : 5e-5,\n",
    "                        'gen_lr' : 5e-5,\n",
    "                        'lambda_gp' : 10,\n",
    "                        'b1': 0.0, \n",
    "                        'b2': 0.9,\n",
    "                        'gen_freq' : 1, \n",
    "                        'disc_freq': 5, \n",
    "                        'disc_spectral_norm' : False,\n",
    "                        'gen_spectral_norm' : False, \n",
    "                        'loss_hparams' : {'gen_loss':\"ens_mean_L1_weighted\", 'disc_loss':'wasserstein','lambda_l1_reg': 10  },     \n",
    "                        'val_hparams' : {'val_nens':10}\n",
    "                       },\n",
    "        'train_hparams': {'epochs': 350, \n",
    "                          'gpus': 4, \n",
    "                          'batch_size': 64\n",
    "                         },\n",
    "        'data_hparams': {'train_dataset_path': \"/home/jupyter/data/saved_datasets/traindataset_ensemble_forecast_x10_tp_random_log_trans.pkl\",\n",
    "                        'valid_dataset_path': \"/home/jupyter/data/saved_datasets/validdataset_ensemble_forecast_x10_tp_random_log_trans.pkl\"}\n",
    "        \n",
    "}\n",
    "\n",
    "json.dump(args, open('../experiments/leingan_ens10_tp_random_input_ens_mean_L1_weighted_gen_loss.json', 'w'))"
   ]
  },
  {
   "cell_type": "code",
   "execution_count": null,
   "id": "fe124b4c",
   "metadata": {},
   "outputs": [],
   "source": []
  },
  {
   "cell_type": "markdown",
   "id": "ad05bf85",
   "metadata": {},
   "source": [
    "### Leingan with ens10 temp discriminator Spectral Norm"
   ]
  },
  {
   "cell_type": "code",
   "execution_count": 5,
   "id": "6292df1b",
   "metadata": {},
   "outputs": [],
   "source": [
    "args = {'gan': 'base',\n",
    "        'seed': 0,\n",
    "        'save_hparams':{'save_dir': '/home/jupyter/data/saved_models/', \n",
    "                       'run_name': 'leingan/ens10_tp/random/', \n",
    "                       'run_number': 2                       \n",
    "                      },\n",
    "        'gan_hparams': {'generator': 'leingen',\n",
    "                        'discriminator': 'leindisc',\n",
    "                        'noise_shape' : (1, 16, 16),\n",
    "                        'input_channels' : 1,\n",
    "                        'disc_lr' : 1e-4,\n",
    "                        'gen_lr' : 1e-4,\n",
    "                        'lambda_gp' : 10,\n",
    "                        'gen_freq' : 1, \n",
    "                        'disc_freq':5, \n",
    "                        'disc_spectral_norm' : True,\n",
    "                        'gen_spectral_norm' : False, \n",
    "                        'loss_type' : \"wasserstein\",     \n",
    "                        'val_hparams' : {'val_nens':10}\n",
    "                       },\n",
    "        'train_hparams': {'epochs': 200, \n",
    "                          'gpus': 4, \n",
    "                          'batch_size': 64\n",
    "                         },\n",
    "        'data_hparams': {'train_dataset_path': \"/home/jupyter/data/saved_datasets/traindataset_ensemble_forecast_x10_random_log_trans_full.pkl\",\n",
    "                        'valid_dataset_path': \"/home/jupyter/data/saved_datasets/validdataset_ensemble_forecast_x10_random_log_trans_full.pkl\"}\n",
    "        \n",
    "}\n",
    "\n",
    "json.dump(args, open('../experiments/leingan_ens10_tp_discSN_random_input.json', 'w'))"
   ]
  },
  {
   "cell_type": "markdown",
   "id": "29c2b7ed",
   "metadata": {},
   "source": [
    "### Leingan with ens10 tp and constants"
   ]
  },
  {
   "cell_type": "code",
   "execution_count": 6,
   "id": "8bfd5744",
   "metadata": {},
   "outputs": [],
   "source": [
    "args = {'gan': 'base',\n",
    "        'seed': 0,\n",
    "        'save_hparams':{'save_dir': '/home/jupyter/data/saved_models/', \n",
    "                       'run_name': 'leingan/ens10_tp_with_consts/', \n",
    "                       'run_number': 0                       \n",
    "                      },\n",
    "        'gan_hparams': {'generator': 'leingen',\n",
    "                        'discriminator': 'leindisc',\n",
    "                        'noise_shape' : (1, 16, 16),\n",
    "                        'input_channels' : 12,\n",
    "                        'disc_lr' : 1e-4,\n",
    "                        'gen_lr' : 1e-4,\n",
    "                        'lambda_gp' : 10,\n",
    "                        'gen_freq' : 1, \n",
    "                        'disc_freq':5, \n",
    "                        'disc_spectral_norm' : False,\n",
    "                        'gen_spectral_norm' : False, \n",
    "                        'loss_type' : \"wasserstein\",     \n",
    "                        'val_hparams' : {'val_nens':10}\n",
    "                       },\n",
    "        'train_hparams': {'epochs': 200, \n",
    "                          'gpus': 4, \n",
    "                          'batch_size': 64\n",
    "                         },\n",
    "        'data_hparams': {'train_dataset_path': \"/home/jupyter/data/saved_datasets/traindataset_ensemble_forecast_x10_orog_lsm_log_trans_full.pkl\",\n",
    "                        'valid_dataset_path': \"/home/jupyter/data/saved_datasets/validdataset_ensemble_forecast_x10_orog_lsm_log_trans_full.pkl\"}\n",
    "        \n",
    "}\n",
    "\n",
    "json.dump(args, open('../experiments/leingan_ens10_tp_with_constants_input.json', 'w'))"
   ]
  },
  {
   "cell_type": "markdown",
   "id": "0ba2ef9e",
   "metadata": {},
   "source": [
    "### Leingan with constants"
   ]
  },
  {
   "cell_type": "code",
   "execution_count": 7,
   "id": "efadee96",
   "metadata": {},
   "outputs": [],
   "source": [
    "args = {'gan': 'base',\n",
    "        'seed': 0,\n",
    "        'save_hparams':{'save_dir': '/home/jupyter/data/saved_models/', \n",
    "                       'run_name': 'leingan/single_forecast_with_consts/', \n",
    "                       'run_number': 0                       \n",
    "                      },\n",
    "        'gan_hparams': {'generator': 'leingen',\n",
    "                        'discriminator': 'leindisc',\n",
    "                        'noise_shape' : (1, 16, 16),\n",
    "                        'input_channels' : 3,\n",
    "                        'disc_lr' : 1e-4,\n",
    "                        'gen_lr' : 1e-4,\n",
    "                        'lambda_gp' : 10,\n",
    "                        'gen_freq' : 1, \n",
    "                        'disc_freq':5, \n",
    "                        'disc_spectral_norm' : False,\n",
    "                        'gen_spectral_norm' : False, \n",
    "                        'loss_type' : \"wasserstein\",     \n",
    "                        'val_hparams' : {'val_nens':10}\n",
    "                       },\n",
    "        'train_hparams': {'epochs': 200, \n",
    "                          'gpus': 4, \n",
    "                          'batch_size': 64\n",
    "                         },\n",
    "        'data_hparams': {'train_dataset_path': \"/home/jupyter/data/saved_datasets/traindataset_single_forecast_orog_lsm_log_trans_full.pkl\",\n",
    "                        'valid_dataset_path': \"/home/jupyter/data/saved_datasets/validdataset_single_forecast_orog_lsm_log_trans_full.pkl\"}\n",
    "        \n",
    "}\n",
    "\n",
    "json.dump(args, open('../experiments/leingan_single_forecast_with_constants_input.json', 'w'))"
   ]
  },
  {
   "cell_type": "markdown",
   "id": "e0df3261",
   "metadata": {},
   "source": [
    "### Leingan with constants low lr"
   ]
  },
  {
   "cell_type": "code",
   "execution_count": 8,
   "id": "7d3133da",
   "metadata": {},
   "outputs": [],
   "source": [
    "args = {'gan': 'base',\n",
    "        'seed': 0,\n",
    "        'save_hparams':{'save_dir': '/home/jupyter/data/saved_models/', \n",
    "                       'run_name': 'leingan/single_forecast_with_consts/', \n",
    "                       'run_number': 1                       \n",
    "                      },\n",
    "        'gan_hparams': {'generator': 'leingen',\n",
    "                        'discriminator': 'leindisc',\n",
    "                        'noise_shape' : (1, 16, 16),\n",
    "                        'input_channels' : 3,\n",
    "                        'disc_lr' : 5e-5,\n",
    "                        'gen_lr' : 5e-5,\n",
    "                        'lambda_gp' : 10,\n",
    "                        'gen_freq' : 1, \n",
    "                        'disc_freq':5, \n",
    "                        'disc_spectral_norm' : False,\n",
    "                        'gen_spectral_norm' : False, \n",
    "                        'loss_type' : \"wasserstein\",     \n",
    "                        'val_hparams' : {'val_nens':10}\n",
    "                       },\n",
    "        'train_hparams': {'epochs': 200, \n",
    "                          'gpus': 4, \n",
    "                          'batch_size': 64\n",
    "                         },\n",
    "        'data_hparams': {'train_dataset_path': \"/home/jupyter/data/saved_datasets/traindataset_single_forecast_orog_lsm_log_trans_full.pkl\",\n",
    "                        'valid_dataset_path': \"/home/jupyter/data/saved_datasets/validdataset_single_forecast_orog_lsm_log_trans_full.pkl\"}\n",
    "        \n",
    "}\n",
    "\n",
    "json.dump(args, open('../experiments/leingan_single_forecast_with_constants_input_low_lr.json', 'w'))"
   ]
  },
  {
   "cell_type": "markdown",
   "id": "12c5100d",
   "metadata": {},
   "source": [
    "### Leingan ensemble x10 tp with extra variables: column water, temperature, convective inhbition, convective avail potential energy"
   ]
  },
  {
   "cell_type": "code",
   "execution_count": 6,
   "id": "f2ed1294",
   "metadata": {},
   "outputs": [],
   "source": [
    "args = {'gan': 'base',\n",
    "        'seed': 0,\n",
    "        'save_hparams':{'save_dir': '/home/jupyter/data/saved_models/', \n",
    "                       'run_name': 'leingan/ens10_tp_added_vars_TCW-T-CAPE-CIN/random/', \n",
    "                       'run_number': 0                       \n",
    "                      },\n",
    "        'gan_hparams': {'generator': 'leingen',\n",
    "                        'discriminator': 'leindisc',\n",
    "                        'noise_shape' : (1, 16, 16),\n",
    "                        'input_channels' : 5,\n",
    "                        'disc_lr' : 1e-5,\n",
    "                        'gen_lr' : 1e-5,\n",
    "                        'lambda_gp' : 10,\n",
    "                        'gen_freq' : 1, \n",
    "                        'disc_freq':5, \n",
    "                        'disc_spectral_norm' : False,\n",
    "                        'gen_spectral_norm' : False, \n",
    "                        'loss_type' : \"wasserstein\",     \n",
    "                        'val_hparams' : {'val_nens':10}\n",
    "                       },\n",
    "        'train_hparams': {'epochs': 500, \n",
    "                          'gpus': 2, \n",
    "                          'batch_size': 64\n",
    "                         },\n",
    "        'data_hparams': {'train_dataset_path': \"/home/jupyter/data/saved_datasets/traindataset_ensemble_forecast_x10_random_extra_vars_TCW-T-CAPE-CIN_log_trans.pkl\",\n",
    "                        'valid_dataset_path': \"/home/jupyter/data/saved_datasets/validdataset_ensemble_forecast_x10_random_extra_vars_TCW-T-CAPE-CIN_log_trans.pkl\"}\n",
    "        \n",
    "}\n",
    "\n",
    "json.dump(args, open('../experiments/leingan_ens10_tp_random_added_vars_TCW-T-CAPE-CIN.json', 'w'))"
   ]
  },
  {
   "cell_type": "markdown",
   "id": "73033ba3",
   "metadata": {},
   "source": [
    "### Leingan single forcast tpwith extra variables: column water, temperature, convective inhbition, convective avail potential energy"
   ]
  },
  {
   "cell_type": "code",
   "execution_count": 3,
   "id": "8066775c",
   "metadata": {},
   "outputs": [],
   "source": [
    "import json\n",
    "\n",
    "args = {'gan': 'base',\n",
    "        'seed': 0,\n",
    "        'save_hparams':{'save_dir': '/home/jupyter/data/saved_models/', \n",
    "                       'run_name': 'leingan/single_forecast_tp_added_vars_TCW-T-CAPE-CIN/', \n",
    "                       'run_number': 2                       \n",
    "                      },\n",
    "        'gan_hparams': {'generator': 'leingen',\n",
    "                        'discriminator': 'leindisc',\n",
    "                        'noise_shape' : (1, 16, 16),\n",
    "                        'input_channels' : 5,\n",
    "                        'disc_lr' : 1e-5,\n",
    "                        'gen_lr' : 1e-5,\n",
    "                        'lambda_gp' : 10,\n",
    "                        'gen_freq' : 1, \n",
    "                        'disc_freq':5, \n",
    "                        'disc_spectral_norm' : False,\n",
    "                        'gen_spectral_norm' : False, \n",
    "                        'loss_type' : \"wasserstein\",     \n",
    "                        'val_hparams' : {'val_nens':10}\n",
    "                       },\n",
    "        'train_hparams': {'epochs':500, \n",
    "                          'gpus': 4, \n",
    "                          'batch_size': 64\n",
    "                         },\n",
    "        'data_hparams': {'train_dataset_path': \"/home/jupyter/data/saved_datasets/traindataset_single_forecast_tp_extra_vars_TCW-T-CAPE-CIN_log_trans.pkl\",\n",
    "                        'valid_dataset_path': \"/home/jupyter/data/saved_datasets/validdataset_single_forecast_tp_extra_vars_TCW-T-CAPE-CIN_log_trans.pkl\"}\n",
    "        \n",
    "}\n",
    "\n",
    "json.dump(args, open('../experiments/leingan_single_forecast_tp_added_vars_TCW-T-CAPE-CIN.json', 'w'))"
   ]
  },
  {
   "cell_type": "markdown",
   "id": "b3b57599",
   "metadata": {},
   "source": [
    "### Leingan single forcast tpwith extra variables: column water"
   ]
  },
  {
   "cell_type": "code",
   "execution_count": 1,
   "id": "cdfeb48f",
   "metadata": {},
   "outputs": [],
   "source": [
    "import json\n",
    "\n",
    "args = {'gan': 'base',\n",
    "        'seed': 0,\n",
    "        'save_hparams':{'save_dir': '/home/jupyter/data/saved_models/', \n",
    "                       'run_name': 'leingan/single_forecast_tp_added_vars_TCW/', \n",
    "                       'run_number': 1                       \n",
    "                      },\n",
    "        'gan_hparams': {'generator': 'leingen',\n",
    "                        'discriminator': 'leindisc',\n",
    "                        'noise_shape' : (1, 16, 16),\n",
    "                        'input_channels' : 2,\n",
    "                        'disc_lr' : 5e-5,\n",
    "                        'gen_lr' : 5e-5,\n",
    "                        'lambda_gp' : 10,\n",
    "                        'gen_freq' : 1, \n",
    "                        'disc_freq':5, \n",
    "                        'disc_spectral_norm' : False,\n",
    "                        'gen_spectral_norm' : False, \n",
    "                        'loss_type' : \"wasserstein\",     \n",
    "                        'val_hparams' : {'val_nens':10}\n",
    "                       },\n",
    "        'train_hparams': {'epochs':300, \n",
    "                          'gpus': 3, \n",
    "                          'batch_size': 64\n",
    "                         },\n",
    "        'data_hparams': {'train_dataset_path': \"/home/jupyter/data/saved_datasets/traindataset_single_forecast_tp_extra_vars_TCW_log_trans.pkl\",\n",
    "                        'valid_dataset_path': \"/home/jupyter/data/saved_datasets/validdataset_single_forecast_tp_extra_vars_TCW_log_trans.pkl\"}\n",
    "        \n",
    "}\n",
    "\n",
    "json.dump(args, open('../experiments/leingan_single_forecast_tp_added_vars_TCW.json', 'w'))"
   ]
  },
  {
   "cell_type": "markdown",
   "id": "60787584",
   "metadata": {},
   "source": [
    "### Leingan single forcast super resolution pretraining"
   ]
  },
  {
   "cell_type": "code",
   "execution_count": 7,
   "id": "03c34bfc",
   "metadata": {},
   "outputs": [],
   "source": [
    "import json\n",
    "\n",
    "args = {'gan': 'base2',\n",
    "        'seed': 0,\n",
    "        'save_hparams':{'save_dir': '/home/jupyter/data/saved_models/', \n",
    "                       'run_name': 'leingan/single_forecast_tp_pure_sr_pretraining/', \n",
    "                       'run_number': 0                       \n",
    "                      },\n",
    "        'gan_hparams': {'generator': 'leingen',\n",
    "                        'discriminator': 'leindisc',\n",
    "                        'noise_shape' : (1, 16, 16),\n",
    "                        'zero_noise': True,\n",
    "                        'input_channels' : 1,\n",
    "                        'disc_lr' : 5e-5,\n",
    "                        'gen_lr' : 5e-5,\n",
    "                        'lambda_gp' : 10,\n",
    "                        'b1': 0.0, \n",
    "                        'b2': 0.9,\n",
    "                        'gen_freq' : 1, \n",
    "                        'disc_freq':5, \n",
    "                        'disc_spectral_norm' : False,\n",
    "                        'gen_spectral_norm' : False, \n",
    "                        'loss_hparams' : {'gen_loss':\"wasserstein\", 'disc_loss':'wasserstein','lambda_l1_reg': 0},     \n",
    "                        'val_hparams' : {'val_nens':10}\n",
    "                       },\n",
    "        'train_hparams': {'epochs':200, \n",
    "                          'gpus': 4, \n",
    "                          'batch_size': 64\n",
    "                         },\n",
    "        'data_hparams': {'train_dataset_path': \"/home/jupyter/data/saved_datasets/traindataset_single_forecast_tp_pure_sr_log_trans.pkl\",\n",
    "                        'valid_dataset_path': \"/home/jupyter/data/saved_datasets/validdataset_single_forecast_tp_pure_sr_log_trans.pkl\"}\n",
    "        \n",
    "}\n",
    "\n",
    "json.dump(args, open('../experiments/leingan_single_forecast_tp_pure_sr_pretraining.json', 'w'))"
   ]
  },
  {
   "cell_type": "markdown",
   "id": "c496c153",
   "metadata": {},
   "source": [
    "### Leingan ens10 random finetuning post sr_pretraining"
   ]
  },
  {
   "cell_type": "code",
   "execution_count": 12,
   "id": "1a8b7195",
   "metadata": {},
   "outputs": [],
   "source": [
    "import json\n",
    "\n",
    "args = {'gan': 'base2',\n",
    "        'seed': 0,\n",
    "        'save_hparams':{'save_dir': '/home/jupyter/data/saved_models/', \n",
    "                       'run_name': 'leingan/ens10_tp/random/post_sr_finetuning/', \n",
    "                       'run_number': 0                       \n",
    "                      },\n",
    "        'gan_hparams': {'generator': 'leingen',\n",
    "                        'discriminator': 'leindisc',\n",
    "                        'noise_shape' : (1, 16, 16),\n",
    "                        'zero_noise': False,\n",
    "                        'input_channels' : 1,\n",
    "                        'disc_lr' : 1e-5,\n",
    "                        'gen_lr' : 1e-5,\n",
    "                        'lambda_gp' : 10,\n",
    "                        'b1': 0.0, \n",
    "                        'b2': 0.9,\n",
    "                        'gen_freq' : 1, \n",
    "                        'disc_freq': 5, \n",
    "                        'disc_spectral_norm' : False,\n",
    "                        'gen_spectral_norm' : False, \n",
    "                        'loss_hparams' : {'gen_loss':\"wasserstein\", 'disc_loss':'wasserstein','lambda_l1_reg': 0},     \n",
    "                        'val_hparams' : {'val_nens':10}\n",
    "                       },\n",
    "        'train_hparams': {'epochs':400, \n",
    "                          'gpus':4, \n",
    "                          'batch_size': 64\n",
    "                         },\n",
    "        'data_hparams': {'train_dataset_path': \"/home/jupyter/data/saved_datasets/traindataset_ensemble_forecast_x10_tp_random_log_trans.pkl\",\n",
    "                        'valid_dataset_path': \"/home/jupyter/data/saved_datasets/validdataset_ensemble_forecast_x10_tp_random_log_trans.pkl\"}\n",
    "        \n",
    "}\n",
    "\n",
    "json.dump(args, open('../experiments/leingan_ens10_tp_random_finetuning.json', 'w'))"
   ]
  },
  {
   "cell_type": "markdown",
   "id": "a107cf16",
   "metadata": {},
   "source": [
    "### BroadLeingan with extra variables: column water"
   ]
  },
  {
   "cell_type": "code",
   "execution_count": 6,
   "id": "ed925917",
   "metadata": {},
   "outputs": [],
   "source": [
    "import json\n",
    "\n",
    "args = {'gan': 'base2',\n",
    "        'seed': 0,\n",
    "        'save_hparams':{'save_dir': '/home/jupyter/data/saved_models/', \n",
    "                       'run_name': 'broadleingan/ens10_tp_added_vars_TCW/random/', \n",
    "                       'run_number': 7               \n",
    "                      },\n",
    "        'gan_hparams': {'generator': 'broadleingen',\n",
    "                        'discriminator': 'broadleindisc',\n",
    "                        'noise_shape' : (1, 16, 16),\n",
    "                        'zero_noise': False,\n",
    "                        'input_channels' : 2,\n",
    "                        'opt_hparams': {'gen_optimiser':'adam', 'disc_optimiser':'adam', \n",
    "                                        'disc_lr' : 5e-5, 'gen_lr': 5e-5, 'gen_freq' : 1, \n",
    "                                        'disc_freq':5, 'b1':0.0, 'b2' : 0.9},\n",
    "                        'disc_spectral_norm' : False,\n",
    "                        'gen_spectral_norm' : False, \n",
    "                        'loss_hparams' : {'gen_loss':\"wasserstein\", 'disc_loss':'wasserstein','lambda_l1_reg': 0, 'lambda_gp':10},     \n",
    "                        'val_hparams' : {'val_nens':10}\n",
    "                       },\n",
    "        'train_hparams': {'epochs':400, \n",
    "                          'gpus':4, \n",
    "                          'batch_size': 64\n",
    "                         },\n",
    "        'data_hparams': {'train_dataset_path': \"/home/jupyter/data/saved_datasets/traindataset_ensemble_forecast_x10_random_extra_vars_TCW_log_trans_padded_24.pkl\",\n",
    "                        'valid_dataset_path': \"/home/jupyter/data/saved_datasets/validdataset_ensemble_forecast_x10_random_extra_vars_TCW_log_trans_padded_24.pkl\"}\n",
    "        \n",
    "}\n",
    "\n",
    "json.dump(args, open('../experiments/broadleingan_ens10_tp_random_added_vars_TCW.json', 'w'))"
   ]
  },
  {
   "cell_type": "markdown",
   "id": "d682e138",
   "metadata": {},
   "source": [
    "### BroadLeingan ens10 tp random"
   ]
  },
  {
   "cell_type": "code",
   "execution_count": 1,
   "id": "ec447083",
   "metadata": {},
   "outputs": [],
   "source": [
    "import json\n",
    "\n",
    "args = {'gan': 'base2',\n",
    "        'seed': 0,\n",
    "        'save_hparams':{'save_dir': '/home/jupyter/data/saved_models/', \n",
    "                       'run_name': 'broadleingan/ens10_tp/random/', \n",
    "                       'run_number': 2         \n",
    "                      },\n",
    "        'gan_hparams': {'generator': 'broadleingen',\n",
    "                        'discriminator': 'broadleindisc',\n",
    "                        'noise_shape' : (1, 16, 16),\n",
    "                        'zero_noise': False,\n",
    "                        'input_channels' : 1,\n",
    "                        'opt_hparams': {'gen_optimiser':'adam', 'disc_optimiser':'adam', \n",
    "                                        'disc_lr' : 5e-6, 'gen_lr': 5e-6, 'gen_freq' : 1, \n",
    "                                        'disc_freq':5, 'b1':0.0, 'b2' : 0.9, \n",
    "                                         'gen_momentum': 0.9, 'disc_momentum': 0.9},\n",
    "                        'disc_spectral_norm' : False,\n",
    "                        'gen_spectral_norm' : False, \n",
    "                        'loss_hparams' : {'gen_loss':\"wasserstein\", 'disc_loss':'wasserstein','lambda_l1_reg': 0, 'lambda_gp':10},     \n",
    "                        'val_hparams' : {'val_nens':10}\n",
    "                       },\n",
    "        'train_hparams': {'epochs':1000, \n",
    "                          'gpus':4, \n",
    "                          'batch_size': 64\n",
    "                         },\n",
    "        'data_hparams': {'train_dataset_path': \"/home/jupyter/data/saved_datasets/traindataset_ensemble_forecast_x10_random_log_trans_padded_24.pkl\",\n",
    "                        'valid_dataset_path': \"/home/jupyter/data/saved_datasets/validdataset_ensemble_forecast_x10_random_log_trans_padded_24.pkl\"}\n",
    "        \n",
    "}\n",
    "\n",
    "json.dump(args, open('../experiments/broadleingan_ens10_tp_random.json', 'w'))"
   ]
  },
  {
   "cell_type": "code",
   "execution_count": null,
   "id": "ac3d85b3",
   "metadata": {},
   "outputs": [],
   "source": []
  },
  {
   "cell_type": "markdown",
   "id": "51825878",
   "metadata": {},
   "source": [
    "### Leingan with broadfield channel and extra variables: total column water"
   ]
  },
  {
   "cell_type": "code",
   "execution_count": 1,
   "id": "dbff7d49",
   "metadata": {},
   "outputs": [],
   "source": [
    "import json\n",
    "\n",
    "args = {'gan': 'base2',\n",
    "        'seed': 0,\n",
    "        'save_hparams':{'save_dir': '/home/jupyter/data/saved_models/', \n",
    "                       'run_name': 'leingan/single_forecast_tp_broadfield_channel_added_vars_TCW/', \n",
    "                       'run_number': 1              \n",
    "                      },\n",
    "        'gan_hparams': {'generator': 'leingen',\n",
    "                        'discriminator': 'leindisc',\n",
    "                        'noise_shape' : (1, 16, 16),\n",
    "                        'zero_noise': False,\n",
    "                        'input_channels' : 3,\n",
    "                        'opt_hparams': {'gen_optimiser':'adam', 'disc_optimiser':'adam', \n",
    "                                        'disc_lr' : 1e-5, 'gen_lr': 1e-5, 'gen_freq' : 1, \n",
    "                                        'disc_freq':5, 'b1':0.0, 'b2' : 0.9},\n",
    "                        'disc_spectral_norm' : False,\n",
    "                        'gen_spectral_norm' : False, \n",
    "                        'loss_hparams' : {'gen_loss':\"wasserstein\", 'disc_loss':'wasserstein','lambda_l1_reg': 0, 'lambda_gp':10},     \n",
    "                        'val_hparams' : {'val_nens':10}\n",
    "                       },\n",
    "        'train_hparams': {'epochs':1000, \n",
    "                          'gpus':4, \n",
    "                          'batch_size': 64\n",
    "                         },\n",
    "        'data_hparams': {'train_dataset_path': \"/home/jupyter/data/saved_datasets/traindataset_single_forecast_tp_extra_vars_TCW_log_trans_padded_10_channel.pkl\",\n",
    "                        'valid_dataset_path': \"/home/jupyter/data/saved_datasets/validdataset_single_forecast_tp_extra_vars_TCW_log_trans_padded_10_channel.pkl\"}\n",
    "        \n",
    "}\n",
    "\n",
    "json.dump(args, open('../experiments/leingan_single_forecast_tp_broadfield_channel_added_vars_TCW.json', 'w'))"
   ]
  },
  {
   "cell_type": "code",
   "execution_count": null,
   "id": "a2570418",
   "metadata": {},
   "outputs": [],
   "source": []
  },
  {
   "cell_type": "markdown",
   "id": "021c4339",
   "metadata": {},
   "source": [
    "### Leingan with broadfield channel and extra variables: total column water (ensemble) - with ens mean l1 loss"
   ]
  },
  {
   "cell_type": "code",
   "execution_count": 3,
   "id": "a567c664",
   "metadata": {},
   "outputs": [],
   "source": [
    "import json\n",
    "\n",
    "args = {'gan': 'base2',\n",
    "        'seed': 0,\n",
    "        'save_hparams':{'save_dir': '/home/jupyter/data/saved_models/', \n",
    "                       'run_name': 'leingan/ens10_tp_and_added_vars_TCW_broadfield_channel/', \n",
    "                       'run_number':15         \n",
    "                      },\n",
    "        'gan_hparams': {'generator': 'leingen2',\n",
    "                        'discriminator': 'leindisc',\n",
    "                        'noise_shape' : (6, 1, 16, 16),\n",
    "                        'zero_noise': False,\n",
    "                        'input_channels' : 3,\n",
    "                        'opt_hparams': {'gen_optimiser':'adam', 'disc_optimiser':'adam', \n",
    "                                        'disc_lr' : 5e-5, 'gen_lr': 5e-5, 'gen_freq' : 1, \n",
    "                                        'disc_freq':5, 'b1':0.0, 'b2' : 0.9},\n",
    "                        'disc_spectral_norm' : False,\n",
    "                        'gen_spectral_norm' : False, \n",
    "                        'loss_hparams' : {'gen_loss':\"ens_mean_L1_weighted\", 'disc_loss':'wasserstein','lambda_l1_reg': 10, 'lambda_gp':10},     \n",
    "                        'val_hparams' : {'val_nens':10}\n",
    "                       },\n",
    "        'train_hparams': {'epochs':500, \n",
    "                          'gpus':4, \n",
    "                          'batch_size': 64\n",
    "                         },\n",
    "        'data_hparams': {'train_dataset_path': \"/home/jupyter/data/saved_datasets/traindataset_ensemble_tp_extra_vars_TCW_x10_log_trans_padded_10_channel.pkl\",\n",
    "                        'valid_dataset_path': \"/home/jupyter/data/saved_datasets/validdataset_ensemble_tp_extra_vars_TCW_x10_log_trans_padded_10_channel.pkl\"}\n",
    "        \n",
    "}\n",
    "\n",
    "json.dump(args, open('../experiments/leingan_ens10_tp_and_added_vars_TCW_broadfield_channel.json', 'w'))"
   ]
  },
  {
   "cell_type": "code",
   "execution_count": 4,
   "id": "a443dc56",
   "metadata": {},
   "outputs": [],
   "source": [
    "import json\n",
    "\n",
    "args = {'gan': 'base2',\n",
    "        'seed': 0,\n",
    "        'save_hparams':{'save_dir': '/home/jupyter/data/saved_models/', \n",
    "                       'run_name': 'leingan/ens10_tp_and_added_vars_TCW_broadfield_channel/', \n",
    "                       'run_number': 13             \n",
    "                      },\n",
    "        'gan_hparams': {'generator': 'leingen2',\n",
    "                        'discriminator': 'leindisc',\n",
    "                        'noise_shape' : (6, 1, 16, 16),\n",
    "                        'zero_noise': False,\n",
    "                        'input_channels' : 3,\n",
    "                        'opt_hparams': {'gen_optimiser':'adam', 'disc_optimiser':'adam', \n",
    "                                        'disc_lr' : 5e-6, 'gen_lr': 5e-6, 'gen_freq' : 1, \n",
    "                                        'disc_freq':5, 'b1':0.0, 'b2' : 0.9},\n",
    "                        'disc_spectral_norm' : False,\n",
    "                        'gen_spectral_norm' : False, \n",
    "                        'loss_hparams' : {'gen_loss':\"ens_mean_L1_weighted\", 'disc_loss':'wasserstein','lambda_l1_reg': 10, 'lambda_gp':10},     \n",
    "                        'val_hparams' : {'val_nens':10}\n",
    "                       },\n",
    "        'train_hparams': {'epochs':500, \n",
    "                          'gpus':4, \n",
    "                          'batch_size': 64\n",
    "                         },\n",
    "        'data_hparams': {'train_dataset_path': \"/home/jupyter/data/saved_datasets/traindataset_ensemble_tp_extra_vars_TCW_x10_log_trans_padded_10_channel.pkl\",\n",
    "                        'valid_dataset_path': \"/home/jupyter/data/saved_datasets/validdataset_ensemble_tp_extra_vars_TCW_x10_log_trans_padded_10_channel.pkl\"}\n",
    "        \n",
    "}\n",
    "\n",
    "json.dump(args, open('../experiments/leingan_ens10_tp_and_added_vars_TCW_broadfield_channel.json', 'w'))"
   ]
  },
  {
   "cell_type": "markdown",
   "id": "0a585b3d",
   "metadata": {},
   "source": [
    "### Leingan (no log trans) with broadfield channel and extra variables: total column water (ensemble) - with ens mean l1 loss"
   ]
  },
  {
   "cell_type": "code",
   "execution_count": 2,
   "id": "2d5802c5",
   "metadata": {},
   "outputs": [],
   "source": [
    "import json\n",
    "\n",
    "args = {'gan': 'base2',\n",
    "        'seed': 0,\n",
    "        'save_hparams':{'save_dir': '/home/jupyter/data/saved_models/', \n",
    "                       'run_name': 'leingan/ens10_tp_and_added_vars_TCW_broadfield_channel/no_log_trans/', \n",
    "                       'run_number': 1            \n",
    "                      },\n",
    "        'gan_hparams': {'generator': 'leingen2',\n",
    "                        'discriminator': 'leindisc',\n",
    "                        'noise_shape' : (6, 1, 16, 16),\n",
    "                        'zero_noise': False,\n",
    "                        'input_channels' : 3,\n",
    "                        'opt_hparams': {'gen_optimiser':'adam', 'disc_optimiser':'adam', \n",
    "                                        'disc_lr' : 5e-5, 'gen_lr': 5e-5, 'gen_freq' : 1, \n",
    "                                        'disc_freq':5, 'b1':0.0, 'b2' : 0.9},\n",
    "                        'disc_spectral_norm' : False,\n",
    "                        'gen_spectral_norm' : False, \n",
    "                        'loss_hparams' : {'gen_loss':\"ens_mean_L1_weighted\", 'disc_loss':'wasserstein','lambda_l1_reg': 10, 'lambda_gp':10},     \n",
    "                        'val_hparams' : {'val_nens':10}\n",
    "                       },\n",
    "        'train_hparams': {'epochs':500, \n",
    "                          'gpus':4, \n",
    "                          'batch_size': 64\n",
    "                         },\n",
    "        'data_hparams': {'train_dataset_path': \"/home/jupyter/data/saved_datasets/traindataset_ensemble_tp_extra_vars_TCW_x10_padded_10_channel.pkl\",\n",
    "                        'valid_dataset_path': \"/home/jupyter/data/saved_datasets/validdataset_ensemble_tp_extra_vars_TCW_x10_padded_10_channel.pkl\"}\n",
    "        \n",
    "}\n",
    "\n",
    "json.dump(args, open('../experiments/leingan_ens10_tp_no_log_trans_and_added_vars_TCW_broadfield_channel.json', 'w'))"
   ]
  },
  {
   "cell_type": "markdown",
   "id": "1265664b",
   "metadata": {},
   "source": [
    "### Sanity check - train corrector given current leingen style architecture"
   ]
  },
  {
   "cell_type": "code",
   "execution_count": 2,
   "id": "be9e9087",
   "metadata": {},
   "outputs": [
    {
     "data": {
      "text/plain": [
       "{'tigge_dir': '/home/jupyter/data/tigge/32km/',\n",
       " 'tigge_vars': ['total_precipitation_ens10',\n",
       "  'total_column_water',\n",
       "  '2m_temperature',\n",
       "  'convective_available_potential_energy',\n",
       "  'convective_inhibition'],\n",
       " 'mrms_dir': '/home/jupyter/data/mrms/4km/RadarOnly_QPE_06H/',\n",
       " 'rq_fn': '/home/jupyter/data/mrms/4km/RadarQuality.nc',\n",
       " 'data_period': ('2018-01', '2019-12'),\n",
       " 'val_days': 5,\n",
       " 'split': 'train',\n",
       " 'pure_sr_ratio': None,\n",
       " 'tp_log': 0.01,\n",
       " 'ensemble_mode': 'random'}"
      ]
     },
     "execution_count": 2,
     "metadata": {},
     "output_type": "execute_result"
    }
   ],
   "source": [
    "import pickle\n",
    "\n",
    "args = pickle.load(open('/home/jupyter/data/saved_datasets/traindataset_ensemble_forecast_x10_random_extra_vars_TCW-T-CAPE-CIN_log_trans_args.pkl', 'rb'))\n",
    "args"
   ]
  },
  {
   "cell_type": "code",
   "execution_count": 13,
   "id": "f16a6c67",
   "metadata": {},
   "outputs": [],
   "source": [
    "import json\n",
    "from collections import OrderedDict\n",
    "\n",
    "args = {'gan': 'base2',\n",
    "        'seed': 0,\n",
    "        'save_hparams':{'save_dir': '/home/jupyter/data/saved_models/', \n",
    "                       'run_name': 'corrector/ensemble_forecast_x10_log_trans_random_extra_vars_TCW-T-CAPE-CIN_broadfield_channel_padded_15/l1_and_fss10_loss/', \n",
    "                       'run_number': 14\n",
    "                      },\n",
    "        'input_channels' : 15,\n",
    "        'train_hparams': {'epochs':20, \n",
    "                          'gpus':[0], \n",
    "                          'batch_size': 256\n",
    "                         },\n",
    "        'data_hparams': {'train_dataset_path': \"/home/jupyter/data/data_patches/train\",\n",
    "                        'valid_dataset_path': \"/home/jupyter/data/data_patches/valid\", \n",
    "                        'samples_vars' :OrderedDict({'tp':10, 'tcw':1, 't2m':1, 'cape':1, 'cin':1, 'pad_tigge_channel':1}) \n",
    "                        }\n",
    "        \n",
    "}\n",
    "\n",
    "json.dump(args, open('../experiments/corrector_ensemble_forecast_x10_log_trans_random_extra_vars_TCW-T-CAPE-CIN_broadfield_channel_padded_15.json', 'w'))"
   ]
  },
  {
   "cell_type": "code",
   "execution_count": 1,
   "id": "d7c94071",
   "metadata": {},
   "outputs": [],
   "source": [
    "import json\n",
    "\n",
    "args = {'gan': 'base2',\n",
    "        'seed': 3,\n",
    "        'save_hparams':{'save_dir': '/home/jupyter/data/saved_models/', \n",
    "                       'run_name': 'corrector/ensemble_forecast_x10_log_trans_stacked_extra_vars_TCW-T-CAPE-CIN_broadfield_channel_padded_15/', \n",
    "                       'run_number': 0\n",
    "                      },\n",
    "        'input_channels' : 15,\n",
    "        'train_hparams': {'epochs':10, \n",
    "                          'gpus':[1], \n",
    "                          'batch_size': 256\n",
    "                         },\n",
    "        'data_hparams': {'train_dataset_path': \"/home/jupyter/data/saved_datasets/traindataset_ensemble_tp_x10_stacked_log_trans_with_single_TCW_T_CAPE_CI_tp_padded_15_channel.pkl\",\n",
    "                        'valid_dataset_path': \"/home/jupyter/data/saved_datasets/validdataset_ensemble_tp_x10_stacked_log_trans_with_single_TCW_T_CAPE_CI_tp_padded_15_channel.pkl\"}\n",
    "        \n",
    "}\n",
    "\n",
    "json.dump(args, open('../experiments/corrector_ensemble_tp_x10_stacked_log_trans_with_single_TCW_T_CAPE_CI_tp_padded_15_channel.json', 'w'))"
   ]
  },
  {
   "cell_type": "markdown",
   "id": "a844db7b",
   "metadata": {},
   "source": [
    "# Eval args"
   ]
  },
  {
   "cell_type": "markdown",
   "id": "7553e9a6",
   "metadata": {},
   "source": [
    "### Leingan with extra variables: column water, temperature, convective inhbition, convective avail potential energy"
   ]
  },
  {
   "cell_type": "code",
   "execution_count": 3,
   "id": "d4a8829a",
   "metadata": {},
   "outputs": [],
   "source": [
    "args = {'gan': 'base',\n",
    "        'seed': 0,\n",
    "        'gpu':0,\n",
    "        'save_hparams':{'save_dir': '/home/jupyter/data/saved_models/', \n",
    "                       'run_name': 'leingan/ens10_tp_added_vars_TCW-T-CAPE-CIN/random/', \n",
    "                       'run_number': 0                       \n",
    "                      },\n",
    "        'model_path': '/home/jupyter/data/saved_models/leingan/ens10_random_tp_added_vars_TCW-T-CAPE-CIN/0/epoch=499-step=322499.ckpt',\n",
    "        'eval_hparams': {'batch_size': 128, \n",
    "                         'num_ens': 30\n",
    "                         },\n",
    "        'data_hparams': {'test_dataset_path': \"/home/jupyter/data/saved_datasets/testdataset_ensemble_forecast_x10_random_extra_vars_TCW-T-CAPE-CIN_log_trans_first_days_5.pkl\",\n",
    "                        }\n",
    "        \n",
    "}\n",
    "\n",
    "json.dump(args, open('../experiments/eval_leingan_ens10_tp_random_added_vars_TCW-T-CAPE-CIN.json', 'w'))"
   ]
  },
  {
   "cell_type": "markdown",
   "id": "6c5d4626",
   "metadata": {},
   "source": [
    "### Leingan with extra variables: column water"
   ]
  },
  {
   "cell_type": "code",
   "execution_count": 11,
   "id": "49732615",
   "metadata": {},
   "outputs": [],
   "source": [
    "args = {'gan': 'base',\n",
    "        'seed': 0,\n",
    "        'gpu':0,\n",
    "        'save_hparams':{'save_dir': '/home/jupyter/data/saved_models/', \n",
    "                       'run_name': 'leingan/single_forecast_tp_added_vars_TCW/', \n",
    "                       'run_number': 1                       \n",
    "                      },\n",
    "        'model_path': '/home/jupyter/data/saved_models/leingan/single_forecast_tp_added_vars_TCW/1/epoch=299-step=196499.ckpt',\n",
    "        'eval_hparams': {'batch_size': 128, \n",
    "                         'num_ens': 30\n",
    "                         },\n",
    "        'data_hparams': {'test_dataset_path': \"/home/jupyter/data/saved_datasets/testdataset_single_forecast_tp_extra_vars_TCW_log_trans_first_days_5.pkl\",\n",
    "                        }\n",
    "        \n",
    "}\n",
    "\n",
    "json.dump(args, open('../experiments/eval_leingan_single_forecast_tp_added_vars_TCW.json', 'w'))"
   ]
  },
  {
   "cell_type": "markdown",
   "id": "bbb2f727",
   "metadata": {},
   "source": [
    "### Leingan with ens10 tp stacked"
   ]
  },
  {
   "cell_type": "code",
   "execution_count": 9,
   "id": "1252588b",
   "metadata": {},
   "outputs": [],
   "source": [
    "args = {'gan': 'base',\n",
    "        'seed': 0,\n",
    "        'gpu':0,\n",
    "        'save_hparams':{'save_dir': '/home/jupyter/data/saved_models/', \n",
    "                       'run_name': 'leingan/ens10_tp/stacked/', \n",
    "                       'run_number': 0                       \n",
    "                      },\n",
    "        'model_path': '/home/jupyter/data/saved_models/leingan/ens10_tp/stacked/0/epoch=149-step=100499.ckpt',\n",
    "        'eval_hparams': {'batch_size': 128, \n",
    "                         'num_ens': 30\n",
    "                         },\n",
    "        'data_hparams': {'test_dataset_path': \"/home/jupyter/data/saved_datasets/testdataset_ensemble_forecast_x10_tp_stacked_log_trans_first_days_5.pkl\"}\n",
    "        \n",
    "}\n",
    "\n",
    "json.dump(args, open('../experiments/eval_leingan_ens10_tp_stacked_input.json', 'w'))"
   ]
  },
  {
   "cell_type": "markdown",
   "id": "8a8848c4",
   "metadata": {},
   "source": [
    "### Leingan with ens10 tp random"
   ]
  },
  {
   "cell_type": "code",
   "execution_count": 10,
   "id": "9e406bf7",
   "metadata": {},
   "outputs": [],
   "source": [
    "args = {'gan': 'base',\n",
    "        'seed': 0,\n",
    "        'gpu':1,\n",
    "        'save_hparams':{'save_dir': '/home/jupyter/data/saved_models/', \n",
    "                       'run_name': 'leingan/ens10_tp/random/', \n",
    "                       'run_number': 1                       \n",
    "                      },\n",
    "        'model_path': '/home/jupyter/data/saved_models/leingan/ens10_tp/random/1/epoch=199-step=133999.ckpt',\n",
    "        'eval_hparams': {'batch_size': 128, \n",
    "                         'num_ens': 30\n",
    "                         },\n",
    "        'data_hparams': {'test_dataset_path': \"/home/jupyter/data/saved_datasets/testdataset_ensemble_forecast_x10_tp_random_log_trans_first_days_5.pkl\"}\n",
    "        \n",
    "}\n",
    "\n",
    "json.dump(args, open('../experiments/eval_leingan_ens10_tp_random_input.json', 'w'))"
   ]
  },
  {
   "cell_type": "markdown",
   "id": "98ccef24",
   "metadata": {},
   "source": [
    "### Leingan with single forecast"
   ]
  },
  {
   "cell_type": "code",
   "execution_count": 11,
   "id": "7f31e763",
   "metadata": {},
   "outputs": [],
   "source": [
    "args = {'gan': 'base',\n",
    "        'seed': 0,\n",
    "        'gpu':2,\n",
    "        'save_hparams':{'save_dir': '/home/jupyter/data/saved_models/', \n",
    "                       'run_name': 'leingan/single_forecast/', \n",
    "                       'run_number': 0                       \n",
    "                      },\n",
    "        'model_path': '/home/jupyter/data/saved_models/leingan/single_forecast/0/epoch=120-step=324279.ckpt',\n",
    "        'eval_hparams': {'batch_size': 128, \n",
    "                         'num_ens': 30\n",
    "                         },\n",
    "        'data_hparams': {'test_dataset_path': \"/home/jupyter/data/saved_datasets/testdataset_single_forecast_tp_log_trans_first_days_5.pkl\"}\n",
    "        \n",
    "}\n",
    "\n",
    "json.dump(args, open('../experiments/eval_leingan_single_forecast_tp_input.json', 'w'))"
   ]
  },
  {
   "cell_type": "markdown",
   "id": "f74317a0",
   "metadata": {},
   "source": [
    "### Leingan with single forecast with constants"
   ]
  },
  {
   "cell_type": "code",
   "execution_count": 12,
   "id": "f726f877",
   "metadata": {},
   "outputs": [],
   "source": [
    "args = {'gan': 'base',\n",
    "        'seed': 0,\n",
    "        'gpu':3,\n",
    "        'save_hparams':{'save_dir': '/home/jupyter/data/saved_models/', \n",
    "                       'run_name': 'leingan/single_forecast_with_consts/', \n",
    "                       'run_number': 1                       \n",
    "                      },\n",
    "        'model_path': '/home/jupyter/data/saved_models/leingan/single_forecast_with_consts/1/epoch=199-step=133999.ckpt',\n",
    "        'eval_hparams': {'batch_size': 128, \n",
    "                         'num_ens': 30\n",
    "                         },\n",
    "        'data_hparams': {'test_dataset_path': \"/home/jupyter/data/saved_datasets/testdataset_single_forecast_tp_orog_lsm_log_trans_first_days_5.pkl\"}\n",
    "        \n",
    "}\n",
    "\n",
    "json.dump(args, open('../experiments/eval_leingan_single_forecast_tp_with_consts_input.json', 'w'))"
   ]
  },
  {
   "cell_type": "markdown",
   "id": "49c85410",
   "metadata": {},
   "source": [
    "### wgan-gp single forecast"
   ]
  },
  {
   "cell_type": "code",
   "execution_count": 13,
   "id": "8c6c0035",
   "metadata": {},
   "outputs": [],
   "source": [
    "args = {'gan': 'wgan-gp',\n",
    "        'seed': 0,\n",
    "        'gpu':0,\n",
    "        'save_hparams':{'save_dir': '/home/jupyter/data/saved_models/', \n",
    "                       'run_name': 'wgan-gp/', \n",
    "                       'run_number': 0                       \n",
    "                      },\n",
    "        'model_path': '/home/jupyter/data/saved_models/wgan-gp/0/epoch=124-step=334999.ckpt',\n",
    "        'eval_hparams': {'batch_size': 128, \n",
    "                         'num_ens': 30\n",
    "                         },\n",
    "        'data_hparams': {'test_dataset_path': \"/home/jupyter/data/saved_datasets/testdataset_single_forecast_tp_log_trans_first_days_5.pkl\"}\n",
    "        \n",
    "}\n",
    "\n",
    "json.dump(args, open('../experiments/eval_wgan-gp_single_forecast_tp.json', 'w'))"
   ]
  },
  {
   "cell_type": "markdown",
   "id": "0250526f",
   "metadata": {},
   "source": [
    "### wgan-gp-smoothed single forecast"
   ]
  },
  {
   "cell_type": "code",
   "execution_count": 14,
   "id": "a387e669",
   "metadata": {},
   "outputs": [],
   "source": [
    "args = {'gan': 'wgan-gp',\n",
    "        'seed': 0,\n",
    "        'gpu':1,\n",
    "        'save_hparams':{'save_dir': '/home/jupyter/data/saved_models/', \n",
    "                       'run_name': 'wgan-gp-smoothed/', \n",
    "                       'run_number': 0                       \n",
    "                      },\n",
    "        'model_path': '/home/jupyter/data/saved_models/wgan-gp-smoothed/0/epoch=123-step=332319.ckpt',\n",
    "        'eval_hparams': {'batch_size': 128, \n",
    "                         'num_ens': 30\n",
    "                         },\n",
    "        'data_hparams': {'test_dataset_path': \"/home/jupyter/data/saved_datasets/testdataset_single_forecast_tp_log_trans_first_days_5.pkl\"}\n",
    "        \n",
    "}\n",
    "\n",
    "json.dump(args, open('../experiments/eval_wgan-gp-smoothed_single_forecast_tp.json', 'w'))"
   ]
  },
  {
   "cell_type": "markdown",
   "id": "16cd5782",
   "metadata": {},
   "source": [
    "### Broadleingan single forecast"
   ]
  },
  {
   "cell_type": "code",
   "execution_count": 22,
   "id": "ee0db611",
   "metadata": {},
   "outputs": [],
   "source": [
    "args = {'gan': 'leingan',\n",
    "        'seed': 0,\n",
    "        'gpu':2,\n",
    "        'save_hparams':{'save_dir': '/home/jupyter/data/saved_models/', \n",
    "                       'run_name': 'broadleingan/', \n",
    "                       'run_number': 0                       \n",
    "                      },\n",
    "        'model_path': '/home/jupyter/data/saved_models/broadleingan/0/epoch=343-step=358791.ckpt',\n",
    "        'eval_hparams': {'batch_size': 128, \n",
    "                         'num_ens': 30\n",
    "                         },\n",
    "        'data_hparams': {'test_dataset_path': \"/home/jupyter/data/saved_datasets/testdataset_single_forecast_only_log_trans_.pkl\"}\n",
    "        \n",
    "}\n",
    "\n",
    "json.dump(args, open('../experiments/eval_broadleingan_single_forecast_tp_input.json', 'w'))"
   ]
  },
  {
   "cell_type": "markdown",
   "id": "49cb955b",
   "metadata": {},
   "source": [
    "### Leingan with ens10 tp random - gen loss: ens_mean_L1_weighted"
   ]
  },
  {
   "cell_type": "code",
   "execution_count": 1,
   "id": "8d3e52ff",
   "metadata": {},
   "outputs": [],
   "source": [
    "import json\n",
    "args = {'gan': 'base2',\n",
    "        'seed': 0,\n",
    "        'gpu':1,\n",
    "        'save_hparams':{'save_dir': '/home/jupyter/data/saved_models/', \n",
    "                       'run_name': 'leingan/ens10_tp/random/ens_mean_L1_weighted_gen_loss/', \n",
    "                       'run_number': 3                       \n",
    "                      },\n",
    "        'model_path': '/home/jupyter/data/saved_models/leingan/ens10_tp/random/ens_mean_L1_weighted_gen_loss/3/epoch=349-step=234499.ckpt',\n",
    "        'eval_hparams': {'batch_size': 128, \n",
    "                         'num_ens': 30\n",
    "                         },\n",
    "        'data_hparams': {'test_dataset_path': \"/home/jupyter/data/saved_datasets/testdataset_ensemble_forecast_x10_tp_random_log_trans_first_days_5.pkl\"}\n",
    "        \n",
    "}\n",
    "\n",
    "json.dump(args, open('../experiments/eval_leingan_ens10_tp_random_input_ens_mean_L1_weighted_gen_loss.json', 'w'))"
   ]
  },
  {
   "cell_type": "markdown",
   "id": "905b1815",
   "metadata": {},
   "source": [
    "### Leingan super-resolution eval with ens10 tp stacked"
   ]
  },
  {
   "cell_type": "code",
   "execution_count": 11,
   "id": "7e5b007f",
   "metadata": {},
   "outputs": [],
   "source": [
    "import json\n",
    "args = {'gan': 'base2',\n",
    "        'seed': 0,\n",
    "        'gpu':1,\n",
    "        'super_resolution': True,\n",
    "        'save_hparams':{'save_dir': '/home/jupyter/data/saved_models/', \n",
    "                       'run_name': 'leingan/single_forecast_tp_pure_sr_pretraining/', \n",
    "                       'run_number': 0                       \n",
    "                      },\n",
    "        'model_path': '/home/jupyter/data/saved_models/leingan/single_forecast_tp_pure_sr_pretraining/0/epoch=199-step=133999.ckpt',\n",
    "        'eval_hparams': {'batch_size': 128, \n",
    "                         'num_ens': 10\n",
    "                         },\n",
    "        'data_hparams': {'test_dataset_path': \"/home/jupyter/data/saved_datasets/testdataset_ensemble_forecast_x10_tp_stacked_log_trans_first_days_5.pkl\"}\n",
    "        \n",
    "}\n",
    "\n",
    "json.dump(args, open('../experiments/eval_leingan_pure_sr_on_ens10_tp_stacked.json', 'w'))"
   ]
  },
  {
   "cell_type": "markdown",
   "id": "5e538bfd",
   "metadata": {},
   "source": []
  },
  {
   "cell_type": "markdown",
   "id": "ff5f2cb1",
   "metadata": {},
   "source": [
    "### Leingan with broadfield channel and extra variables: total column water"
   ]
  },
  {
   "cell_type": "code",
   "execution_count": 1,
   "id": "7e9fb987",
   "metadata": {},
   "outputs": [],
   "source": [
    "import json\n",
    "args = {'gan': 'base2',\n",
    "        'seed': 0,\n",
    "        'gpu': 0,\n",
    "        'save_hparams':{'save_dir': '/home/jupyter/data/saved_models/', \n",
    "                       'run_name': 'leingan/single_forecast_tp_broadfield_channel_added_vars_TCW/', \n",
    "                       'run_number': 1               \n",
    "                      },\n",
    "        'model_path': '/home/jupyter/data/saved_models/leingan/single_forecast_tp_broadfield_channel_added_vars_TCW/1/epoch=919-step=477479.ckpt',\n",
    "        'eval_hparams': {'batch_size': 128, \n",
    "                         'num_ens': 30\n",
    "                         },\n",
    "        'data_hparams': {'test_dataset_path': \"/home/jupyter/data/saved_datasets/testdataset_single_forecast_tp_extra_vars_TCW_log_trans_padded_10_channel_first_days_5.pkl\"}\n",
    "        \n",
    "}\n",
    "\n",
    "json.dump(args, open('../experiments/eval_leingan_single_forecast_tp_broadfield_channel_added_vars_TCW.json', 'w'))"
   ]
  },
  {
   "cell_type": "code",
   "execution_count": null,
   "id": "f93c6aeb",
   "metadata": {},
   "outputs": [],
   "source": []
  },
  {
   "cell_type": "markdown",
   "id": "8a3067b1",
   "metadata": {},
   "source": [
    "### Leingan with ent10 tp, broadfield channel and extra variables: total column water"
   ]
  },
  {
   "cell_type": "code",
   "execution_count": 1,
   "id": "82f3c2f0",
   "metadata": {},
   "outputs": [],
   "source": [
    "import json\n",
    "args = {'gan': 'base2',\n",
    "        'seed': 0,\n",
    "        'gpu': 0,\n",
    "        'save_hparams':{'save_dir': '/home/jupyter/data/saved_models/', \n",
    "                       'run_name': 'leingan/ens10_tp_and_added_vars_TCW_broadfield_channel/', \n",
    "                       'run_number': 15              \n",
    "                      },\n",
    "        'model_path': '/home/jupyter/data/saved_models/leingan/ens10_tp_and_added_vars_TCW_broadfield_channel/15/epoch=499-step=258499.ckpt',\n",
    "        'eval_hparams': {'batch_size': 128, \n",
    "                         'num_ens': 30\n",
    "                         },\n",
    "        'data_hparams': {'test_dataset_path': \"/home/jupyter/data/saved_datasets/testdataset_ensemble_tp_extra_vars_TCW_x10_log_trans_padded_10_channel_first_days_5.pkl\"}\n",
    "        \n",
    "}\n",
    "\n",
    "json.dump(args, open('../experiments/eval_leingan_ensemble_tp_and_added_vars_TCW_with_broadfield_channel2.json', 'w'))"
   ]
  },
  {
   "cell_type": "code",
   "execution_count": null,
   "id": "90057557",
   "metadata": {},
   "outputs": [],
   "source": []
  },
  {
   "cell_type": "markdown",
   "id": "36c65024",
   "metadata": {},
   "source": [
    "### Test"
   ]
  },
  {
   "cell_type": "code",
   "execution_count": 2,
   "id": "ed1fc9e6",
   "metadata": {},
   "outputs": [],
   "source": [
    "# args = {'gan': 'base',\n",
    "#         'seed': 0,\n",
    "#         'save_hparams':{'save_dir': '/home/jupyter/data/saved_models/', \n",
    "#                        'run_name': 'leingan/ens10_temperature/', \n",
    "#                        'run_number': 0                       \n",
    "#                       },\n",
    "#         'model_path': '/home/jupyter/data/saved_models/leingan/ens10_temperature/0/epoch=149-step=100499.ckpt',\n",
    "#         'eval_hparams': {'batch_size': 128, \n",
    "#                          'num_ens': 50\n",
    "#                          },\n",
    "#         'data_hparams': {'test_dataset_path': \"/home/jupyter/data/saved_datasets/testdataset_ensemble_forecast_x10_log_trans_sample.pkl\"}\n",
    "        \n",
    "# }\n",
    "\n",
    "# json.dump(args, open('../experiments/eval_test.json', 'w'))"
   ]
  },
  {
   "cell_type": "markdown",
   "id": "232855cc",
   "metadata": {},
   "source": [
    "# Models to eval:"
   ]
  },
  {
   "cell_type": "code",
   "execution_count": 2,
   "id": "0a4bed2f",
   "metadata": {},
   "outputs": [],
   "source": [
    "import json\n",
    "\n",
    "models = {1: '/home/jupyter/nwp-downscale/experiments/eval_wgan-gp_single_forecast_tp.json',\n",
    "          2: '/home/jupyter/nwp-downscale/experiments/eval_wgan-gp-smoothed_single_forecast_tp.json',\n",
    "          3: '/home/jupyter/nwp-downscale/experiments/eval_leingan_single_forecast_tp_input.json',\n",
    "          4: '/home/jupyter/nwp-downscale/experiments/eval_leingan_single_forecast_tp_with_consts_input.json',\n",
    "          5: '/home/jupyter/nwp-downscale/experiments/eval_leingan_ens10_tp_stacked_input.json',\n",
    "          6: '/home/jupyter/nwp-downscale/experiments/eval_leingan_ens10_tp_random_input.json',\n",
    "          7: '/home/jupyter/nwp-downscale/experiments/eval_leingan_ens10_tp_random_added_vars_TCW-T-CAPE-CIN.json',\n",
    "          8: '/home/jupyter/nwp-downscale/experiments/eval_leingan_single_forecast_tp_added_vars_TCW.json', \n",
    "          9: '/home/jupyter/nwp-downscale/experiments/eval_leingan_ens10_tp_random_input_ens_mean_L1_weighted_gen_loss.json', \n",
    "          10: '/home/jupyter/nwp-downscale/experiments/eval_leingan_pure_sr_on_ens10_tp_stacked.json', \n",
    "          11: '/home/jupyter/nwp-downscale/experiments/eval_leingan_single_forecast_tp_broadfield_channel_added_vars_TCW.json', \n",
    "          12: '/home/jupyter/nwp-downscale/experiments/eval_leingan_ensemble_tp_and_added_vars_TCW_with_broadfield_channel.json'\n",
    "         }\n",
    "\n",
    "json.dump(models, open('../experiments/model_eval_config_paths.json', 'w'))"
   ]
  },
  {
   "cell_type": "code",
   "execution_count": null,
   "id": "fd666840",
   "metadata": {},
   "outputs": [],
   "source": []
  }
 ],
 "metadata": {
  "environment": {
   "name": "common-cu110.m78",
   "type": "gcloud",
   "uri": "gcr.io/deeplearning-platform-release/base-cu110:m78"
  },
  "kernelspec": {
   "display_name": "Python [conda env:ilan]",
   "language": "python",
   "name": "conda-env-ilan-py"
  },
  "language_info": {
   "codemirror_mode": {
    "name": "ipython",
    "version": 3
   },
   "file_extension": ".py",
   "mimetype": "text/x-python",
   "name": "python",
   "nbconvert_exporter": "python",
   "pygments_lexer": "ipython3",
   "version": "3.9.5"
  }
 },
 "nbformat": 4,
 "nbformat_minor": 5
}
