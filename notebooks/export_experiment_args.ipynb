{
 "cells": [
  {
   "cell_type": "code",
   "execution_count": 1,
   "id": "0b860cc7",
   "metadata": {},
   "outputs": [],
   "source": [
    "import json"
   ]
  },
  {
   "cell_type": "markdown",
   "id": "3a500b39",
   "metadata": {},
   "source": [
    "### Leingan with ens10 tp stacked"
   ]
  },
  {
   "cell_type": "code",
   "execution_count": 2,
   "id": "d2c3445b",
   "metadata": {},
   "outputs": [],
   "source": [
    "args = {'gan': 'base',\n",
    "        'seed': 0,\n",
    "        'save_hparams':{'save_dir': '/home/jupyter/data/saved_models/', \n",
    "                       'run_name': 'leingan/ens10_tp/stacked/', \n",
    "                       'run_number': 0                       \n",
    "                      },\n",
    "        'gan_hparams': {'generator': 'leingen',\n",
    "                        'discriminator': 'leindisc',\n",
    "                        'noise_shape' : (1, 16, 16),\n",
    "                        'input_channels' : 10,\n",
    "                        'disc_lr' : 1e-4,\n",
    "                        'gen_lr' : 1e-4,\n",
    "                        'lambda_gp' : 10,\n",
    "                        'gen_freq' : 1, \n",
    "                        'disc_freq':5, \n",
    "                        'disc_spectral_norm' : False,\n",
    "                        'gen_spectral_norm' : False, \n",
    "                        'loss_type' : \"wasserstein\",     \n",
    "                        'val_hparams' : {'val_nens':10}\n",
    "                       },\n",
    "        'train_hparams': {'epochs': 150, \n",
    "                          'gpus': 4, \n",
    "                          'batch_size': 64\n",
    "                         },\n",
    "        'data_hparams': {'train_dataset_path': \"/home/jupyter/data/saved_datasets/traindataset_ensemble_forecast_x10_log_trans_full.pkl\",\n",
    "                        'valid_dataset_path': \"/home/jupyter/data/saved_datasets/validdataset_ensemble_forecast_x10_log_trans_full.pkl\"}\n",
    "        \n",
    "}\n",
    "\n",
    "json.dump(args, open('../experiments/leingan_ens10_tp_stacked_input.json', 'w'))"
   ]
  },
  {
   "cell_type": "markdown",
   "id": "649ab507",
   "metadata": {},
   "source": [
    "### Leingan with ens10 temp random"
   ]
  },
  {
   "cell_type": "code",
   "execution_count": 3,
   "id": "41a68ee4",
   "metadata": {},
   "outputs": [],
   "source": [
    "args = {'gan': 'base',\n",
    "        'seed': 0,\n",
    "        'save_hparams':{'save_dir': '/home/jupyter/data/saved_models/', \n",
    "                       'run_name': 'leingan/ens10_tp/random/', \n",
    "                       'run_number': 0                       \n",
    "                      },\n",
    "        'gan_hparams': {'generator': 'leingen',\n",
    "                        'discriminator': 'leindisc',\n",
    "                        'noise_shape' : (1, 16, 16),\n",
    "                        'input_channels' : 1,\n",
    "                        'disc_lr' : 1e-4,\n",
    "                        'gen_lr' : 1e-4,\n",
    "                        'lambda_gp' : 10,\n",
    "                        'gen_freq' : 1, \n",
    "                        'disc_freq':5, \n",
    "                        'disc_spectral_norm' : False,\n",
    "                        'gen_spectral_norm' : False, \n",
    "                        'loss_type' : \"wasserstein\",     \n",
    "                        'val_hparams' : {'val_nens':10}\n",
    "                       },\n",
    "        'train_hparams': {'epochs': 200, \n",
    "                          'gpus': 4, \n",
    "                          'batch_size': 64\n",
    "                         },\n",
    "        'data_hparams': {'train_dataset_path': \"/home/jupyter/data/saved_datasets/traindataset_ensemble_forecast_x10_random_log_trans_full.pkl\",\n",
    "                        'valid_dataset_path': \"/home/jupyter/data/saved_datasets/validdataset_ensemble_forecast_x10_random_log_trans_full.pkl\"}\n",
    "        \n",
    "}\n",
    "\n",
    "json.dump(args, open('../experiments/leingan_ens10_tp_random_input.json', 'w'))"
   ]
  },
  {
   "cell_type": "markdown",
   "id": "4f415207",
   "metadata": {},
   "source": [
    "### Leingan with ens10 temp random lower lr"
   ]
  },
  {
   "cell_type": "code",
   "execution_count": 4,
   "id": "b9999520",
   "metadata": {},
   "outputs": [],
   "source": [
    "args = {'gan': 'base',\n",
    "        'seed': 0,\n",
    "        'save_hparams':{'save_dir': '/home/jupyter/data/saved_models/', \n",
    "                       'run_name': 'leingan/ens10_tp/random/', \n",
    "                       'run_number': 1                       \n",
    "                      },\n",
    "        'gan_hparams': {'generator': 'leingen',\n",
    "                        'discriminator': 'leindisc',\n",
    "                        'noise_shape' : (1, 16, 16),\n",
    "                        'input_channels' : 1,\n",
    "                        'disc_lr' : 5e-5,\n",
    "                        'gen_lr' : 5e-5,\n",
    "                        'lambda_gp' : 10,\n",
    "                        'gen_freq' : 1, \n",
    "                        'disc_freq':5, \n",
    "                        'disc_spectral_norm' : False,\n",
    "                        'gen_spectral_norm' : False, \n",
    "                        'loss_type' : \"wasserstein\",     \n",
    "                        'val_hparams' : {'val_nens':10}\n",
    "                       },\n",
    "        'train_hparams': {'epochs': 200, \n",
    "                          'gpus': 4, \n",
    "                          'batch_size': 64\n",
    "                         },\n",
    "        'data_hparams': {'train_dataset_path': \"/home/jupyter/data/saved_datasets/traindataset_ensemble_forecast_x10_random_log_trans_full.pkl\",\n",
    "                        'valid_dataset_path': \"/home/jupyter/data/saved_datasets/validdataset_ensemble_forecast_x10_random_log_trans_full.pkl\"}\n",
    "        \n",
    "}\n",
    "\n",
    "json.dump(args, open('../experiments/leingan_ens10_tp_random_input_low_lr.json', 'w'))"
   ]
  },
  {
   "cell_type": "markdown",
   "id": "ec8fbfb9",
   "metadata": {},
   "source": [
    "### Leingan with ens10 temp discriminator Spectral Norm"
   ]
  },
  {
   "cell_type": "code",
   "execution_count": 5,
   "id": "3468756b",
   "metadata": {},
   "outputs": [],
   "source": [
    "args = {'gan': 'base',\n",
    "        'seed': 0,\n",
    "        'save_hparams':{'save_dir': '/home/jupyter/data/saved_models/', \n",
    "                       'run_name': 'leingan/ens10_tp/random/', \n",
    "                       'run_number': 2                       \n",
    "                      },\n",
    "        'gan_hparams': {'generator': 'leingen',\n",
    "                        'discriminator': 'leindisc',\n",
    "                        'noise_shape' : (1, 16, 16),\n",
    "                        'input_channels' : 1,\n",
    "                        'disc_lr' : 1e-4,\n",
    "                        'gen_lr' : 1e-4,\n",
    "                        'lambda_gp' : 10,\n",
    "                        'gen_freq' : 1, \n",
    "                        'disc_freq':5, \n",
    "                        'disc_spectral_norm' : True,\n",
    "                        'gen_spectral_norm' : False, \n",
    "                        'loss_type' : \"wasserstein\",     \n",
    "                        'val_hparams' : {'val_nens':10}\n",
    "                       },\n",
    "        'train_hparams': {'epochs': 200, \n",
    "                          'gpus': 4, \n",
    "                          'batch_size': 64\n",
    "                         },\n",
    "        'data_hparams': {'train_dataset_path': \"/home/jupyter/data/saved_datasets/traindataset_ensemble_forecast_x10_random_log_trans_full.pkl\",\n",
    "                        'valid_dataset_path': \"/home/jupyter/data/saved_datasets/validdataset_ensemble_forecast_x10_random_log_trans_full.pkl\"}\n",
    "        \n",
    "}\n",
    "\n",
    "json.dump(args, open('../experiments/leingan_ens10_tp_discSN_random_input.json', 'w'))"
   ]
  },
  {
   "cell_type": "markdown",
   "id": "e98b2f1a",
   "metadata": {},
   "source": [
    "### Leingan with ens10 temp and constants"
   ]
  },
  {
   "cell_type": "code",
   "execution_count": 6,
   "id": "8c159694",
   "metadata": {},
   "outputs": [],
   "source": [
    "args = {'gan': 'base',\n",
    "        'seed': 0,\n",
    "        'save_hparams':{'save_dir': '/home/jupyter/data/saved_models/', \n",
    "                       'run_name': 'leingan/ens10_temperature_with_consts/', \n",
    "                       'run_number': 0                       \n",
    "                      },\n",
    "        'gan_hparams': {'generator': 'leingen',\n",
    "                        'discriminator': 'leindisc',\n",
    "                        'noise_shape' : (1, 16, 16),\n",
    "                        'input_channels' : 12,\n",
    "                        'disc_lr' : 1e-4,\n",
    "                        'gen_lr' : 1e-4,\n",
    "                        'lambda_gp' : 10,\n",
    "                        'gen_freq' : 1, \n",
    "                        'disc_freq':5, \n",
    "                        'disc_spectral_norm' : False,\n",
    "                        'gen_spectral_norm' : False, \n",
    "                        'loss_type' : \"wasserstein\",     \n",
    "                        'val_hparams' : {'val_nens':10}\n",
    "                       },\n",
    "        'train_hparams': {'epochs': 200, \n",
    "                          'gpus': 4, \n",
    "                          'batch_size': 64\n",
    "                         },\n",
    "        'data_hparams': {'train_dataset_path': \"/home/jupyter/data/saved_datasets/traindataset_ensemble_forecast_x10_orog_lsm_log_trans_full.pkl\",\n",
    "                        'valid_dataset_path': \"/home/jupyter/data/saved_datasets/validdataset_ensemble_forecast_x10_orog_lsm_log_trans_full.pkl\"}\n",
    "        \n",
    "}\n",
    "\n",
    "json.dump(args, open('../experiments/leingan_ens10_tp_with_constants_input.json', 'w'))"
   ]
  },
  {
   "cell_type": "markdown",
   "id": "afb7b39c",
   "metadata": {},
   "source": [
    "### Leingan with constants"
   ]
  },
  {
   "cell_type": "code",
   "execution_count": 7,
   "id": "644faea4",
   "metadata": {},
   "outputs": [],
   "source": [
    "args = {'gan': 'base',\n",
    "        'seed': 0,\n",
    "        'save_hparams':{'save_dir': '/home/jupyter/data/saved_models/', \n",
    "                       'run_name': 'leingan/single_forecast_with_consts/', \n",
    "                       'run_number': 0                       \n",
    "                      },\n",
    "        'gan_hparams': {'generator': 'leingen',\n",
    "                        'discriminator': 'leindisc',\n",
    "                        'noise_shape' : (1, 16, 16),\n",
    "                        'input_channels' : 3,\n",
    "                        'disc_lr' : 1e-4,\n",
    "                        'gen_lr' : 1e-4,\n",
    "                        'lambda_gp' : 10,\n",
    "                        'gen_freq' : 1, \n",
    "                        'disc_freq':5, \n",
    "                        'disc_spectral_norm' : False,\n",
    "                        'gen_spectral_norm' : False, \n",
    "                        'loss_type' : \"wasserstein\",     \n",
    "                        'val_hparams' : {'val_nens':10}\n",
    "                       },\n",
    "        'train_hparams': {'epochs': 200, \n",
    "                          'gpus': 4, \n",
    "                          'batch_size': 64\n",
    "                         },\n",
    "        'data_hparams': {'train_dataset_path': \"/home/jupyter/data/saved_datasets/traindataset_single_forecast_orog_lsm_log_trans_full.pkl\",\n",
    "                        'valid_dataset_path': \"/home/jupyter/data/saved_datasets/validdataset_single_forecast_orog_lsm_log_trans_full.pkl\"}\n",
    "        \n",
    "}\n",
    "\n",
    "json.dump(args, open('../experiments/leingan_single_forecast_with_constants_input.json', 'w'))"
   ]
  },
  {
   "cell_type": "markdown",
   "id": "14c2e6ef",
   "metadata": {},
   "source": [
    "### Leingan with constants low lr"
   ]
  },
  {
   "cell_type": "code",
   "execution_count": 8,
   "id": "fec6399c",
   "metadata": {},
   "outputs": [],
   "source": [
    "args = {'gan': 'base',\n",
    "        'seed': 0,\n",
    "        'save_hparams':{'save_dir': '/home/jupyter/data/saved_models/', \n",
    "                       'run_name': 'leingan/single_forecast_with_consts/', \n",
    "                       'run_number': 1                       \n",
    "                      },\n",
    "        'gan_hparams': {'generator': 'leingen',\n",
    "                        'discriminator': 'leindisc',\n",
    "                        'noise_shape' : (1, 16, 16),\n",
    "                        'input_channels' : 3,\n",
    "                        'disc_lr' : 5e-5,\n",
    "                        'gen_lr' : 5e-5,\n",
    "                        'lambda_gp' : 10,\n",
    "                        'gen_freq' : 1, \n",
    "                        'disc_freq':5, \n",
    "                        'disc_spectral_norm' : False,\n",
    "                        'gen_spectral_norm' : False, \n",
    "                        'loss_type' : \"wasserstein\",     \n",
    "                        'val_hparams' : {'val_nens':10}\n",
    "                       },\n",
    "        'train_hparams': {'epochs': 200, \n",
    "                          'gpus': 4, \n",
    "                          'batch_size': 64\n",
    "                         },\n",
    "        'data_hparams': {'train_dataset_path': \"/home/jupyter/data/saved_datasets/traindataset_single_forecast_orog_lsm_log_trans_full.pkl\",\n",
    "                        'valid_dataset_path': \"/home/jupyter/data/saved_datasets/validdataset_single_forecast_orog_lsm_log_trans_full.pkl\"}\n",
    "        \n",
    "}\n",
    "\n",
    "json.dump(args, open('../experiments/leingan_single_forecast_with_constants_input_low_lr.json', 'w'))"
   ]
  },
  {
   "cell_type": "code",
   "execution_count": null,
   "id": "87092150",
   "metadata": {},
   "outputs": [],
   "source": []
  },
  {
   "cell_type": "code",
   "execution_count": null,
   "id": "614b3602",
   "metadata": {},
   "outputs": [],
   "source": []
  },
  {
   "cell_type": "markdown",
   "id": "7a412ef9",
   "metadata": {},
   "source": [
    "# Eval args"
   ]
  },
  {
   "cell_type": "markdown",
   "id": "72f35e30",
   "metadata": {},
   "source": [
    "### Leingan with ens10 temp stacked"
   ]
  },
  {
   "cell_type": "code",
   "execution_count": 16,
   "id": "b7d4a25e",
   "metadata": {},
   "outputs": [],
   "source": [
    "args = {'gan': 'base',\n",
    "        'seed': 0,\n",
    "        'gpu':0,\n",
    "        'save_hparams':{'save_dir': '/home/jupyter/data/saved_models/', \n",
    "                       'run_name': 'leingan/ens10_tp/stacked/', \n",
    "                       'run_number': 0                       \n",
    "                      },\n",
    "        'model_path': '/home/jupyter/data/saved_models/leingan/ens10_tp/stacked/0/epoch=149-step=100499.ckpt',\n",
    "        'eval_hparams': {'batch_size': 128, \n",
    "                         'num_ens': 30\n",
    "                         },\n",
    "        'data_hparams': {'test_dataset_path': \"/home/jupyter/data/saved_datasets/testdataset_ensemble_forecast_x10_log_trans_sample.pkl\"}\n",
    "        \n",
    "}\n",
    "\n",
    "json.dump(args, open('../experiments/eval_leingan_ens10_tp_stacked_input.json', 'w'))"
   ]
  },
  {
   "cell_type": "markdown",
   "id": "00531da4",
   "metadata": {},
   "source": [
    "### Leingan with ens10 temp random"
   ]
  },
  {
   "cell_type": "code",
   "execution_count": 17,
   "id": "0eb6a6bc",
   "metadata": {},
   "outputs": [],
   "source": [
    "args = {'gan': 'base',\n",
    "        'seed': 0,\n",
    "        'gpu':1,\n",
    "        'save_hparams':{'save_dir': '/home/jupyter/data/saved_models/', \n",
    "                       'run_name': 'leingan/ens10_tp/random/', \n",
    "                       'run_number': 1                       \n",
    "                      },\n",
    "        'model_path': '/home/jupyter/data/saved_models/leingan/ens10_tp/random/1/epoch=199-step=133999.ckpt',\n",
    "        'eval_hparams': {'batch_size': 128, \n",
    "                         'num_ens': 30\n",
    "                         },\n",
    "        'data_hparams': {'test_dataset_path': \"/home/jupyter/data/saved_datasets/testdataset_ensemble_forecast_x10_random_log_trans_sample.pkl\"}\n",
    "        \n",
    "}\n",
    "\n",
    "json.dump(args, open('../experiments/eval_leingan_ens10_tp_random_input.json', 'w'))"
   ]
  },
  {
   "cell_type": "markdown",
   "id": "6458d962",
   "metadata": {},
   "source": [
    "### Leingan with single forecast"
   ]
  },
  {
   "cell_type": "code",
   "execution_count": 18,
   "id": "9d202e20",
   "metadata": {},
   "outputs": [],
   "source": [
    "args = {'gan': 'base',\n",
    "        'seed': 0,\n",
    "        'gpu':2,\n",
    "        'save_hparams':{'save_dir': '/home/jupyter/data/saved_models/', \n",
    "                       'run_name': 'leingan/single_forecast/', \n",
    "                       'run_number': 0                       \n",
    "                      },\n",
    "        'model_path': '/home/jupyter/data/saved_models/leingan/single_forecast/0/epoch=120-step=324279.ckpt',\n",
    "        'eval_hparams': {'batch_size': 128, \n",
    "                         'num_ens': 30\n",
    "                         },\n",
    "        'data_hparams': {'test_dataset_path': \"/home/jupyter/data/saved_datasets/testdataset_single_forecast_only_log_trans_sample.pkl\"}\n",
    "        \n",
    "}\n",
    "\n",
    "json.dump(args, open('../experiments/eval_leingan_single_forecast_input.json', 'w'))"
   ]
  },
  {
   "cell_type": "markdown",
   "id": "3c08fa5c",
   "metadata": {},
   "source": [
    "### Leingan with single forecast with constants"
   ]
  },
  {
   "cell_type": "code",
   "execution_count": 19,
   "id": "455e51fc",
   "metadata": {},
   "outputs": [],
   "source": [
    "args = {'gan': 'base',\n",
    "        'seed': 0,\n",
    "        'gpu':3,\n",
    "        'save_hparams':{'save_dir': '/home/jupyter/data/saved_models/', \n",
    "                       'run_name': 'leingan/single_forecast_with_consts/', \n",
    "                       'run_number': 1                       \n",
    "                      },\n",
    "        'model_path': '/home/jupyter/data/saved_models/leingan/single_forecast_with_consts/1/epoch=199-step=133999.ckpt',\n",
    "        'eval_hparams': {'batch_size': 128, \n",
    "                         'num_ens': 30\n",
    "                         },\n",
    "        'data_hparams': {'test_dataset_path': \"/home/jupyter/data/saved_datasets/testdataset_single_forecast_orog_lsm_log_trans_sample.pkl\"}\n",
    "        \n",
    "}\n",
    "\n",
    "json.dump(args, open('../experiments/eval_leingan_single_forecast_with_consts_input.json', 'w'))"
   ]
  },
  {
   "cell_type": "markdown",
   "id": "8845c46b",
   "metadata": {},
   "source": [
    "### wgan-gp single forecast"
   ]
  },
  {
   "cell_type": "code",
   "execution_count": 20,
   "id": "959cec86",
   "metadata": {},
   "outputs": [],
   "source": [
    "args = {'gan': 'wgan-gp',\n",
    "        'seed': 0,\n",
    "        'gpu':0,\n",
    "        'save_hparams':{'save_dir': '/home/jupyter/data/saved_models/', \n",
    "                       'run_name': 'wgan-gp/', \n",
    "                       'run_number': 0                       \n",
    "                      },\n",
    "        'model_path': '/home/jupyter/data/saved_models/wgan-gp/0/epoch=124-step=334999.ckpt',\n",
    "        'eval_hparams': {'batch_size': 128, \n",
    "                         'num_ens': 30\n",
    "                         },\n",
    "        'data_hparams': {'test_dataset_path': \"/home/jupyter/data/saved_datasets/testdataset_single_forecast_only_log_trans_sample.pkl\"}\n",
    "        \n",
    "}\n",
    "\n",
    "json.dump(args, open('../experiments/eval_wgan-gp_single_forecast.json', 'w'))"
   ]
  },
  {
   "cell_type": "markdown",
   "id": "78ac23ab",
   "metadata": {},
   "source": [
    "### wgan-gp-smoothed single forecast"
   ]
  },
  {
   "cell_type": "code",
   "execution_count": 21,
   "id": "83edeac2",
   "metadata": {},
   "outputs": [],
   "source": [
    "args = {'gan': 'wgan-gp',\n",
    "        'seed': 0,\n",
    "        'gpu':1,\n",
    "        'save_hparams':{'save_dir': '/home/jupyter/data/saved_models/', \n",
    "                       'run_name': 'wgan-gp-smoothed/', \n",
    "                       'run_number': 0                       \n",
    "                      },\n",
    "        'model_path': '/home/jupyter/data/saved_models/wgan-gp-smoothed/0/epoch=123-step=332319.ckpt',\n",
    "        'eval_hparams': {'batch_size': 128, \n",
    "                         'num_ens': 30\n",
    "                         },\n",
    "        'data_hparams': {'test_dataset_path': \"/home/jupyter/data/saved_datasets/testdataset_single_forecast_only_log_trans_sample.pkl\"}\n",
    "        \n",
    "}\n",
    "\n",
    "json.dump(args, open('../experiments/eval_wgan-gp-smoothed_single_forecast.json', 'w'))"
   ]
  },
  {
   "cell_type": "markdown",
   "id": "858a1088",
   "metadata": {},
   "source": [
    "### Broadleingan single forecast"
   ]
  },
  {
   "cell_type": "code",
   "execution_count": 22,
   "id": "b34b68a9",
   "metadata": {},
   "outputs": [],
   "source": [
    "args = {'gan': 'leingan',\n",
    "        'seed': 0,\n",
    "        'gpu':2,\n",
    "        'save_hparams':{'save_dir': '/home/jupyter/data/saved_models/', \n",
    "                       'run_name': 'broadleingan/', \n",
    "                       'run_number': 0                       \n",
    "                      },\n",
    "        'model_path': '/home/jupyter/data/saved_models/broadleingan/0/epoch=343-step=358791.ckpt',\n",
    "        'eval_hparams': {'batch_size': 128, \n",
    "                         'num_ens': 30\n",
    "                         },\n",
    "        'data_hparams': {'test_dataset_path': \"/home/jupyter/data/saved_datasets/testdataset_single_forecast_only_log_trans_.pkl\"}\n",
    "        \n",
    "}\n",
    "\n",
    "json.dump(args, open('../experiments/eval_broadleingan_single_forecast_input.json', 'w'))"
   ]
  },
  {
   "cell_type": "markdown",
   "id": "d68fc79d",
   "metadata": {},
   "source": [
    "### Test"
   ]
  },
  {
   "cell_type": "code",
   "execution_count": null,
   "id": "c2fc0633",
   "metadata": {},
   "outputs": [],
   "source": [
    "# args = {'gan': 'base',\n",
    "#         'seed': 0,\n",
    "#         'save_hparams':{'save_dir': '/home/jupyter/data/saved_models/', \n",
    "#                        'run_name': 'leingan/ens10_temperature/', \n",
    "#                        'run_number': 0                       \n",
    "#                       },\n",
    "#         'model_path': '/home/jupyter/data/saved_models/leingan/ens10_temperature/0/epoch=149-step=100499.ckpt',\n",
    "#         'eval_hparams': {'batch_size': 128, \n",
    "#                          'num_ens': 50\n",
    "#                          },\n",
    "#         'data_hparams': {'test_dataset_path': \"/home/jupyter/data/saved_datasets/testdataset_ensemble_forecast_x10_log_trans_sample.pkl\"}\n",
    "        \n",
    "# }\n",
    "\n",
    "# json.dump(args, open('../experiments/eval_test.json', 'w'))"
   ]
  },
  {
   "cell_type": "markdown",
   "id": "448a744d",
   "metadata": {},
   "source": [
    "# Models to eval:"
   ]
  },
  {
   "cell_type": "code",
   "execution_count": 27,
   "id": "2aeb7ab8",
   "metadata": {},
   "outputs": [],
   "source": [
    "models = {1: '/home/jupyter/nwp-downscale/experiments/eval_wgan-gp_single_forecast.json',\n",
    "          2: '/home/jupyter/nwp-downscale/experiments/eval_wgan-gp-smoothed_single_forecast.json',\n",
    "          3: '/home/jupyter/nwp-downscale/experiments/eval_leingan_single_forecast_input.json',\n",
    "          4: '/home/jupyter/nwp-downscale/experiments/eval_leingan_single_forecast_with_consts_input.json',\n",
    "          5: '/home/jupyter/nwp-downscale/experiments/eval_leingan_ens10_tp_stacked_input.json',\n",
    "          6: '/home/jupyter/nwp-downscale/experiments/eval_leingan_ens10_tp_random_input.json',\n",
    "         }\n",
    "\n",
    "json.dump(models, open('../experiments/model_eval_config_paths.json', 'w'))"
   ]
  },
  {
   "cell_type": "code",
   "execution_count": null,
   "id": "ec847c82",
   "metadata": {},
   "outputs": [],
   "source": []
  }
 ],
 "metadata": {
  "environment": {
   "name": "tf2-gpu.2-3.m74",
   "type": "gcloud",
   "uri": "gcr.io/deeplearning-platform-release/tf2-gpu.2-3:m74"
  },
  "kernelspec": {
   "display_name": "Python [conda env:ilan]",
   "language": "python",
   "name": "conda-env-ilan-py"
  },
  "language_info": {
   "codemirror_mode": {
    "name": "ipython",
    "version": 3
   },
   "file_extension": ".py",
   "mimetype": "text/x-python",
   "name": "python",
   "nbconvert_exporter": "python",
   "pygments_lexer": "ipython3",
   "version": "3.9.5"
  }
 },
 "nbformat": 4,
 "nbformat_minor": 5
}
