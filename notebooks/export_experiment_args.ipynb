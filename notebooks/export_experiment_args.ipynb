{
 "cells": [
  {
   "cell_type": "code",
   "execution_count": 1,
   "id": "e6dc76dd",
   "metadata": {},
   "outputs": [],
   "source": [
    "import json"
   ]
  },
  {
   "cell_type": "markdown",
   "id": "c28107c8",
   "metadata": {},
   "source": [
    "### Leingan with ens10 tp stacked"
   ]
  },
  {
   "cell_type": "code",
   "execution_count": 2,
   "id": "c7b05b5f",
   "metadata": {},
   "outputs": [],
   "source": [
    "args = {'gan': 'base',\n",
    "        'seed': 0,\n",
    "        'save_hparams':{'save_dir': '/home/jupyter/data/saved_models/', \n",
    "                       'run_name': 'leingan/ens10_tp/stacked/', \n",
    "                       'run_number': 0                       \n",
    "                      },\n",
    "        'gan_hparams': {'generaltor': 'leingen',\n",
    "                        'discriminator': 'leindisc',\n",
    "                        'noise_shape' : (1, 16, 16),\n",
    "                        'input_channels' : 10,\n",
    "                        'disc_lr' : 1e-4,\n",
    "                        'gen_lr' : 1e-4,\n",
    "                        'lambda_gp' : 10,\n",
    "                        'gen_freq' : 1, \n",
    "                        'disc_freq':5, \n",
    "                        'disc_spectral_norm' : False,\n",
    "                        'gen_spectral_norm' : False, \n",
    "                        'loss_type' : \"wasserstein\",     \n",
    "                        'val_hparams' : {'val_nens':10}\n",
    "                       },\n",
    "        'train_hparams': {'epochs': 150, \n",
    "                          'gpus': 4, \n",
    "                          'batch_size': 64\n",
    "                         },\n",
    "        'data_hparams': {'train_dataset_path': \"/home/jupyter/data/saved_datasets/traindataset_ensemble_forecast_x10_log_trans_full.pkl\",\n",
    "                        'valid_dataset_path': \"/home/jupyter/data/saved_datasets/validdataset_ensemble_forecast_x10_log_trans_full.pkl\"}\n",
    "        \n",
    "}\n",
    "\n",
    "json.dump(args, open('../experiments/leingan_ens10_tp_stacked_input.json', 'w'))"
   ]
  },
  {
   "cell_type": "markdown",
   "id": "cdcda6f0",
   "metadata": {},
   "source": [
    "### Leingan with ens10 tp random"
   ]
  },
  {
   "cell_type": "code",
   "execution_count": 3,
   "id": "4911d78e",
   "metadata": {},
   "outputs": [],
   "source": [
    "args = {'gan': 'base',\n",
    "        'seed': 0,\n",
    "        'save_hparams':{'save_dir': '/home/jupyter/data/saved_models/', \n",
    "                       'run_name': 'leingan/ens10_tp/random/', \n",
    "                       'run_number': 0                       \n",
    "                      },\n",
    "        'gan_hparams': {'generator': 'leingen',\n",
    "                        'discriminator': 'leindisc',\n",
    "                        'noise_shape' : (1, 16, 16),\n",
    "                        'input_channels' : 1,\n",
    "                        'disc_lr' : 1e-4,\n",
    "                        'gen_lr' : 1e-4,\n",
    "                        'lambda_gp' : 10,\n",
    "                        'gen_freq' : 1, \n",
    "                        'disc_freq':5, \n",
    "                        'disc_spectral_norm' : False,\n",
    "                        'gen_spectral_norm' : False, \n",
    "                        'loss_type' : \"wasserstein\",     \n",
    "                        'val_hparams' : {'val_nens':10}\n",
    "                       },\n",
    "        'train_hparams': {'epochs': 200, \n",
    "                          'gpus': 4, \n",
    "                          'batch_size': 64\n",
    "                         },\n",
    "        'data_hparams': {'train_dataset_path': \"/home/jupyter/data/saved_datasets/traindataset_ensemble_forecast_x10_random_log_trans_full.pkl\",\n",
    "                        'valid_dataset_path': \"/home/jupyter/data/saved_datasets/validdataset_ensemble_forecast_x10_random_log_trans_full.pkl\"}\n",
    "        \n",
    "}\n",
    "\n",
    "json.dump(args, open('../experiments/leingan_ens10_tp_random_input.json', 'w'))"
   ]
  },
  {
   "cell_type": "markdown",
   "id": "74fe9d35",
   "metadata": {},
   "source": [
    "### Leingan with ens10 temp random lower lr"
   ]
  },
  {
   "cell_type": "code",
   "execution_count": 4,
   "id": "976c6105",
   "metadata": {},
   "outputs": [],
   "source": [
    "args = {'gan': 'base',\n",
    "        'seed': 0,\n",
    "        'save_hparams':{'save_dir': '/home/jupyter/data/saved_models/', \n",
    "                       'run_name': 'leingan/ens10_tp/random/', \n",
    "                       'run_number': 1                       \n",
    "                      },\n",
    "        'gan_hparams': {'generator': 'leingen',\n",
    "                        'discriminator': 'leindisc',\n",
    "                        'noise_shape' : (1, 16, 16),\n",
    "                        'input_channels' : 1,\n",
    "                        'disc_lr' : 5e-5,\n",
    "                        'gen_lr' : 5e-5,\n",
    "                        'lambda_gp' : 10,\n",
    "                        'gen_freq' : 1, \n",
    "                        'disc_freq':5, \n",
    "                        'disc_spectral_norm' : False,\n",
    "                        'gen_spectral_norm' : False, \n",
    "                        'loss_type' : \"wasserstein\",     \n",
    "                        'val_hparams' : {'val_nens':10}\n",
    "                       },\n",
    "        'train_hparams': {'epochs': 200, \n",
    "                          'gpus': 4, \n",
    "                          'batch_size': 64\n",
    "                         },\n",
    "        'data_hparams': {'train_dataset_path': \"/home/jupyter/data/saved_datasets/traindataset_ensemble_forecast_x10_random_log_trans_full.pkl\",\n",
    "                        'valid_dataset_path': \"/home/jupyter/data/saved_datasets/validdataset_ensemble_forecast_x10_random_log_trans_full.pkl\"}\n",
    "        \n",
    "}\n",
    "\n",
    "json.dump(args, open('../experiments/leingan_ens10_tp_random_input_low_lr.json', 'w'))"
   ]
  },
  {
   "cell_type": "markdown",
   "id": "cd74deba",
   "metadata": {},
   "source": [
    "### Leingan with ens10 tp random - gen loss: ens_mean_L1_weighted"
   ]
  },
  {
   "cell_type": "code",
   "execution_count": 1,
   "id": "8f19356f",
   "metadata": {},
   "outputs": [],
   "source": [
    "import json\n",
    "args = {'gan': 'base2',\n",
    "        'seed': 0,\n",
    "        'save_hparams':{'save_dir': '/home/jupyter/data/saved_models/', \n",
    "                       'run_name': 'leingan/ens10_tp/random/ens_mean_L1_weighted_gen_loss/', \n",
    "                       'run_number': 3                 \n",
    "                      },\n",
    "        'gan_hparams': {'generator': 'leingen',\n",
    "                        'discriminator': 'leindisc',\n",
    "                        'noise_shape' : (6, 1, 16, 16),\n",
    "                        'input_channels' : 1,\n",
    "                        'disc_lr' : 5e-5,\n",
    "                        'gen_lr' : 5e-5,\n",
    "                        'lambda_gp' : 10,\n",
    "                        'b1': 0.0, \n",
    "                        'b2': 0.9,\n",
    "                        'gen_freq' : 1, \n",
    "                        'disc_freq': 5, \n",
    "                        'disc_spectral_norm' : False,\n",
    "                        'gen_spectral_norm' : False, \n",
    "                        'loss_hparams' : {'gen_loss':\"ens_mean_L1_weighted\", 'disc_loss':'wasserstein','lambda_l1_reg': 10  },     \n",
    "                        'val_hparams' : {'val_nens':10}\n",
    "                       },\n",
    "        'train_hparams': {'epochs': 350, \n",
    "                          'gpus': 4, \n",
    "                          'batch_size': 64\n",
    "                         },\n",
    "        'data_hparams': {'train_dataset_path': \"/home/jupyter/data/saved_datasets/traindataset_ensemble_forecast_x10_tp_random_log_trans.pkl\",\n",
    "                        'valid_dataset_path': \"/home/jupyter/data/saved_datasets/validdataset_ensemble_forecast_x10_tp_random_log_trans.pkl\"}\n",
    "        \n",
    "}\n",
    "\n",
    "json.dump(args, open('../experiments/leingan_ens10_tp_random_input_ens_mean_L1_weighted_gen_loss.json', 'w'))"
   ]
  },
  {
   "cell_type": "code",
   "execution_count": null,
   "id": "51cfc7c0",
   "metadata": {},
   "outputs": [],
   "source": []
  },
  {
   "cell_type": "markdown",
   "id": "a9498369",
   "metadata": {},
   "source": [
    "### Leingan with ens10 temp discriminator Spectral Norm"
   ]
  },
  {
   "cell_type": "code",
   "execution_count": 5,
   "id": "ef5bf475",
   "metadata": {},
   "outputs": [],
   "source": [
    "args = {'gan': 'base',\n",
    "        'seed': 0,\n",
    "        'save_hparams':{'save_dir': '/home/jupyter/data/saved_models/', \n",
    "                       'run_name': 'leingan/ens10_tp/random/', \n",
    "                       'run_number': 2                       \n",
    "                      },\n",
    "        'gan_hparams': {'generator': 'leingen',\n",
    "                        'discriminator': 'leindisc',\n",
    "                        'noise_shape' : (1, 16, 16),\n",
    "                        'input_channels' : 1,\n",
    "                        'disc_lr' : 1e-4,\n",
    "                        'gen_lr' : 1e-4,\n",
    "                        'lambda_gp' : 10,\n",
    "                        'gen_freq' : 1, \n",
    "                        'disc_freq':5, \n",
    "                        'disc_spectral_norm' : True,\n",
    "                        'gen_spectral_norm' : False, \n",
    "                        'loss_type' : \"wasserstein\",     \n",
    "                        'val_hparams' : {'val_nens':10}\n",
    "                       },\n",
    "        'train_hparams': {'epochs': 200, \n",
    "                          'gpus': 4, \n",
    "                          'batch_size': 64\n",
    "                         },\n",
    "        'data_hparams': {'train_dataset_path': \"/home/jupyter/data/saved_datasets/traindataset_ensemble_forecast_x10_random_log_trans_full.pkl\",\n",
    "                        'valid_dataset_path': \"/home/jupyter/data/saved_datasets/validdataset_ensemble_forecast_x10_random_log_trans_full.pkl\"}\n",
    "        \n",
    "}\n",
    "\n",
    "json.dump(args, open('../experiments/leingan_ens10_tp_discSN_random_input.json', 'w'))"
   ]
  },
  {
   "cell_type": "markdown",
   "id": "b6e1c33c",
   "metadata": {},
   "source": [
    "### Leingan with ens10 tp and constants"
   ]
  },
  {
   "cell_type": "code",
   "execution_count": 6,
   "id": "8e0da238",
   "metadata": {},
   "outputs": [],
   "source": [
    "args = {'gan': 'base',\n",
    "        'seed': 0,\n",
    "        'save_hparams':{'save_dir': '/home/jupyter/data/saved_models/', \n",
    "                       'run_name': 'leingan/ens10_tp_with_consts/', \n",
    "                       'run_number': 0                       \n",
    "                      },\n",
    "        'gan_hparams': {'generator': 'leingen',\n",
    "                        'discriminator': 'leindisc',\n",
    "                        'noise_shape' : (1, 16, 16),\n",
    "                        'input_channels' : 12,\n",
    "                        'disc_lr' : 1e-4,\n",
    "                        'gen_lr' : 1e-4,\n",
    "                        'lambda_gp' : 10,\n",
    "                        'gen_freq' : 1, \n",
    "                        'disc_freq':5, \n",
    "                        'disc_spectral_norm' : False,\n",
    "                        'gen_spectral_norm' : False, \n",
    "                        'loss_type' : \"wasserstein\",     \n",
    "                        'val_hparams' : {'val_nens':10}\n",
    "                       },\n",
    "        'train_hparams': {'epochs': 200, \n",
    "                          'gpus': 4, \n",
    "                          'batch_size': 64\n",
    "                         },\n",
    "        'data_hparams': {'train_dataset_path': \"/home/jupyter/data/saved_datasets/traindataset_ensemble_forecast_x10_orog_lsm_log_trans_full.pkl\",\n",
    "                        'valid_dataset_path': \"/home/jupyter/data/saved_datasets/validdataset_ensemble_forecast_x10_orog_lsm_log_trans_full.pkl\"}\n",
    "        \n",
    "}\n",
    "\n",
    "json.dump(args, open('../experiments/leingan_ens10_tp_with_constants_input.json', 'w'))"
   ]
  },
  {
   "cell_type": "markdown",
   "id": "a824d4d1",
   "metadata": {},
   "source": [
    "### Leingan with constants"
   ]
  },
  {
   "cell_type": "code",
   "execution_count": 7,
   "id": "130bf084",
   "metadata": {},
   "outputs": [],
   "source": [
    "args = {'gan': 'base',\n",
    "        'seed': 0,\n",
    "        'save_hparams':{'save_dir': '/home/jupyter/data/saved_models/', \n",
    "                       'run_name': 'leingan/single_forecast_with_consts/', \n",
    "                       'run_number': 0                       \n",
    "                      },\n",
    "        'gan_hparams': {'generator': 'leingen',\n",
    "                        'discriminator': 'leindisc',\n",
    "                        'noise_shape' : (1, 16, 16),\n",
    "                        'input_channels' : 3,\n",
    "                        'disc_lr' : 1e-4,\n",
    "                        'gen_lr' : 1e-4,\n",
    "                        'lambda_gp' : 10,\n",
    "                        'gen_freq' : 1, \n",
    "                        'disc_freq':5, \n",
    "                        'disc_spectral_norm' : False,\n",
    "                        'gen_spectral_norm' : False, \n",
    "                        'loss_type' : \"wasserstein\",     \n",
    "                        'val_hparams' : {'val_nens':10}\n",
    "                       },\n",
    "        'train_hparams': {'epochs': 200, \n",
    "                          'gpus': 4, \n",
    "                          'batch_size': 64\n",
    "                         },\n",
    "        'data_hparams': {'train_dataset_path': \"/home/jupyter/data/saved_datasets/traindataset_single_forecast_orog_lsm_log_trans_full.pkl\",\n",
    "                        'valid_dataset_path': \"/home/jupyter/data/saved_datasets/validdataset_single_forecast_orog_lsm_log_trans_full.pkl\"}\n",
    "        \n",
    "}\n",
    "\n",
    "json.dump(args, open('../experiments/leingan_single_forecast_with_constants_input.json', 'w'))"
   ]
  },
  {
   "cell_type": "markdown",
   "id": "e355d15c",
   "metadata": {},
   "source": [
    "### Leingan with constants low lr"
   ]
  },
  {
   "cell_type": "code",
   "execution_count": 8,
   "id": "10809562",
   "metadata": {},
   "outputs": [],
   "source": [
    "args = {'gan': 'base',\n",
    "        'seed': 0,\n",
    "        'save_hparams':{'save_dir': '/home/jupyter/data/saved_models/', \n",
    "                       'run_name': 'leingan/single_forecast_with_consts/', \n",
    "                       'run_number': 1                       \n",
    "                      },\n",
    "        'gan_hparams': {'generator': 'leingen',\n",
    "                        'discriminator': 'leindisc',\n",
    "                        'noise_shape' : (1, 16, 16),\n",
    "                        'input_channels' : 3,\n",
    "                        'disc_lr' : 5e-5,\n",
    "                        'gen_lr' : 5e-5,\n",
    "                        'lambda_gp' : 10,\n",
    "                        'gen_freq' : 1, \n",
    "                        'disc_freq':5, \n",
    "                        'disc_spectral_norm' : False,\n",
    "                        'gen_spectral_norm' : False, \n",
    "                        'loss_type' : \"wasserstein\",     \n",
    "                        'val_hparams' : {'val_nens':10}\n",
    "                       },\n",
    "        'train_hparams': {'epochs': 200, \n",
    "                          'gpus': 4, \n",
    "                          'batch_size': 64\n",
    "                         },\n",
    "        'data_hparams': {'train_dataset_path': \"/home/jupyter/data/saved_datasets/traindataset_single_forecast_orog_lsm_log_trans_full.pkl\",\n",
    "                        'valid_dataset_path': \"/home/jupyter/data/saved_datasets/validdataset_single_forecast_orog_lsm_log_trans_full.pkl\"}\n",
    "        \n",
    "}\n",
    "\n",
    "json.dump(args, open('../experiments/leingan_single_forecast_with_constants_input_low_lr.json', 'w'))"
   ]
  },
  {
   "cell_type": "markdown",
   "id": "3abd1eaa",
   "metadata": {},
   "source": [
    "### Leingan ensemble x10 tp with extra variables: column water, temperature, convective inhbition, convective avail potential energy"
   ]
  },
  {
   "cell_type": "code",
   "execution_count": 6,
   "id": "a1fe8add",
   "metadata": {},
   "outputs": [],
   "source": [
    "args = {'gan': 'base',\n",
    "        'seed': 0,\n",
    "        'save_hparams':{'save_dir': '/home/jupyter/data/saved_models/', \n",
    "                       'run_name': 'leingan/ens10_tp_added_vars_TCW-T-CAPE-CIN/random/', \n",
    "                       'run_number': 0                       \n",
    "                      },\n",
    "        'gan_hparams': {'generator': 'leingen',\n",
    "                        'discriminator': 'leindisc',\n",
    "                        'noise_shape' : (1, 16, 16),\n",
    "                        'input_channels' : 5,\n",
    "                        'disc_lr' : 1e-5,\n",
    "                        'gen_lr' : 1e-5,\n",
    "                        'lambda_gp' : 10,\n",
    "                        'gen_freq' : 1, \n",
    "                        'disc_freq':5, \n",
    "                        'disc_spectral_norm' : False,\n",
    "                        'gen_spectral_norm' : False, \n",
    "                        'loss_type' : \"wasserstein\",     \n",
    "                        'val_hparams' : {'val_nens':10}\n",
    "                       },\n",
    "        'train_hparams': {'epochs': 500, \n",
    "                          'gpus': 2, \n",
    "                          'batch_size': 64\n",
    "                         },\n",
    "        'data_hparams': {'train_dataset_path': \"/home/jupyter/data/saved_datasets/traindataset_ensemble_forecast_x10_random_extra_vars_TCW-T-CAPE-CIN_log_trans.pkl\",\n",
    "                        'valid_dataset_path': \"/home/jupyter/data/saved_datasets/validdataset_ensemble_forecast_x10_random_extra_vars_TCW-T-CAPE-CIN_log_trans.pkl\"}\n",
    "        \n",
    "}\n",
    "\n",
    "json.dump(args, open('../experiments/leingan_ens10_tp_random_added_vars_TCW-T-CAPE-CIN.json', 'w'))"
   ]
  },
  {
   "cell_type": "markdown",
   "id": "774bf3d3",
   "metadata": {},
   "source": [
    "### Leingan single forcast tpwith extra variables: column water, temperature, convective inhbition, convective avail potential energy"
   ]
  },
  {
   "cell_type": "code",
   "execution_count": 3,
   "id": "8557a06f",
   "metadata": {},
   "outputs": [],
   "source": [
    "import json\n",
    "\n",
    "args = {'gan': 'base',\n",
    "        'seed': 0,\n",
    "        'save_hparams':{'save_dir': '/home/jupyter/data/saved_models/', \n",
    "                       'run_name': 'leingan/single_forecast_tp_added_vars_TCW-T-CAPE-CIN/', \n",
    "                       'run_number': 2                       \n",
    "                      },\n",
    "        'gan_hparams': {'generator': 'leingen',\n",
    "                        'discriminator': 'leindisc',\n",
    "                        'noise_shape' : (1, 16, 16),\n",
    "                        'input_channels' : 5,\n",
    "                        'disc_lr' : 1e-5,\n",
    "                        'gen_lr' : 1e-5,\n",
    "                        'lambda_gp' : 10,\n",
    "                        'gen_freq' : 1, \n",
    "                        'disc_freq':5, \n",
    "                        'disc_spectral_norm' : False,\n",
    "                        'gen_spectral_norm' : False, \n",
    "                        'loss_type' : \"wasserstein\",     \n",
    "                        'val_hparams' : {'val_nens':10}\n",
    "                       },\n",
    "        'train_hparams': {'epochs':500, \n",
    "                          'gpus': 4, \n",
    "                          'batch_size': 64\n",
    "                         },\n",
    "        'data_hparams': {'train_dataset_path': \"/home/jupyter/data/saved_datasets/traindataset_single_forecast_tp_extra_vars_TCW-T-CAPE-CIN_log_trans.pkl\",\n",
    "                        'valid_dataset_path': \"/home/jupyter/data/saved_datasets/validdataset_single_forecast_tp_extra_vars_TCW-T-CAPE-CIN_log_trans.pkl\"}\n",
    "        \n",
    "}\n",
    "\n",
    "json.dump(args, open('../experiments/leingan_single_forecast_tp_added_vars_TCW-T-CAPE-CIN.json', 'w'))"
   ]
  },
  {
   "cell_type": "markdown",
   "id": "d27a5ba7",
   "metadata": {},
   "source": [
    "### Leingan single forcast tpwith extra variables: column water"
   ]
  },
  {
   "cell_type": "code",
   "execution_count": 1,
   "id": "a3323a29",
   "metadata": {},
   "outputs": [],
   "source": [
    "import json\n",
    "\n",
    "args = {'gan': 'base',\n",
    "        'seed': 0,\n",
    "        'save_hparams':{'save_dir': '/home/jupyter/data/saved_models/', \n",
    "                       'run_name': 'leingan/single_forecast_tp_added_vars_TCW/', \n",
    "                       'run_number': 1                       \n",
    "                      },\n",
    "        'gan_hparams': {'generator': 'leingen',\n",
    "                        'discriminator': 'leindisc',\n",
    "                        'noise_shape' : (1, 16, 16),\n",
    "                        'input_channels' : 2,\n",
    "                        'disc_lr' : 5e-5,\n",
    "                        'gen_lr' : 5e-5,\n",
    "                        'lambda_gp' : 10,\n",
    "                        'gen_freq' : 1, \n",
    "                        'disc_freq':5, \n",
    "                        'disc_spectral_norm' : False,\n",
    "                        'gen_spectral_norm' : False, \n",
    "                        'loss_type' : \"wasserstein\",     \n",
    "                        'val_hparams' : {'val_nens':10}\n",
    "                       },\n",
    "        'train_hparams': {'epochs':300, \n",
    "                          'gpus': 3, \n",
    "                          'batch_size': 64\n",
    "                         },\n",
    "        'data_hparams': {'train_dataset_path': \"/home/jupyter/data/saved_datasets/traindataset_single_forecast_tp_extra_vars_TCW_log_trans.pkl\",\n",
    "                        'valid_dataset_path': \"/home/jupyter/data/saved_datasets/validdataset_single_forecast_tp_extra_vars_TCW_log_trans.pkl\"}\n",
    "        \n",
    "}\n",
    "\n",
    "json.dump(args, open('../experiments/leingan_single_forecast_tp_added_vars_TCW.json', 'w'))"
   ]
  },
  {
   "cell_type": "markdown",
   "id": "66c81404",
   "metadata": {},
   "source": [
    "### Leingan single forcast super resolution pretraining"
   ]
  },
  {
   "cell_type": "code",
   "execution_count": 7,
   "id": "81676b8b",
   "metadata": {},
   "outputs": [],
   "source": [
    "import json\n",
    "\n",
    "args = {'gan': 'base2',\n",
    "        'seed': 0,\n",
    "        'save_hparams':{'save_dir': '/home/jupyter/data/saved_models/', \n",
    "                       'run_name': 'leingan/single_forecast_tp_pure_sr_pretraining/', \n",
    "                       'run_number': 0                       \n",
    "                      },\n",
    "        'gan_hparams': {'generator': 'leingen',\n",
    "                        'discriminator': 'leindisc',\n",
    "                        'noise_shape' : (1, 16, 16),\n",
    "                        'zero_noise': True,\n",
    "                        'input_channels' : 1,\n",
    "                        'disc_lr' : 5e-5,\n",
    "                        'gen_lr' : 5e-5,\n",
    "                        'lambda_gp' : 10,\n",
    "                        'b1': 0.0, \n",
    "                        'b2': 0.9,\n",
    "                        'gen_freq' : 1, \n",
    "                        'disc_freq':5, \n",
    "                        'disc_spectral_norm' : False,\n",
    "                        'gen_spectral_norm' : False, \n",
    "                        'loss_hparams' : {'gen_loss':\"wasserstein\", 'disc_loss':'wasserstein','lambda_l1_reg': 0},     \n",
    "                        'val_hparams' : {'val_nens':10}\n",
    "                       },\n",
    "        'train_hparams': {'epochs':200, \n",
    "                          'gpus': 4, \n",
    "                          'batch_size': 64\n",
    "                         },\n",
    "        'data_hparams': {'train_dataset_path': \"/home/jupyter/data/saved_datasets/traindataset_single_forecast_tp_pure_sr_log_trans.pkl\",\n",
    "                        'valid_dataset_path': \"/home/jupyter/data/saved_datasets/validdataset_single_forecast_tp_pure_sr_log_trans.pkl\"}\n",
    "        \n",
    "}\n",
    "\n",
    "json.dump(args, open('../experiments/leingan_single_forecast_tp_pure_sr_pretraining.json', 'w'))"
   ]
  },
  {
   "cell_type": "markdown",
   "id": "b1a49482",
   "metadata": {},
   "source": [
    "### Leingan ens10 random finetuning post sr_pretraining"
   ]
  },
  {
   "cell_type": "code",
   "execution_count": 12,
   "id": "4431d59b",
   "metadata": {},
   "outputs": [],
   "source": [
    "import json\n",
    "\n",
    "args = {'gan': 'base2',\n",
    "        'seed': 0,\n",
    "        'save_hparams':{'save_dir': '/home/jupyter/data/saved_models/', \n",
    "                       'run_name': 'leingan/ens10_tp/random/post_sr_finetuning/', \n",
    "                       'run_number': 0                       \n",
    "                      },\n",
    "        'gan_hparams': {'generator': 'leingen',\n",
    "                        'discriminator': 'leindisc',\n",
    "                        'noise_shape' : (1, 16, 16),\n",
    "                        'zero_noise': False,\n",
    "                        'input_channels' : 1,\n",
    "                        'disc_lr' : 1e-5,\n",
    "                        'gen_lr' : 1e-5,\n",
    "                        'lambda_gp' : 10,\n",
    "                        'b1': 0.0, \n",
    "                        'b2': 0.9,\n",
    "                        'gen_freq' : 1, \n",
    "                        'disc_freq': 5, \n",
    "                        'disc_spectral_norm' : False,\n",
    "                        'gen_spectral_norm' : False, \n",
    "                        'loss_hparams' : {'gen_loss':\"wasserstein\", 'disc_loss':'wasserstein','lambda_l1_reg': 0},     \n",
    "                        'val_hparams' : {'val_nens':10}\n",
    "                       },\n",
    "        'train_hparams': {'epochs':400, \n",
    "                          'gpus':4, \n",
    "                          'batch_size': 64\n",
    "                         },\n",
    "        'data_hparams': {'train_dataset_path': \"/home/jupyter/data/saved_datasets/traindataset_ensemble_forecast_x10_tp_random_log_trans.pkl\",\n",
    "                        'valid_dataset_path': \"/home/jupyter/data/saved_datasets/validdataset_ensemble_forecast_x10_tp_random_log_trans.pkl\"}\n",
    "        \n",
    "}\n",
    "\n",
    "json.dump(args, open('../experiments/leingan_ens10_tp_random_finetuning.json', 'w'))"
   ]
  },
  {
   "cell_type": "markdown",
   "id": "68b7ceca",
   "metadata": {},
   "source": [
    "### BroadLeingan with extra variables: column water"
   ]
  },
  {
   "cell_type": "code",
   "execution_count": 6,
   "id": "dc12acef",
   "metadata": {},
   "outputs": [],
   "source": [
    "import json\n",
    "\n",
    "args = {'gan': 'base2',\n",
    "        'seed': 0,\n",
    "        'save_hparams':{'save_dir': '/home/jupyter/data/saved_models/', \n",
    "                       'run_name': 'broadleingan/ens10_tp_added_vars_TCW/random/', \n",
    "                       'run_number': 7               \n",
    "                      },\n",
    "        'gan_hparams': {'generator': 'broadleingen',\n",
    "                        'discriminator': 'broadleindisc',\n",
    "                        'noise_shape' : (1, 16, 16),\n",
    "                        'zero_noise': False,\n",
    "                        'input_channels' : 2,\n",
    "                        'opt_hparams': {'gen_optimiser':'adam', 'disc_optimiser':'adam', \n",
    "                                        'disc_lr' : 5e-5, 'gen_lr': 5e-5, 'gen_freq' : 1, \n",
    "                                        'disc_freq':5, 'b1':0.0, 'b2' : 0.9},\n",
    "                        'disc_spectral_norm' : False,\n",
    "                        'gen_spectral_norm' : False, \n",
    "                        'loss_hparams' : {'gen_loss':\"wasserstein\", 'disc_loss':'wasserstein','lambda_l1_reg': 0, 'lambda_gp':10},     \n",
    "                        'val_hparams' : {'val_nens':10}\n",
    "                       },\n",
    "        'train_hparams': {'epochs':400, \n",
    "                          'gpus':4, \n",
    "                          'batch_size': 64\n",
    "                         },\n",
    "        'data_hparams': {'train_dataset_path': \"/home/jupyter/data/saved_datasets/traindataset_ensemble_forecast_x10_random_extra_vars_TCW_log_trans_padded_24.pkl\",\n",
    "                        'valid_dataset_path': \"/home/jupyter/data/saved_datasets/validdataset_ensemble_forecast_x10_random_extra_vars_TCW_log_trans_padded_24.pkl\"}\n",
    "        \n",
    "}\n",
    "\n",
    "json.dump(args, open('../experiments/broadleingan_ens10_tp_random_added_vars_TCW.json', 'w'))"
   ]
  },
  {
   "cell_type": "markdown",
   "id": "12b4d582",
   "metadata": {},
   "source": [
    "### BroadLeingan ens10 tp random"
   ]
  },
  {
   "cell_type": "code",
   "execution_count": 1,
   "id": "bb412edb",
   "metadata": {},
   "outputs": [],
   "source": [
    "import json\n",
    "\n",
    "args = {'gan': 'base2',\n",
    "        'seed': 0,\n",
    "        'save_hparams':{'save_dir': '/home/jupyter/data/saved_models/', \n",
    "                       'run_name': 'broadleingan/ens10_tp/random/', \n",
    "                       'run_number': 2         \n",
    "                      },\n",
    "        'gan_hparams': {'generator': 'broadleingen',\n",
    "                        'discriminator': 'broadleindisc',\n",
    "                        'noise_shape' : (1, 16, 16),\n",
    "                        'zero_noise': False,\n",
    "                        'input_channels' : 1,\n",
    "                        'opt_hparams': {'gen_optimiser':'adam', 'disc_optimiser':'adam', \n",
    "                                        'disc_lr' : 5e-6, 'gen_lr': 5e-6, 'gen_freq' : 1, \n",
    "                                        'disc_freq':5, 'b1':0.0, 'b2' : 0.9, \n",
    "                                         'gen_momentum': 0.9, 'disc_momentum': 0.9},\n",
    "                        'disc_spectral_norm' : False,\n",
    "                        'gen_spectral_norm' : False, \n",
    "                        'loss_hparams' : {'gen_loss':\"wasserstein\", 'disc_loss':'wasserstein','lambda_l1_reg': 0, 'lambda_gp':10},     \n",
    "                        'val_hparams' : {'val_nens':10}\n",
    "                       },\n",
    "        'train_hparams': {'epochs':1000, \n",
    "                          'gpus':4, \n",
    "                          'batch_size': 64\n",
    "                         },\n",
    "        'data_hparams': {'train_dataset_path': \"/home/jupyter/data/saved_datasets/traindataset_ensemble_forecast_x10_random_log_trans_padded_24.pkl\",\n",
    "                        'valid_dataset_path': \"/home/jupyter/data/saved_datasets/validdataset_ensemble_forecast_x10_random_log_trans_padded_24.pkl\"}\n",
    "        \n",
    "}\n",
    "\n",
    "json.dump(args, open('../experiments/broadleingan_ens10_tp_random.json', 'w'))"
   ]
  },
  {
   "cell_type": "code",
   "execution_count": null,
   "id": "23abde4c",
   "metadata": {},
   "outputs": [],
   "source": []
  },
  {
   "cell_type": "markdown",
   "id": "ca5d0b6e",
   "metadata": {},
   "source": [
    "### Leingan with broadfield channel and extra variables: total column water"
   ]
  },
  {
   "cell_type": "code",
   "execution_count": 1,
   "id": "dab812b6",
   "metadata": {},
   "outputs": [],
   "source": [
    "import json\n",
    "\n",
    "args = {'gan': 'base2',\n",
    "        'seed': 0,\n",
    "        'save_hparams':{'save_dir': '/home/jupyter/data/saved_models/', \n",
    "                       'run_name': 'leingan/single_forecast_tp_broadfield_channel_added_vars_TCW/', \n",
    "                       'run_number': 1              \n",
    "                      },\n",
    "        'gan_hparams': {'generator': 'leingen',\n",
    "                        'discriminator': 'leindisc',\n",
    "                        'noise_shape' : (1, 16, 16),\n",
    "                        'zero_noise': False,\n",
    "                        'input_channels' : 3,\n",
    "                        'opt_hparams': {'gen_optimiser':'adam', 'disc_optimiser':'adam', \n",
    "                                        'disc_lr' : 1e-5, 'gen_lr': 1e-5, 'gen_freq' : 1, \n",
    "                                        'disc_freq':5, 'b1':0.0, 'b2' : 0.9},\n",
    "                        'disc_spectral_norm' : False,\n",
    "                        'gen_spectral_norm' : False, \n",
    "                        'loss_hparams' : {'gen_loss':\"wasserstein\", 'disc_loss':'wasserstein','lambda_l1_reg': 0, 'lambda_gp':10},     \n",
    "                        'val_hparams' : {'val_nens':10}\n",
    "                       },\n",
    "        'train_hparams': {'epochs':1000, \n",
    "                          'gpus':4, \n",
    "                          'batch_size': 64\n",
    "                         },\n",
    "        'data_hparams': {'train_dataset_path': \"/home/jupyter/data/saved_datasets/traindataset_single_forecast_tp_extra_vars_TCW_log_trans_padded_10_channel.pkl\",\n",
    "                        'valid_dataset_path': \"/home/jupyter/data/saved_datasets/validdataset_single_forecast_tp_extra_vars_TCW_log_trans_padded_10_channel.pkl\"}\n",
    "        \n",
    "}\n",
    "\n",
    "json.dump(args, open('../experiments/leingan_single_forecast_tp_broadfield_channel_added_vars_TCW.json', 'w'))"
   ]
  },
  {
   "cell_type": "code",
   "execution_count": null,
   "id": "316ef523",
   "metadata": {},
   "outputs": [],
   "source": []
  },
  {
   "cell_type": "markdown",
   "id": "c3ecb6bd",
   "metadata": {},
   "source": [
    "### Leingan with broadfield channel and extra variables: total column water (ensemble) - with ens mean l1 loss"
   ]
  },
  {
   "cell_type": "code",
   "execution_count": 3,
   "id": "23b53d17",
   "metadata": {},
   "outputs": [],
   "source": [
    "import json\n",
    "\n",
    "args = {'gan': 'base2',\n",
    "        'seed': 0,\n",
    "        'save_hparams':{'save_dir': '/home/jupyter/data/saved_models/', \n",
    "                       'run_name': 'leingan/ens10_tp_and_added_vars_TCW_broadfield_channel/', \n",
    "                       'run_number':15         \n",
    "                      },\n",
    "        'gan_hparams': {'generator': 'leingen2',\n",
    "                        'discriminator': 'leindisc',\n",
    "                        'noise_shape' : (6, 1, 16, 16),\n",
    "                        'zero_noise': False,\n",
    "                        'input_channels' : 3,\n",
    "                        'opt_hparams': {'gen_optimiser':'adam', 'disc_optimiser':'adam', \n",
    "                                        'disc_lr' : 5e-5, 'gen_lr': 5e-5, 'gen_freq' : 1, \n",
    "                                        'disc_freq':5, 'b1':0.0, 'b2' : 0.9},\n",
    "                        'disc_spectral_norm' : False,\n",
    "                        'gen_spectral_norm' : False, \n",
    "                        'loss_hparams' : {'gen_loss':\"ens_mean_L1_weighted\", 'disc_loss':'wasserstein','lambda_l1_reg': 10, 'lambda_gp':10},     \n",
    "                        'val_hparams' : {'val_nens':10}\n",
    "                       },\n",
    "        'train_hparams': {'epochs':500, \n",
    "                          'gpus':4, \n",
    "                          'batch_size': 64\n",
    "                         },\n",
    "        'data_hparams': {'train_dataset_path': \"/home/jupyter/data/saved_datasets/traindataset_ensemble_tp_extra_vars_TCW_x10_log_trans_padded_10_channel.pkl\",\n",
    "                        'valid_dataset_path': \"/home/jupyter/data/saved_datasets/validdataset_ensemble_tp_extra_vars_TCW_x10_log_trans_padded_10_channel.pkl\"}\n",
    "        \n",
    "}\n",
    "\n",
    "json.dump(args, open('../experiments/leingan_ens10_tp_and_added_vars_TCW_broadfield_channel.json', 'w'))"
   ]
  },
  {
   "cell_type": "code",
   "execution_count": 4,
   "id": "5904c65c",
   "metadata": {},
   "outputs": [],
   "source": [
    "import json\n",
    "\n",
    "args = {'gan': 'base2',\n",
    "        'seed': 0,\n",
    "        'save_hparams':{'save_dir': '/home/jupyter/data/saved_models/', \n",
    "                       'run_name': 'leingan/ens10_tp_and_added_vars_TCW_broadfield_channel/', \n",
    "                       'run_number': 13             \n",
    "                      },\n",
    "        'gan_hparams': {'generator': 'leingen2',\n",
    "                        'discriminator': 'leindisc',\n",
    "                        'noise_shape' : (6, 1, 16, 16),\n",
    "                        'zero_noise': False,\n",
    "                        'input_channels' : 3,\n",
    "                        'opt_hparams': {'gen_optimiser':'adam', 'disc_optimiser':'adam', \n",
    "                                        'disc_lr' : 5e-6, 'gen_lr': 5e-6, 'gen_freq' : 1, \n",
    "                                        'disc_freq':5, 'b1':0.0, 'b2' : 0.9},\n",
    "                        'disc_spectral_norm' : False,\n",
    "                        'gen_spectral_norm' : False, \n",
    "                        'loss_hparams' : {'gen_loss':\"ens_mean_L1_weighted\", 'disc_loss':'wasserstein','lambda_l1_reg': 10, 'lambda_gp':10},     \n",
    "                        'val_hparams' : {'val_nens':10}\n",
    "                       },\n",
    "        'train_hparams': {'epochs':500, \n",
    "                          'gpus':4, \n",
    "                          'batch_size': 64\n",
    "                         },\n",
    "        'data_hparams': {'train_dataset_path': \"/home/jupyter/data/saved_datasets/traindataset_ensemble_tp_extra_vars_TCW_x10_log_trans_padded_10_channel.pkl\",\n",
    "                        'valid_dataset_path': \"/home/jupyter/data/saved_datasets/validdataset_ensemble_tp_extra_vars_TCW_x10_log_trans_padded_10_channel.pkl\"}\n",
    "        \n",
    "}\n",
    "\n",
    "json.dump(args, open('../experiments/leingan_ens10_tp_and_added_vars_TCW_broadfield_channel.json', 'w'))"
   ]
  },
  {
   "cell_type": "markdown",
   "id": "5e11f072",
   "metadata": {},
   "source": [
    "### Leingan (no log trans) with broadfield channel and extra variables: total column water (ensemble) - with ens mean l1 loss"
   ]
  },
  {
   "cell_type": "code",
   "execution_count": 2,
   "id": "b9956b08",
   "metadata": {},
   "outputs": [],
   "source": [
    "import json\n",
    "\n",
    "args = {'gan': 'base2',\n",
    "        'seed': 0,\n",
    "        'save_hparams':{'save_dir': '/home/jupyter/data/saved_models/', \n",
    "                       'run_name': 'leingan/ens10_tp_and_added_vars_TCW_broadfield_channel/no_log_trans/', \n",
    "                       'run_number': 1            \n",
    "                      },\n",
    "        'gan_hparams': {'generator': 'leingen2',\n",
    "                        'discriminator': 'leindisc',\n",
    "                        'noise_shape' : (6, 1, 16, 16),\n",
    "                        'zero_noise': False,\n",
    "                        'input_channels' : 3,\n",
    "                        'opt_hparams': {'gen_optimiser':'adam', 'disc_optimiser':'adam', \n",
    "                                        'disc_lr' : 5e-5, 'gen_lr': 5e-5, 'gen_freq' : 1, \n",
    "                                        'disc_freq':5, 'b1':0.0, 'b2' : 0.9},\n",
    "                        'disc_spectral_norm' : False,\n",
    "                        'gen_spectral_norm' : False, \n",
    "                        'loss_hparams' : {'gen_loss':\"ens_mean_L1_weighted\", 'disc_loss':'wasserstein','lambda_l1_reg': 10, 'lambda_gp':10},     \n",
    "                        'val_hparams' : {'val_nens':10}\n",
    "                       },\n",
    "        'train_hparams': {'epochs':500, \n",
    "                          'gpus':4, \n",
    "                          'batch_size': 64\n",
    "                         },\n",
    "        'data_hparams': {'train_dataset_path': \"/home/jupyter/data/saved_datasets/traindataset_ensemble_tp_extra_vars_TCW_x10_padded_10_channel.pkl\",\n",
    "                        'valid_dataset_path': \"/home/jupyter/data/saved_datasets/validdataset_ensemble_tp_extra_vars_TCW_x10_padded_10_channel.pkl\"}\n",
    "        \n",
    "}\n",
    "\n",
    "json.dump(args, open('../experiments/leingan_ens10_tp_no_log_trans_and_added_vars_TCW_broadfield_channel.json', 'w'))"
   ]
  },
  {
   "cell_type": "markdown",
   "id": "f74a6000",
   "metadata": {},
   "source": [
    "### Sanity check - train corrector given current leingen style architecture"
   ]
  },
  {
   "cell_type": "code",
   "execution_count": 2,
   "id": "74799df1",
   "metadata": {},
   "outputs": [
    {
     "data": {
      "text/plain": [
       "{'tigge_dir': '/home/jupyter/data/tigge/32km/',\n",
       " 'tigge_vars': ['total_precipitation_ens10',\n",
       "  'total_column_water',\n",
       "  '2m_temperature',\n",
       "  'convective_available_potential_energy',\n",
       "  'convective_inhibition'],\n",
       " 'mrms_dir': '/home/jupyter/data/mrms/4km/RadarOnly_QPE_06H/',\n",
       " 'rq_fn': '/home/jupyter/data/mrms/4km/RadarQuality.nc',\n",
       " 'data_period': ('2018-01', '2019-12'),\n",
       " 'val_days': 5,\n",
       " 'split': 'train',\n",
       " 'pure_sr_ratio': None,\n",
       " 'tp_log': 0.01,\n",
       " 'ensemble_mode': 'random'}"
      ]
     },
     "execution_count": 2,
     "metadata": {},
     "output_type": "execute_result"
    }
   ],
   "source": [
    "import pickle\n",
    "\n",
    "args = pickle.load(open('/home/jupyter/data/saved_datasets/traindataset_ensemble_forecast_x10_random_extra_vars_TCW-T-CAPE-CIN_log_trans_args.pkl', 'rb'))\n",
    "args"
   ]
  },
  {
   "cell_type": "code",
   "execution_count": 1,
   "id": "61a3cc91",
   "metadata": {},
   "outputs": [],
   "source": [
    "import json\n",
    "\n",
    "args = {'gan': 'base2',\n",
    "        'seed': 2,\n",
    "        'save_hparams':{'save_dir': '/home/jupyter/data/saved_models/', \n",
    "                       'run_name': 'corrector/ensemble_forecast_x10_log_trans_random_extra_vars_TCW-T-CAPE-CIN_broadfield_channel_padded_15/', \n",
    "                       'run_number': 7\n",
    "                      },\n",
    "        'input_channels' : 6,\n",
    "        'train_hparams': {'epochs':500, \n",
    "                          'gpus':[0], \n",
    "                          'batch_size': 128\n",
    "                         },\n",
    "        'data_hparams': {'train_dataset_path': \"/home/jupyter/data/saved_datasets/traindataset_ensemble_forecast_x10_log_trans_random_extra_vars_TCW-T-CAPE-CIN_broadfield_channel_padded_15.pkl\",\n",
    "                        'valid_dataset_path': \"/home/jupyter/data/saved_datasets/validdataset_ensemble_forecast_x10_log_trans_random_extra_vars_TCW-T-CAPE-CIN_broadfield_channel_padded_15.pkl\"}\n",
    "        \n",
    "}\n",
    "\n",
    "json.dump(args, open('../experiments/corrector_ensemble_forecast_x10_log_trans_random_extra_vars_TCW-T-CAPE-CIN_broadfield_channel_padded_15.json', 'w'))"
   ]
  },
  {
   "cell_type": "markdown",
   "id": "19726e90",
   "metadata": {},
   "source": [
    "# Eval args"
   ]
  },
  {
   "cell_type": "markdown",
   "id": "a738d282",
   "metadata": {},
   "source": [
    "### Leingan with extra variables: column water, temperature, convective inhbition, convective avail potential energy"
   ]
  },
  {
   "cell_type": "code",
   "execution_count": 3,
   "id": "c687f292",
   "metadata": {},
   "outputs": [],
   "source": [
    "args = {'gan': 'base',\n",
    "        'seed': 0,\n",
    "        'gpu':0,\n",
    "        'save_hparams':{'save_dir': '/home/jupyter/data/saved_models/', \n",
    "                       'run_name': 'leingan/ens10_tp_added_vars_TCW-T-CAPE-CIN/random/', \n",
    "                       'run_number': 0                       \n",
    "                      },\n",
    "        'model_path': '/home/jupyter/data/saved_models/leingan/ens10_random_tp_added_vars_TCW-T-CAPE-CIN/0/epoch=499-step=322499.ckpt',\n",
    "        'eval_hparams': {'batch_size': 128, \n",
    "                         'num_ens': 30\n",
    "                         },\n",
    "        'data_hparams': {'test_dataset_path': \"/home/jupyter/data/saved_datasets/testdataset_ensemble_forecast_x10_random_extra_vars_TCW-T-CAPE-CIN_log_trans_first_days_5.pkl\",\n",
    "                        }\n",
    "        \n",
    "}\n",
    "\n",
    "json.dump(args, open('../experiments/eval_leingan_ens10_tp_random_added_vars_TCW-T-CAPE-CIN.json', 'w'))"
   ]
  },
  {
   "cell_type": "markdown",
   "id": "e2ab6da8",
   "metadata": {},
   "source": [
    "### Leingan with extra variables: column water"
   ]
  },
  {
   "cell_type": "code",
   "execution_count": 11,
   "id": "c714f900",
   "metadata": {},
   "outputs": [],
   "source": [
    "args = {'gan': 'base',\n",
    "        'seed': 0,\n",
    "        'gpu':0,\n",
    "        'save_hparams':{'save_dir': '/home/jupyter/data/saved_models/', \n",
    "                       'run_name': 'leingan/single_forecast_tp_added_vars_TCW/', \n",
    "                       'run_number': 1                       \n",
    "                      },\n",
    "        'model_path': '/home/jupyter/data/saved_models/leingan/single_forecast_tp_added_vars_TCW/1/epoch=299-step=196499.ckpt',\n",
    "        'eval_hparams': {'batch_size': 128, \n",
    "                         'num_ens': 30\n",
    "                         },\n",
    "        'data_hparams': {'test_dataset_path': \"/home/jupyter/data/saved_datasets/testdataset_single_forecast_tp_extra_vars_TCW_log_trans_first_days_5.pkl\",\n",
    "                        }\n",
    "        \n",
    "}\n",
    "\n",
    "json.dump(args, open('../experiments/eval_leingan_single_forecast_tp_added_vars_TCW.json', 'w'))"
   ]
  },
  {
   "cell_type": "markdown",
   "id": "a42e2c17",
   "metadata": {},
   "source": [
    "### Leingan with ens10 tp stacked"
   ]
  },
  {
   "cell_type": "code",
   "execution_count": 9,
   "id": "925ac79a",
   "metadata": {},
   "outputs": [],
   "source": [
    "args = {'gan': 'base',\n",
    "        'seed': 0,\n",
    "        'gpu':0,\n",
    "        'save_hparams':{'save_dir': '/home/jupyter/data/saved_models/', \n",
    "                       'run_name': 'leingan/ens10_tp/stacked/', \n",
    "                       'run_number': 0                       \n",
    "                      },\n",
    "        'model_path': '/home/jupyter/data/saved_models/leingan/ens10_tp/stacked/0/epoch=149-step=100499.ckpt',\n",
    "        'eval_hparams': {'batch_size': 128, \n",
    "                         'num_ens': 30\n",
    "                         },\n",
    "        'data_hparams': {'test_dataset_path': \"/home/jupyter/data/saved_datasets/testdataset_ensemble_forecast_x10_tp_stacked_log_trans_first_days_5.pkl\"}\n",
    "        \n",
    "}\n",
    "\n",
    "json.dump(args, open('../experiments/eval_leingan_ens10_tp_stacked_input.json', 'w'))"
   ]
  },
  {
   "cell_type": "markdown",
   "id": "e08ecc62",
   "metadata": {},
   "source": [
    "### Leingan with ens10 tp random"
   ]
  },
  {
   "cell_type": "code",
   "execution_count": 10,
   "id": "f937aaa0",
   "metadata": {},
   "outputs": [],
   "source": [
    "args = {'gan': 'base',\n",
    "        'seed': 0,\n",
    "        'gpu':1,\n",
    "        'save_hparams':{'save_dir': '/home/jupyter/data/saved_models/', \n",
    "                       'run_name': 'leingan/ens10_tp/random/', \n",
    "                       'run_number': 1                       \n",
    "                      },\n",
    "        'model_path': '/home/jupyter/data/saved_models/leingan/ens10_tp/random/1/epoch=199-step=133999.ckpt',\n",
    "        'eval_hparams': {'batch_size': 128, \n",
    "                         'num_ens': 30\n",
    "                         },\n",
    "        'data_hparams': {'test_dataset_path': \"/home/jupyter/data/saved_datasets/testdataset_ensemble_forecast_x10_tp_random_log_trans_first_days_5.pkl\"}\n",
    "        \n",
    "}\n",
    "\n",
    "json.dump(args, open('../experiments/eval_leingan_ens10_tp_random_input.json', 'w'))"
   ]
  },
  {
   "cell_type": "markdown",
   "id": "94faa249",
   "metadata": {},
   "source": [
    "### Leingan with single forecast"
   ]
  },
  {
   "cell_type": "code",
   "execution_count": 11,
   "id": "28921cbc",
   "metadata": {},
   "outputs": [],
   "source": [
    "args = {'gan': 'base',\n",
    "        'seed': 0,\n",
    "        'gpu':2,\n",
    "        'save_hparams':{'save_dir': '/home/jupyter/data/saved_models/', \n",
    "                       'run_name': 'leingan/single_forecast/', \n",
    "                       'run_number': 0                       \n",
    "                      },\n",
    "        'model_path': '/home/jupyter/data/saved_models/leingan/single_forecast/0/epoch=120-step=324279.ckpt',\n",
    "        'eval_hparams': {'batch_size': 128, \n",
    "                         'num_ens': 30\n",
    "                         },\n",
    "        'data_hparams': {'test_dataset_path': \"/home/jupyter/data/saved_datasets/testdataset_single_forecast_tp_log_trans_first_days_5.pkl\"}\n",
    "        \n",
    "}\n",
    "\n",
    "json.dump(args, open('../experiments/eval_leingan_single_forecast_tp_input.json', 'w'))"
   ]
  },
  {
   "cell_type": "markdown",
   "id": "745557fc",
   "metadata": {},
   "source": [
    "### Leingan with single forecast with constants"
   ]
  },
  {
   "cell_type": "code",
   "execution_count": 12,
   "id": "d46ff48b",
   "metadata": {},
   "outputs": [],
   "source": [
    "args = {'gan': 'base',\n",
    "        'seed': 0,\n",
    "        'gpu':3,\n",
    "        'save_hparams':{'save_dir': '/home/jupyter/data/saved_models/', \n",
    "                       'run_name': 'leingan/single_forecast_with_consts/', \n",
    "                       'run_number': 1                       \n",
    "                      },\n",
    "        'model_path': '/home/jupyter/data/saved_models/leingan/single_forecast_with_consts/1/epoch=199-step=133999.ckpt',\n",
    "        'eval_hparams': {'batch_size': 128, \n",
    "                         'num_ens': 30\n",
    "                         },\n",
    "        'data_hparams': {'test_dataset_path': \"/home/jupyter/data/saved_datasets/testdataset_single_forecast_tp_orog_lsm_log_trans_first_days_5.pkl\"}\n",
    "        \n",
    "}\n",
    "\n",
    "json.dump(args, open('../experiments/eval_leingan_single_forecast_tp_with_consts_input.json', 'w'))"
   ]
  },
  {
   "cell_type": "markdown",
   "id": "f49265e4",
   "metadata": {},
   "source": [
    "### wgan-gp single forecast"
   ]
  },
  {
   "cell_type": "code",
   "execution_count": 13,
   "id": "b0dcc9f0",
   "metadata": {},
   "outputs": [],
   "source": [
    "args = {'gan': 'wgan-gp',\n",
    "        'seed': 0,\n",
    "        'gpu':0,\n",
    "        'save_hparams':{'save_dir': '/home/jupyter/data/saved_models/', \n",
    "                       'run_name': 'wgan-gp/', \n",
    "                       'run_number': 0                       \n",
    "                      },\n",
    "        'model_path': '/home/jupyter/data/saved_models/wgan-gp/0/epoch=124-step=334999.ckpt',\n",
    "        'eval_hparams': {'batch_size': 128, \n",
    "                         'num_ens': 30\n",
    "                         },\n",
    "        'data_hparams': {'test_dataset_path': \"/home/jupyter/data/saved_datasets/testdataset_single_forecast_tp_log_trans_first_days_5.pkl\"}\n",
    "        \n",
    "}\n",
    "\n",
    "json.dump(args, open('../experiments/eval_wgan-gp_single_forecast_tp.json', 'w'))"
   ]
  },
  {
   "cell_type": "markdown",
   "id": "6ffd3e33",
   "metadata": {},
   "source": [
    "### wgan-gp-smoothed single forecast"
   ]
  },
  {
   "cell_type": "code",
   "execution_count": 14,
   "id": "dbb2b1e9",
   "metadata": {},
   "outputs": [],
   "source": [
    "args = {'gan': 'wgan-gp',\n",
    "        'seed': 0,\n",
    "        'gpu':1,\n",
    "        'save_hparams':{'save_dir': '/home/jupyter/data/saved_models/', \n",
    "                       'run_name': 'wgan-gp-smoothed/', \n",
    "                       'run_number': 0                       \n",
    "                      },\n",
    "        'model_path': '/home/jupyter/data/saved_models/wgan-gp-smoothed/0/epoch=123-step=332319.ckpt',\n",
    "        'eval_hparams': {'batch_size': 128, \n",
    "                         'num_ens': 30\n",
    "                         },\n",
    "        'data_hparams': {'test_dataset_path': \"/home/jupyter/data/saved_datasets/testdataset_single_forecast_tp_log_trans_first_days_5.pkl\"}\n",
    "        \n",
    "}\n",
    "\n",
    "json.dump(args, open('../experiments/eval_wgan-gp-smoothed_single_forecast_tp.json', 'w'))"
   ]
  },
  {
   "cell_type": "markdown",
   "id": "bed76db0",
   "metadata": {},
   "source": [
    "### Broadleingan single forecast"
   ]
  },
  {
   "cell_type": "code",
   "execution_count": 22,
   "id": "0d68b703",
   "metadata": {},
   "outputs": [],
   "source": [
    "args = {'gan': 'leingan',\n",
    "        'seed': 0,\n",
    "        'gpu':2,\n",
    "        'save_hparams':{'save_dir': '/home/jupyter/data/saved_models/', \n",
    "                       'run_name': 'broadleingan/', \n",
    "                       'run_number': 0                       \n",
    "                      },\n",
    "        'model_path': '/home/jupyter/data/saved_models/broadleingan/0/epoch=343-step=358791.ckpt',\n",
    "        'eval_hparams': {'batch_size': 128, \n",
    "                         'num_ens': 30\n",
    "                         },\n",
    "        'data_hparams': {'test_dataset_path': \"/home/jupyter/data/saved_datasets/testdataset_single_forecast_only_log_trans_.pkl\"}\n",
    "        \n",
    "}\n",
    "\n",
    "json.dump(args, open('../experiments/eval_broadleingan_single_forecast_tp_input.json', 'w'))"
   ]
  },
  {
   "cell_type": "markdown",
   "id": "8f39ed8b",
   "metadata": {},
   "source": [
    "### Leingan with ens10 tp random - gen loss: ens_mean_L1_weighted"
   ]
  },
  {
   "cell_type": "code",
   "execution_count": 1,
   "id": "a1eea9d8",
   "metadata": {},
   "outputs": [],
   "source": [
    "import json\n",
    "args = {'gan': 'base2',\n",
    "        'seed': 0,\n",
    "        'gpu':1,\n",
    "        'save_hparams':{'save_dir': '/home/jupyter/data/saved_models/', \n",
    "                       'run_name': 'leingan/ens10_tp/random/ens_mean_L1_weighted_gen_loss/', \n",
    "                       'run_number': 3                       \n",
    "                      },\n",
    "        'model_path': '/home/jupyter/data/saved_models/leingan/ens10_tp/random/ens_mean_L1_weighted_gen_loss/3/epoch=349-step=234499.ckpt',\n",
    "        'eval_hparams': {'batch_size': 128, \n",
    "                         'num_ens': 30\n",
    "                         },\n",
    "        'data_hparams': {'test_dataset_path': \"/home/jupyter/data/saved_datasets/testdataset_ensemble_forecast_x10_tp_random_log_trans_first_days_5.pkl\"}\n",
    "        \n",
    "}\n",
    "\n",
    "json.dump(args, open('../experiments/eval_leingan_ens10_tp_random_input_ens_mean_L1_weighted_gen_loss.json', 'w'))"
   ]
  },
  {
   "cell_type": "markdown",
   "id": "52735f38",
   "metadata": {},
   "source": [
    "### Leingan super-resolution eval with ens10 tp stacked"
   ]
  },
  {
   "cell_type": "code",
   "execution_count": 11,
   "id": "fe60440f",
   "metadata": {},
   "outputs": [],
   "source": [
    "import json\n",
    "args = {'gan': 'base2',\n",
    "        'seed': 0,\n",
    "        'gpu':1,\n",
    "        'super_resolution': True,\n",
    "        'save_hparams':{'save_dir': '/home/jupyter/data/saved_models/', \n",
    "                       'run_name': 'leingan/single_forecast_tp_pure_sr_pretraining/', \n",
    "                       'run_number': 0                       \n",
    "                      },\n",
    "        'model_path': '/home/jupyter/data/saved_models/leingan/single_forecast_tp_pure_sr_pretraining/0/epoch=199-step=133999.ckpt',\n",
    "        'eval_hparams': {'batch_size': 128, \n",
    "                         'num_ens': 10\n",
    "                         },\n",
    "        'data_hparams': {'test_dataset_path': \"/home/jupyter/data/saved_datasets/testdataset_ensemble_forecast_x10_tp_stacked_log_trans_first_days_5.pkl\"}\n",
    "        \n",
    "}\n",
    "\n",
    "json.dump(args, open('../experiments/eval_leingan_pure_sr_on_ens10_tp_stacked.json', 'w'))"
   ]
  },
  {
   "cell_type": "markdown",
   "id": "350d2bb3",
   "metadata": {},
   "source": []
  },
  {
   "cell_type": "markdown",
   "id": "ee1fa212",
   "metadata": {},
   "source": [
    "### Leingan with broadfield channel and extra variables: total column water"
   ]
  },
  {
   "cell_type": "code",
   "execution_count": 1,
   "id": "97b12f83",
   "metadata": {},
   "outputs": [],
   "source": [
    "import json\n",
    "args = {'gan': 'base2',\n",
    "        'seed': 0,\n",
    "        'gpu': 0,\n",
    "        'save_hparams':{'save_dir': '/home/jupyter/data/saved_models/', \n",
    "                       'run_name': 'leingan/single_forecast_tp_broadfield_channel_added_vars_TCW/', \n",
    "                       'run_number': 1               \n",
    "                      },\n",
    "        'model_path': '/home/jupyter/data/saved_models/leingan/single_forecast_tp_broadfield_channel_added_vars_TCW/1/epoch=919-step=477479.ckpt',\n",
    "        'eval_hparams': {'batch_size': 128, \n",
    "                         'num_ens': 30\n",
    "                         },\n",
    "        'data_hparams': {'test_dataset_path': \"/home/jupyter/data/saved_datasets/testdataset_single_forecast_tp_extra_vars_TCW_log_trans_padded_10_channel_first_days_5.pkl\"}\n",
    "        \n",
    "}\n",
    "\n",
    "json.dump(args, open('../experiments/eval_leingan_single_forecast_tp_broadfield_channel_added_vars_TCW.json', 'w'))"
   ]
  },
  {
   "cell_type": "code",
   "execution_count": null,
   "id": "5781d92c",
   "metadata": {},
   "outputs": [],
   "source": []
  },
  {
   "cell_type": "markdown",
   "id": "8d11767d",
   "metadata": {},
   "source": [
    "### Leingan with ent10 tp, broadfield channel and extra variables: total column water"
   ]
  },
  {
   "cell_type": "code",
   "execution_count": 1,
   "id": "ca080fe8",
   "metadata": {},
   "outputs": [],
   "source": [
    "import json\n",
    "args = {'gan': 'base2',\n",
    "        'seed': 0,\n",
    "        'gpu': 0,\n",
    "        'save_hparams':{'save_dir': '/home/jupyter/data/saved_models/', \n",
    "                       'run_name': 'leingan/ens10_tp_and_added_vars_TCW_broadfield_channel/', \n",
    "                       'run_number': 15              \n",
    "                      },\n",
    "        'model_path': '/home/jupyter/data/saved_models/leingan/ens10_tp_and_added_vars_TCW_broadfield_channel/15/epoch=499-step=258499.ckpt',\n",
    "        'eval_hparams': {'batch_size': 128, \n",
    "                         'num_ens': 30\n",
    "                         },\n",
    "        'data_hparams': {'test_dataset_path': \"/home/jupyter/data/saved_datasets/testdataset_ensemble_tp_extra_vars_TCW_x10_log_trans_padded_10_channel_first_days_5.pkl\"}\n",
    "        \n",
    "}\n",
    "\n",
    "json.dump(args, open('../experiments/eval_leingan_ensemble_tp_and_added_vars_TCW_with_broadfield_channel2.json', 'w'))"
   ]
  },
  {
   "cell_type": "code",
   "execution_count": null,
   "id": "1041e006",
   "metadata": {},
   "outputs": [],
   "source": []
  },
  {
   "cell_type": "markdown",
   "id": "cdd259c1",
   "metadata": {},
   "source": [
    "### Test"
   ]
  },
  {
   "cell_type": "code",
   "execution_count": 2,
   "id": "277c2de0",
   "metadata": {},
   "outputs": [],
   "source": [
    "# args = {'gan': 'base',\n",
    "#         'seed': 0,\n",
    "#         'save_hparams':{'save_dir': '/home/jupyter/data/saved_models/', \n",
    "#                        'run_name': 'leingan/ens10_temperature/', \n",
    "#                        'run_number': 0                       \n",
    "#                       },\n",
    "#         'model_path': '/home/jupyter/data/saved_models/leingan/ens10_temperature/0/epoch=149-step=100499.ckpt',\n",
    "#         'eval_hparams': {'batch_size': 128, \n",
    "#                          'num_ens': 50\n",
    "#                          },\n",
    "#         'data_hparams': {'test_dataset_path': \"/home/jupyter/data/saved_datasets/testdataset_ensemble_forecast_x10_log_trans_sample.pkl\"}\n",
    "        \n",
    "# }\n",
    "\n",
    "# json.dump(args, open('../experiments/eval_test.json', 'w'))"
   ]
  },
  {
   "cell_type": "markdown",
   "id": "e0976cdf",
   "metadata": {},
   "source": [
    "# Models to eval:"
   ]
  },
  {
   "cell_type": "code",
   "execution_count": 2,
   "id": "294aee1c",
   "metadata": {},
   "outputs": [],
   "source": [
    "import json\n",
    "\n",
    "models = {1: '/home/jupyter/nwp-downscale/experiments/eval_wgan-gp_single_forecast_tp.json',\n",
    "          2: '/home/jupyter/nwp-downscale/experiments/eval_wgan-gp-smoothed_single_forecast_tp.json',\n",
    "          3: '/home/jupyter/nwp-downscale/experiments/eval_leingan_single_forecast_tp_input.json',\n",
    "          4: '/home/jupyter/nwp-downscale/experiments/eval_leingan_single_forecast_tp_with_consts_input.json',\n",
    "          5: '/home/jupyter/nwp-downscale/experiments/eval_leingan_ens10_tp_stacked_input.json',\n",
    "          6: '/home/jupyter/nwp-downscale/experiments/eval_leingan_ens10_tp_random_input.json',\n",
    "          7: '/home/jupyter/nwp-downscale/experiments/eval_leingan_ens10_tp_random_added_vars_TCW-T-CAPE-CIN.json',\n",
    "          8: '/home/jupyter/nwp-downscale/experiments/eval_leingan_single_forecast_tp_added_vars_TCW.json', \n",
    "          9: '/home/jupyter/nwp-downscale/experiments/eval_leingan_ens10_tp_random_input_ens_mean_L1_weighted_gen_loss.json', \n",
    "          10: '/home/jupyter/nwp-downscale/experiments/eval_leingan_pure_sr_on_ens10_tp_stacked.json', \n",
    "          11: '/home/jupyter/nwp-downscale/experiments/eval_leingan_single_forecast_tp_broadfield_channel_added_vars_TCW.json', \n",
    "          12: '/home/jupyter/nwp-downscale/experiments/eval_leingan_ensemble_tp_and_added_vars_TCW_with_broadfield_channel.json'\n",
    "         }\n",
    "\n",
    "json.dump(models, open('../experiments/model_eval_config_paths.json', 'w'))"
   ]
  },
  {
   "cell_type": "code",
   "execution_count": null,
   "id": "0632e343",
   "metadata": {},
   "outputs": [],
   "source": []
  }
 ],
 "metadata": {
  "environment": {
   "name": "common-cu110.m78",
   "type": "gcloud",
   "uri": "gcr.io/deeplearning-platform-release/base-cu110:m78"
  },
  "kernelspec": {
   "display_name": "Python [conda env:ilan]",
   "language": "python",
   "name": "conda-env-ilan-py"
  },
  "language_info": {
   "codemirror_mode": {
    "name": "ipython",
    "version": 3
   },
   "file_extension": ".py",
   "mimetype": "text/x-python",
   "name": "python",
   "nbconvert_exporter": "python",
   "pygments_lexer": "ipython3",
   "version": "3.9.5"
  }
 },
 "nbformat": 4,
 "nbformat_minor": 5
}
