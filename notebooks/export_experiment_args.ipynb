{
 "cells": [
  {
   "cell_type": "code",
   "execution_count": 1,
   "id": "968a2cfe",
   "metadata": {},
   "outputs": [],
   "source": [
    "import json"
   ]
  },
  {
   "cell_type": "markdown",
   "id": "50bf12e1",
   "metadata": {},
   "source": [
    "### Leingan with ens10 tp stacked"
   ]
  },
  {
   "cell_type": "code",
   "execution_count": 2,
   "id": "aaf78622",
   "metadata": {},
   "outputs": [],
   "source": [
    "args = {'gan': 'base',\n",
    "        'seed': 0,\n",
    "        'save_hparams':{'save_dir': '/home/jupyter/data/saved_models/', \n",
    "                       'run_name': 'leingan/ens10_tp/stacked/', \n",
    "                       'run_number': 0                       \n",
    "                      },\n",
    "        'gan_hparams': {'generator': 'leingen',\n",
    "                        'discriminator': 'leindisc',\n",
    "                        'noise_shape' : (1, 16, 16),\n",
    "                        'input_channels' : 10,\n",
    "                        'disc_lr' : 1e-4,\n",
    "                        'gen_lr' : 1e-4,\n",
    "                        'lambda_gp' : 10,\n",
    "                        'gen_freq' : 1, \n",
    "                        'disc_freq':5, \n",
    "                        'disc_spectral_norm' : False,\n",
    "                        'gen_spectral_norm' : False, \n",
    "                        'loss_type' : \"wasserstein\",     \n",
    "                        'val_hparams' : {'val_nens':10}\n",
    "                       },\n",
    "        'train_hparams': {'epochs': 150, \n",
    "                          'gpus': 4, \n",
    "                          'batch_size': 64\n",
    "                         },\n",
    "        'data_hparams': {'train_dataset_path': \"/home/jupyter/data/saved_datasets/traindataset_ensemble_forecast_x10_log_trans_full.pkl\",\n",
    "                        'valid_dataset_path': \"/home/jupyter/data/saved_datasets/validdataset_ensemble_forecast_x10_log_trans_full.pkl\"}\n",
    "        \n",
    "}\n",
    "\n",
    "json.dump(args, open('../experiments/leingan_ens10_tp_stacked_input.json', 'w'))"
   ]
  },
  {
   "cell_type": "markdown",
   "id": "a454a894",
   "metadata": {},
   "source": [
    "### Leingan with ens10 tp random"
   ]
  },
  {
   "cell_type": "code",
   "execution_count": 3,
   "id": "312a915b",
   "metadata": {},
   "outputs": [],
   "source": [
    "args = {'gan': 'base',\n",
    "        'seed': 0,\n",
    "        'save_hparams':{'save_dir': '/home/jupyter/data/saved_models/', \n",
    "                       'run_name': 'leingan/ens10_tp/random/', \n",
    "                       'run_number': 0                       \n",
    "                      },\n",
    "        'gan_hparams': {'generator': 'leingen',\n",
    "                        'discriminator': 'leindisc',\n",
    "                        'noise_shape' : (1, 16, 16),\n",
    "                        'input_channels' : 1,\n",
    "                        'disc_lr' : 1e-4,\n",
    "                        'gen_lr' : 1e-4,\n",
    "                        'lambda_gp' : 10,\n",
    "                        'gen_freq' : 1, \n",
    "                        'disc_freq':5, \n",
    "                        'disc_spectral_norm' : False,\n",
    "                        'gen_spectral_norm' : False, \n",
    "                        'loss_type' : \"wasserstein\",     \n",
    "                        'val_hparams' : {'val_nens':10}\n",
    "                       },\n",
    "        'train_hparams': {'epochs': 200, \n",
    "                          'gpus': 4, \n",
    "                          'batch_size': 64\n",
    "                         },\n",
    "        'data_hparams': {'train_dataset_path': \"/home/jupyter/data/saved_datasets/traindataset_ensemble_forecast_x10_random_log_trans_full.pkl\",\n",
    "                        'valid_dataset_path': \"/home/jupyter/data/saved_datasets/validdataset_ensemble_forecast_x10_random_log_trans_full.pkl\"}\n",
    "        \n",
    "}\n",
    "\n",
    "json.dump(args, open('../experiments/leingan_ens10_tp_random_input.json', 'w'))"
   ]
  },
  {
   "cell_type": "markdown",
   "id": "5893c321",
   "metadata": {},
   "source": [
    "### Leingan with ens10 temp random lower lr"
   ]
  },
  {
   "cell_type": "code",
   "execution_count": 4,
   "id": "2459f7f7",
   "metadata": {},
   "outputs": [],
   "source": [
    "args = {'gan': 'base',\n",
    "        'seed': 0,\n",
    "        'save_hparams':{'save_dir': '/home/jupyter/data/saved_models/', \n",
    "                       'run_name': 'leingan/ens10_tp/random/', \n",
    "                       'run_number': 1                       \n",
    "                      },\n",
    "        'gan_hparams': {'generator': 'leingen',\n",
    "                        'discriminator': 'leindisc',\n",
    "                        'noise_shape' : (1, 16, 16),\n",
    "                        'input_channels' : 1,\n",
    "                        'disc_lr' : 5e-5,\n",
    "                        'gen_lr' : 5e-5,\n",
    "                        'lambda_gp' : 10,\n",
    "                        'gen_freq' : 1, \n",
    "                        'disc_freq':5, \n",
    "                        'disc_spectral_norm' : False,\n",
    "                        'gen_spectral_norm' : False, \n",
    "                        'loss_type' : \"wasserstein\",     \n",
    "                        'val_hparams' : {'val_nens':10}\n",
    "                       },\n",
    "        'train_hparams': {'epochs': 200, \n",
    "                          'gpus': 4, \n",
    "                          'batch_size': 64\n",
    "                         },\n",
    "        'data_hparams': {'train_dataset_path': \"/home/jupyter/data/saved_datasets/traindataset_ensemble_forecast_x10_random_log_trans_full.pkl\",\n",
    "                        'valid_dataset_path': \"/home/jupyter/data/saved_datasets/validdataset_ensemble_forecast_x10_random_log_trans_full.pkl\"}\n",
    "        \n",
    "}\n",
    "\n",
    "json.dump(args, open('../experiments/leingan_ens10_tp_random_input_low_lr.json', 'w'))"
   ]
  },
  {
   "cell_type": "markdown",
   "id": "ab1608be",
   "metadata": {},
   "source": [
    "### Leingan with ens10 tp random - gen loss: ens_mean_L1_weighted"
   ]
  },
  {
   "cell_type": "code",
   "execution_count": 1,
   "id": "65afa550",
   "metadata": {},
   "outputs": [],
   "source": [
    "import json\n",
    "args = {'gan': 'base2',\n",
    "        'seed': 0,\n",
    "        'save_hparams':{'save_dir': '/home/jupyter/data/saved_models/', \n",
    "                       'run_name': 'leingan/ens10_tp/random/ens_mean_L1_weighted_gen_loss/', \n",
    "                       'run_number': 3                 \n",
    "                      },\n",
    "        'gan_hparams': {'generator': 'leingen',\n",
    "                        'discriminator': 'leindisc',\n",
    "                        'noise_shape' : (6, 1, 16, 16),\n",
    "                        'input_channels' : 1,\n",
    "                        'disc_lr' : 5e-5,\n",
    "                        'gen_lr' : 5e-5,\n",
    "                        'lambda_gp' : 10,\n",
    "                        'b1': 0.0, \n",
    "                        'b2': 0.9,\n",
    "                        'gen_freq' : 1, \n",
    "                        'disc_freq': 5, \n",
    "                        'disc_spectral_norm' : False,\n",
    "                        'gen_spectral_norm' : False, \n",
    "                        'loss_hparams' : {'gen_loss':\"ens_mean_L1_weighted\", 'disc_loss':'wasserstein','lambda_l1_reg': 10  },     \n",
    "                        'val_hparams' : {'val_nens':10}\n",
    "                       },\n",
    "        'train_hparams': {'epochs': 350, \n",
    "                          'gpus': 4, \n",
    "                          'batch_size': 64\n",
    "                         },\n",
    "        'data_hparams': {'train_dataset_path': \"/home/jupyter/data/saved_datasets/traindataset_ensemble_forecast_x10_tp_random_log_trans.pkl\",\n",
    "                        'valid_dataset_path': \"/home/jupyter/data/saved_datasets/validdataset_ensemble_forecast_x10_tp_random_log_trans.pkl\"}\n",
    "        \n",
    "}\n",
    "\n",
    "json.dump(args, open('../experiments/leingan_ens10_tp_random_input_ens_mean_L1_weighted_gen_loss.json', 'w'))"
   ]
  },
  {
   "cell_type": "code",
   "execution_count": null,
   "id": "52ebb3a8",
   "metadata": {},
   "outputs": [],
   "source": []
  },
  {
   "cell_type": "markdown",
   "id": "e803303d",
   "metadata": {},
   "source": [
    "### Leingan with ens10 temp discriminator Spectral Norm"
   ]
  },
  {
   "cell_type": "code",
   "execution_count": 5,
   "id": "9859a3e0",
   "metadata": {},
   "outputs": [],
   "source": [
    "args = {'gan': 'base',\n",
    "        'seed': 0,\n",
    "        'save_hparams':{'save_dir': '/home/jupyter/data/saved_models/', \n",
    "                       'run_name': 'leingan/ens10_tp/random/', \n",
    "                       'run_number': 2                       \n",
    "                      },\n",
    "        'gan_hparams': {'generator': 'leingen',\n",
    "                        'discriminator': 'leindisc',\n",
    "                        'noise_shape' : (1, 16, 16),\n",
    "                        'input_channels' : 1,\n",
    "                        'disc_lr' : 1e-4,\n",
    "                        'gen_lr' : 1e-4,\n",
    "                        'lambda_gp' : 10,\n",
    "                        'gen_freq' : 1, \n",
    "                        'disc_freq':5, \n",
    "                        'disc_spectral_norm' : True,\n",
    "                        'gen_spectral_norm' : False, \n",
    "                        'loss_type' : \"wasserstein\",     \n",
    "                        'val_hparams' : {'val_nens':10}\n",
    "                       },\n",
    "        'train_hparams': {'epochs': 200, \n",
    "                          'gpus': 4, \n",
    "                          'batch_size': 64\n",
    "                         },\n",
    "        'data_hparams': {'train_dataset_path': \"/home/jupyter/data/saved_datasets/traindataset_ensemble_forecast_x10_random_log_trans_full.pkl\",\n",
    "                        'valid_dataset_path': \"/home/jupyter/data/saved_datasets/validdataset_ensemble_forecast_x10_random_log_trans_full.pkl\"}\n",
    "        \n",
    "}\n",
    "\n",
    "json.dump(args, open('../experiments/leingan_ens10_tp_discSN_random_input.json', 'w'))"
   ]
  },
  {
   "cell_type": "markdown",
   "id": "649520c5",
   "metadata": {},
   "source": [
    "### Leingan with ens10 tp and constants"
   ]
  },
  {
   "cell_type": "code",
   "execution_count": 6,
   "id": "7a08d7e4",
   "metadata": {},
   "outputs": [],
   "source": [
    "args = {'gan': 'base',\n",
    "        'seed': 0,\n",
    "        'save_hparams':{'save_dir': '/home/jupyter/data/saved_models/', \n",
    "                       'run_name': 'leingan/ens10_tp_with_consts/', \n",
    "                       'run_number': 0                       \n",
    "                      },\n",
    "        'gan_hparams': {'generator': 'leingen',\n",
    "                        'discriminator': 'leindisc',\n",
    "                        'noise_shape' : (1, 16, 16),\n",
    "                        'input_channels' : 12,\n",
    "                        'disc_lr' : 1e-4,\n",
    "                        'gen_lr' : 1e-4,\n",
    "                        'lambda_gp' : 10,\n",
    "                        'gen_freq' : 1, \n",
    "                        'disc_freq':5, \n",
    "                        'disc_spectral_norm' : False,\n",
    "                        'gen_spectral_norm' : False, \n",
    "                        'loss_type' : \"wasserstein\",     \n",
    "                        'val_hparams' : {'val_nens':10}\n",
    "                       },\n",
    "        'train_hparams': {'epochs': 200, \n",
    "                          'gpus': 4, \n",
    "                          'batch_size': 64\n",
    "                         },\n",
    "        'data_hparams': {'train_dataset_path': \"/home/jupyter/data/saved_datasets/traindataset_ensemble_forecast_x10_orog_lsm_log_trans_full.pkl\",\n",
    "                        'valid_dataset_path': \"/home/jupyter/data/saved_datasets/validdataset_ensemble_forecast_x10_orog_lsm_log_trans_full.pkl\"}\n",
    "        \n",
    "}\n",
    "\n",
    "json.dump(args, open('../experiments/leingan_ens10_tp_with_constants_input.json', 'w'))"
   ]
  },
  {
   "cell_type": "markdown",
   "id": "18e665d0",
   "metadata": {},
   "source": [
    "### Leingan with constants"
   ]
  },
  {
   "cell_type": "code",
   "execution_count": 7,
   "id": "dfb4f070",
   "metadata": {},
   "outputs": [],
   "source": [
    "args = {'gan': 'base',\n",
    "        'seed': 0,\n",
    "        'save_hparams':{'save_dir': '/home/jupyter/data/saved_models/', \n",
    "                       'run_name': 'leingan/single_forecast_with_consts/', \n",
    "                       'run_number': 0                       \n",
    "                      },\n",
    "        'gan_hparams': {'generator': 'leingen',\n",
    "                        'discriminator': 'leindisc',\n",
    "                        'noise_shape' : (1, 16, 16),\n",
    "                        'input_channels' : 3,\n",
    "                        'disc_lr' : 1e-4,\n",
    "                        'gen_lr' : 1e-4,\n",
    "                        'lambda_gp' : 10,\n",
    "                        'gen_freq' : 1, \n",
    "                        'disc_freq':5, \n",
    "                        'disc_spectral_norm' : False,\n",
    "                        'gen_spectral_norm' : False, \n",
    "                        'loss_type' : \"wasserstein\",     \n",
    "                        'val_hparams' : {'val_nens':10}\n",
    "                       },\n",
    "        'train_hparams': {'epochs': 200, \n",
    "                          'gpus': 4, \n",
    "                          'batch_size': 64\n",
    "                         },\n",
    "        'data_hparams': {'train_dataset_path': \"/home/jupyter/data/saved_datasets/traindataset_single_forecast_orog_lsm_log_trans_full.pkl\",\n",
    "                        'valid_dataset_path': \"/home/jupyter/data/saved_datasets/validdataset_single_forecast_orog_lsm_log_trans_full.pkl\"}\n",
    "        \n",
    "}\n",
    "\n",
    "json.dump(args, open('../experiments/leingan_single_forecast_with_constants_input.json', 'w'))"
   ]
  },
  {
   "cell_type": "markdown",
   "id": "4e171d8f",
   "metadata": {},
   "source": [
    "### Leingan with constants low lr"
   ]
  },
  {
   "cell_type": "code",
   "execution_count": 8,
   "id": "109117ed",
   "metadata": {},
   "outputs": [],
   "source": [
    "args = {'gan': 'base',\n",
    "        'seed': 0,\n",
    "        'save_hparams':{'save_dir': '/home/jupyter/data/saved_models/', \n",
    "                       'run_name': 'leingan/single_forecast_with_consts/', \n",
    "                       'run_number': 1                       \n",
    "                      },\n",
    "        'gan_hparams': {'generator': 'leingen',\n",
    "                        'discriminator': 'leindisc',\n",
    "                        'noise_shape' : (1, 16, 16),\n",
    "                        'input_channels' : 3,\n",
    "                        'disc_lr' : 5e-5,\n",
    "                        'gen_lr' : 5e-5,\n",
    "                        'lambda_gp' : 10,\n",
    "                        'gen_freq' : 1, \n",
    "                        'disc_freq':5, \n",
    "                        'disc_spectral_norm' : False,\n",
    "                        'gen_spectral_norm' : False, \n",
    "                        'loss_type' : \"wasserstein\",     \n",
    "                        'val_hparams' : {'val_nens':10}\n",
    "                       },\n",
    "        'train_hparams': {'epochs': 200, \n",
    "                          'gpus': 4, \n",
    "                          'batch_size': 64\n",
    "                         },\n",
    "        'data_hparams': {'train_dataset_path': \"/home/jupyter/data/saved_datasets/traindataset_single_forecast_orog_lsm_log_trans_full.pkl\",\n",
    "                        'valid_dataset_path': \"/home/jupyter/data/saved_datasets/validdataset_single_forecast_orog_lsm_log_trans_full.pkl\"}\n",
    "        \n",
    "}\n",
    "\n",
    "json.dump(args, open('../experiments/leingan_single_forecast_with_constants_input_low_lr.json', 'w'))"
   ]
  },
  {
   "cell_type": "markdown",
   "id": "8c17b524",
   "metadata": {},
   "source": [
    "### Leingan ensemble x10 tp with extra variables: column water, temperature, convective inhbition, convective avail potential energy"
   ]
  },
  {
   "cell_type": "code",
   "execution_count": 6,
   "id": "53ffd52a",
   "metadata": {},
   "outputs": [],
   "source": [
    "args = {'gan': 'base',\n",
    "        'seed': 0,\n",
    "        'save_hparams':{'save_dir': '/home/jupyter/data/saved_models/', \n",
    "                       'run_name': 'leingan/ens10_tp_added_vars_TCW-T-CAPE-CIN/random/', \n",
    "                       'run_number': 0                       \n",
    "                      },\n",
    "        'gan_hparams': {'generator': 'leingen',\n",
    "                        'discriminator': 'leindisc',\n",
    "                        'noise_shape' : (1, 16, 16),\n",
    "                        'input_channels' : 5,\n",
    "                        'disc_lr' : 1e-5,\n",
    "                        'gen_lr' : 1e-5,\n",
    "                        'lambda_gp' : 10,\n",
    "                        'gen_freq' : 1, \n",
    "                        'disc_freq':5, \n",
    "                        'disc_spectral_norm' : False,\n",
    "                        'gen_spectral_norm' : False, \n",
    "                        'loss_type' : \"wasserstein\",     \n",
    "                        'val_hparams' : {'val_nens':10}\n",
    "                       },\n",
    "        'train_hparams': {'epochs': 500, \n",
    "                          'gpus': 2, \n",
    "                          'batch_size': 64\n",
    "                         },\n",
    "        'data_hparams': {'train_dataset_path': \"/home/jupyter/data/saved_datasets/traindataset_ensemble_forecast_x10_random_extra_vars_TCW-T-CAPE-CIN_log_trans.pkl\",\n",
    "                        'valid_dataset_path': \"/home/jupyter/data/saved_datasets/validdataset_ensemble_forecast_x10_random_extra_vars_TCW-T-CAPE-CIN_log_trans.pkl\"}\n",
    "        \n",
    "}\n",
    "\n",
    "json.dump(args, open('../experiments/leingan_ens10_tp_random_added_vars_TCW-T-CAPE-CIN.json', 'w'))"
   ]
  },
  {
   "cell_type": "markdown",
   "id": "09956484",
   "metadata": {},
   "source": [
    "### Leingan single forcast tpwith extra variables: column water, temperature, convective inhbition, convective avail potential energy"
   ]
  },
  {
   "cell_type": "code",
   "execution_count": 3,
   "id": "f85e9aba",
   "metadata": {},
   "outputs": [],
   "source": [
    "import json\n",
    "\n",
    "args = {'gan': 'base',\n",
    "        'seed': 0,\n",
    "        'save_hparams':{'save_dir': '/home/jupyter/data/saved_models/', \n",
    "                       'run_name': 'leingan/single_forecast_tp_added_vars_TCW-T-CAPE-CIN/', \n",
    "                       'run_number': 2                       \n",
    "                      },\n",
    "        'gan_hparams': {'generator': 'leingen',\n",
    "                        'discriminator': 'leindisc',\n",
    "                        'noise_shape' : (1, 16, 16),\n",
    "                        'input_channels' : 5,\n",
    "                        'disc_lr' : 1e-5,\n",
    "                        'gen_lr' : 1e-5,\n",
    "                        'lambda_gp' : 10,\n",
    "                        'gen_freq' : 1, \n",
    "                        'disc_freq':5, \n",
    "                        'disc_spectral_norm' : False,\n",
    "                        'gen_spectral_norm' : False, \n",
    "                        'loss_type' : \"wasserstein\",     \n",
    "                        'val_hparams' : {'val_nens':10}\n",
    "                       },\n",
    "        'train_hparams': {'epochs':500, \n",
    "                          'gpus': 4, \n",
    "                          'batch_size': 64\n",
    "                         },\n",
    "        'data_hparams': {'train_dataset_path': \"/home/jupyter/data/saved_datasets/traindataset_single_forecast_tp_extra_vars_TCW-T-CAPE-CIN_log_trans.pkl\",\n",
    "                        'valid_dataset_path': \"/home/jupyter/data/saved_datasets/validdataset_single_forecast_tp_extra_vars_TCW-T-CAPE-CIN_log_trans.pkl\"}\n",
    "        \n",
    "}\n",
    "\n",
    "json.dump(args, open('../experiments/leingan_single_forecast_tp_added_vars_TCW-T-CAPE-CIN.json', 'w'))"
   ]
  },
  {
   "cell_type": "markdown",
   "id": "97b009d9",
   "metadata": {},
   "source": [
    "### Leingan single forcast tpwith extra variables: column water"
   ]
  },
  {
   "cell_type": "code",
   "execution_count": 1,
   "id": "83d4f72c",
   "metadata": {},
   "outputs": [],
   "source": [
    "import json\n",
    "\n",
    "args = {'gan': 'base',\n",
    "        'seed': 0,\n",
    "        'save_hparams':{'save_dir': '/home/jupyter/data/saved_models/', \n",
    "                       'run_name': 'leingan/single_forecast_tp_added_vars_TCW/', \n",
    "                       'run_number': 1                       \n",
    "                      },\n",
    "        'gan_hparams': {'generator': 'leingen',\n",
    "                        'discriminator': 'leindisc',\n",
    "                        'noise_shape' : (1, 16, 16),\n",
    "                        'input_channels' : 2,\n",
    "                        'disc_lr' : 5e-5,\n",
    "                        'gen_lr' : 5e-5,\n",
    "                        'lambda_gp' : 10,\n",
    "                        'gen_freq' : 1, \n",
    "                        'disc_freq':5, \n",
    "                        'disc_spectral_norm' : False,\n",
    "                        'gen_spectral_norm' : False, \n",
    "                        'loss_type' : \"wasserstein\",     \n",
    "                        'val_hparams' : {'val_nens':10}\n",
    "                       },\n",
    "        'train_hparams': {'epochs':300, \n",
    "                          'gpus': 3, \n",
    "                          'batch_size': 64\n",
    "                         },\n",
    "        'data_hparams': {'train_dataset_path': \"/home/jupyter/data/saved_datasets/traindataset_single_forecast_tp_extra_vars_TCW_log_trans.pkl\",\n",
    "                        'valid_dataset_path': \"/home/jupyter/data/saved_datasets/validdataset_single_forecast_tp_extra_vars_TCW_log_trans.pkl\"}\n",
    "        \n",
    "}\n",
    "\n",
    "json.dump(args, open('../experiments/leingan_single_forecast_tp_added_vars_TCW.json', 'w'))"
   ]
  },
  {
   "cell_type": "markdown",
   "id": "77838701",
   "metadata": {},
   "source": [
    "### Leingan single forcast super resolution pretraining"
   ]
  },
  {
   "cell_type": "code",
   "execution_count": 7,
   "id": "a79678e5",
   "metadata": {},
   "outputs": [],
   "source": [
    "import json\n",
    "\n",
    "args = {'gan': 'base2',\n",
    "        'seed': 0,\n",
    "        'save_hparams':{'save_dir': '/home/jupyter/data/saved_models/', \n",
    "                       'run_name': 'leingan/single_forecast_tp_pure_sr_pretraining/', \n",
    "                       'run_number': 0                       \n",
    "                      },\n",
    "        'gan_hparams': {'generator': 'leingen',\n",
    "                        'discriminator': 'leindisc',\n",
    "                        'noise_shape' : (1, 16, 16),\n",
    "                        'zero_noise': True,\n",
    "                        'input_channels' : 1,\n",
    "                        'disc_lr' : 5e-5,\n",
    "                        'gen_lr' : 5e-5,\n",
    "                        'lambda_gp' : 10,\n",
    "                        'b1': 0.0, \n",
    "                        'b2': 0.9,\n",
    "                        'gen_freq' : 1, \n",
    "                        'disc_freq':5, \n",
    "                        'disc_spectral_norm' : False,\n",
    "                        'gen_spectral_norm' : False, \n",
    "                        'loss_hparams' : {'gen_loss':\"wasserstein\", 'disc_loss':'wasserstein','lambda_l1_reg': 0},     \n",
    "                        'val_hparams' : {'val_nens':10}\n",
    "                       },\n",
    "        'train_hparams': {'epochs':200, \n",
    "                          'gpus': 4, \n",
    "                          'batch_size': 64\n",
    "                         },\n",
    "        'data_hparams': {'train_dataset_path': \"/home/jupyter/data/saved_datasets/traindataset_single_forecast_tp_pure_sr_log_trans.pkl\",\n",
    "                        'valid_dataset_path': \"/home/jupyter/data/saved_datasets/validdataset_single_forecast_tp_pure_sr_log_trans.pkl\"}\n",
    "        \n",
    "}\n",
    "\n",
    "json.dump(args, open('../experiments/leingan_single_forecast_tp_pure_sr_pretraining.json', 'w'))"
   ]
  },
  {
   "cell_type": "markdown",
   "id": "a6b4be49",
   "metadata": {},
   "source": [
    "### Leingan ens10 random finetuning post sr_pretraining"
   ]
  },
  {
   "cell_type": "code",
   "execution_count": 12,
   "id": "5bf6a5df",
   "metadata": {},
   "outputs": [],
   "source": [
    "import json\n",
    "\n",
    "args = {'gan': 'base2',\n",
    "        'seed': 0,\n",
    "        'save_hparams':{'save_dir': '/home/jupyter/data/saved_models/', \n",
    "                       'run_name': 'leingan/ens10_tp/random/post_sr_finetuning/', \n",
    "                       'run_number': 0                       \n",
    "                      },\n",
    "        'gan_hparams': {'generator': 'leingen',\n",
    "                        'discriminator': 'leindisc',\n",
    "                        'noise_shape' : (1, 16, 16),\n",
    "                        'zero_noise': False,\n",
    "                        'input_channels' : 1,\n",
    "                        'disc_lr' : 1e-5,\n",
    "                        'gen_lr' : 1e-5,\n",
    "                        'lambda_gp' : 10,\n",
    "                        'b1': 0.0, \n",
    "                        'b2': 0.9,\n",
    "                        'gen_freq' : 1, \n",
    "                        'disc_freq': 5, \n",
    "                        'disc_spectral_norm' : False,\n",
    "                        'gen_spectral_norm' : False, \n",
    "                        'loss_hparams' : {'gen_loss':\"wasserstein\", 'disc_loss':'wasserstein','lambda_l1_reg': 0},     \n",
    "                        'val_hparams' : {'val_nens':10}\n",
    "                       },\n",
    "        'train_hparams': {'epochs':400, \n",
    "                          'gpus':4, \n",
    "                          'batch_size': 64\n",
    "                         },\n",
    "        'data_hparams': {'train_dataset_path': \"/home/jupyter/data/saved_datasets/traindataset_ensemble_forecast_x10_tp_random_log_trans.pkl\",\n",
    "                        'valid_dataset_path': \"/home/jupyter/data/saved_datasets/validdataset_ensemble_forecast_x10_tp_random_log_trans.pkl\"}\n",
    "        \n",
    "}\n",
    "\n",
    "json.dump(args, open('../experiments/leingan_ens10_tp_random_finetuning.json', 'w'))"
   ]
  },
  {
   "cell_type": "markdown",
   "id": "deda8882",
   "metadata": {},
   "source": [
    "### BroadLeingan with extra variables: column water"
   ]
  },
  {
   "cell_type": "code",
   "execution_count": 6,
   "id": "bb5efe44",
   "metadata": {},
   "outputs": [],
   "source": [
    "import json\n",
    "\n",
    "args = {'gan': 'base2',\n",
    "        'seed': 0,\n",
    "        'save_hparams':{'save_dir': '/home/jupyter/data/saved_models/', \n",
    "                       'run_name': 'broadleingan/ens10_tp_added_vars_TCW/random/', \n",
    "                       'run_number': 7               \n",
    "                      },\n",
    "        'gan_hparams': {'generator': 'broadleingen',\n",
    "                        'discriminator': 'broadleindisc',\n",
    "                        'noise_shape' : (1, 16, 16),\n",
    "                        'zero_noise': False,\n",
    "                        'input_channels' : 2,\n",
    "                        'opt_hparams': {'gen_optimiser':'adam', 'disc_optimiser':'adam', \n",
    "                                        'disc_lr' : 5e-5, 'gen_lr': 5e-5, 'gen_freq' : 1, \n",
    "                                        'disc_freq':5, 'b1':0.0, 'b2' : 0.9},\n",
    "                        'disc_spectral_norm' : False,\n",
    "                        'gen_spectral_norm' : False, \n",
    "                        'loss_hparams' : {'gen_loss':\"wasserstein\", 'disc_loss':'wasserstein','lambda_l1_reg': 0, 'lambda_gp':10},     \n",
    "                        'val_hparams' : {'val_nens':10}\n",
    "                       },\n",
    "        'train_hparams': {'epochs':400, \n",
    "                          'gpus':4, \n",
    "                          'batch_size': 64\n",
    "                         },\n",
    "        'data_hparams': {'train_dataset_path': \"/home/jupyter/data/saved_datasets/traindataset_ensemble_forecast_x10_random_extra_vars_TCW_log_trans_padded_24.pkl\",\n",
    "                        'valid_dataset_path': \"/home/jupyter/data/saved_datasets/validdataset_ensemble_forecast_x10_random_extra_vars_TCW_log_trans_padded_24.pkl\"}\n",
    "        \n",
    "}\n",
    "\n",
    "json.dump(args, open('../experiments/broadleingan_ens10_tp_random_added_vars_TCW.json', 'w'))"
   ]
  },
  {
   "cell_type": "markdown",
   "id": "407bbe46",
   "metadata": {},
   "source": [
    "### BroadLeingan ens10 tp random"
   ]
  },
  {
   "cell_type": "code",
   "execution_count": 1,
   "id": "13e9325a",
   "metadata": {},
   "outputs": [],
   "source": [
    "import json\n",
    "\n",
    "args = {'gan': 'base2',\n",
    "        'seed': 0,\n",
    "        'save_hparams':{'save_dir': '/home/jupyter/data/saved_models/', \n",
    "                       'run_name': 'broadleingan/ens10_tp/random/', \n",
    "                       'run_number': 2         \n",
    "                      },\n",
    "        'gan_hparams': {'generator': 'broadleingen',\n",
    "                        'discriminator': 'broadleindisc',\n",
    "                        'noise_shape' : (1, 16, 16),\n",
    "                        'zero_noise': False,\n",
    "                        'input_channels' : 1,\n",
    "                        'opt_hparams': {'gen_optimiser':'adam', 'disc_optimiser':'adam', \n",
    "                                        'disc_lr' : 5e-6, 'gen_lr': 5e-6, 'gen_freq' : 1, \n",
    "                                        'disc_freq':5, 'b1':0.0, 'b2' : 0.9, \n",
    "                                         'gen_momentum': 0.9, 'disc_momentum': 0.9},\n",
    "                        'disc_spectral_norm' : False,\n",
    "                        'gen_spectral_norm' : False, \n",
    "                        'loss_hparams' : {'gen_loss':\"wasserstein\", 'disc_loss':'wasserstein','lambda_l1_reg': 0, 'lambda_gp':10},     \n",
    "                        'val_hparams' : {'val_nens':10}\n",
    "                       },\n",
    "        'train_hparams': {'epochs':1000, \n",
    "                          'gpus':4, \n",
    "                          'batch_size': 64\n",
    "                         },\n",
    "        'data_hparams': {'train_dataset_path': \"/home/jupyter/data/saved_datasets/traindataset_ensemble_forecast_x10_random_log_trans_padded_24.pkl\",\n",
    "                        'valid_dataset_path': \"/home/jupyter/data/saved_datasets/validdataset_ensemble_forecast_x10_random_log_trans_padded_24.pkl\"}\n",
    "        \n",
    "}\n",
    "\n",
    "json.dump(args, open('../experiments/broadleingan_ens10_tp_random.json', 'w'))"
   ]
  },
  {
   "cell_type": "code",
   "execution_count": null,
   "id": "d8ffac86",
   "metadata": {},
   "outputs": [],
   "source": []
  },
  {
   "cell_type": "markdown",
   "id": "1db61de2",
   "metadata": {},
   "source": [
    "### Leingan with broadfield channel and extra variables: total column water"
   ]
  },
  {
   "cell_type": "code",
   "execution_count": 1,
   "id": "3557feec",
   "metadata": {},
   "outputs": [],
   "source": [
    "import json\n",
    "\n",
    "args = {'gan': 'base2',\n",
    "        'seed': 0,\n",
    "        'save_hparams':{'save_dir': '/home/jupyter/data/saved_models/', \n",
    "                       'run_name': 'leingan/single_forecast_tp_broadfield_channel_added_vars_TCW/', \n",
    "                       'run_number': 1              \n",
    "                      },\n",
    "        'gan_hparams': {'generator': 'leingen',\n",
    "                        'discriminator': 'leindisc',\n",
    "                        'noise_shape' : (1, 16, 16),\n",
    "                        'zero_noise': False,\n",
    "                        'input_channels' : 3,\n",
    "                        'opt_hparams': {'gen_optimiser':'adam', 'disc_optimiser':'adam', \n",
    "                                        'disc_lr' : 1e-5, 'gen_lr': 1e-5, 'gen_freq' : 1, \n",
    "                                        'disc_freq':5, 'b1':0.0, 'b2' : 0.9},\n",
    "                        'disc_spectral_norm' : False,\n",
    "                        'gen_spectral_norm' : False, \n",
    "                        'loss_hparams' : {'gen_loss':\"wasserstein\", 'disc_loss':'wasserstein','lambda_l1_reg': 0, 'lambda_gp':10},     \n",
    "                        'val_hparams' : {'val_nens':10}\n",
    "                       },\n",
    "        'train_hparams': {'epochs':1000, \n",
    "                          'gpus':4, \n",
    "                          'batch_size': 64\n",
    "                         },\n",
    "        'data_hparams': {'train_dataset_path': \"/home/jupyter/data/saved_datasets/traindataset_single_forecast_tp_extra_vars_TCW_log_trans_padded_10_channel.pkl\",\n",
    "                        'valid_dataset_path': \"/home/jupyter/data/saved_datasets/validdataset_single_forecast_tp_extra_vars_TCW_log_trans_padded_10_channel.pkl\"}\n",
    "        \n",
    "}\n",
    "\n",
    "json.dump(args, open('../experiments/leingan_single_forecast_tp_broadfield_channel_added_vars_TCW.json', 'w'))"
   ]
  },
  {
   "cell_type": "code",
   "execution_count": null,
   "id": "838db5ae",
   "metadata": {},
   "outputs": [],
   "source": []
  },
  {
   "cell_type": "markdown",
   "id": "01fc5a44",
   "metadata": {},
   "source": [
    "### Leingan with broadfield channel and extra variables: total column water (ensemble) - with ens mean l1 loss"
   ]
  },
  {
   "cell_type": "code",
   "execution_count": 3,
   "id": "0cca895e",
   "metadata": {},
   "outputs": [],
   "source": [
    "import json\n",
    "\n",
    "args = {'gan': 'base2',\n",
    "        'seed': 0,\n",
    "        'save_hparams':{'save_dir': '/home/jupyter/data/saved_models/', \n",
    "                       'run_name': 'leingan/ens10_tp_and_added_vars_TCW_broadfield_channel/', \n",
    "                       'run_number':15         \n",
    "                      },\n",
    "        'gan_hparams': {'generator': 'leingen2',\n",
    "                        'discriminator': 'leindisc',\n",
    "                        'noise_shape' : (6, 1, 16, 16),\n",
    "                        'zero_noise': False,\n",
    "                        'input_channels' : 3,\n",
    "                        'opt_hparams': {'gen_optimiser':'adam', 'disc_optimiser':'adam', \n",
    "                                        'disc_lr' : 5e-5, 'gen_lr': 5e-5, 'gen_freq' : 1, \n",
    "                                        'disc_freq':5, 'b1':0.0, 'b2' : 0.9},\n",
    "                        'disc_spectral_norm' : False,\n",
    "                        'gen_spectral_norm' : False, \n",
    "                        'loss_hparams' : {'gen_loss':\"ens_mean_L1_weighted\", 'disc_loss':'wasserstein','lambda_l1_reg': 10, 'lambda_gp':10},     \n",
    "                        'val_hparams' : {'val_nens':10}\n",
    "                       },\n",
    "        'train_hparams': {'epochs':500, \n",
    "                          'gpus':4, \n",
    "                          'batch_size': 64\n",
    "                         },\n",
    "        'data_hparams': {'train_dataset_path': \"/home/jupyter/data/saved_datasets/traindataset_ensemble_tp_extra_vars_TCW_x10_log_trans_padded_10_channel.pkl\",\n",
    "                        'valid_dataset_path': \"/home/jupyter/data/saved_datasets/validdataset_ensemble_tp_extra_vars_TCW_x10_log_trans_padded_10_channel.pkl\"}\n",
    "        \n",
    "}\n",
    "\n",
    "json.dump(args, open('../experiments/leingan_ens10_tp_and_added_vars_TCW_broadfield_channel.json', 'w'))"
   ]
  },
  {
   "cell_type": "code",
   "execution_count": 4,
   "id": "2bec2df0",
   "metadata": {},
   "outputs": [],
   "source": [
    "import json\n",
    "\n",
    "args = {'gan': 'base2',\n",
    "        'seed': 0,\n",
    "        'save_hparams':{'save_dir': '/home/jupyter/data/saved_models/', \n",
    "                       'run_name': 'leingan/ens10_tp_and_added_vars_TCW_broadfield_channel/', \n",
    "                       'run_number': 13             \n",
    "                      },\n",
    "        'gan_hparams': {'generator': 'leingen2',\n",
    "                        'discriminator': 'leindisc',\n",
    "                        'noise_shape' : (6, 1, 16, 16),\n",
    "                        'zero_noise': False,\n",
    "                        'input_channels' : 3,\n",
    "                        'opt_hparams': {'gen_optimiser':'adam', 'disc_optimiser':'adam', \n",
    "                                        'disc_lr' : 5e-6, 'gen_lr': 5e-6, 'gen_freq' : 1, \n",
    "                                        'disc_freq':5, 'b1':0.0, 'b2' : 0.9},\n",
    "                        'disc_spectral_norm' : False,\n",
    "                        'gen_spectral_norm' : False, \n",
    "                        'loss_hparams' : {'gen_loss':\"ens_mean_L1_weighted\", 'disc_loss':'wasserstein','lambda_l1_reg': 10, 'lambda_gp':10},     \n",
    "                        'val_hparams' : {'val_nens':10}\n",
    "                       },\n",
    "        'train_hparams': {'epochs':500, \n",
    "                          'gpus':4, \n",
    "                          'batch_size': 64\n",
    "                         },\n",
    "        'data_hparams': {'train_dataset_path': \"/home/jupyter/data/saved_datasets/traindataset_ensemble_tp_extra_vars_TCW_x10_log_trans_padded_10_channel.pkl\",\n",
    "                        'valid_dataset_path': \"/home/jupyter/data/saved_datasets/validdataset_ensemble_tp_extra_vars_TCW_x10_log_trans_padded_10_channel.pkl\"}\n",
    "        \n",
    "}\n",
    "\n",
    "json.dump(args, open('../experiments/leingan_ens10_tp_and_added_vars_TCW_broadfield_channel.json', 'w'))"
   ]
  },
  {
   "cell_type": "markdown",
   "id": "e9f527ba",
   "metadata": {},
   "source": [
    "### Leingan (no log trans) with broadfield channel and extra variables: total column water (ensemble) - with ens mean l1 loss"
   ]
  },
  {
   "cell_type": "code",
   "execution_count": 2,
   "id": "93d04476",
   "metadata": {},
   "outputs": [],
   "source": [
    "import json\n",
    "\n",
    "args = {'gan': 'base2',\n",
    "        'seed': 0,\n",
    "        'save_hparams':{'save_dir': '/home/jupyter/data/saved_models/', \n",
    "                       'run_name': 'leingan/ens10_tp_and_added_vars_TCW_broadfield_channel/no_log_trans/', \n",
    "                       'run_number': 1            \n",
    "                      },\n",
    "        'gan_hparams': {'generator': 'leingen2',\n",
    "                        'discriminator': 'leindisc',\n",
    "                        'noise_shape' : (6, 1, 16, 16),\n",
    "                        'zero_noise': False,\n",
    "                        'input_channels' : 3,\n",
    "                        'opt_hparams': {'gen_optimiser':'adam', 'disc_optimiser':'adam', \n",
    "                                        'disc_lr' : 5e-5, 'gen_lr': 5e-5, 'gen_freq' : 1, \n",
    "                                        'disc_freq':5, 'b1':0.0, 'b2' : 0.9},\n",
    "                        'disc_spectral_norm' : False,\n",
    "                        'gen_spectral_norm' : False, \n",
    "                        'loss_hparams' : {'gen_loss':\"ens_mean_L1_weighted\", 'disc_loss':'wasserstein','lambda_l1_reg': 10, 'lambda_gp':10},     \n",
    "                        'val_hparams' : {'val_nens':10}\n",
    "                       },\n",
    "        'train_hparams': {'epochs':500, \n",
    "                          'gpus':4, \n",
    "                          'batch_size': 64\n",
    "                         },\n",
    "        'data_hparams': {'train_dataset_path': \"/home/jupyter/data/saved_datasets/traindataset_ensemble_tp_extra_vars_TCW_x10_padded_10_channel.pkl\",\n",
    "                        'valid_dataset_path': \"/home/jupyter/data/saved_datasets/validdataset_ensemble_tp_extra_vars_TCW_x10_padded_10_channel.pkl\"}\n",
    "        \n",
    "}\n",
    "\n",
    "json.dump(args, open('../experiments/leingan_ens10_tp_no_log_trans_and_added_vars_TCW_broadfield_channel.json', 'w'))"
   ]
  },
  {
   "cell_type": "markdown",
   "id": "dcb9688a",
   "metadata": {},
   "source": [
    "### Sanity check - train corrector given current leingen style architecture"
   ]
  },
  {
   "cell_type": "code",
   "execution_count": 2,
   "id": "8fb4bef3",
   "metadata": {},
   "outputs": [
    {
     "data": {
      "text/plain": [
       "{'tigge_dir': '/home/jupyter/data/tigge/32km/',\n",
       " 'tigge_vars': ['total_precipitation_ens10',\n",
       "  'total_column_water',\n",
       "  '2m_temperature',\n",
       "  'convective_available_potential_energy',\n",
       "  'convective_inhibition'],\n",
       " 'mrms_dir': '/home/jupyter/data/mrms/4km/RadarOnly_QPE_06H/',\n",
       " 'rq_fn': '/home/jupyter/data/mrms/4km/RadarQuality.nc',\n",
       " 'data_period': ('2018-01', '2019-12'),\n",
       " 'val_days': 5,\n",
       " 'split': 'train',\n",
       " 'pure_sr_ratio': None,\n",
       " 'tp_log': 0.01,\n",
       " 'ensemble_mode': 'random'}"
      ]
     },
     "execution_count": 2,
     "metadata": {},
     "output_type": "execute_result"
    }
   ],
   "source": [
    "import pickle\n",
    "\n",
    "args = pickle.load(open('/home/jupyter/data/saved_datasets/traindataset_ensemble_forecast_x10_random_extra_vars_TCW-T-CAPE-CIN_log_trans_args.pkl', 'rb'))\n",
    "args"
   ]
  },
  {
   "cell_type": "code",
   "execution_count": 2,
   "id": "7958722e",
   "metadata": {},
   "outputs": [],
   "source": [
    "import json\n",
    "\n",
    "args = {'gan': 'base2',\n",
    "        'seed': 2,\n",
    "        'save_hparams':{'save_dir': '/home/jupyter/data/saved_models/', \n",
    "                       'run_name': 'corrector/ensemble_forecast_x10_log_trans_random_extra_vars_TCW-T-CAPE-CIN_broadfield_channel_padded_10/', \n",
    "                       'run_number': 11\n",
    "                      },\n",
    "        'input_channels' : 6,\n",
    "        'train_hparams': {'epochs':500, \n",
    "                          'gpus':1, \n",
    "                          'batch_size': 64\n",
    "                         },\n",
    "        'data_hparams': {'train_dataset_path': \"/home/jupyter/data/saved_datasets/traindataset_ensemble_forecast_x10_log_trans_random_extra_vars_TCW-T-CAPE-CIN_broadfield_channel_padded_10.pkl\",\n",
    "                        'valid_dataset_path': \"/home/jupyter/data/saved_datasets/validdataset_ensemble_forecast_x10_log_trans_random_extra_vars_TCW-T-CAPE-CIN_broadfield_channel_padded_10.pkl\"}\n",
    "        \n",
    "}\n",
    "\n",
    "json.dump(args, open('../experiments/corrector_ensemble_forecast_x10_log_trans_random_extra_vars_TCW-T-CAPE-CIN_broadfield_channel_padded_10.json', 'w'))"
   ]
  },
  {
   "cell_type": "markdown",
   "id": "549513c5",
   "metadata": {},
   "source": [
    "# Eval args"
   ]
  },
  {
   "cell_type": "markdown",
   "id": "0e9a50a1",
   "metadata": {},
   "source": [
    "### Leingan with extra variables: column water, temperature, convective inhbition, convective avail potential energy"
   ]
  },
  {
   "cell_type": "code",
   "execution_count": 3,
   "id": "882ca9de",
   "metadata": {},
   "outputs": [],
   "source": [
    "args = {'gan': 'base',\n",
    "        'seed': 0,\n",
    "        'gpu':0,\n",
    "        'save_hparams':{'save_dir': '/home/jupyter/data/saved_models/', \n",
    "                       'run_name': 'leingan/ens10_tp_added_vars_TCW-T-CAPE-CIN/random/', \n",
    "                       'run_number': 0                       \n",
    "                      },\n",
    "        'model_path': '/home/jupyter/data/saved_models/leingan/ens10_random_tp_added_vars_TCW-T-CAPE-CIN/0/epoch=499-step=322499.ckpt',\n",
    "        'eval_hparams': {'batch_size': 128, \n",
    "                         'num_ens': 30\n",
    "                         },\n",
    "        'data_hparams': {'test_dataset_path': \"/home/jupyter/data/saved_datasets/testdataset_ensemble_forecast_x10_random_extra_vars_TCW-T-CAPE-CIN_log_trans_first_days_5.pkl\",\n",
    "                        }\n",
    "        \n",
    "}\n",
    "\n",
    "json.dump(args, open('../experiments/eval_leingan_ens10_tp_random_added_vars_TCW-T-CAPE-CIN.json', 'w'))"
   ]
  },
  {
   "cell_type": "markdown",
   "id": "23757ee4",
   "metadata": {},
   "source": [
    "### Leingan with extra variables: column water"
   ]
  },
  {
   "cell_type": "code",
   "execution_count": 11,
   "id": "c1b66f77",
   "metadata": {},
   "outputs": [],
   "source": [
    "args = {'gan': 'base',\n",
    "        'seed': 0,\n",
    "        'gpu':0,\n",
    "        'save_hparams':{'save_dir': '/home/jupyter/data/saved_models/', \n",
    "                       'run_name': 'leingan/single_forecast_tp_added_vars_TCW/', \n",
    "                       'run_number': 1                       \n",
    "                      },\n",
    "        'model_path': '/home/jupyter/data/saved_models/leingan/single_forecast_tp_added_vars_TCW/1/epoch=299-step=196499.ckpt',\n",
    "        'eval_hparams': {'batch_size': 128, \n",
    "                         'num_ens': 30\n",
    "                         },\n",
    "        'data_hparams': {'test_dataset_path': \"/home/jupyter/data/saved_datasets/testdataset_single_forecast_tp_extra_vars_TCW_log_trans_first_days_5.pkl\",\n",
    "                        }\n",
    "        \n",
    "}\n",
    "\n",
    "json.dump(args, open('../experiments/eval_leingan_single_forecast_tp_added_vars_TCW.json', 'w'))"
   ]
  },
  {
   "cell_type": "markdown",
   "id": "607af1ca",
   "metadata": {},
   "source": [
    "### Leingan with ens10 tp stacked"
   ]
  },
  {
   "cell_type": "code",
   "execution_count": 9,
   "id": "f8c8a687",
   "metadata": {},
   "outputs": [],
   "source": [
    "args = {'gan': 'base',\n",
    "        'seed': 0,\n",
    "        'gpu':0,\n",
    "        'save_hparams':{'save_dir': '/home/jupyter/data/saved_models/', \n",
    "                       'run_name': 'leingan/ens10_tp/stacked/', \n",
    "                       'run_number': 0                       \n",
    "                      },\n",
    "        'model_path': '/home/jupyter/data/saved_models/leingan/ens10_tp/stacked/0/epoch=149-step=100499.ckpt',\n",
    "        'eval_hparams': {'batch_size': 128, \n",
    "                         'num_ens': 30\n",
    "                         },\n",
    "        'data_hparams': {'test_dataset_path': \"/home/jupyter/data/saved_datasets/testdataset_ensemble_forecast_x10_tp_stacked_log_trans_first_days_5.pkl\"}\n",
    "        \n",
    "}\n",
    "\n",
    "json.dump(args, open('../experiments/eval_leingan_ens10_tp_stacked_input.json', 'w'))"
   ]
  },
  {
   "cell_type": "markdown",
   "id": "4b72af5c",
   "metadata": {},
   "source": [
    "### Leingan with ens10 tp random"
   ]
  },
  {
   "cell_type": "code",
   "execution_count": 10,
   "id": "12c416b4",
   "metadata": {},
   "outputs": [],
   "source": [
    "args = {'gan': 'base',\n",
    "        'seed': 0,\n",
    "        'gpu':1,\n",
    "        'save_hparams':{'save_dir': '/home/jupyter/data/saved_models/', \n",
    "                       'run_name': 'leingan/ens10_tp/random/', \n",
    "                       'run_number': 1                       \n",
    "                      },\n",
    "        'model_path': '/home/jupyter/data/saved_models/leingan/ens10_tp/random/1/epoch=199-step=133999.ckpt',\n",
    "        'eval_hparams': {'batch_size': 128, \n",
    "                         'num_ens': 30\n",
    "                         },\n",
    "        'data_hparams': {'test_dataset_path': \"/home/jupyter/data/saved_datasets/testdataset_ensemble_forecast_x10_tp_random_log_trans_first_days_5.pkl\"}\n",
    "        \n",
    "}\n",
    "\n",
    "json.dump(args, open('../experiments/eval_leingan_ens10_tp_random_input.json', 'w'))"
   ]
  },
  {
   "cell_type": "markdown",
   "id": "6f3c5592",
   "metadata": {},
   "source": [
    "### Leingan with single forecast"
   ]
  },
  {
   "cell_type": "code",
   "execution_count": 11,
   "id": "ac7a9d1a",
   "metadata": {},
   "outputs": [],
   "source": [
    "args = {'gan': 'base',\n",
    "        'seed': 0,\n",
    "        'gpu':2,\n",
    "        'save_hparams':{'save_dir': '/home/jupyter/data/saved_models/', \n",
    "                       'run_name': 'leingan/single_forecast/', \n",
    "                       'run_number': 0                       \n",
    "                      },\n",
    "        'model_path': '/home/jupyter/data/saved_models/leingan/single_forecast/0/epoch=120-step=324279.ckpt',\n",
    "        'eval_hparams': {'batch_size': 128, \n",
    "                         'num_ens': 30\n",
    "                         },\n",
    "        'data_hparams': {'test_dataset_path': \"/home/jupyter/data/saved_datasets/testdataset_single_forecast_tp_log_trans_first_days_5.pkl\"}\n",
    "        \n",
    "}\n",
    "\n",
    "json.dump(args, open('../experiments/eval_leingan_single_forecast_tp_input.json', 'w'))"
   ]
  },
  {
   "cell_type": "markdown",
   "id": "7913c2c2",
   "metadata": {},
   "source": [
    "### Leingan with single forecast with constants"
   ]
  },
  {
   "cell_type": "code",
   "execution_count": 12,
   "id": "2968a723",
   "metadata": {},
   "outputs": [],
   "source": [
    "args = {'gan': 'base',\n",
    "        'seed': 0,\n",
    "        'gpu':3,\n",
    "        'save_hparams':{'save_dir': '/home/jupyter/data/saved_models/', \n",
    "                       'run_name': 'leingan/single_forecast_with_consts/', \n",
    "                       'run_number': 1                       \n",
    "                      },\n",
    "        'model_path': '/home/jupyter/data/saved_models/leingan/single_forecast_with_consts/1/epoch=199-step=133999.ckpt',\n",
    "        'eval_hparams': {'batch_size': 128, \n",
    "                         'num_ens': 30\n",
    "                         },\n",
    "        'data_hparams': {'test_dataset_path': \"/home/jupyter/data/saved_datasets/testdataset_single_forecast_tp_orog_lsm_log_trans_first_days_5.pkl\"}\n",
    "        \n",
    "}\n",
    "\n",
    "json.dump(args, open('../experiments/eval_leingan_single_forecast_tp_with_consts_input.json', 'w'))"
   ]
  },
  {
   "cell_type": "markdown",
   "id": "32fda576",
   "metadata": {},
   "source": [
    "### wgan-gp single forecast"
   ]
  },
  {
   "cell_type": "code",
   "execution_count": 13,
   "id": "a5a53f46",
   "metadata": {},
   "outputs": [],
   "source": [
    "args = {'gan': 'wgan-gp',\n",
    "        'seed': 0,\n",
    "        'gpu':0,\n",
    "        'save_hparams':{'save_dir': '/home/jupyter/data/saved_models/', \n",
    "                       'run_name': 'wgan-gp/', \n",
    "                       'run_number': 0                       \n",
    "                      },\n",
    "        'model_path': '/home/jupyter/data/saved_models/wgan-gp/0/epoch=124-step=334999.ckpt',\n",
    "        'eval_hparams': {'batch_size': 128, \n",
    "                         'num_ens': 30\n",
    "                         },\n",
    "        'data_hparams': {'test_dataset_path': \"/home/jupyter/data/saved_datasets/testdataset_single_forecast_tp_log_trans_first_days_5.pkl\"}\n",
    "        \n",
    "}\n",
    "\n",
    "json.dump(args, open('../experiments/eval_wgan-gp_single_forecast_tp.json', 'w'))"
   ]
  },
  {
   "cell_type": "markdown",
   "id": "257b88d0",
   "metadata": {},
   "source": [
    "### wgan-gp-smoothed single forecast"
   ]
  },
  {
   "cell_type": "code",
   "execution_count": 14,
   "id": "c66a6466",
   "metadata": {},
   "outputs": [],
   "source": [
    "args = {'gan': 'wgan-gp',\n",
    "        'seed': 0,\n",
    "        'gpu':1,\n",
    "        'save_hparams':{'save_dir': '/home/jupyter/data/saved_models/', \n",
    "                       'run_name': 'wgan-gp-smoothed/', \n",
    "                       'run_number': 0                       \n",
    "                      },\n",
    "        'model_path': '/home/jupyter/data/saved_models/wgan-gp-smoothed/0/epoch=123-step=332319.ckpt',\n",
    "        'eval_hparams': {'batch_size': 128, \n",
    "                         'num_ens': 30\n",
    "                         },\n",
    "        'data_hparams': {'test_dataset_path': \"/home/jupyter/data/saved_datasets/testdataset_single_forecast_tp_log_trans_first_days_5.pkl\"}\n",
    "        \n",
    "}\n",
    "\n",
    "json.dump(args, open('../experiments/eval_wgan-gp-smoothed_single_forecast_tp.json', 'w'))"
   ]
  },
  {
   "cell_type": "markdown",
   "id": "f277a07b",
   "metadata": {},
   "source": [
    "### Broadleingan single forecast"
   ]
  },
  {
   "cell_type": "code",
   "execution_count": 22,
   "id": "44708328",
   "metadata": {},
   "outputs": [],
   "source": [
    "args = {'gan': 'leingan',\n",
    "        'seed': 0,\n",
    "        'gpu':2,\n",
    "        'save_hparams':{'save_dir': '/home/jupyter/data/saved_models/', \n",
    "                       'run_name': 'broadleingan/', \n",
    "                       'run_number': 0                       \n",
    "                      },\n",
    "        'model_path': '/home/jupyter/data/saved_models/broadleingan/0/epoch=343-step=358791.ckpt',\n",
    "        'eval_hparams': {'batch_size': 128, \n",
    "                         'num_ens': 30\n",
    "                         },\n",
    "        'data_hparams': {'test_dataset_path': \"/home/jupyter/data/saved_datasets/testdataset_single_forecast_only_log_trans_.pkl\"}\n",
    "        \n",
    "}\n",
    "\n",
    "json.dump(args, open('../experiments/eval_broadleingan_single_forecast_tp_input.json', 'w'))"
   ]
  },
  {
   "cell_type": "markdown",
   "id": "b6ddee65",
   "metadata": {},
   "source": [
    "### Leingan with ens10 tp random - gen loss: ens_mean_L1_weighted"
   ]
  },
  {
   "cell_type": "code",
   "execution_count": 1,
   "id": "bec9de40",
   "metadata": {},
   "outputs": [],
   "source": [
    "import json\n",
    "args = {'gan': 'base2',\n",
    "        'seed': 0,\n",
    "        'gpu':1,\n",
    "        'save_hparams':{'save_dir': '/home/jupyter/data/saved_models/', \n",
    "                       'run_name': 'leingan/ens10_tp/random/ens_mean_L1_weighted_gen_loss/', \n",
    "                       'run_number': 3                       \n",
    "                      },\n",
    "        'model_path': '/home/jupyter/data/saved_models/leingan/ens10_tp/random/ens_mean_L1_weighted_gen_loss/3/epoch=349-step=234499.ckpt',\n",
    "        'eval_hparams': {'batch_size': 128, \n",
    "                         'num_ens': 30\n",
    "                         },\n",
    "        'data_hparams': {'test_dataset_path': \"/home/jupyter/data/saved_datasets/testdataset_ensemble_forecast_x10_tp_random_log_trans_first_days_5.pkl\"}\n",
    "        \n",
    "}\n",
    "\n",
    "json.dump(args, open('../experiments/eval_leingan_ens10_tp_random_input_ens_mean_L1_weighted_gen_loss.json', 'w'))"
   ]
  },
  {
   "cell_type": "markdown",
   "id": "de408b4b",
   "metadata": {},
   "source": [
    "### Leingan super-resolution eval with ens10 tp stacked"
   ]
  },
  {
   "cell_type": "code",
   "execution_count": 11,
   "id": "8e1ee504",
   "metadata": {},
   "outputs": [],
   "source": [
    "import json\n",
    "args = {'gan': 'base2',\n",
    "        'seed': 0,\n",
    "        'gpu':1,\n",
    "        'super_resolution': True,\n",
    "        'save_hparams':{'save_dir': '/home/jupyter/data/saved_models/', \n",
    "                       'run_name': 'leingan/single_forecast_tp_pure_sr_pretraining/', \n",
    "                       'run_number': 0                       \n",
    "                      },\n",
    "        'model_path': '/home/jupyter/data/saved_models/leingan/single_forecast_tp_pure_sr_pretraining/0/epoch=199-step=133999.ckpt',\n",
    "        'eval_hparams': {'batch_size': 128, \n",
    "                         'num_ens': 10\n",
    "                         },\n",
    "        'data_hparams': {'test_dataset_path': \"/home/jupyter/data/saved_datasets/testdataset_ensemble_forecast_x10_tp_stacked_log_trans_first_days_5.pkl\"}\n",
    "        \n",
    "}\n",
    "\n",
    "json.dump(args, open('../experiments/eval_leingan_pure_sr_on_ens10_tp_stacked.json', 'w'))"
   ]
  },
  {
   "cell_type": "markdown",
   "id": "2af8d4cc",
   "metadata": {},
   "source": []
  },
  {
   "cell_type": "markdown",
   "id": "cfb815ab",
   "metadata": {},
   "source": [
    "### Leingan with broadfield channel and extra variables: total column water"
   ]
  },
  {
   "cell_type": "code",
   "execution_count": 1,
   "id": "b8524fc8",
   "metadata": {},
   "outputs": [],
   "source": [
    "import json\n",
    "args = {'gan': 'base2',\n",
    "        'seed': 0,\n",
    "        'gpu': 0,\n",
    "        'save_hparams':{'save_dir': '/home/jupyter/data/saved_models/', \n",
    "                       'run_name': 'leingan/single_forecast_tp_broadfield_channel_added_vars_TCW/', \n",
    "                       'run_number': 1               \n",
    "                      },\n",
    "        'model_path': '/home/jupyter/data/saved_models/leingan/single_forecast_tp_broadfield_channel_added_vars_TCW/1/epoch=919-step=477479.ckpt',\n",
    "        'eval_hparams': {'batch_size': 128, \n",
    "                         'num_ens': 30\n",
    "                         },\n",
    "        'data_hparams': {'test_dataset_path': \"/home/jupyter/data/saved_datasets/testdataset_single_forecast_tp_extra_vars_TCW_log_trans_padded_10_channel_first_days_5.pkl\"}\n",
    "        \n",
    "}\n",
    "\n",
    "json.dump(args, open('../experiments/eval_leingan_single_forecast_tp_broadfield_channel_added_vars_TCW.json', 'w'))"
   ]
  },
  {
   "cell_type": "code",
   "execution_count": null,
   "id": "727195e0",
   "metadata": {},
   "outputs": [],
   "source": []
  },
  {
   "cell_type": "markdown",
   "id": "d25f7417",
   "metadata": {},
   "source": [
    "### Leingan with ent10 tp, broadfield channel and extra variables: total column water"
   ]
  },
  {
   "cell_type": "code",
   "execution_count": 1,
   "id": "4eefb4da",
   "metadata": {},
   "outputs": [],
   "source": [
    "import json\n",
    "args = {'gan': 'base2',\n",
    "        'seed': 0,\n",
    "        'gpu': 0,\n",
    "        'save_hparams':{'save_dir': '/home/jupyter/data/saved_models/', \n",
    "                       'run_name': 'leingan/ens10_tp_and_added_vars_TCW_broadfield_channel/', \n",
    "                       'run_number': 15              \n",
    "                      },\n",
    "        'model_path': '/home/jupyter/data/saved_models/leingan/ens10_tp_and_added_vars_TCW_broadfield_channel/15/epoch=499-step=258499.ckpt',\n",
    "        'eval_hparams': {'batch_size': 128, \n",
    "                         'num_ens': 30\n",
    "                         },\n",
    "        'data_hparams': {'test_dataset_path': \"/home/jupyter/data/saved_datasets/testdataset_ensemble_tp_extra_vars_TCW_x10_log_trans_padded_10_channel_first_days_5.pkl\"}\n",
    "        \n",
    "}\n",
    "\n",
    "json.dump(args, open('../experiments/eval_leingan_ensemble_tp_and_added_vars_TCW_with_broadfield_channel2.json', 'w'))"
   ]
  },
  {
   "cell_type": "code",
   "execution_count": null,
   "id": "c809c517",
   "metadata": {},
   "outputs": [],
   "source": []
  },
  {
   "cell_type": "markdown",
   "id": "231e7661",
   "metadata": {},
   "source": [
    "### Test"
   ]
  },
  {
   "cell_type": "code",
   "execution_count": 2,
   "id": "7327b948",
   "metadata": {},
   "outputs": [],
   "source": [
    "# args = {'gan': 'base',\n",
    "#         'seed': 0,\n",
    "#         'save_hparams':{'save_dir': '/home/jupyter/data/saved_models/', \n",
    "#                        'run_name': 'leingan/ens10_temperature/', \n",
    "#                        'run_number': 0                       \n",
    "#                       },\n",
    "#         'model_path': '/home/jupyter/data/saved_models/leingan/ens10_temperature/0/epoch=149-step=100499.ckpt',\n",
    "#         'eval_hparams': {'batch_size': 128, \n",
    "#                          'num_ens': 50\n",
    "#                          },\n",
    "#         'data_hparams': {'test_dataset_path': \"/home/jupyter/data/saved_datasets/testdataset_ensemble_forecast_x10_log_trans_sample.pkl\"}\n",
    "        \n",
    "# }\n",
    "\n",
    "# json.dump(args, open('../experiments/eval_test.json', 'w'))"
   ]
  },
  {
   "cell_type": "markdown",
   "id": "a3687e1e",
   "metadata": {},
   "source": [
    "# Models to eval:"
   ]
  },
  {
   "cell_type": "code",
   "execution_count": 2,
   "id": "0226fd9c",
   "metadata": {},
   "outputs": [],
   "source": [
    "import json\n",
    "\n",
    "models = {1: '/home/jupyter/nwp-downscale/experiments/eval_wgan-gp_single_forecast_tp.json',\n",
    "          2: '/home/jupyter/nwp-downscale/experiments/eval_wgan-gp-smoothed_single_forecast_tp.json',\n",
    "          3: '/home/jupyter/nwp-downscale/experiments/eval_leingan_single_forecast_tp_input.json',\n",
    "          4: '/home/jupyter/nwp-downscale/experiments/eval_leingan_single_forecast_tp_with_consts_input.json',\n",
    "          5: '/home/jupyter/nwp-downscale/experiments/eval_leingan_ens10_tp_stacked_input.json',\n",
    "          6: '/home/jupyter/nwp-downscale/experiments/eval_leingan_ens10_tp_random_input.json',\n",
    "          7: '/home/jupyter/nwp-downscale/experiments/eval_leingan_ens10_tp_random_added_vars_TCW-T-CAPE-CIN.json',\n",
    "          8: '/home/jupyter/nwp-downscale/experiments/eval_leingan_single_forecast_tp_added_vars_TCW.json', \n",
    "          9: '/home/jupyter/nwp-downscale/experiments/eval_leingan_ens10_tp_random_input_ens_mean_L1_weighted_gen_loss.json', \n",
    "          10: '/home/jupyter/nwp-downscale/experiments/eval_leingan_pure_sr_on_ens10_tp_stacked.json', \n",
    "          11: '/home/jupyter/nwp-downscale/experiments/eval_leingan_single_forecast_tp_broadfield_channel_added_vars_TCW.json', \n",
    "          12: '/home/jupyter/nwp-downscale/experiments/eval_leingan_ensemble_tp_and_added_vars_TCW_with_broadfield_channel.json'\n",
    "         }\n",
    "\n",
    "json.dump(models, open('../experiments/model_eval_config_paths.json', 'w'))"
   ]
  },
  {
   "cell_type": "code",
   "execution_count": null,
   "id": "379e9046",
   "metadata": {},
   "outputs": [],
   "source": []
  }
 ],
 "metadata": {
  "environment": {
   "name": "tf2-gpu.2-3.m74",
   "type": "gcloud",
   "uri": "gcr.io/deeplearning-platform-release/tf2-gpu.2-3:m74"
  },
  "kernelspec": {
   "display_name": "Python [conda env:ilan]",
   "language": "python",
   "name": "conda-env-ilan-py"
  },
  "language_info": {
   "codemirror_mode": {
    "name": "ipython",
    "version": 3
   },
   "file_extension": ".py",
   "mimetype": "text/x-python",
   "name": "python",
   "nbconvert_exporter": "python",
   "pygments_lexer": "ipython3",
   "version": "3.9.5"
  }
 },
 "nbformat": 4,
 "nbformat_minor": 5
}
