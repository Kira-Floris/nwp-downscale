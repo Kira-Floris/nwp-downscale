{
 "cells": [
  {
   "cell_type": "code",
   "execution_count": 1,
   "id": "convertible-controversy",
   "metadata": {},
   "outputs": [],
   "source": [
    "%load_ext autoreload\n",
    "%autoreload 2"
   ]
  },
  {
   "cell_type": "code",
   "execution_count": 2,
   "id": "close-sherman",
   "metadata": {},
   "outputs": [],
   "source": [
    "import xarray as xr\n",
    "import numpy as np\n",
    "import matplotlib.pyplot as plt\n",
    "import torch.nn as nn\n",
    "import torch\n",
    "import pandas as pd\n",
    "if torch.cuda.is_available():\n",
    "    device = torch.device(\"cuda\") \n",
    "else:\n",
    "    device = torch.device(\"cpu\")"
   ]
  },
  {
   "cell_type": "code",
   "execution_count": 3,
   "id": "destroyed-tenant",
   "metadata": {},
   "outputs": [],
   "source": [
    "from src.dataloader import *\n",
    "from src.models import *\n",
    "from src.trainer import *\n",
    "from src.utils import *"
   ]
  },
  {
   "cell_type": "code",
   "execution_count": 4,
   "id": "innovative-insider",
   "metadata": {},
   "outputs": [],
   "source": [
    "DATADRIVE = '/datadrive_ssd/'"
   ]
  },
  {
   "cell_type": "code",
   "execution_count": 5,
   "id": "sublime-warrior",
   "metadata": {},
   "outputs": [
    {
     "data": {
      "text/plain": [
       "(128, 95.25)"
      ]
     },
     "execution_count": 5,
     "metadata": {},
     "output_type": "execute_result"
    }
   ],
   "source": [
    "interval=0.75\n",
    "cat_bins = np.arange(0, interval*128, interval)\n",
    "len(cat_bins), max(cat_bins)"
   ]
  },
  {
   "cell_type": "markdown",
   "id": "selected-survivor",
   "metadata": {},
   "source": [
    "## Load data"
   ]
  },
  {
   "cell_type": "code",
   "execution_count": 6,
   "id": "willing-prerequisite",
   "metadata": {},
   "outputs": [
    {
     "name": "stderr",
     "output_type": "stream",
     "text": [
      "/anaconda/envs/nwp-downscale/lib/python3.8/site-packages/xarray/core/indexing.py:1369: PerformanceWarning: Slicing is producing a large chunk. To accept the large\n",
      "chunk and silence this warning, set the option\n",
      "    >>> with dask.config.set(**{'array.slicing.split_large_chunks': False}):\n",
      "    ...     array[indexer]\n",
      "\n",
      "To avoid creating the large chunks, set the option\n",
      "    >>> with dask.config.set(**{'array.slicing.split_large_chunks': True}):\n",
      "    ...     array[indexer]\n",
      "  return self.array[key]\n"
     ]
    },
    {
     "name": "stdout",
     "output_type": "stream",
     "text": [
      "Loading data\n"
     ]
    }
   ],
   "source": [
    "ds_train = TiggeMRMSDataset(\n",
    "    tigge_dir=f'{DATADRIVE}/tigge/32km/',\n",
    "    tigge_vars=['total_precipitation'],\n",
    "    mrms_dir=f'{DATADRIVE}/mrms/4km/RadarOnly_QPE_06H/',\n",
    "    rq_fn=f'{DATADRIVE}/mrms/4km/RadarQuality.nc',\n",
    "    data_period=('2018-01', '2019-12'),\n",
    "    val_days=5,\n",
    "    cat_bins=cat_bins,\n",
    "    split='train',\n",
    "    tp_log=1\n",
    ")"
   ]
  },
  {
   "cell_type": "code",
   "execution_count": null,
   "id": "unauthorized-blackjack",
   "metadata": {},
   "outputs": [
    {
     "name": "stderr",
     "output_type": "stream",
     "text": [
      "/anaconda/envs/nwp-downscale/lib/python3.8/site-packages/xarray/core/indexing.py:1369: PerformanceWarning: Slicing is producing a large chunk. To accept the large\n",
      "chunk and silence this warning, set the option\n",
      "    >>> with dask.config.set(**{'array.slicing.split_large_chunks': False}):\n",
      "    ...     array[indexer]\n",
      "\n",
      "To avoid creating the large chunks, set the option\n",
      "    >>> with dask.config.set(**{'array.slicing.split_large_chunks': True}):\n",
      "    ...     array[indexer]\n",
      "  return self.array[key]\n"
     ]
    },
    {
     "name": "stdout",
     "output_type": "stream",
     "text": [
      "Loading data\n"
     ]
    }
   ],
   "source": [
    "ds_valid = TiggeMRMSDataset(\n",
    "    tigge_dir=f'{DATADRIVE}/tigge/32km/',\n",
    "    tigge_vars=['total_precipitation'],\n",
    "    mrms_dir=f'{DATADRIVE}/mrms/4km/RadarOnly_QPE_06H/',\n",
    "    rq_fn=f'{DATADRIVE}/mrms/4km/RadarQuality.nc',\n",
    "    data_period=('2018-01', '2019-12'),\n",
    "    val_days=5,\n",
    "    cat_bins=cat_bins,\n",
    "    split='valid',\n",
    "    tp_log=1,\n",
    "    mins=ds_train.mins,\n",
    "    maxs=ds_train.maxs\n",
    ")"
   ]
  },
  {
   "cell_type": "code",
   "execution_count": null,
   "id": "authentic-terrace",
   "metadata": {},
   "outputs": [],
   "source": [
    "sampler_train = torch.utils.data.WeightedRandomSampler(ds_train.compute_weights(), len(ds_train))\n",
    "sampler_valid = torch.utils.data.WeightedRandomSampler(ds_valid.compute_weights(), len(ds_valid))"
   ]
  },
  {
   "cell_type": "code",
   "execution_count": null,
   "id": "stuffed-details",
   "metadata": {},
   "outputs": [],
   "source": [
    "dl_train = torch.utils.data.DataLoader(ds_train, batch_size=16, sampler=sampler_train)\n",
    "dl_valid = torch.utils.data.DataLoader(ds_valid, batch_size=16, sampler=sampler_valid)"
   ]
  },
  {
   "cell_type": "code",
   "execution_count": null,
   "id": "latin-quick",
   "metadata": {},
   "outputs": [],
   "source": [
    "X, y = ds_valid[600]\n",
    "X.shape, y.shape"
   ]
  },
  {
   "cell_type": "markdown",
   "id": "opposite-celebration",
   "metadata": {},
   "source": [
    "## Model"
   ]
  },
  {
   "cell_type": "code",
   "execution_count": null,
   "id": "hispanic-spoke",
   "metadata": {},
   "outputs": [],
   "source": [
    "gen = Generator(\n",
    "    nres=3, nf_in=1, nf=256, nout=128, activation_out='softmax', use_noise=False,\n",
    "    spectral_norm=False, halve_filters_up=False, batch_norm=True\n",
    ").to(device)"
   ]
  },
  {
   "cell_type": "code",
   "execution_count": null,
   "id": "viral-interstate",
   "metadata": {},
   "outputs": [],
   "source": [
    "count_parameters(gen)"
   ]
  },
  {
   "cell_type": "code",
   "execution_count": null,
   "id": "beginning-builder",
   "metadata": {},
   "outputs": [],
   "source": [
    "criterion = nn.CrossEntropyLoss()\n",
    "optimizer = torch.optim.Adam(gen.parameters(), lr=1e-4)"
   ]
  },
  {
   "cell_type": "code",
   "execution_count": null,
   "id": "engaging-popularity",
   "metadata": {},
   "outputs": [],
   "source": [
    "trainer = Trainer(gen, optimizer, criterion, dl_train, dl_valid)"
   ]
  },
  {
   "cell_type": "code",
   "execution_count": null,
   "id": "worse-shark",
   "metadata": {},
   "outputs": [],
   "source": [
    "trainer.fit(10)"
   ]
  },
  {
   "cell_type": "code",
   "execution_count": null,
   "id": "preceding-agency",
   "metadata": {},
   "outputs": [],
   "source": [
    "trainer.plot_losses()"
   ]
  },
  {
   "cell_type": "code",
   "execution_count": null,
   "id": "undefined-valuable",
   "metadata": {},
   "outputs": [],
   "source": [
    "with open('01.trainer', 'wb') as f:\n",
    "    pickle.dump(trainer, f)"
   ]
  },
  {
   "cell_type": "code",
   "execution_count": null,
   "id": "later-order",
   "metadata": {},
   "outputs": [],
   "source": []
  }
 ],
 "metadata": {
  "kernelspec": {
   "display_name": "nwp-downscale",
   "language": "python",
   "name": "conda-env-nwp-downscale-py"
  },
  "language_info": {
   "codemirror_mode": {
    "name": "ipython",
    "version": 3
   },
   "file_extension": ".py",
   "mimetype": "text/x-python",
   "name": "python",
   "nbconvert_exporter": "python",
   "pygments_lexer": "ipython3",
   "version": "3.8.6"
  }
 },
 "nbformat": 4,
 "nbformat_minor": 5
}
