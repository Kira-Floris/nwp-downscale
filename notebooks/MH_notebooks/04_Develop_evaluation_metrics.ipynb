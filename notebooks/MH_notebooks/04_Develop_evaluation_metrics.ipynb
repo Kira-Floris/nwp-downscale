{
 "cells": [
  {
   "cell_type": "code",
   "execution_count": null,
   "metadata": {},
   "outputs": [],
   "source": [
    "def compute_eval_metrics(y_gen, y_base, y):\n",
    "    \"\"\" \n",
    "    y_gen: single sample produced by the Generator, CNN, ... \n",
    "    y_base: baseline sample, e.g. produced via bilinea interpolation\n",
    "    y: radar data \n",
    "    \"\"\""
   ]
  }
 ],
 "metadata": {
  "kernelspec": {
   "display_name": "nwp-downscale",
   "language": "python",
   "name": "conda-env-nwp-downscale-py"
  },
  "language_info": {
   "codemirror_mode": {
    "name": "ipython",
    "version": 3
   },
   "file_extension": ".py",
   "mimetype": "text/x-python",
   "name": "python",
   "nbconvert_exporter": "python",
   "pygments_lexer": "ipython3",
   "version": "3.8.6"
  }
 },
 "nbformat": 4,
 "nbformat_minor": 4
}
