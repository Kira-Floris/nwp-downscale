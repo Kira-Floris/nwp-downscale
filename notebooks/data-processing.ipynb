{
 "cells": [
  {
   "cell_type": "code",
   "execution_count": 3,
   "id": "0a588dcd",
   "metadata": {},
   "outputs": [],
   "source": [
    "import torch\n",
    "from torch.nn import functional as F\n",
    "from torch import nn\n",
    "from pytorch_lightning.core.lightning import LightningModule\n",
    "import pytorch_lightning as pl\n",
    "\n",
    "import torch.optim as optim\n",
    "import torchvision\n",
    "import torchvision.datasets as datasets\n",
    "import torchvision.transforms as transforms\n",
    "from torch.utils.data import DataLoader\n",
    "\n",
    "from src.models import *\n",
    "from src.dataloader import *\n",
    "from src.utils import *\n",
    "\n",
    "import xarray as xr\n",
    "import numpy as np\n",
    "import matplotlib.pyplot as plt\n",
    "\n",
    "import pickle\n",
    "import json"
   ]
  },
  {
   "cell_type": "markdown",
   "id": "2ab055aa",
   "metadata": {},
   "source": [
    "## Train and Val"
   ]
  },
  {
   "cell_type": "code",
   "execution_count": 4,
   "id": "6efabd99",
   "metadata": {},
   "outputs": [],
   "source": [
    "data_dir = '/home/jupyter/data/'"
   ]
  },
  {
   "cell_type": "code",
   "execution_count": 5,
   "id": "0917e59c",
   "metadata": {},
   "outputs": [],
   "source": [
    "args = {'tigge_dir':data_dir + f'tigge/32km/',\n",
    "    'tigge_vars':['total_precipitation_ens10','total_column_water', '2m_temperature', 'convective_available_potential_energy', 'convective_inhibition'],\n",
    "    'mrms_dir':data_dir + f'mrms/4km/RadarOnly_QPE_06H/',\n",
    "    'rq_fn':data_dir + f'mrms/4km/RadarQuality.nc',\n",
    "#     'const_fn':data_dir + 'tigge/32km/constants.nc',\n",
    "#     'const_vars':['orog', 'lsm'],\n",
    "    'data_period':('2018-01', '2019-12'),\n",
    "    'val_days':5,\n",
    "    'split':'train',\n",
    "#     'pure_sr_ratio':8, \n",
    "    'tp_log':0.01, \n",
    "    'scale':True,\n",
    "    'ensemble_mode':'stack_by_variable',\n",
    "    'pad_tigge':15,\n",
    "    'pad_tigge_channel': True, \n",
    "    'idx_stride': 16\n",
    "    }\n",
    "\n",
    "# save_dir = '/home/jupyter/data/data_patches/'\n",
    "dataset_name = 'ensemble_tp_extra_vars_TCW-T-CAPE-CIN_log_trans_padded_15_channel'"
   ]
  },
  {
   "cell_type": "code",
   "execution_count": 6,
   "id": "0a1af6b0",
   "metadata": {},
   "outputs": [
    {
     "name": "stdout",
     "output_type": "stream",
     "text": [
      "setting nans in convective_inhibition to 0\n"
     ]
    },
    {
     "name": "stderr",
     "output_type": "stream",
     "text": [
      "/opt/conda/envs/ilan/lib/python3.9/site-packages/xarray/core/indexing.py:1379: PerformanceWarning: Slicing is producing a large chunk. To accept the large\n",
      "chunk and silence this warning, set the option\n",
      "    >>> with dask.config.set(**{'array.slicing.split_large_chunks': False}):\n",
      "    ...     array[indexer]\n",
      "\n",
      "To avoid creating the large chunks, set the option\n",
      "    >>> with dask.config.set(**{'array.slicing.split_large_chunks': True}):\n",
      "    ...     array[indexer]\n",
      "  return self.array[key]\n"
     ]
    },
    {
     "name": "stdout",
     "output_type": "stream",
     "text": [
      "Loading data\n"
     ]
    }
   ],
   "source": [
    "ds_train = TiggeMRMSDataset(**args)"
   ]
  },
  {
   "cell_type": "code",
   "execution_count": null,
   "id": "92a61fa4",
   "metadata": {},
   "outputs": [],
   "source": []
  },
  {
   "cell_type": "code",
   "execution_count": 12,
   "id": "757d99ba",
   "metadata": {},
   "outputs": [],
   "source": [
    "# pickle.dump(args, open(save_dir+'train/configs/dataset_args.pkl', 'wb'))"
   ]
  },
  {
   "cell_type": "code",
   "execution_count": null,
   "id": "ee7df262",
   "metadata": {},
   "outputs": [],
   "source": [
    "#save_images(ds_train, save_dir, 'train')"
   ]
  },
  {
   "cell_type": "code",
   "execution_count": 6,
   "id": "71615772",
   "metadata": {},
   "outputs": [],
   "source": [
    "pickle.dump(ds_train, open(data_dir + f\"saved_datasets/traindataset_{dataset_name}.pkl\", \"wb\"))\n",
    "pickle.dump(args, open(data_dir + f\"saved_datasets/traindataset_{dataset_name}_args.pkl\", \"wb\"))"
   ]
  },
  {
   "cell_type": "code",
   "execution_count": 13,
   "id": "aeabad47",
   "metadata": {},
   "outputs": [],
   "source": [
    "val_args = args\n",
    "val_args['maxs'] = ds_train.maxs\n",
    "val_args['mins'] = ds_train.mins\n",
    "val_args['split'] = 'valid'\n",
    "\n",
    "#ds_valid = TiggeMRMSDataset(**val_args)"
   ]
  },
  {
   "cell_type": "code",
   "execution_count": 14,
   "id": "76b59a5a",
   "metadata": {},
   "outputs": [
    {
     "ename": "NameError",
     "evalue": "name 'ds_valid' is not defined",
     "output_type": "error",
     "traceback": [
      "\u001b[0;31m---------------------------------------------------------------------------\u001b[0m",
      "\u001b[0;31mNameError\u001b[0m                                 Traceback (most recent call last)",
      "\u001b[0;32m<ipython-input-14-475ae31dc870>\u001b[0m in \u001b[0;36m<module>\u001b[0;34m\u001b[0m\n\u001b[1;32m      1\u001b[0m \u001b[0mpickle\u001b[0m\u001b[0;34m.\u001b[0m\u001b[0mdump\u001b[0m\u001b[0;34m(\u001b[0m\u001b[0mval_args\u001b[0m\u001b[0;34m,\u001b[0m \u001b[0mopen\u001b[0m\u001b[0;34m(\u001b[0m\u001b[0msave_dir\u001b[0m\u001b[0;34m+\u001b[0m\u001b[0;34m'valid/configs/dataset_args.pkl'\u001b[0m\u001b[0;34m,\u001b[0m \u001b[0;34m'wb'\u001b[0m\u001b[0;34m)\u001b[0m\u001b[0;34m)\u001b[0m\u001b[0;34m\u001b[0m\u001b[0;34m\u001b[0m\u001b[0m\n\u001b[0;32m----> 2\u001b[0;31m \u001b[0mlen\u001b[0m\u001b[0;34m(\u001b[0m\u001b[0mds_valid\u001b[0m\u001b[0;34m)\u001b[0m\u001b[0;34m\u001b[0m\u001b[0;34m\u001b[0m\u001b[0m\n\u001b[0m",
      "\u001b[0;31mNameError\u001b[0m: name 'ds_valid' is not defined"
     ]
    }
   ],
   "source": [
    "pickle.dump(val_args, open(save_dir+'valid/configs/dataset_args.pkl', 'wb'))\n",
    "len(ds_valid)"
   ]
  },
  {
   "cell_type": "code",
   "execution_count": null,
   "id": "9ce7284d",
   "metadata": {},
   "outputs": [],
   "source": [
    "save_images(ds_valid, save_dir, 'valid')"
   ]
  },
  {
   "cell_type": "code",
   "execution_count": 8,
   "id": "0ec1900a",
   "metadata": {},
   "outputs": [],
   "source": [
    "#pickle.dump(ds_valid, open(data_dir + f\"saved_datasets/validdataset_{dataset_name}.pkl\", \"wb\"))\n",
    "#pickle.dump(val_args, open(data_dir + f\"saved_datasets/validdataset_{dataset_name}_args.pkl\", \"wb\"))"
   ]
  },
  {
   "cell_type": "code",
   "execution_count": 7,
   "id": "fbf9bea3",
   "metadata": {},
   "outputs": [
    {
     "name": "stdout",
     "output_type": "stream",
     "text": [
      "setting nans in convective_inhibition to 0\n"
     ]
    },
    {
     "name": "stderr",
     "output_type": "stream",
     "text": [
      "/opt/conda/envs/ilan/lib/python3.9/site-packages/xarray/core/indexing.py:1379: PerformanceWarning: Slicing is producing a large chunk. To accept the large\n",
      "chunk and silence this warning, set the option\n",
      "    >>> with dask.config.set(**{'array.slicing.split_large_chunks': False}):\n",
      "    ...     array[indexer]\n",
      "\n",
      "To avoid creating the large chunks, set the option\n",
      "    >>> with dask.config.set(**{'array.slicing.split_large_chunks': True}):\n",
      "    ...     array[indexer]\n",
      "  return self.array[key]\n"
     ]
    },
    {
     "name": "stdout",
     "output_type": "stream",
     "text": [
      "Loading data\n"
     ]
    }
   ],
   "source": [
    "test_args = args\n",
    "test_args['maxs'] = ds_train.maxs\n",
    "test_args['mins'] = ds_train.mins\n",
    "test_args.pop('val_days')\n",
    "test_args.pop('split')\n",
    "test_args['first_days'] = 5\n",
    "test_args['data_period'] = ('2020-01', '2020-12')\n",
    "test_dataset_name = dataset_name + f\"_first_days_{test_args['first_days']}\"\n",
    "\n",
    "ds_test = TiggeMRMSDataset(**test_args)"
   ]
  },
  {
   "cell_type": "code",
   "execution_count": 16,
   "id": "4e5bf175",
   "metadata": {},
   "outputs": [
    {
     "ename": "NameError",
     "evalue": "name 'ds_test' is not defined",
     "output_type": "error",
     "traceback": [
      "\u001b[0;31m---------------------------------------------------------------------------\u001b[0m",
      "\u001b[0;31mNameError\u001b[0m                                 Traceback (most recent call last)",
      "\u001b[0;32m<ipython-input-16-8afc9212803b>\u001b[0m in \u001b[0;36m<module>\u001b[0;34m\u001b[0m\n\u001b[1;32m      1\u001b[0m \u001b[0mpickle\u001b[0m\u001b[0;34m.\u001b[0m\u001b[0mdump\u001b[0m\u001b[0;34m(\u001b[0m\u001b[0mtest_args\u001b[0m\u001b[0;34m,\u001b[0m \u001b[0mopen\u001b[0m\u001b[0;34m(\u001b[0m\u001b[0msave_dir\u001b[0m\u001b[0;34m+\u001b[0m\u001b[0;34m'test/configs/dataset_args.pkl'\u001b[0m\u001b[0;34m,\u001b[0m \u001b[0;34m'wb'\u001b[0m\u001b[0;34m)\u001b[0m\u001b[0;34m)\u001b[0m\u001b[0;34m\u001b[0m\u001b[0;34m\u001b[0m\u001b[0m\n\u001b[0;32m----> 2\u001b[0;31m \u001b[0mlen\u001b[0m\u001b[0;34m(\u001b[0m\u001b[0mds_test\u001b[0m\u001b[0;34m)\u001b[0m\u001b[0;34m\u001b[0m\u001b[0;34m\u001b[0m\u001b[0m\n\u001b[0m",
      "\u001b[0;31mNameError\u001b[0m: name 'ds_test' is not defined"
     ]
    }
   ],
   "source": [
    "# pickle.dump(test_args, open(save_dir+'test/configs/dataset_args.pkl', 'wb'))\n",
    "# len(ds_test)"
   ]
  },
  {
   "cell_type": "code",
   "execution_count": null,
   "id": "b76bbcfe",
   "metadata": {},
   "outputs": [],
   "source": [
    "save_images(ds_test, save_dir, 'test')"
   ]
  },
  {
   "cell_type": "code",
   "execution_count": 8,
   "id": "97fb7732",
   "metadata": {},
   "outputs": [],
   "source": [
    "pickle.dump(ds_test, open(data_dir + f\"saved_datasets/testdataset_{test_dataset_name}.pkl\", \"wb\"))\n",
    "pickle.dump(test_args, open(data_dir + f\"saved_datasets/testdataset_{test_dataset_name}_args.pkl\", \"wb\"))"
   ]
  },
  {
   "cell_type": "code",
   "execution_count": null,
   "id": "4205259f",
   "metadata": {},
   "outputs": [],
   "source": []
  }
 ],
 "metadata": {
  "environment": {
   "name": "tf2-gpu.2-3.m74",
   "type": "gcloud",
   "uri": "gcr.io/deeplearning-platform-release/tf2-gpu.2-3:m74"
  },
  "kernelspec": {
   "display_name": "Python [conda env:ilan]",
   "language": "python",
   "name": "conda-env-ilan-py"
  },
  "language_info": {
   "codemirror_mode": {
    "name": "ipython",
    "version": 3
   },
   "file_extension": ".py",
   "mimetype": "text/x-python",
   "name": "python",
   "nbconvert_exporter": "python",
   "pygments_lexer": "ipython3",
   "version": "3.9.5"
  }
 },
 "nbformat": 4,
 "nbformat_minor": 5
}
