{
 "cells": [
  {
   "cell_type": "markdown",
   "metadata": {
    "id": "Qxb2y1dXWAfw"
   },
   "source": [
    "# SRGAN\n",
    "Notebook to reproduce the results of the SRGAN paper following https://medium.com/analytics-vidhya/super-resolution-gan-srgan-5e10438aec0c "
   ]
  },
  {
   "cell_type": "code",
   "execution_count": 1,
   "metadata": {
    "colab": {
     "base_uri": "https://localhost:8080/"
    },
    "id": "v2pxJZvXcoBn",
    "outputId": "081ce914-491b-4dc7-c181-00e96fb672ff"
   },
   "outputs": [
    {
     "name": "stdout",
     "output_type": "stream",
     "text": [
      "fatal: destination path 'Super-Resolution' already exists and is not an empty directory.\n"
     ]
    }
   ],
   "source": [
    "!git clone https://github.com/vishal1905/Super-Resolution.git"
   ]
  },
  {
   "cell_type": "code",
   "execution_count": 1,
   "metadata": {
    "id": "N3asNRupV8NJ"
   },
   "outputs": [],
   "source": [
    "import os\n",
    "import torch\n",
    "import torch.nn as n\n",
    "import torch.nn.functional as f\n",
    "import numpy as np\n",
    "import os\n",
    "from torchsummary import summary\n",
    "import torch.optim as optim\n",
    "from tqdm import tqdm\n",
    "from torchvision import models\n",
    "import torchvision\n",
    "import cv2\n",
    "from matplotlib import pyplot as plt\n",
    "from PIL import Image\n",
    "\n",
    "cuda = torch.device(\"cuda\" if torch.cuda.is_available() else \"cpu\")"
   ]
  },
  {
   "cell_type": "code",
   "execution_count": 2,
   "metadata": {
    "id": "RMhygWJlarbK"
   },
   "outputs": [],
   "source": [
    "base_dir = \"Super-Resolution/celeba-dataset/img_align_celeba/img_align_celeba/\"\n",
    "images = os.listdir(base_dir)\n",
    "imageList = images[:1500]"
   ]
  },
  {
   "cell_type": "markdown",
   "metadata": {
    "id": "giwk1jdSeSa9"
   },
   "source": [
    "## Define generator"
   ]
  },
  {
   "cell_type": "code",
   "execution_count": 23,
   "metadata": {
    "id": "KYEk24cIahjB"
   },
   "outputs": [],
   "source": [
    "class Generator(n.Module):\n",
    "    def __init__(self):\n",
    "        super().__init__()\n",
    "        self.conv1 = n.Conv2d(3,64,9,padding=4,bias=False)\n",
    "        self.conv2 = n.Conv2d(64,64,3,padding=1,bias=False)\n",
    "        self.conv3_1 = n.Conv2d(64,256,3,padding=1,bias=False)\n",
    "        self.conv3_2 = n.Conv2d(64,256,3,padding=1,bias=False)\n",
    "        self.conv4 = n.Conv2d(64,3,9,padding=4,bias=False)\n",
    "        self.bn = n.BatchNorm2d(64)\n",
    "        self.ps = n.PixelShuffle(2)\n",
    "        self.prelu = n.PReLU()\n",
    "        \n",
    "    def forward(self,x):\n",
    "        block1 = self.prelu(self.conv1(x))\n",
    "        block2 = torch.add(self.bn(self.conv2(self.prelu(self.bn(self.conv2(block1))))),block1)\n",
    "        block3 = torch.add(self.bn(self.conv2(self.prelu(self.bn(self.conv2(block2))))),block2)\n",
    "        block4 = torch.add(self.bn(self.conv2(self.prelu(self.bn(self.conv2(block3))))),block3)\n",
    "        block5 = torch.add(self.bn(self.conv2(self.prelu(self.bn(self.conv2(block4))))),block4)\n",
    "        block6 = torch.add(self.bn(self.conv2(self.prelu(self.bn(self.conv2(block5))))),block5)\n",
    "        block7 = torch.add(self.bn(self.conv2(block6)),block1)\n",
    "        block8 = self.prelu(self.ps(self.conv3_1(block7)))\n",
    "        block9 = self.prelu(self.ps(self.conv3_2(block8)))\n",
    "        block10 = self.conv4(block9)\n",
    "        return block10"
   ]
  },
  {
   "cell_type": "code",
   "execution_count": 24,
   "metadata": {
    "id": "zWLHw6G5eV41"
   },
   "outputs": [],
   "source": [
    "gen = Generator().to(cuda).float()"
   ]
  },
  {
   "cell_type": "code",
   "execution_count": 36,
   "metadata": {},
   "outputs": [
    {
     "data": {
      "text/plain": [
       "Parameter containing:\n",
       "tensor([[[[ 0.0380,  0.0389,  0.0410],\n",
       "          [-0.0033, -0.0001, -0.0293],\n",
       "          [ 0.0231, -0.0327, -0.0193]],\n",
       "\n",
       "         [[-0.0301,  0.0219, -0.0333],\n",
       "          [-0.0060,  0.0126, -0.0338],\n",
       "          [ 0.0024, -0.0181,  0.0071]],\n",
       "\n",
       "         [[ 0.0370,  0.0284,  0.0203],\n",
       "          [ 0.0138, -0.0101,  0.0204],\n",
       "          [ 0.0401,  0.0212,  0.0415]],\n",
       "\n",
       "         ...,\n",
       "\n",
       "         [[ 0.0393, -0.0016,  0.0403],\n",
       "          [-0.0343, -0.0099, -0.0304],\n",
       "          [ 0.0017,  0.0338,  0.0032]],\n",
       "\n",
       "         [[ 0.0415,  0.0076, -0.0384],\n",
       "          [ 0.0382, -0.0052, -0.0313],\n",
       "          [ 0.0238,  0.0390,  0.0106]],\n",
       "\n",
       "         [[-0.0189, -0.0009,  0.0010],\n",
       "          [-0.0071, -0.0266,  0.0270],\n",
       "          [ 0.0239, -0.0154, -0.0258]]],\n",
       "\n",
       "\n",
       "        [[[ 0.0037, -0.0053,  0.0375],\n",
       "          [ 0.0280, -0.0382,  0.0002],\n",
       "          [ 0.0329,  0.0231, -0.0171]],\n",
       "\n",
       "         [[-0.0355,  0.0079,  0.0404],\n",
       "          [-0.0111, -0.0399,  0.0148],\n",
       "          [ 0.0234, -0.0007, -0.0300]],\n",
       "\n",
       "         [[-0.0193, -0.0396, -0.0387],\n",
       "          [ 0.0130, -0.0162,  0.0204],\n",
       "          [ 0.0049,  0.0302,  0.0024]],\n",
       "\n",
       "         ...,\n",
       "\n",
       "         [[ 0.0400, -0.0259,  0.0081],\n",
       "          [-0.0344,  0.0096, -0.0334],\n",
       "          [ 0.0254, -0.0051, -0.0394]],\n",
       "\n",
       "         [[ 0.0292, -0.0207, -0.0204],\n",
       "          [ 0.0096,  0.0103,  0.0185],\n",
       "          [-0.0232, -0.0297,  0.0395]],\n",
       "\n",
       "         [[ 0.0189, -0.0031,  0.0267],\n",
       "          [ 0.0027,  0.0080,  0.0036],\n",
       "          [ 0.0144, -0.0368,  0.0263]]],\n",
       "\n",
       "\n",
       "        [[[-0.0223, -0.0335, -0.0316],\n",
       "          [ 0.0006, -0.0339, -0.0263],\n",
       "          [-0.0080, -0.0139, -0.0029]],\n",
       "\n",
       "         [[ 0.0329, -0.0157,  0.0059],\n",
       "          [ 0.0254,  0.0234,  0.0243],\n",
       "          [ 0.0363,  0.0229,  0.0035]],\n",
       "\n",
       "         [[ 0.0093, -0.0240,  0.0223],\n",
       "          [-0.0300,  0.0344, -0.0316],\n",
       "          [-0.0329,  0.0310,  0.0135]],\n",
       "\n",
       "         ...,\n",
       "\n",
       "         [[-0.0258, -0.0090,  0.0323],\n",
       "          [-0.0182, -0.0271, -0.0236],\n",
       "          [-0.0388,  0.0059,  0.0260]],\n",
       "\n",
       "         [[-0.0348, -0.0392,  0.0346],\n",
       "          [ 0.0313,  0.0272, -0.0330],\n",
       "          [ 0.0024, -0.0233,  0.0077]],\n",
       "\n",
       "         [[ 0.0046,  0.0277,  0.0313],\n",
       "          [-0.0113, -0.0205, -0.0044],\n",
       "          [-0.0250, -0.0339, -0.0322]]],\n",
       "\n",
       "\n",
       "        ...,\n",
       "\n",
       "\n",
       "        [[[-0.0114, -0.0099,  0.0359],\n",
       "          [-0.0369,  0.0174,  0.0374],\n",
       "          [ 0.0375, -0.0052, -0.0143]],\n",
       "\n",
       "         [[ 0.0357,  0.0185, -0.0182],\n",
       "          [ 0.0191,  0.0044,  0.0261],\n",
       "          [ 0.0071,  0.0112, -0.0386]],\n",
       "\n",
       "         [[-0.0041, -0.0237, -0.0271],\n",
       "          [-0.0016,  0.0055, -0.0256],\n",
       "          [-0.0176,  0.0133,  0.0260]],\n",
       "\n",
       "         ...,\n",
       "\n",
       "         [[ 0.0190,  0.0029, -0.0160],\n",
       "          [-0.0413, -0.0083, -0.0068],\n",
       "          [ 0.0352, -0.0123, -0.0287]],\n",
       "\n",
       "         [[-0.0069,  0.0014,  0.0086],\n",
       "          [ 0.0313, -0.0066,  0.0169],\n",
       "          [-0.0171,  0.0135,  0.0186]],\n",
       "\n",
       "         [[ 0.0109,  0.0141,  0.0177],\n",
       "          [ 0.0139, -0.0347, -0.0199],\n",
       "          [ 0.0108,  0.0209,  0.0211]]],\n",
       "\n",
       "\n",
       "        [[[ 0.0091, -0.0267,  0.0201],\n",
       "          [ 0.0109, -0.0159, -0.0236],\n",
       "          [-0.0175,  0.0163,  0.0247]],\n",
       "\n",
       "         [[-0.0046,  0.0264, -0.0355],\n",
       "          [ 0.0374, -0.0408, -0.0042],\n",
       "          [ 0.0038, -0.0413, -0.0075]],\n",
       "\n",
       "         [[ 0.0253, -0.0098, -0.0314],\n",
       "          [ 0.0324, -0.0260, -0.0006],\n",
       "          [ 0.0116, -0.0199,  0.0309]],\n",
       "\n",
       "         ...,\n",
       "\n",
       "         [[ 0.0178,  0.0371, -0.0022],\n",
       "          [-0.0190, -0.0187, -0.0113],\n",
       "          [-0.0088,  0.0322,  0.0229]],\n",
       "\n",
       "         [[-0.0144,  0.0080, -0.0175],\n",
       "          [ 0.0182,  0.0128,  0.0295],\n",
       "          [-0.0326,  0.0053, -0.0312]],\n",
       "\n",
       "         [[-0.0265, -0.0294,  0.0109],\n",
       "          [-0.0121,  0.0011,  0.0284],\n",
       "          [ 0.0398,  0.0253,  0.0033]]],\n",
       "\n",
       "\n",
       "        [[[ 0.0082,  0.0228,  0.0301],\n",
       "          [-0.0085,  0.0193, -0.0097],\n",
       "          [ 0.0393, -0.0346, -0.0036]],\n",
       "\n",
       "         [[-0.0409, -0.0075, -0.0048],\n",
       "          [ 0.0055,  0.0356,  0.0328],\n",
       "          [ 0.0416,  0.0047, -0.0362]],\n",
       "\n",
       "         [[ 0.0381, -0.0118,  0.0403],\n",
       "          [-0.0175, -0.0163, -0.0268],\n",
       "          [ 0.0040, -0.0025,  0.0074]],\n",
       "\n",
       "         ...,\n",
       "\n",
       "         [[ 0.0269,  0.0218,  0.0100],\n",
       "          [ 0.0135,  0.0162, -0.0308],\n",
       "          [-0.0192, -0.0214, -0.0378]],\n",
       "\n",
       "         [[ 0.0085,  0.0280,  0.0163],\n",
       "          [ 0.0192,  0.0397, -0.0013],\n",
       "          [ 0.0054, -0.0173, -0.0038]],\n",
       "\n",
       "         [[ 0.0192, -0.0241, -0.0317],\n",
       "          [-0.0140, -0.0081, -0.0123],\n",
       "          [ 0.0308,  0.0389, -0.0222]]]], device='cuda:0', requires_grad=True)"
      ]
     },
     "execution_count": 36,
     "metadata": {},
     "output_type": "execute_result"
    }
   ],
   "source": [
    "gen.conv2.weight"
   ]
  },
  {
   "cell_type": "markdown",
   "metadata": {
    "id": "_TqCRB54ej2j"
   },
   "source": [
    "## Discriminator"
   ]
  },
  {
   "cell_type": "code",
   "execution_count": 5,
   "metadata": {
    "id": "sUZLVPcSebz2"
   },
   "outputs": [],
   "source": [
    "# class Discriminator(n.Module):\n",
    "#     def __init__(self):\n",
    "#         super().__init__()\n",
    "#         self.conv1 = n.Conv2d(3,64,3,padding=1,bias=False)\n",
    "#         self.conv2 = n.Conv2d(64,64,3,stride=2,padding=1,bias=False)\n",
    "#         self.bn2 = n.BatchNorm2d(64)\n",
    "#         self.conv3 = n.Conv2d(64,128,3,padding=1,bias=False)\n",
    "#         self.bn3 = n.BatchNorm2d(128)\n",
    "#         self.conv4 = n.Conv2d(128,128,3,stride=2,padding=1,bias=False)\n",
    "#         self.bn4 = n.BatchNorm2d(128)\n",
    "#         self.conv5 = n.Conv2d(128,256,3,padding=1,bias=False)\n",
    "#         self.bn5 = n.BatchNorm2d(256)\n",
    "#         self.conv6 = n.Conv2d(256,256,3,stride=2,padding=1,bias=False)\n",
    "#         self.bn6 = n.BatchNorm2d(256)\n",
    "#         self.conv7 = n.Conv2d(256,512,3,padding=1,bias=False)\n",
    "#         self.bn7 = n.BatchNorm2d(512)\n",
    "#         self.conv8 = n.Conv2d(512,512,3,stride=2,padding=1,bias=False)\n",
    "#         self.bn8 = n.BatchNorm2d(512)\n",
    "#         self.fc1 = n.Linear(512*16*16,1024)\n",
    "#         self.fc2 = n.Linear(1024,1)\n",
    "#         self.drop = n.Dropout2d(0.3)\n",
    "        \n",
    "#     def forward(self,x):\n",
    "#         block1 = f.leaky_relu(self.conv1(x))\n",
    "#         block2 = f.leaky_relu(self.bn2(self.conv2(block1)))\n",
    "#         block3 = f.leaky_relu(self.bn3(self.conv3(block2)))\n",
    "#         block4 = f.leaky_relu(self.bn4(self.conv4(block3)))\n",
    "#         block5 = f.leaky_relu(self.bn5(self.conv5(block4)))\n",
    "#         block6 = f.leaky_relu(self.bn6(self.conv6(block5)))\n",
    "#         block7 = f.leaky_relu(self.bn7(self.conv7(block6)))\n",
    "#         block8 = f.leaky_relu(self.bn8(self.conv8(block7)))\n",
    "#         block8 = block8.view(-1,block8.size(1)*block8.size(2)*block8.size(3))\n",
    "#         block9 = f.leaky_relu(self.fc1(block8),)\n",
    "#         block10 = torch.sigmoid(self.drop(self.fc2(block9)))\n",
    "#         return block9,block10\n",
    "    \n",
    "class Discriminator(n.Module):\n",
    "    def __init__(self):\n",
    "        super().__init__()\n",
    "        self.conv1 = n.Conv2d(3,32,3,padding=1,bias=False)\n",
    "        self.conv2 = n.Conv2d(32,32,3,stride=2,padding=1,bias=False)\n",
    "        self.bn2 = n.BatchNorm2d(32)\n",
    "        self.conv3 = n.Conv2d(32,64,3,padding=1,bias=False)\n",
    "        self.bn3 = n.BatchNorm2d(64)\n",
    "        self.conv4 = n.Conv2d(64,64,3,stride=2,padding=1,bias=False)\n",
    "        self.bn4 = n.BatchNorm2d(64)\n",
    "        self.conv5 = n.Conv2d(64,128,3,padding=1,bias=False)\n",
    "        self.bn5 = n.BatchNorm2d(128)\n",
    "        self.conv6 = n.Conv2d(128,128,3,stride=2,padding=1,bias=False)\n",
    "        self.bn6 = n.BatchNorm2d(128)\n",
    "        self.conv7 = n.Conv2d(128,256,3,padding=1,bias=False)\n",
    "        self.bn7 = n.BatchNorm2d(256)\n",
    "        self.conv8 = n.Conv2d(256,256,3,stride=2,padding=1,bias=False)\n",
    "        self.bn8 = n.BatchNorm2d(256)\n",
    "        self.conv9 = n.Conv2d(256,256,3,stride=2,padding=1,bias=False)\n",
    "        self.bn9 = n.BatchNorm2d(256)\n",
    "        self.conv10 = n.Conv2d(256,256,3,stride=2,padding=1,bias=False)\n",
    "        self.bn10 = n.BatchNorm2d(256)\n",
    "        self.fc1 = n.Linear(256*4*4,256)\n",
    "        self.fc2 = n.Linear(256,1)\n",
    "        self.drop = n.Dropout2d(0.3)\n",
    "        \n",
    "    def forward(self,x):\n",
    "        block1 = f.leaky_relu(self.conv1(x))\n",
    "        block2 = f.leaky_relu(self.bn2(self.conv2(block1)))\n",
    "        block3 = f.leaky_relu(self.bn3(self.conv3(block2)))\n",
    "        block4 = f.leaky_relu(self.bn4(self.conv4(block3)))\n",
    "        block5 = f.leaky_relu(self.bn5(self.conv5(block4)))\n",
    "        block6 = f.leaky_relu(self.bn6(self.conv6(block5)))\n",
    "        block7 = f.leaky_relu(self.bn7(self.conv7(block6)))\n",
    "        block8 = f.leaky_relu(self.bn8(self.conv8(block7)))\n",
    "        block9 = f.leaky_relu(self.bn9(self.conv9(block8)))\n",
    "        block10 = f.leaky_relu(self.bn10(self.conv10(block9)))\n",
    "        block10 = block10.view(-1,block10.size(1)*block10.size(2)*block10.size(3))\n",
    "        block11 = f.leaky_relu(self.fc1(block10),)\n",
    "        block12 = torch.sigmoid(self.drop(self.fc2(block11)))\n",
    "        return block11,block12"
   ]
  },
  {
   "cell_type": "code",
   "execution_count": 27,
   "metadata": {},
   "outputs": [
    {
     "data": {
      "text/plain": [
       "134217728"
      ]
     },
     "execution_count": 27,
     "metadata": {},
     "output_type": "execute_result"
    }
   ],
   "source": [
    "512*16*16*1024"
   ]
  },
  {
   "cell_type": "code",
   "execution_count": 6,
   "metadata": {},
   "outputs": [],
   "source": [
    "def count_parameters(model):\n",
    "    return sum(p.numel() for p in model.parameters() if p.requires_grad)"
   ]
  },
  {
   "cell_type": "code",
   "execution_count": 7,
   "metadata": {
    "id": "sEwzwNVtenaB"
   },
   "outputs": [],
   "source": [
    "disc = Discriminator().to(cuda).float()"
   ]
  },
  {
   "cell_type": "code",
   "execution_count": 8,
   "metadata": {},
   "outputs": [
    {
     "data": {
      "text/plain": [
       "1048576"
      ]
     },
     "execution_count": 8,
     "metadata": {},
     "output_type": "execute_result"
    }
   ],
   "source": [
    "256*4*4*256"
   ]
  },
  {
   "cell_type": "code",
   "execution_count": 9,
   "metadata": {},
   "outputs": [
    {
     "data": {
      "text/plain": [
       "(363009, 3402913)"
      ]
     },
     "execution_count": 9,
     "metadata": {},
     "output_type": "execute_result"
    }
   ],
   "source": [
    "count_parameters(gen), count_parameters(disc)"
   ]
  },
  {
   "cell_type": "markdown",
   "metadata": {
    "id": "Z01h6cfNf4VK"
   },
   "source": [
    "## Setup training"
   ]
  },
  {
   "cell_type": "code",
   "execution_count": 10,
   "metadata": {
    "id": "f18NzuONe0iy"
   },
   "outputs": [],
   "source": [
    "vgg = models.vgg19(pretrained=True).to(cuda)"
   ]
  },
  {
   "cell_type": "markdown",
   "metadata": {
    "id": "7j_guU5PgFFT"
   },
   "source": [
    "### Losses"
   ]
  },
  {
   "cell_type": "code",
   "execution_count": 11,
   "metadata": {
    "id": "JapILj8if7if"
   },
   "outputs": [],
   "source": [
    "gen_loss = n.BCELoss()\n",
    "vgg_loss = n.MSELoss()\n",
    "mse_loss = n.MSELoss()\n",
    "disc_loss = n.BCELoss()"
   ]
  },
  {
   "cell_type": "code",
   "execution_count": 12,
   "metadata": {
    "id": "XYlnRFs9gHZ4"
   },
   "outputs": [],
   "source": [
    "gen_optimizer = optim.Adam(gen.parameters(),lr=0.0001)\n",
    "disc_optimizer = optim.Adam(disc.parameters(),lr=0.0001)"
   ]
  },
  {
   "cell_type": "markdown",
   "metadata": {
    "id": "gnucQrigg_2k"
   },
   "source": [
    "### Load images"
   ]
  },
  {
   "cell_type": "markdown",
   "metadata": {
    "id": "nU2bMGmisXBG"
   },
   "source": [
    "### New image loaders"
   ]
  },
  {
   "cell_type": "code",
   "execution_count": 13,
   "metadata": {
    "id": "NIrmbRayufP3"
   },
   "outputs": [],
   "source": [
    "def load_checkpoint(filepath):\n",
    "    checkpoint = torch.load(filepath)\n",
    "    model = checkpoint['model']\n",
    "    model.load_state_dict(checkpoint['state_dict'])\n",
    "    for parameter in model.parameters():\n",
    "        parameter.requires_grad = False \n",
    "    model.eval()\n",
    "    return model"
   ]
  },
  {
   "cell_type": "code",
   "execution_count": 14,
   "metadata": {
    "id": "vY0CEV_lufNi"
   },
   "outputs": [],
   "source": [
    "def imagePostProcess(imagedir, modelPath):\n",
    "    \"\"\"\n",
    "    Show model output on unseen images \n",
    "    Parameters:\n",
    "    ----------\n",
    "    imagedir: str\n",
    "        List of paths to unseen images\n",
    "    \n",
    "    \"\"\"\n",
    "    imagelist=[]\n",
    "    original_images = []\n",
    "    for img in imagedir:\n",
    "        img_original = cv2.imread(os.path.join(hr_path,img))\n",
    "        img_original = cv2.resize(img_original, (256,256))\n",
    "        img = degrade_resolution(img_original)\n",
    "        imagelist.append(img)\n",
    "        original_images.append(img_original)\n",
    "    original_images = np.array(original_images)\n",
    "    imagearray = np.array(imagelist)/255\n",
    "    imagearrayPT = np.moveaxis(imagearray,3,1)\n",
    "\n",
    "    model = load_checkpoint(modelPath)\n",
    "    im_tensor = torch.from_numpy(imagearrayPT).float()\n",
    "    out_tensor = model(im_tensor)\n",
    "    out = out_tensor.numpy()\n",
    "    out = np.moveaxis(out,1,3)\n",
    "    out = np.clip(out,0,1)\n",
    "    \n",
    "    return original_images, imagearray, out"
   ]
  },
  {
   "cell_type": "code",
   "execution_count": 15,
   "metadata": {
    "id": "W1JqgLL3ufKv"
   },
   "outputs": [],
   "source": [
    "def show_samples(image_dir, model_path):\n",
    "\n",
    "    # Load images and run through\n",
    "    original_images, low_res, out = imagePostProcess(image_dir, model_path)\n",
    "\n",
    "    # Get the number of samples to plot\n",
    "    n_samples = len(image_dir)\n",
    "    figure, axes = plt.subplots(n_samples, 3)\n",
    "    for i in range(n_samples):\n",
    "        axes[i,0].imshow(original_images[i,...][...,::-1])\n",
    "\n",
    "    for i in range(n_samples):\n",
    "        axes[i,1].imshow(low_res[i,...][...,::-1])\n",
    "\n",
    "    for i in range(n_samples):\n",
    "        axes[i,2].imshow(out[i,...][...,::-1])\n",
    "    plt.axis(\"off\")\n",
    "    plt.show()\n",
    "    plt.close()"
   ]
  },
  {
   "cell_type": "code",
   "execution_count": 16,
   "metadata": {
    "id": "YGBT9LeqsY4O"
   },
   "outputs": [],
   "source": [
    "def degrade_resolution(image):\n",
    "    \"\"\"\n",
    "    Degrade image resolution\n",
    "    \"\"\"\n",
    "    resized = cv2.resize(cv2.GaussianBlur(image,(5,5),cv2.BORDER_DEFAULT),(64,64)) \n",
    "    return resized"
   ]
  },
  {
   "cell_type": "code",
   "execution_count": 17,
   "metadata": {
    "id": "NViG31dVsY1m"
   },
   "outputs": [],
   "source": [
    "class Dataset(torch.utils.data.Dataset):\n",
    "  'Characterizes a dataset for PyTorch'\n",
    "\n",
    "  def __init__(self, image_list):\n",
    "        'Initialization'\n",
    "        self.image_list = image_list\n",
    "        self.base_dir = \"Super-Resolution/celeba-dataset/img_align_celeba/img_align_celeba/\"\n",
    "\n",
    "  def __len__(self):\n",
    "        return len(self.image_list)\n",
    "\n",
    "  def __getitem__(self, index):\n",
    "        # Select sample\n",
    "        image_file = self.image_list[index]\n",
    "\n",
    "        # Load the original (high res) image\n",
    "        high_res = cv2.imread(self.base_dir+image_file)\n",
    "        high_res = cv2.resize(high_res, (256,256))\n",
    "\n",
    "        # Degrade to low res\n",
    "        low_res = degrade_resolution(high_res)\n",
    "\n",
    "        # Normalise\n",
    "        high_res = torch.from_numpy(high_res/255)\n",
    "        low_res = torch.from_numpy(low_res/255)\n",
    "\n",
    "        # Channels to second dim\n",
    "        high_res = high_res.permute(2,0,1)\n",
    "        low_res = low_res.permute(2,0,1)\n",
    "\n",
    "        return low_res.cuda().float(), high_res.cuda().float()"
   ]
  },
  {
   "cell_type": "code",
   "execution_count": 18,
   "metadata": {
    "id": "1gW8WYzosYzI"
   },
   "outputs": [],
   "source": [
    "image_dataset = Dataset(imageList)"
   ]
  },
  {
   "cell_type": "code",
   "execution_count": 19,
   "metadata": {
    "id": "TV5PxaX2vecT"
   },
   "outputs": [],
   "source": [
    "training_generator = torch.utils.data.DataLoader(image_dataset,\n",
    "                                                 shuffle = True,\n",
    "                                                 batch_size = 32\n",
    "                                                )"
   ]
  },
  {
   "cell_type": "code",
   "execution_count": 20,
   "metadata": {
    "id": "tvzNeLGszBbB"
   },
   "outputs": [],
   "source": [
    "import os \n",
    "base_path = os.getcwd()\n",
    "\n",
    "#lr_path = os.path.join(base_path,\"trainImages\")\n",
    "hr_path = base_dir\n",
    "#valid_path = os.path.join(base_path,\"SR_valid\")\n",
    "weight_file = os.path.join(base_path,\"SRPT_weights\")\n",
    "out_path = os.path.join(base_path,\"out\")\n",
    "\n",
    "if not os.path.exists(weight_file):\n",
    "    os.makedirs(weight_file)\n",
    "\n",
    "if not os.path.exists(out_path):\n",
    "    os.makedirs(out_path)\n"
   ]
  },
  {
   "cell_type": "code",
   "execution_count": 22,
   "metadata": {},
   "outputs": [
    {
     "data": {
      "text/plain": [
       "(torch.Size([32, 3, 64, 64]), torch.Size([32, 3, 256, 256]))"
      ]
     },
     "execution_count": 22,
     "metadata": {},
     "output_type": "execute_result"
    }
   ],
   "source": [
    "X, y = next(iter(training_generator))\n",
    "X.shape, y.shape"
   ]
  },
  {
   "cell_type": "code",
   "execution_count": 21,
   "metadata": {
    "colab": {
     "base_uri": "https://localhost:8080/",
     "height": 1000
    },
    "id": "4YxWY_VFwPYX",
    "outputId": "2698184e-974c-4037-ddc3-143f41aab401"
   },
   "outputs": [
    {
     "name": "stderr",
     "output_type": "stream",
     "text": [
      "100%|██████████| 47/47 [04:10<00:00,  5.32s/it]\n",
      "/anaconda/envs/nwp-downscale/lib/python3.8/site-packages/torch/serialization.py:359: UserWarning: Couldn't retrieve source code for container of type Generator. It won't be checked for correctness upon loading.\n",
      "  warnings.warn(\"Couldn't retrieve source code for container of \"\n"
     ]
    },
    {
     "name": "stdout",
     "output_type": "stream",
     "text": [
      "d1_loss: 0.28408067340546467  d2_loss:0.2879347864617693\n",
      "genLoss: 3.7824218564845147  vggLoss: 0.19164244703789976  MeanLoss: 0.06993580563984653\n"
     ]
    },
    {
     "data": {
      "image/png": "[encoded data removed]",
      "text/plain": [
       "<Figure size 432x288 with 6 Axes>"
      ]
     },
     "metadata": {
      "needs_background": "light"
     },
     "output_type": "display_data"
    },
    {
     "name": "stderr",
     "output_type": "stream",
     "text": [
      "  0%|          | 0/47 [00:05<?, ?it/s]\n"
     ]
    },
    {
     "ename": "KeyboardInterrupt",
     "evalue": "",
     "output_type": "error",
     "traceback": [
      "\u001b[0;31m---------------------------------------------------------------------------\u001b[0m",
      "\u001b[0;31mKeyboardInterrupt\u001b[0m                         Traceback (most recent call last)",
      "\u001b[0;32m<ipython-input-21-62973fc09819>\u001b[0m in \u001b[0;36m<module>\u001b[0;34m\u001b[0m\n\u001b[1;32m     29\u001b[0m \u001b[0;34m\u001b[0m\u001b[0m\n\u001b[1;32m     30\u001b[0m         \u001b[0mgenerator_loss\u001b[0m \u001b[0;34m=\u001b[0m \u001b[0mg_loss\u001b[0m \u001b[0;34m+\u001b[0m \u001b[0mv_loss\u001b[0m \u001b[0;34m+\u001b[0m \u001b[0mm_loss\u001b[0m\u001b[0;34m\u001b[0m\u001b[0;34m\u001b[0m\u001b[0m\n\u001b[0;32m---> 31\u001b[0;31m         \u001b[0mgenerator_loss\u001b[0m\u001b[0;34m.\u001b[0m\u001b[0mbackward\u001b[0m\u001b[0;34m(\u001b[0m\u001b[0;34m)\u001b[0m\u001b[0;34m\u001b[0m\u001b[0;34m\u001b[0m\u001b[0m\n\u001b[0m\u001b[1;32m     32\u001b[0m         \u001b[0mgen_optimizer\u001b[0m\u001b[0;34m.\u001b[0m\u001b[0mstep\u001b[0m\u001b[0;34m(\u001b[0m\u001b[0;34m)\u001b[0m\u001b[0;34m\u001b[0m\u001b[0;34m\u001b[0m\u001b[0m\n\u001b[1;32m     33\u001b[0m \u001b[0;34m\u001b[0m\u001b[0m\n",
      "\u001b[0;32m/anaconda/envs/nwp-downscale/lib/python3.8/site-packages/torch/tensor.py\u001b[0m in \u001b[0;36mbackward\u001b[0;34m(self, gradient, retain_graph, create_graph)\u001b[0m\n\u001b[1;32m    193\u001b[0m                 \u001b[0mproducts\u001b[0m\u001b[0;34m.\u001b[0m \u001b[0mDefaults\u001b[0m \u001b[0mto\u001b[0m\u001b[0;31m \u001b[0m\u001b[0;31m`\u001b[0m\u001b[0;31m`\u001b[0m\u001b[0;32mFalse\u001b[0m\u001b[0;31m`\u001b[0m\u001b[0;31m`\u001b[0m\u001b[0;34m.\u001b[0m\u001b[0;34m\u001b[0m\u001b[0;34m\u001b[0m\u001b[0m\n\u001b[1;32m    194\u001b[0m         \"\"\"\n\u001b[0;32m--> 195\u001b[0;31m         \u001b[0mtorch\u001b[0m\u001b[0;34m.\u001b[0m\u001b[0mautograd\u001b[0m\u001b[0;34m.\u001b[0m\u001b[0mbackward\u001b[0m\u001b[0;34m(\u001b[0m\u001b[0mself\u001b[0m\u001b[0;34m,\u001b[0m \u001b[0mgradient\u001b[0m\u001b[0;34m,\u001b[0m \u001b[0mretain_graph\u001b[0m\u001b[0;34m,\u001b[0m \u001b[0mcreate_graph\u001b[0m\u001b[0;34m)\u001b[0m\u001b[0;34m\u001b[0m\u001b[0;34m\u001b[0m\u001b[0m\n\u001b[0m\u001b[1;32m    196\u001b[0m \u001b[0;34m\u001b[0m\u001b[0m\n\u001b[1;32m    197\u001b[0m     \u001b[0;32mdef\u001b[0m \u001b[0mregister_hook\u001b[0m\u001b[0;34m(\u001b[0m\u001b[0mself\u001b[0m\u001b[0;34m,\u001b[0m \u001b[0mhook\u001b[0m\u001b[0;34m)\u001b[0m\u001b[0;34m:\u001b[0m\u001b[0;34m\u001b[0m\u001b[0;34m\u001b[0m\u001b[0m\n",
      "\u001b[0;32m/anaconda/envs/nwp-downscale/lib/python3.8/site-packages/torch/autograd/__init__.py\u001b[0m in \u001b[0;36mbackward\u001b[0;34m(tensors, grad_tensors, retain_graph, create_graph, grad_variables)\u001b[0m\n\u001b[1;32m     95\u001b[0m         \u001b[0mretain_graph\u001b[0m \u001b[0;34m=\u001b[0m \u001b[0mcreate_graph\u001b[0m\u001b[0;34m\u001b[0m\u001b[0;34m\u001b[0m\u001b[0m\n\u001b[1;32m     96\u001b[0m \u001b[0;34m\u001b[0m\u001b[0m\n\u001b[0;32m---> 97\u001b[0;31m     Variable._execution_engine.run_backward(\n\u001b[0m\u001b[1;32m     98\u001b[0m         \u001b[0mtensors\u001b[0m\u001b[0;34m,\u001b[0m \u001b[0mgrad_tensors\u001b[0m\u001b[0;34m,\u001b[0m \u001b[0mretain_graph\u001b[0m\u001b[0;34m,\u001b[0m \u001b[0mcreate_graph\u001b[0m\u001b[0;34m,\u001b[0m\u001b[0;34m\u001b[0m\u001b[0;34m\u001b[0m\u001b[0m\n\u001b[1;32m     99\u001b[0m         allow_unreachable=True)  # allow_unreachable flag\n",
      "\u001b[0;31mKeyboardInterrupt\u001b[0m: "
     ]
    }
   ],
   "source": [
    "#batch_count=60\n",
    "epochs = 100\n",
    "\n",
    "for epoch in range(epochs):\n",
    "    d1loss_list=[]\n",
    "    d2loss_list=[]\n",
    "    gloss_list=[]\n",
    "    vloss_list=[]\n",
    "    mloss_list=[]\n",
    "    \n",
    "    for lr_images, hr_images in tqdm(training_generator):\n",
    "                \n",
    "        disc.zero_grad()\n",
    "\n",
    "        gen_out = gen(lr_images)\n",
    "        _,f_label = disc(gen_out)\n",
    "        _,r_label = disc(hr_images)\n",
    "\n",
    "        d1_loss = (disc_loss(f_label,torch.zeros_like(f_label,dtype=torch.float)))\n",
    "        d2_loss = (disc_loss(r_label,torch.ones_like(r_label,dtype=torch.float)))\n",
    "        d2_loss.backward()\n",
    "        d1_loss.backward(retain_graph=True)\n",
    "        disc_optimizer.step()\n",
    "\n",
    "        gen.zero_grad()      \n",
    "        g_loss = gen_loss(f_label.data,torch.ones_like(f_label,dtype=torch.float))\n",
    "        v_loss = vgg_loss(vgg.features[:7](gen_out),vgg.features[:7](hr_images))\n",
    "        m_loss = mse_loss(gen_out,hr_images)\n",
    "        \n",
    "        generator_loss = g_loss + v_loss + m_loss\n",
    "        generator_loss.backward()\n",
    "        gen_optimizer.step()\n",
    "        \n",
    "        d1loss_list.append(d1_loss.item())\n",
    "        d2loss_list.append(d2_loss.item())\n",
    "        \n",
    "        gloss_list.append(g_loss.item())\n",
    "        vloss_list.append(v_loss.item())\n",
    "        mloss_list.append(m_loss.item())\n",
    "\n",
    "    print(\"d1_loss: \"+str(np.mean(d1loss_list))+\"  d2_loss:\"+str(np.mean(d2loss_list)))\n",
    "    print(\"genLoss: \"+str(np.mean(gloss_list))+\"  vggLoss: \"+str(np.mean(vloss_list))+\"  MeanLoss: \"+str(np.mean(mloss_list)))\n",
    "    \n",
    "    if(epoch%3==0):\n",
    "        \n",
    "        checkpoint = {'model': Generator(),\n",
    "              'input_size': 64,\n",
    "              'output_size': 256,\n",
    "              'state_dict': gen.state_dict()}\n",
    "        torch.save(checkpoint,os.path.join(weight_file,\"SR\"+str(epoch+1)+\".pth\"))\n",
    "        torch.cuda.empty_cache()\n",
    "        \n",
    "        show_samples(images[-2:],os.path.join(weight_file,\"SR\"+str(epoch+1)+\".pth\"))"
   ]
  },
  {
   "cell_type": "code",
   "execution_count": null,
   "metadata": {
    "id": "AiI2rVXuh4cm"
   },
   "outputs": [],
   "source": [
    " "
   ]
  },
  {
   "cell_type": "code",
   "execution_count": null,
   "metadata": {
    "id": "PUHFiTK5lHy_"
   },
   "outputs": [],
   "source": []
  }
 ],
 "metadata": {
  "accelerator": "GPU",
  "colab": {
   "collapsed_sections": [
    "7j_guU5PgFFT"
   ],
   "machine_shape": "hm",
   "name": "esr_gan.ipynb",
   "provenance": []
  },
  "kernelspec": {
   "display_name": "nwp-downscale",
   "language": "python",
   "name": "conda-env-nwp-downscale-py"
  },
  "language_info": {
   "codemirror_mode": {
    "name": "ipython",
    "version": 3
   },
   "file_extension": ".py",
   "mimetype": "text/x-python",
   "name": "python",
   "nbconvert_exporter": "python",
   "pygments_lexer": "ipython3",
   "version": "3.8.6"
  }
 },
 "nbformat": 4,
 "nbformat_minor": 4
}
