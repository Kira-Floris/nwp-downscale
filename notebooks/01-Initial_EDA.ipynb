{
 "cells": [
  {
   "cell_type": "markdown",
   "metadata": {},
   "source": [
    "# Initial data and problem exploration\n",
    "\n"
   ]
  },
  {
   "cell_type": "code",
   "execution_count": null,
   "metadata": {},
   "outputs": [],
   "source": [
    "import xarray as xr\n",
    "import pandas as pd\n",
    "import urllib.request\n",
    "import numpy as np\n",
    "from glob import glob\n",
    "import cartopy.crs as ccrs\n",
    "import matplotlib.pyplot as plt\n",
    "import os"
   ]
  },
  {
   "cell_type": "code",
   "execution_count": null,
   "metadata": {},
   "outputs": [],
   "source": [
    "import cartopy.feature as cfeature\n",
    "states_provinces = cfeature.NaturalEarthFeature(\n",
    "        category='cultural',\n",
    "        name='admin_1_states_provinces_lines',\n",
    "        scale='50m',\n",
    "        facecolor='none')"
   ]
  },
  {
   "cell_type": "markdown",
   "metadata": {},
   "source": [
    "# Data preprocessing"
   ]
  },
  {
   "cell_type": "markdown",
   "metadata": {},
   "source": [
    "## TIGGE ECMWF"
   ]
  },
  {
   "cell_type": "markdown",
   "metadata": {},
   "source": [
    "### Ensemble"
   ]
  },
  {
   "cell_type": "code",
   "execution_count": null,
   "metadata": {},
   "outputs": [],
   "source": [
    "!ls -lh ../data/tigge/2020-10-23_ens2.grib"
   ]
  },
  {
   "cell_type": "code",
   "execution_count": null,
   "metadata": {},
   "outputs": [],
   "source": [
    "tigge = xr.open_mfdataset('../data/tigge/2020-10-23_ens2.grib', engine='pynio').isel()"
   ]
  },
  {
   "cell_type": "code",
   "execution_count": null,
   "metadata": {},
   "outputs": [],
   "source": [
    "tigge = tigge.rename({\n",
    "    'tp_P11_L1_GGA0_acc': 'tp', \n",
    "    'initial_time0_hours': 'init_time',\n",
    "    'forecast_time0': 'lead_time',\n",
    "    'lat_0': 'latitude',\n",
    "    'lon_0': 'longitude',\n",
    "    'ensemble0' : 'member'\n",
    "}).diff('lead_time').tp"
   ]
  },
  {
   "cell_type": "code",
   "execution_count": null,
   "metadata": {},
   "outputs": [],
   "source": [
    "tigge = tigge.where(tigge >= 0, 0)"
   ]
  },
  {
   "cell_type": "code",
   "execution_count": null,
   "metadata": {},
   "outputs": [],
   "source": [
    "# tigge = tigge * 1000   # m to mm"
   ]
  },
  {
   "cell_type": "code",
   "execution_count": null,
   "metadata": {},
   "outputs": [],
   "source": [
    "tigge.coords['valid_time'] = xr.concat([i + tigge.lead_time for i in tigge.init_time], 'init_time')"
   ]
  },
  {
   "cell_type": "code",
   "execution_count": null,
   "metadata": {},
   "outputs": [],
   "source": [
    "tigge"
   ]
  },
  {
   "cell_type": "code",
   "execution_count": null,
   "metadata": {},
   "outputs": [],
   "source": [
    "tigge.to_netcdf('../data/tigge/2020-10-23_ens_preprocessed.nc')"
   ]
  },
  {
   "cell_type": "markdown",
   "metadata": {},
   "source": [
    "### Deterministic"
   ]
  },
  {
   "cell_type": "code",
   "execution_count": null,
   "metadata": {},
   "outputs": [],
   "source": [
    "tigge = xr.open_mfdataset('../data/tigge/2020-10-23.grib', engine='pynio')"
   ]
  },
  {
   "cell_type": "code",
   "execution_count": null,
   "metadata": {},
   "outputs": [],
   "source": [
    "tigge = tigge.rename({\n",
    "    'tp_P11_L1_GGA0_acc': 'tp', \n",
    "    'initial_time0_hours': 'init_time',\n",
    "    'forecast_time0': 'lead_time',\n",
    "    'lat_0': 'latitude',\n",
    "    'lon_0': 'longitude',\n",
    "}).diff('lead_time').tp"
   ]
  },
  {
   "cell_type": "code",
   "execution_count": null,
   "metadata": {},
   "outputs": [],
   "source": [
    "tigge = tigge.where(tigge >= 0, 0)"
   ]
  },
  {
   "cell_type": "code",
   "execution_count": null,
   "metadata": {},
   "outputs": [],
   "source": [
    "tigge.coords['valid_time'] = xr.concat([i + tigge.lead_time for i in tigge.init_time], 'init_time')"
   ]
  },
  {
   "cell_type": "code",
   "execution_count": null,
   "metadata": {},
   "outputs": [],
   "source": [
    "tigge"
   ]
  },
  {
   "cell_type": "code",
   "execution_count": null,
   "metadata": {},
   "outputs": [],
   "source": [
    "tigge.to_netcdf('../data/tigge/2020-10-23_preprocessed.nc')"
   ]
  },
  {
   "cell_type": "markdown",
   "metadata": {},
   "source": [
    "## YOPP"
   ]
  },
  {
   "cell_type": "code",
   "execution_count": null,
   "metadata": {},
   "outputs": [],
   "source": [
    "yopp = xr.open_dataset('../data/yopp/2020-10-23.grib', engine='pynio').TP_GDS4_SFC\n",
    "yopp2 = xr.open_dataset('../data/yopp/2020-10-23_12.grib', engine='pynio').TP_GDS4_SFC"
   ]
  },
  {
   "cell_type": "code",
   "execution_count": null,
   "metadata": {},
   "outputs": [],
   "source": [
    "yopp = xr.merge([yopp, yopp2]).rename({\n",
    "    'TP_GDS4_SFC': 'tp', \n",
    "    'initial_time0_hours': 'init_time',\n",
    "    'forecast_time1': 'lead_time',\n",
    "    'g4_lat_2': 'latitude',\n",
    "    'g4_lon_3': 'longitude'\n",
    "})"
   ]
  },
  {
   "cell_type": "code",
   "execution_count": null,
   "metadata": {},
   "outputs": [],
   "source": [
    "yopp = yopp.diff('lead_time').tp"
   ]
  },
  {
   "cell_type": "code",
   "execution_count": null,
   "metadata": {},
   "outputs": [],
   "source": [
    "yopp = yopp.where(yopp >= 0, 0)"
   ]
  },
  {
   "cell_type": "code",
   "execution_count": null,
   "metadata": {},
   "outputs": [],
   "source": [
    "yopp = yopp * 1000   # m to mm"
   ]
  },
  {
   "cell_type": "code",
   "execution_count": null,
   "metadata": {},
   "outputs": [],
   "source": [
    "yopp.coords['valid_time'] = xr.concat([i + yopp.lead_time for i in yopp.init_time], 'init_time')"
   ]
  },
  {
   "cell_type": "code",
   "execution_count": null,
   "metadata": {},
   "outputs": [],
   "source": [
    "yopp.to_netcdf('../data/yopp/2020-10-23_preprocessed.nc')"
   ]
  },
  {
   "cell_type": "markdown",
   "metadata": {},
   "source": [
    "## NRMS data"
   ]
  },
  {
   "cell_type": "code",
   "execution_count": null,
   "metadata": {},
   "outputs": [],
   "source": [
    "def time_from_fn(fn):\n",
    "    s = fn.split('/')[-1].split('_')[-1]\n",
    "    year = s[:4]\n",
    "    month = s[4:6]\n",
    "    day = s[6:8]\n",
    "    hour = s[9:11]\n",
    "    return np.datetime64(f'{year}-{month}-{day}T{hour}')"
   ]
  },
  {
   "cell_type": "code",
   "execution_count": null,
   "metadata": {},
   "outputs": [],
   "source": [
    "def open_nrms(path):\n",
    "    fns = sorted(glob(f'{path}/*'))\n",
    "    dss = [xr.open_dataset(fn, engine='pynio') for fn in fns]\n",
    "    times = [time_from_fn(fn) for fn in fns]\n",
    "    times = xr.DataArray(times, name='time', dims=['time'], coords={'time': times})\n",
    "    ds = xr.concat(dss, times).rename({'lat_0': 'latitude', 'lon_0': 'longitude'})\n",
    "    da = ds[list(ds)[0]].rename('tp')\n",
    "    return da"
   ]
  },
  {
   "cell_type": "code",
   "execution_count": null,
   "metadata": {},
   "outputs": [],
   "source": [
    "def get_mrms_fn(path, source, year, month, day, hour):\n",
    "    month, day, hour = [str(x).zfill(2) for x in [month, day, hour]]\n",
    "    fn = f'{path}/{source}/MRMS_{source}_00.00_{year}{month}{day}-{hour}0000.grib2'\n",
    "#     print(fn)\n",
    "    return fn"
   ]
  },
  {
   "cell_type": "code",
   "execution_count": null,
   "metadata": {},
   "outputs": [],
   "source": [
    "def load_mrms_data(path, start_time, stop_time, accum=3):\n",
    "    times = pd.to_datetime(np.arange(start_time, stop_time, np.timedelta64(accum, 'h'), dtype='datetime64[h]'))\n",
    "    das = []\n",
    "    for t in times:\n",
    "        if os.path.exists(get_mrms_fn(path, f'MultiSensor_QPE_0{accum}H_Pass1', t.year, t.month, t.day, t.hour)):\n",
    "            ds = xr.open_dataset(get_mrms_fn(path, f'MultiSensor_QPE_0{accum}H_Pass1', t.year, t.month, t.day, t.hour), engine='pynio')\n",
    "        elif os.path.exists(get_mrms_fn(path, f'MultiSensor_QPE_0{accum}H_Pass2', t.year, t.month, t.day, t.hour)):\n",
    "            ds = xr.open_dataset(get_mrms_fn(path, f'MultiSensor_QPE_0{accum}H_Pass2', t.year, t.month, t.day, t.hour), engine='pynio')\n",
    "        elif os.path.exists(get_mrms_fn(path, f'RadarOnly_QPE_0{accum}H', t.year, t.month, t.day, t.hour)):\n",
    "            ds = xr.open_dataset(get_mrms_fn(path, f'RadarOnly_QPE_0{accum}H', t.year, t.month, t.day, t.hour), engine='pynio')\n",
    "        else:\n",
    "            raise Exception(f'No data found for {t}')\n",
    "        ds = ds.rename({'lat_0': 'latitude', 'lon_0': 'longitude'})\n",
    "        da = ds[list(ds)[0]].rename('tp')\n",
    "        das.append(da)\n",
    "    times = xr.DataArray(times, name='time', dims=['time'], coords={'time': times})\n",
    "    da = xr.concat(das, times)\n",
    "    return da"
   ]
  },
  {
   "cell_type": "code",
   "execution_count": null,
   "metadata": {},
   "outputs": [],
   "source": [
    "mrms = load_mrms_data('../data/', '2020-10-23', '2020-10-25')"
   ]
  },
  {
   "cell_type": "code",
   "execution_count": null,
   "metadata": {},
   "outputs": [],
   "source": [
    "mrms6h = mrms.rolling(time=2).sum().isel(time=slice(0, None, 2))"
   ]
  },
  {
   "cell_type": "code",
   "execution_count": null,
   "metadata": {},
   "outputs": [],
   "source": [
    "mrms.to_netcdf('../data/mrms/mrms_preprocessed.nc')"
   ]
  },
  {
   "cell_type": "code",
   "execution_count": null,
   "metadata": {},
   "outputs": [],
   "source": [
    "mrms6h.to_netcdf('../data/mrms/mrms6_preprocessed.nc')"
   ]
  },
  {
   "cell_type": "markdown",
   "metadata": {},
   "source": [
    "# Analysis"
   ]
  },
  {
   "cell_type": "code",
   "execution_count": null,
   "metadata": {},
   "outputs": [],
   "source": [
    "tigge_det = xr.open_dataarray('../data/tigge/2020-10-23_preprocessed.nc').rename({'latitude': 'lat', 'longitude': 'lon'})\n",
    "tigge_ens = xr.open_dataarray('../data/tigge/2020-10-23_ens_preprocessed.nc').rename({'latitude': 'lat', 'longitude': 'lon'})\n",
    "yopp = xr.open_dataarray('../data/yopp/2020-10-23_preprocessed.nc').rename({'latitude': 'lat', 'longitude': 'lon'})\n",
    "mrms = xr.open_dataarray('../data/mrms/mrms_preprocessed.nc').rename({'latitude': 'lat', 'longitude': 'lon'})\n",
    "mrms6h = xr.open_dataarray('../data/mrms/mrms6_preprocessed.nc').rename({'latitude': 'lat', 'longitude': 'lon'})"
   ]
  },
  {
   "cell_type": "markdown",
   "metadata": {},
   "source": [
    "## Regrid"
   ]
  },
  {
   "cell_type": "code",
   "execution_count": null,
   "metadata": {},
   "outputs": [],
   "source": [
    "import xesmf as xe"
   ]
  },
  {
   "cell_type": "code",
   "execution_count": null,
   "metadata": {},
   "outputs": [],
   "source": [
    "lons = slice(260, 280)\n",
    "lats = slice(45, 25)"
   ]
  },
  {
   "cell_type": "code",
   "execution_count": null,
   "metadata": {},
   "outputs": [],
   "source": [
    "def regrid(ds, km, lats, lons):\n",
    "    deg = km/100.\n",
    "    grid = xr.Dataset(\n",
    "        {\n",
    "            'lat': (['lat'], np.arange(lats.start, lats.stop, -deg)),\n",
    "            'lon': (['lon'], np.arange(lons.start, lons.stop, deg))\n",
    "        }\n",
    "    )\n",
    "    regridder = xe.Regridder(ds.sel(lat=lats, lon=lons), grid, 'bilinear')\n",
    "    return regridder(ds.sel(lat=lats, lon=lons), keep_attrs=True)"
   ]
  },
  {
   "cell_type": "code",
   "execution_count": null,
   "metadata": {},
   "outputs": [],
   "source": [
    "mrms4km = regrid(mrms, 4, lats, lons)"
   ]
  },
  {
   "cell_type": "code",
   "execution_count": null,
   "metadata": {},
   "outputs": [],
   "source": [
    "mrms2km = regrid(mrms, 2, lats, lons)"
   ]
  },
  {
   "cell_type": "code",
   "execution_count": null,
   "metadata": {},
   "outputs": [],
   "source": [
    "mrms4km6h = regrid(mrms6h, 4, lats, lons)\n",
    "mrms2km6h = regrid(mrms6h, 2, lats, lons)"
   ]
  },
  {
   "cell_type": "code",
   "execution_count": null,
   "metadata": {},
   "outputs": [],
   "source": [
    "mrms4km6h = mrms4km6h.rename('tp')\n",
    "mrms2km6h =mrms2km6h.rename('tp')"
   ]
  },
  {
   "cell_type": "code",
   "execution_count": null,
   "metadata": {},
   "outputs": [],
   "source": [
    "yopp16km = regrid(yopp, 16, lats, lons)\n",
    "yopp32km = regrid(yopp, 32, lats, lons)"
   ]
  },
  {
   "cell_type": "code",
   "execution_count": null,
   "metadata": {},
   "outputs": [],
   "source": [
    "tigge_det16km = regrid(tigge_det, 16, lats, lons)\n",
    "tigge_det32km = regrid(tigge_det, 32, lats, lons)"
   ]
  },
  {
   "cell_type": "code",
   "execution_count": null,
   "metadata": {},
   "outputs": [],
   "source": [
    "tigge_ens16km = regrid(tigge_ens, 16, lats, lons)\n",
    "tigge_ens32km = regrid(tigge_ens, 32, lats, lons)"
   ]
  },
  {
   "cell_type": "code",
   "execution_count": null,
   "metadata": {},
   "outputs": [],
   "source": [
    "!mkdir ../data/regridded"
   ]
  },
  {
   "cell_type": "code",
   "execution_count": null,
   "metadata": {},
   "outputs": [],
   "source": [
    "mrms2km.to_netcdf('../data/regridded/mrms2km.nc')\n",
    "mrms4km.to_netcdf('../data/regridded/mrms4km.nc')\n",
    "mrms2km6h.to_netcdf('../data/regridded/mrms2km6h.nc')\n",
    "mrms4km6h.to_netcdf('../data/regridded/mrms4km6h.nc')\n",
    "yopp16km.to_netcdf('../data/regridded/yopp16km.nc')\n",
    "yopp32km.to_netcdf('../data/regridded/yopp32km.nc')\n",
    "tigge_det16km.to_netcdf('../data/regridded/tigge_det16km.nc')\n",
    "tigge_det32km.to_netcdf('../data/regridded/tigge_det32km.nc')\n",
    "tigge_ens16km.to_netcdf('../data/regridded/tigge_ens16km.nc')\n",
    "tigge_ens32km.to_netcdf('../data/regridded/tigge_ens32km.nc')"
   ]
  },
  {
   "cell_type": "code",
   "execution_count": null,
   "metadata": {},
   "outputs": [],
   "source": [
    "mrms2km = xr.open_dataarray('../data/regridded/mrms2km.nc')\n",
    "mrms4km = xr.open_dataarray('../data/regridded/mrms4km.nc')\n",
    "mrms2km6h = xr.open_dataarray('../data/regridded/mrms2km6h.nc')\n",
    "mrms4km6h = xr.open_dataarray('../data/regridded/mrms4km6h.nc')\n",
    "yopp16km = xr.open_dataarray('../data/regridded/yopp16km.nc')\n",
    "yopp32km = xr.open_dataarray('../data/regridded/yopp32km.nc')\n",
    "tigge_det16km = xr.open_dataarray('../data/regridded/tigge_det16km.nc')\n",
    "tigge_det32km = xr.open_dataarray('../data/regridded/tigge_det32km.nc')\n",
    "tigge_ens16km = xr.open_dataarray('../data/regridded/tigge_ens16km.nc')\n",
    "tigge_ens32km = xr.open_dataarray('../data/regridded/tigge_ens32km.nc')"
   ]
  },
  {
   "cell_type": "markdown",
   "metadata": {},
   "source": [
    "### Matplotlib"
   ]
  },
  {
   "cell_type": "markdown",
   "metadata": {},
   "source": [
    "#### Compare different resolutions"
   ]
  },
  {
   "cell_type": "code",
   "execution_count": null,
   "metadata": {},
   "outputs": [],
   "source": [
    "mrms4km"
   ]
  },
  {
   "cell_type": "code",
   "execution_count": null,
   "metadata": {},
   "outputs": [],
   "source": [
    "np.arange(lons.start, lons.stop, 512/100)"
   ]
  },
  {
   "cell_type": "code",
   "execution_count": null,
   "metadata": {},
   "outputs": [],
   "source": [
    "def add_grid(axs):\n",
    "    for ax in axs:\n",
    "        ax.set_xticks(np.arange(lons.start, lons.stop, 512/100))\n",
    "        ax.set_yticks(np.arange(lats.start, lats.stop, -512/100))\n",
    "        ax.grid(True)\n",
    "        ax.set_aspect('equal')"
   ]
  },
  {
   "cell_type": "code",
   "execution_count": null,
   "metadata": {},
   "outputs": [],
   "source": [
    "yopp16km"
   ]
  },
  {
   "cell_type": "code",
   "execution_count": null,
   "metadata": {},
   "outputs": [],
   "source": [
    "yopp16km.isel(init_time=i, lead_time=slice(0, 3)).valid_time"
   ]
  },
  {
   "cell_type": "code",
   "execution_count": null,
   "metadata": {},
   "outputs": [],
   "source": [
    "i = 3\n",
    "valid_time = yopp16km.isel(init_time=i, lead_time=slice(0, 3)).valid_time\n",
    "figsize = (16, 5)\n",
    "axs = mrms4km.sel(time=valid_time.values).plot(vmin=0, vmax=50, col='time', cmap='gist_ncar_r', figsize=figsize).axes[0]\n",
    "add_grid(axs)\n",
    "axs = yopp16km.isel(init_time=i, lead_time=slice(0, 3)).plot(vmin=0, vmax=50, col='lead_time', cmap='gist_ncar_r', figsize=figsize).axes[0]\n",
    "add_grid(axs)\n",
    "axs = yopp32km.isel(init_time=i, lead_time=slice(0, 3)).plot(vmin=0, vmax=50, col='lead_time', cmap='gist_ncar_r', figsize=figsize).axes[0]\n",
    "add_grid(axs)"
   ]
  },
  {
   "cell_type": "code",
   "execution_count": null,
   "metadata": {},
   "outputs": [],
   "source": [
    "i = 2\n",
    "valid_time = tigge_det16km.isel(init_time=i, lead_time=slice(0, 3)).valid_time\n",
    "figsize = (16, 5)\n",
    "axs = mrms4km6h.sel(time=valid_time.values, method='nearest').assign_coords({'time': valid_time.values}).plot(vmin=0, vmax=50, col='time', cmap='gist_ncar_r', figsize=figsize).axes[0]\n",
    "add_grid(axs)\n",
    "axs = tigge_det16km.isel(init_time=i, lead_time=slice(0, 3)).plot(vmin=0, vmax=50, col='lead_time', cmap='gist_ncar_r', figsize=figsize).axes[0]\n",
    "add_grid(axs)\n",
    "axs = tigge_det32km.isel(init_time=i, lead_time=slice(0, 3)).plot(vmin=0, vmax=50, col='lead_time', cmap='gist_ncar_r', figsize=figsize).axes[0]\n",
    "add_grid(axs)"
   ]
  },
  {
   "cell_type": "code",
   "execution_count": null,
   "metadata": {},
   "outputs": [],
   "source": [
    "tigge_ens16km.isel(init_time=i, lead_time=l)"
   ]
  },
  {
   "cell_type": "code",
   "execution_count": null,
   "metadata": {},
   "outputs": [],
   "source": [
    "i = 3\n",
    "l = 0\n",
    "t = tigge_ens16km.isel(init_time=i, lead_time=slice(l, l+2)).valid_time.values\n",
    "axs = mrms4km6h.sel(time=t, method='nearest').assign_coords({'time': t}).plot(vmin=0, vmax=50, cmap='gist_ncar_r', figsize=(10, 4), col='time').axes[0]\n",
    "add_grid(axs)\n",
    "axs = tigge_ens16km.isel(init_time=i, lead_time=l, member=slice(0, 6)).plot(vmin=0, vmax=50, cmap='gist_ncar_r', figsize=(24, 4), col='member').axes[0]\n",
    "add_grid(axs)\n",
    "axs = tigge_ens16km.isel(init_time=i, lead_time=l+1, member=slice(0, 6)).plot(vmin=0, vmax=50, cmap='gist_ncar_r', figsize=(24, 4), col='member').axes[0]\n",
    "add_grid(axs)"
   ]
  },
  {
   "cell_type": "markdown",
   "metadata": {},
   "source": [
    "### Holoviews"
   ]
  },
  {
   "cell_type": "code",
   "execution_count": null,
   "metadata": {},
   "outputs": [],
   "source": [
    "import holoviews as hv\n",
    "hv.extension('bokeh')\n",
    "hv.config.image_rtol = 1\n",
    "# from holoviews import opts\n",
    "# opts.defaults(opts.Scatter3D(color='Value', cmap='viridis', edgecolor='black', s=50))"
   ]
  },
  {
   "cell_type": "code",
   "execution_count": null,
   "metadata": {},
   "outputs": [],
   "source": [
    "lons2 = slice(268, 273)\n",
    "lats2 = slice(40, 35)\n",
    "lons2 = lons\n",
    "lats2 = lats"
   ]
  },
  {
   "cell_type": "code",
   "execution_count": null,
   "metadata": {},
   "outputs": [],
   "source": [
    "def to_hv(da, dynamic=False, opts={'clim': (1, 50)}):\n",
    "    hv_ds = hv.Dataset(da)\n",
    "    img = hv_ds.to(hv.Image, kdims=[\"lon\", \"lat\"], dynamic=dynamic)\n",
    "    return img.opts(**opts)"
   ]
  },
  {
   "cell_type": "code",
   "execution_count": null,
   "metadata": {},
   "outputs": [],
   "source": [
    "valid_time =  yopp16km.isel(lead_time=slice(0, 4), init_time=slice(0, 3)).valid_time\n",
    "valid_time2 = tigge_det16km.isel(lead_time=slice(0, 3), init_time=slice(0, 3)).valid_time"
   ]
  },
  {
   "cell_type": "code",
   "execution_count": null,
   "metadata": {},
   "outputs": [],
   "source": [
    "mrms2km_hv = to_hv(mrms2km.sel(time=valid_time, method='nearest').sel(lat=lats2, lon=lons2))\n",
    "mrms4km_hv = to_hv(mrms4km.sel(time=valid_time, method='nearest').sel(lat=lats2, lon=lons2))\n",
    "mrms2km6h_hv = to_hv(mrms2km6h.sel(time=valid_time2, method='nearest').sel(lat=lats2, lon=lons2))\n",
    "mrms4km6h_hv = to_hv(mrms4km6h.sel(time=valid_time2, method='nearest').sel(lat=lats2, lon=lons2))"
   ]
  },
  {
   "cell_type": "code",
   "execution_count": null,
   "metadata": {},
   "outputs": [],
   "source": [
    "yopp16km_hv = to_hv(yopp16km.isel(lead_time=slice(0, 4), init_time=slice(0, 3)).sel(lat=lats2, lon=lons2))\n",
    "yopp32km_hv = to_hv(yopp32km.isel(lead_time=slice(0, 4), init_time=slice(0, 3)).sel(lat=lats2, lon=lons2))\n",
    "tigge_det16km_hv = to_hv(tigge_det16km.isel(lead_time=slice(0, 3), init_time=slice(0, 3)).sel(lat=lats2, lon=lons2))\n",
    "tigge_det32km_hv = to_hv(tigge_det32km.isel(lead_time=slice(0, 3), init_time=slice(0, 3)).sel(lat=lats2, lon=lons2))"
   ]
  },
  {
   "cell_type": "markdown",
   "metadata": {},
   "source": [
    "### Which resolution for MRMS?"
   ]
  },
  {
   "cell_type": "code",
   "execution_count": null,
   "metadata": {},
   "outputs": [],
   "source": [
    "%%output holomap='widgets'\n",
    "%%opts Image style(cmap='gist_ncar_r') [width=600, height=600]\n",
    "# mrms4km6h_hv + tigge_det16km_hv + tigge_det32km_hv\n",
    "# mrms4km_hv + yopp16km_hv + yopp32km_hv"
   ]
  },
  {
   "cell_type": "code",
   "execution_count": null,
   "metadata": {},
   "outputs": [],
   "source": [
    "%%output holomap='widgets'\n",
    "%%opts Image style(cmap='gist_ncar_r') [width=600, height=600]\n",
    "mrms4km_hv + mrms4km6h_hv"
   ]
  },
  {
   "cell_type": "code",
   "execution_count": null,
   "metadata": {},
   "outputs": [],
   "source": [
    "hv_yopp = yopp.isel(init_time=0).sel(latitude=lats, longitude=lons)\n",
    "hv_yopp.coords['time'] = hv_yopp.init_time + hv_yopp.lead_time\n",
    "hv_yopp = hv_yopp.swap_dims({'lead_time': 'time'})\n",
    "# hv_yopp"
   ]
  },
  {
   "cell_type": "code",
   "execution_count": null,
   "metadata": {},
   "outputs": [],
   "source": [
    "hv_mrms = hv.Dataset(mrms.sel(latitude=lats, longitude=lons)[1:])\n",
    "hv_yopp = hv.Dataset(hv_yopp.sel(time=mrms.time[1:]))"
   ]
  },
  {
   "cell_type": "code",
   "execution_count": null,
   "metadata": {},
   "outputs": [],
   "source": [
    "img1 = hv_mrms.to(hv.Image, kdims=[\"longitude\", \"latitude\"], dynamic=False)\n",
    "img2 = hv_yopp.to(hv.Image, kdims=[\"longitude\", \"latitude\"], dynamic=False)"
   ]
  },
  {
   "cell_type": "code",
   "execution_count": null,
   "metadata": {},
   "outputs": [],
   "source": [
    "%%output holomap='widgets'\n",
    "%%opts Image style(cmap='gist_ncar_r') plot[colorbar=True]\n",
    "%%opts Image [width=500, height=400]\n",
    "img1 + img2"
   ]
  },
  {
   "cell_type": "code",
   "execution_count": null,
   "metadata": {},
   "outputs": [],
   "source": [
    "hv_yopp = yopp.sel(latitude=lats, longitude=lons)\n",
    "hv_yopp = hv.Dataset(hv_yopp)\n",
    "img1 = hv_yopp.to(hv.Image, kdims=[\"longitude\", \"latitude\"], dynamic=False)"
   ]
  },
  {
   "cell_type": "code",
   "execution_count": null,
   "metadata": {},
   "outputs": [],
   "source": [
    "%%output holomap='widgets'\n",
    "%%opts Image style(cmap='gist_ncar_r') plot[colorbar=True]\n",
    "%%opts Image [width=500, height=400]\n",
    "img1"
   ]
  },
  {
   "cell_type": "code",
   "execution_count": null,
   "metadata": {},
   "outputs": [],
   "source": []
  },
  {
   "cell_type": "code",
   "execution_count": null,
   "metadata": {},
   "outputs": [],
   "source": []
  },
  {
   "cell_type": "code",
   "execution_count": null,
   "metadata": {},
   "outputs": [],
   "source": []
  },
  {
   "cell_type": "code",
   "execution_count": null,
   "metadata": {},
   "outputs": [],
   "source": [
    "hv_ds = hv.Dataset(da.sel(latitude=lats, longitude=lons))"
   ]
  },
  {
   "cell_type": "code",
   "execution_count": null,
   "metadata": {},
   "outputs": [],
   "source": [
    "hv_ds"
   ]
  },
  {
   "cell_type": "code",
   "execution_count": null,
   "metadata": {},
   "outputs": [],
   "source": [
    "a = hv_ds.to(hv.Image, kdims=[\"longitude\", \"latitude\"], dynamic=False)"
   ]
  },
  {
   "cell_type": "code",
   "execution_count": null,
   "metadata": {},
   "outputs": [],
   "source": [
    "a.opts(colorbar=True, fig_size=200, cmap='viridis')"
   ]
  },
  {
   "cell_type": "code",
   "execution_count": null,
   "metadata": {},
   "outputs": [],
   "source": []
  },
  {
   "cell_type": "code",
   "execution_count": null,
   "metadata": {},
   "outputs": [],
   "source": []
  },
  {
   "cell_type": "markdown",
   "metadata": {},
   "source": [
    "# Old"
   ]
  },
  {
   "cell_type": "code",
   "execution_count": null,
   "metadata": {},
   "outputs": [],
   "source": []
  },
  {
   "cell_type": "code",
   "execution_count": null,
   "metadata": {},
   "outputs": [],
   "source": [
    "path = '../data/MultiSensor_QPE_01H_Pass1/'"
   ]
  },
  {
   "cell_type": "code",
   "execution_count": null,
   "metadata": {},
   "outputs": [],
   "source": [
    "da1 = open_nrms('../data/MultiSensor_QPE_01H_Pass1/')\n",
    "da3 = open_nrms('../data/MultiSensor_QPE_03H_Pass1/')"
   ]
  },
  {
   "cell_type": "code",
   "execution_count": null,
   "metadata": {},
   "outputs": [],
   "source": [
    "dar = open_nrms('../data/RadarOnly_QPE_03H/')"
   ]
  },
  {
   "cell_type": "code",
   "execution_count": null,
   "metadata": {},
   "outputs": [],
   "source": [
    "da3p = open_nrms('../data/MultiSensor_QPE_03H_Pass2/')"
   ]
  },
  {
   "cell_type": "code",
   "execution_count": null,
   "metadata": {},
   "outputs": [],
   "source": [
    "da1"
   ]
  },
  {
   "cell_type": "code",
   "execution_count": null,
   "metadata": {},
   "outputs": [],
   "source": [
    "da3"
   ]
  },
  {
   "cell_type": "code",
   "execution_count": null,
   "metadata": {},
   "outputs": [],
   "source": [
    "da13 = da1.rolling(time=3).sum()"
   ]
  },
  {
   "cell_type": "code",
   "execution_count": null,
   "metadata": {},
   "outputs": [],
   "source": [
    "(da13 - da3).isel(time=3).sel(latitude=lats, longitude=lons).plot()"
   ]
  },
  {
   "cell_type": "code",
   "execution_count": null,
   "metadata": {},
   "outputs": [],
   "source": [
    "da13.isel(time=slice(0, 7)).sel(latitude=slice(44, 40), longitude=slice(268, 272)).plot(col='time', vmin=0, vmax=50)\n",
    "plt.suptitle('1h accumulation with rolling(time=3).sum()', y=1.05)"
   ]
  },
  {
   "cell_type": "code",
   "execution_count": null,
   "metadata": {},
   "outputs": [],
   "source": [
    "da3.isel(time=slice(0, 7)).sel(latitude=slice(44, 40), longitude=slice(268, 272)).plot(col='time', vmin=0, vmax=50)\n",
    "plt.suptitle('3h accumulation', y=1.05)"
   ]
  },
  {
   "cell_type": "code",
   "execution_count": null,
   "metadata": {},
   "outputs": [],
   "source": [
    "dar.isel(time=slice(0, 7)).sel(latitude=slice(44, 40), longitude=slice(268, 272)).plot(col='time', vmin=0, vmax=50)\n",
    "plt.suptitle('3h accumulation radar', y=1.05)"
   ]
  },
  {
   "cell_type": "code",
   "execution_count": null,
   "metadata": {},
   "outputs": [],
   "source": [
    "da3.isel(time=slice(0, 7)).sel(latitude=slice(44, 43), longitude=slice(269, 270)).plot(col='time', vmin=0, vmax=50)\n",
    "plt.suptitle('3h accumulation', y=1.05)"
   ]
  },
  {
   "cell_type": "code",
   "execution_count": null,
   "metadata": {},
   "outputs": [],
   "source": [
    "dar.isel(time=slice(0, 7)).sel(latitude=slice(44, 43), longitude=slice(269, 270)).plot(col='time', vmin=0, vmax=50)\n",
    "plt.suptitle('3h accumulation radar', y=1.05)"
   ]
  },
  {
   "cell_type": "code",
   "execution_count": null,
   "metadata": {},
   "outputs": [],
   "source": [
    "for t in np.arange('2020-10-23', '2020-10-25', np.timedelta64(3, 'h'), dtype='datetime64[h]'):\n",
    "    print(t)\n",
    "    print('Radar', (dar.time.values == t).sum() > 0)\n",
    "    print('Pass1', (da3.time.values == t).sum() > 0)\n",
    "    print('Pass2', (da3p.time.values == t).sum() > 0)"
   ]
  },
  {
   "cell_type": "code",
   "execution_count": null,
   "metadata": {},
   "outputs": [],
   "source": [
    "t"
   ]
  },
  {
   "cell_type": "code",
   "execution_count": null,
   "metadata": {},
   "outputs": [],
   "source": [
    "(dar.time.values == t).sum() > 0"
   ]
  },
  {
   "cell_type": "code",
   "execution_count": null,
   "metadata": {},
   "outputs": [],
   "source": [
    "da3.time.values"
   ]
  },
  {
   "cell_type": "code",
   "execution_count": null,
   "metadata": {},
   "outputs": [],
   "source": [
    "def plot_facet(da, title='', **kwargs):\n",
    "    p = da.plot(\n",
    "        col='time', col_wrap=3,\n",
    "        subplot_kws={'projection': ccrs.PlateCarree()},\n",
    "        transform=ccrs.PlateCarree(),\n",
    "        figsize=(15, 15), **kwargs\n",
    "    )\n",
    "    for ax in p.axes.flat:\n",
    "        ax.coastlines()\n",
    "        ax.add_feature(states_provinces, edgecolor='gray')\n",
    "#         ax.set_extent([113, 154, -11, -44], crs=ccrs.PlateCarree())\n",
    "    plt.suptitle(title);"
   ]
  },
  {
   "cell_type": "code",
   "execution_count": null,
   "metadata": {},
   "outputs": [],
   "source": [
    "plot_facet(da.isel(time=slice(0, 9)).sel(latitude=lats, longitude=lons), vmin=0, vmax=10, add_colorbar=False)"
   ]
  },
  {
   "cell_type": "code",
   "execution_count": null,
   "metadata": {},
   "outputs": [],
   "source": [
    "import holoviews as hv\n",
    "hv.extension('matplotlib')\n",
    "from holoviews import opts\n",
    "opts.defaults(opts.Scatter3D(color='Value', cmap='fire', edgecolor='black', s=50))"
   ]
  },
  {
   "cell_type": "code",
   "execution_count": null,
   "metadata": {},
   "outputs": [],
   "source": [
    "hv_ds = hv.Dataset(da.sel(latitude=lats, longitude=lons))"
   ]
  },
  {
   "cell_type": "code",
   "execution_count": null,
   "metadata": {},
   "outputs": [],
   "source": [
    "hv_ds"
   ]
  },
  {
   "cell_type": "code",
   "execution_count": null,
   "metadata": {},
   "outputs": [],
   "source": [
    "a = hv_ds.to(hv.Image, kdims=[\"longitude\", \"latitude\"], dynamic=False)"
   ]
  },
  {
   "cell_type": "code",
   "execution_count": null,
   "metadata": {},
   "outputs": [],
   "source": [
    "a.opts(colorbar=True, fig_size=200, cmap='viridis')"
   ]
  },
  {
   "cell_type": "code",
   "execution_count": null,
   "metadata": {},
   "outputs": [],
   "source": [
    "da.longitude.diff('longitude').min()"
   ]
  },
  {
   "cell_type": "code",
   "execution_count": null,
   "metadata": {},
   "outputs": [],
   "source": [
    "!cp ../data/yopp/2020-10-23.nc ../data/yopp/2020-10-23.grib"
   ]
  },
  {
   "cell_type": "code",
   "execution_count": null,
   "metadata": {},
   "outputs": [],
   "source": [
    "a = xr.open_dataset('../data/yopp/2020-10-23.grib', engine='pynio')"
   ]
  },
  {
   "cell_type": "code",
   "execution_count": null,
   "metadata": {},
   "outputs": [],
   "source": [
    "a"
   ]
  },
  {
   "cell_type": "code",
   "execution_count": null,
   "metadata": {},
   "outputs": [],
   "source": [
    "a.g4_lat_2.diff('g4_lat_2')"
   ]
  },
  {
   "cell_type": "code",
   "execution_count": null,
   "metadata": {},
   "outputs": [],
   "source": [
    "a.g4_lon_3.diff('g4_lon_3')"
   ]
  },
  {
   "cell_type": "code",
   "execution_count": null,
   "metadata": {},
   "outputs": [],
   "source": [
    "!cp ../data/tigge/2020-10-23.nc ../data/tigge/2020-10-23.grib"
   ]
  },
  {
   "cell_type": "code",
   "execution_count": null,
   "metadata": {},
   "outputs": [],
   "source": [
    "b = xr.open_dataset('../data/tigge/2020-10-23.grib', engine='pynio')"
   ]
  },
  {
   "cell_type": "code",
   "execution_count": null,
   "metadata": {},
   "outputs": [],
   "source": [
    "b"
   ]
  },
  {
   "cell_type": "code",
   "execution_count": null,
   "metadata": {},
   "outputs": [],
   "source": []
  }
 ],
 "metadata": {
  "kernelspec": {
   "display_name": "Python 3",
   "language": "python",
   "name": "python3"
  },
  "language_info": {
   "codemirror_mode": {
    "name": "ipython",
    "version": 3
   },
   "file_extension": ".py",
   "mimetype": "text/x-python",
   "name": "python",
   "nbconvert_exporter": "python",
   "pygments_lexer": "ipython3",
   "version": "3.7.9"
  }
 },
 "nbformat": 4,
 "nbformat_minor": 4
}
