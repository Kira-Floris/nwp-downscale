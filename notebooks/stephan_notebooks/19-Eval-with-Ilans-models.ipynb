{
 "cells": [
  {
   "cell_type": "code",
   "execution_count": 1,
   "id": "a8b4bcc4",
   "metadata": {
    "Collapsed": "false"
   },
   "outputs": [],
   "source": [
    "%load_ext autoreload\n",
    "%autoreload 2"
   ]
  },
  {
   "cell_type": "code",
   "execution_count": 2,
   "id": "1c40c964",
   "metadata": {
    "Collapsed": "false"
   },
   "outputs": [],
   "source": [
    "import torch\n",
    "from torch.nn import functional as F\n",
    "from torch import nn\n",
    "from pytorch_lightning.core.lightning import LightningModule\n",
    "import pytorch_lightning as pl\n",
    "\n",
    "import torch.optim as optim\n",
    "import torchvision\n",
    "import torchvision.datasets as datasets\n",
    "import torchvision.transforms as transforms\n",
    "from torch.utils.data import DataLoader\n",
    "\n",
    "from src.models import *\n",
    "# from ilan_src.models import *\n",
    "from src.dataloader import *\n",
    "from src.utils import *\n",
    "from src.evaluation import *\n",
    "\n",
    "import xarray as xr\n",
    "import numpy as np\n",
    "import matplotlib.pyplot as plt\n",
    "\n",
    "import pickle\n",
    "\n",
    "if torch.cuda.is_available():\n",
    "    device = torch.device(\"cuda\") \n",
    "else:\n",
    "    device = torch.device(\"cpu\")"
   ]
  },
  {
   "cell_type": "code",
   "execution_count": 3,
   "id": "c98419b7",
   "metadata": {
    "Collapsed": "false"
   },
   "outputs": [],
   "source": [
    "import sys"
   ]
  },
  {
   "cell_type": "markdown",
   "id": "d4ea834e",
   "metadata": {
    "Collapsed": "false"
   },
   "source": [
    "## Set up dataset - my way"
   ]
  },
  {
   "cell_type": "code",
   "execution_count": 4,
   "id": "a5fad5df",
   "metadata": {
    "Collapsed": "false"
   },
   "outputs": [],
   "source": [
    "members = 10\n",
    "zero_noise = False"
   ]
  },
  {
   "cell_type": "code",
   "execution_count": 5,
   "id": "e8fe0e84",
   "metadata": {
    "Collapsed": "false"
   },
   "outputs": [],
   "source": [
    "DATADRIVE = '/home/jupyter/data/'"
   ]
  },
  {
   "cell_type": "code",
   "execution_count": 6,
   "id": "d2bbcf22",
   "metadata": {
    "Collapsed": "false"
   },
   "outputs": [],
   "source": [
    "# ds_train = TiggeMRMSDataset(\n",
    "#     tigge_dir=f'{DATADRIVE}/tigge/32km/',\n",
    "#     tigge_vars=['total_precipitation_ens10'],\n",
    "#     mrms_dir=f'{DATADRIVE}/mrms/4km/RadarOnly_QPE_06H/',\n",
    "#     rq_fn=f'{DATADRIVE}/mrms/4km/RadarQuality.nc',\n",
    "#     data_period=('2018-01', '2019-12'),\n",
    "#     val_days=5,\n",
    "#     split='train',\n",
    "#     tp_log=0.01,\n",
    "#     ensemble_mode='random',\n",
    "#     idx_stride=16\n",
    "# )"
   ]
  },
  {
   "cell_type": "code",
   "execution_count": 7,
   "id": "261810a0",
   "metadata": {
    "Collapsed": "false"
   },
   "outputs": [],
   "source": [
    "# ds_train.mins.to_netcdf('tmp/mins1.nc')\n",
    "# ds_train.maxs.to_netcdf('tmp/maxs1.nc')"
   ]
  },
  {
   "cell_type": "code",
   "execution_count": 8,
   "id": "faf0e85c",
   "metadata": {
    "Collapsed": "false"
   },
   "outputs": [],
   "source": [
    "mins = xr.open_dataset('tmp/mins1.nc')\n",
    "maxs = xr.open_dataset('tmp/maxs1.nc')"
   ]
  },
  {
   "cell_type": "code",
   "execution_count": 9,
   "id": "63e14122",
   "metadata": {
    "Collapsed": "false"
   },
   "outputs": [
    {
     "name": "stderr",
     "output_type": "stream",
     "text": [
      "/opt/conda/envs/ilan/lib/python3.9/site-packages/xarray/core/indexing.py:1379: PerformanceWarning: Slicing is producing a large chunk. To accept the large\n",
      "chunk and silence this warning, set the option\n",
      "    >>> with dask.config.set(**{'array.slicing.split_large_chunks': False}):\n",
      "    ...     array[indexer]\n",
      "\n",
      "To avoid creating the large chunks, set the option\n",
      "    >>> with dask.config.set(**{'array.slicing.split_large_chunks': True}):\n",
      "    ...     array[indexer]\n",
      "  return self.array[key]\n"
     ]
    },
    {
     "name": "stdout",
     "output_type": "stream",
     "text": [
      "Loading data\n"
     ]
    }
   ],
   "source": [
    "ds_test = TiggeMRMSDataset(\n",
    "    tigge_dir=f'{DATADRIVE}/tigge/32km/',\n",
    "    tigge_vars=['total_precipitation_ens10'],\n",
    "    mrms_dir=f'{DATADRIVE}/mrms/4km/RadarOnly_QPE_06H/',\n",
    "#     rq_fn=f'{DATADRIVE}/mrms/4km/RadarQuality.nc',\n",
    "    data_period=('2020-01', '2020-12'),\n",
    "    first_days=5,\n",
    "    tp_log=0.01,\n",
    "    mins=mins,\n",
    "    maxs=maxs,\n",
    "    ensemble_mode='random',\n",
    "    idx_stride=16\n",
    ")"
   ]
  },
  {
   "cell_type": "code",
   "execution_count": 10,
   "id": "2903d6e8",
   "metadata": {
    "Collapsed": "false"
   },
   "outputs": [
    {
     "name": "stderr",
     "output_type": "stream",
     "text": [
      "/opt/conda/envs/ilan/lib/python3.9/site-packages/xarray/core/indexing.py:1379: PerformanceWarning: Slicing is producing a large chunk. To accept the large\n",
      "chunk and silence this warning, set the option\n",
      "    >>> with dask.config.set(**{'array.slicing.split_large_chunks': False}):\n",
      "    ...     array[indexer]\n",
      "\n",
      "To avoid creating the large chunks, set the option\n",
      "    >>> with dask.config.set(**{'array.slicing.split_large_chunks': True}):\n",
      "    ...     array[indexer]\n",
      "  return self.array[key]\n"
     ]
    },
    {
     "name": "stdout",
     "output_type": "stream",
     "text": [
      "Loading data\n"
     ]
    }
   ],
   "source": [
    "# For ens_tp with stuff\n",
    "ds_test_pad = TiggeMRMSDataset(\n",
    "    tigge_dir=f'{DATADRIVE}/tigge/32km/',\n",
    "    tigge_vars=['total_precipitation_ens10'],\n",
    "    mrms_dir=f'{DATADRIVE}/mrms/4km/RadarOnly_QPE_06H/',\n",
    "#     rq_fn=f'{DATADRIVE}/mrms/4km/RadarQuality.nc',\n",
    "    data_period=('2020-01', '2020-12'),\n",
    "    first_days=5,\n",
    "    tp_log=0.01,\n",
    "    mins=mins,\n",
    "    maxs=maxs,\n",
    "    ensemble_mode='random',\n",
    "    idx_stride=16,\n",
    "    pad_tigge=10,\n",
    "    pad_tigge_channel=True,\n",
    ")"
   ]
  },
  {
   "cell_type": "markdown",
   "id": "566c5279",
   "metadata": {
    "Collapsed": "true"
   },
   "source": [
    "## Load models"
   ]
  },
  {
   "cell_type": "markdown",
   "id": "70536172",
   "metadata": {
    "Collapsed": "false"
   },
   "source": [
    "### Model 1: single_forecast_tp_pure_sr_pretraining"
   ]
  },
  {
   "cell_type": "code",
   "execution_count": 12,
   "id": "a53e6dbb",
   "metadata": {
    "Collapsed": "false"
   },
   "outputs": [],
   "source": [
    "name='single_forecast_tp_pure_sr_pretraining'"
   ]
  },
  {
   "cell_type": "code",
   "execution_count": 13,
   "id": "9e51c966",
   "metadata": {
    "Collapsed": "false"
   },
   "outputs": [],
   "source": [
    "zero_noise=True"
   ]
  },
  {
   "cell_type": "code",
   "execution_count": 14,
   "id": "c162ae1d",
   "metadata": {
    "Collapsed": "false"
   },
   "outputs": [],
   "source": [
    "model_dir = '/home/jupyter/data/saved_models/saved_models/leingan/single_forecast_tp_pure_sr_pretraining/0'"
   ]
  },
  {
   "cell_type": "code",
   "execution_count": 15,
   "id": "e1c01f6b",
   "metadata": {
    "Collapsed": "false"
   },
   "outputs": [],
   "source": [
    "sys.path.append(model_dir)"
   ]
  },
  {
   "cell_type": "code",
   "execution_count": 16,
   "id": "c10bd5e6",
   "metadata": {
    "Collapsed": "false"
   },
   "outputs": [],
   "source": [
    "gan = BaseGAN2.load_from_checkpoint(\n",
    "    f\"{model_dir}/epoch=199-step=133999.ckpt\")"
   ]
  },
  {
   "cell_type": "code",
   "execution_count": 17,
   "id": "4fb59782",
   "metadata": {
    "Collapsed": "false"
   },
   "outputs": [],
   "source": [
    "model = gan.gen\n",
    "model = model.to(device)\n",
    "model.train(False);"
   ]
  },
  {
   "cell_type": "markdown",
   "id": "cdd92816",
   "metadata": {
    "Collapsed": "true"
   },
   "source": [
    "## Model 2: ens_mean_L1_weighted_gen_loss"
   ]
  },
  {
   "cell_type": "code",
   "execution_count": null,
   "id": "0a4a1ef9",
   "metadata": {
    "Collapsed": "false"
   },
   "outputs": [],
   "source": [
    "name='ens_mean_L1_weighted_gen_loss'"
   ]
  },
  {
   "cell_type": "code",
   "execution_count": 68,
   "id": "be68c197",
   "metadata": {
    "Collapsed": "false"
   },
   "outputs": [],
   "source": [
    "model_dir = '/home/jupyter/data/saved_models/saved_models/leingan/ens10_tp/random/ens_mean_L1_weighted_gen_loss/3'"
   ]
  },
  {
   "cell_type": "code",
   "execution_count": 69,
   "id": "c326a8bc",
   "metadata": {
    "Collapsed": "false"
   },
   "outputs": [],
   "source": [
    "sys.path.append(model_dir)"
   ]
  },
  {
   "cell_type": "code",
   "execution_count": 70,
   "id": "0c639782",
   "metadata": {
    "Collapsed": "false"
   },
   "outputs": [],
   "source": [
    "gan = BaseGAN2.load_from_checkpoint(\n",
    "    f\"{model_dir}/epoch=349-step=234499.ckpt\")"
   ]
  },
  {
   "cell_type": "code",
   "execution_count": 71,
   "id": "30ce32e0",
   "metadata": {
    "Collapsed": "false"
   },
   "outputs": [],
   "source": [
    "model = gan.gen\n",
    "model = model.to(device)\n",
    "model.train(False);"
   ]
  },
  {
   "cell_type": "markdown",
   "id": "d77ab88f",
   "metadata": {
    "Collapsed": "false"
   },
   "source": [
    "### Model 3: ens10_tp_and_added_vars_TCW_broadfield_channel"
   ]
  },
  {
   "cell_type": "code",
   "execution_count": null,
   "id": "56d2cddc",
   "metadata": {
    "Collapsed": "false"
   },
   "outputs": [],
   "source": [
    "name='ens10_tp_and_added_vars_TCW_broadfield_channel'"
   ]
  },
  {
   "cell_type": "code",
   "execution_count": null,
   "id": "af7ca550",
   "metadata": {
    "Collapsed": "false"
   },
   "outputs": [],
   "source": [
    "ds_test = ds_test_pad"
   ]
  },
  {
   "cell_type": "code",
   "execution_count": 92,
   "id": "15522059",
   "metadata": {
    "Collapsed": "false"
   },
   "outputs": [],
   "source": [
    "model_dir = '/home/jupyter/data/saved_models/saved_models/leingan/ens10_tp_and_added_vars_TCW_broadfield_channel/15'"
   ]
  },
  {
   "cell_type": "code",
   "execution_count": 93,
   "id": "4111ae74",
   "metadata": {
    "Collapsed": "false"
   },
   "outputs": [],
   "source": [
    "sys.path.append(model_dir)"
   ]
  },
  {
   "cell_type": "code",
   "execution_count": 94,
   "id": "7a5d1d8d",
   "metadata": {
    "Collapsed": "false"
   },
   "outputs": [
    {
     "data": {
      "text/plain": [
       "['/home/jupyter/repositories/nwp-downscale/notebooks/stephan_notebooks',\n",
       " '/opt/conda/envs/ilan/lib/python39.zip',\n",
       " '/opt/conda/envs/ilan/lib/python3.9',\n",
       " '/opt/conda/envs/ilan/lib/python3.9/lib-dynload',\n",
       " '',\n",
       " '/opt/conda/envs/ilan/lib/python3.9/site-packages',\n",
       " '/opt/conda/envs/ilan/lib/python3.9/site-packages/IPython/extensions',\n",
       " '/home/jupyter/.ipython',\n",
       " '/home/jupyter/data/saved_models/saved_models/leingan/ens10_tp_and_added_vars_TCW_broadfield_channel/15']"
      ]
     },
     "execution_count": 94,
     "metadata": {},
     "output_type": "execute_result"
    }
   ],
   "source": [
    "sys.path"
   ]
  },
  {
   "cell_type": "code",
   "execution_count": 95,
   "id": "f727eab3",
   "metadata": {
    "Collapsed": "false"
   },
   "outputs": [
    {
     "ename": "TypeError",
     "evalue": "__init__() got an unexpected keyword argument 'input_channels'",
     "output_type": "error",
     "traceback": [
      "\u001b[0;31m---------------------------------------------------------------------------\u001b[0m",
      "\u001b[0;31mTypeError\u001b[0m                                 Traceback (most recent call last)",
      "\u001b[0;32m<ipython-input-95-8617562c4afb>\u001b[0m in \u001b[0;36m<module>\u001b[0;34m\u001b[0m\n\u001b[0;32m----> 1\u001b[0;31m gan = BaseGAN2.load_from_checkpoint(\n\u001b[0m\u001b[1;32m      2\u001b[0m     f\"{model_dir}/epoch=499-step=258499.ckpt\")\n",
      "\u001b[0;32m/opt/conda/envs/ilan/lib/python3.9/site-packages/pytorch_lightning/core/saving.py\u001b[0m in \u001b[0;36mload_from_checkpoint\u001b[0;34m(cls, checkpoint_path, map_location, hparams_file, strict, **kwargs)\u001b[0m\n\u001b[1;32m    155\u001b[0m         \u001b[0mcheckpoint\u001b[0m\u001b[0;34m[\u001b[0m\u001b[0mcls\u001b[0m\u001b[0;34m.\u001b[0m\u001b[0mCHECKPOINT_HYPER_PARAMS_KEY\u001b[0m\u001b[0;34m]\u001b[0m\u001b[0;34m.\u001b[0m\u001b[0mupdate\u001b[0m\u001b[0;34m(\u001b[0m\u001b[0mkwargs\u001b[0m\u001b[0;34m)\u001b[0m\u001b[0;34m\u001b[0m\u001b[0;34m\u001b[0m\u001b[0m\n\u001b[1;32m    156\u001b[0m \u001b[0;34m\u001b[0m\u001b[0m\n\u001b[0;32m--> 157\u001b[0;31m         \u001b[0mmodel\u001b[0m \u001b[0;34m=\u001b[0m \u001b[0mcls\u001b[0m\u001b[0;34m.\u001b[0m\u001b[0m_load_model_state\u001b[0m\u001b[0;34m(\u001b[0m\u001b[0mcheckpoint\u001b[0m\u001b[0;34m,\u001b[0m \u001b[0mstrict\u001b[0m\u001b[0;34m=\u001b[0m\u001b[0mstrict\u001b[0m\u001b[0;34m,\u001b[0m \u001b[0;34m**\u001b[0m\u001b[0mkwargs\u001b[0m\u001b[0;34m)\u001b[0m\u001b[0;34m\u001b[0m\u001b[0;34m\u001b[0m\u001b[0m\n\u001b[0m\u001b[1;32m    158\u001b[0m         \u001b[0;32mreturn\u001b[0m \u001b[0mmodel\u001b[0m\u001b[0;34m\u001b[0m\u001b[0;34m\u001b[0m\u001b[0m\n\u001b[1;32m    159\u001b[0m \u001b[0;34m\u001b[0m\u001b[0m\n",
      "\u001b[0;32m/opt/conda/envs/ilan/lib/python3.9/site-packages/pytorch_lightning/core/saving.py\u001b[0m in \u001b[0;36m_load_model_state\u001b[0;34m(cls, checkpoint, strict, **cls_kwargs_new)\u001b[0m\n\u001b[1;32m    197\u001b[0m             \u001b[0m_cls_kwargs\u001b[0m \u001b[0;34m=\u001b[0m \u001b[0;34m{\u001b[0m\u001b[0mk\u001b[0m\u001b[0;34m:\u001b[0m \u001b[0mv\u001b[0m \u001b[0;32mfor\u001b[0m \u001b[0mk\u001b[0m\u001b[0;34m,\u001b[0m \u001b[0mv\u001b[0m \u001b[0;32min\u001b[0m \u001b[0m_cls_kwargs\u001b[0m\u001b[0;34m.\u001b[0m\u001b[0mitems\u001b[0m\u001b[0;34m(\u001b[0m\u001b[0;34m)\u001b[0m \u001b[0;32mif\u001b[0m \u001b[0mk\u001b[0m \u001b[0;32min\u001b[0m \u001b[0mcls_init_args_name\u001b[0m\u001b[0;34m}\u001b[0m\u001b[0;34m\u001b[0m\u001b[0;34m\u001b[0m\u001b[0m\n\u001b[1;32m    198\u001b[0m \u001b[0;34m\u001b[0m\u001b[0m\n\u001b[0;32m--> 199\u001b[0;31m         \u001b[0mmodel\u001b[0m \u001b[0;34m=\u001b[0m \u001b[0mcls\u001b[0m\u001b[0;34m(\u001b[0m\u001b[0;34m**\u001b[0m\u001b[0m_cls_kwargs\u001b[0m\u001b[0;34m)\u001b[0m\u001b[0;34m\u001b[0m\u001b[0;34m\u001b[0m\u001b[0m\n\u001b[0m\u001b[1;32m    200\u001b[0m \u001b[0;34m\u001b[0m\u001b[0m\n\u001b[1;32m    201\u001b[0m         \u001b[0;31m# give model a chance to load something\u001b[0m\u001b[0;34m\u001b[0m\u001b[0;34m\u001b[0m\u001b[0;34m\u001b[0m\u001b[0m\n",
      "\u001b[0;32m~/repositories/nwp-downscale/notebooks/stephan_notebooks/src/models.py\u001b[0m in \u001b[0;36m__init__\u001b[0;34m(self, generator, discriminator, noise_shape, input_channels, cond_idx, real_idx, disc_spectral_norm, gen_spectral_norm, zero_noise, opt_hparams, loss_hparams, val_hparams)\u001b[0m\n\u001b[1;32m   1874\u001b[0m \u001b[0;34m\u001b[0m\u001b[0m\n\u001b[1;32m   1875\u001b[0m         \u001b[0mself\u001b[0m\u001b[0;34m.\u001b[0m\u001b[0mnoise_shape\u001b[0m \u001b[0;34m=\u001b[0m \u001b[0mnoise_shape\u001b[0m\u001b[0;34m\u001b[0m\u001b[0;34m\u001b[0m\u001b[0m\n\u001b[0;32m-> 1876\u001b[0;31m         \u001b[0mself\u001b[0m\u001b[0;34m.\u001b[0m\u001b[0mgen\u001b[0m \u001b[0;34m=\u001b[0m \u001b[0mgenerator\u001b[0m\u001b[0;34m(\u001b[0m\u001b[0minput_channels\u001b[0m\u001b[0;34m=\u001b[0m\u001b[0minput_channels\u001b[0m\u001b[0;34m)\u001b[0m\u001b[0;34m\u001b[0m\u001b[0;34m\u001b[0m\u001b[0m\n\u001b[0m\u001b[1;32m   1877\u001b[0m         \u001b[0mself\u001b[0m\u001b[0;34m.\u001b[0m\u001b[0mdisc\u001b[0m \u001b[0;34m=\u001b[0m \u001b[0mdiscriminator\u001b[0m\u001b[0;34m(\u001b[0m\u001b[0minput_channels\u001b[0m\u001b[0;34m=\u001b[0m\u001b[0minput_channels\u001b[0m\u001b[0;34m)\u001b[0m\u001b[0;34m\u001b[0m\u001b[0;34m\u001b[0m\u001b[0m\n\u001b[1;32m   1878\u001b[0m         \u001b[0mself\u001b[0m\u001b[0;34m.\u001b[0m\u001b[0mreal_idx\u001b[0m \u001b[0;34m=\u001b[0m \u001b[0mreal_idx\u001b[0m\u001b[0;34m\u001b[0m\u001b[0;34m\u001b[0m\u001b[0m\n",
      "\u001b[0;31mTypeError\u001b[0m: __init__() got an unexpected keyword argument 'input_channels'"
     ]
    }
   ],
   "source": [
    "gan = BaseGAN2.load_from_checkpoint(\n",
    "    f\"{model_dir}/epoch=499-step=258499.ckpt\")"
   ]
  },
  {
   "cell_type": "code",
   "execution_count": 79,
   "id": "10c0cd9e",
   "metadata": {
    "Collapsed": "false"
   },
   "outputs": [],
   "source": [
    "model = gan.gen\n",
    "model = model.to(device)\n",
    "model.train(False);"
   ]
  },
  {
   "cell_type": "markdown",
   "id": "18a8c675",
   "metadata": {
    "Collapsed": "false"
   },
   "source": [
    "## Full field eval"
   ]
  },
  {
   "cell_type": "code",
   "execution_count": 18,
   "id": "1cdef1de",
   "metadata": {
    "Collapsed": "false"
   },
   "outputs": [],
   "source": [
    "def create_valid_predictions(model, ds_valid, member_idx=None, zero_noise=False):\n",
    "    # Get predictions for full field\n",
    "    preds = []\n",
    "    for t in tqdm(range(len(ds_valid.tigge.valid_time))):\n",
    "        X, y = ds_valid.return_full_array(t, member_idx=member_idx)\n",
    "        noise = torch.randn(1, X.shape[0], X.shape[1], X.shape[2]).to(device)\n",
    "        if zero_noise:\n",
    "            noise *= 0\n",
    "        pred = model(torch.FloatTensor(X[None]).to(device), noise).to('cpu').detach().numpy()[0, 0]\n",
    "        preds.append(pred)\n",
    "    preds = np.array(preds)\n",
    "    \n",
    "    # Unscale\n",
    "    preds = preds * (ds_valid.maxs.tp.values - ds_valid.mins.tp.values) + ds_valid.mins.tp.values\n",
    "    \n",
    "    # Un-log\n",
    "    if ds_valid.tp_log:\n",
    "        preds = log_retrans(preds, ds_valid.tp_log)\n",
    "    \n",
    "    # Convert to xarray\n",
    "    preds = xr.DataArray(\n",
    "        preds,\n",
    "        dims=['valid_time', 'lat', 'lon'],\n",
    "        coords={\n",
    "            'valid_time': ds_valid.tigge.valid_time,\n",
    "            'lat': ds_valid.mrms.lat.isel(\n",
    "                lat=slice(ds_valid.pad_mrms, ds_valid.pad_mrms+preds.shape[1])\n",
    "            ),\n",
    "            'lon': ds_valid.mrms.lon.isel(\n",
    "                lon=slice(ds_valid.pad_mrms, ds_valid.pad_mrms+preds.shape[2])\n",
    "            )\n",
    "        },\n",
    "        name='tp'\n",
    "    )\n",
    "    return preds"
   ]
  },
  {
   "cell_type": "code",
   "execution_count": 19,
   "id": "eb8a0543",
   "metadata": {
    "Collapsed": "false"
   },
   "outputs": [],
   "source": [
    "def create_stitched_predictions(model, ds_test, member_idx, zero_noise=False):\n",
    "    preds = ds_test.mrms.copy(True) * np.NaN\n",
    "    for idx in tqdm(range(len(ds_test.idxs))):\n",
    "        time_idx, lat_idx, lon_idx = ds_test.idxs[idx]\n",
    "        lat_slice = slice(lat_idx * ds_test.ratio, lat_idx * ds_test.ratio + ds_test.patch_mrms)\n",
    "        lon_slice = slice(lon_idx * ds_test.ratio, lon_idx * ds_test.ratio + ds_test.patch_mrms)\n",
    "\n",
    "        X, y = ds_test.__getitem__(idx, member_idx=member_idx)\n",
    "\n",
    "        noise = torch.randn(1, X.shape[0], X.shape[1], X.shape[2]).to(device)\n",
    "        if zero_noise:\n",
    "            noise *= 0\n",
    "        p = model(torch.FloatTensor(X[None]).to(device), noise).to('cpu').detach().numpy()[0, 0]\n",
    "\n",
    "        preds[time_idx, lat_slice, lon_slice] = p\n",
    "    # Unscale\n",
    "    preds = preds * (ds_test.maxs.tp.values - ds_test.mins.tp.values) + ds_test.mins.tp.values\n",
    "\n",
    "    # Un-log\n",
    "    if ds_test.tp_log:\n",
    "        preds = log_retrans(preds, ds_test.tp_log)\n",
    "    preds = preds.rename({'time': 'valid_time'})\n",
    "    return preds"
   ]
  },
  {
   "cell_type": "code",
   "execution_count": 20,
   "id": "bb241c9c",
   "metadata": {
    "Collapsed": "false"
   },
   "outputs": [],
   "source": [
    "def create_valid_ensemble(model, ds_valid, nens, stitched=False, zero_noise=False):\n",
    "    \"\"\"Wrapper to create ensemble\"\"\"\n",
    "    if stitched:\n",
    "        fn = create_stitched_predictions\n",
    "    else:\n",
    "        fn = create_valid_predictions\n",
    "    preds = [fn(model, ds_valid, member_idx=member_idx, zero_noise=zero_noise) for member_idx in range(nens)]\n",
    "    return xr.concat(preds, 'member')"
   ]
  },
  {
   "cell_type": "code",
   "execution_count": 21,
   "id": "4b58d4ad",
   "metadata": {
    "Collapsed": "false"
   },
   "outputs": [
    {
     "name": "stderr",
     "output_type": "stream",
     "text": [
      " 22%|██▏       | 24/110 [03:18<11:52,  8.28s/it]\n"
     ]
    },
    {
     "ename": "KeyboardInterrupt",
     "evalue": "",
     "output_type": "error",
     "traceback": [
      "\u001b[0;31m---------------------------------------------------------------------------\u001b[0m",
      "\u001b[0;31mKeyboardInterrupt\u001b[0m                         Traceback (most recent call last)",
      "\u001b[0;32m<ipython-input-21-66047d807edf>\u001b[0m in \u001b[0;36m<module>\u001b[0;34m\u001b[0m\n\u001b[0;32m----> 1\u001b[0;31m \u001b[0mens_pred\u001b[0m \u001b[0;34m=\u001b[0m \u001b[0mcreate_valid_ensemble\u001b[0m\u001b[0;34m(\u001b[0m\u001b[0mmodel\u001b[0m\u001b[0;34m,\u001b[0m \u001b[0mds_test\u001b[0m\u001b[0;34m,\u001b[0m \u001b[0mmembers\u001b[0m\u001b[0;34m,\u001b[0m \u001b[0mzero_noise\u001b[0m\u001b[0;34m=\u001b[0m\u001b[0mzero_noise\u001b[0m\u001b[0;34m)\u001b[0m\u001b[0;34m\u001b[0m\u001b[0;34m\u001b[0m\u001b[0m\n\u001b[0m",
      "\u001b[0;32m<ipython-input-20-c6bf34974962>\u001b[0m in \u001b[0;36mcreate_valid_ensemble\u001b[0;34m(model, ds_valid, nens, stitched, zero_noise)\u001b[0m\n\u001b[1;32m      5\u001b[0m     \u001b[0;32melse\u001b[0m\u001b[0;34m:\u001b[0m\u001b[0;34m\u001b[0m\u001b[0;34m\u001b[0m\u001b[0m\n\u001b[1;32m      6\u001b[0m         \u001b[0mfn\u001b[0m \u001b[0;34m=\u001b[0m \u001b[0mcreate_valid_predictions\u001b[0m\u001b[0;34m\u001b[0m\u001b[0;34m\u001b[0m\u001b[0m\n\u001b[0;32m----> 7\u001b[0;31m     \u001b[0mpreds\u001b[0m \u001b[0;34m=\u001b[0m \u001b[0;34m[\u001b[0m\u001b[0mfn\u001b[0m\u001b[0;34m(\u001b[0m\u001b[0mmodel\u001b[0m\u001b[0;34m,\u001b[0m \u001b[0mds_valid\u001b[0m\u001b[0;34m,\u001b[0m \u001b[0mmember_idx\u001b[0m\u001b[0;34m=\u001b[0m\u001b[0mmember_idx\u001b[0m\u001b[0;34m,\u001b[0m \u001b[0mzero_noise\u001b[0m\u001b[0;34m=\u001b[0m\u001b[0mzero_noise\u001b[0m\u001b[0;34m)\u001b[0m \u001b[0;32mfor\u001b[0m \u001b[0mmember_idx\u001b[0m \u001b[0;32min\u001b[0m \u001b[0mrange\u001b[0m\u001b[0;34m(\u001b[0m\u001b[0mnens\u001b[0m\u001b[0;34m)\u001b[0m\u001b[0;34m]\u001b[0m\u001b[0;34m\u001b[0m\u001b[0;34m\u001b[0m\u001b[0m\n\u001b[0m\u001b[1;32m      8\u001b[0m     \u001b[0;32mreturn\u001b[0m \u001b[0mxr\u001b[0m\u001b[0;34m.\u001b[0m\u001b[0mconcat\u001b[0m\u001b[0;34m(\u001b[0m\u001b[0mpreds\u001b[0m\u001b[0;34m,\u001b[0m \u001b[0;34m'member'\u001b[0m\u001b[0;34m)\u001b[0m\u001b[0;34m\u001b[0m\u001b[0;34m\u001b[0m\u001b[0m\n",
      "\u001b[0;32m<ipython-input-20-c6bf34974962>\u001b[0m in \u001b[0;36m<listcomp>\u001b[0;34m(.0)\u001b[0m\n\u001b[1;32m      5\u001b[0m     \u001b[0;32melse\u001b[0m\u001b[0;34m:\u001b[0m\u001b[0;34m\u001b[0m\u001b[0;34m\u001b[0m\u001b[0m\n\u001b[1;32m      6\u001b[0m         \u001b[0mfn\u001b[0m \u001b[0;34m=\u001b[0m \u001b[0mcreate_valid_predictions\u001b[0m\u001b[0;34m\u001b[0m\u001b[0;34m\u001b[0m\u001b[0m\n\u001b[0;32m----> 7\u001b[0;31m     \u001b[0mpreds\u001b[0m \u001b[0;34m=\u001b[0m \u001b[0;34m[\u001b[0m\u001b[0mfn\u001b[0m\u001b[0;34m(\u001b[0m\u001b[0mmodel\u001b[0m\u001b[0;34m,\u001b[0m \u001b[0mds_valid\u001b[0m\u001b[0;34m,\u001b[0m \u001b[0mmember_idx\u001b[0m\u001b[0;34m=\u001b[0m\u001b[0mmember_idx\u001b[0m\u001b[0;34m,\u001b[0m \u001b[0mzero_noise\u001b[0m\u001b[0;34m=\u001b[0m\u001b[0mzero_noise\u001b[0m\u001b[0;34m)\u001b[0m \u001b[0;32mfor\u001b[0m \u001b[0mmember_idx\u001b[0m \u001b[0;32min\u001b[0m \u001b[0mrange\u001b[0m\u001b[0;34m(\u001b[0m\u001b[0mnens\u001b[0m\u001b[0;34m)\u001b[0m\u001b[0;34m]\u001b[0m\u001b[0;34m\u001b[0m\u001b[0;34m\u001b[0m\u001b[0m\n\u001b[0m\u001b[1;32m      8\u001b[0m     \u001b[0;32mreturn\u001b[0m \u001b[0mxr\u001b[0m\u001b[0;34m.\u001b[0m\u001b[0mconcat\u001b[0m\u001b[0;34m(\u001b[0m\u001b[0mpreds\u001b[0m\u001b[0;34m,\u001b[0m \u001b[0;34m'member'\u001b[0m\u001b[0;34m)\u001b[0m\u001b[0;34m\u001b[0m\u001b[0;34m\u001b[0m\u001b[0m\n",
      "\u001b[0;32m<ipython-input-18-5f65d08f1ca5>\u001b[0m in \u001b[0;36mcreate_valid_predictions\u001b[0;34m(model, ds_valid, member_idx, zero_noise)\u001b[0m\n\u001b[1;32m      7\u001b[0m         \u001b[0;32mif\u001b[0m \u001b[0mzero_noise\u001b[0m\u001b[0;34m:\u001b[0m\u001b[0;34m\u001b[0m\u001b[0;34m\u001b[0m\u001b[0m\n\u001b[1;32m      8\u001b[0m             \u001b[0mnoise\u001b[0m \u001b[0;34m*=\u001b[0m \u001b[0;36m0\u001b[0m\u001b[0;34m\u001b[0m\u001b[0;34m\u001b[0m\u001b[0m\n\u001b[0;32m----> 9\u001b[0;31m         \u001b[0mpred\u001b[0m \u001b[0;34m=\u001b[0m \u001b[0mmodel\u001b[0m\u001b[0;34m(\u001b[0m\u001b[0mtorch\u001b[0m\u001b[0;34m.\u001b[0m\u001b[0mFloatTensor\u001b[0m\u001b[0;34m(\u001b[0m\u001b[0mX\u001b[0m\u001b[0;34m[\u001b[0m\u001b[0;32mNone\u001b[0m\u001b[0;34m]\u001b[0m\u001b[0;34m)\u001b[0m\u001b[0;34m.\u001b[0m\u001b[0mto\u001b[0m\u001b[0;34m(\u001b[0m\u001b[0mdevice\u001b[0m\u001b[0;34m)\u001b[0m\u001b[0;34m,\u001b[0m \u001b[0mnoise\u001b[0m\u001b[0;34m)\u001b[0m\u001b[0;34m.\u001b[0m\u001b[0mto\u001b[0m\u001b[0;34m(\u001b[0m\u001b[0;34m'cpu'\u001b[0m\u001b[0;34m)\u001b[0m\u001b[0;34m.\u001b[0m\u001b[0mdetach\u001b[0m\u001b[0;34m(\u001b[0m\u001b[0;34m)\u001b[0m\u001b[0;34m.\u001b[0m\u001b[0mnumpy\u001b[0m\u001b[0;34m(\u001b[0m\u001b[0;34m)\u001b[0m\u001b[0;34m[\u001b[0m\u001b[0;36m0\u001b[0m\u001b[0;34m,\u001b[0m \u001b[0;36m0\u001b[0m\u001b[0;34m]\u001b[0m\u001b[0;34m\u001b[0m\u001b[0;34m\u001b[0m\u001b[0m\n\u001b[0m\u001b[1;32m     10\u001b[0m         \u001b[0mpreds\u001b[0m\u001b[0;34m.\u001b[0m\u001b[0mappend\u001b[0m\u001b[0;34m(\u001b[0m\u001b[0mpred\u001b[0m\u001b[0;34m)\u001b[0m\u001b[0;34m\u001b[0m\u001b[0;34m\u001b[0m\u001b[0m\n\u001b[1;32m     11\u001b[0m     \u001b[0mpreds\u001b[0m \u001b[0;34m=\u001b[0m \u001b[0mnp\u001b[0m\u001b[0;34m.\u001b[0m\u001b[0marray\u001b[0m\u001b[0;34m(\u001b[0m\u001b[0mpreds\u001b[0m\u001b[0;34m)\u001b[0m\u001b[0;34m\u001b[0m\u001b[0;34m\u001b[0m\u001b[0m\n",
      "\u001b[0;32m/opt/conda/envs/ilan/lib/python3.9/site-packages/torch/nn/modules/module.py\u001b[0m in \u001b[0;36m_call_impl\u001b[0;34m(self, *input, **kwargs)\u001b[0m\n\u001b[1;32m   1049\u001b[0m         if not (self._backward_hooks or self._forward_hooks or self._forward_pre_hooks or _global_backward_hooks\n\u001b[1;32m   1050\u001b[0m                 or _global_forward_hooks or _global_forward_pre_hooks):\n\u001b[0;32m-> 1051\u001b[0;31m             \u001b[0;32mreturn\u001b[0m \u001b[0mforward_call\u001b[0m\u001b[0;34m(\u001b[0m\u001b[0;34m*\u001b[0m\u001b[0minput\u001b[0m\u001b[0;34m,\u001b[0m \u001b[0;34m**\u001b[0m\u001b[0mkwargs\u001b[0m\u001b[0;34m)\u001b[0m\u001b[0;34m\u001b[0m\u001b[0;34m\u001b[0m\u001b[0m\n\u001b[0m\u001b[1;32m   1052\u001b[0m         \u001b[0;31m# Do not call functions when jit is used\u001b[0m\u001b[0;34m\u001b[0m\u001b[0;34m\u001b[0m\u001b[0;34m\u001b[0m\u001b[0m\n\u001b[1;32m   1053\u001b[0m         \u001b[0mfull_backward_hooks\u001b[0m\u001b[0;34m,\u001b[0m \u001b[0mnon_full_backward_hooks\u001b[0m \u001b[0;34m=\u001b[0m \u001b[0;34m[\u001b[0m\u001b[0;34m]\u001b[0m\u001b[0;34m,\u001b[0m \u001b[0;34m[\u001b[0m\u001b[0;34m]\u001b[0m\u001b[0;34m\u001b[0m\u001b[0;34m\u001b[0m\u001b[0m\n",
      "\u001b[0;32m~/data/saved_models/saved_models/leingan/single_forecast_tp_pure_sr_pretraining/0/run_src/models.py\u001b[0m in \u001b[0;36mforward\u001b[0;34m(self, x, noise)\u001b[0m\n\u001b[1;32m    725\u001b[0m         \u001b[0mx\u001b[0m \u001b[0;34m=\u001b[0m \u001b[0mself\u001b[0m\u001b[0;34m.\u001b[0m\u001b[0mprocess\u001b[0m\u001b[0;34m(\u001b[0m\u001b[0mx\u001b[0m\u001b[0;34m)\u001b[0m\u001b[0;34m\u001b[0m\u001b[0;34m\u001b[0m\u001b[0m\n\u001b[1;32m    726\u001b[0m \u001b[0;31m#         print(x.shape)\u001b[0m\u001b[0;34m\u001b[0m\u001b[0;34m\u001b[0m\u001b[0;34m\u001b[0m\u001b[0m\n\u001b[0;32m--> 727\u001b[0;31m         \u001b[0mx\u001b[0m \u001b[0;34m=\u001b[0m \u001b[0mself\u001b[0m\u001b[0;34m.\u001b[0m\u001b[0mupscale\u001b[0m\u001b[0;34m(\u001b[0m\u001b[0mx\u001b[0m\u001b[0;34m)\u001b[0m\u001b[0;34m\u001b[0m\u001b[0;34m\u001b[0m\u001b[0m\n\u001b[0m\u001b[1;32m    728\u001b[0m         \u001b[0mx\u001b[0m \u001b[0;34m=\u001b[0m \u001b[0mtorch\u001b[0m\u001b[0;34m.\u001b[0m\u001b[0msigmoid\u001b[0m\u001b[0;34m(\u001b[0m\u001b[0mself\u001b[0m\u001b[0;34m.\u001b[0m\u001b[0mfinal\u001b[0m\u001b[0;34m(\u001b[0m\u001b[0mx\u001b[0m\u001b[0;34m)\u001b[0m\u001b[0;34m)\u001b[0m\u001b[0;34m\u001b[0m\u001b[0;34m\u001b[0m\u001b[0m\n\u001b[1;32m    729\u001b[0m         \u001b[0;32mreturn\u001b[0m \u001b[0mx\u001b[0m\u001b[0;34m\u001b[0m\u001b[0;34m\u001b[0m\u001b[0m\n",
      "\u001b[0;32m/opt/conda/envs/ilan/lib/python3.9/site-packages/torch/nn/modules/module.py\u001b[0m in \u001b[0;36m_call_impl\u001b[0;34m(self, *input, **kwargs)\u001b[0m\n\u001b[1;32m   1049\u001b[0m         if not (self._backward_hooks or self._forward_hooks or self._forward_pre_hooks or _global_backward_hooks\n\u001b[1;32m   1050\u001b[0m                 or _global_forward_hooks or _global_forward_pre_hooks):\n\u001b[0;32m-> 1051\u001b[0;31m             \u001b[0;32mreturn\u001b[0m \u001b[0mforward_call\u001b[0m\u001b[0;34m(\u001b[0m\u001b[0;34m*\u001b[0m\u001b[0minput\u001b[0m\u001b[0;34m,\u001b[0m \u001b[0;34m**\u001b[0m\u001b[0mkwargs\u001b[0m\u001b[0;34m)\u001b[0m\u001b[0;34m\u001b[0m\u001b[0;34m\u001b[0m\u001b[0m\n\u001b[0m\u001b[1;32m   1052\u001b[0m         \u001b[0;31m# Do not call functions when jit is used\u001b[0m\u001b[0;34m\u001b[0m\u001b[0;34m\u001b[0m\u001b[0;34m\u001b[0m\u001b[0m\n\u001b[1;32m   1053\u001b[0m         \u001b[0mfull_backward_hooks\u001b[0m\u001b[0;34m,\u001b[0m \u001b[0mnon_full_backward_hooks\u001b[0m \u001b[0;34m=\u001b[0m \u001b[0;34m[\u001b[0m\u001b[0;34m]\u001b[0m\u001b[0;34m,\u001b[0m \u001b[0;34m[\u001b[0m\u001b[0;34m]\u001b[0m\u001b[0;34m\u001b[0m\u001b[0;34m\u001b[0m\u001b[0m\n",
      "\u001b[0;32m/opt/conda/envs/ilan/lib/python3.9/site-packages/torch/nn/modules/container.py\u001b[0m in \u001b[0;36mforward\u001b[0;34m(self, input)\u001b[0m\n\u001b[1;32m    137\u001b[0m     \u001b[0;32mdef\u001b[0m \u001b[0mforward\u001b[0m\u001b[0;34m(\u001b[0m\u001b[0mself\u001b[0m\u001b[0;34m,\u001b[0m \u001b[0minput\u001b[0m\u001b[0;34m)\u001b[0m\u001b[0;34m:\u001b[0m\u001b[0;34m\u001b[0m\u001b[0;34m\u001b[0m\u001b[0m\n\u001b[1;32m    138\u001b[0m         \u001b[0;32mfor\u001b[0m \u001b[0mmodule\u001b[0m \u001b[0;32min\u001b[0m \u001b[0mself\u001b[0m\u001b[0;34m:\u001b[0m\u001b[0;34m\u001b[0m\u001b[0;34m\u001b[0m\u001b[0m\n\u001b[0;32m--> 139\u001b[0;31m             \u001b[0minput\u001b[0m \u001b[0;34m=\u001b[0m \u001b[0mmodule\u001b[0m\u001b[0;34m(\u001b[0m\u001b[0minput\u001b[0m\u001b[0;34m)\u001b[0m\u001b[0;34m\u001b[0m\u001b[0;34m\u001b[0m\u001b[0m\n\u001b[0m\u001b[1;32m    140\u001b[0m         \u001b[0;32mreturn\u001b[0m \u001b[0minput\u001b[0m\u001b[0;34m\u001b[0m\u001b[0;34m\u001b[0m\u001b[0m\n\u001b[1;32m    141\u001b[0m \u001b[0;34m\u001b[0m\u001b[0m\n",
      "\u001b[0;32m/opt/conda/envs/ilan/lib/python3.9/site-packages/torch/nn/modules/module.py\u001b[0m in \u001b[0;36m_call_impl\u001b[0;34m(self, *input, **kwargs)\u001b[0m\n\u001b[1;32m   1049\u001b[0m         if not (self._backward_hooks or self._forward_hooks or self._forward_pre_hooks or _global_backward_hooks\n\u001b[1;32m   1050\u001b[0m                 or _global_forward_hooks or _global_forward_pre_hooks):\n\u001b[0;32m-> 1051\u001b[0;31m             \u001b[0;32mreturn\u001b[0m \u001b[0mforward_call\u001b[0m\u001b[0;34m(\u001b[0m\u001b[0;34m*\u001b[0m\u001b[0minput\u001b[0m\u001b[0;34m,\u001b[0m \u001b[0;34m**\u001b[0m\u001b[0mkwargs\u001b[0m\u001b[0;34m)\u001b[0m\u001b[0;34m\u001b[0m\u001b[0;34m\u001b[0m\u001b[0m\n\u001b[0m\u001b[1;32m   1052\u001b[0m         \u001b[0;31m# Do not call functions when jit is used\u001b[0m\u001b[0;34m\u001b[0m\u001b[0;34m\u001b[0m\u001b[0;34m\u001b[0m\u001b[0m\n\u001b[1;32m   1053\u001b[0m         \u001b[0mfull_backward_hooks\u001b[0m\u001b[0;34m,\u001b[0m \u001b[0mnon_full_backward_hooks\u001b[0m \u001b[0;34m=\u001b[0m \u001b[0;34m[\u001b[0m\u001b[0;34m]\u001b[0m\u001b[0;34m,\u001b[0m \u001b[0;34m[\u001b[0m\u001b[0;34m]\u001b[0m\u001b[0;34m\u001b[0m\u001b[0;34m\u001b[0m\u001b[0m\n",
      "\u001b[0;32m~/data/saved_models/saved_models/leingan/single_forecast_tp_pure_sr_pretraining/0/run_src/models.py\u001b[0m in \u001b[0;36mforward\u001b[0;34m(self, x)\u001b[0m\n\u001b[1;32m    641\u001b[0m     \u001b[0;32mdef\u001b[0m \u001b[0mforward\u001b[0m\u001b[0;34m(\u001b[0m\u001b[0mself\u001b[0m\u001b[0;34m,\u001b[0m \u001b[0mx\u001b[0m\u001b[0;34m)\u001b[0m\u001b[0;34m:\u001b[0m\u001b[0;34m\u001b[0m\u001b[0;34m\u001b[0m\u001b[0m\n\u001b[1;32m    642\u001b[0m         \u001b[0mx_in\u001b[0m \u001b[0;34m=\u001b[0m \u001b[0mx\u001b[0m\u001b[0;34m\u001b[0m\u001b[0;34m\u001b[0m\u001b[0m\n\u001b[0;32m--> 643\u001b[0;31m         \u001b[0mx\u001b[0m \u001b[0;34m=\u001b[0m \u001b[0mself\u001b[0m\u001b[0;34m.\u001b[0m\u001b[0mconvblock1\u001b[0m\u001b[0;34m(\u001b[0m\u001b[0mx\u001b[0m\u001b[0;34m)\u001b[0m\u001b[0;34m\u001b[0m\u001b[0;34m\u001b[0m\u001b[0m\n\u001b[0m\u001b[1;32m    644\u001b[0m         \u001b[0mx\u001b[0m \u001b[0;34m=\u001b[0m \u001b[0mself\u001b[0m\u001b[0;34m.\u001b[0m\u001b[0mconvblock2\u001b[0m\u001b[0;34m(\u001b[0m\u001b[0mx\u001b[0m\u001b[0;34m)\u001b[0m\u001b[0;34m\u001b[0m\u001b[0;34m\u001b[0m\u001b[0m\n\u001b[1;32m    645\u001b[0m         \u001b[0mx_in\u001b[0m \u001b[0;34m=\u001b[0m \u001b[0mself\u001b[0m\u001b[0;34m.\u001b[0m\u001b[0mshortcut\u001b[0m\u001b[0;34m(\u001b[0m\u001b[0mx_in\u001b[0m\u001b[0;34m)\u001b[0m\u001b[0;34m\u001b[0m\u001b[0;34m\u001b[0m\u001b[0m\n",
      "\u001b[0;32m/opt/conda/envs/ilan/lib/python3.9/site-packages/torch/nn/modules/module.py\u001b[0m in \u001b[0;36m_call_impl\u001b[0;34m(self, *input, **kwargs)\u001b[0m\n\u001b[1;32m   1049\u001b[0m         if not (self._backward_hooks or self._forward_hooks or self._forward_pre_hooks or _global_backward_hooks\n\u001b[1;32m   1050\u001b[0m                 or _global_forward_hooks or _global_forward_pre_hooks):\n\u001b[0;32m-> 1051\u001b[0;31m             \u001b[0;32mreturn\u001b[0m \u001b[0mforward_call\u001b[0m\u001b[0;34m(\u001b[0m\u001b[0;34m*\u001b[0m\u001b[0minput\u001b[0m\u001b[0;34m,\u001b[0m \u001b[0;34m**\u001b[0m\u001b[0mkwargs\u001b[0m\u001b[0;34m)\u001b[0m\u001b[0;34m\u001b[0m\u001b[0;34m\u001b[0m\u001b[0m\n\u001b[0m\u001b[1;32m   1052\u001b[0m         \u001b[0;31m# Do not call functions when jit is used\u001b[0m\u001b[0;34m\u001b[0m\u001b[0;34m\u001b[0m\u001b[0;34m\u001b[0m\u001b[0m\n\u001b[1;32m   1053\u001b[0m         \u001b[0mfull_backward_hooks\u001b[0m\u001b[0;34m,\u001b[0m \u001b[0mnon_full_backward_hooks\u001b[0m \u001b[0;34m=\u001b[0m \u001b[0;34m[\u001b[0m\u001b[0;34m]\u001b[0m\u001b[0;34m,\u001b[0m \u001b[0;34m[\u001b[0m\u001b[0;34m]\u001b[0m\u001b[0;34m\u001b[0m\u001b[0;34m\u001b[0m\u001b[0m\n",
      "\u001b[0;32m~/data/saved_models/saved_models/leingan/single_forecast_tp_pure_sr_pretraining/0/run_src/models.py\u001b[0m in \u001b[0;36mforward\u001b[0;34m(self, x)\u001b[0m\n\u001b[1;32m    609\u001b[0m         \u001b[0;32melif\u001b[0m \u001b[0mself\u001b[0m\u001b[0;34m.\u001b[0m\u001b[0mactivation\u001b[0m \u001b[0;34m==\u001b[0m \u001b[0;34m'relu'\u001b[0m\u001b[0;34m:\u001b[0m\u001b[0;34m\u001b[0m\u001b[0;34m\u001b[0m\u001b[0m\n\u001b[1;32m    610\u001b[0m             \u001b[0mx\u001b[0m \u001b[0;34m=\u001b[0m \u001b[0mF\u001b[0m\u001b[0;34m.\u001b[0m\u001b[0mrelu\u001b[0m\u001b[0;34m(\u001b[0m\u001b[0mx\u001b[0m\u001b[0;34m)\u001b[0m\u001b[0;34m\u001b[0m\u001b[0;34m\u001b[0m\u001b[0m\n\u001b[0;32m--> 611\u001b[0;31m         \u001b[0mx\u001b[0m \u001b[0;34m=\u001b[0m \u001b[0mself\u001b[0m\u001b[0;34m.\u001b[0m\u001b[0mconv\u001b[0m\u001b[0;34m(\u001b[0m\u001b[0mx\u001b[0m\u001b[0;34m)\u001b[0m\u001b[0;34m\u001b[0m\u001b[0;34m\u001b[0m\u001b[0m\n\u001b[0m\u001b[1;32m    612\u001b[0m         \u001b[0;32mreturn\u001b[0m \u001b[0mx\u001b[0m\u001b[0;34m\u001b[0m\u001b[0;34m\u001b[0m\u001b[0m\n\u001b[1;32m    613\u001b[0m \u001b[0;34m\u001b[0m\u001b[0m\n",
      "\u001b[0;32m/opt/conda/envs/ilan/lib/python3.9/site-packages/torch/nn/modules/module.py\u001b[0m in \u001b[0;36m_call_impl\u001b[0;34m(self, *input, **kwargs)\u001b[0m\n\u001b[1;32m   1049\u001b[0m         if not (self._backward_hooks or self._forward_hooks or self._forward_pre_hooks or _global_backward_hooks\n\u001b[1;32m   1050\u001b[0m                 or _global_forward_hooks or _global_forward_pre_hooks):\n\u001b[0;32m-> 1051\u001b[0;31m             \u001b[0;32mreturn\u001b[0m \u001b[0mforward_call\u001b[0m\u001b[0;34m(\u001b[0m\u001b[0;34m*\u001b[0m\u001b[0minput\u001b[0m\u001b[0;34m,\u001b[0m \u001b[0;34m**\u001b[0m\u001b[0mkwargs\u001b[0m\u001b[0;34m)\u001b[0m\u001b[0;34m\u001b[0m\u001b[0;34m\u001b[0m\u001b[0m\n\u001b[0m\u001b[1;32m   1052\u001b[0m         \u001b[0;31m# Do not call functions when jit is used\u001b[0m\u001b[0;34m\u001b[0m\u001b[0;34m\u001b[0m\u001b[0;34m\u001b[0m\u001b[0m\n\u001b[1;32m   1053\u001b[0m         \u001b[0mfull_backward_hooks\u001b[0m\u001b[0;34m,\u001b[0m \u001b[0mnon_full_backward_hooks\u001b[0m \u001b[0;34m=\u001b[0m \u001b[0;34m[\u001b[0m\u001b[0;34m]\u001b[0m\u001b[0;34m,\u001b[0m \u001b[0;34m[\u001b[0m\u001b[0;34m]\u001b[0m\u001b[0;34m\u001b[0m\u001b[0;34m\u001b[0m\u001b[0m\n",
      "\u001b[0;32m/opt/conda/envs/ilan/lib/python3.9/site-packages/torch/nn/modules/conv.py\u001b[0m in \u001b[0;36mforward\u001b[0;34m(self, input)\u001b[0m\n\u001b[1;32m    441\u001b[0m \u001b[0;34m\u001b[0m\u001b[0m\n\u001b[1;32m    442\u001b[0m     \u001b[0;32mdef\u001b[0m \u001b[0mforward\u001b[0m\u001b[0;34m(\u001b[0m\u001b[0mself\u001b[0m\u001b[0;34m,\u001b[0m \u001b[0minput\u001b[0m\u001b[0;34m:\u001b[0m \u001b[0mTensor\u001b[0m\u001b[0;34m)\u001b[0m \u001b[0;34m->\u001b[0m \u001b[0mTensor\u001b[0m\u001b[0;34m:\u001b[0m\u001b[0;34m\u001b[0m\u001b[0;34m\u001b[0m\u001b[0m\n\u001b[0;32m--> 443\u001b[0;31m         \u001b[0;32mreturn\u001b[0m \u001b[0mself\u001b[0m\u001b[0;34m.\u001b[0m\u001b[0m_conv_forward\u001b[0m\u001b[0;34m(\u001b[0m\u001b[0minput\u001b[0m\u001b[0;34m,\u001b[0m \u001b[0mself\u001b[0m\u001b[0;34m.\u001b[0m\u001b[0mweight\u001b[0m\u001b[0;34m,\u001b[0m \u001b[0mself\u001b[0m\u001b[0;34m.\u001b[0m\u001b[0mbias\u001b[0m\u001b[0;34m)\u001b[0m\u001b[0;34m\u001b[0m\u001b[0;34m\u001b[0m\u001b[0m\n\u001b[0m\u001b[1;32m    444\u001b[0m \u001b[0;34m\u001b[0m\u001b[0m\n\u001b[1;32m    445\u001b[0m \u001b[0;32mclass\u001b[0m \u001b[0mConv3d\u001b[0m\u001b[0;34m(\u001b[0m\u001b[0m_ConvNd\u001b[0m\u001b[0;34m)\u001b[0m\u001b[0;34m:\u001b[0m\u001b[0;34m\u001b[0m\u001b[0;34m\u001b[0m\u001b[0m\n",
      "\u001b[0;32m/opt/conda/envs/ilan/lib/python3.9/site-packages/torch/nn/modules/conv.py\u001b[0m in \u001b[0;36m_conv_forward\u001b[0;34m(self, input, weight, bias)\u001b[0m\n\u001b[1;32m    437\u001b[0m                             \u001b[0mweight\u001b[0m\u001b[0;34m,\u001b[0m \u001b[0mbias\u001b[0m\u001b[0;34m,\u001b[0m \u001b[0mself\u001b[0m\u001b[0;34m.\u001b[0m\u001b[0mstride\u001b[0m\u001b[0;34m,\u001b[0m\u001b[0;34m\u001b[0m\u001b[0;34m\u001b[0m\u001b[0m\n\u001b[1;32m    438\u001b[0m                             _pair(0), self.dilation, self.groups)\n\u001b[0;32m--> 439\u001b[0;31m         return F.conv2d(input, weight, bias, self.stride,\n\u001b[0m\u001b[1;32m    440\u001b[0m                         self.padding, self.dilation, self.groups)\n\u001b[1;32m    441\u001b[0m \u001b[0;34m\u001b[0m\u001b[0m\n",
      "\u001b[0;31mKeyboardInterrupt\u001b[0m: "
     ]
    }
   ],
   "source": [
    "ens_pred = create_valid_ensemble(model, ds_test, members, zero_noise=zero_noise)"
   ]
  },
  {
   "cell_type": "code",
   "execution_count": null,
   "id": "22d39013",
   "metadata": {
    "Collapsed": "false"
   },
   "outputs": [],
   "source": [
    "ens_pred_stitched = create_valid_ensemble(model, ds_test, members, stitched=True, zero_noise=zero_noise)"
   ]
  },
  {
   "cell_type": "code",
   "execution_count": null,
   "id": "e3420eb8",
   "metadata": {
    "Collapsed": "false"
   },
   "outputs": [],
   "source": [
    "ens_pred.to_netcdf(f'tmp/ens_pred_{name}.nc')\n",
    "ens_pred_stitched.to_netcdf(f'tmp/ens_pred_stitched_{name}.nc')"
   ]
  },
  {
   "cell_type": "code",
   "execution_count": null,
   "id": "3108cc4c",
   "metadata": {
    "Collapsed": "false"
   },
   "outputs": [],
   "source": [
    "ens_pred.isel(valid_time=1).plot(vmin=0, vmax=20, cmap='gist_ncar_r', col='member')"
   ]
  },
  {
   "cell_type": "markdown",
   "id": "ac3b713f",
   "metadata": {
    "Collapsed": "false"
   },
   "source": [
    "## Get ground truth"
   ]
  },
  {
   "cell_type": "code",
   "execution_count": 11,
   "id": "1739926e",
   "metadata": {
    "Collapsed": "false"
   },
   "outputs": [],
   "source": [
    "mrms = ds_test.mrms.rename(\n",
    "    {'time': 'valid_time'}) * ds_test.maxs.tp.values\n",
    "mrms = log_retrans(mrms, ds_test.tp_log)"
   ]
  },
  {
   "cell_type": "code",
   "execution_count": 12,
   "id": "2df7e3d9",
   "metadata": {
    "Collapsed": "false"
   },
   "outputs": [],
   "source": [
    "mrms.to_netcdf('tmp/mrms.nc')"
   ]
  },
  {
   "cell_type": "markdown",
   "id": "c736aaae",
   "metadata": {
    "Collapsed": "false"
   },
   "source": [
    "## Get interpolation baseline"
   ]
  },
  {
   "cell_type": "code",
   "execution_count": 13,
   "id": "90a05760",
   "metadata": {
    "Collapsed": "false"
   },
   "outputs": [],
   "source": [
    "tigge = ds_test.tigge.isel(variable=0) * ds_test.maxs.tp.values\n",
    "tigge = log_retrans(tigge, ds_test.tp_log)"
   ]
  },
  {
   "cell_type": "code",
   "execution_count": 14,
   "id": "2c143340",
   "metadata": {
    "Collapsed": "false"
   },
   "outputs": [],
   "source": [
    "interp = tigge.interp_like(mrms, method='linear')"
   ]
  },
  {
   "cell_type": "code",
   "execution_count": 15,
   "id": "d72926a9",
   "metadata": {
    "Collapsed": "false"
   },
   "outputs": [],
   "source": [
    "interp.to_netcdf('tmp/interp_ens.nc')"
   ]
  },
  {
   "cell_type": "markdown",
   "id": "1d00c5e7",
   "metadata": {
    "Collapsed": "false"
   },
   "source": [
    "### HREF"
   ]
  },
  {
   "cell_type": "code",
   "execution_count": 16,
   "id": "8b3dd991",
   "metadata": {
    "Collapsed": "false"
   },
   "outputs": [],
   "source": [
    "href = xr.open_mfdataset('/home/jupyter/data/hrefv2//4km/total_precipitation/2020*.nc')"
   ]
  },
  {
   "cell_type": "code",
   "execution_count": 17,
   "id": "ce8527de",
   "metadata": {
    "Collapsed": "false"
   },
   "outputs": [],
   "source": [
    "href = href.tp.diff('lead_time').sel(lead_time=np.timedelta64(12, 'h'))"
   ]
  },
  {
   "cell_type": "code",
   "execution_count": 18,
   "id": "14c7370e",
   "metadata": {
    "Collapsed": "false"
   },
   "outputs": [],
   "source": [
    "href['valid_time'] = href.init_time + href.lead_time\n",
    "href = href.swap_dims({'init_time': 'valid_time'})"
   ]
  },
  {
   "cell_type": "code",
   "execution_count": 19,
   "id": "4b1b2324",
   "metadata": {
    "Collapsed": "false"
   },
   "outputs": [],
   "source": [
    "href = href.assign_coords({'lat': interp.lat.values, 'lon': interp.lon.values})"
   ]
  },
  {
   "cell_type": "code",
   "execution_count": 20,
   "id": "d51ceb28",
   "metadata": {
    "Collapsed": "false"
   },
   "outputs": [],
   "source": [
    "overlap_times = np.intersect1d(interp.valid_time, href.valid_time)"
   ]
  },
  {
   "cell_type": "code",
   "execution_count": 21,
   "id": "8db331fb",
   "metadata": {
    "Collapsed": "false"
   },
   "outputs": [],
   "source": [
    "href = href.sel(valid_time=overlap_times)"
   ]
  },
  {
   "cell_type": "code",
   "execution_count": 22,
   "id": "14eb7194",
   "metadata": {
    "Collapsed": "false"
   },
   "outputs": [],
   "source": [
    "href.load();"
   ]
  },
  {
   "cell_type": "code",
   "execution_count": 23,
   "id": "6456e08f",
   "metadata": {
    "Collapsed": "false"
   },
   "outputs": [],
   "source": [
    "href.to_netcdf('tmp/href.nc')"
   ]
  },
  {
   "cell_type": "markdown",
   "id": "10643226",
   "metadata": {
    "Collapsed": "false"
   },
   "source": [
    "# Old"
   ]
  },
  {
   "cell_type": "markdown",
   "id": "c36f039f",
   "metadata": {
    "Collapsed": "false"
   },
   "source": [
    "## Get mask"
   ]
  },
  {
   "cell_type": "code",
   "execution_count": null,
   "id": "56988891",
   "metadata": {
    "Collapsed": "false"
   },
   "outputs": [],
   "source": [
    "ds = xr.open_dataset(\n",
    "    '/home/jupyter/data/hrrr/raw/total_precipitation/20180215_00.nc')"
   ]
  },
  {
   "cell_type": "code",
   "execution_count": null,
   "id": "f1a30fc5",
   "metadata": {
    "Collapsed": "false"
   },
   "outputs": [],
   "source": [
    "from src.regrid import *"
   ]
  },
  {
   "cell_type": "code",
   "execution_count": null,
   "id": "88391848",
   "metadata": {
    "Collapsed": "false"
   },
   "outputs": [],
   "source": [
    "ds_regridded = regrid(ds, 4, lons=(235, 290), lats=(50, 20))"
   ]
  },
  {
   "cell_type": "code",
   "execution_count": null,
   "id": "d0135fdd",
   "metadata": {
    "Collapsed": "false"
   },
   "outputs": [],
   "source": [
    "hrrr_mask = np.isfinite(ds_regridded).tp.isel(init_time=0, lead_time=0)"
   ]
  },
  {
   "cell_type": "code",
   "execution_count": null,
   "id": "a8c6d8d9",
   "metadata": {
    "Collapsed": "false"
   },
   "outputs": [],
   "source": [
    "rq.plot(vmin=0, vmax=1)"
   ]
  },
  {
   "cell_type": "code",
   "execution_count": null,
   "id": "51e0c23b",
   "metadata": {
    "Collapsed": "false"
   },
   "outputs": [],
   "source": [
    "(rq>0.3).plot(vmin=0, vmax=1)"
   ]
  },
  {
   "cell_type": "code",
   "execution_count": null,
   "id": "c6a11692",
   "metadata": {
    "Collapsed": "false"
   },
   "outputs": [],
   "source": [
    "mrms_mask.plot(vmin=0, vmax=1)"
   ]
  },
  {
   "cell_type": "code",
   "execution_count": null,
   "id": "52bd9476",
   "metadata": {
    "Collapsed": "false"
   },
   "outputs": [],
   "source": [
    "rq = xr.open_dataarray(f'{DATADRIVE}/mrms/4km/RadarQuality.nc')\n",
    "mrms_mask = rq>-1\n",
    "mrms_mask = mrms_mask.assign_coords({\n",
    "    'lat': hrrr_mask.lat,\n",
    "    'lon': hrrr_mask.lon\n",
    "})"
   ]
  },
  {
   "cell_type": "code",
   "execution_count": null,
   "id": "e1e70bd1",
   "metadata": {
    "Collapsed": "false"
   },
   "outputs": [],
   "source": [
    "total_mask = mrms_mask * hrrr_mask"
   ]
  },
  {
   "cell_type": "code",
   "execution_count": null,
   "id": "ec9dee90",
   "metadata": {
    "Collapsed": "false"
   },
   "outputs": [],
   "source": [
    "total_mask = total_mask.isel(lat=slice(0, -6))"
   ]
  },
  {
   "cell_type": "code",
   "execution_count": null,
   "id": "8ebfb9f4",
   "metadata": {
    "Collapsed": "false"
   },
   "outputs": [],
   "source": [
    "total_mask = total_mask.assign_coords({'lat': interp.lat.values, 'lon': interp.lon.values})"
   ]
  },
  {
   "cell_type": "code",
   "execution_count": null,
   "id": "d3700b37",
   "metadata": {
    "Collapsed": "false"
   },
   "outputs": [],
   "source": [
    "total_mask.plot()"
   ]
  },
  {
   "cell_type": "markdown",
   "id": "1f315dd4",
   "metadata": {
    "Collapsed": "false"
   },
   "source": [
    "## Compute scores"
   ]
  },
  {
   "cell_type": "code",
   "execution_count": null,
   "id": "359af70a",
   "metadata": {
    "Collapsed": "false"
   },
   "outputs": [],
   "source": [
    "hrrr = hrrr.isel(lat=slice(0, -6))"
   ]
  },
  {
   "cell_type": "code",
   "execution_count": null,
   "id": "5d7e7c2f",
   "metadata": {
    "Collapsed": "false"
   },
   "outputs": [],
   "source": [
    "hrrr = hrrr.assign_coords({'lat': interp.lat.values, 'lon': interp.lon.values})"
   ]
  },
  {
   "cell_type": "code",
   "execution_count": null,
   "id": "f5b50117",
   "metadata": {
    "Collapsed": "false"
   },
   "outputs": [],
   "source": [
    "# Apply mask\n",
    "mrms = mrms.where(total_mask)\n",
    "det_pred = det_pred.where(total_mask)\n",
    "hrrr = hrrr.where(total_mask)\n",
    "interp = interp.where(total_mask)"
   ]
  },
  {
   "cell_type": "code",
   "execution_count": null,
   "id": "f5414b6a",
   "metadata": {
    "Collapsed": "false"
   },
   "outputs": [],
   "source": [
    "det_pred2 = det_pred2.where(total_mask)\n"
   ]
  },
  {
   "cell_type": "code",
   "execution_count": null,
   "id": "3bef2ae4",
   "metadata": {
    "Collapsed": "false"
   },
   "outputs": [],
   "source": [
    "hrrr.load()"
   ]
  },
  {
   "cell_type": "markdown",
   "id": "70d9fa74",
   "metadata": {
    "Collapsed": "false"
   },
   "source": [
    "## Bias"
   ]
  },
  {
   "cell_type": "code",
   "execution_count": null,
   "id": "340f2065",
   "metadata": {
    "Collapsed": "false"
   },
   "outputs": [],
   "source": [
    "mrms.mean().values"
   ]
  },
  {
   "cell_type": "code",
   "execution_count": null,
   "id": "42a080c3",
   "metadata": {
    "Collapsed": "false"
   },
   "outputs": [],
   "source": [
    "det_pred.mean().values"
   ]
  },
  {
   "cell_type": "code",
   "execution_count": null,
   "id": "58178eb8",
   "metadata": {
    "Collapsed": "false"
   },
   "outputs": [],
   "source": [
    "interp.mean().values"
   ]
  },
  {
   "cell_type": "code",
   "execution_count": null,
   "id": "a082ea8c",
   "metadata": {
    "Collapsed": "false"
   },
   "outputs": [],
   "source": [
    "hrrr.mean().values"
   ]
  },
  {
   "cell_type": "markdown",
   "id": "8f41eb20",
   "metadata": {
    "Collapsed": "false"
   },
   "source": [
    "### Histograms"
   ]
  },
  {
   "cell_type": "code",
   "execution_count": null,
   "id": "98e6d342",
   "metadata": {
    "Collapsed": "false"
   },
   "outputs": [],
   "source": [
    "bins = np.logspace(0, 2, 25)-1\n",
    "mid_bin = (bins[1:] + bins[:-1])/2"
   ]
  },
  {
   "cell_type": "code",
   "execution_count": null,
   "id": "5ccd7052",
   "metadata": {
    "Collapsed": "false"
   },
   "outputs": [],
   "source": [
    "def plot_hist(ds, bins, label):\n",
    "    nums, bins = np.histogram(ds.values, bins=bins)\n",
    "    plt.plot(mid_bin, nums, marker='o', label=label)"
   ]
  },
  {
   "cell_type": "code",
   "execution_count": null,
   "id": "df7ba1f4",
   "metadata": {
    "Collapsed": "false"
   },
   "outputs": [],
   "source": [
    "plt.figure(figsize=(10, 5))\n",
    "plot_hist(det_pred, bins, 'GAN')\n",
    "plot_hist(mrms, bins, 'Obs')\n",
    "plot_hist(interp, bins, 'Interp')\n",
    "plot_hist(hrrr, bins, 'HRRR')\n",
    "plt.yscale('log')\n",
    "plt.legend()"
   ]
  },
  {
   "cell_type": "markdown",
   "id": "67484df3",
   "metadata": {
    "Collapsed": "false"
   },
   "source": [
    "### RMSE"
   ]
  },
  {
   "cell_type": "code",
   "execution_count": null,
   "id": "e1028182",
   "metadata": {
    "Collapsed": "false"
   },
   "outputs": [],
   "source": [
    "xs.rmse(det_pred, mrms, dim=['lat', 'lon', 'valid_time'], skipna=True).values"
   ]
  },
  {
   "cell_type": "code",
   "execution_count": null,
   "id": "7aa50f92",
   "metadata": {
    "Collapsed": "false"
   },
   "outputs": [],
   "source": [
    "xs.rmse(interp, mrms, dim=['lat', 'lon', 'valid_time'], skipna=True).values"
   ]
  },
  {
   "cell_type": "code",
   "execution_count": null,
   "id": "2f8db14b",
   "metadata": {
    "Collapsed": "false"
   },
   "outputs": [],
   "source": [
    "xs.rmse(hrrr, mrms, dim=['lat', 'lon', 'valid_time'], skipna=True).values"
   ]
  },
  {
   "cell_type": "markdown",
   "id": "8aa74845",
   "metadata": {
    "Collapsed": "false"
   },
   "source": [
    "### FSS"
   ]
  },
  {
   "cell_type": "code",
   "execution_count": null,
   "id": "3b91d5f2",
   "metadata": {
    "Collapsed": "false"
   },
   "outputs": [],
   "source": [
    "thresh = 10\n",
    "window = 100 // 4"
   ]
  },
  {
   "cell_type": "code",
   "execution_count": null,
   "id": "e43f63ec",
   "metadata": {
    "Collapsed": "false"
   },
   "outputs": [],
   "source": [
    "def compute_fss(f, o, thresh, window, time_mean=True):\n",
    "    f_thresh = f > thresh\n",
    "    o_thresh = o > thresh\n",
    "    f_frac = f_thresh.rolling({'lat': window, 'lon': window}, center=True).mean()\n",
    "    o_frac = o_thresh.rolling({'lat': window, 'lon': window}, center=True).mean()\n",
    "    mse = ((f_frac - o_frac)**2).mean(('lat', 'lon'))\n",
    "    mse_ref = (f_frac**2).mean(('lat', 'lon')) + (o_frac**2).mean(('lat', 'lon'))\n",
    "    fss = 1 - mse / mse_ref\n",
    "    if time_mean:\n",
    "        fss = fss.mean('valid_time')\n",
    "    return fss"
   ]
  },
  {
   "cell_type": "code",
   "execution_count": null,
   "id": "8bd07583",
   "metadata": {
    "Collapsed": "false"
   },
   "outputs": [],
   "source": [
    "compute_fss(mrms, det_pred, thresh, window).values"
   ]
  },
  {
   "cell_type": "code",
   "execution_count": null,
   "id": "e6a084c6",
   "metadata": {
    "Collapsed": "false"
   },
   "outputs": [],
   "source": [
    "compute_fss(mrms, interp, thresh, window).values"
   ]
  },
  {
   "cell_type": "code",
   "execution_count": null,
   "id": "2f3d4805",
   "metadata": {
    "Collapsed": "false"
   },
   "outputs": [],
   "source": [
    "compute_fss(mrms, hrrr, thresh, window).values"
   ]
  },
  {
   "cell_type": "code",
   "execution_count": null,
   "id": "086d2f94",
   "metadata": {
    "Collapsed": "false"
   },
   "outputs": [],
   "source": []
  },
  {
   "cell_type": "code",
   "execution_count": null,
   "id": "d15c8ba8",
   "metadata": {
    "Collapsed": "false"
   },
   "outputs": [],
   "source": [
    "fig, ax = plt.subplots(figsize=(20, 10))\n",
    "det_pred.isel(valid_time=2).plot(vmin=0, vmax=20)\n",
    "ax.set_aspect('equal')"
   ]
  },
  {
   "cell_type": "code",
   "execution_count": null,
   "id": "1ff87b97",
   "metadata": {
    "Collapsed": "false"
   },
   "outputs": [],
   "source": [
    "fig, ax = plt.subplots(figsize=(20, 10))\n",
    "det_pred2.isel(valid_time=2).plot(vmin=0, vmax=20)\n",
    "ax.set_aspect('equal')"
   ]
  },
  {
   "cell_type": "code",
   "execution_count": null,
   "id": "58591e96",
   "metadata": {
    "Collapsed": "false"
   },
   "outputs": [],
   "source": [
    "fig, ax = plt.subplots(figsize=(20, 10))\n",
    "mrms.isel(valid_time=2).plot(vmin=0, vmax=20)\n",
    "ax.set_aspect('equal')"
   ]
  },
  {
   "cell_type": "code",
   "execution_count": null,
   "id": "445b736b",
   "metadata": {
    "Collapsed": "false"
   },
   "outputs": [],
   "source": [
    "fig, ax = plt.subplots(figsize=(20, 10))\n",
    "interp.isel(valid_time=2).plot(vmin=0, vmax=20)\n",
    "ax.set_aspect('equal')"
   ]
  },
  {
   "cell_type": "code",
   "execution_count": null,
   "id": "8eb27a94",
   "metadata": {
    "Collapsed": "false"
   },
   "outputs": [],
   "source": [
    "fig, ax = plt.subplots(figsize=(20, 10))\n",
    "hrrr.isel(valid_time=2).plot(vmin=0, vmax=20)\n",
    "ax.set_aspect('equal')"
   ]
  },
  {
   "cell_type": "code",
   "execution_count": null,
   "id": "9257a791",
   "metadata": {
    "Collapsed": "false"
   },
   "outputs": [],
   "source": []
  },
  {
   "cell_type": "code",
   "execution_count": null,
   "id": "acb8769e",
   "metadata": {
    "Collapsed": "false"
   },
   "outputs": [],
   "source": [
    "interp[50].plot(vmin=0, vmax=20)"
   ]
  },
  {
   "cell_type": "code",
   "execution_count": null,
   "id": "ce561506",
   "metadata": {
    "Collapsed": "false"
   },
   "outputs": [],
   "source": [
    "hrrr[50].plot(vmin=0, vmax=20)"
   ]
  },
  {
   "cell_type": "code",
   "execution_count": null,
   "id": "d37df5d3",
   "metadata": {
    "Collapsed": "false"
   },
   "outputs": [],
   "source": [
    "\n",
    " eps = 1e-6\n",
    "bin_edges = [-eps] + np.linspace(eps, log_retrans(ds_max, tp_log)+eps, 51).tolist()\n",
    "pred_means.append(np.mean(preds.sel(member=0)))\n",
    "pred_hists.append(np.histogram(preds.sel(member=0), bins = bin_edges, density=False)[0])\n",
    "truth_means.append(np.mean(truth))\n",
    "truth_hists.append(np.histogram(truth, bins = bin_edges, density=False)[0])\n",
    "\n",
    "truth_pert = truth + np.random.normal(scale=1e-6, size=truth.shape)\n",
    "preds_pert = preds + np.random.normal(scale=1e-6, size=preds.shape) \n"
   ]
  },
  {
   "cell_type": "code",
   "execution_count": null,
   "id": "5c02776e",
   "metadata": {
    "Collapsed": "false"
   },
   "outputs": [],
   "source": []
  },
  {
   "cell_type": "code",
   "execution_count": null,
   "id": "9325db3d",
   "metadata": {
    "Collapsed": "false"
   },
   "outputs": [],
   "source": []
  },
  {
   "cell_type": "code",
   "execution_count": null,
   "id": "525f2b4b",
   "metadata": {
    "Collapsed": "false"
   },
   "outputs": [],
   "source": []
  },
  {
   "cell_type": "code",
   "execution_count": null,
   "id": "a73f36e2",
   "metadata": {
    "Collapsed": "false"
   },
   "outputs": [],
   "source": []
  },
  {
   "cell_type": "code",
   "execution_count": null,
   "id": "39e0fb31",
   "metadata": {
    "Collapsed": "false"
   },
   "outputs": [],
   "source": []
  },
  {
   "cell_type": "code",
   "execution_count": null,
   "id": "2d81f1f0",
   "metadata": {
    "Collapsed": "false"
   },
   "outputs": [],
   "source": []
  },
  {
   "cell_type": "code",
   "execution_count": null,
   "id": "2dcdf992",
   "metadata": {
    "Collapsed": "false"
   },
   "outputs": [],
   "source": []
  },
  {
   "cell_type": "code",
   "execution_count": null,
   "id": "ac360676",
   "metadata": {
    "Collapsed": "false"
   },
   "outputs": [],
   "source": []
  },
  {
   "cell_type": "code",
   "execution_count": null,
   "id": "bd1b797a",
   "metadata": {
    "Collapsed": "false"
   },
   "outputs": [],
   "source": []
  },
  {
   "cell_type": "code",
   "execution_count": null,
   "id": "a1bb0460",
   "metadata": {
    "Collapsed": "false"
   },
   "outputs": [],
   "source": []
  },
  {
   "cell_type": "code",
   "execution_count": null,
   "id": "fee2f4a4",
   "metadata": {
    "Collapsed": "false"
   },
   "outputs": [],
   "source": []
  },
  {
   "cell_type": "code",
   "execution_count": null,
   "id": "54944dbb",
   "metadata": {
    "Collapsed": "false"
   },
   "outputs": [],
   "source": []
  },
  {
   "cell_type": "code",
   "execution_count": null,
   "id": "49f5bd09",
   "metadata": {
    "Collapsed": "false"
   },
   "outputs": [],
   "source": []
  },
  {
   "cell_type": "code",
   "execution_count": null,
   "id": "3e8d0b43",
   "metadata": {
    "Collapsed": "false"
   },
   "outputs": [],
   "source": []
  },
  {
   "cell_type": "code",
   "execution_count": null,
   "id": "75b8c62e",
   "metadata": {
    "Collapsed": "false"
   },
   "outputs": [],
   "source": []
  },
  {
   "cell_type": "code",
   "execution_count": null,
   "id": "f12666d4",
   "metadata": {
    "Collapsed": "false"
   },
   "outputs": [],
   "source": []
  },
  {
   "cell_type": "code",
   "execution_count": null,
   "id": "f378da49",
   "metadata": {
    "Collapsed": "false"
   },
   "outputs": [],
   "source": []
  },
  {
   "cell_type": "code",
   "execution_count": null,
   "id": "ab0e61c1",
   "metadata": {
    "Collapsed": "false"
   },
   "outputs": [],
   "source": []
  },
  {
   "cell_type": "code",
   "execution_count": null,
   "id": "b7c6f657",
   "metadata": {
    "Collapsed": "false"
   },
   "outputs": [],
   "source": []
  },
  {
   "cell_type": "code",
   "execution_count": null,
   "id": "78a92abe",
   "metadata": {
    "Collapsed": "false"
   },
   "outputs": [],
   "source": []
  },
  {
   "cell_type": "code",
   "execution_count": null,
   "id": "b640a625",
   "metadata": {
    "Collapsed": "false"
   },
   "outputs": [],
   "source": []
  },
  {
   "cell_type": "code",
   "execution_count": null,
   "id": "54326cbd",
   "metadata": {
    "Collapsed": "false"
   },
   "outputs": [],
   "source": []
  },
  {
   "cell_type": "code",
   "execution_count": null,
   "id": "88cf61c5",
   "metadata": {
    "Collapsed": "false"
   },
   "outputs": [],
   "source": []
  },
  {
   "cell_type": "code",
   "execution_count": null,
   "id": "c532ec12",
   "metadata": {
    "Collapsed": "false"
   },
   "outputs": [],
   "source": []
  },
  {
   "cell_type": "code",
   "execution_count": null,
   "id": "47f8b6bc",
   "metadata": {
    "Collapsed": "false"
   },
   "outputs": [],
   "source": []
  },
  {
   "cell_type": "code",
   "execution_count": null,
   "id": "838a1d8b",
   "metadata": {
    "Collapsed": "false"
   },
   "outputs": [],
   "source": []
  },
  {
   "cell_type": "code",
   "execution_count": null,
   "id": "89fafc18",
   "metadata": {
    "Collapsed": "false"
   },
   "outputs": [],
   "source": []
  },
  {
   "cell_type": "code",
   "execution_count": null,
   "id": "2cda760f",
   "metadata": {
    "Collapsed": "false"
   },
   "outputs": [],
   "source": []
  },
  {
   "cell_type": "code",
   "execution_count": null,
   "id": "98037b59",
   "metadata": {
    "Collapsed": "false"
   },
   "outputs": [],
   "source": []
  },
  {
   "cell_type": "code",
   "execution_count": null,
   "id": "eee8c02f",
   "metadata": {
    "Collapsed": "false"
   },
   "outputs": [],
   "source": []
  },
  {
   "cell_type": "code",
   "execution_count": null,
   "id": "cd858fe1",
   "metadata": {
    "Collapsed": "false"
   },
   "outputs": [],
   "source": []
  },
  {
   "cell_type": "code",
   "execution_count": null,
   "id": "ec4d7632",
   "metadata": {
    "Collapsed": "false"
   },
   "outputs": [],
   "source": []
  },
  {
   "cell_type": "code",
   "execution_count": null,
   "id": "405dc6ab",
   "metadata": {
    "Collapsed": "false"
   },
   "outputs": [],
   "source": []
  },
  {
   "cell_type": "code",
   "execution_count": null,
   "id": "13f4fa4e",
   "metadata": {
    "Collapsed": "false"
   },
   "outputs": [],
   "source": []
  },
  {
   "cell_type": "code",
   "execution_count": null,
   "id": "5b079040",
   "metadata": {
    "Collapsed": "false"
   },
   "outputs": [],
   "source": []
  },
  {
   "cell_type": "code",
   "execution_count": null,
   "id": "1f57ea3f",
   "metadata": {
    "Collapsed": "false"
   },
   "outputs": [],
   "source": []
  },
  {
   "cell_type": "code",
   "execution_count": null,
   "id": "092b995d",
   "metadata": {
    "Collapsed": "false"
   },
   "outputs": [],
   "source": []
  }
 ],
 "metadata": {
  "environment": {
   "name": "common-cu110.m74",
   "type": "gcloud",
   "uri": "gcr.io/deeplearning-platform-release/base-cu110:m74"
  },
  "kernelspec": {
   "display_name": "Python [conda env:ilan]",
   "language": "python",
   "name": "conda-env-ilan-py"
  },
  "language_info": {
   "codemirror_mode": {
    "name": "ipython",
    "version": 3
   },
   "file_extension": ".py",
   "mimetype": "text/x-python",
   "name": "python",
   "nbconvert_exporter": "python",
   "pygments_lexer": "ipython3",
   "version": "3.9.5"
  }
 },
 "nbformat": 4,
 "nbformat_minor": 5
}
