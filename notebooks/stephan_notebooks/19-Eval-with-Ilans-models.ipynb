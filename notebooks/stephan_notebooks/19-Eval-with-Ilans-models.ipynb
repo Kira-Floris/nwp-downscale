{
 "cells": [
  {
   "cell_type": "code",
   "execution_count": 1,
   "id": "f69dec1b",
   "metadata": {
    "Collapsed": "false"
   },
   "outputs": [],
   "source": [
    "%load_ext autoreload\n",
    "%autoreload 2"
   ]
  },
  {
   "cell_type": "code",
   "execution_count": 2,
   "id": "84402710",
   "metadata": {
    "Collapsed": "false"
   },
   "outputs": [],
   "source": [
    "import torch\n",
    "from torch.nn import functional as F\n",
    "from torch import nn\n",
    "from pytorch_lightning.core.lightning import LightningModule\n",
    "import pytorch_lightning as pl\n",
    "\n",
    "import torch.optim as optim\n",
    "import torchvision\n",
    "import torchvision.datasets as datasets\n",
    "import torchvision.transforms as transforms\n",
    "from torch.utils.data import DataLoader\n",
    "\n",
    "# from src.models import *\n",
    "from ilan_src.models import *\n",
    "from src.dataloader import *\n",
    "from src.utils import *\n",
    "from src.evaluation import *\n",
    "\n",
    "import xarray as xr\n",
    "import numpy as np\n",
    "import matplotlib.pyplot as plt\n",
    "\n",
    "import pickle\n",
    "\n",
    "if torch.cuda.is_available():\n",
    "    device = torch.device(\"cuda\") \n",
    "else:\n",
    "    device = torch.device(\"cpu\")"
   ]
  },
  {
   "cell_type": "markdown",
   "id": "b6f7fadf",
   "metadata": {
    "Collapsed": "false"
   },
   "source": [
    "## Set up dataset - my way"
   ]
  },
  {
   "cell_type": "code",
   "execution_count": 3,
   "id": "75f616e8",
   "metadata": {
    "Collapsed": "false"
   },
   "outputs": [],
   "source": [
    "DATADRIVE = '/home/jupyter/data/'"
   ]
  },
  {
   "cell_type": "code",
   "execution_count": 4,
   "id": "9947947d",
   "metadata": {
    "Collapsed": "false"
   },
   "outputs": [
    {
     "name": "stderr",
     "output_type": "stream",
     "text": [
      "/opt/conda/envs/ilan/lib/python3.9/site-packages/xarray/core/indexing.py:1379: PerformanceWarning: Slicing is producing a large chunk. To accept the large\n",
      "chunk and silence this warning, set the option\n",
      "    >>> with dask.config.set(**{'array.slicing.split_large_chunks': False}):\n",
      "    ...     array[indexer]\n",
      "\n",
      "To avoid creating the large chunks, set the option\n",
      "    >>> with dask.config.set(**{'array.slicing.split_large_chunks': True}):\n",
      "    ...     array[indexer]\n",
      "  return self.array[key]\n"
     ]
    },
    {
     "name": "stdout",
     "output_type": "stream",
     "text": [
      "Loading data\n"
     ]
    }
   ],
   "source": [
    "ds_train = TiggeMRMSDataset(\n",
    "    tigge_dir=f'{DATADRIVE}/tigge/32km/',\n",
    "    tigge_vars=['total_precipitation'],\n",
    "    mrms_dir=f'{DATADRIVE}/mrms/4km/RadarOnly_QPE_06H/',\n",
    "    rq_fn=f'{DATADRIVE}/mrms/4km/RadarQuality.nc',\n",
    "    data_period=('2018-01', '2018-01'),\n",
    "    val_days=5,\n",
    "    split='train',\n",
    "    tp_log=0.01\n",
    ")"
   ]
  },
  {
   "cell_type": "code",
   "execution_count": 5,
   "id": "7f0221f5",
   "metadata": {
    "Collapsed": "false"
   },
   "outputs": [
    {
     "name": "stderr",
     "output_type": "stream",
     "text": [
      "/opt/conda/envs/ilan/lib/python3.9/site-packages/xarray/core/indexing.py:1379: PerformanceWarning: Slicing is producing a large chunk. To accept the large\n",
      "chunk and silence this warning, set the option\n",
      "    >>> with dask.config.set(**{'array.slicing.split_large_chunks': False}):\n",
      "    ...     array[indexer]\n",
      "\n",
      "To avoid creating the large chunks, set the option\n",
      "    >>> with dask.config.set(**{'array.slicing.split_large_chunks': True}):\n",
      "    ...     array[indexer]\n",
      "  return self.array[key]\n"
     ]
    },
    {
     "name": "stdout",
     "output_type": "stream",
     "text": [
      "Loading data\n"
     ]
    }
   ],
   "source": [
    "ds_test = TiggeMRMSDataset(\n",
    "    tigge_dir=f'{DATADRIVE}/tigge/32km/',\n",
    "    tigge_vars=['total_precipitation'],\n",
    "    mrms_dir=f'{DATADRIVE}/mrms/4km/RadarOnly_QPE_06H/',\n",
    "    rq_fn=f'{DATADRIVE}/mrms/4km/RadarQuality.nc',\n",
    "    data_period=('2020-01', '2020-12'),\n",
    "    first_days=5,\n",
    "    tp_log=0.01,\n",
    "    mins=ds_train.mins,\n",
    "    maxs=ds_train.maxs\n",
    ")"
   ]
  },
  {
   "cell_type": "code",
   "execution_count": 6,
   "id": "85dbfc88",
   "metadata": {
    "Collapsed": "false"
   },
   "outputs": [],
   "source": [
    "sampler_test = torch.utils.data.SequentialSampler(ds_test)\n",
    "dl_test = torch.utils.data.DataLoader(\n",
    "    ds_test, batch_size=32, sampler=sampler_test\n",
    ")"
   ]
  },
  {
   "cell_type": "code",
   "execution_count": 7,
   "id": "72a1c486",
   "metadata": {
    "Collapsed": "false"
   },
   "outputs": [
    {
     "name": "stderr",
     "output_type": "stream",
     "text": [
      "/opt/conda/envs/ilan/lib/python3.9/site-packages/xarray/core/indexing.py:1379: PerformanceWarning: Slicing is producing a large chunk. To accept the large\n",
      "chunk and silence this warning, set the option\n",
      "    >>> with dask.config.set(**{'array.slicing.split_large_chunks': False}):\n",
      "    ...     array[indexer]\n",
      "\n",
      "To avoid creating the large chunks, set the option\n",
      "    >>> with dask.config.set(**{'array.slicing.split_large_chunks': True}):\n",
      "    ...     array[indexer]\n",
      "  return self.array[key]\n"
     ]
    },
    {
     "name": "stdout",
     "output_type": "stream",
     "text": [
      "Loading data\n"
     ]
    }
   ],
   "source": [
    "ds_test_small = TiggeMRMSDataset(\n",
    "    tigge_dir=f'{DATADRIVE}/tigge/32km/',\n",
    "    tigge_vars=['total_precipitation'],\n",
    "    mrms_dir=f'{DATADRIVE}/mrms/4km/RadarOnly_QPE_06H/',\n",
    "    rq_fn=f'{DATADRIVE}/mrms/4km/RadarQuality.nc',\n",
    "    data_period=('2020-01', '2020-01'),\n",
    "    first_days=2,\n",
    "    tp_log=0.01,\n",
    "    mins=ds_train.mins,\n",
    "    maxs=ds_train.maxs\n",
    ")"
   ]
  },
  {
   "cell_type": "code",
   "execution_count": 8,
   "id": "668d37ec",
   "metadata": {
    "Collapsed": "false"
   },
   "outputs": [],
   "source": [
    "sampler_test_small = torch.utils.data.SequentialSampler(ds_test_small)\n",
    "dl_test_small = torch.utils.data.DataLoader(\n",
    "    ds_test_small, batch_size=32, sampler=sampler_test_small\n",
    ")"
   ]
  },
  {
   "cell_type": "markdown",
   "id": "aae8b48c",
   "metadata": {
    "Collapsed": "true"
   },
   "source": [
    "### Ilan's dataset"
   ]
  },
  {
   "cell_type": "code",
   "execution_count": null,
   "id": "d39b9f72",
   "metadata": {
    "Collapsed": "false"
   },
   "outputs": [],
   "source": [
    "ds_test2 = pickle.load(open(\"/home/jupyter/data/saved_datasets/testdataset_single_forecast_only_log_trans_sample.pkl\", \"rb\"))"
   ]
  },
  {
   "cell_type": "code",
   "execution_count": null,
   "id": "a89bed80",
   "metadata": {
    "Collapsed": "false"
   },
   "outputs": [],
   "source": [
    "sampler_test2 = torch.utils.data.SequentialSampler(ds_test2)\n",
    "dl_test2 = torch.utils.data.DataLoader(\n",
    "    ds_test2, batch_size=64, sampler=sampler_test2\n",
    ")"
   ]
  },
  {
   "cell_type": "code",
   "execution_count": 57,
   "id": "148483be",
   "metadata": {
    "Collapsed": "false"
   },
   "outputs": [
    {
     "data": {
      "text/plain": [
       "0.4421676"
      ]
     },
     "execution_count": 57,
     "metadata": {},
     "output_type": "execute_result"
    }
   ],
   "source": [
    "ds_test[0][0][0, 0, 0]"
   ]
  },
  {
   "cell_type": "code",
   "execution_count": 58,
   "id": "5bf82952",
   "metadata": {
    "Collapsed": "false"
   },
   "outputs": [
    {
     "data": {
      "text/plain": [
       "0.3974892"
      ]
     },
     "execution_count": 58,
     "metadata": {},
     "output_type": "execute_result"
    }
   ],
   "source": [
    "ds_test2[0][0][0, 0, 0]"
   ]
  },
  {
   "cell_type": "markdown",
   "id": "e7c19fc7",
   "metadata": {
    "Collapsed": "false"
   },
   "source": [
    "## Load model"
   ]
  },
  {
   "cell_type": "code",
   "execution_count": 9,
   "id": "cf0a0dbf",
   "metadata": {
    "Collapsed": "false"
   },
   "outputs": [],
   "source": [
    "gan = LeinGANGP.load_from_checkpoint(\"/home/jupyter/data/saved_models/leingan/single_forecast/0/epoch=120-step=324279.ckpt\")"
   ]
  },
  {
   "cell_type": "code",
   "execution_count": 10,
   "id": "dd09f188",
   "metadata": {
    "Collapsed": "false"
   },
   "outputs": [],
   "source": [
    "gen = gan.gen\n",
    "gen = gen.to(device)\n",
    "gen.train(False);"
   ]
  },
  {
   "cell_type": "markdown",
   "id": "2ca44b64",
   "metadata": {
    "Collapsed": "true"
   },
   "source": [
    "## Ilan's evaluation"
   ]
  },
  {
   "cell_type": "code",
   "execution_count": 12,
   "id": "7b50c7cf",
   "metadata": {
    "Collapsed": "false"
   },
   "outputs": [],
   "source": [
    "def plot_samples_per_input(cond, target, gen, k=1, samples = 3):\n",
    "    fig, axs = plt.subplots(k, samples+2, figsize=(15, k*5))\n",
    "    gen_images = np.zeros((k,samples+2,128,128))\n",
    "    with torch.no_grad():    \n",
    "        for i in range(4):\n",
    "            noise = torch.randn(cond.shape[0], 1, cond.shape[2], cond.shape[3]).to(device)\n",
    "            pred = gen(cond, noise).detach().cpu().numpy()\n",
    "            for j in range(k):\n",
    "                gen_images[j,i,:,:] = pred[j, 0] \n",
    "\n",
    "    for j in range(k):\n",
    "        lr = cond[j, 0].detach().cpu().numpy()\n",
    "        if lr.shape[0]==64:\n",
    "            lr = lr[24:40, 24:40]\n",
    "        hr = target[j, 0].detach().cpu().numpy()\n",
    "        mn = np.min([np.min(hr), np.min(pred), np.min(gen_images[j,i,:,:])])\n",
    "        mx = np.max([np.max(hr), np.max(pred), np.max(gen_images[j,i,:,:])])\n",
    "        im = axs[j,0].imshow(lr, vmin=mn, vmax=mx, cmap='gist_ncar_r')\n",
    "#         plt.colorbar(im, ax=axs[j,0], shrink=0.7)\n",
    "        im = axs[j,1].imshow(hr, vmin=mn, vmax=mx, cmap='gist_ncar_r')\n",
    "#         plt.colorbar(im, ax=axs[j,0], shrink=0.7)\n",
    "        for i in range(samples):\n",
    "            im = axs[j,i+2].imshow(gen_images[j,i,:,:], vmin=mn, vmax=mx, cmap='gist_ncar_r')\n",
    "#             plt.colorbar(im, ax=axs[j,i], shrink=0.7)\n",
    "    plt.show()  "
   ]
  },
  {
   "cell_type": "code",
   "execution_count": 17,
   "id": "ef0de8ca",
   "metadata": {
    "Collapsed": "false"
   },
   "outputs": [],
   "source": [
    "x_sample, y_sample = next(iter(dl_test))\n",
    "x_sample, y_sample = x_sample.to(device), y_sample.to(device)\n",
    "# plot_samples_per_input(x_sample, y_sample, gen, k=16)"
   ]
  },
  {
   "cell_type": "markdown",
   "id": "e80cccc9",
   "metadata": {
    "Collapsed": "false"
   },
   "source": [
    "### Patch evaluation"
   ]
  },
  {
   "cell_type": "code",
   "execution_count": 41,
   "id": "02b063be",
   "metadata": {
    "Collapsed": "false"
   },
   "outputs": [
    {
     "name": "stdout",
     "output_type": "stream",
     "text": [
      "batch 0 out of 4\n",
      "metrics took 5.379225 seconds.\n",
      "batch 1 out of 4\n",
      "metrics took 5.407562 seconds.\n",
      "batch 2 out of 4\n",
      "metrics took 5.341427 seconds.\n",
      "batch 3 out of 4\n",
      "metrics took 0.946686 seconds.\n"
     ]
    }
   ],
   "source": [
    "num_samples=10\n",
    "scores = gen_patch_eval(\n",
    "    gen, \n",
    "    dl_test_small, \n",
    "    num_samples, \n",
    "    ds_test_small.mins.tp.values, \n",
    "    ds_test_small.maxs.tp.values, \n",
    "    ds_test_small.tp_log, \n",
    "    device\n",
    ")"
   ]
  },
  {
   "cell_type": "code",
   "execution_count": 42,
   "id": "552d01d2",
   "metadata": {
    "Collapsed": "false"
   },
   "outputs": [
    {
     "data": {
      "text/plain": [
       "(0.32465395752506965,\n",
       " 0.444688116088458,\n",
       " 0.3218651547988402,\n",
       " <xarray.DataArray (rank: 11)>\n",
       " array([227523., 174535., 157127., 148649., 142779., 136920., 133902.,\n",
       "        130989., 132315., 138849., 245884.])\n",
       " Dimensions without coordinates: rank,\n",
       " (<xarray.DataArray (forecast_probability: 9)>\n",
       "  array([0.03172549, 0.16364529, 0.31069911, 0.        , 0.42108236,\n",
       "         0.50461072, 0.57405935, 0.        , 0.6304834 ])\n",
       "  Coordinates:\n",
       "    * forecast_probability  (forecast_probability) float64 0.05 0.15 ... 0.75 0.85,\n",
       "  None,\n",
       "  <xarray.DataArray 'samples' (forecast_probability: 9)>\n",
       "  array([1041686.,  158868.,  155826.,       0.,   53106.,   94996.,\n",
       "           46537.,       0.,   98821.])\n",
       "  Coordinates:\n",
       "    * forecast_probability  (forecast_probability) float64 0.05 0.15 ... 0.75 0.85),\n",
       " 0.68224376)"
      ]
     },
     "execution_count": 42,
     "metadata": {},
     "output_type": "execute_result"
    }
   ],
   "source": [
    "scores"
   ]
  },
  {
   "cell_type": "markdown",
   "id": "2708a433",
   "metadata": {
    "Collapsed": "false"
   },
   "source": [
    "## My full field eval"
   ]
  },
  {
   "cell_type": "code",
   "execution_count": 11,
   "id": "2b9f7e46",
   "metadata": {
    "Collapsed": "false"
   },
   "outputs": [],
   "source": [
    "ds_test = ds_test_small"
   ]
  },
  {
   "cell_type": "code",
   "execution_count": 12,
   "id": "e617e433",
   "metadata": {
    "Collapsed": "false"
   },
   "outputs": [],
   "source": [
    "def create_valid_predictions(model, ds_valid):\n",
    "    # Get predictions for full field\n",
    "    preds = []\n",
    "    for t in tqdm.tqdm(range(len(ds_valid.tigge.valid_time))):\n",
    "        X, y = ds_valid.return_full_array(t)\n",
    "        noise = torch.randn(1, X.shape[0], X.shape[1], X.shape[2]).to(device)\n",
    "        pred = model(torch.FloatTensor(X[None]).to(device), noise).to('cpu').detach().numpy()[0, 0]\n",
    "        preds.append(pred)\n",
    "    preds = np.array(preds)\n",
    "    \n",
    "    # Unscale\n",
    "    preds = preds * (ds_valid.maxs.tp.values - ds_valid.mins.tp.values) + ds_valid.mins.tp.values\n",
    "    \n",
    "    # Un-log\n",
    "    if ds_valid.tp_log:\n",
    "        preds = log_retrans(preds, ds_valid.tp_log)\n",
    "    \n",
    "    # Convert to xarray\n",
    "    preds = xr.DataArray(\n",
    "        preds,\n",
    "        dims=['valid_time', 'lat', 'lon'],\n",
    "        coords={\n",
    "            'valid_time': ds_valid.tigge.valid_time,\n",
    "            'lat': ds_valid.mrms.lat.isel(\n",
    "                lat=slice(ds_valid.pad_mrms, ds_valid.pad_mrms+preds.shape[1])\n",
    "            ),\n",
    "            'lon': ds_valid.mrms.lon.isel(\n",
    "                lon=slice(ds_valid.pad_mrms, ds_valid.pad_mrms+preds.shape[2])\n",
    "            )\n",
    "        },\n",
    "        name='tp'\n",
    "    )\n",
    "    return preds"
   ]
  },
  {
   "cell_type": "code",
   "execution_count": 13,
   "id": "7f2e095b",
   "metadata": {
    "Collapsed": "false"
   },
   "outputs": [],
   "source": [
    "def create_valid_ensemble(model, ds_valid, nens):\n",
    "    \"\"\"Wrapper to create ensemble\"\"\"\n",
    "    preds = [create_valid_predictions(model, ds_valid) for _ in range(nens)]\n",
    "    return xr.concat(preds, 'member')"
   ]
  },
  {
   "cell_type": "code",
   "execution_count": 14,
   "id": "91e196c1",
   "metadata": {
    "Collapsed": "false"
   },
   "outputs": [
    {
     "data": {
      "application/vnd.jupyter.widget-view+json": {
       "model_id": "149e1a13073c4d498d88ad566c20f343",
       "version_major": 2,
       "version_minor": 0
      },
      "text/plain": [
       "  0%|          | 0/3 [00:00<?, ?it/s]"
      ]
     },
     "metadata": {},
     "output_type": "display_data"
    },
    {
     "name": "stdout",
     "output_type": "stream",
     "text": [
      "CPU times: user 1min 45s, sys: 8.74 s, total: 1min 54s\n",
      "Wall time: 30.4 s\n"
     ]
    }
   ],
   "source": [
    "%%time\n",
    "det_pred = create_valid_predictions(gen, ds_test)"
   ]
  },
  {
   "cell_type": "markdown",
   "id": "c9d4ab75",
   "metadata": {
    "Collapsed": "false"
   },
   "source": [
    "### Ensemble"
   ]
  },
  {
   "cell_type": "code",
   "execution_count": 15,
   "id": "7af18ee5",
   "metadata": {
    "Collapsed": "false"
   },
   "outputs": [
    {
     "data": {
      "application/vnd.jupyter.widget-view+json": {
       "model_id": "5392ae6cd4b644a79699a1d70596cc0d",
       "version_major": 2,
       "version_minor": 0
      },
      "text/plain": [
       "  0%|          | 0/3 [00:00<?, ?it/s]"
      ]
     },
     "metadata": {},
     "output_type": "display_data"
    },
    {
     "data": {
      "application/vnd.jupyter.widget-view+json": {
       "model_id": "859e80b07db94df4b55169c00e8ce359",
       "version_major": 2,
       "version_minor": 0
      },
      "text/plain": [
       "  0%|          | 0/3 [00:00<?, ?it/s]"
      ]
     },
     "metadata": {},
     "output_type": "display_data"
    },
    {
     "data": {
      "application/vnd.jupyter.widget-view+json": {
       "model_id": "16407d3032254c5c960610e96ac8c231",
       "version_major": 2,
       "version_minor": 0
      },
      "text/plain": [
       "  0%|          | 0/3 [00:00<?, ?it/s]"
      ]
     },
     "metadata": {},
     "output_type": "display_data"
    },
    {
     "data": {
      "application/vnd.jupyter.widget-view+json": {
       "model_id": "7bbe0a7076b24e6594abf9dbfc798e78",
       "version_major": 2,
       "version_minor": 0
      },
      "text/plain": [
       "  0%|          | 0/3 [00:00<?, ?it/s]"
      ]
     },
     "metadata": {},
     "output_type": "display_data"
    },
    {
     "data": {
      "application/vnd.jupyter.widget-view+json": {
       "model_id": "4756cef916064f54a7b869db78fa08af",
       "version_major": 2,
       "version_minor": 0
      },
      "text/plain": [
       "  0%|          | 0/3 [00:00<?, ?it/s]"
      ]
     },
     "metadata": {},
     "output_type": "display_data"
    },
    {
     "data": {
      "application/vnd.jupyter.widget-view+json": {
       "model_id": "6c47b3797e4441e3b692b74d8f47f50a",
       "version_major": 2,
       "version_minor": 0
      },
      "text/plain": [
       "  0%|          | 0/3 [00:00<?, ?it/s]"
      ]
     },
     "metadata": {},
     "output_type": "display_data"
    },
    {
     "data": {
      "application/vnd.jupyter.widget-view+json": {
       "model_id": "1dabd4bdf8c747a1a49a26c120c3105d",
       "version_major": 2,
       "version_minor": 0
      },
      "text/plain": [
       "  0%|          | 0/3 [00:00<?, ?it/s]"
      ]
     },
     "metadata": {},
     "output_type": "display_data"
    },
    {
     "data": {
      "application/vnd.jupyter.widget-view+json": {
       "model_id": "2acfbe9a2a89464b9576529d346327ea",
       "version_major": 2,
       "version_minor": 0
      },
      "text/plain": [
       "  0%|          | 0/3 [00:00<?, ?it/s]"
      ]
     },
     "metadata": {},
     "output_type": "display_data"
    },
    {
     "data": {
      "application/vnd.jupyter.widget-view+json": {
       "model_id": "928ac1e3fd9743c683c1046194ad5677",
       "version_major": 2,
       "version_minor": 0
      },
      "text/plain": [
       "  0%|          | 0/3 [00:00<?, ?it/s]"
      ]
     },
     "metadata": {},
     "output_type": "display_data"
    },
    {
     "data": {
      "application/vnd.jupyter.widget-view+json": {
       "model_id": "03835489cad14d919f2422dad96bb8f0",
       "version_major": 2,
       "version_minor": 0
      },
      "text/plain": [
       "  0%|          | 0/3 [00:00<?, ?it/s]"
      ]
     },
     "metadata": {},
     "output_type": "display_data"
    },
    {
     "name": "stdout",
     "output_type": "stream",
     "text": [
      "CPU times: user 17min 36s, sys: 1min, total: 18min 36s\n",
      "Wall time: 4min 56s\n"
     ]
    }
   ],
   "source": [
    "%%time\n",
    "ens_pred = create_valid_ensemble(gen, ds_test_small, nens=10)"
   ]
  },
  {
   "cell_type": "markdown",
   "id": "f76fed1a",
   "metadata": {
    "Collapsed": "false"
   },
   "source": [
    "## Get ground truth"
   ]
  },
  {
   "cell_type": "code",
   "execution_count": 16,
   "id": "4b187630",
   "metadata": {
    "Collapsed": "false"
   },
   "outputs": [],
   "source": [
    "mrms = ds_test.mrms.sel(lat=det_pred.lat, lon=det_pred.lon).rename(\n",
    "    {'time': 'valid_time'}) * ds_test.maxs.tp.values\n",
    "mrms = log_retrans(mrms, ds_test.tp_log)"
   ]
  },
  {
   "cell_type": "markdown",
   "id": "fb6f2aed",
   "metadata": {
    "Collapsed": "false"
   },
   "source": [
    "## Get interpolation baseline"
   ]
  },
  {
   "cell_type": "code",
   "execution_count": 17,
   "id": "6609d980",
   "metadata": {
    "Collapsed": "false"
   },
   "outputs": [],
   "source": [
    "tigge = ds_test.tigge.isel(variable=0) * ds_test.maxs.tp.values\n",
    "tigge = log_retrans(tigge, ds_test.tp_log)"
   ]
  },
  {
   "cell_type": "code",
   "execution_count": 18,
   "id": "8a84709f",
   "metadata": {
    "Collapsed": "false"
   },
   "outputs": [],
   "source": [
    "interp = tigge.interp_like(mrms, method='linear')"
   ]
  },
  {
   "cell_type": "code",
   "execution_count": 24,
   "id": "75c79fb3",
   "metadata": {
    "Collapsed": "false"
   },
   "outputs": [
    {
     "data": {
      "text/html": [
       "<div><svg style=\"position: absolute; width: 0; height: 0; overflow: hidden\">\n",
       "<defs>\n",
       "<symbol id=\"icon-database\" viewBox=\"0 0 32 32\">\n",
       "<path d=\"M16 0c-8.837 0-16 2.239-16 5v4c0 2.761 7.163 5 16 5s16-2.239 16-5v-4c0-2.761-7.163-5-16-5z\"></path>\n",
       "<path d=\"M16 17c-8.837 0-16-2.239-16-5v6c0 2.761 7.163 5 16 5s16-2.239 16-5v-6c0 2.761-7.163 5-16 5z\"></path>\n",
       "<path d=\"M16 26c-8.837 0-16-2.239-16-5v6c0 2.761 7.163 5 16 5s16-2.239 16-5v-6c0 2.761-7.163 5-16 5z\"></path>\n",
       "</symbol>\n",
       "<symbol id=\"icon-file-text2\" viewBox=\"0 0 32 32\">\n",
       "<path d=\"M28.681 7.159c-0.694-0.947-1.662-2.053-2.724-3.116s-2.169-2.030-3.116-2.724c-1.612-1.182-2.393-1.319-2.841-1.319h-15.5c-1.378 0-2.5 1.121-2.5 2.5v27c0 1.378 1.122 2.5 2.5 2.5h23c1.378 0 2.5-1.122 2.5-2.5v-19.5c0-0.448-0.137-1.23-1.319-2.841zM24.543 5.457c0.959 0.959 1.712 1.825 2.268 2.543h-4.811v-4.811c0.718 0.556 1.584 1.309 2.543 2.268zM28 29.5c0 0.271-0.229 0.5-0.5 0.5h-23c-0.271 0-0.5-0.229-0.5-0.5v-27c0-0.271 0.229-0.5 0.5-0.5 0 0 15.499-0 15.5 0v7c0 0.552 0.448 1 1 1h7v19.5z\"></path>\n",
       "<path d=\"M23 26h-14c-0.552 0-1-0.448-1-1s0.448-1 1-1h14c0.552 0 1 0.448 1 1s-0.448 1-1 1z\"></path>\n",
       "<path d=\"M23 22h-14c-0.552 0-1-0.448-1-1s0.448-1 1-1h14c0.552 0 1 0.448 1 1s-0.448 1-1 1z\"></path>\n",
       "<path d=\"M23 18h-14c-0.552 0-1-0.448-1-1s0.448-1 1-1h14c0.552 0 1 0.448 1 1s-0.448 1-1 1z\"></path>\n",
       "</symbol>\n",
       "</defs>\n",
       "</svg>\n",
       "<style>/* CSS stylesheet for displaying xarray objects in jupyterlab.\n",
       " *\n",
       " */\n",
       "\n",
       ":root {\n",
       "  --xr-font-color0: var(--jp-content-font-color0, rgba(0, 0, 0, 1));\n",
       "  --xr-font-color2: var(--jp-content-font-color2, rgba(0, 0, 0, 0.54));\n",
       "  --xr-font-color3: var(--jp-content-font-color3, rgba(0, 0, 0, 0.38));\n",
       "  --xr-border-color: var(--jp-border-color2, #e0e0e0);\n",
       "  --xr-disabled-color: var(--jp-layout-color3, #bdbdbd);\n",
       "  --xr-background-color: var(--jp-layout-color0, white);\n",
       "  --xr-background-color-row-even: var(--jp-layout-color1, white);\n",
       "  --xr-background-color-row-odd: var(--jp-layout-color2, #eeeeee);\n",
       "}\n",
       "\n",
       "html[theme=dark],\n",
       "body.vscode-dark {\n",
       "  --xr-font-color0: rgba(255, 255, 255, 1);\n",
       "  --xr-font-color2: rgba(255, 255, 255, 0.54);\n",
       "  --xr-font-color3: rgba(255, 255, 255, 0.38);\n",
       "  --xr-border-color: #1F1F1F;\n",
       "  --xr-disabled-color: #515151;\n",
       "  --xr-background-color: #111111;\n",
       "  --xr-background-color-row-even: #111111;\n",
       "  --xr-background-color-row-odd: #313131;\n",
       "}\n",
       "\n",
       ".xr-wrap {\n",
       "  display: block;\n",
       "  min-width: 300px;\n",
       "  max-width: 700px;\n",
       "}\n",
       "\n",
       ".xr-text-repr-fallback {\n",
       "  /* fallback to plain text repr when CSS is not injected (untrusted notebook) */\n",
       "  display: none;\n",
       "}\n",
       "\n",
       ".xr-header {\n",
       "  padding-top: 6px;\n",
       "  padding-bottom: 6px;\n",
       "  margin-bottom: 4px;\n",
       "  border-bottom: solid 1px var(--xr-border-color);\n",
       "}\n",
       "\n",
       ".xr-header > div,\n",
       ".xr-header > ul {\n",
       "  display: inline;\n",
       "  margin-top: 0;\n",
       "  margin-bottom: 0;\n",
       "}\n",
       "\n",
       ".xr-obj-type,\n",
       ".xr-array-name {\n",
       "  margin-left: 2px;\n",
       "  margin-right: 10px;\n",
       "}\n",
       "\n",
       ".xr-obj-type {\n",
       "  color: var(--xr-font-color2);\n",
       "}\n",
       "\n",
       ".xr-sections {\n",
       "  padding-left: 0 !important;\n",
       "  display: grid;\n",
       "  grid-template-columns: 150px auto auto 1fr 20px 20px;\n",
       "}\n",
       "\n",
       ".xr-section-item {\n",
       "  display: contents;\n",
       "}\n",
       "\n",
       ".xr-section-item input {\n",
       "  display: none;\n",
       "}\n",
       "\n",
       ".xr-section-item input + label {\n",
       "  color: var(--xr-disabled-color);\n",
       "}\n",
       "\n",
       ".xr-section-item input:enabled + label {\n",
       "  cursor: pointer;\n",
       "  color: var(--xr-font-color2);\n",
       "}\n",
       "\n",
       ".xr-section-item input:enabled + label:hover {\n",
       "  color: var(--xr-font-color0);\n",
       "}\n",
       "\n",
       ".xr-section-summary {\n",
       "  grid-column: 1;\n",
       "  color: var(--xr-font-color2);\n",
       "  font-weight: 500;\n",
       "}\n",
       "\n",
       ".xr-section-summary > span {\n",
       "  display: inline-block;\n",
       "  padding-left: 0.5em;\n",
       "}\n",
       "\n",
       ".xr-section-summary-in:disabled + label {\n",
       "  color: var(--xr-font-color2);\n",
       "}\n",
       "\n",
       ".xr-section-summary-in + label:before {\n",
       "  display: inline-block;\n",
       "  content: '►';\n",
       "  font-size: 11px;\n",
       "  width: 15px;\n",
       "  text-align: center;\n",
       "}\n",
       "\n",
       ".xr-section-summary-in:disabled + label:before {\n",
       "  color: var(--xr-disabled-color);\n",
       "}\n",
       "\n",
       ".xr-section-summary-in:checked + label:before {\n",
       "  content: '▼';\n",
       "}\n",
       "\n",
       ".xr-section-summary-in:checked + label > span {\n",
       "  display: none;\n",
       "}\n",
       "\n",
       ".xr-section-summary,\n",
       ".xr-section-inline-details {\n",
       "  padding-top: 4px;\n",
       "  padding-bottom: 4px;\n",
       "}\n",
       "\n",
       ".xr-section-inline-details {\n",
       "  grid-column: 2 / -1;\n",
       "}\n",
       "\n",
       ".xr-section-details {\n",
       "  display: none;\n",
       "  grid-column: 1 / -1;\n",
       "  margin-bottom: 5px;\n",
       "}\n",
       "\n",
       ".xr-section-summary-in:checked ~ .xr-section-details {\n",
       "  display: contents;\n",
       "}\n",
       "\n",
       ".xr-array-wrap {\n",
       "  grid-column: 1 / -1;\n",
       "  display: grid;\n",
       "  grid-template-columns: 20px auto;\n",
       "}\n",
       "\n",
       ".xr-array-wrap > label {\n",
       "  grid-column: 1;\n",
       "  vertical-align: top;\n",
       "}\n",
       "\n",
       ".xr-preview {\n",
       "  color: var(--xr-font-color3);\n",
       "}\n",
       "\n",
       ".xr-array-preview,\n",
       ".xr-array-data {\n",
       "  padding: 0 5px !important;\n",
       "  grid-column: 2;\n",
       "}\n",
       "\n",
       ".xr-array-data,\n",
       ".xr-array-in:checked ~ .xr-array-preview {\n",
       "  display: none;\n",
       "}\n",
       "\n",
       ".xr-array-in:checked ~ .xr-array-data,\n",
       ".xr-array-preview {\n",
       "  display: inline-block;\n",
       "}\n",
       "\n",
       ".xr-dim-list {\n",
       "  display: inline-block !important;\n",
       "  list-style: none;\n",
       "  padding: 0 !important;\n",
       "  margin: 0;\n",
       "}\n",
       "\n",
       ".xr-dim-list li {\n",
       "  display: inline-block;\n",
       "  padding: 0;\n",
       "  margin: 0;\n",
       "}\n",
       "\n",
       ".xr-dim-list:before {\n",
       "  content: '(';\n",
       "}\n",
       "\n",
       ".xr-dim-list:after {\n",
       "  content: ')';\n",
       "}\n",
       "\n",
       ".xr-dim-list li:not(:last-child):after {\n",
       "  content: ',';\n",
       "  padding-right: 5px;\n",
       "}\n",
       "\n",
       ".xr-has-index {\n",
       "  font-weight: bold;\n",
       "}\n",
       "\n",
       ".xr-var-list,\n",
       ".xr-var-item {\n",
       "  display: contents;\n",
       "}\n",
       "\n",
       ".xr-var-item > div,\n",
       ".xr-var-item label,\n",
       ".xr-var-item > .xr-var-name span {\n",
       "  background-color: var(--xr-background-color-row-even);\n",
       "  margin-bottom: 0;\n",
       "}\n",
       "\n",
       ".xr-var-item > .xr-var-name:hover span {\n",
       "  padding-right: 5px;\n",
       "}\n",
       "\n",
       ".xr-var-list > li:nth-child(odd) > div,\n",
       ".xr-var-list > li:nth-child(odd) > label,\n",
       ".xr-var-list > li:nth-child(odd) > .xr-var-name span {\n",
       "  background-color: var(--xr-background-color-row-odd);\n",
       "}\n",
       "\n",
       ".xr-var-name {\n",
       "  grid-column: 1;\n",
       "}\n",
       "\n",
       ".xr-var-dims {\n",
       "  grid-column: 2;\n",
       "}\n",
       "\n",
       ".xr-var-dtype {\n",
       "  grid-column: 3;\n",
       "  text-align: right;\n",
       "  color: var(--xr-font-color2);\n",
       "}\n",
       "\n",
       ".xr-var-preview {\n",
       "  grid-column: 4;\n",
       "}\n",
       "\n",
       ".xr-var-name,\n",
       ".xr-var-dims,\n",
       ".xr-var-dtype,\n",
       ".xr-preview,\n",
       ".xr-attrs dt {\n",
       "  white-space: nowrap;\n",
       "  overflow: hidden;\n",
       "  text-overflow: ellipsis;\n",
       "  padding-right: 10px;\n",
       "}\n",
       "\n",
       ".xr-var-name:hover,\n",
       ".xr-var-dims:hover,\n",
       ".xr-var-dtype:hover,\n",
       ".xr-attrs dt:hover {\n",
       "  overflow: visible;\n",
       "  width: auto;\n",
       "  z-index: 1;\n",
       "}\n",
       "\n",
       ".xr-var-attrs,\n",
       ".xr-var-data {\n",
       "  display: none;\n",
       "  background-color: var(--xr-background-color) !important;\n",
       "  padding-bottom: 5px !important;\n",
       "}\n",
       "\n",
       ".xr-var-attrs-in:checked ~ .xr-var-attrs,\n",
       ".xr-var-data-in:checked ~ .xr-var-data {\n",
       "  display: block;\n",
       "}\n",
       "\n",
       ".xr-var-data > table {\n",
       "  float: right;\n",
       "}\n",
       "\n",
       ".xr-var-name span,\n",
       ".xr-var-data,\n",
       ".xr-attrs {\n",
       "  padding-left: 25px !important;\n",
       "}\n",
       "\n",
       ".xr-attrs,\n",
       ".xr-var-attrs,\n",
       ".xr-var-data {\n",
       "  grid-column: 1 / -1;\n",
       "}\n",
       "\n",
       "dl.xr-attrs {\n",
       "  padding: 0;\n",
       "  margin: 0;\n",
       "  display: grid;\n",
       "  grid-template-columns: 125px auto;\n",
       "}\n",
       "\n",
       ".xr-attrs dt,\n",
       ".xr-attrs dd {\n",
       "  padding: 0;\n",
       "  margin: 0;\n",
       "  float: left;\n",
       "  padding-right: 10px;\n",
       "  width: auto;\n",
       "}\n",
       "\n",
       ".xr-attrs dt {\n",
       "  font-weight: normal;\n",
       "  grid-column: 1;\n",
       "}\n",
       "\n",
       ".xr-attrs dt:hover span {\n",
       "  display: inline-block;\n",
       "  background: var(--xr-background-color);\n",
       "  padding-right: 10px;\n",
       "}\n",
       "\n",
       ".xr-attrs dd {\n",
       "  grid-column: 2;\n",
       "  white-space: pre-wrap;\n",
       "  word-break: break-all;\n",
       "}\n",
       "\n",
       ".xr-icon-database,\n",
       ".xr-icon-file-text2 {\n",
       "  display: inline-block;\n",
       "  vertical-align: middle;\n",
       "  width: 1em;\n",
       "  height: 1.5em !important;\n",
       "  stroke-width: 0;\n",
       "  stroke: currentColor;\n",
       "  fill: currentColor;\n",
       "}\n",
       "</style><pre class='xr-text-repr-fallback'>&lt;xarray.DataArray (valid_time: 3, lat: 744, lon: 1376)&gt;\n",
       "array([[[       nan,        nan,        nan, ...,        nan,\n",
       "                nan,        nan],\n",
       "        [       nan,        nan,        nan, ...,        nan,\n",
       "                nan,        nan],\n",
       "        [       nan,        nan,        nan, ...,        nan,\n",
       "                nan,        nan],\n",
       "        ...,\n",
       "        [       nan,        nan,        nan, ..., 0.28450694,\n",
       "                nan,        nan],\n",
       "        [       nan,        nan,        nan, ..., 0.29019327,\n",
       "                nan,        nan],\n",
       "        [       nan,        nan,        nan, ..., 0.2958796 ,\n",
       "                nan,        nan]],\n",
       "\n",
       "       [[       nan,        nan,        nan, ...,        nan,\n",
       "                nan,        nan],\n",
       "        [       nan,        nan,        nan, ...,        nan,\n",
       "                nan,        nan],\n",
       "        [       nan,        nan,        nan, ...,        nan,\n",
       "                nan,        nan],\n",
       "...\n",
       "        [       nan,        nan,        nan, ..., 0.01148081,\n",
       "                nan,        nan],\n",
       "        [       nan,        nan,        nan, ..., 0.01077673,\n",
       "                nan,        nan],\n",
       "        [       nan,        nan,        nan, ..., 0.01007264,\n",
       "                nan,        nan]],\n",
       "\n",
       "       [[       nan,        nan,        nan, ...,        nan,\n",
       "                nan,        nan],\n",
       "        [       nan,        nan,        nan, ...,        nan,\n",
       "                nan,        nan],\n",
       "        [       nan,        nan,        nan, ...,        nan,\n",
       "                nan,        nan],\n",
       "        ...,\n",
       "        [       nan,        nan,        nan, ..., 0.44153307,\n",
       "                nan,        nan],\n",
       "        [       nan,        nan,        nan, ..., 0.45971748,\n",
       "                nan,        nan],\n",
       "        [       nan,        nan,        nan, ..., 0.47790188,\n",
       "                nan,        nan]]])\n",
       "Coordinates:\n",
       "    lead_time   timedelta64[ns] 12:00:00\n",
       "    variable    &lt;U2 &#x27;tp&#x27;\n",
       "  * valid_time  (valid_time) datetime64[ns] 2020-01-01T12:00:00 ... 2020-01-0...\n",
       "  * lat         (lat) float64 50.0 49.96 49.92 49.88 ... 20.4 20.36 20.32 20.28\n",
       "  * lon         (lon) float64 235.0 235.0 235.1 235.1 ... 289.9 290.0 290.0</pre><div class='xr-wrap' hidden><div class='xr-header'><div class='xr-obj-type'>xarray.DataArray</div><div class='xr-array-name'></div><ul class='xr-dim-list'><li><span class='xr-has-index'>valid_time</span>: 3</li><li><span class='xr-has-index'>lat</span>: 744</li><li><span class='xr-has-index'>lon</span>: 1376</li></ul></div><ul class='xr-sections'><li class='xr-section-item'><div class='xr-array-wrap'><input id='section-c612998d-6731-45e7-928e-4bc1bdb14f01' class='xr-array-in' type='checkbox' checked><label for='section-c612998d-6731-45e7-928e-4bc1bdb14f01' title='Show/hide data repr'><svg class='icon xr-icon-database'><use xlink:href='#icon-database'></use></svg></label><div class='xr-array-preview xr-preview'><span>nan nan nan nan nan nan nan ... 0.3397 0.3858 0.4318 0.4779 nan nan</span></div><div class='xr-array-data'><pre>array([[[       nan,        nan,        nan, ...,        nan,\n",
       "                nan,        nan],\n",
       "        [       nan,        nan,        nan, ...,        nan,\n",
       "                nan,        nan],\n",
       "        [       nan,        nan,        nan, ...,        nan,\n",
       "                nan,        nan],\n",
       "        ...,\n",
       "        [       nan,        nan,        nan, ..., 0.28450694,\n",
       "                nan,        nan],\n",
       "        [       nan,        nan,        nan, ..., 0.29019327,\n",
       "                nan,        nan],\n",
       "        [       nan,        nan,        nan, ..., 0.2958796 ,\n",
       "                nan,        nan]],\n",
       "\n",
       "       [[       nan,        nan,        nan, ...,        nan,\n",
       "                nan,        nan],\n",
       "        [       nan,        nan,        nan, ...,        nan,\n",
       "                nan,        nan],\n",
       "        [       nan,        nan,        nan, ...,        nan,\n",
       "                nan,        nan],\n",
       "...\n",
       "        [       nan,        nan,        nan, ..., 0.01148081,\n",
       "                nan,        nan],\n",
       "        [       nan,        nan,        nan, ..., 0.01077673,\n",
       "                nan,        nan],\n",
       "        [       nan,        nan,        nan, ..., 0.01007264,\n",
       "                nan,        nan]],\n",
       "\n",
       "       [[       nan,        nan,        nan, ...,        nan,\n",
       "                nan,        nan],\n",
       "        [       nan,        nan,        nan, ...,        nan,\n",
       "                nan,        nan],\n",
       "        [       nan,        nan,        nan, ...,        nan,\n",
       "                nan,        nan],\n",
       "        ...,\n",
       "        [       nan,        nan,        nan, ..., 0.44153307,\n",
       "                nan,        nan],\n",
       "        [       nan,        nan,        nan, ..., 0.45971748,\n",
       "                nan,        nan],\n",
       "        [       nan,        nan,        nan, ..., 0.47790188,\n",
       "                nan,        nan]]])</pre></div></div></li><li class='xr-section-item'><input id='section-72b50465-476a-48ca-b4e3-4098cc2df58f' class='xr-section-summary-in' type='checkbox'  checked><label for='section-72b50465-476a-48ca-b4e3-4098cc2df58f' class='xr-section-summary' >Coordinates: <span>(5)</span></label><div class='xr-section-inline-details'></div><div class='xr-section-details'><ul class='xr-var-list'><li class='xr-var-item'><div class='xr-var-name'><span>lead_time</span></div><div class='xr-var-dims'>()</div><div class='xr-var-dtype'>timedelta64[ns]</div><div class='xr-var-preview xr-preview'>12:00:00</div><input id='attrs-37dcff53-498c-45c7-991d-7efaa9a60f0b' class='xr-var-attrs-in' type='checkbox' ><label for='attrs-37dcff53-498c-45c7-991d-7efaa9a60f0b' title='Show/Hide attributes'><svg class='icon xr-icon-file-text2'><use xlink:href='#icon-file-text2'></use></svg></label><input id='data-e303db77-ef7f-4421-a081-6fb887c3c96d' class='xr-var-data-in' type='checkbox'><label for='data-e303db77-ef7f-4421-a081-6fb887c3c96d' title='Show/Hide data repr'><svg class='icon xr-icon-database'><use xlink:href='#icon-database'></use></svg></label><div class='xr-var-attrs'><dl class='xr-attrs'><dt><span>long_name :</span></dt><dd>Forecast offset from initial time</dd></dl></div><div class='xr-var-data'><pre>array(43200000000000, dtype=&#x27;timedelta64[ns]&#x27;)</pre></div></li><li class='xr-var-item'><div class='xr-var-name'><span>variable</span></div><div class='xr-var-dims'>()</div><div class='xr-var-dtype'>&lt;U2</div><div class='xr-var-preview xr-preview'>&#x27;tp&#x27;</div><input id='attrs-32fcf2d8-e76b-4150-9f5b-84301da87204' class='xr-var-attrs-in' type='checkbox' disabled><label for='attrs-32fcf2d8-e76b-4150-9f5b-84301da87204' title='Show/Hide attributes'><svg class='icon xr-icon-file-text2'><use xlink:href='#icon-file-text2'></use></svg></label><input id='data-f7af98ee-2beb-4700-97e8-519386d5c48c' class='xr-var-data-in' type='checkbox'><label for='data-f7af98ee-2beb-4700-97e8-519386d5c48c' title='Show/Hide data repr'><svg class='icon xr-icon-database'><use xlink:href='#icon-database'></use></svg></label><div class='xr-var-attrs'><dl class='xr-attrs'></dl></div><div class='xr-var-data'><pre>array(&#x27;tp&#x27;, dtype=&#x27;&lt;U2&#x27;)</pre></div></li><li class='xr-var-item'><div class='xr-var-name'><span class='xr-has-index'>valid_time</span></div><div class='xr-var-dims'>(valid_time)</div><div class='xr-var-dtype'>datetime64[ns]</div><div class='xr-var-preview xr-preview'>2020-01-01T12:00:00 ... 2020-01-...</div><input id='attrs-ce744e51-ca00-4253-959c-abb5de177f0d' class='xr-var-attrs-in' type='checkbox' disabled><label for='attrs-ce744e51-ca00-4253-959c-abb5de177f0d' title='Show/Hide attributes'><svg class='icon xr-icon-file-text2'><use xlink:href='#icon-file-text2'></use></svg></label><input id='data-e1745dc7-b691-4142-a543-56c3e28e4053' class='xr-var-data-in' type='checkbox'><label for='data-e1745dc7-b691-4142-a543-56c3e28e4053' title='Show/Hide data repr'><svg class='icon xr-icon-database'><use xlink:href='#icon-database'></use></svg></label><div class='xr-var-attrs'><dl class='xr-attrs'></dl></div><div class='xr-var-data'><pre>array([&#x27;2020-01-01T12:00:00.000000000&#x27;, &#x27;2020-01-02T00:00:00.000000000&#x27;,\n",
       "       &#x27;2020-01-02T12:00:00.000000000&#x27;], dtype=&#x27;datetime64[ns]&#x27;)</pre></div></li><li class='xr-var-item'><div class='xr-var-name'><span class='xr-has-index'>lat</span></div><div class='xr-var-dims'>(lat)</div><div class='xr-var-dtype'>float64</div><div class='xr-var-preview xr-preview'>50.0 49.96 49.92 ... 20.32 20.28</div><input id='attrs-613bd8ca-3a3c-4e7f-bb53-bb6acd07c7f4' class='xr-var-attrs-in' type='checkbox' disabled><label for='attrs-613bd8ca-3a3c-4e7f-bb53-bb6acd07c7f4' title='Show/Hide attributes'><svg class='icon xr-icon-file-text2'><use xlink:href='#icon-file-text2'></use></svg></label><input id='data-8364cc6d-7ddf-4dd9-9af6-e53f8a16709f' class='xr-var-data-in' type='checkbox'><label for='data-8364cc6d-7ddf-4dd9-9af6-e53f8a16709f' title='Show/Hide data repr'><svg class='icon xr-icon-database'><use xlink:href='#icon-database'></use></svg></label><div class='xr-var-attrs'><dl class='xr-attrs'></dl></div><div class='xr-var-data'><pre>array([50.  , 49.96, 49.92, ..., 20.36, 20.32, 20.28])</pre></div></li><li class='xr-var-item'><div class='xr-var-name'><span class='xr-has-index'>lon</span></div><div class='xr-var-dims'>(lon)</div><div class='xr-var-dtype'>float64</div><div class='xr-var-preview xr-preview'>235.0 235.0 235.1 ... 290.0 290.0</div><input id='attrs-25551f85-13cc-40d0-aefb-f70292c724ad' class='xr-var-attrs-in' type='checkbox' disabled><label for='attrs-25551f85-13cc-40d0-aefb-f70292c724ad' title='Show/Hide attributes'><svg class='icon xr-icon-file-text2'><use xlink:href='#icon-file-text2'></use></svg></label><input id='data-e62fabb0-3673-4823-88e3-109a4810f20d' class='xr-var-data-in' type='checkbox'><label for='data-e62fabb0-3673-4823-88e3-109a4810f20d' title='Show/Hide data repr'><svg class='icon xr-icon-database'><use xlink:href='#icon-database'></use></svg></label><div class='xr-var-attrs'><dl class='xr-attrs'></dl></div><div class='xr-var-data'><pre>array([235.  , 235.04, 235.08, ..., 289.92, 289.96, 290.  ])</pre></div></li></ul></div></li><li class='xr-section-item'><input id='section-6c8d296a-3ae7-45c7-8d18-b137fa9c264b' class='xr-section-summary-in' type='checkbox' disabled ><label for='section-6c8d296a-3ae7-45c7-8d18-b137fa9c264b' class='xr-section-summary'  title='Expand/collapse section'>Attributes: <span>(0)</span></label><div class='xr-section-inline-details'></div><div class='xr-section-details'><dl class='xr-attrs'></dl></div></li></ul></div></div>"
      ],
      "text/plain": [
       "<xarray.DataArray (valid_time: 3, lat: 744, lon: 1376)>\n",
       "array([[[       nan,        nan,        nan, ...,        nan,\n",
       "                nan,        nan],\n",
       "        [       nan,        nan,        nan, ...,        nan,\n",
       "                nan,        nan],\n",
       "        [       nan,        nan,        nan, ...,        nan,\n",
       "                nan,        nan],\n",
       "        ...,\n",
       "        [       nan,        nan,        nan, ..., 0.28450694,\n",
       "                nan,        nan],\n",
       "        [       nan,        nan,        nan, ..., 0.29019327,\n",
       "                nan,        nan],\n",
       "        [       nan,        nan,        nan, ..., 0.2958796 ,\n",
       "                nan,        nan]],\n",
       "\n",
       "       [[       nan,        nan,        nan, ...,        nan,\n",
       "                nan,        nan],\n",
       "        [       nan,        nan,        nan, ...,        nan,\n",
       "                nan,        nan],\n",
       "        [       nan,        nan,        nan, ...,        nan,\n",
       "                nan,        nan],\n",
       "...\n",
       "        [       nan,        nan,        nan, ..., 0.01148081,\n",
       "                nan,        nan],\n",
       "        [       nan,        nan,        nan, ..., 0.01077673,\n",
       "                nan,        nan],\n",
       "        [       nan,        nan,        nan, ..., 0.01007264,\n",
       "                nan,        nan]],\n",
       "\n",
       "       [[       nan,        nan,        nan, ...,        nan,\n",
       "                nan,        nan],\n",
       "        [       nan,        nan,        nan, ...,        nan,\n",
       "                nan,        nan],\n",
       "        [       nan,        nan,        nan, ...,        nan,\n",
       "                nan,        nan],\n",
       "        ...,\n",
       "        [       nan,        nan,        nan, ..., 0.44153307,\n",
       "                nan,        nan],\n",
       "        [       nan,        nan,        nan, ..., 0.45971748,\n",
       "                nan,        nan],\n",
       "        [       nan,        nan,        nan, ..., 0.47790188,\n",
       "                nan,        nan]]])\n",
       "Coordinates:\n",
       "    lead_time   timedelta64[ns] 12:00:00\n",
       "    variable    <U2 'tp'\n",
       "  * valid_time  (valid_time) datetime64[ns] 2020-01-01T12:00:00 ... 2020-01-0...\n",
       "  * lat         (lat) float64 50.0 49.96 49.92 49.88 ... 20.4 20.36 20.32 20.28\n",
       "  * lon         (lon) float64 235.0 235.0 235.1 235.1 ... 289.9 290.0 290.0"
      ]
     },
     "execution_count": 24,
     "metadata": {},
     "output_type": "execute_result"
    }
   ],
   "source": [
    "interp"
   ]
  },
  {
   "cell_type": "markdown",
   "id": "fc538054",
   "metadata": {
    "Collapsed": "false"
   },
   "source": [
    "## Get HRRR baselines"
   ]
  },
  {
   "cell_type": "code",
   "execution_count": 20,
   "id": "1e321162",
   "metadata": {
    "Collapsed": "false"
   },
   "outputs": [],
   "source": [
    "fn = f'{DATADRIVE}/hrrr/4km/total_precipitation/2020*.nc'\n",
    "hrrr = xr.open_mfdataset(fn)"
   ]
  },
  {
   "cell_type": "code",
   "execution_count": 21,
   "id": "0f351ada",
   "metadata": {
    "Collapsed": "false"
   },
   "outputs": [],
   "source": [
    "hrrr = hrrr.tp.diff('lead_time').sel(lead_time=np.timedelta64(12, 'h'))"
   ]
  },
  {
   "cell_type": "code",
   "execution_count": 22,
   "id": "e6c0f5bc",
   "metadata": {
    "Collapsed": "false"
   },
   "outputs": [],
   "source": [
    "hrrr['valid_time'] = hrrr.init_time + hrrr.lead_time\n",
    "hrrr = hrrr.swap_dims({'init_time': 'valid_time'})"
   ]
  },
  {
   "cell_type": "code",
   "execution_count": 23,
   "id": "09dac15e",
   "metadata": {
    "Collapsed": "false"
   },
   "outputs": [
    {
     "data": {
      "text/html": [
       "<div><svg style=\"position: absolute; width: 0; height: 0; overflow: hidden\">\n",
       "<defs>\n",
       "<symbol id=\"icon-database\" viewBox=\"0 0 32 32\">\n",
       "<path d=\"M16 0c-8.837 0-16 2.239-16 5v4c0 2.761 7.163 5 16 5s16-2.239 16-5v-4c0-2.761-7.163-5-16-5z\"></path>\n",
       "<path d=\"M16 17c-8.837 0-16-2.239-16-5v6c0 2.761 7.163 5 16 5s16-2.239 16-5v-6c0 2.761-7.163 5-16 5z\"></path>\n",
       "<path d=\"M16 26c-8.837 0-16-2.239-16-5v6c0 2.761 7.163 5 16 5s16-2.239 16-5v-6c0 2.761-7.163 5-16 5z\"></path>\n",
       "</symbol>\n",
       "<symbol id=\"icon-file-text2\" viewBox=\"0 0 32 32\">\n",
       "<path d=\"M28.681 7.159c-0.694-0.947-1.662-2.053-2.724-3.116s-2.169-2.030-3.116-2.724c-1.612-1.182-2.393-1.319-2.841-1.319h-15.5c-1.378 0-2.5 1.121-2.5 2.5v27c0 1.378 1.122 2.5 2.5 2.5h23c1.378 0 2.5-1.122 2.5-2.5v-19.5c0-0.448-0.137-1.23-1.319-2.841zM24.543 5.457c0.959 0.959 1.712 1.825 2.268 2.543h-4.811v-4.811c0.718 0.556 1.584 1.309 2.543 2.268zM28 29.5c0 0.271-0.229 0.5-0.5 0.5h-23c-0.271 0-0.5-0.229-0.5-0.5v-27c0-0.271 0.229-0.5 0.5-0.5 0 0 15.499-0 15.5 0v7c0 0.552 0.448 1 1 1h7v19.5z\"></path>\n",
       "<path d=\"M23 26h-14c-0.552 0-1-0.448-1-1s0.448-1 1-1h14c0.552 0 1 0.448 1 1s-0.448 1-1 1z\"></path>\n",
       "<path d=\"M23 22h-14c-0.552 0-1-0.448-1-1s0.448-1 1-1h14c0.552 0 1 0.448 1 1s-0.448 1-1 1z\"></path>\n",
       "<path d=\"M23 18h-14c-0.552 0-1-0.448-1-1s0.448-1 1-1h14c0.552 0 1 0.448 1 1s-0.448 1-1 1z\"></path>\n",
       "</symbol>\n",
       "</defs>\n",
       "</svg>\n",
       "<style>/* CSS stylesheet for displaying xarray objects in jupyterlab.\n",
       " *\n",
       " */\n",
       "\n",
       ":root {\n",
       "  --xr-font-color0: var(--jp-content-font-color0, rgba(0, 0, 0, 1));\n",
       "  --xr-font-color2: var(--jp-content-font-color2, rgba(0, 0, 0, 0.54));\n",
       "  --xr-font-color3: var(--jp-content-font-color3, rgba(0, 0, 0, 0.38));\n",
       "  --xr-border-color: var(--jp-border-color2, #e0e0e0);\n",
       "  --xr-disabled-color: var(--jp-layout-color3, #bdbdbd);\n",
       "  --xr-background-color: var(--jp-layout-color0, white);\n",
       "  --xr-background-color-row-even: var(--jp-layout-color1, white);\n",
       "  --xr-background-color-row-odd: var(--jp-layout-color2, #eeeeee);\n",
       "}\n",
       "\n",
       "html[theme=dark],\n",
       "body.vscode-dark {\n",
       "  --xr-font-color0: rgba(255, 255, 255, 1);\n",
       "  --xr-font-color2: rgba(255, 255, 255, 0.54);\n",
       "  --xr-font-color3: rgba(255, 255, 255, 0.38);\n",
       "  --xr-border-color: #1F1F1F;\n",
       "  --xr-disabled-color: #515151;\n",
       "  --xr-background-color: #111111;\n",
       "  --xr-background-color-row-even: #111111;\n",
       "  --xr-background-color-row-odd: #313131;\n",
       "}\n",
       "\n",
       ".xr-wrap {\n",
       "  display: block;\n",
       "  min-width: 300px;\n",
       "  max-width: 700px;\n",
       "}\n",
       "\n",
       ".xr-text-repr-fallback {\n",
       "  /* fallback to plain text repr when CSS is not injected (untrusted notebook) */\n",
       "  display: none;\n",
       "}\n",
       "\n",
       ".xr-header {\n",
       "  padding-top: 6px;\n",
       "  padding-bottom: 6px;\n",
       "  margin-bottom: 4px;\n",
       "  border-bottom: solid 1px var(--xr-border-color);\n",
       "}\n",
       "\n",
       ".xr-header > div,\n",
       ".xr-header > ul {\n",
       "  display: inline;\n",
       "  margin-top: 0;\n",
       "  margin-bottom: 0;\n",
       "}\n",
       "\n",
       ".xr-obj-type,\n",
       ".xr-array-name {\n",
       "  margin-left: 2px;\n",
       "  margin-right: 10px;\n",
       "}\n",
       "\n",
       ".xr-obj-type {\n",
       "  color: var(--xr-font-color2);\n",
       "}\n",
       "\n",
       ".xr-sections {\n",
       "  padding-left: 0 !important;\n",
       "  display: grid;\n",
       "  grid-template-columns: 150px auto auto 1fr 20px 20px;\n",
       "}\n",
       "\n",
       ".xr-section-item {\n",
       "  display: contents;\n",
       "}\n",
       "\n",
       ".xr-section-item input {\n",
       "  display: none;\n",
       "}\n",
       "\n",
       ".xr-section-item input + label {\n",
       "  color: var(--xr-disabled-color);\n",
       "}\n",
       "\n",
       ".xr-section-item input:enabled + label {\n",
       "  cursor: pointer;\n",
       "  color: var(--xr-font-color2);\n",
       "}\n",
       "\n",
       ".xr-section-item input:enabled + label:hover {\n",
       "  color: var(--xr-font-color0);\n",
       "}\n",
       "\n",
       ".xr-section-summary {\n",
       "  grid-column: 1;\n",
       "  color: var(--xr-font-color2);\n",
       "  font-weight: 500;\n",
       "}\n",
       "\n",
       ".xr-section-summary > span {\n",
       "  display: inline-block;\n",
       "  padding-left: 0.5em;\n",
       "}\n",
       "\n",
       ".xr-section-summary-in:disabled + label {\n",
       "  color: var(--xr-font-color2);\n",
       "}\n",
       "\n",
       ".xr-section-summary-in + label:before {\n",
       "  display: inline-block;\n",
       "  content: '►';\n",
       "  font-size: 11px;\n",
       "  width: 15px;\n",
       "  text-align: center;\n",
       "}\n",
       "\n",
       ".xr-section-summary-in:disabled + label:before {\n",
       "  color: var(--xr-disabled-color);\n",
       "}\n",
       "\n",
       ".xr-section-summary-in:checked + label:before {\n",
       "  content: '▼';\n",
       "}\n",
       "\n",
       ".xr-section-summary-in:checked + label > span {\n",
       "  display: none;\n",
       "}\n",
       "\n",
       ".xr-section-summary,\n",
       ".xr-section-inline-details {\n",
       "  padding-top: 4px;\n",
       "  padding-bottom: 4px;\n",
       "}\n",
       "\n",
       ".xr-section-inline-details {\n",
       "  grid-column: 2 / -1;\n",
       "}\n",
       "\n",
       ".xr-section-details {\n",
       "  display: none;\n",
       "  grid-column: 1 / -1;\n",
       "  margin-bottom: 5px;\n",
       "}\n",
       "\n",
       ".xr-section-summary-in:checked ~ .xr-section-details {\n",
       "  display: contents;\n",
       "}\n",
       "\n",
       ".xr-array-wrap {\n",
       "  grid-column: 1 / -1;\n",
       "  display: grid;\n",
       "  grid-template-columns: 20px auto;\n",
       "}\n",
       "\n",
       ".xr-array-wrap > label {\n",
       "  grid-column: 1;\n",
       "  vertical-align: top;\n",
       "}\n",
       "\n",
       ".xr-preview {\n",
       "  color: var(--xr-font-color3);\n",
       "}\n",
       "\n",
       ".xr-array-preview,\n",
       ".xr-array-data {\n",
       "  padding: 0 5px !important;\n",
       "  grid-column: 2;\n",
       "}\n",
       "\n",
       ".xr-array-data,\n",
       ".xr-array-in:checked ~ .xr-array-preview {\n",
       "  display: none;\n",
       "}\n",
       "\n",
       ".xr-array-in:checked ~ .xr-array-data,\n",
       ".xr-array-preview {\n",
       "  display: inline-block;\n",
       "}\n",
       "\n",
       ".xr-dim-list {\n",
       "  display: inline-block !important;\n",
       "  list-style: none;\n",
       "  padding: 0 !important;\n",
       "  margin: 0;\n",
       "}\n",
       "\n",
       ".xr-dim-list li {\n",
       "  display: inline-block;\n",
       "  padding: 0;\n",
       "  margin: 0;\n",
       "}\n",
       "\n",
       ".xr-dim-list:before {\n",
       "  content: '(';\n",
       "}\n",
       "\n",
       ".xr-dim-list:after {\n",
       "  content: ')';\n",
       "}\n",
       "\n",
       ".xr-dim-list li:not(:last-child):after {\n",
       "  content: ',';\n",
       "  padding-right: 5px;\n",
       "}\n",
       "\n",
       ".xr-has-index {\n",
       "  font-weight: bold;\n",
       "}\n",
       "\n",
       ".xr-var-list,\n",
       ".xr-var-item {\n",
       "  display: contents;\n",
       "}\n",
       "\n",
       ".xr-var-item > div,\n",
       ".xr-var-item label,\n",
       ".xr-var-item > .xr-var-name span {\n",
       "  background-color: var(--xr-background-color-row-even);\n",
       "  margin-bottom: 0;\n",
       "}\n",
       "\n",
       ".xr-var-item > .xr-var-name:hover span {\n",
       "  padding-right: 5px;\n",
       "}\n",
       "\n",
       ".xr-var-list > li:nth-child(odd) > div,\n",
       ".xr-var-list > li:nth-child(odd) > label,\n",
       ".xr-var-list > li:nth-child(odd) > .xr-var-name span {\n",
       "  background-color: var(--xr-background-color-row-odd);\n",
       "}\n",
       "\n",
       ".xr-var-name {\n",
       "  grid-column: 1;\n",
       "}\n",
       "\n",
       ".xr-var-dims {\n",
       "  grid-column: 2;\n",
       "}\n",
       "\n",
       ".xr-var-dtype {\n",
       "  grid-column: 3;\n",
       "  text-align: right;\n",
       "  color: var(--xr-font-color2);\n",
       "}\n",
       "\n",
       ".xr-var-preview {\n",
       "  grid-column: 4;\n",
       "}\n",
       "\n",
       ".xr-var-name,\n",
       ".xr-var-dims,\n",
       ".xr-var-dtype,\n",
       ".xr-preview,\n",
       ".xr-attrs dt {\n",
       "  white-space: nowrap;\n",
       "  overflow: hidden;\n",
       "  text-overflow: ellipsis;\n",
       "  padding-right: 10px;\n",
       "}\n",
       "\n",
       ".xr-var-name:hover,\n",
       ".xr-var-dims:hover,\n",
       ".xr-var-dtype:hover,\n",
       ".xr-attrs dt:hover {\n",
       "  overflow: visible;\n",
       "  width: auto;\n",
       "  z-index: 1;\n",
       "}\n",
       "\n",
       ".xr-var-attrs,\n",
       ".xr-var-data {\n",
       "  display: none;\n",
       "  background-color: var(--xr-background-color) !important;\n",
       "  padding-bottom: 5px !important;\n",
       "}\n",
       "\n",
       ".xr-var-attrs-in:checked ~ .xr-var-attrs,\n",
       ".xr-var-data-in:checked ~ .xr-var-data {\n",
       "  display: block;\n",
       "}\n",
       "\n",
       ".xr-var-data > table {\n",
       "  float: right;\n",
       "}\n",
       "\n",
       ".xr-var-name span,\n",
       ".xr-var-data,\n",
       ".xr-attrs {\n",
       "  padding-left: 25px !important;\n",
       "}\n",
       "\n",
       ".xr-attrs,\n",
       ".xr-var-attrs,\n",
       ".xr-var-data {\n",
       "  grid-column: 1 / -1;\n",
       "}\n",
       "\n",
       "dl.xr-attrs {\n",
       "  padding: 0;\n",
       "  margin: 0;\n",
       "  display: grid;\n",
       "  grid-template-columns: 125px auto;\n",
       "}\n",
       "\n",
       ".xr-attrs dt,\n",
       ".xr-attrs dd {\n",
       "  padding: 0;\n",
       "  margin: 0;\n",
       "  float: left;\n",
       "  padding-right: 10px;\n",
       "  width: auto;\n",
       "}\n",
       "\n",
       ".xr-attrs dt {\n",
       "  font-weight: normal;\n",
       "  grid-column: 1;\n",
       "}\n",
       "\n",
       ".xr-attrs dt:hover span {\n",
       "  display: inline-block;\n",
       "  background: var(--xr-background-color);\n",
       "  padding-right: 10px;\n",
       "}\n",
       "\n",
       ".xr-attrs dd {\n",
       "  grid-column: 2;\n",
       "  white-space: pre-wrap;\n",
       "  word-break: break-all;\n",
       "}\n",
       "\n",
       ".xr-icon-database,\n",
       ".xr-icon-file-text2 {\n",
       "  display: inline-block;\n",
       "  vertical-align: middle;\n",
       "  width: 1em;\n",
       "  height: 1.5em !important;\n",
       "  stroke-width: 0;\n",
       "  stroke: currentColor;\n",
       "  fill: currentColor;\n",
       "}\n",
       "</style><pre class='xr-text-repr-fallback'>&lt;xarray.DataArray &#x27;tp&#x27; (valid_time: 3, lat: 750, lon: 1376)&gt;\n",
       "dask.array&lt;getitem, shape=(3, 750, 1376), dtype=float32, chunksize=(1, 750, 1376), chunktype=numpy.ndarray&gt;\n",
       "Coordinates:\n",
       "    lead_time   timedelta64[ns] 12:00:00\n",
       "    init_time   (valid_time) datetime64[ns] 2020-01-01 ... 2020-01-02\n",
       "  * lon         (lon) float64 235.0 235.0 235.1 235.1 ... 289.9 290.0 290.0\n",
       "  * lat         (lat) float64 50.0 49.96 49.92 49.88 ... 20.16 20.12 20.08 20.04\n",
       "  * valid_time  (valid_time) datetime64[ns] 2020-01-01T12:00:00 ... 2020-01-0...\n",
       "    variable    &lt;U2 &#x27;tp&#x27;</pre><div class='xr-wrap' hidden><div class='xr-header'><div class='xr-obj-type'>xarray.DataArray</div><div class='xr-array-name'>'tp'</div><ul class='xr-dim-list'><li><span class='xr-has-index'>valid_time</span>: 3</li><li><span class='xr-has-index'>lat</span>: 750</li><li><span class='xr-has-index'>lon</span>: 1376</li></ul></div><ul class='xr-sections'><li class='xr-section-item'><div class='xr-array-wrap'><input id='section-4c94909f-f952-4f78-a354-1ad788f8b5db' class='xr-array-in' type='checkbox' checked><label for='section-4c94909f-f952-4f78-a354-1ad788f8b5db' title='Show/hide data repr'><svg class='icon xr-icon-database'><use xlink:href='#icon-database'></use></svg></label><div class='xr-array-preview xr-preview'><span>dask.array&lt;chunksize=(1, 750, 1376), meta=np.ndarray&gt;</span></div><div class='xr-array-data'><table>\n",
       "<tr>\n",
       "<td>\n",
       "<table>\n",
       "  <thead>\n",
       "    <tr><td> </td><th> Array </th><th> Chunk </th></tr>\n",
       "  </thead>\n",
       "  <tbody>\n",
       "    <tr><th> Bytes </th><td> 11.81 MiB </td> <td> 3.94 MiB </td></tr>\n",
       "    <tr><th> Shape </th><td> (3, 750, 1376) </td> <td> (1, 750, 1376) </td></tr>\n",
       "    <tr><th> Count </th><td> 5127 Tasks </td><td> 3 Chunks </td></tr>\n",
       "    <tr><th> Type </th><td> float32 </td><td> numpy.ndarray </td></tr>\n",
       "  </tbody>\n",
       "</table>\n",
       "</td>\n",
       "<td>\n",
       "<svg width=\"194\" height=\"130\" style=\"stroke:rgb(0,0,0);stroke-width:1\" >\n",
       "\n",
       "  <!-- Horizontal lines -->\n",
       "  <line x1=\"10\" y1=\"0\" x2=\"24\" y2=\"14\" style=\"stroke-width:2\" />\n",
       "  <line x1=\"10\" y1=\"65\" x2=\"24\" y2=\"80\" style=\"stroke-width:2\" />\n",
       "\n",
       "  <!-- Vertical lines -->\n",
       "  <line x1=\"10\" y1=\"0\" x2=\"10\" y2=\"65\" style=\"stroke-width:2\" />\n",
       "  <line x1=\"14\" y1=\"4\" x2=\"14\" y2=\"70\" />\n",
       "  <line x1=\"19\" y1=\"9\" x2=\"19\" y2=\"75\" />\n",
       "  <line x1=\"24\" y1=\"14\" x2=\"24\" y2=\"80\" style=\"stroke-width:2\" />\n",
       "\n",
       "  <!-- Colored Rectangle -->\n",
       "  <polygon points=\"10.0,0.0 24.9485979497544,14.948597949754403 24.9485979497544,80.35557469394045 10.0,65.40697674418605\" style=\"fill:#ECB172A0;stroke-width:0\"/>\n",
       "\n",
       "  <!-- Horizontal lines -->\n",
       "  <line x1=\"10\" y1=\"0\" x2=\"130\" y2=\"0\" style=\"stroke-width:2\" />\n",
       "  <line x1=\"14\" y1=\"4\" x2=\"134\" y2=\"4\" />\n",
       "  <line x1=\"19\" y1=\"9\" x2=\"139\" y2=\"9\" />\n",
       "  <line x1=\"24\" y1=\"14\" x2=\"144\" y2=\"14\" style=\"stroke-width:2\" />\n",
       "\n",
       "  <!-- Vertical lines -->\n",
       "  <line x1=\"10\" y1=\"0\" x2=\"24\" y2=\"14\" style=\"stroke-width:2\" />\n",
       "  <line x1=\"130\" y1=\"0\" x2=\"144\" y2=\"14\" style=\"stroke-width:2\" />\n",
       "\n",
       "  <!-- Colored Rectangle -->\n",
       "  <polygon points=\"10.0,0.0 130.0,0.0 144.9485979497544,14.948597949754403 24.9485979497544,14.948597949754403\" style=\"fill:#ECB172A0;stroke-width:0\"/>\n",
       "\n",
       "  <!-- Horizontal lines -->\n",
       "  <line x1=\"24\" y1=\"14\" x2=\"144\" y2=\"14\" style=\"stroke-width:2\" />\n",
       "  <line x1=\"24\" y1=\"80\" x2=\"144\" y2=\"80\" style=\"stroke-width:2\" />\n",
       "\n",
       "  <!-- Vertical lines -->\n",
       "  <line x1=\"24\" y1=\"14\" x2=\"24\" y2=\"80\" style=\"stroke-width:2\" />\n",
       "  <line x1=\"144\" y1=\"14\" x2=\"144\" y2=\"80\" style=\"stroke-width:2\" />\n",
       "\n",
       "  <!-- Colored Rectangle -->\n",
       "  <polygon points=\"24.9485979497544,14.948597949754403 144.9485979497544,14.948597949754403 144.9485979497544,80.35557469394045 24.9485979497544,80.35557469394045\" style=\"fill:#ECB172A0;stroke-width:0\"/>\n",
       "\n",
       "  <!-- Text -->\n",
       "  <text x=\"84.948598\" y=\"100.355575\" font-size=\"1.0rem\" font-weight=\"100\" text-anchor=\"middle\" >1376</text>\n",
       "  <text x=\"164.948598\" y=\"47.652086\" font-size=\"1.0rem\" font-weight=\"100\" text-anchor=\"middle\" transform=\"rotate(-90,164.948598,47.652086)\">750</text>\n",
       "  <text x=\"7.474299\" y=\"92.881276\" font-size=\"1.0rem\" font-weight=\"100\" text-anchor=\"middle\" transform=\"rotate(45,7.474299,92.881276)\">3</text>\n",
       "</svg>\n",
       "</td>\n",
       "</tr>\n",
       "</table></div></div></li><li class='xr-section-item'><input id='section-b0efeb2f-62f1-4930-82f9-b49d24bd0b80' class='xr-section-summary-in' type='checkbox'  checked><label for='section-b0efeb2f-62f1-4930-82f9-b49d24bd0b80' class='xr-section-summary' >Coordinates: <span>(6)</span></label><div class='xr-section-inline-details'></div><div class='xr-section-details'><ul class='xr-var-list'><li class='xr-var-item'><div class='xr-var-name'><span>lead_time</span></div><div class='xr-var-dims'>()</div><div class='xr-var-dtype'>timedelta64[ns]</div><div class='xr-var-preview xr-preview'>12:00:00</div><input id='attrs-76a38b91-ed61-4305-9668-72a4ad7136f3' class='xr-var-attrs-in' type='checkbox' disabled><label for='attrs-76a38b91-ed61-4305-9668-72a4ad7136f3' title='Show/Hide attributes'><svg class='icon xr-icon-file-text2'><use xlink:href='#icon-file-text2'></use></svg></label><input id='data-81e70358-76cf-45be-a75d-69592f35fb48' class='xr-var-data-in' type='checkbox'><label for='data-81e70358-76cf-45be-a75d-69592f35fb48' title='Show/Hide data repr'><svg class='icon xr-icon-database'><use xlink:href='#icon-database'></use></svg></label><div class='xr-var-attrs'><dl class='xr-attrs'></dl></div><div class='xr-var-data'><pre>array(43200000000000, dtype=&#x27;timedelta64[ns]&#x27;)</pre></div></li><li class='xr-var-item'><div class='xr-var-name'><span>init_time</span></div><div class='xr-var-dims'>(valid_time)</div><div class='xr-var-dtype'>datetime64[ns]</div><div class='xr-var-preview xr-preview'>2020-01-01 ... 2020-01-02</div><input id='attrs-eea9b04a-a69e-4707-9012-f7db28f5b5ea' class='xr-var-attrs-in' type='checkbox' disabled><label for='attrs-eea9b04a-a69e-4707-9012-f7db28f5b5ea' title='Show/Hide attributes'><svg class='icon xr-icon-file-text2'><use xlink:href='#icon-file-text2'></use></svg></label><input id='data-d097e6e6-9e7e-457d-8147-25174bd7f407' class='xr-var-data-in' type='checkbox'><label for='data-d097e6e6-9e7e-457d-8147-25174bd7f407' title='Show/Hide data repr'><svg class='icon xr-icon-database'><use xlink:href='#icon-database'></use></svg></label><div class='xr-var-attrs'><dl class='xr-attrs'></dl></div><div class='xr-var-data'><pre>array([&#x27;2020-01-01T00:00:00.000000000&#x27;, &#x27;2020-01-01T12:00:00.000000000&#x27;,\n",
       "       &#x27;2020-01-02T00:00:00.000000000&#x27;], dtype=&#x27;datetime64[ns]&#x27;)</pre></div></li><li class='xr-var-item'><div class='xr-var-name'><span class='xr-has-index'>lon</span></div><div class='xr-var-dims'>(lon)</div><div class='xr-var-dtype'>float64</div><div class='xr-var-preview xr-preview'>235.0 235.0 235.1 ... 290.0 290.0</div><input id='attrs-83c77960-3de8-4c62-a6e0-a9995b3ac45a' class='xr-var-attrs-in' type='checkbox' disabled><label for='attrs-83c77960-3de8-4c62-a6e0-a9995b3ac45a' title='Show/Hide attributes'><svg class='icon xr-icon-file-text2'><use xlink:href='#icon-file-text2'></use></svg></label><input id='data-fc9055ae-82a8-43fa-9c44-615b75b1f176' class='xr-var-data-in' type='checkbox'><label for='data-fc9055ae-82a8-43fa-9c44-615b75b1f176' title='Show/Hide data repr'><svg class='icon xr-icon-database'><use xlink:href='#icon-database'></use></svg></label><div class='xr-var-attrs'><dl class='xr-attrs'></dl></div><div class='xr-var-data'><pre>array([235.  , 235.04, 235.08, ..., 289.92, 289.96, 290.  ])</pre></div></li><li class='xr-var-item'><div class='xr-var-name'><span class='xr-has-index'>lat</span></div><div class='xr-var-dims'>(lat)</div><div class='xr-var-dtype'>float64</div><div class='xr-var-preview xr-preview'>50.0 49.96 49.92 ... 20.08 20.04</div><input id='attrs-9b26d3e9-f063-4d12-8c49-e61a91ecc63e' class='xr-var-attrs-in' type='checkbox' disabled><label for='attrs-9b26d3e9-f063-4d12-8c49-e61a91ecc63e' title='Show/Hide attributes'><svg class='icon xr-icon-file-text2'><use xlink:href='#icon-file-text2'></use></svg></label><input id='data-b1762bc4-2c95-4ada-a330-08c5437da171' class='xr-var-data-in' type='checkbox'><label for='data-b1762bc4-2c95-4ada-a330-08c5437da171' title='Show/Hide data repr'><svg class='icon xr-icon-database'><use xlink:href='#icon-database'></use></svg></label><div class='xr-var-attrs'><dl class='xr-attrs'></dl></div><div class='xr-var-data'><pre>array([50.  , 49.96, 49.92, ..., 20.12, 20.08, 20.04])</pre></div></li><li class='xr-var-item'><div class='xr-var-name'><span class='xr-has-index'>valid_time</span></div><div class='xr-var-dims'>(valid_time)</div><div class='xr-var-dtype'>datetime64[ns]</div><div class='xr-var-preview xr-preview'>2020-01-01T12:00:00 ... 2020-01-...</div><input id='attrs-7f03c60a-6435-4dfd-bb0b-68cc0f6321cc' class='xr-var-attrs-in' type='checkbox' disabled><label for='attrs-7f03c60a-6435-4dfd-bb0b-68cc0f6321cc' title='Show/Hide attributes'><svg class='icon xr-icon-file-text2'><use xlink:href='#icon-file-text2'></use></svg></label><input id='data-2df27495-de3b-486b-a5e9-e4e347614b8a' class='xr-var-data-in' type='checkbox'><label for='data-2df27495-de3b-486b-a5e9-e4e347614b8a' title='Show/Hide data repr'><svg class='icon xr-icon-database'><use xlink:href='#icon-database'></use></svg></label><div class='xr-var-attrs'><dl class='xr-attrs'></dl></div><div class='xr-var-data'><pre>array([&#x27;2020-01-01T12:00:00.000000000&#x27;, &#x27;2020-01-02T00:00:00.000000000&#x27;,\n",
       "       &#x27;2020-01-02T12:00:00.000000000&#x27;], dtype=&#x27;datetime64[ns]&#x27;)</pre></div></li><li class='xr-var-item'><div class='xr-var-name'><span>variable</span></div><div class='xr-var-dims'>()</div><div class='xr-var-dtype'>&lt;U2</div><div class='xr-var-preview xr-preview'>&#x27;tp&#x27;</div><input id='attrs-fe1fb800-8343-4ec7-8017-be65abdce101' class='xr-var-attrs-in' type='checkbox' disabled><label for='attrs-fe1fb800-8343-4ec7-8017-be65abdce101' title='Show/Hide attributes'><svg class='icon xr-icon-file-text2'><use xlink:href='#icon-file-text2'></use></svg></label><input id='data-82571f8a-653e-4819-95f5-d3a40b15cdaf' class='xr-var-data-in' type='checkbox'><label for='data-82571f8a-653e-4819-95f5-d3a40b15cdaf' title='Show/Hide data repr'><svg class='icon xr-icon-database'><use xlink:href='#icon-database'></use></svg></label><div class='xr-var-attrs'><dl class='xr-attrs'></dl></div><div class='xr-var-data'><pre>array(&#x27;tp&#x27;, dtype=&#x27;&lt;U2&#x27;)</pre></div></li></ul></div></li><li class='xr-section-item'><input id='section-194577b6-1ce6-4681-8ad6-46524ea02c59' class='xr-section-summary-in' type='checkbox' disabled ><label for='section-194577b6-1ce6-4681-8ad6-46524ea02c59' class='xr-section-summary'  title='Expand/collapse section'>Attributes: <span>(0)</span></label><div class='xr-section-inline-details'></div><div class='xr-section-details'><dl class='xr-attrs'></dl></div></li></ul></div></div>"
      ],
      "text/plain": [
       "<xarray.DataArray 'tp' (valid_time: 3, lat: 750, lon: 1376)>\n",
       "dask.array<getitem, shape=(3, 750, 1376), dtype=float32, chunksize=(1, 750, 1376), chunktype=numpy.ndarray>\n",
       "Coordinates:\n",
       "    lead_time   timedelta64[ns] 12:00:00\n",
       "    init_time   (valid_time) datetime64[ns] 2020-01-01 ... 2020-01-02\n",
       "  * lon         (lon) float64 235.0 235.0 235.1 235.1 ... 289.9 290.0 290.0\n",
       "  * lat         (lat) float64 50.0 49.96 49.92 49.88 ... 20.16 20.12 20.08 20.04\n",
       "  * valid_time  (valid_time) datetime64[ns] 2020-01-01T12:00:00 ... 2020-01-0...\n",
       "    variable    <U2 'tp'"
      ]
     },
     "execution_count": 23,
     "metadata": {},
     "output_type": "execute_result"
    }
   ],
   "source": [
    "hrrr = hrrr.sel(valid_time=interp.valid_time)\n",
    "hrrr"
   ]
  },
  {
   "cell_type": "markdown",
   "id": "c010f345",
   "metadata": {
    "Collapsed": "false"
   },
   "source": [
    "## TIGGE Ensemble"
   ]
  },
  {
   "cell_type": "code",
   "execution_count": null,
   "id": "af915275",
   "metadata": {
    "Collapsed": "false"
   },
   "outputs": [],
   "source": []
  },
  {
   "cell_type": "markdown",
   "id": "6701f6e5",
   "metadata": {
    "Collapsed": "false"
   },
   "source": [
    "## HREF"
   ]
  },
  {
   "cell_type": "code",
   "execution_count": 25,
   "id": "27a70e9f",
   "metadata": {
    "Collapsed": "false"
   },
   "outputs": [],
   "source": [
    "fn = f'{DATADRIVE}/href/4km/total_precipitation/2020*.nc'\n",
    "href = xr.open_mfdataset(fn)"
   ]
  },
  {
   "cell_type": "code",
   "execution_count": 26,
   "id": "0ebc3d95",
   "metadata": {
    "Collapsed": "false"
   },
   "outputs": [],
   "source": [
    "href = href.tp.diff('lead_time').sel(lead_time=np.timedelta64(12, 'h'))"
   ]
  },
  {
   "cell_type": "code",
   "execution_count": 28,
   "id": "607f3161",
   "metadata": {
    "Collapsed": "false"
   },
   "outputs": [],
   "source": [
    "href = href.swap_dims({'init_time': 'valid_time'})"
   ]
  },
  {
   "cell_type": "code",
   "execution_count": 31,
   "id": "9821033d",
   "metadata": {
    "Collapsed": "false"
   },
   "outputs": [
    {
     "data": {
      "text/html": [
       "<div><svg style=\"position: absolute; width: 0; height: 0; overflow: hidden\">\n",
       "<defs>\n",
       "<symbol id=\"icon-database\" viewBox=\"0 0 32 32\">\n",
       "<path d=\"M16 0c-8.837 0-16 2.239-16 5v4c0 2.761 7.163 5 16 5s16-2.239 16-5v-4c0-2.761-7.163-5-16-5z\"></path>\n",
       "<path d=\"M16 17c-8.837 0-16-2.239-16-5v6c0 2.761 7.163 5 16 5s16-2.239 16-5v-6c0 2.761-7.163 5-16 5z\"></path>\n",
       "<path d=\"M16 26c-8.837 0-16-2.239-16-5v6c0 2.761 7.163 5 16 5s16-2.239 16-5v-6c0 2.761-7.163 5-16 5z\"></path>\n",
       "</symbol>\n",
       "<symbol id=\"icon-file-text2\" viewBox=\"0 0 32 32\">\n",
       "<path d=\"M28.681 7.159c-0.694-0.947-1.662-2.053-2.724-3.116s-2.169-2.030-3.116-2.724c-1.612-1.182-2.393-1.319-2.841-1.319h-15.5c-1.378 0-2.5 1.121-2.5 2.5v27c0 1.378 1.122 2.5 2.5 2.5h23c1.378 0 2.5-1.122 2.5-2.5v-19.5c0-0.448-0.137-1.23-1.319-2.841zM24.543 5.457c0.959 0.959 1.712 1.825 2.268 2.543h-4.811v-4.811c0.718 0.556 1.584 1.309 2.543 2.268zM28 29.5c0 0.271-0.229 0.5-0.5 0.5h-23c-0.271 0-0.5-0.229-0.5-0.5v-27c0-0.271 0.229-0.5 0.5-0.5 0 0 15.499-0 15.5 0v7c0 0.552 0.448 1 1 1h7v19.5z\"></path>\n",
       "<path d=\"M23 26h-14c-0.552 0-1-0.448-1-1s0.448-1 1-1h14c0.552 0 1 0.448 1 1s-0.448 1-1 1z\"></path>\n",
       "<path d=\"M23 22h-14c-0.552 0-1-0.448-1-1s0.448-1 1-1h14c0.552 0 1 0.448 1 1s-0.448 1-1 1z\"></path>\n",
       "<path d=\"M23 18h-14c-0.552 0-1-0.448-1-1s0.448-1 1-1h14c0.552 0 1 0.448 1 1s-0.448 1-1 1z\"></path>\n",
       "</symbol>\n",
       "</defs>\n",
       "</svg>\n",
       "<style>/* CSS stylesheet for displaying xarray objects in jupyterlab.\n",
       " *\n",
       " */\n",
       "\n",
       ":root {\n",
       "  --xr-font-color0: var(--jp-content-font-color0, rgba(0, 0, 0, 1));\n",
       "  --xr-font-color2: var(--jp-content-font-color2, rgba(0, 0, 0, 0.54));\n",
       "  --xr-font-color3: var(--jp-content-font-color3, rgba(0, 0, 0, 0.38));\n",
       "  --xr-border-color: var(--jp-border-color2, #e0e0e0);\n",
       "  --xr-disabled-color: var(--jp-layout-color3, #bdbdbd);\n",
       "  --xr-background-color: var(--jp-layout-color0, white);\n",
       "  --xr-background-color-row-even: var(--jp-layout-color1, white);\n",
       "  --xr-background-color-row-odd: var(--jp-layout-color2, #eeeeee);\n",
       "}\n",
       "\n",
       "html[theme=dark],\n",
       "body.vscode-dark {\n",
       "  --xr-font-color0: rgba(255, 255, 255, 1);\n",
       "  --xr-font-color2: rgba(255, 255, 255, 0.54);\n",
       "  --xr-font-color3: rgba(255, 255, 255, 0.38);\n",
       "  --xr-border-color: #1F1F1F;\n",
       "  --xr-disabled-color: #515151;\n",
       "  --xr-background-color: #111111;\n",
       "  --xr-background-color-row-even: #111111;\n",
       "  --xr-background-color-row-odd: #313131;\n",
       "}\n",
       "\n",
       ".xr-wrap {\n",
       "  display: block;\n",
       "  min-width: 300px;\n",
       "  max-width: 700px;\n",
       "}\n",
       "\n",
       ".xr-text-repr-fallback {\n",
       "  /* fallback to plain text repr when CSS is not injected (untrusted notebook) */\n",
       "  display: none;\n",
       "}\n",
       "\n",
       ".xr-header {\n",
       "  padding-top: 6px;\n",
       "  padding-bottom: 6px;\n",
       "  margin-bottom: 4px;\n",
       "  border-bottom: solid 1px var(--xr-border-color);\n",
       "}\n",
       "\n",
       ".xr-header > div,\n",
       ".xr-header > ul {\n",
       "  display: inline;\n",
       "  margin-top: 0;\n",
       "  margin-bottom: 0;\n",
       "}\n",
       "\n",
       ".xr-obj-type,\n",
       ".xr-array-name {\n",
       "  margin-left: 2px;\n",
       "  margin-right: 10px;\n",
       "}\n",
       "\n",
       ".xr-obj-type {\n",
       "  color: var(--xr-font-color2);\n",
       "}\n",
       "\n",
       ".xr-sections {\n",
       "  padding-left: 0 !important;\n",
       "  display: grid;\n",
       "  grid-template-columns: 150px auto auto 1fr 20px 20px;\n",
       "}\n",
       "\n",
       ".xr-section-item {\n",
       "  display: contents;\n",
       "}\n",
       "\n",
       ".xr-section-item input {\n",
       "  display: none;\n",
       "}\n",
       "\n",
       ".xr-section-item input + label {\n",
       "  color: var(--xr-disabled-color);\n",
       "}\n",
       "\n",
       ".xr-section-item input:enabled + label {\n",
       "  cursor: pointer;\n",
       "  color: var(--xr-font-color2);\n",
       "}\n",
       "\n",
       ".xr-section-item input:enabled + label:hover {\n",
       "  color: var(--xr-font-color0);\n",
       "}\n",
       "\n",
       ".xr-section-summary {\n",
       "  grid-column: 1;\n",
       "  color: var(--xr-font-color2);\n",
       "  font-weight: 500;\n",
       "}\n",
       "\n",
       ".xr-section-summary > span {\n",
       "  display: inline-block;\n",
       "  padding-left: 0.5em;\n",
       "}\n",
       "\n",
       ".xr-section-summary-in:disabled + label {\n",
       "  color: var(--xr-font-color2);\n",
       "}\n",
       "\n",
       ".xr-section-summary-in + label:before {\n",
       "  display: inline-block;\n",
       "  content: '►';\n",
       "  font-size: 11px;\n",
       "  width: 15px;\n",
       "  text-align: center;\n",
       "}\n",
       "\n",
       ".xr-section-summary-in:disabled + label:before {\n",
       "  color: var(--xr-disabled-color);\n",
       "}\n",
       "\n",
       ".xr-section-summary-in:checked + label:before {\n",
       "  content: '▼';\n",
       "}\n",
       "\n",
       ".xr-section-summary-in:checked + label > span {\n",
       "  display: none;\n",
       "}\n",
       "\n",
       ".xr-section-summary,\n",
       ".xr-section-inline-details {\n",
       "  padding-top: 4px;\n",
       "  padding-bottom: 4px;\n",
       "}\n",
       "\n",
       ".xr-section-inline-details {\n",
       "  grid-column: 2 / -1;\n",
       "}\n",
       "\n",
       ".xr-section-details {\n",
       "  display: none;\n",
       "  grid-column: 1 / -1;\n",
       "  margin-bottom: 5px;\n",
       "}\n",
       "\n",
       ".xr-section-summary-in:checked ~ .xr-section-details {\n",
       "  display: contents;\n",
       "}\n",
       "\n",
       ".xr-array-wrap {\n",
       "  grid-column: 1 / -1;\n",
       "  display: grid;\n",
       "  grid-template-columns: 20px auto;\n",
       "}\n",
       "\n",
       ".xr-array-wrap > label {\n",
       "  grid-column: 1;\n",
       "  vertical-align: top;\n",
       "}\n",
       "\n",
       ".xr-preview {\n",
       "  color: var(--xr-font-color3);\n",
       "}\n",
       "\n",
       ".xr-array-preview,\n",
       ".xr-array-data {\n",
       "  padding: 0 5px !important;\n",
       "  grid-column: 2;\n",
       "}\n",
       "\n",
       ".xr-array-data,\n",
       ".xr-array-in:checked ~ .xr-array-preview {\n",
       "  display: none;\n",
       "}\n",
       "\n",
       ".xr-array-in:checked ~ .xr-array-data,\n",
       ".xr-array-preview {\n",
       "  display: inline-block;\n",
       "}\n",
       "\n",
       ".xr-dim-list {\n",
       "  display: inline-block !important;\n",
       "  list-style: none;\n",
       "  padding: 0 !important;\n",
       "  margin: 0;\n",
       "}\n",
       "\n",
       ".xr-dim-list li {\n",
       "  display: inline-block;\n",
       "  padding: 0;\n",
       "  margin: 0;\n",
       "}\n",
       "\n",
       ".xr-dim-list:before {\n",
       "  content: '(';\n",
       "}\n",
       "\n",
       ".xr-dim-list:after {\n",
       "  content: ')';\n",
       "}\n",
       "\n",
       ".xr-dim-list li:not(:last-child):after {\n",
       "  content: ',';\n",
       "  padding-right: 5px;\n",
       "}\n",
       "\n",
       ".xr-has-index {\n",
       "  font-weight: bold;\n",
       "}\n",
       "\n",
       ".xr-var-list,\n",
       ".xr-var-item {\n",
       "  display: contents;\n",
       "}\n",
       "\n",
       ".xr-var-item > div,\n",
       ".xr-var-item label,\n",
       ".xr-var-item > .xr-var-name span {\n",
       "  background-color: var(--xr-background-color-row-even);\n",
       "  margin-bottom: 0;\n",
       "}\n",
       "\n",
       ".xr-var-item > .xr-var-name:hover span {\n",
       "  padding-right: 5px;\n",
       "}\n",
       "\n",
       ".xr-var-list > li:nth-child(odd) > div,\n",
       ".xr-var-list > li:nth-child(odd) > label,\n",
       ".xr-var-list > li:nth-child(odd) > .xr-var-name span {\n",
       "  background-color: var(--xr-background-color-row-odd);\n",
       "}\n",
       "\n",
       ".xr-var-name {\n",
       "  grid-column: 1;\n",
       "}\n",
       "\n",
       ".xr-var-dims {\n",
       "  grid-column: 2;\n",
       "}\n",
       "\n",
       ".xr-var-dtype {\n",
       "  grid-column: 3;\n",
       "  text-align: right;\n",
       "  color: var(--xr-font-color2);\n",
       "}\n",
       "\n",
       ".xr-var-preview {\n",
       "  grid-column: 4;\n",
       "}\n",
       "\n",
       ".xr-var-name,\n",
       ".xr-var-dims,\n",
       ".xr-var-dtype,\n",
       ".xr-preview,\n",
       ".xr-attrs dt {\n",
       "  white-space: nowrap;\n",
       "  overflow: hidden;\n",
       "  text-overflow: ellipsis;\n",
       "  padding-right: 10px;\n",
       "}\n",
       "\n",
       ".xr-var-name:hover,\n",
       ".xr-var-dims:hover,\n",
       ".xr-var-dtype:hover,\n",
       ".xr-attrs dt:hover {\n",
       "  overflow: visible;\n",
       "  width: auto;\n",
       "  z-index: 1;\n",
       "}\n",
       "\n",
       ".xr-var-attrs,\n",
       ".xr-var-data {\n",
       "  display: none;\n",
       "  background-color: var(--xr-background-color) !important;\n",
       "  padding-bottom: 5px !important;\n",
       "}\n",
       "\n",
       ".xr-var-attrs-in:checked ~ .xr-var-attrs,\n",
       ".xr-var-data-in:checked ~ .xr-var-data {\n",
       "  display: block;\n",
       "}\n",
       "\n",
       ".xr-var-data > table {\n",
       "  float: right;\n",
       "}\n",
       "\n",
       ".xr-var-name span,\n",
       ".xr-var-data,\n",
       ".xr-attrs {\n",
       "  padding-left: 25px !important;\n",
       "}\n",
       "\n",
       ".xr-attrs,\n",
       ".xr-var-attrs,\n",
       ".xr-var-data {\n",
       "  grid-column: 1 / -1;\n",
       "}\n",
       "\n",
       "dl.xr-attrs {\n",
       "  padding: 0;\n",
       "  margin: 0;\n",
       "  display: grid;\n",
       "  grid-template-columns: 125px auto;\n",
       "}\n",
       "\n",
       ".xr-attrs dt,\n",
       ".xr-attrs dd {\n",
       "  padding: 0;\n",
       "  margin: 0;\n",
       "  float: left;\n",
       "  padding-right: 10px;\n",
       "  width: auto;\n",
       "}\n",
       "\n",
       ".xr-attrs dt {\n",
       "  font-weight: normal;\n",
       "  grid-column: 1;\n",
       "}\n",
       "\n",
       ".xr-attrs dt:hover span {\n",
       "  display: inline-block;\n",
       "  background: var(--xr-background-color);\n",
       "  padding-right: 10px;\n",
       "}\n",
       "\n",
       ".xr-attrs dd {\n",
       "  grid-column: 2;\n",
       "  white-space: pre-wrap;\n",
       "  word-break: break-all;\n",
       "}\n",
       "\n",
       ".xr-icon-database,\n",
       ".xr-icon-file-text2 {\n",
       "  display: inline-block;\n",
       "  vertical-align: middle;\n",
       "  width: 1em;\n",
       "  height: 1.5em !important;\n",
       "  stroke-width: 0;\n",
       "  stroke: currentColor;\n",
       "  fill: currentColor;\n",
       "}\n",
       "</style><pre class='xr-text-repr-fallback'>&lt;xarray.DataArray &#x27;tp&#x27; (member: 10, valid_time: 726, lat: 750, lon: 1376)&gt;\n",
       "dask.array&lt;getitem, shape=(10, 726, 750, 1376), dtype=float32, chunksize=(10, 1, 750, 1376), chunktype=numpy.ndarray&gt;\n",
       "Coordinates:\n",
       "    lead_time   timedelta64[ns] 12:00:00\n",
       "    time        (valid_time) datetime64[ns] 2020-01-01T12:00:00 ... 2020-12-3...\n",
       "    surface     float64 0.0\n",
       "  * valid_time  (valid_time) datetime64[ns] 2020-01-02 ... 2021-01-01\n",
       "    init_time   (valid_time) datetime64[ns] 2020-01-01T12:00:00 ... 2020-12-3...\n",
       "  * lon         (lon) float64 235.0 235.0 235.1 235.1 ... 289.9 290.0 290.0\n",
       "  * lat         (lat) float64 50.0 49.96 49.92 49.88 ... 20.16 20.12 20.08 20.04\n",
       "  * member      (member) object &#x27;hiresw_conusarw&#x27; ... &#x27;hrrr-12h&#x27;</pre><div class='xr-wrap' hidden><div class='xr-header'><div class='xr-obj-type'>xarray.DataArray</div><div class='xr-array-name'>'tp'</div><ul class='xr-dim-list'><li><span class='xr-has-index'>member</span>: 10</li><li><span class='xr-has-index'>valid_time</span>: 726</li><li><span class='xr-has-index'>lat</span>: 750</li><li><span class='xr-has-index'>lon</span>: 1376</li></ul></div><ul class='xr-sections'><li class='xr-section-item'><div class='xr-array-wrap'><input id='section-59aeb7b2-afec-4b90-855a-8a41ce5545a6' class='xr-array-in' type='checkbox' checked><label for='section-59aeb7b2-afec-4b90-855a-8a41ce5545a6' title='Show/hide data repr'><svg class='icon xr-icon-database'><use xlink:href='#icon-database'></use></svg></label><div class='xr-array-preview xr-preview'><span>dask.array&lt;chunksize=(10, 1, 750, 1376), meta=np.ndarray&gt;</span></div><div class='xr-array-data'><table>\n",
       "<tr>\n",
       "<td>\n",
       "<table>\n",
       "  <thead>\n",
       "    <tr><td> </td><th> Array </th><th> Chunk </th></tr>\n",
       "  </thead>\n",
       "  <tbody>\n",
       "    <tr><th> Bytes </th><td> 27.91 GiB </td> <td> 39.37 MiB </td></tr>\n",
       "    <tr><th> Shape </th><td> (10, 726, 750, 1376) </td> <td> (10, 1, 750, 1376) </td></tr>\n",
       "    <tr><th> Count </th><td> 5082 Tasks </td><td> 726 Chunks </td></tr>\n",
       "    <tr><th> Type </th><td> float32 </td><td> numpy.ndarray </td></tr>\n",
       "  </tbody>\n",
       "</table>\n",
       "</td>\n",
       "<td>\n",
       "<svg width=\"397\" height=\"152\" style=\"stroke:rgb(0,0,0);stroke-width:1\" >\n",
       "\n",
       "  <!-- Horizontal lines -->\n",
       "  <line x1=\"0\" y1=\"0\" x2=\"25\" y2=\"0\" style=\"stroke-width:2\" />\n",
       "  <line x1=\"0\" y1=\"25\" x2=\"25\" y2=\"25\" style=\"stroke-width:2\" />\n",
       "\n",
       "  <!-- Vertical lines -->\n",
       "  <line x1=\"0\" y1=\"0\" x2=\"0\" y2=\"25\" style=\"stroke-width:2\" />\n",
       "  <line x1=\"25\" y1=\"0\" x2=\"25\" y2=\"25\" style=\"stroke-width:2\" />\n",
       "\n",
       "  <!-- Colored Rectangle -->\n",
       "  <polygon points=\"0.0,0.0 25.412616514582485,0.0 25.412616514582485,25.412616514582485 0.0,25.412616514582485\" style=\"fill:#ECB172A0;stroke-width:0\"/>\n",
       "\n",
       "  <!-- Text -->\n",
       "  <text x=\"12.706308\" y=\"45.412617\" font-size=\"1.0rem\" font-weight=\"100\" text-anchor=\"middle\" >10</text>\n",
       "  <text x=\"45.412617\" y=\"12.706308\" font-size=\"1.0rem\" font-weight=\"100\" text-anchor=\"middle\" transform=\"rotate(0,45.412617,12.706308)\">1</text>\n",
       "\n",
       "\n",
       "  <!-- Horizontal lines -->\n",
       "  <line x1=\"95\" y1=\"0\" x2=\"132\" y2=\"37\" style=\"stroke-width:2\" />\n",
       "  <line x1=\"95\" y1=\"65\" x2=\"132\" y2=\"102\" style=\"stroke-width:2\" />\n",
       "\n",
       "  <!-- Vertical lines -->\n",
       "  <line x1=\"95\" y1=\"0\" x2=\"95\" y2=\"65\" style=\"stroke-width:2\" />\n",
       "  <line x1=\"96\" y1=\"1\" x2=\"96\" y2=\"66\" />\n",
       "  <line x1=\"97\" y1=\"2\" x2=\"97\" y2=\"67\" />\n",
       "  <line x1=\"98\" y1=\"3\" x2=\"98\" y2=\"68\" />\n",
       "  <line x1=\"99\" y1=\"4\" x2=\"99\" y2=\"70\" />\n",
       "  <line x1=\"100\" y1=\"5\" x2=\"100\" y2=\"71\" />\n",
       "  <line x1=\"101\" y1=\"6\" x2=\"101\" y2=\"72\" />\n",
       "  <line x1=\"103\" y1=\"8\" x2=\"103\" y2=\"73\" />\n",
       "  <line x1=\"104\" y1=\"9\" x2=\"104\" y2=\"74\" />\n",
       "  <line x1=\"105\" y1=\"10\" x2=\"105\" y2=\"75\" />\n",
       "  <line x1=\"106\" y1=\"11\" x2=\"106\" y2=\"77\" />\n",
       "  <line x1=\"107\" y1=\"12\" x2=\"107\" y2=\"78\" />\n",
       "  <line x1=\"108\" y1=\"13\" x2=\"108\" y2=\"79\" />\n",
       "  <line x1=\"110\" y1=\"15\" x2=\"110\" y2=\"80\" />\n",
       "  <line x1=\"111\" y1=\"16\" x2=\"111\" y2=\"81\" />\n",
       "  <line x1=\"112\" y1=\"17\" x2=\"112\" y2=\"82\" />\n",
       "  <line x1=\"113\" y1=\"18\" x2=\"113\" y2=\"84\" />\n",
       "  <line x1=\"114\" y1=\"19\" x2=\"114\" y2=\"85\" />\n",
       "  <line x1=\"115\" y1=\"20\" x2=\"115\" y2=\"86\" />\n",
       "  <line x1=\"117\" y1=\"22\" x2=\"117\" y2=\"87\" />\n",
       "  <line x1=\"118\" y1=\"23\" x2=\"118\" y2=\"88\" />\n",
       "  <line x1=\"119\" y1=\"24\" x2=\"119\" y2=\"89\" />\n",
       "  <line x1=\"120\" y1=\"25\" x2=\"120\" y2=\"91\" />\n",
       "  <line x1=\"121\" y1=\"26\" x2=\"121\" y2=\"92\" />\n",
       "  <line x1=\"122\" y1=\"27\" x2=\"122\" y2=\"93\" />\n",
       "  <line x1=\"124\" y1=\"29\" x2=\"124\" y2=\"94\" />\n",
       "  <line x1=\"125\" y1=\"30\" x2=\"125\" y2=\"95\" />\n",
       "  <line x1=\"126\" y1=\"31\" x2=\"126\" y2=\"96\" />\n",
       "  <line x1=\"127\" y1=\"32\" x2=\"127\" y2=\"97\" />\n",
       "  <line x1=\"128\" y1=\"33\" x2=\"128\" y2=\"99\" />\n",
       "  <line x1=\"129\" y1=\"34\" x2=\"129\" y2=\"100\" />\n",
       "  <line x1=\"131\" y1=\"36\" x2=\"131\" y2=\"101\" />\n",
       "  <line x1=\"132\" y1=\"37\" x2=\"132\" y2=\"102\" style=\"stroke-width:2\" />\n",
       "\n",
       "  <!-- Colored Rectangle -->\n",
       "  <polygon points=\"95.0,0.0 132.24350205198357,37.24350205198358 132.24350205198357,102.65047879616964 95.0,65.40697674418605\" style=\"fill:#8B4903A0;stroke-width:0\"/>\n",
       "\n",
       "  <!-- Horizontal lines -->\n",
       "  <line x1=\"95\" y1=\"0\" x2=\"215\" y2=\"0\" style=\"stroke-width:2\" />\n",
       "  <line x1=\"96\" y1=\"1\" x2=\"216\" y2=\"1\" />\n",
       "  <line x1=\"97\" y1=\"2\" x2=\"217\" y2=\"2\" />\n",
       "  <line x1=\"98\" y1=\"3\" x2=\"218\" y2=\"3\" />\n",
       "  <line x1=\"99\" y1=\"4\" x2=\"219\" y2=\"4\" />\n",
       "  <line x1=\"100\" y1=\"5\" x2=\"220\" y2=\"5\" />\n",
       "  <line x1=\"101\" y1=\"6\" x2=\"221\" y2=\"6\" />\n",
       "  <line x1=\"103\" y1=\"8\" x2=\"223\" y2=\"8\" />\n",
       "  <line x1=\"104\" y1=\"9\" x2=\"224\" y2=\"9\" />\n",
       "  <line x1=\"105\" y1=\"10\" x2=\"225\" y2=\"10\" />\n",
       "  <line x1=\"106\" y1=\"11\" x2=\"226\" y2=\"11\" />\n",
       "  <line x1=\"107\" y1=\"12\" x2=\"227\" y2=\"12\" />\n",
       "  <line x1=\"108\" y1=\"13\" x2=\"228\" y2=\"13\" />\n",
       "  <line x1=\"110\" y1=\"15\" x2=\"230\" y2=\"15\" />\n",
       "  <line x1=\"111\" y1=\"16\" x2=\"231\" y2=\"16\" />\n",
       "  <line x1=\"112\" y1=\"17\" x2=\"232\" y2=\"17\" />\n",
       "  <line x1=\"113\" y1=\"18\" x2=\"233\" y2=\"18\" />\n",
       "  <line x1=\"114\" y1=\"19\" x2=\"234\" y2=\"19\" />\n",
       "  <line x1=\"115\" y1=\"20\" x2=\"235\" y2=\"20\" />\n",
       "  <line x1=\"117\" y1=\"22\" x2=\"237\" y2=\"22\" />\n",
       "  <line x1=\"118\" y1=\"23\" x2=\"238\" y2=\"23\" />\n",
       "  <line x1=\"119\" y1=\"24\" x2=\"239\" y2=\"24\" />\n",
       "  <line x1=\"120\" y1=\"25\" x2=\"240\" y2=\"25\" />\n",
       "  <line x1=\"121\" y1=\"26\" x2=\"241\" y2=\"26\" />\n",
       "  <line x1=\"122\" y1=\"27\" x2=\"242\" y2=\"27\" />\n",
       "  <line x1=\"124\" y1=\"29\" x2=\"244\" y2=\"29\" />\n",
       "  <line x1=\"125\" y1=\"30\" x2=\"245\" y2=\"30\" />\n",
       "  <line x1=\"126\" y1=\"31\" x2=\"246\" y2=\"31\" />\n",
       "  <line x1=\"127\" y1=\"32\" x2=\"247\" y2=\"32\" />\n",
       "  <line x1=\"128\" y1=\"33\" x2=\"248\" y2=\"33\" />\n",
       "  <line x1=\"129\" y1=\"34\" x2=\"249\" y2=\"34\" />\n",
       "  <line x1=\"131\" y1=\"36\" x2=\"251\" y2=\"36\" />\n",
       "  <line x1=\"132\" y1=\"37\" x2=\"252\" y2=\"37\" style=\"stroke-width:2\" />\n",
       "\n",
       "  <!-- Vertical lines -->\n",
       "  <line x1=\"95\" y1=\"0\" x2=\"132\" y2=\"37\" style=\"stroke-width:2\" />\n",
       "  <line x1=\"215\" y1=\"0\" x2=\"252\" y2=\"37\" style=\"stroke-width:2\" />\n",
       "\n",
       "  <!-- Colored Rectangle -->\n",
       "  <polygon points=\"95.0,0.0 215.0,0.0 252.24350205198357,37.24350205198358 132.24350205198357,37.24350205198358\" style=\"fill:#8B4903A0;stroke-width:0\"/>\n",
       "\n",
       "  <!-- Horizontal lines -->\n",
       "  <line x1=\"132\" y1=\"37\" x2=\"252\" y2=\"37\" style=\"stroke-width:2\" />\n",
       "  <line x1=\"132\" y1=\"102\" x2=\"252\" y2=\"102\" style=\"stroke-width:2\" />\n",
       "\n",
       "  <!-- Vertical lines -->\n",
       "  <line x1=\"132\" y1=\"37\" x2=\"132\" y2=\"102\" style=\"stroke-width:2\" />\n",
       "  <line x1=\"252\" y1=\"37\" x2=\"252\" y2=\"102\" style=\"stroke-width:2\" />\n",
       "\n",
       "  <!-- Colored Rectangle -->\n",
       "  <polygon points=\"132.24350205198357,37.24350205198358 252.24350205198357,37.24350205198358 252.24350205198357,102.65047879616964 132.24350205198357,102.65047879616964\" style=\"fill:#ECB172A0;stroke-width:0\"/>\n",
       "\n",
       "  <!-- Text -->\n",
       "  <text x=\"192.243502\" y=\"122.650479\" font-size=\"1.0rem\" font-weight=\"100\" text-anchor=\"middle\" >1376</text>\n",
       "  <text x=\"272.243502\" y=\"69.946990\" font-size=\"1.0rem\" font-weight=\"100\" text-anchor=\"middle\" transform=\"rotate(-90,272.243502,69.946990)\">750</text>\n",
       "  <text x=\"103.621751\" y=\"104.028728\" font-size=\"1.0rem\" font-weight=\"100\" text-anchor=\"middle\" transform=\"rotate(45,103.621751,104.028728)\">726</text>\n",
       "</svg>\n",
       "</td>\n",
       "</tr>\n",
       "</table></div></div></li><li class='xr-section-item'><input id='section-cadea871-cabd-4d2e-b449-4e553c629b7d' class='xr-section-summary-in' type='checkbox'  checked><label for='section-cadea871-cabd-4d2e-b449-4e553c629b7d' class='xr-section-summary' >Coordinates: <span>(8)</span></label><div class='xr-section-inline-details'></div><div class='xr-section-details'><ul class='xr-var-list'><li class='xr-var-item'><div class='xr-var-name'><span>lead_time</span></div><div class='xr-var-dims'>()</div><div class='xr-var-dtype'>timedelta64[ns]</div><div class='xr-var-preview xr-preview'>12:00:00</div><input id='attrs-9b5ff5bc-3bc8-4c67-b619-37f2b1f29946' class='xr-var-attrs-in' type='checkbox' disabled><label for='attrs-9b5ff5bc-3bc8-4c67-b619-37f2b1f29946' title='Show/Hide attributes'><svg class='icon xr-icon-file-text2'><use xlink:href='#icon-file-text2'></use></svg></label><input id='data-62040740-5777-45b3-8888-03d850469e11' class='xr-var-data-in' type='checkbox'><label for='data-62040740-5777-45b3-8888-03d850469e11' title='Show/Hide data repr'><svg class='icon xr-icon-database'><use xlink:href='#icon-database'></use></svg></label><div class='xr-var-attrs'><dl class='xr-attrs'></dl></div><div class='xr-var-data'><pre>array(43200000000000, dtype=&#x27;timedelta64[ns]&#x27;)</pre></div></li><li class='xr-var-item'><div class='xr-var-name'><span>time</span></div><div class='xr-var-dims'>(valid_time)</div><div class='xr-var-dtype'>datetime64[ns]</div><div class='xr-var-preview xr-preview'>2020-01-01T12:00:00 ... 2020-12-...</div><input id='attrs-281058e4-474e-4293-9328-801db058aaca' class='xr-var-attrs-in' type='checkbox' ><label for='attrs-281058e4-474e-4293-9328-801db058aaca' title='Show/Hide attributes'><svg class='icon xr-icon-file-text2'><use xlink:href='#icon-file-text2'></use></svg></label><input id='data-d1b2f4da-1021-4811-ba62-50a5d873f29c' class='xr-var-data-in' type='checkbox'><label for='data-d1b2f4da-1021-4811-ba62-50a5d873f29c' title='Show/Hide data repr'><svg class='icon xr-icon-database'><use xlink:href='#icon-database'></use></svg></label><div class='xr-var-attrs'><dl class='xr-attrs'><dt><span>long_name :</span></dt><dd>initial time of forecast</dd><dt><span>standard_name :</span></dt><dd>forecast_reference_time</dd></dl></div><div class='xr-var-data'><pre>array([&#x27;2020-01-01T12:00:00.000000000&#x27;, &#x27;2020-01-02T00:00:00.000000000&#x27;,\n",
       "       &#x27;2020-01-02T12:00:00.000000000&#x27;, &#x27;2020-01-03T00:00:00.000000000&#x27;,\n",
       "       &#x27;2020-01-03T12:00:00.000000000&#x27;, &#x27;2020-01-04T00:00:00.000000000&#x27;,\n",
       "       &#x27;2020-01-04T12:00:00.000000000&#x27;, &#x27;2020-01-05T00:00:00.000000000&#x27;,\n",
       "       &#x27;2020-01-05T12:00:00.000000000&#x27;, &#x27;2020-01-06T00:00:00.000000000&#x27;,\n",
       "       &#x27;2020-01-06T12:00:00.000000000&#x27;, &#x27;2020-01-07T00:00:00.000000000&#x27;,\n",
       "       &#x27;2020-01-07T12:00:00.000000000&#x27;, &#x27;2020-01-08T00:00:00.000000000&#x27;,\n",
       "       &#x27;2020-01-08T12:00:00.000000000&#x27;, &#x27;2020-01-09T00:00:00.000000000&#x27;,\n",
       "       &#x27;2020-01-09T12:00:00.000000000&#x27;, &#x27;2020-01-10T00:00:00.000000000&#x27;,\n",
       "       &#x27;2020-01-10T12:00:00.000000000&#x27;, &#x27;2020-01-11T00:00:00.000000000&#x27;,\n",
       "       &#x27;2020-01-11T12:00:00.000000000&#x27;, &#x27;2020-01-12T00:00:00.000000000&#x27;,\n",
       "       &#x27;2020-01-12T12:00:00.000000000&#x27;, &#x27;2020-01-13T00:00:00.000000000&#x27;,\n",
       "       &#x27;2020-01-13T12:00:00.000000000&#x27;, &#x27;2020-01-14T00:00:00.000000000&#x27;,\n",
       "       &#x27;2020-01-14T12:00:00.000000000&#x27;, &#x27;2020-01-15T00:00:00.000000000&#x27;,\n",
       "       &#x27;2020-01-15T12:00:00.000000000&#x27;, &#x27;2020-01-16T00:00:00.000000000&#x27;,\n",
       "       &#x27;2020-01-16T12:00:00.000000000&#x27;, &#x27;2020-01-17T00:00:00.000000000&#x27;,\n",
       "       &#x27;2020-01-17T12:00:00.000000000&#x27;, &#x27;2020-01-18T00:00:00.000000000&#x27;,\n",
       "       &#x27;2020-01-18T12:00:00.000000000&#x27;, &#x27;2020-01-19T00:00:00.000000000&#x27;,\n",
       "       &#x27;2020-01-19T12:00:00.000000000&#x27;, &#x27;2020-01-20T00:00:00.000000000&#x27;,\n",
       "       &#x27;2020-01-20T12:00:00.000000000&#x27;, &#x27;2020-01-21T00:00:00.000000000&#x27;,\n",
       "...\n",
       "       &#x27;2020-12-13T00:00:00.000000000&#x27;, &#x27;2020-12-13T12:00:00.000000000&#x27;,\n",
       "       &#x27;2020-12-14T00:00:00.000000000&#x27;, &#x27;2020-12-14T12:00:00.000000000&#x27;,\n",
       "       &#x27;2020-12-15T00:00:00.000000000&#x27;, &#x27;2020-12-15T12:00:00.000000000&#x27;,\n",
       "       &#x27;2020-12-16T00:00:00.000000000&#x27;, &#x27;2020-12-16T12:00:00.000000000&#x27;,\n",
       "       &#x27;2020-12-17T00:00:00.000000000&#x27;, &#x27;2020-12-17T12:00:00.000000000&#x27;,\n",
       "       &#x27;2020-12-18T00:00:00.000000000&#x27;, &#x27;2020-12-18T12:00:00.000000000&#x27;,\n",
       "       &#x27;2020-12-19T00:00:00.000000000&#x27;, &#x27;2020-12-19T12:00:00.000000000&#x27;,\n",
       "       &#x27;2020-12-20T00:00:00.000000000&#x27;, &#x27;2020-12-20T12:00:00.000000000&#x27;,\n",
       "       &#x27;2020-12-21T00:00:00.000000000&#x27;, &#x27;2020-12-21T12:00:00.000000000&#x27;,\n",
       "       &#x27;2020-12-22T00:00:00.000000000&#x27;, &#x27;2020-12-22T12:00:00.000000000&#x27;,\n",
       "       &#x27;2020-12-23T00:00:00.000000000&#x27;, &#x27;2020-12-23T12:00:00.000000000&#x27;,\n",
       "       &#x27;2020-12-24T00:00:00.000000000&#x27;, &#x27;2020-12-24T12:00:00.000000000&#x27;,\n",
       "       &#x27;2020-12-25T00:00:00.000000000&#x27;, &#x27;2020-12-25T12:00:00.000000000&#x27;,\n",
       "       &#x27;2020-12-26T00:00:00.000000000&#x27;, &#x27;2020-12-26T12:00:00.000000000&#x27;,\n",
       "       &#x27;2020-12-27T00:00:00.000000000&#x27;, &#x27;2020-12-27T12:00:00.000000000&#x27;,\n",
       "       &#x27;2020-12-28T00:00:00.000000000&#x27;, &#x27;2020-12-28T12:00:00.000000000&#x27;,\n",
       "       &#x27;2020-12-29T00:00:00.000000000&#x27;, &#x27;2020-12-29T12:00:00.000000000&#x27;,\n",
       "       &#x27;2020-12-30T00:00:00.000000000&#x27;, &#x27;2020-12-30T12:00:00.000000000&#x27;,\n",
       "       &#x27;2020-12-31T00:00:00.000000000&#x27;, &#x27;2020-12-31T12:00:00.000000000&#x27;],\n",
       "      dtype=&#x27;datetime64[ns]&#x27;)</pre></div></li><li class='xr-var-item'><div class='xr-var-name'><span>surface</span></div><div class='xr-var-dims'>()</div><div class='xr-var-dtype'>float64</div><div class='xr-var-preview xr-preview'>0.0</div><input id='attrs-fe5d537f-f8a6-41cf-b8f8-862b8ec15f9b' class='xr-var-attrs-in' type='checkbox' ><label for='attrs-fe5d537f-f8a6-41cf-b8f8-862b8ec15f9b' title='Show/Hide attributes'><svg class='icon xr-icon-file-text2'><use xlink:href='#icon-file-text2'></use></svg></label><input id='data-3cd14844-6456-480b-96ef-33edd7c0e96d' class='xr-var-data-in' type='checkbox'><label for='data-3cd14844-6456-480b-96ef-33edd7c0e96d' title='Show/Hide data repr'><svg class='icon xr-icon-database'><use xlink:href='#icon-database'></use></svg></label><div class='xr-var-attrs'><dl class='xr-attrs'><dt><span>long_name :</span></dt><dd>original GRIB coordinate for key: level(surface)</dd><dt><span>units :</span></dt><dd>1</dd></dl></div><div class='xr-var-data'><pre>array(0.)</pre></div></li><li class='xr-var-item'><div class='xr-var-name'><span class='xr-has-index'>valid_time</span></div><div class='xr-var-dims'>(valid_time)</div><div class='xr-var-dtype'>datetime64[ns]</div><div class='xr-var-preview xr-preview'>2020-01-02 ... 2021-01-01</div><input id='attrs-a093ac07-1504-4bd2-ab5e-67646cbbddfc' class='xr-var-attrs-in' type='checkbox' disabled><label for='attrs-a093ac07-1504-4bd2-ab5e-67646cbbddfc' title='Show/Hide attributes'><svg class='icon xr-icon-file-text2'><use xlink:href='#icon-file-text2'></use></svg></label><input id='data-d7d2f775-14bf-4fb4-98c7-3c4c402a2f59' class='xr-var-data-in' type='checkbox'><label for='data-d7d2f775-14bf-4fb4-98c7-3c4c402a2f59' title='Show/Hide data repr'><svg class='icon xr-icon-database'><use xlink:href='#icon-database'></use></svg></label><div class='xr-var-attrs'><dl class='xr-attrs'></dl></div><div class='xr-var-data'><pre>array([&#x27;2020-01-02T00:00:00.000000000&#x27;, &#x27;2020-01-02T12:00:00.000000000&#x27;,\n",
       "       &#x27;2020-01-03T00:00:00.000000000&#x27;, ..., &#x27;2020-12-31T00:00:00.000000000&#x27;,\n",
       "       &#x27;2020-12-31T12:00:00.000000000&#x27;, &#x27;2021-01-01T00:00:00.000000000&#x27;],\n",
       "      dtype=&#x27;datetime64[ns]&#x27;)</pre></div></li><li class='xr-var-item'><div class='xr-var-name'><span>init_time</span></div><div class='xr-var-dims'>(valid_time)</div><div class='xr-var-dtype'>datetime64[ns]</div><div class='xr-var-preview xr-preview'>2020-01-01T12:00:00 ... 2020-12-...</div><input id='attrs-62cec661-ae8a-470d-8148-897dd05524d9' class='xr-var-attrs-in' type='checkbox' disabled><label for='attrs-62cec661-ae8a-470d-8148-897dd05524d9' title='Show/Hide attributes'><svg class='icon xr-icon-file-text2'><use xlink:href='#icon-file-text2'></use></svg></label><input id='data-797333a0-bde6-4545-884e-09a7de65f499' class='xr-var-data-in' type='checkbox'><label for='data-797333a0-bde6-4545-884e-09a7de65f499' title='Show/Hide data repr'><svg class='icon xr-icon-database'><use xlink:href='#icon-database'></use></svg></label><div class='xr-var-attrs'><dl class='xr-attrs'></dl></div><div class='xr-var-data'><pre>array([&#x27;2020-01-01T12:00:00.000000000&#x27;, &#x27;2020-01-02T00:00:00.000000000&#x27;,\n",
       "       &#x27;2020-01-02T12:00:00.000000000&#x27;, ..., &#x27;2020-12-30T12:00:00.000000000&#x27;,\n",
       "       &#x27;2020-12-31T00:00:00.000000000&#x27;, &#x27;2020-12-31T12:00:00.000000000&#x27;],\n",
       "      dtype=&#x27;datetime64[ns]&#x27;)</pre></div></li><li class='xr-var-item'><div class='xr-var-name'><span class='xr-has-index'>lon</span></div><div class='xr-var-dims'>(lon)</div><div class='xr-var-dtype'>float64</div><div class='xr-var-preview xr-preview'>235.0 235.0 235.1 ... 290.0 290.0</div><input id='attrs-c90c0d54-5814-4c9c-8602-d5d980624ad4' class='xr-var-attrs-in' type='checkbox' disabled><label for='attrs-c90c0d54-5814-4c9c-8602-d5d980624ad4' title='Show/Hide attributes'><svg class='icon xr-icon-file-text2'><use xlink:href='#icon-file-text2'></use></svg></label><input id='data-719266ea-0254-43fc-ae0e-e99fdaad36fb' class='xr-var-data-in' type='checkbox'><label for='data-719266ea-0254-43fc-ae0e-e99fdaad36fb' title='Show/Hide data repr'><svg class='icon xr-icon-database'><use xlink:href='#icon-database'></use></svg></label><div class='xr-var-attrs'><dl class='xr-attrs'></dl></div><div class='xr-var-data'><pre>array([235.  , 235.04, 235.08, ..., 289.92, 289.96, 290.  ])</pre></div></li><li class='xr-var-item'><div class='xr-var-name'><span class='xr-has-index'>lat</span></div><div class='xr-var-dims'>(lat)</div><div class='xr-var-dtype'>float64</div><div class='xr-var-preview xr-preview'>50.0 49.96 49.92 ... 20.08 20.04</div><input id='attrs-2e3f9616-ca81-44e2-9e27-655fd42d828a' class='xr-var-attrs-in' type='checkbox' disabled><label for='attrs-2e3f9616-ca81-44e2-9e27-655fd42d828a' title='Show/Hide attributes'><svg class='icon xr-icon-file-text2'><use xlink:href='#icon-file-text2'></use></svg></label><input id='data-8ed67556-4801-47d6-aa17-84f08e50c2ec' class='xr-var-data-in' type='checkbox'><label for='data-8ed67556-4801-47d6-aa17-84f08e50c2ec' title='Show/Hide data repr'><svg class='icon xr-icon-database'><use xlink:href='#icon-database'></use></svg></label><div class='xr-var-attrs'><dl class='xr-attrs'></dl></div><div class='xr-var-data'><pre>array([50.  , 49.96, 49.92, ..., 20.12, 20.08, 20.04])</pre></div></li><li class='xr-var-item'><div class='xr-var-name'><span class='xr-has-index'>member</span></div><div class='xr-var-dims'>(member)</div><div class='xr-var-dtype'>object</div><div class='xr-var-preview xr-preview'>&#x27;hiresw_conusarw&#x27; ... &#x27;hrrr-12h&#x27;</div><input id='attrs-8ae5ec7c-9574-4c73-9538-6cca910f03aa' class='xr-var-attrs-in' type='checkbox' disabled><label for='attrs-8ae5ec7c-9574-4c73-9538-6cca910f03aa' title='Show/Hide attributes'><svg class='icon xr-icon-file-text2'><use xlink:href='#icon-file-text2'></use></svg></label><input id='data-06105dc7-ef10-4e99-9d6c-d8519d141f0a' class='xr-var-data-in' type='checkbox'><label for='data-06105dc7-ef10-4e99-9d6c-d8519d141f0a' title='Show/Hide data repr'><svg class='icon xr-icon-database'><use xlink:href='#icon-database'></use></svg></label><div class='xr-var-attrs'><dl class='xr-attrs'></dl></div><div class='xr-var-data'><pre>array([&#x27;hiresw_conusarw&#x27;, &#x27;hiresw_conusarw-12h&#x27;, &#x27;hiresw_conusnmmb&#x27;,\n",
       "       &#x27;hiresw_conusnmmb-12h&#x27;, &#x27;hiresw_conusnssl&#x27;, &#x27;hiresw_conusnssl-12h&#x27;,\n",
       "       &#x27;nam_conusnest&#x27;, &#x27;nam_conusnest-12h&#x27;, &#x27;hrrr&#x27;, &#x27;hrrr-12h&#x27;], dtype=object)</pre></div></li></ul></div></li><li class='xr-section-item'><input id='section-ee7d07fb-2754-4c1e-bab8-d3e57e3c247f' class='xr-section-summary-in' type='checkbox' disabled ><label for='section-ee7d07fb-2754-4c1e-bab8-d3e57e3c247f' class='xr-section-summary'  title='Expand/collapse section'>Attributes: <span>(0)</span></label><div class='xr-section-inline-details'></div><div class='xr-section-details'><dl class='xr-attrs'></dl></div></li></ul></div></div>"
      ],
      "text/plain": [
       "<xarray.DataArray 'tp' (member: 10, valid_time: 726, lat: 750, lon: 1376)>\n",
       "dask.array<getitem, shape=(10, 726, 750, 1376), dtype=float32, chunksize=(10, 1, 750, 1376), chunktype=numpy.ndarray>\n",
       "Coordinates:\n",
       "    lead_time   timedelta64[ns] 12:00:00\n",
       "    time        (valid_time) datetime64[ns] 2020-01-01T12:00:00 ... 2020-12-3...\n",
       "    surface     float64 0.0\n",
       "  * valid_time  (valid_time) datetime64[ns] 2020-01-02 ... 2021-01-01\n",
       "    init_time   (valid_time) datetime64[ns] 2020-01-01T12:00:00 ... 2020-12-3...\n",
       "  * lon         (lon) float64 235.0 235.0 235.1 235.1 ... 289.9 290.0 290.0\n",
       "  * lat         (lat) float64 50.0 49.96 49.92 49.88 ... 20.16 20.12 20.08 20.04\n",
       "  * member      (member) object 'hiresw_conusarw' ... 'hrrr-12h'"
      ]
     },
     "execution_count": 31,
     "metadata": {},
     "output_type": "execute_result"
    }
   ],
   "source": [
    "href"
   ]
  },
  {
   "cell_type": "code",
   "execution_count": 30,
   "id": "27ff9767",
   "metadata": {
    "Collapsed": "false"
   },
   "outputs": [
    {
     "data": {
      "text/html": [
       "<div><svg style=\"position: absolute; width: 0; height: 0; overflow: hidden\">\n",
       "<defs>\n",
       "<symbol id=\"icon-database\" viewBox=\"0 0 32 32\">\n",
       "<path d=\"M16 0c-8.837 0-16 2.239-16 5v4c0 2.761 7.163 5 16 5s16-2.239 16-5v-4c0-2.761-7.163-5-16-5z\"></path>\n",
       "<path d=\"M16 17c-8.837 0-16-2.239-16-5v6c0 2.761 7.163 5 16 5s16-2.239 16-5v-6c0 2.761-7.163 5-16 5z\"></path>\n",
       "<path d=\"M16 26c-8.837 0-16-2.239-16-5v6c0 2.761 7.163 5 16 5s16-2.239 16-5v-6c0 2.761-7.163 5-16 5z\"></path>\n",
       "</symbol>\n",
       "<symbol id=\"icon-file-text2\" viewBox=\"0 0 32 32\">\n",
       "<path d=\"M28.681 7.159c-0.694-0.947-1.662-2.053-2.724-3.116s-2.169-2.030-3.116-2.724c-1.612-1.182-2.393-1.319-2.841-1.319h-15.5c-1.378 0-2.5 1.121-2.5 2.5v27c0 1.378 1.122 2.5 2.5 2.5h23c1.378 0 2.5-1.122 2.5-2.5v-19.5c0-0.448-0.137-1.23-1.319-2.841zM24.543 5.457c0.959 0.959 1.712 1.825 2.268 2.543h-4.811v-4.811c0.718 0.556 1.584 1.309 2.543 2.268zM28 29.5c0 0.271-0.229 0.5-0.5 0.5h-23c-0.271 0-0.5-0.229-0.5-0.5v-27c0-0.271 0.229-0.5 0.5-0.5 0 0 15.499-0 15.5 0v7c0 0.552 0.448 1 1 1h7v19.5z\"></path>\n",
       "<path d=\"M23 26h-14c-0.552 0-1-0.448-1-1s0.448-1 1-1h14c0.552 0 1 0.448 1 1s-0.448 1-1 1z\"></path>\n",
       "<path d=\"M23 22h-14c-0.552 0-1-0.448-1-1s0.448-1 1-1h14c0.552 0 1 0.448 1 1s-0.448 1-1 1z\"></path>\n",
       "<path d=\"M23 18h-14c-0.552 0-1-0.448-1-1s0.448-1 1-1h14c0.552 0 1 0.448 1 1s-0.448 1-1 1z\"></path>\n",
       "</symbol>\n",
       "</defs>\n",
       "</svg>\n",
       "<style>/* CSS stylesheet for displaying xarray objects in jupyterlab.\n",
       " *\n",
       " */\n",
       "\n",
       ":root {\n",
       "  --xr-font-color0: var(--jp-content-font-color0, rgba(0, 0, 0, 1));\n",
       "  --xr-font-color2: var(--jp-content-font-color2, rgba(0, 0, 0, 0.54));\n",
       "  --xr-font-color3: var(--jp-content-font-color3, rgba(0, 0, 0, 0.38));\n",
       "  --xr-border-color: var(--jp-border-color2, #e0e0e0);\n",
       "  --xr-disabled-color: var(--jp-layout-color3, #bdbdbd);\n",
       "  --xr-background-color: var(--jp-layout-color0, white);\n",
       "  --xr-background-color-row-even: var(--jp-layout-color1, white);\n",
       "  --xr-background-color-row-odd: var(--jp-layout-color2, #eeeeee);\n",
       "}\n",
       "\n",
       "html[theme=dark],\n",
       "body.vscode-dark {\n",
       "  --xr-font-color0: rgba(255, 255, 255, 1);\n",
       "  --xr-font-color2: rgba(255, 255, 255, 0.54);\n",
       "  --xr-font-color3: rgba(255, 255, 255, 0.38);\n",
       "  --xr-border-color: #1F1F1F;\n",
       "  --xr-disabled-color: #515151;\n",
       "  --xr-background-color: #111111;\n",
       "  --xr-background-color-row-even: #111111;\n",
       "  --xr-background-color-row-odd: #313131;\n",
       "}\n",
       "\n",
       ".xr-wrap {\n",
       "  display: block;\n",
       "  min-width: 300px;\n",
       "  max-width: 700px;\n",
       "}\n",
       "\n",
       ".xr-text-repr-fallback {\n",
       "  /* fallback to plain text repr when CSS is not injected (untrusted notebook) */\n",
       "  display: none;\n",
       "}\n",
       "\n",
       ".xr-header {\n",
       "  padding-top: 6px;\n",
       "  padding-bottom: 6px;\n",
       "  margin-bottom: 4px;\n",
       "  border-bottom: solid 1px var(--xr-border-color);\n",
       "}\n",
       "\n",
       ".xr-header > div,\n",
       ".xr-header > ul {\n",
       "  display: inline;\n",
       "  margin-top: 0;\n",
       "  margin-bottom: 0;\n",
       "}\n",
       "\n",
       ".xr-obj-type,\n",
       ".xr-array-name {\n",
       "  margin-left: 2px;\n",
       "  margin-right: 10px;\n",
       "}\n",
       "\n",
       ".xr-obj-type {\n",
       "  color: var(--xr-font-color2);\n",
       "}\n",
       "\n",
       ".xr-sections {\n",
       "  padding-left: 0 !important;\n",
       "  display: grid;\n",
       "  grid-template-columns: 150px auto auto 1fr 20px 20px;\n",
       "}\n",
       "\n",
       ".xr-section-item {\n",
       "  display: contents;\n",
       "}\n",
       "\n",
       ".xr-section-item input {\n",
       "  display: none;\n",
       "}\n",
       "\n",
       ".xr-section-item input + label {\n",
       "  color: var(--xr-disabled-color);\n",
       "}\n",
       "\n",
       ".xr-section-item input:enabled + label {\n",
       "  cursor: pointer;\n",
       "  color: var(--xr-font-color2);\n",
       "}\n",
       "\n",
       ".xr-section-item input:enabled + label:hover {\n",
       "  color: var(--xr-font-color0);\n",
       "}\n",
       "\n",
       ".xr-section-summary {\n",
       "  grid-column: 1;\n",
       "  color: var(--xr-font-color2);\n",
       "  font-weight: 500;\n",
       "}\n",
       "\n",
       ".xr-section-summary > span {\n",
       "  display: inline-block;\n",
       "  padding-left: 0.5em;\n",
       "}\n",
       "\n",
       ".xr-section-summary-in:disabled + label {\n",
       "  color: var(--xr-font-color2);\n",
       "}\n",
       "\n",
       ".xr-section-summary-in + label:before {\n",
       "  display: inline-block;\n",
       "  content: '►';\n",
       "  font-size: 11px;\n",
       "  width: 15px;\n",
       "  text-align: center;\n",
       "}\n",
       "\n",
       ".xr-section-summary-in:disabled + label:before {\n",
       "  color: var(--xr-disabled-color);\n",
       "}\n",
       "\n",
       ".xr-section-summary-in:checked + label:before {\n",
       "  content: '▼';\n",
       "}\n",
       "\n",
       ".xr-section-summary-in:checked + label > span {\n",
       "  display: none;\n",
       "}\n",
       "\n",
       ".xr-section-summary,\n",
       ".xr-section-inline-details {\n",
       "  padding-top: 4px;\n",
       "  padding-bottom: 4px;\n",
       "}\n",
       "\n",
       ".xr-section-inline-details {\n",
       "  grid-column: 2 / -1;\n",
       "}\n",
       "\n",
       ".xr-section-details {\n",
       "  display: none;\n",
       "  grid-column: 1 / -1;\n",
       "  margin-bottom: 5px;\n",
       "}\n",
       "\n",
       ".xr-section-summary-in:checked ~ .xr-section-details {\n",
       "  display: contents;\n",
       "}\n",
       "\n",
       ".xr-array-wrap {\n",
       "  grid-column: 1 / -1;\n",
       "  display: grid;\n",
       "  grid-template-columns: 20px auto;\n",
       "}\n",
       "\n",
       ".xr-array-wrap > label {\n",
       "  grid-column: 1;\n",
       "  vertical-align: top;\n",
       "}\n",
       "\n",
       ".xr-preview {\n",
       "  color: var(--xr-font-color3);\n",
       "}\n",
       "\n",
       ".xr-array-preview,\n",
       ".xr-array-data {\n",
       "  padding: 0 5px !important;\n",
       "  grid-column: 2;\n",
       "}\n",
       "\n",
       ".xr-array-data,\n",
       ".xr-array-in:checked ~ .xr-array-preview {\n",
       "  display: none;\n",
       "}\n",
       "\n",
       ".xr-array-in:checked ~ .xr-array-data,\n",
       ".xr-array-preview {\n",
       "  display: inline-block;\n",
       "}\n",
       "\n",
       ".xr-dim-list {\n",
       "  display: inline-block !important;\n",
       "  list-style: none;\n",
       "  padding: 0 !important;\n",
       "  margin: 0;\n",
       "}\n",
       "\n",
       ".xr-dim-list li {\n",
       "  display: inline-block;\n",
       "  padding: 0;\n",
       "  margin: 0;\n",
       "}\n",
       "\n",
       ".xr-dim-list:before {\n",
       "  content: '(';\n",
       "}\n",
       "\n",
       ".xr-dim-list:after {\n",
       "  content: ')';\n",
       "}\n",
       "\n",
       ".xr-dim-list li:not(:last-child):after {\n",
       "  content: ',';\n",
       "  padding-right: 5px;\n",
       "}\n",
       "\n",
       ".xr-has-index {\n",
       "  font-weight: bold;\n",
       "}\n",
       "\n",
       ".xr-var-list,\n",
       ".xr-var-item {\n",
       "  display: contents;\n",
       "}\n",
       "\n",
       ".xr-var-item > div,\n",
       ".xr-var-item label,\n",
       ".xr-var-item > .xr-var-name span {\n",
       "  background-color: var(--xr-background-color-row-even);\n",
       "  margin-bottom: 0;\n",
       "}\n",
       "\n",
       ".xr-var-item > .xr-var-name:hover span {\n",
       "  padding-right: 5px;\n",
       "}\n",
       "\n",
       ".xr-var-list > li:nth-child(odd) > div,\n",
       ".xr-var-list > li:nth-child(odd) > label,\n",
       ".xr-var-list > li:nth-child(odd) > .xr-var-name span {\n",
       "  background-color: var(--xr-background-color-row-odd);\n",
       "}\n",
       "\n",
       ".xr-var-name {\n",
       "  grid-column: 1;\n",
       "}\n",
       "\n",
       ".xr-var-dims {\n",
       "  grid-column: 2;\n",
       "}\n",
       "\n",
       ".xr-var-dtype {\n",
       "  grid-column: 3;\n",
       "  text-align: right;\n",
       "  color: var(--xr-font-color2);\n",
       "}\n",
       "\n",
       ".xr-var-preview {\n",
       "  grid-column: 4;\n",
       "}\n",
       "\n",
       ".xr-var-name,\n",
       ".xr-var-dims,\n",
       ".xr-var-dtype,\n",
       ".xr-preview,\n",
       ".xr-attrs dt {\n",
       "  white-space: nowrap;\n",
       "  overflow: hidden;\n",
       "  text-overflow: ellipsis;\n",
       "  padding-right: 10px;\n",
       "}\n",
       "\n",
       ".xr-var-name:hover,\n",
       ".xr-var-dims:hover,\n",
       ".xr-var-dtype:hover,\n",
       ".xr-attrs dt:hover {\n",
       "  overflow: visible;\n",
       "  width: auto;\n",
       "  z-index: 1;\n",
       "}\n",
       "\n",
       ".xr-var-attrs,\n",
       ".xr-var-data {\n",
       "  display: none;\n",
       "  background-color: var(--xr-background-color) !important;\n",
       "  padding-bottom: 5px !important;\n",
       "}\n",
       "\n",
       ".xr-var-attrs-in:checked ~ .xr-var-attrs,\n",
       ".xr-var-data-in:checked ~ .xr-var-data {\n",
       "  display: block;\n",
       "}\n",
       "\n",
       ".xr-var-data > table {\n",
       "  float: right;\n",
       "}\n",
       "\n",
       ".xr-var-name span,\n",
       ".xr-var-data,\n",
       ".xr-attrs {\n",
       "  padding-left: 25px !important;\n",
       "}\n",
       "\n",
       ".xr-attrs,\n",
       ".xr-var-attrs,\n",
       ".xr-var-data {\n",
       "  grid-column: 1 / -1;\n",
       "}\n",
       "\n",
       "dl.xr-attrs {\n",
       "  padding: 0;\n",
       "  margin: 0;\n",
       "  display: grid;\n",
       "  grid-template-columns: 125px auto;\n",
       "}\n",
       "\n",
       ".xr-attrs dt,\n",
       ".xr-attrs dd {\n",
       "  padding: 0;\n",
       "  margin: 0;\n",
       "  float: left;\n",
       "  padding-right: 10px;\n",
       "  width: auto;\n",
       "}\n",
       "\n",
       ".xr-attrs dt {\n",
       "  font-weight: normal;\n",
       "  grid-column: 1;\n",
       "}\n",
       "\n",
       ".xr-attrs dt:hover span {\n",
       "  display: inline-block;\n",
       "  background: var(--xr-background-color);\n",
       "  padding-right: 10px;\n",
       "}\n",
       "\n",
       ".xr-attrs dd {\n",
       "  grid-column: 2;\n",
       "  white-space: pre-wrap;\n",
       "  word-break: break-all;\n",
       "}\n",
       "\n",
       ".xr-icon-database,\n",
       ".xr-icon-file-text2 {\n",
       "  display: inline-block;\n",
       "  vertical-align: middle;\n",
       "  width: 1em;\n",
       "  height: 1.5em !important;\n",
       "  stroke-width: 0;\n",
       "  stroke: currentColor;\n",
       "  fill: currentColor;\n",
       "}\n",
       "</style><pre class='xr-text-repr-fallback'>&lt;xarray.DataArray &#x27;valid_time&#x27; (valid_time: 3)&gt;\n",
       "array([&#x27;2020-01-01T12:00:00.000000000&#x27;, &#x27;2020-01-02T00:00:00.000000000&#x27;,\n",
       "       &#x27;2020-01-02T12:00:00.000000000&#x27;], dtype=&#x27;datetime64[ns]&#x27;)\n",
       "Coordinates:\n",
       "    lead_time   timedelta64[ns] 12:00:00\n",
       "    variable    &lt;U2 &#x27;tp&#x27;\n",
       "  * valid_time  (valid_time) datetime64[ns] 2020-01-01T12:00:00 ... 2020-01-0...</pre><div class='xr-wrap' hidden><div class='xr-header'><div class='xr-obj-type'>xarray.DataArray</div><div class='xr-array-name'>'valid_time'</div><ul class='xr-dim-list'><li><span class='xr-has-index'>valid_time</span>: 3</li></ul></div><ul class='xr-sections'><li class='xr-section-item'><div class='xr-array-wrap'><input id='section-719621dd-c144-47e6-8c70-4d2877d9f920' class='xr-array-in' type='checkbox' checked><label for='section-719621dd-c144-47e6-8c70-4d2877d9f920' title='Show/hide data repr'><svg class='icon xr-icon-database'><use xlink:href='#icon-database'></use></svg></label><div class='xr-array-preview xr-preview'><span>2020-01-01T12:00:00 2020-01-02 2020-01-02T12:00:00</span></div><div class='xr-array-data'><pre>array([&#x27;2020-01-01T12:00:00.000000000&#x27;, &#x27;2020-01-02T00:00:00.000000000&#x27;,\n",
       "       &#x27;2020-01-02T12:00:00.000000000&#x27;], dtype=&#x27;datetime64[ns]&#x27;)</pre></div></div></li><li class='xr-section-item'><input id='section-c3c4da69-cf06-49ab-9a77-68ec8dd97b89' class='xr-section-summary-in' type='checkbox'  checked><label for='section-c3c4da69-cf06-49ab-9a77-68ec8dd97b89' class='xr-section-summary' >Coordinates: <span>(3)</span></label><div class='xr-section-inline-details'></div><div class='xr-section-details'><ul class='xr-var-list'><li class='xr-var-item'><div class='xr-var-name'><span>lead_time</span></div><div class='xr-var-dims'>()</div><div class='xr-var-dtype'>timedelta64[ns]</div><div class='xr-var-preview xr-preview'>12:00:00</div><input id='attrs-fd3ef5dc-6405-40c9-a3d7-bfffda29d896' class='xr-var-attrs-in' type='checkbox' ><label for='attrs-fd3ef5dc-6405-40c9-a3d7-bfffda29d896' title='Show/Hide attributes'><svg class='icon xr-icon-file-text2'><use xlink:href='#icon-file-text2'></use></svg></label><input id='data-93f58cf1-6173-4912-aedd-2767844a7e99' class='xr-var-data-in' type='checkbox'><label for='data-93f58cf1-6173-4912-aedd-2767844a7e99' title='Show/Hide data repr'><svg class='icon xr-icon-database'><use xlink:href='#icon-database'></use></svg></label><div class='xr-var-attrs'><dl class='xr-attrs'><dt><span>long_name :</span></dt><dd>Forecast offset from initial time</dd></dl></div><div class='xr-var-data'><pre>array(43200000000000, dtype=&#x27;timedelta64[ns]&#x27;)</pre></div></li><li class='xr-var-item'><div class='xr-var-name'><span>variable</span></div><div class='xr-var-dims'>()</div><div class='xr-var-dtype'>&lt;U2</div><div class='xr-var-preview xr-preview'>&#x27;tp&#x27;</div><input id='attrs-3e3da012-48ff-4bb4-8c80-777ab2ed8515' class='xr-var-attrs-in' type='checkbox' disabled><label for='attrs-3e3da012-48ff-4bb4-8c80-777ab2ed8515' title='Show/Hide attributes'><svg class='icon xr-icon-file-text2'><use xlink:href='#icon-file-text2'></use></svg></label><input id='data-8cc3b312-3676-4b33-ae4f-0c36497d117a' class='xr-var-data-in' type='checkbox'><label for='data-8cc3b312-3676-4b33-ae4f-0c36497d117a' title='Show/Hide data repr'><svg class='icon xr-icon-database'><use xlink:href='#icon-database'></use></svg></label><div class='xr-var-attrs'><dl class='xr-attrs'></dl></div><div class='xr-var-data'><pre>array(&#x27;tp&#x27;, dtype=&#x27;&lt;U2&#x27;)</pre></div></li><li class='xr-var-item'><div class='xr-var-name'><span class='xr-has-index'>valid_time</span></div><div class='xr-var-dims'>(valid_time)</div><div class='xr-var-dtype'>datetime64[ns]</div><div class='xr-var-preview xr-preview'>2020-01-01T12:00:00 ... 2020-01-...</div><input id='attrs-6a46b53c-443d-4045-9932-1867c2e03264' class='xr-var-attrs-in' type='checkbox' disabled><label for='attrs-6a46b53c-443d-4045-9932-1867c2e03264' title='Show/Hide attributes'><svg class='icon xr-icon-file-text2'><use xlink:href='#icon-file-text2'></use></svg></label><input id='data-50673b4a-243c-46cb-b67a-a945f9296fa7' class='xr-var-data-in' type='checkbox'><label for='data-50673b4a-243c-46cb-b67a-a945f9296fa7' title='Show/Hide data repr'><svg class='icon xr-icon-database'><use xlink:href='#icon-database'></use></svg></label><div class='xr-var-attrs'><dl class='xr-attrs'></dl></div><div class='xr-var-data'><pre>array([&#x27;2020-01-01T12:00:00.000000000&#x27;, &#x27;2020-01-02T00:00:00.000000000&#x27;,\n",
       "       &#x27;2020-01-02T12:00:00.000000000&#x27;], dtype=&#x27;datetime64[ns]&#x27;)</pre></div></li></ul></div></li><li class='xr-section-item'><input id='section-40740ea8-e648-473a-b26c-1995c6aeec8b' class='xr-section-summary-in' type='checkbox' disabled ><label for='section-40740ea8-e648-473a-b26c-1995c6aeec8b' class='xr-section-summary'  title='Expand/collapse section'>Attributes: <span>(0)</span></label><div class='xr-section-inline-details'></div><div class='xr-section-details'><dl class='xr-attrs'></dl></div></li></ul></div></div>"
      ],
      "text/plain": [
       "<xarray.DataArray 'valid_time' (valid_time: 3)>\n",
       "array(['2020-01-01T12:00:00.000000000', '2020-01-02T00:00:00.000000000',\n",
       "       '2020-01-02T12:00:00.000000000'], dtype='datetime64[ns]')\n",
       "Coordinates:\n",
       "    lead_time   timedelta64[ns] 12:00:00\n",
       "    variable    <U2 'tp'\n",
       "  * valid_time  (valid_time) datetime64[ns] 2020-01-01T12:00:00 ... 2020-01-0..."
      ]
     },
     "execution_count": 30,
     "metadata": {},
     "output_type": "execute_result"
    }
   ],
   "source": [
    "interp.valid_time"
   ]
  },
  {
   "cell_type": "code",
   "execution_count": 29,
   "id": "387422d2",
   "metadata": {
    "Collapsed": "false"
   },
   "outputs": [
    {
     "ename": "KeyError",
     "evalue": "\"not all values found in index 'valid_time'\"",
     "output_type": "error",
     "traceback": [
      "\u001b[0;31m---------------------------------------------------------------------------\u001b[0m",
      "\u001b[0;31mKeyError\u001b[0m                                  Traceback (most recent call last)",
      "\u001b[0;32m<ipython-input-29-5c1483c658ea>\u001b[0m in \u001b[0;36m<module>\u001b[0;34m\u001b[0m\n\u001b[0;32m----> 1\u001b[0;31m \u001b[0mhref\u001b[0m \u001b[0;34m=\u001b[0m \u001b[0mhref\u001b[0m\u001b[0;34m.\u001b[0m\u001b[0msel\u001b[0m\u001b[0;34m(\u001b[0m\u001b[0mvalid_time\u001b[0m\u001b[0;34m=\u001b[0m\u001b[0minterp\u001b[0m\u001b[0;34m.\u001b[0m\u001b[0mvalid_time\u001b[0m\u001b[0;34m)\u001b[0m\u001b[0;34m\u001b[0m\u001b[0;34m\u001b[0m\u001b[0m\n\u001b[0m",
      "\u001b[0;32m/opt/conda/envs/ilan/lib/python3.9/site-packages/xarray/core/dataarray.py\u001b[0m in \u001b[0;36msel\u001b[0;34m(self, indexers, method, tolerance, drop, **indexers_kwargs)\u001b[0m\n\u001b[1;32m   1269\u001b[0m         \u001b[0mDimensions\u001b[0m \u001b[0mwithout\u001b[0m \u001b[0mcoordinates\u001b[0m\u001b[0;34m:\u001b[0m \u001b[0mpoints\u001b[0m\u001b[0;34m\u001b[0m\u001b[0;34m\u001b[0m\u001b[0m\n\u001b[1;32m   1270\u001b[0m         \"\"\"\n\u001b[0;32m-> 1271\u001b[0;31m         ds = self._to_temp_dataset().sel(\n\u001b[0m\u001b[1;32m   1272\u001b[0m             \u001b[0mindexers\u001b[0m\u001b[0;34m=\u001b[0m\u001b[0mindexers\u001b[0m\u001b[0;34m,\u001b[0m\u001b[0;34m\u001b[0m\u001b[0;34m\u001b[0m\u001b[0m\n\u001b[1;32m   1273\u001b[0m             \u001b[0mdrop\u001b[0m\u001b[0;34m=\u001b[0m\u001b[0mdrop\u001b[0m\u001b[0;34m,\u001b[0m\u001b[0;34m\u001b[0m\u001b[0;34m\u001b[0m\u001b[0m\n",
      "\u001b[0;32m/opt/conda/envs/ilan/lib/python3.9/site-packages/xarray/core/dataset.py\u001b[0m in \u001b[0;36msel\u001b[0;34m(self, indexers, method, tolerance, drop, **indexers_kwargs)\u001b[0m\n\u001b[1;32m   2363\u001b[0m         \"\"\"\n\u001b[1;32m   2364\u001b[0m         \u001b[0mindexers\u001b[0m \u001b[0;34m=\u001b[0m \u001b[0meither_dict_or_kwargs\u001b[0m\u001b[0;34m(\u001b[0m\u001b[0mindexers\u001b[0m\u001b[0;34m,\u001b[0m \u001b[0mindexers_kwargs\u001b[0m\u001b[0;34m,\u001b[0m \u001b[0;34m\"sel\"\u001b[0m\u001b[0;34m)\u001b[0m\u001b[0;34m\u001b[0m\u001b[0;34m\u001b[0m\u001b[0m\n\u001b[0;32m-> 2365\u001b[0;31m         pos_indexers, new_indexes = remap_label_indexers(\n\u001b[0m\u001b[1;32m   2366\u001b[0m             \u001b[0mself\u001b[0m\u001b[0;34m,\u001b[0m \u001b[0mindexers\u001b[0m\u001b[0;34m=\u001b[0m\u001b[0mindexers\u001b[0m\u001b[0;34m,\u001b[0m \u001b[0mmethod\u001b[0m\u001b[0;34m=\u001b[0m\u001b[0mmethod\u001b[0m\u001b[0;34m,\u001b[0m \u001b[0mtolerance\u001b[0m\u001b[0;34m=\u001b[0m\u001b[0mtolerance\u001b[0m\u001b[0;34m\u001b[0m\u001b[0;34m\u001b[0m\u001b[0m\n\u001b[1;32m   2367\u001b[0m         )\n",
      "\u001b[0;32m/opt/conda/envs/ilan/lib/python3.9/site-packages/xarray/core/coordinates.py\u001b[0m in \u001b[0;36mremap_label_indexers\u001b[0;34m(obj, indexers, method, tolerance, **indexers_kwargs)\u001b[0m\n\u001b[1;32m    419\u001b[0m     }\n\u001b[1;32m    420\u001b[0m \u001b[0;34m\u001b[0m\u001b[0m\n\u001b[0;32m--> 421\u001b[0;31m     pos_indexers, new_indexes = indexing.remap_label_indexers(\n\u001b[0m\u001b[1;32m    422\u001b[0m         \u001b[0mobj\u001b[0m\u001b[0;34m,\u001b[0m \u001b[0mv_indexers\u001b[0m\u001b[0;34m,\u001b[0m \u001b[0mmethod\u001b[0m\u001b[0;34m=\u001b[0m\u001b[0mmethod\u001b[0m\u001b[0;34m,\u001b[0m \u001b[0mtolerance\u001b[0m\u001b[0;34m=\u001b[0m\u001b[0mtolerance\u001b[0m\u001b[0;34m\u001b[0m\u001b[0;34m\u001b[0m\u001b[0m\n\u001b[1;32m    423\u001b[0m     )\n",
      "\u001b[0;32m/opt/conda/envs/ilan/lib/python3.9/site-packages/xarray/core/indexing.py\u001b[0m in \u001b[0;36mremap_label_indexers\u001b[0;34m(data_obj, indexers, method, tolerance)\u001b[0m\n\u001b[1;32m    272\u001b[0m             \u001b[0mcoords_dtype\u001b[0m \u001b[0;34m=\u001b[0m \u001b[0mdata_obj\u001b[0m\u001b[0;34m.\u001b[0m\u001b[0mcoords\u001b[0m\u001b[0;34m[\u001b[0m\u001b[0mdim\u001b[0m\u001b[0;34m]\u001b[0m\u001b[0;34m.\u001b[0m\u001b[0mdtype\u001b[0m\u001b[0;34m\u001b[0m\u001b[0;34m\u001b[0m\u001b[0m\n\u001b[1;32m    273\u001b[0m             \u001b[0mlabel\u001b[0m \u001b[0;34m=\u001b[0m \u001b[0mmaybe_cast_to_coords_dtype\u001b[0m\u001b[0;34m(\u001b[0m\u001b[0mlabel\u001b[0m\u001b[0;34m,\u001b[0m \u001b[0mcoords_dtype\u001b[0m\u001b[0;34m)\u001b[0m\u001b[0;34m\u001b[0m\u001b[0;34m\u001b[0m\u001b[0m\n\u001b[0;32m--> 274\u001b[0;31m             \u001b[0midxr\u001b[0m\u001b[0;34m,\u001b[0m \u001b[0mnew_idx\u001b[0m \u001b[0;34m=\u001b[0m \u001b[0mconvert_label_indexer\u001b[0m\u001b[0;34m(\u001b[0m\u001b[0mindex\u001b[0m\u001b[0;34m,\u001b[0m \u001b[0mlabel\u001b[0m\u001b[0;34m,\u001b[0m \u001b[0mdim\u001b[0m\u001b[0;34m,\u001b[0m \u001b[0mmethod\u001b[0m\u001b[0;34m,\u001b[0m \u001b[0mtolerance\u001b[0m\u001b[0;34m)\u001b[0m\u001b[0;34m\u001b[0m\u001b[0;34m\u001b[0m\u001b[0m\n\u001b[0m\u001b[1;32m    275\u001b[0m             \u001b[0mpos_indexers\u001b[0m\u001b[0;34m[\u001b[0m\u001b[0mdim\u001b[0m\u001b[0;34m]\u001b[0m \u001b[0;34m=\u001b[0m \u001b[0midxr\u001b[0m\u001b[0;34m\u001b[0m\u001b[0;34m\u001b[0m\u001b[0m\n\u001b[1;32m    276\u001b[0m             \u001b[0;32mif\u001b[0m \u001b[0mnew_idx\u001b[0m \u001b[0;32mis\u001b[0m \u001b[0;32mnot\u001b[0m \u001b[0;32mNone\u001b[0m\u001b[0;34m:\u001b[0m\u001b[0;34m\u001b[0m\u001b[0;34m\u001b[0m\u001b[0m\n",
      "\u001b[0;32m/opt/conda/envs/ilan/lib/python3.9/site-packages/xarray/core/indexing.py\u001b[0m in \u001b[0;36mconvert_label_indexer\u001b[0;34m(index, label, index_name, method, tolerance)\u001b[0m\n\u001b[1;32m    200\u001b[0m             \u001b[0mindexer\u001b[0m \u001b[0;34m=\u001b[0m \u001b[0mget_indexer_nd\u001b[0m\u001b[0;34m(\u001b[0m\u001b[0mindex\u001b[0m\u001b[0;34m,\u001b[0m \u001b[0mlabel\u001b[0m\u001b[0;34m,\u001b[0m \u001b[0mmethod\u001b[0m\u001b[0;34m,\u001b[0m \u001b[0mtolerance\u001b[0m\u001b[0;34m)\u001b[0m\u001b[0;34m\u001b[0m\u001b[0;34m\u001b[0m\u001b[0m\n\u001b[1;32m    201\u001b[0m             \u001b[0;32mif\u001b[0m \u001b[0mnp\u001b[0m\u001b[0;34m.\u001b[0m\u001b[0many\u001b[0m\u001b[0;34m(\u001b[0m\u001b[0mindexer\u001b[0m \u001b[0;34m<\u001b[0m \u001b[0;36m0\u001b[0m\u001b[0;34m)\u001b[0m\u001b[0;34m:\u001b[0m\u001b[0;34m\u001b[0m\u001b[0;34m\u001b[0m\u001b[0m\n\u001b[0;32m--> 202\u001b[0;31m                 \u001b[0;32mraise\u001b[0m \u001b[0mKeyError\u001b[0m\u001b[0;34m(\u001b[0m\u001b[0;34mf\"not all values found in index {index_name!r}\"\u001b[0m\u001b[0;34m)\u001b[0m\u001b[0;34m\u001b[0m\u001b[0;34m\u001b[0m\u001b[0m\n\u001b[0m\u001b[1;32m    203\u001b[0m \u001b[0;34m\u001b[0m\u001b[0m\n\u001b[1;32m    204\u001b[0m     \u001b[0;32mif\u001b[0m \u001b[0mnew_index\u001b[0m \u001b[0;32mis\u001b[0m \u001b[0;32mnot\u001b[0m \u001b[0;32mNone\u001b[0m\u001b[0;34m:\u001b[0m\u001b[0;34m\u001b[0m\u001b[0;34m\u001b[0m\u001b[0m\n",
      "\u001b[0;31mKeyError\u001b[0m: \"not all values found in index 'valid_time'\""
     ]
    }
   ],
   "source": [
    "href = href.sel(valid_time=interp.valid_time)"
   ]
  },
  {
   "cell_type": "code",
   "execution_count": null,
   "id": "329fd11c",
   "metadata": {
    "Collapsed": "false"
   },
   "outputs": [],
   "source": []
  },
  {
   "cell_type": "markdown",
   "id": "075680c0",
   "metadata": {
    "Collapsed": "false"
   },
   "source": [
    "## Get mask"
   ]
  },
  {
   "cell_type": "code",
   "execution_count": 32,
   "id": "227df21e",
   "metadata": {
    "Collapsed": "false"
   },
   "outputs": [],
   "source": [
    "ds = xr.open_dataset(\n",
    "    '/home/jupyter/data/hrrr/raw/total_precipitation/20180215_00.nc')"
   ]
  },
  {
   "cell_type": "code",
   "execution_count": 33,
   "id": "1199b092",
   "metadata": {
    "Collapsed": "false"
   },
   "outputs": [],
   "source": [
    "from src.regrid import *"
   ]
  },
  {
   "cell_type": "code",
   "execution_count": 34,
   "id": "8e8c8ed9",
   "metadata": {
    "Collapsed": "false"
   },
   "outputs": [
    {
     "name": "stderr",
     "output_type": "stream",
     "text": [
      "/opt/conda/envs/ilan/lib/python3.9/site-packages/xesmf/frontend.py:555: FutureWarning: ``output_sizes`` should be given in the ``dask_gufunc_kwargs`` parameter. It will be removed as direct parameter in a future version.\n",
      "  ds_out = xr.apply_ufunc(\n"
     ]
    }
   ],
   "source": [
    "ds_regridded = regrid(ds, 4, lons=(235, 290), lats=(50, 20))"
   ]
  },
  {
   "cell_type": "code",
   "execution_count": 35,
   "id": "bcab2e42",
   "metadata": {
    "Collapsed": "false"
   },
   "outputs": [],
   "source": [
    "hrrr_mask = np.isfinite(ds_regridded).tp.isel(init_time=0, lead_time=0)"
   ]
  },
  {
   "cell_type": "code",
   "execution_count": 36,
   "id": "0579205e",
   "metadata": {
    "Collapsed": "false"
   },
   "outputs": [],
   "source": [
    "rq = xr.open_dataarray(f'{DATADRIVE}/mrms/4km/RadarQuality.nc')\n",
    "mrms_mask = rq>-1\n",
    "mrms_mask = mrms_mask.assign_coords({\n",
    "    'lat': hrrr_mask.lat,\n",
    "    'lon': hrrr_mask.lon\n",
    "})"
   ]
  },
  {
   "cell_type": "code",
   "execution_count": 37,
   "id": "d46c9657",
   "metadata": {
    "Collapsed": "false"
   },
   "outputs": [],
   "source": [
    "total_mask = mrms_mask * hrrr_mask"
   ]
  },
  {
   "cell_type": "code",
   "execution_count": 38,
   "id": "c7e3250a",
   "metadata": {
    "Collapsed": "false"
   },
   "outputs": [],
   "source": [
    "total_mask = total_mask.isel(lat=slice(0, -6))"
   ]
  },
  {
   "cell_type": "code",
   "execution_count": 39,
   "id": "af85baf7",
   "metadata": {
    "Collapsed": "false"
   },
   "outputs": [],
   "source": [
    "total_mask = total_mask.assign_coords({'lat': interp.lat.values, 'lon': interp.lon.values})"
   ]
  },
  {
   "cell_type": "code",
   "execution_count": 40,
   "id": "171e22ca",
   "metadata": {
    "Collapsed": "false"
   },
   "outputs": [
    {
     "data": {
      "text/plain": [
       "<matplotlib.collections.QuadMesh at 0x7f8b7ee230d0>"
      ]
     },
     "execution_count": 40,
     "metadata": {},
     "output_type": "execute_result"
    },
    {
     "data": {
      "image/png": "[encoded data removed]",
      "text/plain": [
       "<Figure size 432x288 with 2 Axes>"
      ]
     },
     "metadata": {
      "needs_background": "light"
     },
     "output_type": "display_data"
    }
   ],
   "source": [
    "total_mask.plot()"
   ]
  },
  {
   "cell_type": "markdown",
   "id": "4b553aae",
   "metadata": {
    "Collapsed": "false"
   },
   "source": [
    "## Compute scores"
   ]
  },
  {
   "cell_type": "code",
   "execution_count": 41,
   "id": "8d9311ff",
   "metadata": {
    "Collapsed": "false"
   },
   "outputs": [],
   "source": [
    "hrrr = hrrr.isel(lat=slice(0, -6))"
   ]
  },
  {
   "cell_type": "code",
   "execution_count": 42,
   "id": "e577e9e3",
   "metadata": {
    "Collapsed": "false"
   },
   "outputs": [],
   "source": [
    "hrrr = hrrr.assign_coords({'lat': interp.lat.values, 'lon': interp.lon.values})"
   ]
  },
  {
   "cell_type": "code",
   "execution_count": 43,
   "id": "3598872c",
   "metadata": {
    "Collapsed": "false"
   },
   "outputs": [],
   "source": [
    "# Apply mask\n",
    "mrms = mrms.where(total_mask)\n",
    "det_pred = det_pred.where(total_mask)\n",
    "hrrr = hrrr.where(total_mask)\n",
    "interp = interp.where(total_mask)"
   ]
  },
  {
   "cell_type": "code",
   "execution_count": 44,
   "id": "71bc0701",
   "metadata": {
    "Collapsed": "false"
   },
   "outputs": [
    {
     "data": {
      "text/html": [
       "<div><svg style=\"position: absolute; width: 0; height: 0; overflow: hidden\">\n",
       "<defs>\n",
       "<symbol id=\"icon-database\" viewBox=\"0 0 32 32\">\n",
       "<path d=\"M16 0c-8.837 0-16 2.239-16 5v4c0 2.761 7.163 5 16 5s16-2.239 16-5v-4c0-2.761-7.163-5-16-5z\"></path>\n",
       "<path d=\"M16 17c-8.837 0-16-2.239-16-5v6c0 2.761 7.163 5 16 5s16-2.239 16-5v-6c0 2.761-7.163 5-16 5z\"></path>\n",
       "<path d=\"M16 26c-8.837 0-16-2.239-16-5v6c0 2.761 7.163 5 16 5s16-2.239 16-5v-6c0 2.761-7.163 5-16 5z\"></path>\n",
       "</symbol>\n",
       "<symbol id=\"icon-file-text2\" viewBox=\"0 0 32 32\">\n",
       "<path d=\"M28.681 7.159c-0.694-0.947-1.662-2.053-2.724-3.116s-2.169-2.030-3.116-2.724c-1.612-1.182-2.393-1.319-2.841-1.319h-15.5c-1.378 0-2.5 1.121-2.5 2.5v27c0 1.378 1.122 2.5 2.5 2.5h23c1.378 0 2.5-1.122 2.5-2.5v-19.5c0-0.448-0.137-1.23-1.319-2.841zM24.543 5.457c0.959 0.959 1.712 1.825 2.268 2.543h-4.811v-4.811c0.718 0.556 1.584 1.309 2.543 2.268zM28 29.5c0 0.271-0.229 0.5-0.5 0.5h-23c-0.271 0-0.5-0.229-0.5-0.5v-27c0-0.271 0.229-0.5 0.5-0.5 0 0 15.499-0 15.5 0v7c0 0.552 0.448 1 1 1h7v19.5z\"></path>\n",
       "<path d=\"M23 26h-14c-0.552 0-1-0.448-1-1s0.448-1 1-1h14c0.552 0 1 0.448 1 1s-0.448 1-1 1z\"></path>\n",
       "<path d=\"M23 22h-14c-0.552 0-1-0.448-1-1s0.448-1 1-1h14c0.552 0 1 0.448 1 1s-0.448 1-1 1z\"></path>\n",
       "<path d=\"M23 18h-14c-0.552 0-1-0.448-1-1s0.448-1 1-1h14c0.552 0 1 0.448 1 1s-0.448 1-1 1z\"></path>\n",
       "</symbol>\n",
       "</defs>\n",
       "</svg>\n",
       "<style>/* CSS stylesheet for displaying xarray objects in jupyterlab.\n",
       " *\n",
       " */\n",
       "\n",
       ":root {\n",
       "  --xr-font-color0: var(--jp-content-font-color0, rgba(0, 0, 0, 1));\n",
       "  --xr-font-color2: var(--jp-content-font-color2, rgba(0, 0, 0, 0.54));\n",
       "  --xr-font-color3: var(--jp-content-font-color3, rgba(0, 0, 0, 0.38));\n",
       "  --xr-border-color: var(--jp-border-color2, #e0e0e0);\n",
       "  --xr-disabled-color: var(--jp-layout-color3, #bdbdbd);\n",
       "  --xr-background-color: var(--jp-layout-color0, white);\n",
       "  --xr-background-color-row-even: var(--jp-layout-color1, white);\n",
       "  --xr-background-color-row-odd: var(--jp-layout-color2, #eeeeee);\n",
       "}\n",
       "\n",
       "html[theme=dark],\n",
       "body.vscode-dark {\n",
       "  --xr-font-color0: rgba(255, 255, 255, 1);\n",
       "  --xr-font-color2: rgba(255, 255, 255, 0.54);\n",
       "  --xr-font-color3: rgba(255, 255, 255, 0.38);\n",
       "  --xr-border-color: #1F1F1F;\n",
       "  --xr-disabled-color: #515151;\n",
       "  --xr-background-color: #111111;\n",
       "  --xr-background-color-row-even: #111111;\n",
       "  --xr-background-color-row-odd: #313131;\n",
       "}\n",
       "\n",
       ".xr-wrap {\n",
       "  display: block;\n",
       "  min-width: 300px;\n",
       "  max-width: 700px;\n",
       "}\n",
       "\n",
       ".xr-text-repr-fallback {\n",
       "  /* fallback to plain text repr when CSS is not injected (untrusted notebook) */\n",
       "  display: none;\n",
       "}\n",
       "\n",
       ".xr-header {\n",
       "  padding-top: 6px;\n",
       "  padding-bottom: 6px;\n",
       "  margin-bottom: 4px;\n",
       "  border-bottom: solid 1px var(--xr-border-color);\n",
       "}\n",
       "\n",
       ".xr-header > div,\n",
       ".xr-header > ul {\n",
       "  display: inline;\n",
       "  margin-top: 0;\n",
       "  margin-bottom: 0;\n",
       "}\n",
       "\n",
       ".xr-obj-type,\n",
       ".xr-array-name {\n",
       "  margin-left: 2px;\n",
       "  margin-right: 10px;\n",
       "}\n",
       "\n",
       ".xr-obj-type {\n",
       "  color: var(--xr-font-color2);\n",
       "}\n",
       "\n",
       ".xr-sections {\n",
       "  padding-left: 0 !important;\n",
       "  display: grid;\n",
       "  grid-template-columns: 150px auto auto 1fr 20px 20px;\n",
       "}\n",
       "\n",
       ".xr-section-item {\n",
       "  display: contents;\n",
       "}\n",
       "\n",
       ".xr-section-item input {\n",
       "  display: none;\n",
       "}\n",
       "\n",
       ".xr-section-item input + label {\n",
       "  color: var(--xr-disabled-color);\n",
       "}\n",
       "\n",
       ".xr-section-item input:enabled + label {\n",
       "  cursor: pointer;\n",
       "  color: var(--xr-font-color2);\n",
       "}\n",
       "\n",
       ".xr-section-item input:enabled + label:hover {\n",
       "  color: var(--xr-font-color0);\n",
       "}\n",
       "\n",
       ".xr-section-summary {\n",
       "  grid-column: 1;\n",
       "  color: var(--xr-font-color2);\n",
       "  font-weight: 500;\n",
       "}\n",
       "\n",
       ".xr-section-summary > span {\n",
       "  display: inline-block;\n",
       "  padding-left: 0.5em;\n",
       "}\n",
       "\n",
       ".xr-section-summary-in:disabled + label {\n",
       "  color: var(--xr-font-color2);\n",
       "}\n",
       "\n",
       ".xr-section-summary-in + label:before {\n",
       "  display: inline-block;\n",
       "  content: '►';\n",
       "  font-size: 11px;\n",
       "  width: 15px;\n",
       "  text-align: center;\n",
       "}\n",
       "\n",
       ".xr-section-summary-in:disabled + label:before {\n",
       "  color: var(--xr-disabled-color);\n",
       "}\n",
       "\n",
       ".xr-section-summary-in:checked + label:before {\n",
       "  content: '▼';\n",
       "}\n",
       "\n",
       ".xr-section-summary-in:checked + label > span {\n",
       "  display: none;\n",
       "}\n",
       "\n",
       ".xr-section-summary,\n",
       ".xr-section-inline-details {\n",
       "  padding-top: 4px;\n",
       "  padding-bottom: 4px;\n",
       "}\n",
       "\n",
       ".xr-section-inline-details {\n",
       "  grid-column: 2 / -1;\n",
       "}\n",
       "\n",
       ".xr-section-details {\n",
       "  display: none;\n",
       "  grid-column: 1 / -1;\n",
       "  margin-bottom: 5px;\n",
       "}\n",
       "\n",
       ".xr-section-summary-in:checked ~ .xr-section-details {\n",
       "  display: contents;\n",
       "}\n",
       "\n",
       ".xr-array-wrap {\n",
       "  grid-column: 1 / -1;\n",
       "  display: grid;\n",
       "  grid-template-columns: 20px auto;\n",
       "}\n",
       "\n",
       ".xr-array-wrap > label {\n",
       "  grid-column: 1;\n",
       "  vertical-align: top;\n",
       "}\n",
       "\n",
       ".xr-preview {\n",
       "  color: var(--xr-font-color3);\n",
       "}\n",
       "\n",
       ".xr-array-preview,\n",
       ".xr-array-data {\n",
       "  padding: 0 5px !important;\n",
       "  grid-column: 2;\n",
       "}\n",
       "\n",
       ".xr-array-data,\n",
       ".xr-array-in:checked ~ .xr-array-preview {\n",
       "  display: none;\n",
       "}\n",
       "\n",
       ".xr-array-in:checked ~ .xr-array-data,\n",
       ".xr-array-preview {\n",
       "  display: inline-block;\n",
       "}\n",
       "\n",
       ".xr-dim-list {\n",
       "  display: inline-block !important;\n",
       "  list-style: none;\n",
       "  padding: 0 !important;\n",
       "  margin: 0;\n",
       "}\n",
       "\n",
       ".xr-dim-list li {\n",
       "  display: inline-block;\n",
       "  padding: 0;\n",
       "  margin: 0;\n",
       "}\n",
       "\n",
       ".xr-dim-list:before {\n",
       "  content: '(';\n",
       "}\n",
       "\n",
       ".xr-dim-list:after {\n",
       "  content: ')';\n",
       "}\n",
       "\n",
       ".xr-dim-list li:not(:last-child):after {\n",
       "  content: ',';\n",
       "  padding-right: 5px;\n",
       "}\n",
       "\n",
       ".xr-has-index {\n",
       "  font-weight: bold;\n",
       "}\n",
       "\n",
       ".xr-var-list,\n",
       ".xr-var-item {\n",
       "  display: contents;\n",
       "}\n",
       "\n",
       ".xr-var-item > div,\n",
       ".xr-var-item label,\n",
       ".xr-var-item > .xr-var-name span {\n",
       "  background-color: var(--xr-background-color-row-even);\n",
       "  margin-bottom: 0;\n",
       "}\n",
       "\n",
       ".xr-var-item > .xr-var-name:hover span {\n",
       "  padding-right: 5px;\n",
       "}\n",
       "\n",
       ".xr-var-list > li:nth-child(odd) > div,\n",
       ".xr-var-list > li:nth-child(odd) > label,\n",
       ".xr-var-list > li:nth-child(odd) > .xr-var-name span {\n",
       "  background-color: var(--xr-background-color-row-odd);\n",
       "}\n",
       "\n",
       ".xr-var-name {\n",
       "  grid-column: 1;\n",
       "}\n",
       "\n",
       ".xr-var-dims {\n",
       "  grid-column: 2;\n",
       "}\n",
       "\n",
       ".xr-var-dtype {\n",
       "  grid-column: 3;\n",
       "  text-align: right;\n",
       "  color: var(--xr-font-color2);\n",
       "}\n",
       "\n",
       ".xr-var-preview {\n",
       "  grid-column: 4;\n",
       "}\n",
       "\n",
       ".xr-var-name,\n",
       ".xr-var-dims,\n",
       ".xr-var-dtype,\n",
       ".xr-preview,\n",
       ".xr-attrs dt {\n",
       "  white-space: nowrap;\n",
       "  overflow: hidden;\n",
       "  text-overflow: ellipsis;\n",
       "  padding-right: 10px;\n",
       "}\n",
       "\n",
       ".xr-var-name:hover,\n",
       ".xr-var-dims:hover,\n",
       ".xr-var-dtype:hover,\n",
       ".xr-attrs dt:hover {\n",
       "  overflow: visible;\n",
       "  width: auto;\n",
       "  z-index: 1;\n",
       "}\n",
       "\n",
       ".xr-var-attrs,\n",
       ".xr-var-data {\n",
       "  display: none;\n",
       "  background-color: var(--xr-background-color) !important;\n",
       "  padding-bottom: 5px !important;\n",
       "}\n",
       "\n",
       ".xr-var-attrs-in:checked ~ .xr-var-attrs,\n",
       ".xr-var-data-in:checked ~ .xr-var-data {\n",
       "  display: block;\n",
       "}\n",
       "\n",
       ".xr-var-data > table {\n",
       "  float: right;\n",
       "}\n",
       "\n",
       ".xr-var-name span,\n",
       ".xr-var-data,\n",
       ".xr-attrs {\n",
       "  padding-left: 25px !important;\n",
       "}\n",
       "\n",
       ".xr-attrs,\n",
       ".xr-var-attrs,\n",
       ".xr-var-data {\n",
       "  grid-column: 1 / -1;\n",
       "}\n",
       "\n",
       "dl.xr-attrs {\n",
       "  padding: 0;\n",
       "  margin: 0;\n",
       "  display: grid;\n",
       "  grid-template-columns: 125px auto;\n",
       "}\n",
       "\n",
       ".xr-attrs dt,\n",
       ".xr-attrs dd {\n",
       "  padding: 0;\n",
       "  margin: 0;\n",
       "  float: left;\n",
       "  padding-right: 10px;\n",
       "  width: auto;\n",
       "}\n",
       "\n",
       ".xr-attrs dt {\n",
       "  font-weight: normal;\n",
       "  grid-column: 1;\n",
       "}\n",
       "\n",
       ".xr-attrs dt:hover span {\n",
       "  display: inline-block;\n",
       "  background: var(--xr-background-color);\n",
       "  padding-right: 10px;\n",
       "}\n",
       "\n",
       ".xr-attrs dd {\n",
       "  grid-column: 2;\n",
       "  white-space: pre-wrap;\n",
       "  word-break: break-all;\n",
       "}\n",
       "\n",
       ".xr-icon-database,\n",
       ".xr-icon-file-text2 {\n",
       "  display: inline-block;\n",
       "  vertical-align: middle;\n",
       "  width: 1em;\n",
       "  height: 1.5em !important;\n",
       "  stroke-width: 0;\n",
       "  stroke: currentColor;\n",
       "  fill: currentColor;\n",
       "}\n",
       "</style><pre class='xr-text-repr-fallback'>&lt;xarray.DataArray &#x27;tp&#x27; (valid_time: 3, lat: 744, lon: 1376)&gt;\n",
       "array([[[0.        , 0.        , 0.        , ..., 0.25020915,\n",
       "         0.16021901, 0.08577618],\n",
       "        [0.        , 0.        , 0.        , ..., 0.55257535,\n",
       "         0.50840634, 0.45015085],\n",
       "        [0.        , 0.        , 0.        , ..., 0.6211469 ,\n",
       "         0.6075462 , 0.6050905 ],\n",
       "        ...,\n",
       "        [       nan,        nan,        nan, ...,        nan,\n",
       "                nan,        nan],\n",
       "        [       nan,        nan,        nan, ...,        nan,\n",
       "                nan,        nan],\n",
       "        [       nan,        nan,        nan, ...,        nan,\n",
       "                nan,        nan]],\n",
       "\n",
       "       [[0.        , 0.        , 0.        , ..., 0.        ,\n",
       "         0.        , 0.        ],\n",
       "        [0.        , 0.        , 0.        , ..., 0.        ,\n",
       "         0.        , 0.        ],\n",
       "        [0.        , 0.        , 0.        , ..., 0.        ,\n",
       "         0.        , 0.        ],\n",
       "...\n",
       "        [       nan,        nan,        nan, ...,        nan,\n",
       "                nan,        nan],\n",
       "        [       nan,        nan,        nan, ...,        nan,\n",
       "                nan,        nan],\n",
       "        [       nan,        nan,        nan, ...,        nan,\n",
       "                nan,        nan]],\n",
       "\n",
       "       [[0.        , 0.        , 0.        , ..., 0.        ,\n",
       "         0.        , 0.        ],\n",
       "        [0.        , 0.        , 0.        , ..., 0.        ,\n",
       "         0.        , 0.        ],\n",
       "        [0.        , 0.        , 0.        , ..., 0.        ,\n",
       "         0.        , 0.        ],\n",
       "        ...,\n",
       "        [       nan,        nan,        nan, ...,        nan,\n",
       "                nan,        nan],\n",
       "        [       nan,        nan,        nan, ...,        nan,\n",
       "                nan,        nan],\n",
       "        [       nan,        nan,        nan, ...,        nan,\n",
       "                nan,        nan]]], dtype=float32)\n",
       "Coordinates:\n",
       "  * lon         (lon) float64 235.0 235.0 235.1 235.1 ... 289.9 290.0 290.0\n",
       "  * lat         (lat) float64 50.0 49.96 49.92 49.88 ... 20.4 20.36 20.32 20.28\n",
       "  * valid_time  (valid_time) datetime64[ns] 2020-01-01T12:00:00 ... 2020-01-0...\n",
       "    variable    &lt;U2 &#x27;tp&#x27;\n",
       "    time        datetime64[ns] 2020-05-16</pre><div class='xr-wrap' hidden><div class='xr-header'><div class='xr-obj-type'>xarray.DataArray</div><div class='xr-array-name'>'tp'</div><ul class='xr-dim-list'><li><span class='xr-has-index'>valid_time</span>: 3</li><li><span class='xr-has-index'>lat</span>: 744</li><li><span class='xr-has-index'>lon</span>: 1376</li></ul></div><ul class='xr-sections'><li class='xr-section-item'><div class='xr-array-wrap'><input id='section-ec969ed9-7df7-4b82-a6a9-384db57fb24f' class='xr-array-in' type='checkbox' checked><label for='section-ec969ed9-7df7-4b82-a6a9-384db57fb24f' title='Show/hide data repr'><svg class='icon xr-icon-database'><use xlink:href='#icon-database'></use></svg></label><div class='xr-array-preview xr-preview'><span>0.0 0.0 0.0 0.0 0.0 0.0 0.0 0.0 ... nan nan nan nan nan nan nan nan</span></div><div class='xr-array-data'><pre>array([[[0.        , 0.        , 0.        , ..., 0.25020915,\n",
       "         0.16021901, 0.08577618],\n",
       "        [0.        , 0.        , 0.        , ..., 0.55257535,\n",
       "         0.50840634, 0.45015085],\n",
       "        [0.        , 0.        , 0.        , ..., 0.6211469 ,\n",
       "         0.6075462 , 0.6050905 ],\n",
       "        ...,\n",
       "        [       nan,        nan,        nan, ...,        nan,\n",
       "                nan,        nan],\n",
       "        [       nan,        nan,        nan, ...,        nan,\n",
       "                nan,        nan],\n",
       "        [       nan,        nan,        nan, ...,        nan,\n",
       "                nan,        nan]],\n",
       "\n",
       "       [[0.        , 0.        , 0.        , ..., 0.        ,\n",
       "         0.        , 0.        ],\n",
       "        [0.        , 0.        , 0.        , ..., 0.        ,\n",
       "         0.        , 0.        ],\n",
       "        [0.        , 0.        , 0.        , ..., 0.        ,\n",
       "         0.        , 0.        ],\n",
       "...\n",
       "        [       nan,        nan,        nan, ...,        nan,\n",
       "                nan,        nan],\n",
       "        [       nan,        nan,        nan, ...,        nan,\n",
       "                nan,        nan],\n",
       "        [       nan,        nan,        nan, ...,        nan,\n",
       "                nan,        nan]],\n",
       "\n",
       "       [[0.        , 0.        , 0.        , ..., 0.        ,\n",
       "         0.        , 0.        ],\n",
       "        [0.        , 0.        , 0.        , ..., 0.        ,\n",
       "         0.        , 0.        ],\n",
       "        [0.        , 0.        , 0.        , ..., 0.        ,\n",
       "         0.        , 0.        ],\n",
       "        ...,\n",
       "        [       nan,        nan,        nan, ...,        nan,\n",
       "                nan,        nan],\n",
       "        [       nan,        nan,        nan, ...,        nan,\n",
       "                nan,        nan],\n",
       "        [       nan,        nan,        nan, ...,        nan,\n",
       "                nan,        nan]]], dtype=float32)</pre></div></div></li><li class='xr-section-item'><input id='section-7986fcc0-cd60-4cb9-85da-ad21c58eba50' class='xr-section-summary-in' type='checkbox'  checked><label for='section-7986fcc0-cd60-4cb9-85da-ad21c58eba50' class='xr-section-summary' >Coordinates: <span>(5)</span></label><div class='xr-section-inline-details'></div><div class='xr-section-details'><ul class='xr-var-list'><li class='xr-var-item'><div class='xr-var-name'><span class='xr-has-index'>lon</span></div><div class='xr-var-dims'>(lon)</div><div class='xr-var-dtype'>float64</div><div class='xr-var-preview xr-preview'>235.0 235.0 235.1 ... 290.0 290.0</div><input id='attrs-a5fa741a-bdd0-4f37-91a1-a9cadae827bf' class='xr-var-attrs-in' type='checkbox' disabled><label for='attrs-a5fa741a-bdd0-4f37-91a1-a9cadae827bf' title='Show/Hide attributes'><svg class='icon xr-icon-file-text2'><use xlink:href='#icon-file-text2'></use></svg></label><input id='data-59da2888-26b2-48f0-a02c-6884c4114a31' class='xr-var-data-in' type='checkbox'><label for='data-59da2888-26b2-48f0-a02c-6884c4114a31' title='Show/Hide data repr'><svg class='icon xr-icon-database'><use xlink:href='#icon-database'></use></svg></label><div class='xr-var-attrs'><dl class='xr-attrs'></dl></div><div class='xr-var-data'><pre>array([235.  , 235.04, 235.08, ..., 289.92, 289.96, 290.  ])</pre></div></li><li class='xr-var-item'><div class='xr-var-name'><span class='xr-has-index'>lat</span></div><div class='xr-var-dims'>(lat)</div><div class='xr-var-dtype'>float64</div><div class='xr-var-preview xr-preview'>50.0 49.96 49.92 ... 20.32 20.28</div><input id='attrs-10960f19-a051-4eb6-b95c-8a95d5b132f4' class='xr-var-attrs-in' type='checkbox' disabled><label for='attrs-10960f19-a051-4eb6-b95c-8a95d5b132f4' title='Show/Hide attributes'><svg class='icon xr-icon-file-text2'><use xlink:href='#icon-file-text2'></use></svg></label><input id='data-83b0a108-077a-4592-8d79-866db84c5959' class='xr-var-data-in' type='checkbox'><label for='data-83b0a108-077a-4592-8d79-866db84c5959' title='Show/Hide data repr'><svg class='icon xr-icon-database'><use xlink:href='#icon-database'></use></svg></label><div class='xr-var-attrs'><dl class='xr-attrs'></dl></div><div class='xr-var-data'><pre>array([50.  , 49.96, 49.92, ..., 20.36, 20.32, 20.28])</pre></div></li><li class='xr-var-item'><div class='xr-var-name'><span class='xr-has-index'>valid_time</span></div><div class='xr-var-dims'>(valid_time)</div><div class='xr-var-dtype'>datetime64[ns]</div><div class='xr-var-preview xr-preview'>2020-01-01T12:00:00 ... 2020-01-...</div><input id='attrs-307bfc99-7aea-4dcc-a967-53c13245ab6f' class='xr-var-attrs-in' type='checkbox' disabled><label for='attrs-307bfc99-7aea-4dcc-a967-53c13245ab6f' title='Show/Hide attributes'><svg class='icon xr-icon-file-text2'><use xlink:href='#icon-file-text2'></use></svg></label><input id='data-8115a18c-5cda-4215-92fe-e51f2091f5f2' class='xr-var-data-in' type='checkbox'><label for='data-8115a18c-5cda-4215-92fe-e51f2091f5f2' title='Show/Hide data repr'><svg class='icon xr-icon-database'><use xlink:href='#icon-database'></use></svg></label><div class='xr-var-attrs'><dl class='xr-attrs'></dl></div><div class='xr-var-data'><pre>array([&#x27;2020-01-01T12:00:00.000000000&#x27;, &#x27;2020-01-02T00:00:00.000000000&#x27;,\n",
       "       &#x27;2020-01-02T12:00:00.000000000&#x27;], dtype=&#x27;datetime64[ns]&#x27;)</pre></div></li><li class='xr-var-item'><div class='xr-var-name'><span>variable</span></div><div class='xr-var-dims'>()</div><div class='xr-var-dtype'>&lt;U2</div><div class='xr-var-preview xr-preview'>&#x27;tp&#x27;</div><input id='attrs-529a7468-d922-4310-8dff-c2eb7afea616' class='xr-var-attrs-in' type='checkbox' disabled><label for='attrs-529a7468-d922-4310-8dff-c2eb7afea616' title='Show/Hide attributes'><svg class='icon xr-icon-file-text2'><use xlink:href='#icon-file-text2'></use></svg></label><input id='data-1fd1daa1-f352-4a65-b528-554888198773' class='xr-var-data-in' type='checkbox'><label for='data-1fd1daa1-f352-4a65-b528-554888198773' title='Show/Hide data repr'><svg class='icon xr-icon-database'><use xlink:href='#icon-database'></use></svg></label><div class='xr-var-attrs'><dl class='xr-attrs'></dl></div><div class='xr-var-data'><pre>array(&#x27;tp&#x27;, dtype=&#x27;&lt;U2&#x27;)</pre></div></li><li class='xr-var-item'><div class='xr-var-name'><span>time</span></div><div class='xr-var-dims'>()</div><div class='xr-var-dtype'>datetime64[ns]</div><div class='xr-var-preview xr-preview'>2020-05-16</div><input id='attrs-19ed503c-ada6-4027-9db3-c43ce4bfc59f' class='xr-var-attrs-in' type='checkbox' ><label for='attrs-19ed503c-ada6-4027-9db3-c43ce4bfc59f' title='Show/Hide attributes'><svg class='icon xr-icon-file-text2'><use xlink:href='#icon-file-text2'></use></svg></label><input id='data-370964a8-b844-4c4f-bdee-76a23aff14d4' class='xr-var-data-in' type='checkbox'><label for='data-370964a8-b844-4c4f-bdee-76a23aff14d4' title='Show/Hide data repr'><svg class='icon xr-icon-database'><use xlink:href='#icon-database'></use></svg></label><div class='xr-var-attrs'><dl class='xr-attrs'><dt><span>long_name :</span></dt><dd>initial time of forecast</dd><dt><span>standard_name :</span></dt><dd>forecast_reference_time</dd></dl></div><div class='xr-var-data'><pre>array(&#x27;2020-05-16T00:00:00.000000000&#x27;, dtype=&#x27;datetime64[ns]&#x27;)</pre></div></li></ul></div></li><li class='xr-section-item'><input id='section-3986c844-160d-480c-9ab6-cdf2645ca147' class='xr-section-summary-in' type='checkbox' disabled ><label for='section-3986c844-160d-480c-9ab6-cdf2645ca147' class='xr-section-summary'  title='Expand/collapse section'>Attributes: <span>(0)</span></label><div class='xr-section-inline-details'></div><div class='xr-section-details'><dl class='xr-attrs'></dl></div></li></ul></div></div>"
      ],
      "text/plain": [
       "<xarray.DataArray 'tp' (valid_time: 3, lat: 744, lon: 1376)>\n",
       "array([[[0.        , 0.        , 0.        , ..., 0.25020915,\n",
       "         0.16021901, 0.08577618],\n",
       "        [0.        , 0.        , 0.        , ..., 0.55257535,\n",
       "         0.50840634, 0.45015085],\n",
       "        [0.        , 0.        , 0.        , ..., 0.6211469 ,\n",
       "         0.6075462 , 0.6050905 ],\n",
       "        ...,\n",
       "        [       nan,        nan,        nan, ...,        nan,\n",
       "                nan,        nan],\n",
       "        [       nan,        nan,        nan, ...,        nan,\n",
       "                nan,        nan],\n",
       "        [       nan,        nan,        nan, ...,        nan,\n",
       "                nan,        nan]],\n",
       "\n",
       "       [[0.        , 0.        , 0.        , ..., 0.        ,\n",
       "         0.        , 0.        ],\n",
       "        [0.        , 0.        , 0.        , ..., 0.        ,\n",
       "         0.        , 0.        ],\n",
       "        [0.        , 0.        , 0.        , ..., 0.        ,\n",
       "         0.        , 0.        ],\n",
       "...\n",
       "        [       nan,        nan,        nan, ...,        nan,\n",
       "                nan,        nan],\n",
       "        [       nan,        nan,        nan, ...,        nan,\n",
       "                nan,        nan],\n",
       "        [       nan,        nan,        nan, ...,        nan,\n",
       "                nan,        nan]],\n",
       "\n",
       "       [[0.        , 0.        , 0.        , ..., 0.        ,\n",
       "         0.        , 0.        ],\n",
       "        [0.        , 0.        , 0.        , ..., 0.        ,\n",
       "         0.        , 0.        ],\n",
       "        [0.        , 0.        , 0.        , ..., 0.        ,\n",
       "         0.        , 0.        ],\n",
       "        ...,\n",
       "        [       nan,        nan,        nan, ...,        nan,\n",
       "                nan,        nan],\n",
       "        [       nan,        nan,        nan, ...,        nan,\n",
       "                nan,        nan],\n",
       "        [       nan,        nan,        nan, ...,        nan,\n",
       "                nan,        nan]]], dtype=float32)\n",
       "Coordinates:\n",
       "  * lon         (lon) float64 235.0 235.0 235.1 235.1 ... 289.9 290.0 290.0\n",
       "  * lat         (lat) float64 50.0 49.96 49.92 49.88 ... 20.4 20.36 20.32 20.28\n",
       "  * valid_time  (valid_time) datetime64[ns] 2020-01-01T12:00:00 ... 2020-01-0...\n",
       "    variable    <U2 'tp'\n",
       "    time        datetime64[ns] 2020-05-16"
      ]
     },
     "execution_count": 44,
     "metadata": {},
     "output_type": "execute_result"
    }
   ],
   "source": [
    "hrrr.load()"
   ]
  },
  {
   "cell_type": "markdown",
   "id": "29b11edc",
   "metadata": {
    "Collapsed": "false"
   },
   "source": [
    "## Bias"
   ]
  },
  {
   "cell_type": "code",
   "execution_count": 45,
   "id": "4c3df051",
   "metadata": {
    "Collapsed": "false"
   },
   "outputs": [
    {
     "data": {
      "text/plain": [
       "array(0.33578843)"
      ]
     },
     "execution_count": 45,
     "metadata": {},
     "output_type": "execute_result"
    }
   ],
   "source": [
    "mrms.mean().values"
   ]
  },
  {
   "cell_type": "code",
   "execution_count": 46,
   "id": "95276513",
   "metadata": {
    "Collapsed": "false"
   },
   "outputs": [
    {
     "data": {
      "text/plain": [
       "array(0.34051946, dtype=float32)"
      ]
     },
     "execution_count": 46,
     "metadata": {},
     "output_type": "execute_result"
    }
   ],
   "source": [
    "det_pred.mean().values"
   ]
  },
  {
   "cell_type": "code",
   "execution_count": 47,
   "id": "5dbb054b",
   "metadata": {
    "Collapsed": "false"
   },
   "outputs": [
    {
     "data": {
      "text/plain": [
       "array(0.46983967)"
      ]
     },
     "execution_count": 47,
     "metadata": {},
     "output_type": "execute_result"
    }
   ],
   "source": [
    "interp.mean().values"
   ]
  },
  {
   "cell_type": "code",
   "execution_count": 48,
   "id": "d01b2c13",
   "metadata": {
    "Collapsed": "false"
   },
   "outputs": [
    {
     "data": {
      "text/plain": [
       "array(0.4390679, dtype=float32)"
      ]
     },
     "execution_count": 48,
     "metadata": {},
     "output_type": "execute_result"
    }
   ],
   "source": [
    "hrrr.mean().values"
   ]
  },
  {
   "cell_type": "markdown",
   "id": "17d788c9",
   "metadata": {
    "Collapsed": "false"
   },
   "source": [
    "### Histograms"
   ]
  },
  {
   "cell_type": "code",
   "execution_count": 49,
   "id": "af076aec",
   "metadata": {
    "Collapsed": "false"
   },
   "outputs": [],
   "source": [
    "bins = np.logspace(0, 2, 25)-1\n",
    "mid_bin = (bins[1:] + bins[:-1])/2"
   ]
  },
  {
   "cell_type": "code",
   "execution_count": 50,
   "id": "f620cd5c",
   "metadata": {
    "Collapsed": "false"
   },
   "outputs": [],
   "source": [
    "def plot_hist(ds, bins, label):\n",
    "    nums, bins = np.histogram(ds.values, bins=bins)\n",
    "    plt.plot(mid_bin, nums, marker='o', label=label)"
   ]
  },
  {
   "cell_type": "code",
   "execution_count": 51,
   "id": "e71613ca",
   "metadata": {
    "Collapsed": "false"
   },
   "outputs": [
    {
     "data": {
      "text/plain": [
       "<matplotlib.legend.Legend at 0x7f8b7e5c1ac0>"
      ]
     },
     "execution_count": 51,
     "metadata": {},
     "output_type": "execute_result"
    },
    {
     "data": {
      "image/png": "[encoded data removed]",
      "text/plain": [
       "<Figure size 720x360 with 1 Axes>"
      ]
     },
     "metadata": {
      "needs_background": "light"
     },
     "output_type": "display_data"
    }
   ],
   "source": [
    "plt.figure(figsize=(10, 5))\n",
    "plot_hist(det_pred, bins, 'GAN')\n",
    "plot_hist(mrms, bins, 'Obs')\n",
    "plot_hist(interp, bins, 'Interp')\n",
    "plot_hist(hrrr, bins, 'HRRR')\n",
    "plt.yscale('log')\n",
    "plt.legend()"
   ]
  },
  {
   "cell_type": "markdown",
   "id": "1312e486",
   "metadata": {
    "Collapsed": "false"
   },
   "source": [
    "### RMSE"
   ]
  },
  {
   "cell_type": "code",
   "execution_count": 52,
   "id": "c5be7939",
   "metadata": {
    "Collapsed": "false"
   },
   "outputs": [
    {
     "data": {
      "text/plain": [
       "array(1.48187827)"
      ]
     },
     "execution_count": 52,
     "metadata": {},
     "output_type": "execute_result"
    }
   ],
   "source": [
    "xs.rmse(det_pred, mrms, dim=['lat', 'lon', 'valid_time'], skipna=True).values"
   ]
  },
  {
   "cell_type": "code",
   "execution_count": 53,
   "id": "4d0d8ca4",
   "metadata": {
    "Collapsed": "false"
   },
   "outputs": [
    {
     "data": {
      "text/plain": [
       "array(1.27254274)"
      ]
     },
     "execution_count": 53,
     "metadata": {},
     "output_type": "execute_result"
    }
   ],
   "source": [
    "xs.rmse(interp, mrms, dim=['lat', 'lon', 'valid_time'], skipna=True).values"
   ]
  },
  {
   "cell_type": "code",
   "execution_count": 54,
   "id": "a5fc98fd",
   "metadata": {
    "Collapsed": "false"
   },
   "outputs": [
    {
     "data": {
      "text/plain": [
       "array(1.91203994)"
      ]
     },
     "execution_count": 54,
     "metadata": {},
     "output_type": "execute_result"
    }
   ],
   "source": [
    "xs.rmse(hrrr, mrms, dim=['lat', 'lon', 'valid_time'], skipna=True).values"
   ]
  },
  {
   "cell_type": "markdown",
   "id": "8f436dbb",
   "metadata": {
    "Collapsed": "false"
   },
   "source": [
    "### FSS"
   ]
  },
  {
   "cell_type": "code",
   "execution_count": 55,
   "id": "d4161ef1",
   "metadata": {
    "Collapsed": "false"
   },
   "outputs": [],
   "source": [
    "thresh = 10\n",
    "window = 100 // 4"
   ]
  },
  {
   "cell_type": "code",
   "execution_count": 56,
   "id": "08964143",
   "metadata": {
    "Collapsed": "false"
   },
   "outputs": [],
   "source": [
    "def compute_fss(f, o, thresh, window, time_mean=True):\n",
    "    f_thresh = f > thresh\n",
    "    o_thresh = o > thresh\n",
    "    f_frac = f_thresh.rolling({'lat': window, 'lon': window}, center=True).mean()\n",
    "    o_frac = o_thresh.rolling({'lat': window, 'lon': window}, center=True).mean()\n",
    "    mse = ((f_frac - o_frac)**2).mean(('lat', 'lon'))\n",
    "    mse_ref = (f_frac**2).mean(('lat', 'lon')) + (o_frac**2).mean(('lat', 'lon'))\n",
    "    fss = 1 - mse / mse_ref\n",
    "    if time_mean:\n",
    "        fss = fss.mean('valid_time')\n",
    "    return fss"
   ]
  },
  {
   "cell_type": "code",
   "execution_count": 57,
   "id": "3fb8be7e",
   "metadata": {
    "Collapsed": "false"
   },
   "outputs": [
    {
     "data": {
      "text/plain": [
       "array(0.08515959)"
      ]
     },
     "execution_count": 57,
     "metadata": {},
     "output_type": "execute_result"
    }
   ],
   "source": [
    "compute_fss(mrms, det_pred, thresh, window).values"
   ]
  },
  {
   "cell_type": "code",
   "execution_count": 58,
   "id": "c4b186e2",
   "metadata": {
    "Collapsed": "false"
   },
   "outputs": [
    {
     "data": {
      "text/plain": [
       "array(0.38390918)"
      ]
     },
     "execution_count": 58,
     "metadata": {},
     "output_type": "execute_result"
    }
   ],
   "source": [
    "compute_fss(mrms, interp, thresh, window).values"
   ]
  },
  {
   "cell_type": "code",
   "execution_count": 59,
   "id": "2ecc724a",
   "metadata": {
    "Collapsed": "false"
   },
   "outputs": [
    {
     "data": {
      "text/plain": [
       "array(0.19300739)"
      ]
     },
     "execution_count": 59,
     "metadata": {},
     "output_type": "execute_result"
    }
   ],
   "source": [
    "compute_fss(mrms, hrrr, thresh, window).values"
   ]
  },
  {
   "cell_type": "markdown",
   "id": "6777af42",
   "metadata": {
    "Collapsed": "false"
   },
   "source": [
    "## Plotting"
   ]
  },
  {
   "cell_type": "code",
   "execution_count": 74,
   "id": "ad9b2bc4",
   "metadata": {
    "Collapsed": "false"
   },
   "outputs": [],
   "source": [
    "def plot(da):\n",
    "    fig, ax = plt.subplots(figsize=(20, 10))\n",
    "    da.plot(vmin=0, vmax=20, cmap='gist_ncar_r')\n",
    "    ax.set_aspect('equal')"
   ]
  },
  {
   "cell_type": "code",
   "execution_count": 75,
   "id": "dfed23da",
   "metadata": {
    "Collapsed": "false"
   },
   "outputs": [
    {
     "data": {
      "image/png": "[encoded data removed]",
      "text/plain": [
       "<Figure size 1440x720 with 2 Axes>"
      ]
     },
     "metadata": {
      "needs_background": "light"
     },
     "output_type": "display_data"
    }
   ],
   "source": [
    "plot(mrms[1])"
   ]
  },
  {
   "cell_type": "code",
   "execution_count": 76,
   "id": "12b7652f",
   "metadata": {
    "Collapsed": "false"
   },
   "outputs": [
    {
     "data": {
      "image/png": "[encoded data removed]",
      "text/plain": [
       "<Figure size 1440x720 with 2 Axes>"
      ]
     },
     "metadata": {
      "needs_background": "light"
     },
     "output_type": "display_data"
    }
   ],
   "source": [
    "plot(det_pred[1])"
   ]
  },
  {
   "cell_type": "code",
   "execution_count": 61,
   "id": "ea317a45",
   "metadata": {
    "Collapsed": "false"
   },
   "outputs": [
    {
     "data": {
      "text/plain": [
       "<matplotlib.collections.QuadMesh at 0x7f8b7bdd5670>"
      ]
     },
     "execution_count": 61,
     "metadata": {},
     "output_type": "execute_result"
    },
    {
     "data": {
      "image/png": "[encoded data removed]",
      "text/plain": [
       "<Figure size 432x288 with 2 Axes>"
      ]
     },
     "metadata": {
      "needs_background": "light"
     },
     "output_type": "display_data"
    }
   ],
   "source": [
    "\n",
    "mrms[0].plot(vmin=0, vmax=20)"
   ]
  },
  {
   "cell_type": "code",
   "execution_count": null,
   "id": "42957a5a",
   "metadata": {
    "Collapsed": "false"
   },
   "outputs": [],
   "source": [
    "det_pred[50].plot(vmin=0, vmax=20)"
   ]
  },
  {
   "cell_type": "code",
   "execution_count": null,
   "id": "66cd6d2b",
   "metadata": {
    "Collapsed": "false"
   },
   "outputs": [],
   "source": [
    "interp[50].plot(vmin=0, vmax=20)"
   ]
  },
  {
   "cell_type": "code",
   "execution_count": null,
   "id": "1e3dceb8",
   "metadata": {
    "Collapsed": "false"
   },
   "outputs": [],
   "source": [
    "hrrr[50].plot(vmin=0, vmax=20)"
   ]
  },
  {
   "cell_type": "code",
   "execution_count": null,
   "id": "4cc32c62",
   "metadata": {
    "Collapsed": "false"
   },
   "outputs": [],
   "source": []
  }
 ],
 "metadata": {
  "environment": {
   "name": "common-cu110.m74",
   "type": "gcloud",
   "uri": "gcr.io/deeplearning-platform-release/base-cu110:m74"
  },
  "kernelspec": {
   "display_name": "Python [conda env:ilan]",
   "language": "python",
   "name": "conda-env-ilan-py"
  },
  "language_info": {
   "codemirror_mode": {
    "name": "ipython",
    "version": 3
   },
   "file_extension": ".py",
   "mimetype": "text/x-python",
   "name": "python",
   "nbconvert_exporter": "python",
   "pygments_lexer": "ipython3",
   "version": "3.9.5"
  }
 },
 "nbformat": 4,
 "nbformat_minor": 5
}
