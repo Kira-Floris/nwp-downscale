{
 "cells": [
  {
   "cell_type": "code",
   "execution_count": 1,
   "id": "1550e185",
   "metadata": {
    "Collapsed": "false"
   },
   "outputs": [],
   "source": [
    "%load_ext autoreload\n",
    "%autoreload 2"
   ]
  },
  {
   "cell_type": "code",
   "execution_count": 2,
   "id": "392fce8a",
   "metadata": {
    "Collapsed": "false"
   },
   "outputs": [],
   "source": [
    "import torch\n",
    "from torch.nn import functional as F\n",
    "from torch import nn\n",
    "from pytorch_lightning.core.lightning import LightningModule\n",
    "import pytorch_lightning as pl\n",
    "\n",
    "import torch.optim as optim\n",
    "import torchvision\n",
    "import torchvision.datasets as datasets\n",
    "import torchvision.transforms as transforms\n",
    "from torch.utils.data import DataLoader\n",
    "\n",
    "from src.models import *\n",
    "# from ilan_src.models import *\n",
    "from src.dataloader import *\n",
    "from src.utils import *\n",
    "from src.evaluation import *\n",
    "\n",
    "import xarray as xr\n",
    "import numpy as np\n",
    "import matplotlib.pyplot as plt\n",
    "\n",
    "import pickle\n",
    "\n",
    "if torch.cuda.is_available():\n",
    "    device = torch.device(\"cuda\") \n",
    "else:\n",
    "    device = torch.device(\"cpu\")"
   ]
  },
  {
   "cell_type": "code",
   "execution_count": 3,
   "id": "d8e9ea09",
   "metadata": {
    "Collapsed": "false"
   },
   "outputs": [],
   "source": [
    "import sys"
   ]
  },
  {
   "cell_type": "markdown",
   "id": "c0c4ff23",
   "metadata": {
    "Collapsed": "false"
   },
   "source": [
    "## Set up dataset - my way"
   ]
  },
  {
   "cell_type": "code",
   "execution_count": 4,
   "id": "475fc78a",
   "metadata": {
    "Collapsed": "false"
   },
   "outputs": [],
   "source": [
    "members = 10\n",
    "zero_noise = False"
   ]
  },
  {
   "cell_type": "code",
   "execution_count": 5,
   "id": "f122514d",
   "metadata": {
    "Collapsed": "false"
   },
   "outputs": [],
   "source": [
    "DATADRIVE = '/home/jupyter/data/'"
   ]
  },
  {
   "cell_type": "code",
   "execution_count": 6,
   "id": "6cb07003",
   "metadata": {
    "Collapsed": "false"
   },
   "outputs": [],
   "source": [
    "# ds_train = TiggeMRMSDataset(\n",
    "#     tigge_dir=f'{DATADRIVE}/tigge/32km/',\n",
    "#     tigge_vars=['total_precipitation_ens10'],\n",
    "#     mrms_dir=f'{DATADRIVE}/mrms/4km/RadarOnly_QPE_06H/',\n",
    "#     rq_fn=f'{DATADRIVE}/mrms/4km/RadarQuality.nc',\n",
    "#     data_period=('2018-01', '2019-12'),\n",
    "#     val_days=5,\n",
    "#     split='train',\n",
    "#     tp_log=0.01,\n",
    "#     ensemble_mode='random',\n",
    "#     idx_stride=16\n",
    "# )"
   ]
  },
  {
   "cell_type": "code",
   "execution_count": 7,
   "id": "afc4730b",
   "metadata": {
    "Collapsed": "false"
   },
   "outputs": [],
   "source": [
    "# ds_train.mins.to_netcdf('tmp/mins1.nc')\n",
    "# ds_train.maxs.to_netcdf('tmp/maxs1.nc')"
   ]
  },
  {
   "cell_type": "code",
   "execution_count": 8,
   "id": "34177c69",
   "metadata": {
    "Collapsed": "false"
   },
   "outputs": [],
   "source": [
    "mins = xr.open_dataset('tmp/mins1.nc')\n",
    "maxs = xr.open_dataset('tmp/maxs1.nc')"
   ]
  },
  {
   "cell_type": "code",
   "execution_count": 10,
   "id": "04e4e80f",
   "metadata": {
    "Collapsed": "false"
   },
   "outputs": [
    {
     "name": "stderr",
     "output_type": "stream",
     "text": [
      "/opt/conda/envs/ilan/lib/python3.9/site-packages/xarray/core/indexing.py:1379: PerformanceWarning: Slicing is producing a large chunk. To accept the large\n",
      "chunk and silence this warning, set the option\n",
      "    >>> with dask.config.set(**{'array.slicing.split_large_chunks': False}):\n",
      "    ...     array[indexer]\n",
      "\n",
      "To avoid creating the large chunks, set the option\n",
      "    >>> with dask.config.set(**{'array.slicing.split_large_chunks': True}):\n",
      "    ...     array[indexer]\n",
      "  return self.array[key]\n"
     ]
    },
    {
     "name": "stdout",
     "output_type": "stream",
     "text": [
      "Loading data\n"
     ]
    }
   ],
   "source": [
    "ds_test = TiggeMRMSDataset(\n",
    "    tigge_dir=f'{DATADRIVE}/tigge/32km/',\n",
    "    tigge_vars=['total_precipitation_ens10'],\n",
    "    mrms_dir=f'{DATADRIVE}/mrms/4km/RadarOnly_QPE_06H/',\n",
    "#     rq_fn=f'{DATADRIVE}/mrms/4km/RadarQuality.nc',\n",
    "    data_period=('2020-01', '2020-12'),\n",
    "    first_days=5,\n",
    "    tp_log=0.01,\n",
    "    mins=mins,\n",
    "    maxs=maxs,\n",
    "    ensemble_mode='random',\n",
    "    idx_stride=16\n",
    ")"
   ]
  },
  {
   "cell_type": "code",
   "execution_count": 11,
   "id": "4aa51041",
   "metadata": {
    "Collapsed": "false"
   },
   "outputs": [
    {
     "name": "stderr",
     "output_type": "stream",
     "text": [
      "/opt/conda/envs/ilan/lib/python3.9/site-packages/xarray/core/indexing.py:1379: PerformanceWarning: Slicing is producing a large chunk. To accept the large\n",
      "chunk and silence this warning, set the option\n",
      "    >>> with dask.config.set(**{'array.slicing.split_large_chunks': False}):\n",
      "    ...     array[indexer]\n",
      "\n",
      "To avoid creating the large chunks, set the option\n",
      "    >>> with dask.config.set(**{'array.slicing.split_large_chunks': True}):\n",
      "    ...     array[indexer]\n",
      "  return self.array[key]\n"
     ]
    },
    {
     "name": "stdout",
     "output_type": "stream",
     "text": [
      "Loading data\n"
     ]
    }
   ],
   "source": [
    "# For ens_tp with stuff\n",
    "ds_test_pad = TiggeMRMSDataset(\n",
    "    tigge_dir=f'{DATADRIVE}/tigge/32km/',\n",
    "    tigge_vars=['total_precipitation_ens10'],\n",
    "    mrms_dir=f'{DATADRIVE}/mrms/4km/RadarOnly_QPE_06H/',\n",
    "#     rq_fn=f'{DATADRIVE}/mrms/4km/RadarQuality.nc',\n",
    "    data_period=('2020-01', '2020-12'),\n",
    "    first_days=5,\n",
    "    tp_log=0.01,\n",
    "    mins=mins,\n",
    "    maxs=maxs,\n",
    "    ensemble_mode='random',\n",
    "    idx_stride=16,\n",
    "    pad_tigge=10,\n",
    "    pad_tigge_channel=True,\n",
    ")"
   ]
  },
  {
   "cell_type": "markdown",
   "id": "cfd134a2",
   "metadata": {
    "Collapsed": "false"
   },
   "source": [
    "## Load models"
   ]
  },
  {
   "cell_type": "markdown",
   "id": "8c211701",
   "metadata": {
    "Collapsed": "false"
   },
   "source": [
    "### Model 1: single_forecast_tp_pure_sr_pretraining"
   ]
  },
  {
   "cell_type": "code",
   "execution_count": 12,
   "id": "a364ce13",
   "metadata": {
    "Collapsed": "false"
   },
   "outputs": [],
   "source": [
    "name='single_forecast_tp_pure_sr_pretraining'"
   ]
  },
  {
   "cell_type": "code",
   "execution_count": 13,
   "id": "b85e7629",
   "metadata": {
    "Collapsed": "false"
   },
   "outputs": [],
   "source": [
    "zero_noise=True"
   ]
  },
  {
   "cell_type": "code",
   "execution_count": 14,
   "id": "90ee006b",
   "metadata": {
    "Collapsed": "false"
   },
   "outputs": [],
   "source": [
    "model_dir = '/home/jupyter/data/saved_models/saved_models/leingan/single_forecast_tp_pure_sr_pretraining/0'"
   ]
  },
  {
   "cell_type": "code",
   "execution_count": 15,
   "id": "9a5a7acd",
   "metadata": {
    "Collapsed": "false"
   },
   "outputs": [],
   "source": [
    "sys.path.append(model_dir)"
   ]
  },
  {
   "cell_type": "code",
   "execution_count": 16,
   "id": "c9b3aaa5",
   "metadata": {
    "Collapsed": "false"
   },
   "outputs": [],
   "source": [
    "gan = BaseGAN2.load_from_checkpoint(\n",
    "    f\"{model_dir}/epoch=199-step=133999.ckpt\")"
   ]
  },
  {
   "cell_type": "code",
   "execution_count": 17,
   "id": "10db8405",
   "metadata": {
    "Collapsed": "false"
   },
   "outputs": [],
   "source": [
    "model = gan.gen\n",
    "model = model.to(device)\n",
    "model.train(False);"
   ]
  },
  {
   "cell_type": "markdown",
   "id": "d915c825",
   "metadata": {
    "Collapsed": "false"
   },
   "source": [
    "## Model 2: ens_mean_L1_weighted_gen_loss"
   ]
  },
  {
   "cell_type": "code",
   "execution_count": null,
   "id": "761c3569",
   "metadata": {
    "Collapsed": "false"
   },
   "outputs": [],
   "source": [
    "name='ens_mean_L1_weighted_gen_loss'"
   ]
  },
  {
   "cell_type": "code",
   "execution_count": 68,
   "id": "544cfc5f",
   "metadata": {
    "Collapsed": "false"
   },
   "outputs": [],
   "source": [
    "model_dir = '/home/jupyter/data/saved_models/saved_models/leingan/ens10_tp/random/ens_mean_L1_weighted_gen_loss/3'"
   ]
  },
  {
   "cell_type": "code",
   "execution_count": 69,
   "id": "541c7a34",
   "metadata": {
    "Collapsed": "false"
   },
   "outputs": [],
   "source": [
    "sys.path.append(model_dir)"
   ]
  },
  {
   "cell_type": "code",
   "execution_count": 70,
   "id": "3ee6de7a",
   "metadata": {
    "Collapsed": "false"
   },
   "outputs": [],
   "source": [
    "gan = BaseGAN2.load_from_checkpoint(\n",
    "    f\"{model_dir}/epoch=349-step=234499.ckpt\")"
   ]
  },
  {
   "cell_type": "code",
   "execution_count": 71,
   "id": "a6ef262b",
   "metadata": {
    "Collapsed": "false"
   },
   "outputs": [],
   "source": [
    "model = gan.gen\n",
    "model = model.to(device)\n",
    "model.train(False);"
   ]
  },
  {
   "cell_type": "markdown",
   "id": "6c751ba4",
   "metadata": {
    "Collapsed": "false"
   },
   "source": [
    "### Model 3: ens10_tp_and_added_vars_TCW_broadfield_channel"
   ]
  },
  {
   "cell_type": "code",
   "execution_count": null,
   "id": "114fd667",
   "metadata": {
    "Collapsed": "false"
   },
   "outputs": [],
   "source": [
    "name='ens10_tp_and_added_vars_TCW_broadfield_channel'"
   ]
  },
  {
   "cell_type": "code",
   "execution_count": null,
   "id": "0404ee7f",
   "metadata": {
    "Collapsed": "false"
   },
   "outputs": [],
   "source": [
    "ds_test = ds_test_pad"
   ]
  },
  {
   "cell_type": "code",
   "execution_count": 92,
   "id": "13d9b746",
   "metadata": {
    "Collapsed": "false"
   },
   "outputs": [],
   "source": [
    "model_dir = '/home/jupyter/data/saved_models/saved_models/leingan/ens10_tp_and_added_vars_TCW_broadfield_channel/15'"
   ]
  },
  {
   "cell_type": "code",
   "execution_count": 93,
   "id": "adb4d2b4",
   "metadata": {
    "Collapsed": "false"
   },
   "outputs": [],
   "source": [
    "sys.path.append(model_dir)"
   ]
  },
  {
   "cell_type": "code",
   "execution_count": 94,
   "id": "9b402d91",
   "metadata": {
    "Collapsed": "false"
   },
   "outputs": [
    {
     "data": {
      "text/plain": [
       "['/home/jupyter/repositories/nwp-downscale/notebooks/stephan_notebooks',\n",
       " '/opt/conda/envs/ilan/lib/python39.zip',\n",
       " '/opt/conda/envs/ilan/lib/python3.9',\n",
       " '/opt/conda/envs/ilan/lib/python3.9/lib-dynload',\n",
       " '',\n",
       " '/opt/conda/envs/ilan/lib/python3.9/site-packages',\n",
       " '/opt/conda/envs/ilan/lib/python3.9/site-packages/IPython/extensions',\n",
       " '/home/jupyter/.ipython',\n",
       " '/home/jupyter/data/saved_models/saved_models/leingan/ens10_tp_and_added_vars_TCW_broadfield_channel/15']"
      ]
     },
     "execution_count": 94,
     "metadata": {},
     "output_type": "execute_result"
    }
   ],
   "source": [
    "sys.path"
   ]
  },
  {
   "cell_type": "code",
   "execution_count": 95,
   "id": "321a82b9",
   "metadata": {
    "Collapsed": "false"
   },
   "outputs": [
    {
     "ename": "TypeError",
     "evalue": "__init__() got an unexpected keyword argument 'input_channels'",
     "output_type": "error",
     "traceback": [
      "\u001b[0;31m---------------------------------------------------------------------------\u001b[0m",
      "\u001b[0;31mTypeError\u001b[0m                                 Traceback (most recent call last)",
      "\u001b[0;32m<ipython-input-95-8617562c4afb>\u001b[0m in \u001b[0;36m<module>\u001b[0;34m\u001b[0m\n\u001b[0;32m----> 1\u001b[0;31m gan = BaseGAN2.load_from_checkpoint(\n\u001b[0m\u001b[1;32m      2\u001b[0m     f\"{model_dir}/epoch=499-step=258499.ckpt\")\n",
      "\u001b[0;32m/opt/conda/envs/ilan/lib/python3.9/site-packages/pytorch_lightning/core/saving.py\u001b[0m in \u001b[0;36mload_from_checkpoint\u001b[0;34m(cls, checkpoint_path, map_location, hparams_file, strict, **kwargs)\u001b[0m\n\u001b[1;32m    155\u001b[0m         \u001b[0mcheckpoint\u001b[0m\u001b[0;34m[\u001b[0m\u001b[0mcls\u001b[0m\u001b[0;34m.\u001b[0m\u001b[0mCHECKPOINT_HYPER_PARAMS_KEY\u001b[0m\u001b[0;34m]\u001b[0m\u001b[0;34m.\u001b[0m\u001b[0mupdate\u001b[0m\u001b[0;34m(\u001b[0m\u001b[0mkwargs\u001b[0m\u001b[0;34m)\u001b[0m\u001b[0;34m\u001b[0m\u001b[0;34m\u001b[0m\u001b[0m\n\u001b[1;32m    156\u001b[0m \u001b[0;34m\u001b[0m\u001b[0m\n\u001b[0;32m--> 157\u001b[0;31m         \u001b[0mmodel\u001b[0m \u001b[0;34m=\u001b[0m \u001b[0mcls\u001b[0m\u001b[0;34m.\u001b[0m\u001b[0m_load_model_state\u001b[0m\u001b[0;34m(\u001b[0m\u001b[0mcheckpoint\u001b[0m\u001b[0;34m,\u001b[0m \u001b[0mstrict\u001b[0m\u001b[0;34m=\u001b[0m\u001b[0mstrict\u001b[0m\u001b[0;34m,\u001b[0m \u001b[0;34m**\u001b[0m\u001b[0mkwargs\u001b[0m\u001b[0;34m)\u001b[0m\u001b[0;34m\u001b[0m\u001b[0;34m\u001b[0m\u001b[0m\n\u001b[0m\u001b[1;32m    158\u001b[0m         \u001b[0;32mreturn\u001b[0m \u001b[0mmodel\u001b[0m\u001b[0;34m\u001b[0m\u001b[0;34m\u001b[0m\u001b[0m\n\u001b[1;32m    159\u001b[0m \u001b[0;34m\u001b[0m\u001b[0m\n",
      "\u001b[0;32m/opt/conda/envs/ilan/lib/python3.9/site-packages/pytorch_lightning/core/saving.py\u001b[0m in \u001b[0;36m_load_model_state\u001b[0;34m(cls, checkpoint, strict, **cls_kwargs_new)\u001b[0m\n\u001b[1;32m    197\u001b[0m             \u001b[0m_cls_kwargs\u001b[0m \u001b[0;34m=\u001b[0m \u001b[0;34m{\u001b[0m\u001b[0mk\u001b[0m\u001b[0;34m:\u001b[0m \u001b[0mv\u001b[0m \u001b[0;32mfor\u001b[0m \u001b[0mk\u001b[0m\u001b[0;34m,\u001b[0m \u001b[0mv\u001b[0m \u001b[0;32min\u001b[0m \u001b[0m_cls_kwargs\u001b[0m\u001b[0;34m.\u001b[0m\u001b[0mitems\u001b[0m\u001b[0;34m(\u001b[0m\u001b[0;34m)\u001b[0m \u001b[0;32mif\u001b[0m \u001b[0mk\u001b[0m \u001b[0;32min\u001b[0m \u001b[0mcls_init_args_name\u001b[0m\u001b[0;34m}\u001b[0m\u001b[0;34m\u001b[0m\u001b[0;34m\u001b[0m\u001b[0m\n\u001b[1;32m    198\u001b[0m \u001b[0;34m\u001b[0m\u001b[0m\n\u001b[0;32m--> 199\u001b[0;31m         \u001b[0mmodel\u001b[0m \u001b[0;34m=\u001b[0m \u001b[0mcls\u001b[0m\u001b[0;34m(\u001b[0m\u001b[0;34m**\u001b[0m\u001b[0m_cls_kwargs\u001b[0m\u001b[0;34m)\u001b[0m\u001b[0;34m\u001b[0m\u001b[0;34m\u001b[0m\u001b[0m\n\u001b[0m\u001b[1;32m    200\u001b[0m \u001b[0;34m\u001b[0m\u001b[0m\n\u001b[1;32m    201\u001b[0m         \u001b[0;31m# give model a chance to load something\u001b[0m\u001b[0;34m\u001b[0m\u001b[0;34m\u001b[0m\u001b[0;34m\u001b[0m\u001b[0m\n",
      "\u001b[0;32m~/repositories/nwp-downscale/notebooks/stephan_notebooks/src/models.py\u001b[0m in \u001b[0;36m__init__\u001b[0;34m(self, generator, discriminator, noise_shape, input_channels, cond_idx, real_idx, disc_spectral_norm, gen_spectral_norm, zero_noise, opt_hparams, loss_hparams, val_hparams)\u001b[0m\n\u001b[1;32m   1874\u001b[0m \u001b[0;34m\u001b[0m\u001b[0m\n\u001b[1;32m   1875\u001b[0m         \u001b[0mself\u001b[0m\u001b[0;34m.\u001b[0m\u001b[0mnoise_shape\u001b[0m \u001b[0;34m=\u001b[0m \u001b[0mnoise_shape\u001b[0m\u001b[0;34m\u001b[0m\u001b[0;34m\u001b[0m\u001b[0m\n\u001b[0;32m-> 1876\u001b[0;31m         \u001b[0mself\u001b[0m\u001b[0;34m.\u001b[0m\u001b[0mgen\u001b[0m \u001b[0;34m=\u001b[0m \u001b[0mgenerator\u001b[0m\u001b[0;34m(\u001b[0m\u001b[0minput_channels\u001b[0m\u001b[0;34m=\u001b[0m\u001b[0minput_channels\u001b[0m\u001b[0;34m)\u001b[0m\u001b[0;34m\u001b[0m\u001b[0;34m\u001b[0m\u001b[0m\n\u001b[0m\u001b[1;32m   1877\u001b[0m         \u001b[0mself\u001b[0m\u001b[0;34m.\u001b[0m\u001b[0mdisc\u001b[0m \u001b[0;34m=\u001b[0m \u001b[0mdiscriminator\u001b[0m\u001b[0;34m(\u001b[0m\u001b[0minput_channels\u001b[0m\u001b[0;34m=\u001b[0m\u001b[0minput_channels\u001b[0m\u001b[0;34m)\u001b[0m\u001b[0;34m\u001b[0m\u001b[0;34m\u001b[0m\u001b[0m\n\u001b[1;32m   1878\u001b[0m         \u001b[0mself\u001b[0m\u001b[0;34m.\u001b[0m\u001b[0mreal_idx\u001b[0m \u001b[0;34m=\u001b[0m \u001b[0mreal_idx\u001b[0m\u001b[0;34m\u001b[0m\u001b[0;34m\u001b[0m\u001b[0m\n",
      "\u001b[0;31mTypeError\u001b[0m: __init__() got an unexpected keyword argument 'input_channels'"
     ]
    }
   ],
   "source": [
    "gan = BaseGAN2.load_from_checkpoint(\n",
    "    f\"{model_dir}/epoch=499-step=258499.ckpt\")"
   ]
  },
  {
   "cell_type": "code",
   "execution_count": 79,
   "id": "ca8f79a8",
   "metadata": {
    "Collapsed": "false"
   },
   "outputs": [],
   "source": [
    "model = gan.gen\n",
    "model = model.to(device)\n",
    "model.train(False);"
   ]
  },
  {
   "cell_type": "markdown",
   "id": "c5d57864",
   "metadata": {
    "Collapsed": "false"
   },
   "source": [
    "## Full field eval"
   ]
  },
  {
   "cell_type": "code",
   "execution_count": 18,
   "id": "bbc5ad8a",
   "metadata": {
    "Collapsed": "false"
   },
   "outputs": [],
   "source": [
    "def create_valid_predictions(model, ds_valid, member_idx=None, zero_noise=False):\n",
    "    # Get predictions for full field\n",
    "    preds = []\n",
    "    for t in tqdm(range(len(ds_valid.tigge.valid_time))):\n",
    "        X, y = ds_valid.return_full_array(t, member_idx=member_idx)\n",
    "        noise = torch.randn(1, X.shape[0], X.shape[1], X.shape[2]).to(device)\n",
    "        if zero_noise:\n",
    "            noise *= 0\n",
    "        pred = model(torch.FloatTensor(X[None]).to(device), noise).to('cpu').detach().numpy()[0, 0]\n",
    "        preds.append(pred)\n",
    "    preds = np.array(preds)\n",
    "    \n",
    "    # Unscale\n",
    "    preds = preds * (ds_valid.maxs.tp.values - ds_valid.mins.tp.values) + ds_valid.mins.tp.values\n",
    "    \n",
    "    # Un-log\n",
    "    if ds_valid.tp_log:\n",
    "        preds = log_retrans(preds, ds_valid.tp_log)\n",
    "    \n",
    "    # Convert to xarray\n",
    "    preds = xr.DataArray(\n",
    "        preds,\n",
    "        dims=['valid_time', 'lat', 'lon'],\n",
    "        coords={\n",
    "            'valid_time': ds_valid.tigge.valid_time,\n",
    "            'lat': ds_valid.mrms.lat.isel(\n",
    "                lat=slice(ds_valid.pad_mrms, ds_valid.pad_mrms+preds.shape[1])\n",
    "            ),\n",
    "            'lon': ds_valid.mrms.lon.isel(\n",
    "                lon=slice(ds_valid.pad_mrms, ds_valid.pad_mrms+preds.shape[2])\n",
    "            )\n",
    "        },\n",
    "        name='tp'\n",
    "    )\n",
    "    return preds"
   ]
  },
  {
   "cell_type": "code",
   "execution_count": 19,
   "id": "b079c8d6",
   "metadata": {
    "Collapsed": "false"
   },
   "outputs": [],
   "source": [
    "def create_stitched_predictions(model, ds_test, member_idx, zero_noise=False):\n",
    "    preds = ds_test.mrms.copy(True) * np.NaN\n",
    "    for idx in tqdm(range(len(ds_test.idxs))):\n",
    "        time_idx, lat_idx, lon_idx = ds_test.idxs[idx]\n",
    "        lat_slice = slice(lat_idx * ds_test.ratio, lat_idx * ds_test.ratio + ds_test.patch_mrms)\n",
    "        lon_slice = slice(lon_idx * ds_test.ratio, lon_idx * ds_test.ratio + ds_test.patch_mrms)\n",
    "\n",
    "        X, y = ds_test.__getitem__(idx, member_idx=member_idx)\n",
    "\n",
    "        noise = torch.randn(1, X.shape[0], X.shape[1], X.shape[2]).to(device)\n",
    "        if zero_noise:\n",
    "            noise *= 0\n",
    "        p = model(torch.FloatTensor(X[None]).to(device), noise).to('cpu').detach().numpy()[0, 0]\n",
    "\n",
    "        preds[time_idx, lat_slice, lon_slice] = p\n",
    "    # Unscale\n",
    "    preds = preds * (ds_test.maxs.tp.values - ds_test.mins.tp.values) + ds_test.mins.tp.values\n",
    "\n",
    "    # Un-log\n",
    "    if ds_test.tp_log:\n",
    "        preds = log_retrans(preds, ds_test.tp_log)\n",
    "    preds = preds.rename({'time': 'valid_time'})\n",
    "    return preds"
   ]
  },
  {
   "cell_type": "code",
   "execution_count": 20,
   "id": "fee3e0bd",
   "metadata": {
    "Collapsed": "false"
   },
   "outputs": [],
   "source": [
    "def create_valid_ensemble(model, ds_valid, nens, stitched=False, zero_noise=False):\n",
    "    \"\"\"Wrapper to create ensemble\"\"\"\n",
    "    if stitched:\n",
    "        fn = create_stitched_predictions\n",
    "    else:\n",
    "        fn = create_valid_predictions\n",
    "    preds = [fn(model, ds_valid, member_idx=member_idx, zero_noise=zero_noise) for member_idx in range(nens)]\n",
    "    return xr.concat(preds, 'member')"
   ]
  },
  {
   "cell_type": "code",
   "execution_count": null,
   "id": "c3b006ac",
   "metadata": {
    "Collapsed": "false"
   },
   "outputs": [
    {
     "name": "stderr",
     "output_type": "stream",
     "text": [
      "  8%|▊         | 9/110 [01:11<13:23,  7.96s/it]"
     ]
    }
   ],
   "source": [
    "ens_pred = create_valid_ensemble(model, ds_test, members, zero_noise=zero_noise)"
   ]
  },
  {
   "cell_type": "code",
   "execution_count": null,
   "id": "f356d7ab",
   "metadata": {
    "Collapsed": "false"
   },
   "outputs": [],
   "source": [
    "ens_pred_stitched = create_valid_ensemble(model, ds_test, members, stitched=True, zero_noise=zero_noise)"
   ]
  },
  {
   "cell_type": "code",
   "execution_count": null,
   "id": "a69ac09b",
   "metadata": {
    "Collapsed": "false"
   },
   "outputs": [],
   "source": [
    "ens_pred.to_netcdf(f'tmp/ens_pred_{name}.nc')\n",
    "ens_pred_stitched.to_netcdf(f'tmp/ens_pred_stitched_{name}.nc')"
   ]
  },
  {
   "cell_type": "code",
   "execution_count": null,
   "id": "41695031",
   "metadata": {
    "Collapsed": "false"
   },
   "outputs": [],
   "source": [
    "ens_pred.isel(valid_time=1).plot(vmin=0, vmax=20, cmap='gist_ncar_r', col='member')"
   ]
  },
  {
   "cell_type": "markdown",
   "id": "78073afa",
   "metadata": {
    "Collapsed": "false"
   },
   "source": [
    "## Get ground truth"
   ]
  },
  {
   "cell_type": "code",
   "execution_count": null,
   "id": "8ee79e7b",
   "metadata": {
    "Collapsed": "false"
   },
   "outputs": [],
   "source": [
    "mrms = ds_test.mrms.rename(\n",
    "    {'time': 'valid_time'}) * ds_test.maxs.tp.values\n",
    "mrms = log_retrans(mrms, ds_test.tp_log)"
   ]
  },
  {
   "cell_type": "code",
   "execution_count": null,
   "id": "4471ed43",
   "metadata": {
    "Collapsed": "false"
   },
   "outputs": [],
   "source": [
    "mrms.to_netcdf('tmp/mrms.nc')"
   ]
  },
  {
   "cell_type": "markdown",
   "id": "da3b86b1",
   "metadata": {
    "Collapsed": "false"
   },
   "source": [
    "## Get interpolation baseline"
   ]
  },
  {
   "cell_type": "code",
   "execution_count": null,
   "id": "2315ff69",
   "metadata": {
    "Collapsed": "false"
   },
   "outputs": [],
   "source": [
    "tigge = ds_test.tigge.isel(variable=0) * ds_test.maxs.tp.values\n",
    "tigge = log_retrans(tigge, ds_test.tp_log)"
   ]
  },
  {
   "cell_type": "code",
   "execution_count": null,
   "id": "4c659b2d",
   "metadata": {
    "Collapsed": "false"
   },
   "outputs": [],
   "source": [
    "interp = tigge.interp_like(mrms, method='linear')"
   ]
  },
  {
   "cell_type": "code",
   "execution_count": null,
   "id": "ca03417d",
   "metadata": {
    "Collapsed": "false"
   },
   "outputs": [],
   "source": [
    "interp.to_netcdf('tmp/interp_ens.nc')"
   ]
  },
  {
   "cell_type": "markdown",
   "id": "47149c5f",
   "metadata": {
    "Collapsed": "false"
   },
   "source": [
    "### HREF"
   ]
  },
  {
   "cell_type": "code",
   "execution_count": null,
   "id": "daa2301a",
   "metadata": {
    "Collapsed": "false"
   },
   "outputs": [],
   "source": [
    "href = xr.open_mfdataset('/home/jupyter/data/hrefv2//4km/total_precipitation/2020*.nc')"
   ]
  },
  {
   "cell_type": "code",
   "execution_count": null,
   "id": "2418a164",
   "metadata": {
    "Collapsed": "false"
   },
   "outputs": [],
   "source": [
    "href = href.tp.diff('lead_time').sel(lead_time=np.timedelta64(12, 'h'))"
   ]
  },
  {
   "cell_type": "code",
   "execution_count": null,
   "id": "36a5ca0b",
   "metadata": {
    "Collapsed": "false"
   },
   "outputs": [],
   "source": [
    "href['valid_time'] = href.init_time + href.lead_time\n",
    "href = href.swap_dims({'init_time': 'valid_time'})"
   ]
  },
  {
   "cell_type": "code",
   "execution_count": null,
   "id": "0e11e38a",
   "metadata": {
    "Collapsed": "false"
   },
   "outputs": [],
   "source": [
    "href = href.assign_coords({'lat': interp.lat.values, 'lon': interp.lon.values})"
   ]
  },
  {
   "cell_type": "code",
   "execution_count": null,
   "id": "1b615eb4",
   "metadata": {
    "Collapsed": "false"
   },
   "outputs": [],
   "source": [
    "overlap_times = np.intersect1d(interp.valid_time, href.valid_time)"
   ]
  },
  {
   "cell_type": "code",
   "execution_count": null,
   "id": "5a41b60b",
   "metadata": {
    "Collapsed": "false"
   },
   "outputs": [],
   "source": [
    "href = href.sel(valid_time=overlap_times)"
   ]
  },
  {
   "cell_type": "code",
   "execution_count": null,
   "id": "7b64a089",
   "metadata": {
    "Collapsed": "false"
   },
   "outputs": [],
   "source": [
    "href.load();"
   ]
  },
  {
   "cell_type": "code",
   "execution_count": null,
   "id": "91a14419",
   "metadata": {
    "Collapsed": "false"
   },
   "outputs": [],
   "source": [
    "href.to_netcdf('tmp/href.nc')"
   ]
  },
  {
   "cell_type": "markdown",
   "id": "6973c172",
   "metadata": {
    "Collapsed": "false"
   },
   "source": [
    "# Old"
   ]
  },
  {
   "cell_type": "markdown",
   "id": "e4ebffa2",
   "metadata": {
    "Collapsed": "false"
   },
   "source": [
    "## Get mask"
   ]
  },
  {
   "cell_type": "code",
   "execution_count": null,
   "id": "c825564c",
   "metadata": {
    "Collapsed": "false"
   },
   "outputs": [],
   "source": [
    "ds = xr.open_dataset(\n",
    "    '/home/jupyter/data/hrrr/raw/total_precipitation/20180215_00.nc')"
   ]
  },
  {
   "cell_type": "code",
   "execution_count": null,
   "id": "2a80b9b0",
   "metadata": {
    "Collapsed": "false"
   },
   "outputs": [],
   "source": [
    "from src.regrid import *"
   ]
  },
  {
   "cell_type": "code",
   "execution_count": null,
   "id": "a88a7755",
   "metadata": {
    "Collapsed": "false"
   },
   "outputs": [],
   "source": [
    "ds_regridded = regrid(ds, 4, lons=(235, 290), lats=(50, 20))"
   ]
  },
  {
   "cell_type": "code",
   "execution_count": null,
   "id": "3a81a026",
   "metadata": {
    "Collapsed": "false"
   },
   "outputs": [],
   "source": [
    "hrrr_mask = np.isfinite(ds_regridded).tp.isel(init_time=0, lead_time=0)"
   ]
  },
  {
   "cell_type": "code",
   "execution_count": null,
   "id": "01534d8f",
   "metadata": {
    "Collapsed": "false"
   },
   "outputs": [],
   "source": [
    "rq.plot(vmin=0, vmax=1)"
   ]
  },
  {
   "cell_type": "code",
   "execution_count": null,
   "id": "b9d3346d",
   "metadata": {
    "Collapsed": "false"
   },
   "outputs": [],
   "source": [
    "(rq>0.3).plot(vmin=0, vmax=1)"
   ]
  },
  {
   "cell_type": "code",
   "execution_count": null,
   "id": "62adf47b",
   "metadata": {
    "Collapsed": "false"
   },
   "outputs": [],
   "source": [
    "mrms_mask.plot(vmin=0, vmax=1)"
   ]
  },
  {
   "cell_type": "code",
   "execution_count": null,
   "id": "7c43143c",
   "metadata": {
    "Collapsed": "false"
   },
   "outputs": [],
   "source": [
    "rq = xr.open_dataarray(f'{DATADRIVE}/mrms/4km/RadarQuality.nc')\n",
    "mrms_mask = rq>-1\n",
    "mrms_mask = mrms_mask.assign_coords({\n",
    "    'lat': hrrr_mask.lat,\n",
    "    'lon': hrrr_mask.lon\n",
    "})"
   ]
  },
  {
   "cell_type": "code",
   "execution_count": null,
   "id": "38b9a1ad",
   "metadata": {
    "Collapsed": "false"
   },
   "outputs": [],
   "source": [
    "total_mask = mrms_mask * hrrr_mask"
   ]
  },
  {
   "cell_type": "code",
   "execution_count": null,
   "id": "fa988664",
   "metadata": {
    "Collapsed": "false"
   },
   "outputs": [],
   "source": [
    "total_mask = total_mask.isel(lat=slice(0, -6))"
   ]
  },
  {
   "cell_type": "code",
   "execution_count": null,
   "id": "e99977d5",
   "metadata": {
    "Collapsed": "false"
   },
   "outputs": [],
   "source": [
    "total_mask = total_mask.assign_coords({'lat': interp.lat.values, 'lon': interp.lon.values})"
   ]
  },
  {
   "cell_type": "code",
   "execution_count": null,
   "id": "1c6602ca",
   "metadata": {
    "Collapsed": "false"
   },
   "outputs": [],
   "source": [
    "total_mask.plot()"
   ]
  },
  {
   "cell_type": "markdown",
   "id": "18ca0286",
   "metadata": {
    "Collapsed": "false"
   },
   "source": [
    "## Compute scores"
   ]
  },
  {
   "cell_type": "code",
   "execution_count": null,
   "id": "a80af4f0",
   "metadata": {
    "Collapsed": "false"
   },
   "outputs": [],
   "source": [
    "hrrr = hrrr.isel(lat=slice(0, -6))"
   ]
  },
  {
   "cell_type": "code",
   "execution_count": null,
   "id": "da21a849",
   "metadata": {
    "Collapsed": "false"
   },
   "outputs": [],
   "source": [
    "hrrr = hrrr.assign_coords({'lat': interp.lat.values, 'lon': interp.lon.values})"
   ]
  },
  {
   "cell_type": "code",
   "execution_count": null,
   "id": "d80342c6",
   "metadata": {
    "Collapsed": "false"
   },
   "outputs": [],
   "source": [
    "# Apply mask\n",
    "mrms = mrms.where(total_mask)\n",
    "det_pred = det_pred.where(total_mask)\n",
    "hrrr = hrrr.where(total_mask)\n",
    "interp = interp.where(total_mask)"
   ]
  },
  {
   "cell_type": "code",
   "execution_count": null,
   "id": "37d5c73d",
   "metadata": {
    "Collapsed": "false"
   },
   "outputs": [],
   "source": [
    "det_pred2 = det_pred2.where(total_mask)\n"
   ]
  },
  {
   "cell_type": "code",
   "execution_count": null,
   "id": "9a6b6ba7",
   "metadata": {
    "Collapsed": "false"
   },
   "outputs": [],
   "source": [
    "hrrr.load()"
   ]
  },
  {
   "cell_type": "markdown",
   "id": "108bc193",
   "metadata": {
    "Collapsed": "false"
   },
   "source": [
    "## Bias"
   ]
  },
  {
   "cell_type": "code",
   "execution_count": null,
   "id": "64ba93c8",
   "metadata": {
    "Collapsed": "false"
   },
   "outputs": [],
   "source": [
    "mrms.mean().values"
   ]
  },
  {
   "cell_type": "code",
   "execution_count": null,
   "id": "0b4daa93",
   "metadata": {
    "Collapsed": "false"
   },
   "outputs": [],
   "source": [
    "det_pred.mean().values"
   ]
  },
  {
   "cell_type": "code",
   "execution_count": null,
   "id": "3a81e884",
   "metadata": {
    "Collapsed": "false"
   },
   "outputs": [],
   "source": [
    "interp.mean().values"
   ]
  },
  {
   "cell_type": "code",
   "execution_count": null,
   "id": "9f3f343e",
   "metadata": {
    "Collapsed": "false"
   },
   "outputs": [],
   "source": [
    "hrrr.mean().values"
   ]
  },
  {
   "cell_type": "markdown",
   "id": "c93c952a",
   "metadata": {
    "Collapsed": "false"
   },
   "source": [
    "### Histograms"
   ]
  },
  {
   "cell_type": "code",
   "execution_count": null,
   "id": "a4cd0c8d",
   "metadata": {
    "Collapsed": "false"
   },
   "outputs": [],
   "source": [
    "bins = np.logspace(0, 2, 25)-1\n",
    "mid_bin = (bins[1:] + bins[:-1])/2"
   ]
  },
  {
   "cell_type": "code",
   "execution_count": null,
   "id": "b54fca7b",
   "metadata": {
    "Collapsed": "false"
   },
   "outputs": [],
   "source": [
    "def plot_hist(ds, bins, label):\n",
    "    nums, bins = np.histogram(ds.values, bins=bins)\n",
    "    plt.plot(mid_bin, nums, marker='o', label=label)"
   ]
  },
  {
   "cell_type": "code",
   "execution_count": null,
   "id": "dc206041",
   "metadata": {
    "Collapsed": "false"
   },
   "outputs": [],
   "source": [
    "plt.figure(figsize=(10, 5))\n",
    "plot_hist(det_pred, bins, 'GAN')\n",
    "plot_hist(mrms, bins, 'Obs')\n",
    "plot_hist(interp, bins, 'Interp')\n",
    "plot_hist(hrrr, bins, 'HRRR')\n",
    "plt.yscale('log')\n",
    "plt.legend()"
   ]
  },
  {
   "cell_type": "markdown",
   "id": "218f243e",
   "metadata": {
    "Collapsed": "false"
   },
   "source": [
    "### RMSE"
   ]
  },
  {
   "cell_type": "code",
   "execution_count": null,
   "id": "d957749a",
   "metadata": {
    "Collapsed": "false"
   },
   "outputs": [],
   "source": [
    "xs.rmse(det_pred, mrms, dim=['lat', 'lon', 'valid_time'], skipna=True).values"
   ]
  },
  {
   "cell_type": "code",
   "execution_count": null,
   "id": "a26c9ee7",
   "metadata": {
    "Collapsed": "false"
   },
   "outputs": [],
   "source": [
    "xs.rmse(interp, mrms, dim=['lat', 'lon', 'valid_time'], skipna=True).values"
   ]
  },
  {
   "cell_type": "code",
   "execution_count": null,
   "id": "1850645e",
   "metadata": {
    "Collapsed": "false"
   },
   "outputs": [],
   "source": [
    "xs.rmse(hrrr, mrms, dim=['lat', 'lon', 'valid_time'], skipna=True).values"
   ]
  },
  {
   "cell_type": "markdown",
   "id": "8c46a848",
   "metadata": {
    "Collapsed": "false"
   },
   "source": [
    "### FSS"
   ]
  },
  {
   "cell_type": "code",
   "execution_count": null,
   "id": "191fc117",
   "metadata": {
    "Collapsed": "false"
   },
   "outputs": [],
   "source": [
    "thresh = 10\n",
    "window = 100 // 4"
   ]
  },
  {
   "cell_type": "code",
   "execution_count": null,
   "id": "7e4e8757",
   "metadata": {
    "Collapsed": "false"
   },
   "outputs": [],
   "source": [
    "def compute_fss(f, o, thresh, window, time_mean=True):\n",
    "    f_thresh = f > thresh\n",
    "    o_thresh = o > thresh\n",
    "    f_frac = f_thresh.rolling({'lat': window, 'lon': window}, center=True).mean()\n",
    "    o_frac = o_thresh.rolling({'lat': window, 'lon': window}, center=True).mean()\n",
    "    mse = ((f_frac - o_frac)**2).mean(('lat', 'lon'))\n",
    "    mse_ref = (f_frac**2).mean(('lat', 'lon')) + (o_frac**2).mean(('lat', 'lon'))\n",
    "    fss = 1 - mse / mse_ref\n",
    "    if time_mean:\n",
    "        fss = fss.mean('valid_time')\n",
    "    return fss"
   ]
  },
  {
   "cell_type": "code",
   "execution_count": null,
   "id": "3496f11b",
   "metadata": {
    "Collapsed": "false"
   },
   "outputs": [],
   "source": [
    "compute_fss(mrms, det_pred, thresh, window).values"
   ]
  },
  {
   "cell_type": "code",
   "execution_count": null,
   "id": "19ad8e66",
   "metadata": {
    "Collapsed": "false"
   },
   "outputs": [],
   "source": [
    "compute_fss(mrms, interp, thresh, window).values"
   ]
  },
  {
   "cell_type": "code",
   "execution_count": null,
   "id": "628eda3a",
   "metadata": {
    "Collapsed": "false"
   },
   "outputs": [],
   "source": [
    "compute_fss(mrms, hrrr, thresh, window).values"
   ]
  },
  {
   "cell_type": "code",
   "execution_count": null,
   "id": "734b8db9",
   "metadata": {
    "Collapsed": "false"
   },
   "outputs": [],
   "source": []
  },
  {
   "cell_type": "code",
   "execution_count": null,
   "id": "672e5599",
   "metadata": {
    "Collapsed": "false"
   },
   "outputs": [],
   "source": [
    "fig, ax = plt.subplots(figsize=(20, 10))\n",
    "det_pred.isel(valid_time=2).plot(vmin=0, vmax=20)\n",
    "ax.set_aspect('equal')"
   ]
  },
  {
   "cell_type": "code",
   "execution_count": null,
   "id": "ef12d7c6",
   "metadata": {
    "Collapsed": "false"
   },
   "outputs": [],
   "source": [
    "fig, ax = plt.subplots(figsize=(20, 10))\n",
    "det_pred2.isel(valid_time=2).plot(vmin=0, vmax=20)\n",
    "ax.set_aspect('equal')"
   ]
  },
  {
   "cell_type": "code",
   "execution_count": null,
   "id": "febf4b51",
   "metadata": {
    "Collapsed": "false"
   },
   "outputs": [],
   "source": [
    "fig, ax = plt.subplots(figsize=(20, 10))\n",
    "mrms.isel(valid_time=2).plot(vmin=0, vmax=20)\n",
    "ax.set_aspect('equal')"
   ]
  },
  {
   "cell_type": "code",
   "execution_count": null,
   "id": "04298a0f",
   "metadata": {
    "Collapsed": "false"
   },
   "outputs": [],
   "source": [
    "fig, ax = plt.subplots(figsize=(20, 10))\n",
    "interp.isel(valid_time=2).plot(vmin=0, vmax=20)\n",
    "ax.set_aspect('equal')"
   ]
  },
  {
   "cell_type": "code",
   "execution_count": null,
   "id": "8c700557",
   "metadata": {
    "Collapsed": "false"
   },
   "outputs": [],
   "source": [
    "fig, ax = plt.subplots(figsize=(20, 10))\n",
    "hrrr.isel(valid_time=2).plot(vmin=0, vmax=20)\n",
    "ax.set_aspect('equal')"
   ]
  },
  {
   "cell_type": "code",
   "execution_count": null,
   "id": "0881251a",
   "metadata": {
    "Collapsed": "false"
   },
   "outputs": [],
   "source": []
  },
  {
   "cell_type": "code",
   "execution_count": null,
   "id": "d5307d8d",
   "metadata": {
    "Collapsed": "false"
   },
   "outputs": [],
   "source": [
    "interp[50].plot(vmin=0, vmax=20)"
   ]
  },
  {
   "cell_type": "code",
   "execution_count": null,
   "id": "51a9cf9f",
   "metadata": {
    "Collapsed": "false"
   },
   "outputs": [],
   "source": [
    "hrrr[50].plot(vmin=0, vmax=20)"
   ]
  },
  {
   "cell_type": "code",
   "execution_count": null,
   "id": "0a09296a",
   "metadata": {
    "Collapsed": "false"
   },
   "outputs": [],
   "source": [
    "\n",
    " eps = 1e-6\n",
    "bin_edges = [-eps] + np.linspace(eps, log_retrans(ds_max, tp_log)+eps, 51).tolist()\n",
    "pred_means.append(np.mean(preds.sel(member=0)))\n",
    "pred_hists.append(np.histogram(preds.sel(member=0), bins = bin_edges, density=False)[0])\n",
    "truth_means.append(np.mean(truth))\n",
    "truth_hists.append(np.histogram(truth, bins = bin_edges, density=False)[0])\n",
    "\n",
    "truth_pert = truth + np.random.normal(scale=1e-6, size=truth.shape)\n",
    "preds_pert = preds + np.random.normal(scale=1e-6, size=preds.shape) \n"
   ]
  },
  {
   "cell_type": "code",
   "execution_count": null,
   "id": "5229ef27",
   "metadata": {
    "Collapsed": "false"
   },
   "outputs": [],
   "source": []
  },
  {
   "cell_type": "code",
   "execution_count": null,
   "id": "95382cbb",
   "metadata": {
    "Collapsed": "false"
   },
   "outputs": [],
   "source": []
  },
  {
   "cell_type": "code",
   "execution_count": null,
   "id": "ce621279",
   "metadata": {
    "Collapsed": "false"
   },
   "outputs": [],
   "source": []
  },
  {
   "cell_type": "code",
   "execution_count": null,
   "id": "3aba41ea",
   "metadata": {
    "Collapsed": "false"
   },
   "outputs": [],
   "source": []
  },
  {
   "cell_type": "code",
   "execution_count": null,
   "id": "339a0a0f",
   "metadata": {
    "Collapsed": "false"
   },
   "outputs": [],
   "source": []
  },
  {
   "cell_type": "code",
   "execution_count": null,
   "id": "d9eea162",
   "metadata": {
    "Collapsed": "false"
   },
   "outputs": [],
   "source": []
  },
  {
   "cell_type": "code",
   "execution_count": null,
   "id": "37ce89a2",
   "metadata": {
    "Collapsed": "false"
   },
   "outputs": [],
   "source": []
  },
  {
   "cell_type": "code",
   "execution_count": null,
   "id": "a7834b05",
   "metadata": {
    "Collapsed": "false"
   },
   "outputs": [],
   "source": []
  },
  {
   "cell_type": "code",
   "execution_count": null,
   "id": "d6ffcaff",
   "metadata": {
    "Collapsed": "false"
   },
   "outputs": [],
   "source": []
  },
  {
   "cell_type": "code",
   "execution_count": null,
   "id": "e7aa3ee9",
   "metadata": {
    "Collapsed": "false"
   },
   "outputs": [],
   "source": []
  },
  {
   "cell_type": "code",
   "execution_count": null,
   "id": "9cd7a4ad",
   "metadata": {
    "Collapsed": "false"
   },
   "outputs": [],
   "source": []
  },
  {
   "cell_type": "code",
   "execution_count": null,
   "id": "22211920",
   "metadata": {
    "Collapsed": "false"
   },
   "outputs": [],
   "source": []
  },
  {
   "cell_type": "code",
   "execution_count": null,
   "id": "fe87d3e1",
   "metadata": {
    "Collapsed": "false"
   },
   "outputs": [],
   "source": []
  },
  {
   "cell_type": "code",
   "execution_count": null,
   "id": "f76da794",
   "metadata": {
    "Collapsed": "false"
   },
   "outputs": [],
   "source": []
  },
  {
   "cell_type": "code",
   "execution_count": null,
   "id": "28b98a00",
   "metadata": {
    "Collapsed": "false"
   },
   "outputs": [],
   "source": []
  },
  {
   "cell_type": "code",
   "execution_count": null,
   "id": "ba4ad924",
   "metadata": {
    "Collapsed": "false"
   },
   "outputs": [],
   "source": []
  },
  {
   "cell_type": "code",
   "execution_count": null,
   "id": "2ba13798",
   "metadata": {
    "Collapsed": "false"
   },
   "outputs": [],
   "source": []
  },
  {
   "cell_type": "code",
   "execution_count": null,
   "id": "04cb2a1e",
   "metadata": {
    "Collapsed": "false"
   },
   "outputs": [],
   "source": []
  },
  {
   "cell_type": "code",
   "execution_count": null,
   "id": "c2c54c09",
   "metadata": {
    "Collapsed": "false"
   },
   "outputs": [],
   "source": []
  },
  {
   "cell_type": "code",
   "execution_count": null,
   "id": "94fcfd49",
   "metadata": {
    "Collapsed": "false"
   },
   "outputs": [],
   "source": []
  },
  {
   "cell_type": "code",
   "execution_count": null,
   "id": "aeb6c6e0",
   "metadata": {
    "Collapsed": "false"
   },
   "outputs": [],
   "source": []
  },
  {
   "cell_type": "code",
   "execution_count": null,
   "id": "aaea6db4",
   "metadata": {
    "Collapsed": "false"
   },
   "outputs": [],
   "source": []
  },
  {
   "cell_type": "code",
   "execution_count": null,
   "id": "36eacf20",
   "metadata": {
    "Collapsed": "false"
   },
   "outputs": [],
   "source": []
  },
  {
   "cell_type": "code",
   "execution_count": null,
   "id": "25f386cc",
   "metadata": {
    "Collapsed": "false"
   },
   "outputs": [],
   "source": []
  },
  {
   "cell_type": "code",
   "execution_count": null,
   "id": "991085db",
   "metadata": {
    "Collapsed": "false"
   },
   "outputs": [],
   "source": []
  },
  {
   "cell_type": "code",
   "execution_count": null,
   "id": "908ba191",
   "metadata": {
    "Collapsed": "false"
   },
   "outputs": [],
   "source": []
  },
  {
   "cell_type": "code",
   "execution_count": null,
   "id": "6e181372",
   "metadata": {
    "Collapsed": "false"
   },
   "outputs": [],
   "source": []
  },
  {
   "cell_type": "code",
   "execution_count": null,
   "id": "9be9f04c",
   "metadata": {
    "Collapsed": "false"
   },
   "outputs": [],
   "source": []
  },
  {
   "cell_type": "code",
   "execution_count": null,
   "id": "24fd41a7",
   "metadata": {
    "Collapsed": "false"
   },
   "outputs": [],
   "source": []
  },
  {
   "cell_type": "code",
   "execution_count": null,
   "id": "38b42154",
   "metadata": {
    "Collapsed": "false"
   },
   "outputs": [],
   "source": []
  },
  {
   "cell_type": "code",
   "execution_count": null,
   "id": "e0c1c9a4",
   "metadata": {
    "Collapsed": "false"
   },
   "outputs": [],
   "source": []
  },
  {
   "cell_type": "code",
   "execution_count": null,
   "id": "5d89ed7a",
   "metadata": {
    "Collapsed": "false"
   },
   "outputs": [],
   "source": []
  },
  {
   "cell_type": "code",
   "execution_count": null,
   "id": "744de361",
   "metadata": {
    "Collapsed": "false"
   },
   "outputs": [],
   "source": []
  },
  {
   "cell_type": "code",
   "execution_count": null,
   "id": "5cbd658a",
   "metadata": {
    "Collapsed": "false"
   },
   "outputs": [],
   "source": []
  },
  {
   "cell_type": "code",
   "execution_count": null,
   "id": "5052edd8",
   "metadata": {
    "Collapsed": "false"
   },
   "outputs": [],
   "source": []
  },
  {
   "cell_type": "code",
   "execution_count": null,
   "id": "a94ec6e1",
   "metadata": {
    "Collapsed": "false"
   },
   "outputs": [],
   "source": []
  },
  {
   "cell_type": "code",
   "execution_count": null,
   "id": "2ea65c53",
   "metadata": {
    "Collapsed": "false"
   },
   "outputs": [],
   "source": []
  }
 ],
 "metadata": {
  "environment": {
   "name": "common-cu110.m74",
   "type": "gcloud",
   "uri": "gcr.io/deeplearning-platform-release/base-cu110:m74"
  },
  "kernelspec": {
   "display_name": "Python [conda env:ilan]",
   "language": "python",
   "name": "conda-env-ilan-py"
  },
  "language_info": {
   "codemirror_mode": {
    "name": "ipython",
    "version": 3
   },
   "file_extension": ".py",
   "mimetype": "text/x-python",
   "name": "python",
   "nbconvert_exporter": "python",
   "pygments_lexer": "ipython3",
   "version": "3.9.5"
  }
 },
 "nbformat": 4,
 "nbformat_minor": 5
}
