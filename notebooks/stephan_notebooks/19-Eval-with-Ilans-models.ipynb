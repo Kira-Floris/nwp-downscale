{
 "cells": [
  {
   "cell_type": "code",
   "execution_count": 1,
   "id": "e4a85018",
   "metadata": {
    "Collapsed": "false"
   },
   "outputs": [],
   "source": [
    "%load_ext autoreload\n",
    "%autoreload 2"
   ]
  },
  {
   "cell_type": "code",
   "execution_count": 2,
   "id": "032bd27e",
   "metadata": {
    "Collapsed": "false"
   },
   "outputs": [],
   "source": [
    "import torch\n",
    "from torch.nn import functional as F\n",
    "from torch import nn\n",
    "from pytorch_lightning.core.lightning import LightningModule\n",
    "import pytorch_lightning as pl\n",
    "\n",
    "import torch.optim as optim\n",
    "import torchvision\n",
    "import torchvision.datasets as datasets\n",
    "import torchvision.transforms as transforms\n",
    "from torch.utils.data import DataLoader\n",
    "\n",
    "from src.models import *\n",
    "# from ilan_src.models import *\n",
    "from src.dataloader import *\n",
    "from src.utils import *\n",
    "from src.evaluation import *\n",
    "\n",
    "import xarray as xr\n",
    "import numpy as np\n",
    "import matplotlib.pyplot as plt\n",
    "\n",
    "import pickle\n",
    "\n",
    "if torch.cuda.is_available():\n",
    "    device = torch.device(\"cuda\") \n",
    "else:\n",
    "    device = torch.device(\"cpu\")"
   ]
  },
  {
   "cell_type": "code",
   "execution_count": 3,
   "id": "e0010132",
   "metadata": {
    "Collapsed": "false"
   },
   "outputs": [],
   "source": [
    "import sys"
   ]
  },
  {
   "cell_type": "markdown",
   "id": "cf1fd97e",
   "metadata": {
    "Collapsed": "false"
   },
   "source": [
    "## Set up dataset - my way"
   ]
  },
  {
   "cell_type": "code",
   "execution_count": 4,
   "id": "59bb3485",
   "metadata": {
    "Collapsed": "false"
   },
   "outputs": [],
   "source": [
    "members = 10\n",
    "zero_noise = False"
   ]
  },
  {
   "cell_type": "code",
   "execution_count": 5,
   "id": "cfaac2e3",
   "metadata": {
    "Collapsed": "false"
   },
   "outputs": [],
   "source": [
    "DATADRIVE = '/home/jupyter/data/'"
   ]
  },
  {
   "cell_type": "code",
   "execution_count": 6,
   "id": "483c7c53",
   "metadata": {
    "Collapsed": "false"
   },
   "outputs": [
    {
     "name": "stderr",
     "output_type": "stream",
     "text": [
      "/opt/conda/envs/ilan/lib/python3.9/site-packages/xarray/core/indexing.py:1379: PerformanceWarning: Slicing is producing a large chunk. To accept the large\n",
      "chunk and silence this warning, set the option\n",
      "    >>> with dask.config.set(**{'array.slicing.split_large_chunks': False}):\n",
      "    ...     array[indexer]\n",
      "\n",
      "To avoid creating the large chunks, set the option\n",
      "    >>> with dask.config.set(**{'array.slicing.split_large_chunks': True}):\n",
      "    ...     array[indexer]\n",
      "  return self.array[key]\n"
     ]
    },
    {
     "name": "stdout",
     "output_type": "stream",
     "text": [
      "Loading data\n"
     ]
    }
   ],
   "source": [
    "ds_train = TiggeMRMSDataset(\n",
    "    tigge_dir=f'{DATADRIVE}/tigge/32km/',\n",
    "    tigge_vars=['total_precipitation_ens10', 'total_column_water'],\n",
    "    mrms_dir=f'{DATADRIVE}/mrms/4km/RadarOnly_QPE_06H/',\n",
    "    rq_fn=f'{DATADRIVE}/mrms/4km/RadarQuality.nc',\n",
    "    data_period=('2018-01', '2019-12'),\n",
    "    val_days=5,\n",
    "    split='train',\n",
    "    tp_log=0.01,\n",
    "    ensemble_mode='random',\n",
    "    idx_stride=16\n",
    ")"
   ]
  },
  {
   "cell_type": "code",
   "execution_count": 7,
   "id": "59569a2c",
   "metadata": {},
   "outputs": [],
   "source": [
    "# !mkdir tmp"
   ]
  },
  {
   "cell_type": "code",
   "execution_count": 8,
   "id": "e245e6d9",
   "metadata": {
    "Collapsed": "false"
   },
   "outputs": [],
   "source": [
    "ds_train.mins.to_netcdf('tmp/mins1.nc')\n",
    "ds_train.maxs.to_netcdf('tmp/maxs1.nc')"
   ]
  },
  {
   "cell_type": "code",
   "execution_count": 9,
   "id": "693613c8",
   "metadata": {
    "Collapsed": "false"
   },
   "outputs": [],
   "source": [
    "mins = xr.open_dataset('tmp/mins1.nc')\n",
    "maxs = xr.open_dataset('tmp/maxs1.nc')"
   ]
  },
  {
   "cell_type": "code",
   "execution_count": 11,
   "id": "756060e8",
   "metadata": {
    "Collapsed": "false"
   },
   "outputs": [
    {
     "name": "stderr",
     "output_type": "stream",
     "text": [
      "/opt/conda/envs/ilan/lib/python3.9/site-packages/xarray/core/indexing.py:1379: PerformanceWarning: Slicing is producing a large chunk. To accept the large\n",
      "chunk and silence this warning, set the option\n",
      "    >>> with dask.config.set(**{'array.slicing.split_large_chunks': False}):\n",
      "    ...     array[indexer]\n",
      "\n",
      "To avoid creating the large chunks, set the option\n",
      "    >>> with dask.config.set(**{'array.slicing.split_large_chunks': True}):\n",
      "    ...     array[indexer]\n",
      "  return self.array[key]\n"
     ]
    },
    {
     "name": "stdout",
     "output_type": "stream",
     "text": [
      "Loading data\n"
     ]
    }
   ],
   "source": [
    "ds_test = TiggeMRMSDataset(\n",
    "    tigge_dir=f'{DATADRIVE}/tigge/32km/',\n",
    "    tigge_vars=['total_precipitation_ens10'],\n",
    "    mrms_dir=f'{DATADRIVE}/mrms/4km/RadarOnly_QPE_06H/',\n",
    "#     rq_fn=f'{DATADRIVE}/mrms/4km/RadarQuality.nc',\n",
    "    data_period=('2020-01', '2020-12'),\n",
    "    first_days=5,\n",
    "    tp_log=0.01,\n",
    "    mins=mins,\n",
    "    maxs=maxs,\n",
    "    ensemble_mode='random',\n",
    "    idx_stride=16\n",
    ")"
   ]
  },
  {
   "cell_type": "code",
   "execution_count": 10,
   "id": "843fad90",
   "metadata": {
    "Collapsed": "false"
   },
   "outputs": [
    {
     "name": "stderr",
     "output_type": "stream",
     "text": [
      "/opt/conda/envs/ilan/lib/python3.9/site-packages/xarray/core/indexing.py:1379: PerformanceWarning: Slicing is producing a large chunk. To accept the large\n",
      "chunk and silence this warning, set the option\n",
      "    >>> with dask.config.set(**{'array.slicing.split_large_chunks': False}):\n",
      "    ...     array[indexer]\n",
      "\n",
      "To avoid creating the large chunks, set the option\n",
      "    >>> with dask.config.set(**{'array.slicing.split_large_chunks': True}):\n",
      "    ...     array[indexer]\n",
      "  return self.array[key]\n"
     ]
    },
    {
     "name": "stdout",
     "output_type": "stream",
     "text": [
      "Loading data\n"
     ]
    }
   ],
   "source": [
    "# For ens_tp with stuff\n",
    "ds_test_pad = TiggeMRMSDataset(\n",
    "    tigge_dir=f'{DATADRIVE}/tigge/32km/',\n",
    "    tigge_vars=['total_precipitation_ens10', 'total_column_water'],\n",
    "    mrms_dir=f'{DATADRIVE}/mrms/4km/RadarOnly_QPE_06H/',\n",
    "#     rq_fn=f'{DATADRIVE}/mrms/4km/RadarQuality.nc',\n",
    "    data_period=('2020-01', '2020-12'),\n",
    "    first_days=5,\n",
    "    tp_log=0.01,\n",
    "    mins=mins,\n",
    "    maxs=maxs,\n",
    "    ensemble_mode='random',\n",
    "    idx_stride=8,\n",
    "    pad_tigge=10,\n",
    "    pad_tigge_channel=True,\n",
    ")"
   ]
  },
  {
   "cell_type": "code",
   "execution_count": 33,
   "id": "cbde9d07",
   "metadata": {},
   "outputs": [
    {
     "data": {
      "text/plain": [
       "(3, 16, 16)"
      ]
     },
     "execution_count": 33,
     "metadata": {},
     "output_type": "execute_result"
    }
   ],
   "source": [
    "ds_test_pad[0][0].shape"
   ]
  },
  {
   "cell_type": "markdown",
   "id": "68abef34",
   "metadata": {
    "Collapsed": "false"
   },
   "source": [
    "## Load models"
   ]
  },
  {
   "cell_type": "markdown",
   "id": "e45f2a2b",
   "metadata": {
    "Collapsed": "false"
   },
   "source": [
    "### Model 1: single_forecast_tp_pure_sr_pretraining"
   ]
  },
  {
   "cell_type": "code",
   "execution_count": 15,
   "id": "e11fa0ad",
   "metadata": {
    "Collapsed": "false"
   },
   "outputs": [],
   "source": [
    "name='single_forecast_tp_pure_sr_pretraining'"
   ]
  },
  {
   "cell_type": "code",
   "execution_count": 16,
   "id": "7d686786",
   "metadata": {
    "Collapsed": "false"
   },
   "outputs": [],
   "source": [
    "zero_noise=True"
   ]
  },
  {
   "cell_type": "code",
   "execution_count": 17,
   "id": "6af3e556",
   "metadata": {
    "Collapsed": "false"
   },
   "outputs": [],
   "source": [
    "model_dir = '/home/jupyter/data/saved_models/leingan/single_forecast_tp_pure_sr_pretraining/0'"
   ]
  },
  {
   "cell_type": "code",
   "execution_count": 18,
   "id": "73ca8ed6",
   "metadata": {
    "Collapsed": "false"
   },
   "outputs": [],
   "source": [
    "sys.path.append(model_dir)"
   ]
  },
  {
   "cell_type": "code",
   "execution_count": 19,
   "id": "4f8a69bb",
   "metadata": {
    "Collapsed": "false"
   },
   "outputs": [],
   "source": [
    "gan = BaseGAN2.load_from_checkpoint(\n",
    "    f\"{model_dir}/epoch=199-step=133999.ckpt\")"
   ]
  },
  {
   "cell_type": "code",
   "execution_count": 20,
   "id": "62e2b7dd",
   "metadata": {
    "Collapsed": "false"
   },
   "outputs": [],
   "source": [
    "model = gan.gen\n",
    "model = model.to(device)\n",
    "model.train(False);"
   ]
  },
  {
   "cell_type": "markdown",
   "id": "314d5e56",
   "metadata": {
    "Collapsed": "false"
   },
   "source": [
    "## Model 2: ens_mean_L1_weighted_gen_loss"
   ]
  },
  {
   "cell_type": "code",
   "execution_count": 11,
   "id": "d12dbe87",
   "metadata": {
    "Collapsed": "false"
   },
   "outputs": [],
   "source": [
    "name='ens_mean_L1_weighted_gen_loss'"
   ]
  },
  {
   "cell_type": "code",
   "execution_count": 15,
   "id": "5c65c044",
   "metadata": {
    "Collapsed": "false"
   },
   "outputs": [],
   "source": [
    "model_dir = '/home/jupyter/data/saved_models/leingan/ens10_tp/random/ens_mean_L1_weighted_gen_loss/3'"
   ]
  },
  {
   "cell_type": "code",
   "execution_count": 16,
   "id": "b7b733ed",
   "metadata": {
    "Collapsed": "false"
   },
   "outputs": [],
   "source": [
    "sys.path.append(model_dir)"
   ]
  },
  {
   "cell_type": "code",
   "execution_count": 17,
   "id": "1d1a1a6e",
   "metadata": {
    "Collapsed": "false"
   },
   "outputs": [],
   "source": [
    "gan = BaseGAN2.load_from_checkpoint(\n",
    "    f\"{model_dir}/epoch=349-step=234499.ckpt\")"
   ]
  },
  {
   "cell_type": "code",
   "execution_count": 18,
   "id": "c73728e4",
   "metadata": {
    "Collapsed": "false"
   },
   "outputs": [],
   "source": [
    "model = gan.gen\n",
    "model = model.to(device)\n",
    "model.train(False);"
   ]
  },
  {
   "cell_type": "markdown",
   "id": "f59fe959",
   "metadata": {
    "Collapsed": "false"
   },
   "source": [
    "### Model 3: ens10_tp_and_added_vars_TCW_broadfield_channel"
   ]
  },
  {
   "cell_type": "code",
   "execution_count": 11,
   "id": "9ccf96e6",
   "metadata": {
    "Collapsed": "false"
   },
   "outputs": [],
   "source": [
    "name='ens10_tp_and_added_vars_TCW_broadfield_channel'"
   ]
  },
  {
   "cell_type": "code",
   "execution_count": 12,
   "id": "3936932f",
   "metadata": {
    "Collapsed": "false"
   },
   "outputs": [],
   "source": [
    "ds_test = ds_test_pad"
   ]
  },
  {
   "cell_type": "code",
   "execution_count": 13,
   "id": "6f394971",
   "metadata": {
    "Collapsed": "false"
   },
   "outputs": [],
   "source": [
    "model_dir = '/home/jupyter/data/saved_models/leingan/ens10_tp_and_added_vars_TCW_broadfield_channel/15'"
   ]
  },
  {
   "cell_type": "code",
   "execution_count": 14,
   "id": "87570c7d",
   "metadata": {
    "Collapsed": "false"
   },
   "outputs": [],
   "source": [
    "sys.path.append(model_dir)"
   ]
  },
  {
   "cell_type": "code",
   "execution_count": 15,
   "id": "f13c9ee9",
   "metadata": {
    "Collapsed": "false"
   },
   "outputs": [],
   "source": [
    "gan = BaseGAN2.load_from_checkpoint(\n",
    "    f\"{model_dir}/epoch=499-step=258499.ckpt\")"
   ]
  },
  {
   "cell_type": "code",
   "execution_count": 16,
   "id": "74fee8e8",
   "metadata": {
    "Collapsed": "false"
   },
   "outputs": [],
   "source": [
    "model = gan.gen\n",
    "model = model.to(device)\n",
    "model.train(False);"
   ]
  },
  {
   "cell_type": "markdown",
   "id": "bb3bb4bb",
   "metadata": {
    "Collapsed": "false"
   },
   "source": [
    "## Full field eval"
   ]
  },
  {
   "cell_type": "code",
   "execution_count": 17,
   "id": "c06a2051",
   "metadata": {
    "Collapsed": "false"
   },
   "outputs": [],
   "source": [
    "def create_valid_predictions(model, ds_valid, member_idx=None, zero_noise=False):\n",
    "    # Get predictions for full field\n",
    "    preds = []\n",
    "    for t in tqdm(range(len(ds_valid.tigge.valid_time))):\n",
    "        X, y = ds_valid.return_full_array(t, member_idx=member_idx)\n",
    "        noise = torch.randn(1, 1, X.shape[1], X.shape[2]).to(device)\n",
    "        if zero_noise:\n",
    "            noise *= 0\n",
    "        pred = model(torch.FloatTensor(X[None]).to(device), noise).to('cpu').detach().numpy()[0, 0]\n",
    "        preds.append(pred)\n",
    "    preds = np.array(preds)\n",
    "    \n",
    "    # Unscale\n",
    "    preds = preds * (ds_valid.maxs.tp.values - ds_valid.mins.tp.values) + ds_valid.mins.tp.values\n",
    "    \n",
    "    # Un-log\n",
    "    if ds_valid.tp_log:\n",
    "        preds = log_retrans(preds, ds_valid.tp_log)\n",
    "    \n",
    "    # Convert to xarray\n",
    "    preds = xr.DataArray(\n",
    "        preds,\n",
    "        dims=['valid_time', 'lat', 'lon'],\n",
    "        coords={\n",
    "            'valid_time': ds_valid.tigge.valid_time,\n",
    "            'lat': ds_valid.mrms.lat.isel(\n",
    "                lat=slice(ds_valid.pad_mrms, ds_valid.pad_mrms+preds.shape[1])\n",
    "            ),\n",
    "            'lon': ds_valid.mrms.lon.isel(\n",
    "                lon=slice(ds_valid.pad_mrms, ds_valid.pad_mrms+preds.shape[2])\n",
    "            )\n",
    "        },\n",
    "        name='tp'\n",
    "    )\n",
    "    return preds"
   ]
  },
  {
   "cell_type": "code",
   "execution_count": 18,
   "id": "a52d3714",
   "metadata": {
    "Collapsed": "false"
   },
   "outputs": [],
   "source": [
    "def create_stitched_predictions(model, ds_test, member_idx, zero_noise=False):\n",
    "    preds = ds_test.mrms.copy(True) * np.NaN\n",
    "    for idx in tqdm(range(len(ds_test.idxs))):\n",
    "        time_idx, lat_idx, lon_idx = ds_test.idxs[idx]\n",
    "        lat_slice = slice(lat_idx * ds_test.ratio, lat_idx * ds_test.ratio + ds_test.patch_mrms)\n",
    "        lon_slice = slice(lon_idx * ds_test.ratio, lon_idx * ds_test.ratio + ds_test.patch_mrms)\n",
    "\n",
    "        X, y = ds_test.__getitem__(idx, member_idx=member_idx)\n",
    "\n",
    "        noise = torch.randn(1, 1, X.shape[1], X.shape[2]).to(device)\n",
    "        if zero_noise:\n",
    "            noise *= 0\n",
    "        p = model(torch.FloatTensor(X[None]).to(device), noise).to('cpu').detach().numpy()[0, 0]\n",
    "\n",
    "        preds[time_idx, lat_slice, lon_slice] = p\n",
    "    # Unscale\n",
    "    preds = preds * (ds_test.maxs.tp.values - ds_test.mins.tp.values) + ds_test.mins.tp.values\n",
    "\n",
    "    # Un-log\n",
    "    if ds_test.tp_log:\n",
    "        preds = log_retrans(preds, ds_test.tp_log)\n",
    "    preds = preds.rename({'time': 'valid_time'})\n",
    "    return preds"
   ]
  },
  {
   "cell_type": "code",
   "execution_count": 19,
   "id": "69192f0e",
   "metadata": {
    "Collapsed": "false"
   },
   "outputs": [],
   "source": [
    "def create_valid_ensemble(model, ds_valid, nens, stitched=False, zero_noise=False):\n",
    "    \"\"\"Wrapper to create ensemble\"\"\"\n",
    "    if stitched:\n",
    "        fn = create_stitched_predictions\n",
    "    else:\n",
    "        fn = create_valid_predictions\n",
    "    preds = [fn(model, ds_valid, member_idx=member_idx, zero_noise=zero_noise) for member_idx in range(nens)]\n",
    "    return xr.concat(preds, 'member')"
   ]
  },
  {
   "cell_type": "code",
   "execution_count": 20,
   "id": "4a40870a",
   "metadata": {
    "Collapsed": "false"
   },
   "outputs": [
    {
     "name": "stderr",
     "output_type": "stream",
     "text": [
      "100%|██████████| 110/110 [00:01<00:00, 78.36it/s] \n",
      "100%|██████████| 110/110 [00:00<00:00, 137.90it/s]\n",
      "100%|██████████| 110/110 [00:00<00:00, 137.76it/s]\n",
      "100%|██████████| 110/110 [00:00<00:00, 134.56it/s]\n",
      "100%|██████████| 110/110 [00:00<00:00, 134.40it/s]\n",
      "100%|██████████| 110/110 [00:00<00:00, 138.47it/s]\n",
      "100%|██████████| 110/110 [00:00<00:00, 139.20it/s]\n",
      "100%|██████████| 110/110 [00:00<00:00, 139.31it/s]\n",
      "100%|██████████| 110/110 [00:00<00:00, 145.40it/s]\n",
      "100%|██████████| 110/110 [00:00<00:00, 149.29it/s]\n"
     ]
    }
   ],
   "source": [
    "ens_pred = create_valid_ensemble(model, ds_test, members, zero_noise=zero_noise)"
   ]
  },
  {
   "cell_type": "code",
   "execution_count": null,
   "id": "269f0689",
   "metadata": {
    "Collapsed": "false"
   },
   "outputs": [
    {
     "name": "stderr",
     "output_type": "stream",
     "text": [
      "100%|██████████| 14960/14960 [01:30<00:00, 165.21it/s]\n",
      "100%|██████████| 14960/14960 [01:30<00:00, 165.79it/s]\n",
      "100%|██████████| 14960/14960 [01:29<00:00, 166.79it/s]\n",
      "100%|██████████| 14960/14960 [01:31<00:00, 163.10it/s]\n",
      "100%|██████████| 14960/14960 [01:29<00:00, 168.02it/s]\n",
      " 48%|████▊     | 7110/14960 [00:42<00:46, 169.42it/s]"
     ]
    }
   ],
   "source": [
    "ens_pred_stitched = create_valid_ensemble(model, ds_test, members, stitched=True, zero_noise=zero_noise)"
   ]
  },
  {
   "cell_type": "code",
   "execution_count": 22,
   "id": "7b5534ec",
   "metadata": {},
   "outputs": [
    {
     "ename": "NameError",
     "evalue": "name 'a' is not defined",
     "output_type": "error",
     "traceback": [
      "\u001b[0;31m---------------------------------------------------------------------------\u001b[0m",
      "\u001b[0;31mNameError\u001b[0m                                 Traceback (most recent call last)",
      "\u001b[0;32m<ipython-input-22-3f786850e387>\u001b[0m in \u001b[0;36m<module>\u001b[0;34m\u001b[0m\n\u001b[0;32m----> 1\u001b[0;31m \u001b[0ma\u001b[0m\u001b[0;34m\u001b[0m\u001b[0;34m\u001b[0m\u001b[0m\n\u001b[0m",
      "\u001b[0;31mNameError\u001b[0m: name 'a' is not defined"
     ]
    }
   ],
   "source": [
    "a\n"
   ]
  },
  {
   "cell_type": "code",
   "execution_count": 24,
   "id": "f9c32c3f",
   "metadata": {
    "Collapsed": "false"
   },
   "outputs": [],
   "source": [
    "ens_pred.to_netcdf(f'tmp/ens_pred_{name}.nc')\n",
    "ens_pred_stitched.to_netcdf(f'tmp/ens_pred_stitched_{name}.nc')"
   ]
  },
  {
   "cell_type": "code",
   "execution_count": 1,
   "id": "02157a4f",
   "metadata": {
    "Collapsed": "false"
   },
   "outputs": [
    {
     "ename": "NameError",
     "evalue": "name 'ens_pred_stitched' is not defined",
     "output_type": "error",
     "traceback": [
      "\u001b[0;31m---------------------------------------------------------------------------\u001b[0m",
      "\u001b[0;31mNameError\u001b[0m                                 Traceback (most recent call last)",
      "\u001b[0;32m<ipython-input-1-2c8ea930e2fa>\u001b[0m in \u001b[0;36m<module>\u001b[0;34m\u001b[0m\n\u001b[0;32m----> 1\u001b[0;31m \u001b[0mens_pred_stitched\u001b[0m\u001b[0;34m.\u001b[0m\u001b[0misel\u001b[0m\u001b[0;34m(\u001b[0m\u001b[0mvalid_time\u001b[0m\u001b[0;34m=\u001b[0m\u001b[0;36m1\u001b[0m\u001b[0;34m)\u001b[0m\u001b[0;34m.\u001b[0m\u001b[0mplot\u001b[0m\u001b[0;34m(\u001b[0m\u001b[0mvmin\u001b[0m\u001b[0;34m=\u001b[0m\u001b[0;36m0\u001b[0m\u001b[0;34m,\u001b[0m \u001b[0mvmax\u001b[0m\u001b[0;34m=\u001b[0m\u001b[0;36m20\u001b[0m\u001b[0;34m,\u001b[0m \u001b[0mcmap\u001b[0m\u001b[0;34m=\u001b[0m\u001b[0;34m'gist_ncar_r'\u001b[0m\u001b[0;34m,\u001b[0m \u001b[0mcol\u001b[0m\u001b[0;34m=\u001b[0m\u001b[0;34m'member'\u001b[0m\u001b[0;34m)\u001b[0m\u001b[0;34m\u001b[0m\u001b[0;34m\u001b[0m\u001b[0m\n\u001b[0m",
      "\u001b[0;31mNameError\u001b[0m: name 'ens_pred_stitched' is not defined"
     ]
    }
   ],
   "source": [
    "ens_pred_stitched.isel(valid_time=1).plot(vmin=0, vmax=20, cmap='gist_ncar_r', col='member')"
   ]
  },
  {
   "cell_type": "markdown",
   "id": "8951c8bf",
   "metadata": {
    "Collapsed": "false"
   },
   "source": [
    "## Get ground truth"
   ]
  },
  {
   "cell_type": "code",
   "execution_count": null,
   "id": "c2f1273e",
   "metadata": {
    "Collapsed": "false"
   },
   "outputs": [],
   "source": [
    "mrms = ds_test.mrms.rename(\n",
    "    {'time': 'valid_time'}) * ds_test.maxs.tp.values\n",
    "mrms = log_retrans(mrms, ds_test.tp_log)"
   ]
  },
  {
   "cell_type": "code",
   "execution_count": null,
   "id": "76b04066",
   "metadata": {
    "Collapsed": "false"
   },
   "outputs": [],
   "source": [
    "mrms.to_netcdf('tmp/mrms.nc')"
   ]
  },
  {
   "cell_type": "markdown",
   "id": "509d3f63",
   "metadata": {
    "Collapsed": "false"
   },
   "source": [
    "## Get interpolation baseline"
   ]
  },
  {
   "cell_type": "code",
   "execution_count": null,
   "id": "80ce0b0b",
   "metadata": {
    "Collapsed": "false"
   },
   "outputs": [],
   "source": [
    "tigge = ds_test.tigge.isel(variable=0) * ds_test.maxs.tp.values\n",
    "tigge = log_retrans(tigge, ds_test.tp_log)"
   ]
  },
  {
   "cell_type": "code",
   "execution_count": null,
   "id": "d4a560b5",
   "metadata": {
    "Collapsed": "false"
   },
   "outputs": [],
   "source": [
    "interp = tigge.interp_like(mrms, method='linear')"
   ]
  },
  {
   "cell_type": "code",
   "execution_count": null,
   "id": "a8263af5",
   "metadata": {
    "Collapsed": "false"
   },
   "outputs": [],
   "source": [
    "interp.to_netcdf('tmp/interp_ens.nc')"
   ]
  },
  {
   "cell_type": "markdown",
   "id": "10171869",
   "metadata": {
    "Collapsed": "false"
   },
   "source": [
    "### HREF"
   ]
  },
  {
   "cell_type": "code",
   "execution_count": null,
   "id": "a609ce98",
   "metadata": {
    "Collapsed": "false"
   },
   "outputs": [],
   "source": [
    "href = xr.open_mfdataset('/home/jupyter/data/hrefv2//4km/total_precipitation/2020*.nc')"
   ]
  },
  {
   "cell_type": "code",
   "execution_count": null,
   "id": "37c49312",
   "metadata": {
    "Collapsed": "false"
   },
   "outputs": [],
   "source": [
    "href = href.tp.diff('lead_time').sel(lead_time=np.timedelta64(12, 'h'))"
   ]
  },
  {
   "cell_type": "code",
   "execution_count": null,
   "id": "aefdb679",
   "metadata": {
    "Collapsed": "false"
   },
   "outputs": [],
   "source": [
    "href['valid_time'] = href.init_time + href.lead_time\n",
    "href = href.swap_dims({'init_time': 'valid_time'})"
   ]
  },
  {
   "cell_type": "code",
   "execution_count": null,
   "id": "80673bb8",
   "metadata": {
    "Collapsed": "false"
   },
   "outputs": [],
   "source": [
    "href = href.assign_coords({'lat': interp.lat.values, 'lon': interp.lon.values})"
   ]
  },
  {
   "cell_type": "code",
   "execution_count": null,
   "id": "21ecbb35",
   "metadata": {
    "Collapsed": "false"
   },
   "outputs": [],
   "source": [
    "overlap_times = np.intersect1d(interp.valid_time, href.valid_time)"
   ]
  },
  {
   "cell_type": "code",
   "execution_count": null,
   "id": "1bf7bda9",
   "metadata": {
    "Collapsed": "false"
   },
   "outputs": [],
   "source": [
    "href = href.sel(valid_time=overlap_times)"
   ]
  },
  {
   "cell_type": "code",
   "execution_count": null,
   "id": "80953891",
   "metadata": {
    "Collapsed": "false"
   },
   "outputs": [],
   "source": [
    "href.load();"
   ]
  },
  {
   "cell_type": "code",
   "execution_count": null,
   "id": "da851c14",
   "metadata": {
    "Collapsed": "false"
   },
   "outputs": [],
   "source": [
    "href.to_netcdf('tmp/href.nc')"
   ]
  },
  {
   "cell_type": "markdown",
   "id": "d2ba41f5",
   "metadata": {
    "Collapsed": "false"
   },
   "source": [
    "# Old"
   ]
  },
  {
   "cell_type": "markdown",
   "id": "f3623862",
   "metadata": {
    "Collapsed": "false"
   },
   "source": [
    "## Get mask"
   ]
  },
  {
   "cell_type": "code",
   "execution_count": null,
   "id": "e4256f0c",
   "metadata": {
    "Collapsed": "false"
   },
   "outputs": [],
   "source": [
    "ds = xr.open_dataset(\n",
    "    '/home/jupyter/data/hrrr/raw/total_precipitation/20180215_00.nc')"
   ]
  },
  {
   "cell_type": "code",
   "execution_count": null,
   "id": "e206b22e",
   "metadata": {
    "Collapsed": "false"
   },
   "outputs": [],
   "source": [
    "from src.regrid import *"
   ]
  },
  {
   "cell_type": "code",
   "execution_count": null,
   "id": "2a1d0e07",
   "metadata": {
    "Collapsed": "false"
   },
   "outputs": [],
   "source": [
    "ds_regridded = regrid(ds, 4, lons=(235, 290), lats=(50, 20))"
   ]
  },
  {
   "cell_type": "code",
   "execution_count": null,
   "id": "f6fbf78b",
   "metadata": {
    "Collapsed": "false"
   },
   "outputs": [],
   "source": [
    "hrrr_mask = np.isfinite(ds_regridded).tp.isel(init_time=0, lead_time=0)"
   ]
  },
  {
   "cell_type": "code",
   "execution_count": null,
   "id": "808281ad",
   "metadata": {
    "Collapsed": "false"
   },
   "outputs": [],
   "source": [
    "rq.plot(vmin=0, vmax=1)"
   ]
  },
  {
   "cell_type": "code",
   "execution_count": null,
   "id": "2e7e03cd",
   "metadata": {
    "Collapsed": "false"
   },
   "outputs": [],
   "source": [
    "(rq>0.3).plot(vmin=0, vmax=1)"
   ]
  },
  {
   "cell_type": "code",
   "execution_count": null,
   "id": "8b6c58bd",
   "metadata": {
    "Collapsed": "false"
   },
   "outputs": [],
   "source": [
    "mrms_mask.plot(vmin=0, vmax=1)"
   ]
  },
  {
   "cell_type": "code",
   "execution_count": null,
   "id": "ae2efe61",
   "metadata": {
    "Collapsed": "false"
   },
   "outputs": [],
   "source": [
    "rq = xr.open_dataarray(f'{DATADRIVE}/mrms/4km/RadarQuality.nc')\n",
    "mrms_mask = rq>-1\n",
    "mrms_mask = mrms_mask.assign_coords({\n",
    "    'lat': hrrr_mask.lat,\n",
    "    'lon': hrrr_mask.lon\n",
    "})"
   ]
  },
  {
   "cell_type": "code",
   "execution_count": null,
   "id": "a92c31bf",
   "metadata": {
    "Collapsed": "false"
   },
   "outputs": [],
   "source": [
    "total_mask = mrms_mask * hrrr_mask"
   ]
  },
  {
   "cell_type": "code",
   "execution_count": null,
   "id": "af253af3",
   "metadata": {
    "Collapsed": "false"
   },
   "outputs": [],
   "source": [
    "total_mask = total_mask.isel(lat=slice(0, -6))"
   ]
  },
  {
   "cell_type": "code",
   "execution_count": null,
   "id": "2a8ebf6f",
   "metadata": {
    "Collapsed": "false"
   },
   "outputs": [],
   "source": [
    "total_mask = total_mask.assign_coords({'lat': interp.lat.values, 'lon': interp.lon.values})"
   ]
  },
  {
   "cell_type": "code",
   "execution_count": null,
   "id": "7f1d5f11",
   "metadata": {
    "Collapsed": "false"
   },
   "outputs": [],
   "source": [
    "total_mask.plot()"
   ]
  },
  {
   "cell_type": "markdown",
   "id": "4084e699",
   "metadata": {
    "Collapsed": "false"
   },
   "source": [
    "## Compute scores"
   ]
  },
  {
   "cell_type": "code",
   "execution_count": null,
   "id": "bf4e0251",
   "metadata": {
    "Collapsed": "false"
   },
   "outputs": [],
   "source": [
    "hrrr = hrrr.isel(lat=slice(0, -6))"
   ]
  },
  {
   "cell_type": "code",
   "execution_count": null,
   "id": "8cba229e",
   "metadata": {
    "Collapsed": "false"
   },
   "outputs": [],
   "source": [
    "hrrr = hrrr.assign_coords({'lat': interp.lat.values, 'lon': interp.lon.values})"
   ]
  },
  {
   "cell_type": "code",
   "execution_count": null,
   "id": "fbf702eb",
   "metadata": {
    "Collapsed": "false"
   },
   "outputs": [],
   "source": [
    "# Apply mask\n",
    "mrms = mrms.where(total_mask)\n",
    "det_pred = det_pred.where(total_mask)\n",
    "hrrr = hrrr.where(total_mask)\n",
    "interp = interp.where(total_mask)"
   ]
  },
  {
   "cell_type": "code",
   "execution_count": null,
   "id": "07d7d1fc",
   "metadata": {
    "Collapsed": "false"
   },
   "outputs": [],
   "source": [
    "det_pred2 = det_pred2.where(total_mask)\n"
   ]
  },
  {
   "cell_type": "code",
   "execution_count": null,
   "id": "4a87743b",
   "metadata": {
    "Collapsed": "false"
   },
   "outputs": [],
   "source": [
    "hrrr.load()"
   ]
  },
  {
   "cell_type": "markdown",
   "id": "1eb9de79",
   "metadata": {
    "Collapsed": "false"
   },
   "source": [
    "## Bias"
   ]
  },
  {
   "cell_type": "code",
   "execution_count": null,
   "id": "de95999b",
   "metadata": {
    "Collapsed": "false"
   },
   "outputs": [],
   "source": [
    "mrms.mean().values"
   ]
  },
  {
   "cell_type": "code",
   "execution_count": null,
   "id": "703d988b",
   "metadata": {
    "Collapsed": "false"
   },
   "outputs": [],
   "source": [
    "det_pred.mean().values"
   ]
  },
  {
   "cell_type": "code",
   "execution_count": null,
   "id": "7044effb",
   "metadata": {
    "Collapsed": "false"
   },
   "outputs": [],
   "source": [
    "interp.mean().values"
   ]
  },
  {
   "cell_type": "code",
   "execution_count": null,
   "id": "5925c02c",
   "metadata": {
    "Collapsed": "false"
   },
   "outputs": [],
   "source": [
    "hrrr.mean().values"
   ]
  },
  {
   "cell_type": "markdown",
   "id": "de963d21",
   "metadata": {
    "Collapsed": "false"
   },
   "source": [
    "### Histograms"
   ]
  },
  {
   "cell_type": "code",
   "execution_count": null,
   "id": "15e90f71",
   "metadata": {
    "Collapsed": "false"
   },
   "outputs": [],
   "source": [
    "bins = np.logspace(0, 2, 25)-1\n",
    "mid_bin = (bins[1:] + bins[:-1])/2"
   ]
  },
  {
   "cell_type": "code",
   "execution_count": null,
   "id": "5a174d1d",
   "metadata": {
    "Collapsed": "false"
   },
   "outputs": [],
   "source": [
    "def plot_hist(ds, bins, label):\n",
    "    nums, bins = np.histogram(ds.values, bins=bins)\n",
    "    plt.plot(mid_bin, nums, marker='o', label=label)"
   ]
  },
  {
   "cell_type": "code",
   "execution_count": null,
   "id": "6daa3f61",
   "metadata": {
    "Collapsed": "false"
   },
   "outputs": [],
   "source": [
    "plt.figure(figsize=(10, 5))\n",
    "plot_hist(det_pred, bins, 'GAN')\n",
    "plot_hist(mrms, bins, 'Obs')\n",
    "plot_hist(interp, bins, 'Interp')\n",
    "plot_hist(hrrr, bins, 'HRRR')\n",
    "plt.yscale('log')\n",
    "plt.legend()"
   ]
  },
  {
   "cell_type": "markdown",
   "id": "16ecadd5",
   "metadata": {
    "Collapsed": "false"
   },
   "source": [
    "### RMSE"
   ]
  },
  {
   "cell_type": "code",
   "execution_count": null,
   "id": "1c5ad5e1",
   "metadata": {
    "Collapsed": "false"
   },
   "outputs": [],
   "source": [
    "xs.rmse(det_pred, mrms, dim=['lat', 'lon', 'valid_time'], skipna=True).values"
   ]
  },
  {
   "cell_type": "code",
   "execution_count": null,
   "id": "a860ef96",
   "metadata": {
    "Collapsed": "false"
   },
   "outputs": [],
   "source": [
    "xs.rmse(interp, mrms, dim=['lat', 'lon', 'valid_time'], skipna=True).values"
   ]
  },
  {
   "cell_type": "code",
   "execution_count": null,
   "id": "3713fe1f",
   "metadata": {
    "Collapsed": "false"
   },
   "outputs": [],
   "source": [
    "xs.rmse(hrrr, mrms, dim=['lat', 'lon', 'valid_time'], skipna=True).values"
   ]
  },
  {
   "cell_type": "markdown",
   "id": "c586a667",
   "metadata": {
    "Collapsed": "false"
   },
   "source": [
    "### FSS"
   ]
  },
  {
   "cell_type": "code",
   "execution_count": null,
   "id": "cb678d11",
   "metadata": {
    "Collapsed": "false"
   },
   "outputs": [],
   "source": [
    "thresh = 10\n",
    "window = 100 // 4"
   ]
  },
  {
   "cell_type": "code",
   "execution_count": null,
   "id": "f7f32c2d",
   "metadata": {
    "Collapsed": "false"
   },
   "outputs": [],
   "source": [
    "def compute_fss(f, o, thresh, window, time_mean=True):\n",
    "    f_thresh = f > thresh\n",
    "    o_thresh = o > thresh\n",
    "    f_frac = f_thresh.rolling({'lat': window, 'lon': window}, center=True).mean()\n",
    "    o_frac = o_thresh.rolling({'lat': window, 'lon': window}, center=True).mean()\n",
    "    mse = ((f_frac - o_frac)**2).mean(('lat', 'lon'))\n",
    "    mse_ref = (f_frac**2).mean(('lat', 'lon')) + (o_frac**2).mean(('lat', 'lon'))\n",
    "    fss = 1 - mse / mse_ref\n",
    "    if time_mean:\n",
    "        fss = fss.mean('valid_time')\n",
    "    return fss"
   ]
  },
  {
   "cell_type": "code",
   "execution_count": null,
   "id": "c5b87390",
   "metadata": {
    "Collapsed": "false"
   },
   "outputs": [],
   "source": [
    "compute_fss(mrms, det_pred, thresh, window).values"
   ]
  },
  {
   "cell_type": "code",
   "execution_count": null,
   "id": "0e856891",
   "metadata": {
    "Collapsed": "false"
   },
   "outputs": [],
   "source": [
    "compute_fss(mrms, interp, thresh, window).values"
   ]
  },
  {
   "cell_type": "code",
   "execution_count": null,
   "id": "561d846d",
   "metadata": {
    "Collapsed": "false"
   },
   "outputs": [],
   "source": [
    "compute_fss(mrms, hrrr, thresh, window).values"
   ]
  },
  {
   "cell_type": "code",
   "execution_count": null,
   "id": "54badf39",
   "metadata": {
    "Collapsed": "false"
   },
   "outputs": [],
   "source": []
  },
  {
   "cell_type": "code",
   "execution_count": null,
   "id": "fa12d780",
   "metadata": {
    "Collapsed": "false"
   },
   "outputs": [],
   "source": [
    "fig, ax = plt.subplots(figsize=(20, 10))\n",
    "det_pred.isel(valid_time=2).plot(vmin=0, vmax=20)\n",
    "ax.set_aspect('equal')"
   ]
  },
  {
   "cell_type": "code",
   "execution_count": null,
   "id": "c469c59c",
   "metadata": {
    "Collapsed": "false"
   },
   "outputs": [],
   "source": [
    "fig, ax = plt.subplots(figsize=(20, 10))\n",
    "det_pred2.isel(valid_time=2).plot(vmin=0, vmax=20)\n",
    "ax.set_aspect('equal')"
   ]
  },
  {
   "cell_type": "code",
   "execution_count": null,
   "id": "49c74ee2",
   "metadata": {
    "Collapsed": "false"
   },
   "outputs": [],
   "source": [
    "fig, ax = plt.subplots(figsize=(20, 10))\n",
    "mrms.isel(valid_time=2).plot(vmin=0, vmax=20)\n",
    "ax.set_aspect('equal')"
   ]
  },
  {
   "cell_type": "code",
   "execution_count": null,
   "id": "483f4915",
   "metadata": {
    "Collapsed": "false"
   },
   "outputs": [],
   "source": [
    "fig, ax = plt.subplots(figsize=(20, 10))\n",
    "interp.isel(valid_time=2).plot(vmin=0, vmax=20)\n",
    "ax.set_aspect('equal')"
   ]
  },
  {
   "cell_type": "code",
   "execution_count": null,
   "id": "1cd4c5b7",
   "metadata": {
    "Collapsed": "false"
   },
   "outputs": [],
   "source": [
    "fig, ax = plt.subplots(figsize=(20, 10))\n",
    "hrrr.isel(valid_time=2).plot(vmin=0, vmax=20)\n",
    "ax.set_aspect('equal')"
   ]
  },
  {
   "cell_type": "code",
   "execution_count": null,
   "id": "fd7fc22a",
   "metadata": {
    "Collapsed": "false"
   },
   "outputs": [],
   "source": []
  },
  {
   "cell_type": "code",
   "execution_count": null,
   "id": "677312d0",
   "metadata": {
    "Collapsed": "false"
   },
   "outputs": [],
   "source": [
    "interp[50].plot(vmin=0, vmax=20)"
   ]
  },
  {
   "cell_type": "code",
   "execution_count": null,
   "id": "6820ad69",
   "metadata": {
    "Collapsed": "false"
   },
   "outputs": [],
   "source": [
    "hrrr[50].plot(vmin=0, vmax=20)"
   ]
  },
  {
   "cell_type": "code",
   "execution_count": null,
   "id": "9bd114b7",
   "metadata": {
    "Collapsed": "false"
   },
   "outputs": [],
   "source": [
    "\n",
    " eps = 1e-6\n",
    "bin_edges = [-eps] + np.linspace(eps, log_retrans(ds_max, tp_log)+eps, 51).tolist()\n",
    "pred_means.append(np.mean(preds.sel(member=0)))\n",
    "pred_hists.append(np.histogram(preds.sel(member=0), bins = bin_edges, density=False)[0])\n",
    "truth_means.append(np.mean(truth))\n",
    "truth_hists.append(np.histogram(truth, bins = bin_edges, density=False)[0])\n",
    "\n",
    "truth_pert = truth + np.random.normal(scale=1e-6, size=truth.shape)\n",
    "preds_pert = preds + np.random.normal(scale=1e-6, size=preds.shape) \n"
   ]
  },
  {
   "cell_type": "code",
   "execution_count": null,
   "id": "bf28bde8",
   "metadata": {
    "Collapsed": "false"
   },
   "outputs": [],
   "source": []
  },
  {
   "cell_type": "code",
   "execution_count": null,
   "id": "50d2c197",
   "metadata": {
    "Collapsed": "false"
   },
   "outputs": [],
   "source": []
  },
  {
   "cell_type": "code",
   "execution_count": null,
   "id": "b0bb9ddc",
   "metadata": {
    "Collapsed": "false"
   },
   "outputs": [],
   "source": []
  },
  {
   "cell_type": "code",
   "execution_count": null,
   "id": "38d26c53",
   "metadata": {
    "Collapsed": "false"
   },
   "outputs": [],
   "source": []
  },
  {
   "cell_type": "code",
   "execution_count": null,
   "id": "c47031cc",
   "metadata": {
    "Collapsed": "false"
   },
   "outputs": [],
   "source": []
  },
  {
   "cell_type": "code",
   "execution_count": null,
   "id": "7ee7748e",
   "metadata": {
    "Collapsed": "false"
   },
   "outputs": [],
   "source": []
  },
  {
   "cell_type": "code",
   "execution_count": null,
   "id": "ff8b8b72",
   "metadata": {
    "Collapsed": "false"
   },
   "outputs": [],
   "source": []
  },
  {
   "cell_type": "code",
   "execution_count": null,
   "id": "e56418b5",
   "metadata": {
    "Collapsed": "false"
   },
   "outputs": [],
   "source": []
  },
  {
   "cell_type": "code",
   "execution_count": null,
   "id": "49866349",
   "metadata": {
    "Collapsed": "false"
   },
   "outputs": [],
   "source": []
  },
  {
   "cell_type": "code",
   "execution_count": null,
   "id": "4fd13741",
   "metadata": {
    "Collapsed": "false"
   },
   "outputs": [],
   "source": []
  },
  {
   "cell_type": "code",
   "execution_count": null,
   "id": "d871e341",
   "metadata": {
    "Collapsed": "false"
   },
   "outputs": [],
   "source": []
  },
  {
   "cell_type": "code",
   "execution_count": null,
   "id": "f401c386",
   "metadata": {
    "Collapsed": "false"
   },
   "outputs": [],
   "source": []
  },
  {
   "cell_type": "code",
   "execution_count": null,
   "id": "0a69b43c",
   "metadata": {
    "Collapsed": "false"
   },
   "outputs": [],
   "source": []
  },
  {
   "cell_type": "code",
   "execution_count": null,
   "id": "b411a9c7",
   "metadata": {
    "Collapsed": "false"
   },
   "outputs": [],
   "source": []
  },
  {
   "cell_type": "code",
   "execution_count": null,
   "id": "6f133705",
   "metadata": {
    "Collapsed": "false"
   },
   "outputs": [],
   "source": []
  },
  {
   "cell_type": "code",
   "execution_count": null,
   "id": "f1a507ee",
   "metadata": {
    "Collapsed": "false"
   },
   "outputs": [],
   "source": []
  },
  {
   "cell_type": "code",
   "execution_count": null,
   "id": "0e00aed7",
   "metadata": {
    "Collapsed": "false"
   },
   "outputs": [],
   "source": []
  },
  {
   "cell_type": "code",
   "execution_count": null,
   "id": "ccdf64cc",
   "metadata": {
    "Collapsed": "false"
   },
   "outputs": [],
   "source": []
  },
  {
   "cell_type": "code",
   "execution_count": null,
   "id": "f3d7e080",
   "metadata": {
    "Collapsed": "false"
   },
   "outputs": [],
   "source": []
  },
  {
   "cell_type": "code",
   "execution_count": null,
   "id": "c78eec6e",
   "metadata": {
    "Collapsed": "false"
   },
   "outputs": [],
   "source": []
  },
  {
   "cell_type": "code",
   "execution_count": null,
   "id": "6c63e4ab",
   "metadata": {
    "Collapsed": "false"
   },
   "outputs": [],
   "source": []
  },
  {
   "cell_type": "code",
   "execution_count": null,
   "id": "43a1776e",
   "metadata": {
    "Collapsed": "false"
   },
   "outputs": [],
   "source": []
  },
  {
   "cell_type": "code",
   "execution_count": null,
   "id": "9f13b49b",
   "metadata": {
    "Collapsed": "false"
   },
   "outputs": [],
   "source": []
  },
  {
   "cell_type": "code",
   "execution_count": null,
   "id": "71388272",
   "metadata": {
    "Collapsed": "false"
   },
   "outputs": [],
   "source": []
  },
  {
   "cell_type": "code",
   "execution_count": null,
   "id": "7955b6b0",
   "metadata": {
    "Collapsed": "false"
   },
   "outputs": [],
   "source": []
  },
  {
   "cell_type": "code",
   "execution_count": null,
   "id": "07a06587",
   "metadata": {
    "Collapsed": "false"
   },
   "outputs": [],
   "source": []
  },
  {
   "cell_type": "code",
   "execution_count": null,
   "id": "a25aeec6",
   "metadata": {
    "Collapsed": "false"
   },
   "outputs": [],
   "source": []
  },
  {
   "cell_type": "code",
   "execution_count": null,
   "id": "a3279aef",
   "metadata": {
    "Collapsed": "false"
   },
   "outputs": [],
   "source": []
  },
  {
   "cell_type": "code",
   "execution_count": null,
   "id": "3b0fbe91",
   "metadata": {
    "Collapsed": "false"
   },
   "outputs": [],
   "source": []
  },
  {
   "cell_type": "code",
   "execution_count": null,
   "id": "17e5e479",
   "metadata": {
    "Collapsed": "false"
   },
   "outputs": [],
   "source": []
  },
  {
   "cell_type": "code",
   "execution_count": null,
   "id": "79636d25",
   "metadata": {
    "Collapsed": "false"
   },
   "outputs": [],
   "source": []
  },
  {
   "cell_type": "code",
   "execution_count": null,
   "id": "8be4f0bc",
   "metadata": {
    "Collapsed": "false"
   },
   "outputs": [],
   "source": []
  },
  {
   "cell_type": "code",
   "execution_count": null,
   "id": "c549d21c",
   "metadata": {
    "Collapsed": "false"
   },
   "outputs": [],
   "source": []
  },
  {
   "cell_type": "code",
   "execution_count": null,
   "id": "81f56423",
   "metadata": {
    "Collapsed": "false"
   },
   "outputs": [],
   "source": []
  },
  {
   "cell_type": "code",
   "execution_count": null,
   "id": "63e3068d",
   "metadata": {
    "Collapsed": "false"
   },
   "outputs": [],
   "source": []
  },
  {
   "cell_type": "code",
   "execution_count": null,
   "id": "45948db1",
   "metadata": {
    "Collapsed": "false"
   },
   "outputs": [],
   "source": []
  },
  {
   "cell_type": "code",
   "execution_count": null,
   "id": "f515fbbb",
   "metadata": {
    "Collapsed": "false"
   },
   "outputs": [],
   "source": []
  }
 ],
 "metadata": {
  "environment": {
   "name": "common-cu110.m78",
   "type": "gcloud",
   "uri": "gcr.io/deeplearning-platform-release/base-cu110:m78"
  },
  "kernelspec": {
   "display_name": "Python [conda env:ilan]",
   "language": "python",
   "name": "conda-env-ilan-py"
  },
  "language_info": {
   "codemirror_mode": {
    "name": "ipython",
    "version": 3
   },
   "file_extension": ".py",
   "mimetype": "text/x-python",
   "name": "python",
   "nbconvert_exporter": "python",
   "pygments_lexer": "ipython3",
   "version": "3.9.5"
  }
 },
 "nbformat": 4,
 "nbformat_minor": 5
}
