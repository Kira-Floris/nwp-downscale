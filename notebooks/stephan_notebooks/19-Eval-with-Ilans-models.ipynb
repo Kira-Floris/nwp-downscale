{
 "cells": [
  {
   "cell_type": "code",
   "execution_count": 1,
   "id": "fdfa96bb",
   "metadata": {},
   "outputs": [],
   "source": [
    "%load_ext autoreload\n",
    "%autoreload 2"
   ]
  },
  {
   "cell_type": "code",
   "execution_count": 4,
   "id": "a743dee6",
   "metadata": {},
   "outputs": [],
   "source": [
    "import torch\n",
    "from torch.nn import functional as F\n",
    "from torch import nn\n",
    "from pytorch_lightning.core.lightning import LightningModule\n",
    "import pytorch_lightning as pl\n",
    "\n",
    "import torch.optim as optim\n",
    "import torchvision\n",
    "import torchvision.datasets as datasets\n",
    "import torchvision.transforms as transforms\n",
    "from torch.utils.data import DataLoader\n",
    "\n",
    "# from src.models import *\n",
    "from ilan_src.models import *\n",
    "from src.dataloader import *\n",
    "from src.utils import *\n",
    "from src.evaluation import *\n",
    "\n",
    "import xarray as xr\n",
    "import numpy as np\n",
    "import matplotlib.pyplot as plt\n",
    "\n",
    "import pickle\n",
    "\n",
    "if torch.cuda.is_available():\n",
    "    device = torch.device(\"cuda\") \n",
    "else:\n",
    "    device = torch.device(\"cpu\")"
   ]
  },
  {
   "cell_type": "markdown",
   "id": "4da8d004",
   "metadata": {},
   "source": [
    "## Set up dataset - my way"
   ]
  },
  {
   "cell_type": "code",
   "execution_count": 8,
   "id": "982a99df",
   "metadata": {},
   "outputs": [],
   "source": [
    "DATADRIVE = '/home/jupyter/data/'"
   ]
  },
  {
   "cell_type": "code",
   "execution_count": 9,
   "id": "77cc4e77",
   "metadata": {},
   "outputs": [
    {
     "name": "stderr",
     "output_type": "stream",
     "text": [
      "/opt/conda/envs/ilan/lib/python3.9/site-packages/xarray/core/indexing.py:1379: PerformanceWarning: Slicing is producing a large chunk. To accept the large\n",
      "chunk and silence this warning, set the option\n",
      "    >>> with dask.config.set(**{'array.slicing.split_large_chunks': False}):\n",
      "    ...     array[indexer]\n",
      "\n",
      "To avoid creating the large chunks, set the option\n",
      "    >>> with dask.config.set(**{'array.slicing.split_large_chunks': True}):\n",
      "    ...     array[indexer]\n",
      "  return self.array[key]\n"
     ]
    },
    {
     "name": "stdout",
     "output_type": "stream",
     "text": [
      "Loading data\n"
     ]
    }
   ],
   "source": [
    "ds_train = TiggeMRMSDataset(\n",
    "    tigge_dir=f'{DATADRIVE}/tigge/32km/',\n",
    "    tigge_vars=['total_precipitation'],\n",
    "    mrms_dir=f'{DATADRIVE}/mrms/4km/RadarOnly_QPE_06H/',\n",
    "    rq_fn=f'{DATADRIVE}/mrms/4km/RadarQuality.nc',\n",
    "    data_period=('2018-01', '2019-12'),\n",
    "    val_days=5,\n",
    "    split='train',\n",
    "    tp_log=0.01\n",
    ")"
   ]
  },
  {
   "cell_type": "code",
   "execution_count": 10,
   "id": "c54563f5",
   "metadata": {},
   "outputs": [
    {
     "name": "stderr",
     "output_type": "stream",
     "text": [
      "/opt/conda/envs/ilan/lib/python3.9/site-packages/xarray/core/indexing.py:1379: PerformanceWarning: Slicing is producing a large chunk. To accept the large\n",
      "chunk and silence this warning, set the option\n",
      "    >>> with dask.config.set(**{'array.slicing.split_large_chunks': False}):\n",
      "    ...     array[indexer]\n",
      "\n",
      "To avoid creating the large chunks, set the option\n",
      "    >>> with dask.config.set(**{'array.slicing.split_large_chunks': True}):\n",
      "    ...     array[indexer]\n",
      "  return self.array[key]\n"
     ]
    },
    {
     "name": "stdout",
     "output_type": "stream",
     "text": [
      "Loading data\n"
     ]
    }
   ],
   "source": [
    "ds_test = TiggeMRMSDataset(\n",
    "    tigge_dir=f'{DATADRIVE}/tigge/32km/',\n",
    "    tigge_vars=['total_precipitation'],\n",
    "    mrms_dir=f'{DATADRIVE}/mrms/4km/RadarOnly_QPE_06H/',\n",
    "    rq_fn=f'{DATADRIVE}/mrms/4km/RadarQuality.nc',\n",
    "    data_period=('2020-01', '2020-12'),\n",
    "    first_days=5,\n",
    "    tp_log=0.01,\n",
    "    mins=ds_train.mins,\n",
    "    maxs=ds_train.maxs\n",
    ")"
   ]
  },
  {
   "cell_type": "code",
   "execution_count": 11,
   "id": "6ee7aafe",
   "metadata": {},
   "outputs": [],
   "source": [
    "sampler_test = torch.utils.data.SequentialSampler(ds_test)\n",
    "dl_test = torch.utils.data.DataLoader(\n",
    "    ds_test, batch_size=32, sampler=sampler_test\n",
    ")"
   ]
  },
  {
   "cell_type": "code",
   "execution_count": 24,
   "id": "0a883c41",
   "metadata": {},
   "outputs": [
    {
     "name": "stderr",
     "output_type": "stream",
     "text": [
      "/opt/conda/envs/ilan/lib/python3.9/site-packages/xarray/core/indexing.py:1379: PerformanceWarning: Slicing is producing a large chunk. To accept the large\n",
      "chunk and silence this warning, set the option\n",
      "    >>> with dask.config.set(**{'array.slicing.split_large_chunks': False}):\n",
      "    ...     array[indexer]\n",
      "\n",
      "To avoid creating the large chunks, set the option\n",
      "    >>> with dask.config.set(**{'array.slicing.split_large_chunks': True}):\n",
      "    ...     array[indexer]\n",
      "  return self.array[key]\n"
     ]
    },
    {
     "name": "stdout",
     "output_type": "stream",
     "text": [
      "Loading data\n"
     ]
    }
   ],
   "source": [
    "ds_test_small = TiggeMRMSDataset(\n",
    "    tigge_dir=f'{DATADRIVE}/tigge/32km/',\n",
    "    tigge_vars=['total_precipitation'],\n",
    "    mrms_dir=f'{DATADRIVE}/mrms/4km/RadarOnly_QPE_06H/',\n",
    "    rq_fn=f'{DATADRIVE}/mrms/4km/RadarQuality.nc',\n",
    "    data_period=('2020-01', '2020-01'),\n",
    "    first_days=2,\n",
    "    tp_log=0.01,\n",
    "    mins=ds_train.mins,\n",
    "    maxs=ds_train.maxs\n",
    ")"
   ]
  },
  {
   "cell_type": "code",
   "execution_count": 25,
   "id": "d50da451",
   "metadata": {},
   "outputs": [],
   "source": [
    "sampler_test_small = torch.utils.data.SequentialSampler(ds_test_small)\n",
    "dl_test_small = torch.utils.data.DataLoader(\n",
    "    ds_test_small, batch_size=32, sampler=sampler_test_small\n",
    ")"
   ]
  },
  {
   "cell_type": "markdown",
   "id": "b74a0298",
   "metadata": {},
   "source": [
    "### Ilan's dataset"
   ]
  },
  {
   "cell_type": "code",
   "execution_count": 18,
   "id": "b1df8a33",
   "metadata": {},
   "outputs": [],
   "source": [
    "ds_test2 = pickle.load(open(\"/home/jupyter/data/saved_datasets/testdataset_single_forecast_only_log_trans_sample.pkl\", \"rb\"))"
   ]
  },
  {
   "cell_type": "code",
   "execution_count": 19,
   "id": "6a93ba87",
   "metadata": {},
   "outputs": [],
   "source": [
    "sampler_test2 = torch.utils.data.SequentialSampler(ds_test2)\n",
    "dl_test2 = torch.utils.data.DataLoader(\n",
    "    ds_test2, batch_size=64, sampler=sampler_test2\n",
    ")"
   ]
  },
  {
   "cell_type": "code",
   "execution_count": 22,
   "id": "160bdd99",
   "metadata": {},
   "outputs": [
    {
     "data": {
      "text/plain": [
       "0.3974892"
      ]
     },
     "execution_count": 22,
     "metadata": {},
     "output_type": "execute_result"
    }
   ],
   "source": [
    "ds_test[0][0][0, 0, 0]"
   ]
  },
  {
   "cell_type": "code",
   "execution_count": 23,
   "id": "4e928118",
   "metadata": {},
   "outputs": [
    {
     "data": {
      "text/plain": [
       "0.3974892"
      ]
     },
     "execution_count": 23,
     "metadata": {},
     "output_type": "execute_result"
    }
   ],
   "source": [
    "ds_test2[0][0][0, 0, 0]"
   ]
  },
  {
   "cell_type": "markdown",
   "id": "2dc30a1f",
   "metadata": {},
   "source": [
    "## Load model"
   ]
  },
  {
   "cell_type": "code",
   "execution_count": 14,
   "id": "3c097da0",
   "metadata": {},
   "outputs": [],
   "source": [
    "gan = LeinGANGP.load_from_checkpoint(\"/home/jupyter/data/saved_models/leingan/single_forecast/0/epoch=120-step=324279.ckpt\")"
   ]
  },
  {
   "cell_type": "code",
   "execution_count": 15,
   "id": "26eb9246",
   "metadata": {},
   "outputs": [],
   "source": [
    "gen = gan.gen\n",
    "gen = gen.to(device)\n",
    "gen.train(False);"
   ]
  },
  {
   "cell_type": "markdown",
   "id": "c014666d",
   "metadata": {},
   "source": [
    "## Ilan's evaluation"
   ]
  },
  {
   "cell_type": "code",
   "execution_count": 12,
   "id": "c29bdc5e",
   "metadata": {},
   "outputs": [],
   "source": [
    "def plot_samples_per_input(cond, target, gen, k=1, samples = 3):\n",
    "    fig, axs = plt.subplots(k, samples+2, figsize=(15, k*5))\n",
    "    gen_images = np.zeros((k,samples+2,128,128))\n",
    "    with torch.no_grad():    \n",
    "        for i in range(4):\n",
    "            noise = torch.randn(cond.shape[0], 1, cond.shape[2], cond.shape[3]).to(device)\n",
    "            pred = gen(cond, noise).detach().cpu().numpy()\n",
    "            for j in range(k):\n",
    "                gen_images[j,i,:,:] = pred[j, 0] \n",
    "\n",
    "    for j in range(k):\n",
    "        lr = cond[j, 0].detach().cpu().numpy()\n",
    "        if lr.shape[0]==64:\n",
    "            lr = lr[24:40, 24:40]\n",
    "        hr = target[j, 0].detach().cpu().numpy()\n",
    "        mn = np.min([np.min(hr), np.min(pred), np.min(gen_images[j,i,:,:])])\n",
    "        mx = np.max([np.max(hr), np.max(pred), np.max(gen_images[j,i,:,:])])\n",
    "        im = axs[j,0].imshow(lr, vmin=mn, vmax=mx, cmap='gist_ncar_r')\n",
    "#         plt.colorbar(im, ax=axs[j,0], shrink=0.7)\n",
    "        im = axs[j,1].imshow(hr, vmin=mn, vmax=mx, cmap='gist_ncar_r')\n",
    "#         plt.colorbar(im, ax=axs[j,0], shrink=0.7)\n",
    "        for i in range(samples):\n",
    "            im = axs[j,i+2].imshow(gen_images[j,i,:,:], vmin=mn, vmax=mx, cmap='gist_ncar_r')\n",
    "#             plt.colorbar(im, ax=axs[j,i], shrink=0.7)\n",
    "    plt.show()  "
   ]
  },
  {
   "cell_type": "code",
   "execution_count": 17,
   "id": "1e7acb07",
   "metadata": {},
   "outputs": [],
   "source": [
    "x_sample, y_sample = next(iter(dl_test))\n",
    "x_sample, y_sample = x_sample.to(device), y_sample.to(device)\n",
    "# plot_samples_per_input(x_sample, y_sample, gen, k=16)"
   ]
  },
  {
   "cell_type": "markdown",
   "id": "be83e75f",
   "metadata": {},
   "source": [
    "### Patch evaluation"
   ]
  },
  {
   "cell_type": "code",
   "execution_count": 41,
   "id": "be4e1e48",
   "metadata": {},
   "outputs": [
    {
     "name": "stdout",
     "output_type": "stream",
     "text": [
      "batch 0 out of 4\n",
      "metrics took 5.379225 seconds.\n",
      "batch 1 out of 4\n",
      "metrics took 5.407562 seconds.\n",
      "batch 2 out of 4\n",
      "metrics took 5.341427 seconds.\n",
      "batch 3 out of 4\n",
      "metrics took 0.946686 seconds.\n"
     ]
    }
   ],
   "source": [
    "num_samples=10\n",
    "scores = gen_patch_eval(\n",
    "    gen, \n",
    "    dl_test_small, \n",
    "    num_samples, \n",
    "    ds_test_small.mins.tp.values, \n",
    "    ds_test_small.maxs.tp.values, \n",
    "    ds_test_small.tp_log, \n",
    "    device\n",
    ")"
   ]
  },
  {
   "cell_type": "code",
   "execution_count": 42,
   "id": "e7e609f9",
   "metadata": {},
   "outputs": [
    {
     "data": {
      "text/plain": [
       "(0.32465395752506965,\n",
       " 0.444688116088458,\n",
       " 0.3218651547988402,\n",
       " <xarray.DataArray (rank: 11)>\n",
       " array([227523., 174535., 157127., 148649., 142779., 136920., 133902.,\n",
       "        130989., 132315., 138849., 245884.])\n",
       " Dimensions without coordinates: rank,\n",
       " (<xarray.DataArray (forecast_probability: 9)>\n",
       "  array([0.03172549, 0.16364529, 0.31069911, 0.        , 0.42108236,\n",
       "         0.50461072, 0.57405935, 0.        , 0.6304834 ])\n",
       "  Coordinates:\n",
       "    * forecast_probability  (forecast_probability) float64 0.05 0.15 ... 0.75 0.85,\n",
       "  None,\n",
       "  <xarray.DataArray 'samples' (forecast_probability: 9)>\n",
       "  array([1041686.,  158868.,  155826.,       0.,   53106.,   94996.,\n",
       "           46537.,       0.,   98821.])\n",
       "  Coordinates:\n",
       "    * forecast_probability  (forecast_probability) float64 0.05 0.15 ... 0.75 0.85),\n",
       " 0.68224376)"
      ]
     },
     "execution_count": 42,
     "metadata": {},
     "output_type": "execute_result"
    }
   ],
   "source": [
    "scores"
   ]
  },
  {
   "cell_type": "markdown",
   "id": "ac8aabdb",
   "metadata": {},
   "source": [
    "## My full field eval"
   ]
  },
  {
   "cell_type": "code",
   "execution_count": 37,
   "id": "80be0f7a",
   "metadata": {},
   "outputs": [],
   "source": [
    "def create_valid_predictions(model, ds_valid):\n",
    "    # Get predictions for full field\n",
    "    preds = []\n",
    "    for t in tqdm.tqdm(range(len(ds_valid.tigge.valid_time))):\n",
    "        X, y = ds_valid.return_full_array(t)\n",
    "        noise = torch.randn(1, X.shape[0], X.shape[1], X.shape[2]).to(device)\n",
    "        pred = model(torch.FloatTensor(X[None]).to(device), noise).to('cpu').detach().numpy()[0, 0]\n",
    "        preds.append(pred)\n",
    "    preds = np.array(preds)\n",
    "    \n",
    "    # Unscale\n",
    "    preds = preds * (ds_valid.maxs.tp.values - ds_valid.mins.tp.values) + ds_valid.mins.tp.values\n",
    "    \n",
    "    # Un-log\n",
    "    if ds_valid.tp_log:\n",
    "        preds = log_retrans(preds, ds_valid.tp_log)\n",
    "    \n",
    "    # Convert to xarray\n",
    "    preds = xr.DataArray(\n",
    "        preds,\n",
    "        dims=['valid_time', 'lat', 'lon'],\n",
    "        coords={\n",
    "            'valid_time': ds_valid.tigge.valid_time,\n",
    "            'lat': ds_valid.mrms.lat.isel(\n",
    "                lat=slice(ds_valid.pad_mrms, ds_valid.pad_mrms+preds.shape[1])\n",
    "            ),\n",
    "            'lon': ds_valid.mrms.lon.isel(\n",
    "                lon=slice(ds_valid.pad_mrms, ds_valid.pad_mrms+preds.shape[2])\n",
    "            )\n",
    "        },\n",
    "        name='tp'\n",
    "    )\n",
    "    return preds"
   ]
  },
  {
   "cell_type": "code",
   "execution_count": 38,
   "id": "418c0b64",
   "metadata": {},
   "outputs": [],
   "source": [
    "def create_valid_ensemble(model, ds_valid, nens):\n",
    "    \"\"\"Wrapper to create ensemble\"\"\"\n",
    "    preds = [create_valid_predictions(model, ds_valid) for _ in range(nens)]\n",
    "    return xr.concat(preds, 'member')"
   ]
  },
  {
   "cell_type": "code",
   "execution_count": 39,
   "id": "7f928e69",
   "metadata": {},
   "outputs": [
    {
     "data": {
      "application/vnd.jupyter.widget-view+json": {
       "model_id": "b5808ed46a1a4cf09b4495725b96aa93",
       "version_major": 2,
       "version_minor": 0
      },
      "text/plain": [
       "  0%|          | 0/3 [00:00<?, ?it/s]"
      ]
     },
     "metadata": {},
     "output_type": "display_data"
    },
    {
     "name": "stdout",
     "output_type": "stream",
     "text": [
      "CPU times: user 1min 45s, sys: 4.23 s, total: 1min 50s\n",
      "Wall time: 29.4 s\n"
     ]
    }
   ],
   "source": [
    "%%time\n",
    "det_pred = create_valid_predictions(gen, ds_test_small)"
   ]
  },
  {
   "cell_type": "code",
   "execution_count": 40,
   "id": "e06e1b0f",
   "metadata": {},
   "outputs": [
    {
     "data": {
      "text/html": [
       "<div><svg style=\"position: absolute; width: 0; height: 0; overflow: hidden\">\n",
       "<defs>\n",
       "<symbol id=\"icon-database\" viewBox=\"0 0 32 32\">\n",
       "<path d=\"M16 0c-8.837 0-16 2.239-16 5v4c0 2.761 7.163 5 16 5s16-2.239 16-5v-4c0-2.761-7.163-5-16-5z\"></path>\n",
       "<path d=\"M16 17c-8.837 0-16-2.239-16-5v6c0 2.761 7.163 5 16 5s16-2.239 16-5v-6c0 2.761-7.163 5-16 5z\"></path>\n",
       "<path d=\"M16 26c-8.837 0-16-2.239-16-5v6c0 2.761 7.163 5 16 5s16-2.239 16-5v-6c0 2.761-7.163 5-16 5z\"></path>\n",
       "</symbol>\n",
       "<symbol id=\"icon-file-text2\" viewBox=\"0 0 32 32\">\n",
       "<path d=\"M28.681 7.159c-0.694-0.947-1.662-2.053-2.724-3.116s-2.169-2.030-3.116-2.724c-1.612-1.182-2.393-1.319-2.841-1.319h-15.5c-1.378 0-2.5 1.121-2.5 2.5v27c0 1.378 1.122 2.5 2.5 2.5h23c1.378 0 2.5-1.122 2.5-2.5v-19.5c0-0.448-0.137-1.23-1.319-2.841zM24.543 5.457c0.959 0.959 1.712 1.825 2.268 2.543h-4.811v-4.811c0.718 0.556 1.584 1.309 2.543 2.268zM28 29.5c0 0.271-0.229 0.5-0.5 0.5h-23c-0.271 0-0.5-0.229-0.5-0.5v-27c0-0.271 0.229-0.5 0.5-0.5 0 0 15.499-0 15.5 0v7c0 0.552 0.448 1 1 1h7v19.5z\"></path>\n",
       "<path d=\"M23 26h-14c-0.552 0-1-0.448-1-1s0.448-1 1-1h14c0.552 0 1 0.448 1 1s-0.448 1-1 1z\"></path>\n",
       "<path d=\"M23 22h-14c-0.552 0-1-0.448-1-1s0.448-1 1-1h14c0.552 0 1 0.448 1 1s-0.448 1-1 1z\"></path>\n",
       "<path d=\"M23 18h-14c-0.552 0-1-0.448-1-1s0.448-1 1-1h14c0.552 0 1 0.448 1 1s-0.448 1-1 1z\"></path>\n",
       "</symbol>\n",
       "</defs>\n",
       "</svg>\n",
       "<style>/* CSS stylesheet for displaying xarray objects in jupyterlab.\n",
       " *\n",
       " */\n",
       "\n",
       ":root {\n",
       "  --xr-font-color0: var(--jp-content-font-color0, rgba(0, 0, 0, 1));\n",
       "  --xr-font-color2: var(--jp-content-font-color2, rgba(0, 0, 0, 0.54));\n",
       "  --xr-font-color3: var(--jp-content-font-color3, rgba(0, 0, 0, 0.38));\n",
       "  --xr-border-color: var(--jp-border-color2, #e0e0e0);\n",
       "  --xr-disabled-color: var(--jp-layout-color3, #bdbdbd);\n",
       "  --xr-background-color: var(--jp-layout-color0, white);\n",
       "  --xr-background-color-row-even: var(--jp-layout-color1, white);\n",
       "  --xr-background-color-row-odd: var(--jp-layout-color2, #eeeeee);\n",
       "}\n",
       "\n",
       "html[theme=dark],\n",
       "body.vscode-dark {\n",
       "  --xr-font-color0: rgba(255, 255, 255, 1);\n",
       "  --xr-font-color2: rgba(255, 255, 255, 0.54);\n",
       "  --xr-font-color3: rgba(255, 255, 255, 0.38);\n",
       "  --xr-border-color: #1F1F1F;\n",
       "  --xr-disabled-color: #515151;\n",
       "  --xr-background-color: #111111;\n",
       "  --xr-background-color-row-even: #111111;\n",
       "  --xr-background-color-row-odd: #313131;\n",
       "}\n",
       "\n",
       ".xr-wrap {\n",
       "  display: block;\n",
       "  min-width: 300px;\n",
       "  max-width: 700px;\n",
       "}\n",
       "\n",
       ".xr-text-repr-fallback {\n",
       "  /* fallback to plain text repr when CSS is not injected (untrusted notebook) */\n",
       "  display: none;\n",
       "}\n",
       "\n",
       ".xr-header {\n",
       "  padding-top: 6px;\n",
       "  padding-bottom: 6px;\n",
       "  margin-bottom: 4px;\n",
       "  border-bottom: solid 1px var(--xr-border-color);\n",
       "}\n",
       "\n",
       ".xr-header > div,\n",
       ".xr-header > ul {\n",
       "  display: inline;\n",
       "  margin-top: 0;\n",
       "  margin-bottom: 0;\n",
       "}\n",
       "\n",
       ".xr-obj-type,\n",
       ".xr-array-name {\n",
       "  margin-left: 2px;\n",
       "  margin-right: 10px;\n",
       "}\n",
       "\n",
       ".xr-obj-type {\n",
       "  color: var(--xr-font-color2);\n",
       "}\n",
       "\n",
       ".xr-sections {\n",
       "  padding-left: 0 !important;\n",
       "  display: grid;\n",
       "  grid-template-columns: 150px auto auto 1fr 20px 20px;\n",
       "}\n",
       "\n",
       ".xr-section-item {\n",
       "  display: contents;\n",
       "}\n",
       "\n",
       ".xr-section-item input {\n",
       "  display: none;\n",
       "}\n",
       "\n",
       ".xr-section-item input + label {\n",
       "  color: var(--xr-disabled-color);\n",
       "}\n",
       "\n",
       ".xr-section-item input:enabled + label {\n",
       "  cursor: pointer;\n",
       "  color: var(--xr-font-color2);\n",
       "}\n",
       "\n",
       ".xr-section-item input:enabled + label:hover {\n",
       "  color: var(--xr-font-color0);\n",
       "}\n",
       "\n",
       ".xr-section-summary {\n",
       "  grid-column: 1;\n",
       "  color: var(--xr-font-color2);\n",
       "  font-weight: 500;\n",
       "}\n",
       "\n",
       ".xr-section-summary > span {\n",
       "  display: inline-block;\n",
       "  padding-left: 0.5em;\n",
       "}\n",
       "\n",
       ".xr-section-summary-in:disabled + label {\n",
       "  color: var(--xr-font-color2);\n",
       "}\n",
       "\n",
       ".xr-section-summary-in + label:before {\n",
       "  display: inline-block;\n",
       "  content: '►';\n",
       "  font-size: 11px;\n",
       "  width: 15px;\n",
       "  text-align: center;\n",
       "}\n",
       "\n",
       ".xr-section-summary-in:disabled + label:before {\n",
       "  color: var(--xr-disabled-color);\n",
       "}\n",
       "\n",
       ".xr-section-summary-in:checked + label:before {\n",
       "  content: '▼';\n",
       "}\n",
       "\n",
       ".xr-section-summary-in:checked + label > span {\n",
       "  display: none;\n",
       "}\n",
       "\n",
       ".xr-section-summary,\n",
       ".xr-section-inline-details {\n",
       "  padding-top: 4px;\n",
       "  padding-bottom: 4px;\n",
       "}\n",
       "\n",
       ".xr-section-inline-details {\n",
       "  grid-column: 2 / -1;\n",
       "}\n",
       "\n",
       ".xr-section-details {\n",
       "  display: none;\n",
       "  grid-column: 1 / -1;\n",
       "  margin-bottom: 5px;\n",
       "}\n",
       "\n",
       ".xr-section-summary-in:checked ~ .xr-section-details {\n",
       "  display: contents;\n",
       "}\n",
       "\n",
       ".xr-array-wrap {\n",
       "  grid-column: 1 / -1;\n",
       "  display: grid;\n",
       "  grid-template-columns: 20px auto;\n",
       "}\n",
       "\n",
       ".xr-array-wrap > label {\n",
       "  grid-column: 1;\n",
       "  vertical-align: top;\n",
       "}\n",
       "\n",
       ".xr-preview {\n",
       "  color: var(--xr-font-color3);\n",
       "}\n",
       "\n",
       ".xr-array-preview,\n",
       ".xr-array-data {\n",
       "  padding: 0 5px !important;\n",
       "  grid-column: 2;\n",
       "}\n",
       "\n",
       ".xr-array-data,\n",
       ".xr-array-in:checked ~ .xr-array-preview {\n",
       "  display: none;\n",
       "}\n",
       "\n",
       ".xr-array-in:checked ~ .xr-array-data,\n",
       ".xr-array-preview {\n",
       "  display: inline-block;\n",
       "}\n",
       "\n",
       ".xr-dim-list {\n",
       "  display: inline-block !important;\n",
       "  list-style: none;\n",
       "  padding: 0 !important;\n",
       "  margin: 0;\n",
       "}\n",
       "\n",
       ".xr-dim-list li {\n",
       "  display: inline-block;\n",
       "  padding: 0;\n",
       "  margin: 0;\n",
       "}\n",
       "\n",
       ".xr-dim-list:before {\n",
       "  content: '(';\n",
       "}\n",
       "\n",
       ".xr-dim-list:after {\n",
       "  content: ')';\n",
       "}\n",
       "\n",
       ".xr-dim-list li:not(:last-child):after {\n",
       "  content: ',';\n",
       "  padding-right: 5px;\n",
       "}\n",
       "\n",
       ".xr-has-index {\n",
       "  font-weight: bold;\n",
       "}\n",
       "\n",
       ".xr-var-list,\n",
       ".xr-var-item {\n",
       "  display: contents;\n",
       "}\n",
       "\n",
       ".xr-var-item > div,\n",
       ".xr-var-item label,\n",
       ".xr-var-item > .xr-var-name span {\n",
       "  background-color: var(--xr-background-color-row-even);\n",
       "  margin-bottom: 0;\n",
       "}\n",
       "\n",
       ".xr-var-item > .xr-var-name:hover span {\n",
       "  padding-right: 5px;\n",
       "}\n",
       "\n",
       ".xr-var-list > li:nth-child(odd) > div,\n",
       ".xr-var-list > li:nth-child(odd) > label,\n",
       ".xr-var-list > li:nth-child(odd) > .xr-var-name span {\n",
       "  background-color: var(--xr-background-color-row-odd);\n",
       "}\n",
       "\n",
       ".xr-var-name {\n",
       "  grid-column: 1;\n",
       "}\n",
       "\n",
       ".xr-var-dims {\n",
       "  grid-column: 2;\n",
       "}\n",
       "\n",
       ".xr-var-dtype {\n",
       "  grid-column: 3;\n",
       "  text-align: right;\n",
       "  color: var(--xr-font-color2);\n",
       "}\n",
       "\n",
       ".xr-var-preview {\n",
       "  grid-column: 4;\n",
       "}\n",
       "\n",
       ".xr-var-name,\n",
       ".xr-var-dims,\n",
       ".xr-var-dtype,\n",
       ".xr-preview,\n",
       ".xr-attrs dt {\n",
       "  white-space: nowrap;\n",
       "  overflow: hidden;\n",
       "  text-overflow: ellipsis;\n",
       "  padding-right: 10px;\n",
       "}\n",
       "\n",
       ".xr-var-name:hover,\n",
       ".xr-var-dims:hover,\n",
       ".xr-var-dtype:hover,\n",
       ".xr-attrs dt:hover {\n",
       "  overflow: visible;\n",
       "  width: auto;\n",
       "  z-index: 1;\n",
       "}\n",
       "\n",
       ".xr-var-attrs,\n",
       ".xr-var-data {\n",
       "  display: none;\n",
       "  background-color: var(--xr-background-color) !important;\n",
       "  padding-bottom: 5px !important;\n",
       "}\n",
       "\n",
       ".xr-var-attrs-in:checked ~ .xr-var-attrs,\n",
       ".xr-var-data-in:checked ~ .xr-var-data {\n",
       "  display: block;\n",
       "}\n",
       "\n",
       ".xr-var-data > table {\n",
       "  float: right;\n",
       "}\n",
       "\n",
       ".xr-var-name span,\n",
       ".xr-var-data,\n",
       ".xr-attrs {\n",
       "  padding-left: 25px !important;\n",
       "}\n",
       "\n",
       ".xr-attrs,\n",
       ".xr-var-attrs,\n",
       ".xr-var-data {\n",
       "  grid-column: 1 / -1;\n",
       "}\n",
       "\n",
       "dl.xr-attrs {\n",
       "  padding: 0;\n",
       "  margin: 0;\n",
       "  display: grid;\n",
       "  grid-template-columns: 125px auto;\n",
       "}\n",
       "\n",
       ".xr-attrs dt,\n",
       ".xr-attrs dd {\n",
       "  padding: 0;\n",
       "  margin: 0;\n",
       "  float: left;\n",
       "  padding-right: 10px;\n",
       "  width: auto;\n",
       "}\n",
       "\n",
       ".xr-attrs dt {\n",
       "  font-weight: normal;\n",
       "  grid-column: 1;\n",
       "}\n",
       "\n",
       ".xr-attrs dt:hover span {\n",
       "  display: inline-block;\n",
       "  background: var(--xr-background-color);\n",
       "  padding-right: 10px;\n",
       "}\n",
       "\n",
       ".xr-attrs dd {\n",
       "  grid-column: 2;\n",
       "  white-space: pre-wrap;\n",
       "  word-break: break-all;\n",
       "}\n",
       "\n",
       ".xr-icon-database,\n",
       ".xr-icon-file-text2 {\n",
       "  display: inline-block;\n",
       "  vertical-align: middle;\n",
       "  width: 1em;\n",
       "  height: 1.5em !important;\n",
       "  stroke-width: 0;\n",
       "  stroke: currentColor;\n",
       "  fill: currentColor;\n",
       "}\n",
       "</style><pre class='xr-text-repr-fallback'>&lt;xarray.DataArray &#x27;tp&#x27; (valid_time: 3, lat: 744, lon: 1376)&gt;\n",
       "array([[[ 9.10386443e-05,  3.05473804e-07,  9.03382897e-08, ...,\n",
       "          9.42104578e-01,  1.08136487e+00,  1.04243147e+00],\n",
       "        [ 9.31322575e-09, -9.31322575e-10, -9.31322575e-10, ...,\n",
       "          9.11441743e-01,  1.10513544e+00,  9.82848406e-01],\n",
       "        [ 3.72529030e-09, -9.31322575e-10, -9.31322575e-10, ...,\n",
       "          6.82172954e-01,  7.53926456e-01,  7.39659607e-01],\n",
       "        ...,\n",
       "        [-9.31322575e-10, -9.31322575e-10, -9.31322575e-10, ...,\n",
       "          3.93018126e-05,  4.53302637e-05,  4.81594354e-04],\n",
       "        [ 1.13621354e-07, -9.31322575e-10,  2.18860805e-07, ...,\n",
       "          9.22754407e-05,  1.29863620e-04,  6.89742155e-04],\n",
       "        [ 1.95577741e-08, -9.31322575e-10, -9.31322575e-10, ...,\n",
       "          9.59753990e-04,  1.02228392e-03,  9.29130986e-03]],\n",
       "\n",
       "       [[ 1.86843798e-02,  8.49954784e-04,  2.21041031e-04, ...,\n",
       "          2.41983868e-03,  7.15769827e-04,  1.50705874e-03],\n",
       "        [ 3.47541645e-04,  3.99239361e-05,  1.00852922e-05, ...,\n",
       "          1.55771151e-04,  8.12616199e-05,  3.17227095e-04],\n",
       "        [ 3.74819152e-04,  6.81858510e-05,  4.42098826e-05, ...,\n",
       "          8.74549150e-05,  2.66134739e-05,  1.84452161e-04],\n",
       "...\n",
       "          7.19912350e-07,  6.91041350e-07,  6.94859773e-06],\n",
       "        [-9.31322575e-10, -9.31322575e-10, -9.31322575e-10, ...,\n",
       "          5.30853868e-08,  4.28408384e-08,  1.60280615e-06],\n",
       "        [ 3.72529030e-09, -9.31322575e-10, -9.31322575e-10, ...,\n",
       "          5.28991222e-07,  6.10016286e-07,  1.70145184e-04]],\n",
       "\n",
       "       [[ 1.95503235e-05,  1.95577741e-08,  1.39698386e-08, ...,\n",
       "          1.75860710e-04,  1.55200250e-04,  8.64912756e-04],\n",
       "        [-9.31322575e-10, -9.31322575e-10, -9.31322575e-10, ...,\n",
       "          1.77882612e-06,  3.98606062e-06,  7.42031261e-05],\n",
       "        [-9.31322575e-10, -9.31322575e-10, -9.31322575e-10, ...,\n",
       "          3.95812094e-07,  5.81145287e-07,  2.44770199e-05],\n",
       "        ...,\n",
       "        [ 9.31322575e-09, -9.31322575e-10, -9.31322575e-10, ...,\n",
       "          1.47148967e-07, -9.31322575e-10,  3.72529030e-09],\n",
       "        [ 3.72529030e-08, -9.31322575e-10, -9.31322575e-10, ...,\n",
       "          2.29105353e-07, -9.31322575e-10,  9.31322575e-09],\n",
       "        [ 2.88989395e-06,  9.31322575e-09,  3.72529030e-09, ...,\n",
       "          1.01514161e-06,  3.72529030e-09,  7.33602792e-06]]],\n",
       "      dtype=float32)\n",
       "Coordinates:\n",
       "  * valid_time  (valid_time) datetime64[ns] 2020-01-01T12:00:00 ... 2020-01-0...\n",
       "  * lat         (lat) float64 50.0 49.96 49.92 49.88 ... 20.4 20.36 20.32 20.28\n",
       "  * lon         (lon) float64 235.0 235.0 235.1 235.1 ... 289.9 290.0 290.0</pre><div class='xr-wrap' hidden><div class='xr-header'><div class='xr-obj-type'>xarray.DataArray</div><div class='xr-array-name'>'tp'</div><ul class='xr-dim-list'><li><span class='xr-has-index'>valid_time</span>: 3</li><li><span class='xr-has-index'>lat</span>: 744</li><li><span class='xr-has-index'>lon</span>: 1376</li></ul></div><ul class='xr-sections'><li class='xr-section-item'><div class='xr-array-wrap'><input id='section-ed3ff8ed-6ffd-4485-83ce-a511408d46e0' class='xr-array-in' type='checkbox' checked><label for='section-ed3ff8ed-6ffd-4485-83ce-a511408d46e0' title='Show/hide data repr'><svg class='icon xr-icon-database'><use xlink:href='#icon-database'></use></svg></label><div class='xr-array-preview xr-preview'><span>9.104e-05 3.055e-07 9.034e-08 ... 1.015e-06 3.725e-09 7.336e-06</span></div><div class='xr-array-data'><pre>array([[[ 9.10386443e-05,  3.05473804e-07,  9.03382897e-08, ...,\n",
       "          9.42104578e-01,  1.08136487e+00,  1.04243147e+00],\n",
       "        [ 9.31322575e-09, -9.31322575e-10, -9.31322575e-10, ...,\n",
       "          9.11441743e-01,  1.10513544e+00,  9.82848406e-01],\n",
       "        [ 3.72529030e-09, -9.31322575e-10, -9.31322575e-10, ...,\n",
       "          6.82172954e-01,  7.53926456e-01,  7.39659607e-01],\n",
       "        ...,\n",
       "        [-9.31322575e-10, -9.31322575e-10, -9.31322575e-10, ...,\n",
       "          3.93018126e-05,  4.53302637e-05,  4.81594354e-04],\n",
       "        [ 1.13621354e-07, -9.31322575e-10,  2.18860805e-07, ...,\n",
       "          9.22754407e-05,  1.29863620e-04,  6.89742155e-04],\n",
       "        [ 1.95577741e-08, -9.31322575e-10, -9.31322575e-10, ...,\n",
       "          9.59753990e-04,  1.02228392e-03,  9.29130986e-03]],\n",
       "\n",
       "       [[ 1.86843798e-02,  8.49954784e-04,  2.21041031e-04, ...,\n",
       "          2.41983868e-03,  7.15769827e-04,  1.50705874e-03],\n",
       "        [ 3.47541645e-04,  3.99239361e-05,  1.00852922e-05, ...,\n",
       "          1.55771151e-04,  8.12616199e-05,  3.17227095e-04],\n",
       "        [ 3.74819152e-04,  6.81858510e-05,  4.42098826e-05, ...,\n",
       "          8.74549150e-05,  2.66134739e-05,  1.84452161e-04],\n",
       "...\n",
       "          7.19912350e-07,  6.91041350e-07,  6.94859773e-06],\n",
       "        [-9.31322575e-10, -9.31322575e-10, -9.31322575e-10, ...,\n",
       "          5.30853868e-08,  4.28408384e-08,  1.60280615e-06],\n",
       "        [ 3.72529030e-09, -9.31322575e-10, -9.31322575e-10, ...,\n",
       "          5.28991222e-07,  6.10016286e-07,  1.70145184e-04]],\n",
       "\n",
       "       [[ 1.95503235e-05,  1.95577741e-08,  1.39698386e-08, ...,\n",
       "          1.75860710e-04,  1.55200250e-04,  8.64912756e-04],\n",
       "        [-9.31322575e-10, -9.31322575e-10, -9.31322575e-10, ...,\n",
       "          1.77882612e-06,  3.98606062e-06,  7.42031261e-05],\n",
       "        [-9.31322575e-10, -9.31322575e-10, -9.31322575e-10, ...,\n",
       "          3.95812094e-07,  5.81145287e-07,  2.44770199e-05],\n",
       "        ...,\n",
       "        [ 9.31322575e-09, -9.31322575e-10, -9.31322575e-10, ...,\n",
       "          1.47148967e-07, -9.31322575e-10,  3.72529030e-09],\n",
       "        [ 3.72529030e-08, -9.31322575e-10, -9.31322575e-10, ...,\n",
       "          2.29105353e-07, -9.31322575e-10,  9.31322575e-09],\n",
       "        [ 2.88989395e-06,  9.31322575e-09,  3.72529030e-09, ...,\n",
       "          1.01514161e-06,  3.72529030e-09,  7.33602792e-06]]],\n",
       "      dtype=float32)</pre></div></div></li><li class='xr-section-item'><input id='section-e2158092-4d78-40c0-b3f2-47c87ec6c482' class='xr-section-summary-in' type='checkbox'  checked><label for='section-e2158092-4d78-40c0-b3f2-47c87ec6c482' class='xr-section-summary' >Coordinates: <span>(3)</span></label><div class='xr-section-inline-details'></div><div class='xr-section-details'><ul class='xr-var-list'><li class='xr-var-item'><div class='xr-var-name'><span class='xr-has-index'>valid_time</span></div><div class='xr-var-dims'>(valid_time)</div><div class='xr-var-dtype'>datetime64[ns]</div><div class='xr-var-preview xr-preview'>2020-01-01T12:00:00 ... 2020-01-...</div><input id='attrs-f5fa8839-7f9d-44e8-8335-7657fc1f3312' class='xr-var-attrs-in' type='checkbox' disabled><label for='attrs-f5fa8839-7f9d-44e8-8335-7657fc1f3312' title='Show/Hide attributes'><svg class='icon xr-icon-file-text2'><use xlink:href='#icon-file-text2'></use></svg></label><input id='data-19da170a-214f-4781-98b9-6b3d9a2e162c' class='xr-var-data-in' type='checkbox'><label for='data-19da170a-214f-4781-98b9-6b3d9a2e162c' title='Show/Hide data repr'><svg class='icon xr-icon-database'><use xlink:href='#icon-database'></use></svg></label><div class='xr-var-attrs'><dl class='xr-attrs'></dl></div><div class='xr-var-data'><pre>array([&#x27;2020-01-01T12:00:00.000000000&#x27;, &#x27;2020-01-02T00:00:00.000000000&#x27;,\n",
       "       &#x27;2020-01-02T12:00:00.000000000&#x27;], dtype=&#x27;datetime64[ns]&#x27;)</pre></div></li><li class='xr-var-item'><div class='xr-var-name'><span class='xr-has-index'>lat</span></div><div class='xr-var-dims'>(lat)</div><div class='xr-var-dtype'>float64</div><div class='xr-var-preview xr-preview'>50.0 49.96 49.92 ... 20.32 20.28</div><input id='attrs-99f1e75b-78d3-4537-ae3c-112b63830580' class='xr-var-attrs-in' type='checkbox' disabled><label for='attrs-99f1e75b-78d3-4537-ae3c-112b63830580' title='Show/Hide attributes'><svg class='icon xr-icon-file-text2'><use xlink:href='#icon-file-text2'></use></svg></label><input id='data-041382a4-7871-486c-9ac9-4d1dfefa5251' class='xr-var-data-in' type='checkbox'><label for='data-041382a4-7871-486c-9ac9-4d1dfefa5251' title='Show/Hide data repr'><svg class='icon xr-icon-database'><use xlink:href='#icon-database'></use></svg></label><div class='xr-var-attrs'><dl class='xr-attrs'></dl></div><div class='xr-var-data'><pre>array([50.  , 49.96, 49.92, ..., 20.36, 20.32, 20.28])</pre></div></li><li class='xr-var-item'><div class='xr-var-name'><span class='xr-has-index'>lon</span></div><div class='xr-var-dims'>(lon)</div><div class='xr-var-dtype'>float64</div><div class='xr-var-preview xr-preview'>235.0 235.0 235.1 ... 290.0 290.0</div><input id='attrs-10916a92-a4f6-4870-8c30-bcb3651c2c1e' class='xr-var-attrs-in' type='checkbox' disabled><label for='attrs-10916a92-a4f6-4870-8c30-bcb3651c2c1e' title='Show/Hide attributes'><svg class='icon xr-icon-file-text2'><use xlink:href='#icon-file-text2'></use></svg></label><input id='data-8ecacccf-4dfd-4016-b1db-8ee5fd25cbaa' class='xr-var-data-in' type='checkbox'><label for='data-8ecacccf-4dfd-4016-b1db-8ee5fd25cbaa' title='Show/Hide data repr'><svg class='icon xr-icon-database'><use xlink:href='#icon-database'></use></svg></label><div class='xr-var-attrs'><dl class='xr-attrs'></dl></div><div class='xr-var-data'><pre>array([235.  , 235.04, 235.08, ..., 289.92, 289.96, 290.  ])</pre></div></li></ul></div></li><li class='xr-section-item'><input id='section-9366335e-0819-4bb2-bdfd-6bf9017b31d9' class='xr-section-summary-in' type='checkbox' disabled ><label for='section-9366335e-0819-4bb2-bdfd-6bf9017b31d9' class='xr-section-summary'  title='Expand/collapse section'>Attributes: <span>(0)</span></label><div class='xr-section-inline-details'></div><div class='xr-section-details'><dl class='xr-attrs'></dl></div></li></ul></div></div>"
      ],
      "text/plain": [
       "<xarray.DataArray 'tp' (valid_time: 3, lat: 744, lon: 1376)>\n",
       "array([[[ 9.10386443e-05,  3.05473804e-07,  9.03382897e-08, ...,\n",
       "          9.42104578e-01,  1.08136487e+00,  1.04243147e+00],\n",
       "        [ 9.31322575e-09, -9.31322575e-10, -9.31322575e-10, ...,\n",
       "          9.11441743e-01,  1.10513544e+00,  9.82848406e-01],\n",
       "        [ 3.72529030e-09, -9.31322575e-10, -9.31322575e-10, ...,\n",
       "          6.82172954e-01,  7.53926456e-01,  7.39659607e-01],\n",
       "        ...,\n",
       "        [-9.31322575e-10, -9.31322575e-10, -9.31322575e-10, ...,\n",
       "          3.93018126e-05,  4.53302637e-05,  4.81594354e-04],\n",
       "        [ 1.13621354e-07, -9.31322575e-10,  2.18860805e-07, ...,\n",
       "          9.22754407e-05,  1.29863620e-04,  6.89742155e-04],\n",
       "        [ 1.95577741e-08, -9.31322575e-10, -9.31322575e-10, ...,\n",
       "          9.59753990e-04,  1.02228392e-03,  9.29130986e-03]],\n",
       "\n",
       "       [[ 1.86843798e-02,  8.49954784e-04,  2.21041031e-04, ...,\n",
       "          2.41983868e-03,  7.15769827e-04,  1.50705874e-03],\n",
       "        [ 3.47541645e-04,  3.99239361e-05,  1.00852922e-05, ...,\n",
       "          1.55771151e-04,  8.12616199e-05,  3.17227095e-04],\n",
       "        [ 3.74819152e-04,  6.81858510e-05,  4.42098826e-05, ...,\n",
       "          8.74549150e-05,  2.66134739e-05,  1.84452161e-04],\n",
       "...\n",
       "          7.19912350e-07,  6.91041350e-07,  6.94859773e-06],\n",
       "        [-9.31322575e-10, -9.31322575e-10, -9.31322575e-10, ...,\n",
       "          5.30853868e-08,  4.28408384e-08,  1.60280615e-06],\n",
       "        [ 3.72529030e-09, -9.31322575e-10, -9.31322575e-10, ...,\n",
       "          5.28991222e-07,  6.10016286e-07,  1.70145184e-04]],\n",
       "\n",
       "       [[ 1.95503235e-05,  1.95577741e-08,  1.39698386e-08, ...,\n",
       "          1.75860710e-04,  1.55200250e-04,  8.64912756e-04],\n",
       "        [-9.31322575e-10, -9.31322575e-10, -9.31322575e-10, ...,\n",
       "          1.77882612e-06,  3.98606062e-06,  7.42031261e-05],\n",
       "        [-9.31322575e-10, -9.31322575e-10, -9.31322575e-10, ...,\n",
       "          3.95812094e-07,  5.81145287e-07,  2.44770199e-05],\n",
       "        ...,\n",
       "        [ 9.31322575e-09, -9.31322575e-10, -9.31322575e-10, ...,\n",
       "          1.47148967e-07, -9.31322575e-10,  3.72529030e-09],\n",
       "        [ 3.72529030e-08, -9.31322575e-10, -9.31322575e-10, ...,\n",
       "          2.29105353e-07, -9.31322575e-10,  9.31322575e-09],\n",
       "        [ 2.88989395e-06,  9.31322575e-09,  3.72529030e-09, ...,\n",
       "          1.01514161e-06,  3.72529030e-09,  7.33602792e-06]]],\n",
       "      dtype=float32)\n",
       "Coordinates:\n",
       "  * valid_time  (valid_time) datetime64[ns] 2020-01-01T12:00:00 ... 2020-01-0...\n",
       "  * lat         (lat) float64 50.0 49.96 49.92 49.88 ... 20.4 20.36 20.32 20.28\n",
       "  * lon         (lon) float64 235.0 235.0 235.1 235.1 ... 289.9 290.0 290.0"
      ]
     },
     "execution_count": 40,
     "metadata": {},
     "output_type": "execute_result"
    }
   ],
   "source": [
    "det_pred"
   ]
  },
  {
   "cell_type": "code",
   "execution_count": null,
   "id": "39d84466",
   "metadata": {},
   "outputs": [
    {
     "data": {
      "application/vnd.jupyter.widget-view+json": {
       "model_id": "51aadaa46c05451ab24e75f5d8e9d13b",
       "version_major": 2,
       "version_minor": 0
      },
      "text/plain": [
       "  0%|          | 0/110 [00:00<?, ?it/s]"
      ]
     },
     "metadata": {},
     "output_type": "display_data"
    }
   ],
   "source": [
    "%%time\n",
    "ens_pred = create_valid_ensemble(gen, ds_test, nens=10)"
   ]
  },
  {
   "cell_type": "code",
   "execution_count": null,
   "id": "96d8d068",
   "metadata": {},
   "outputs": [],
   "source": []
  },
  {
   "cell_type": "code",
   "execution_count": null,
   "id": "7636d442",
   "metadata": {},
   "outputs": [],
   "source": []
  },
  {
   "cell_type": "code",
   "execution_count": null,
   "id": "d3fdb8b4",
   "metadata": {},
   "outputs": [],
   "source": []
  }
 ],
 "metadata": {
  "environment": {
   "name": "common-cu110.m74",
   "type": "gcloud",
   "uri": "gcr.io/deeplearning-platform-release/base-cu110:m74"
  },
  "kernelspec": {
   "display_name": "Python [conda env:ilan]",
   "language": "python",
   "name": "conda-env-ilan-py"
  },
  "language_info": {
   "codemirror_mode": {
    "name": "ipython",
    "version": 3
   },
   "file_extension": ".py",
   "mimetype": "text/x-python",
   "name": "python",
   "nbconvert_exporter": "python",
   "pygments_lexer": "ipython3",
   "version": "3.9.5"
  }
 },
 "nbformat": 4,
 "nbformat_minor": 5
}
