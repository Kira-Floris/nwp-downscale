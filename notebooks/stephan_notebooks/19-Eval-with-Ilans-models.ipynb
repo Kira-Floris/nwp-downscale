{
 "cells": [
  {
   "cell_type": "code",
   "execution_count": 1,
   "id": "4a1cdfa3",
   "metadata": {
    "Collapsed": "false"
   },
   "outputs": [],
   "source": [
    "%load_ext autoreload\n",
    "%autoreload 2"
   ]
  },
  {
   "cell_type": "code",
   "execution_count": 2,
   "id": "95e16ff7",
   "metadata": {
    "Collapsed": "false"
   },
   "outputs": [],
   "source": [
    "import torch\n",
    "from torch.nn import functional as F\n",
    "from torch import nn\n",
    "from pytorch_lightning.core.lightning import LightningModule\n",
    "import pytorch_lightning as pl\n",
    "\n",
    "import torch.optim as optim\n",
    "import torchvision\n",
    "import torchvision.datasets as datasets\n",
    "import torchvision.transforms as transforms\n",
    "from torch.utils.data import DataLoader\n",
    "\n",
    "from src.models import *\n",
    "# from ilan_src.models import *\n",
    "from src.dataloader import *\n",
    "from src.utils import *\n",
    "from src.evaluation import *\n",
    "\n",
    "import xarray as xr\n",
    "import numpy as np\n",
    "import matplotlib.pyplot as plt\n",
    "\n",
    "import pickle\n",
    "\n",
    "if torch.cuda.is_available():\n",
    "    device = torch.device(\"cuda\") \n",
    "else:\n",
    "    device = torch.device(\"cpu\")"
   ]
  },
  {
   "cell_type": "code",
   "execution_count": 3,
   "id": "bf7f62b2",
   "metadata": {
    "Collapsed": "false"
   },
   "outputs": [],
   "source": [
    "import sys"
   ]
  },
  {
   "cell_type": "markdown",
   "id": "44ef83fb",
   "metadata": {
    "Collapsed": "false"
   },
   "source": [
    "## Set up dataset - my way"
   ]
  },
  {
   "cell_type": "code",
   "execution_count": 4,
   "id": "d0146c16",
   "metadata": {
    "Collapsed": "false"
   },
   "outputs": [],
   "source": [
    "members = 10\n",
    "zero_noise = False"
   ]
  },
  {
   "cell_type": "code",
   "execution_count": 5,
   "id": "1e7832a4",
   "metadata": {
    "Collapsed": "false"
   },
   "outputs": [],
   "source": [
    "DATADRIVE = '/home/jupyter/data/'"
   ]
  },
  {
   "cell_type": "code",
   "execution_count": 6,
   "id": "79f67c33",
   "metadata": {
    "Collapsed": "false"
   },
   "outputs": [],
   "source": [
    "# ds_train = TiggeMRMSDataset(\n",
    "#     tigge_dir=f'{DATADRIVE}/tigge/32km/',\n",
    "#     tigge_vars=['total_precipitation_ens10'],\n",
    "#     mrms_dir=f'{DATADRIVE}/mrms/4km/RadarOnly_QPE_06H/',\n",
    "#     rq_fn=f'{DATADRIVE}/mrms/4km/RadarQuality.nc',\n",
    "#     data_period=('2018-01', '2019-12'),\n",
    "#     val_days=5,\n",
    "#     split='train',\n",
    "#     tp_log=0.01,\n",
    "#     ensemble_mode='random',\n",
    "#     idx_stride=16\n",
    "# )"
   ]
  },
  {
   "cell_type": "code",
   "execution_count": 7,
   "id": "9a9d95b8",
   "metadata": {},
   "outputs": [],
   "source": [
    "# !mkdir tmp"
   ]
  },
  {
   "cell_type": "code",
   "execution_count": 8,
   "id": "59d858ad",
   "metadata": {
    "Collapsed": "false"
   },
   "outputs": [],
   "source": [
    "# ds_train.mins.to_netcdf('tmp/mins1.nc')\n",
    "# ds_train.maxs.to_netcdf('tmp/maxs1.nc')"
   ]
  },
  {
   "cell_type": "code",
   "execution_count": 9,
   "id": "cedcf1cf",
   "metadata": {
    "Collapsed": "false"
   },
   "outputs": [],
   "source": [
    "mins = xr.open_dataset('tmp/mins1.nc')\n",
    "maxs = xr.open_dataset('tmp/maxs1.nc')"
   ]
  },
  {
   "cell_type": "code",
   "execution_count": 10,
   "id": "3b343796",
   "metadata": {
    "Collapsed": "false"
   },
   "outputs": [
    {
     "name": "stderr",
     "output_type": "stream",
     "text": [
      "/opt/conda/envs/ilan/lib/python3.9/site-packages/xarray/core/indexing.py:1379: PerformanceWarning: Slicing is producing a large chunk. To accept the large\n",
      "chunk and silence this warning, set the option\n",
      "    >>> with dask.config.set(**{'array.slicing.split_large_chunks': False}):\n",
      "    ...     array[indexer]\n",
      "\n",
      "To avoid creating the large chunks, set the option\n",
      "    >>> with dask.config.set(**{'array.slicing.split_large_chunks': True}):\n",
      "    ...     array[indexer]\n",
      "  return self.array[key]\n"
     ]
    },
    {
     "name": "stdout",
     "output_type": "stream",
     "text": [
      "Loading data\n"
     ]
    }
   ],
   "source": [
    "ds_test = TiggeMRMSDataset(\n",
    "    tigge_dir=f'{DATADRIVE}/tigge/32km/',\n",
    "    tigge_vars=['total_precipitation_ens10'],\n",
    "    mrms_dir=f'{DATADRIVE}/mrms/4km/RadarOnly_QPE_06H/',\n",
    "#     rq_fn=f'{DATADRIVE}/mrms/4km/RadarQuality.nc',\n",
    "    data_period=('2020-01', '2020-12'),\n",
    "    first_days=5,\n",
    "    tp_log=0.01,\n",
    "    mins=mins,\n",
    "    maxs=maxs,\n",
    "    ensemble_mode='random',\n",
    "    idx_stride=16\n",
    ")"
   ]
  },
  {
   "cell_type": "code",
   "execution_count": null,
   "id": "32e8ced0",
   "metadata": {
    "Collapsed": "false"
   },
   "outputs": [
    {
     "name": "stderr",
     "output_type": "stream",
     "text": [
      "/opt/conda/envs/ilan/lib/python3.9/site-packages/xarray/core/indexing.py:1379: PerformanceWarning: Slicing is producing a large chunk. To accept the large\n",
      "chunk and silence this warning, set the option\n",
      "    >>> with dask.config.set(**{'array.slicing.split_large_chunks': False}):\n",
      "    ...     array[indexer]\n",
      "\n",
      "To avoid creating the large chunks, set the option\n",
      "    >>> with dask.config.set(**{'array.slicing.split_large_chunks': True}):\n",
      "    ...     array[indexer]\n",
      "  return self.array[key]\n",
      "/opt/conda/envs/ilan/lib/python3.9/site-packages/xarray/core/indexing.py:1379: PerformanceWarning: Slicing is producing a large chunk. To accept the large\n",
      "chunk and silence this warning, set the option\n",
      "    >>> with dask.config.set(**{'array.slicing.split_large_chunks': False}):\n",
      "    ...     array[indexer]\n",
      "\n",
      "To avoid creating the large chunks, set the option\n",
      "    >>> with dask.config.set(**{'array.slicing.split_large_chunks': True}):\n",
      "    ...     array[indexer]\n",
      "  return self.array[key]\n"
     ]
    },
    {
     "name": "stdout",
     "output_type": "stream",
     "text": [
      "Loading data\n",
      "> \u001b[0;32m/home/jupyter/nwp-downscale/notebooks/stephan_notebooks/src/dataloader.py\u001b[0m(93)\u001b[0;36m__init__\u001b[0;34m()\u001b[0m\n",
      "\u001b[0;32m     91 \u001b[0;31m        \u001b[0;32mimport\u001b[0m \u001b[0mpdb\u001b[0m\u001b[0;34m\u001b[0m\u001b[0;34m\u001b[0m\u001b[0m\n",
      "\u001b[0m\u001b[0;32m     92 \u001b[0;31m        \u001b[0mpdb\u001b[0m\u001b[0;34m.\u001b[0m\u001b[0mset_trace\u001b[0m\u001b[0;34m(\u001b[0m\u001b[0;34m)\u001b[0m\u001b[0;34m\u001b[0m\u001b[0;34m\u001b[0m\u001b[0m\n",
      "\u001b[0m\u001b[0;32m---> 93 \u001b[0;31m        \u001b[0mself\u001b[0m\u001b[0;34m.\u001b[0m\u001b[0mtigge\u001b[0m\u001b[0;34m.\u001b[0m\u001b[0mload\u001b[0m\u001b[0;34m(\u001b[0m\u001b[0;34m)\u001b[0m\u001b[0;34m;\u001b[0m \u001b[0mself\u001b[0m\u001b[0;34m.\u001b[0m\u001b[0mmrms\u001b[0m\u001b[0;34m.\u001b[0m\u001b[0mload\u001b[0m\u001b[0;34m(\u001b[0m\u001b[0;34m)\u001b[0m   \u001b[0;31m# Load datasets into RAM\u001b[0m\u001b[0;34m\u001b[0m\u001b[0;34m\u001b[0m\u001b[0m\n",
      "\u001b[0m\u001b[0;32m     94 \u001b[0;31m        \u001b[0;32mif\u001b[0m \u001b[0mtp_log\u001b[0m\u001b[0;34m:\u001b[0m\u001b[0;34m\u001b[0m\u001b[0;34m\u001b[0m\u001b[0m\n",
      "\u001b[0m\u001b[0;32m     95 \u001b[0;31m            \u001b[0mself\u001b[0m\u001b[0;34m.\u001b[0m\u001b[0mtigge\u001b[0m\u001b[0;34m[\u001b[0m\u001b[0;34m'tp'\u001b[0m\u001b[0;34m]\u001b[0m \u001b[0;34m=\u001b[0m \u001b[0mlog_trans\u001b[0m\u001b[0;34m(\u001b[0m\u001b[0mself\u001b[0m\u001b[0;34m.\u001b[0m\u001b[0mtigge\u001b[0m\u001b[0;34m[\u001b[0m\u001b[0;34m'tp'\u001b[0m\u001b[0;34m]\u001b[0m\u001b[0;34m,\u001b[0m \u001b[0mtp_log\u001b[0m\u001b[0;34m)\u001b[0m\u001b[0;34m\u001b[0m\u001b[0;34m\u001b[0m\u001b[0m\n",
      "\u001b[0m\n"
     ]
    },
    {
     "name": "stdin",
     "output_type": "stream",
     "text": [
      "ipdb>  self.tigge\n"
     ]
    },
    {
     "name": "stdout",
     "output_type": "stream",
     "text": [
      "<xarray.Dataset>\n",
      "Dimensions:     (lat: 93, lon: 172, member: 10, valid_time: 101)\n",
      "Coordinates:\n",
      "    lead_time   timedelta64[ns] 12:00:00\n",
      "    init_time   (valid_time) datetime64[ns] 2020-01-01 ... 2020-11-30T12:00:00\n",
      "  * member      (member) int32 0 1 2 3 4 5 6 7 8 9\n",
      "  * lon         (lon) float64 235.2 235.5 235.8 236.2 ... 289.3 289.6 289.9\n",
      "  * lat         (lat) float64 49.68 49.36 49.04 48.72 ... 21.2 20.88 20.56 20.24\n",
      "  * valid_time  (valid_time) datetime64[ns] 2020-01-01T12:00:00 ... 2020-12-01\n",
      "Data variables:\n",
      "    tp          (member, valid_time, lat, lon) float32 0.205 0.798 ... 0.0 0.0\n",
      "    tcw         (member, valid_time, lat, lon) float32 13.05 13.78 ... 23.31\n",
      "Attributes:\n",
      "    regrid_method:  bilinear\n"
     ]
    },
    {
     "name": "stdin",
     "output_type": "stream",
     "text": [
      "ipdb>  n\n"
     ]
    },
    {
     "name": "stdout",
     "output_type": "stream",
     "text": [
      "> \u001b[0;32m/home/jupyter/nwp-downscale/notebooks/stephan_notebooks/src/dataloader.py\u001b[0m(94)\u001b[0;36m__init__\u001b[0;34m()\u001b[0m\n",
      "\u001b[0;32m     92 \u001b[0;31m        \u001b[0mpdb\u001b[0m\u001b[0;34m.\u001b[0m\u001b[0mset_trace\u001b[0m\u001b[0;34m(\u001b[0m\u001b[0;34m)\u001b[0m\u001b[0;34m\u001b[0m\u001b[0;34m\u001b[0m\u001b[0m\n",
      "\u001b[0m\u001b[0;32m     93 \u001b[0;31m        \u001b[0mself\u001b[0m\u001b[0;34m.\u001b[0m\u001b[0mtigge\u001b[0m\u001b[0;34m.\u001b[0m\u001b[0mload\u001b[0m\u001b[0;34m(\u001b[0m\u001b[0;34m)\u001b[0m\u001b[0;34m;\u001b[0m \u001b[0mself\u001b[0m\u001b[0;34m.\u001b[0m\u001b[0mmrms\u001b[0m\u001b[0;34m.\u001b[0m\u001b[0mload\u001b[0m\u001b[0;34m(\u001b[0m\u001b[0;34m)\u001b[0m   \u001b[0;31m# Load datasets into RAM\u001b[0m\u001b[0;34m\u001b[0m\u001b[0;34m\u001b[0m\u001b[0m\n",
      "\u001b[0m\u001b[0;32m---> 94 \u001b[0;31m        \u001b[0;32mif\u001b[0m \u001b[0mtp_log\u001b[0m\u001b[0;34m:\u001b[0m\u001b[0;34m\u001b[0m\u001b[0;34m\u001b[0m\u001b[0m\n",
      "\u001b[0m\u001b[0;32m     95 \u001b[0;31m            \u001b[0mself\u001b[0m\u001b[0;34m.\u001b[0m\u001b[0mtigge\u001b[0m\u001b[0;34m[\u001b[0m\u001b[0;34m'tp'\u001b[0m\u001b[0;34m]\u001b[0m \u001b[0;34m=\u001b[0m \u001b[0mlog_trans\u001b[0m\u001b[0;34m(\u001b[0m\u001b[0mself\u001b[0m\u001b[0;34m.\u001b[0m\u001b[0mtigge\u001b[0m\u001b[0;34m[\u001b[0m\u001b[0;34m'tp'\u001b[0m\u001b[0;34m]\u001b[0m\u001b[0;34m,\u001b[0m \u001b[0mtp_log\u001b[0m\u001b[0;34m)\u001b[0m\u001b[0;34m\u001b[0m\u001b[0;34m\u001b[0m\u001b[0m\n",
      "\u001b[0m\u001b[0;32m     96 \u001b[0;31m            \u001b[0;32mif\u001b[0m \u001b[0mself\u001b[0m\u001b[0;34m.\u001b[0m\u001b[0mcat_bins\u001b[0m \u001b[0;32mis\u001b[0m \u001b[0;32mNone\u001b[0m\u001b[0;34m:\u001b[0m   \u001b[0;31m# No log transform for categorical output\u001b[0m\u001b[0;34m\u001b[0m\u001b[0;34m\u001b[0m\u001b[0m\n",
      "\u001b[0m\n"
     ]
    }
   ],
   "source": [
    "# For ens_tp with stuff\n",
    "ds_test_pad = TiggeMRMSDataset(\n",
    "    tigge_dir=f'{DATADRIVE}/tigge/32km/',\n",
    "    tigge_vars=['total_precipitation_ens10', 'total_column_water_ens10'],\n",
    "    mrms_dir=f'{DATADRIVE}/mrms/4km/RadarOnly_QPE_06H/',\n",
    "#     rq_fn=f'{DATADRIVE}/mrms/4km/RadarQuality.nc',\n",
    "    data_period=('2020-01', '2020-12'),\n",
    "    first_days=5,\n",
    "    tp_log=0.01,\n",
    "    mins=mins,\n",
    "    maxs=maxs,\n",
    "    ensemble_mode='random',\n",
    "    idx_stride=16,\n",
    "    pad_tigge=10,\n",
    "    pad_tigge_channel=True,\n",
    ")"
   ]
  },
  {
   "cell_type": "code",
   "execution_count": 13,
   "id": "d150df46",
   "metadata": {},
   "outputs": [
    {
     "data": {
      "text/html": [
       "<div><svg style=\"position: absolute; width: 0; height: 0; overflow: hidden\">\n",
       "<defs>\n",
       "<symbol id=\"icon-database\" viewBox=\"0 0 32 32\">\n",
       "<path d=\"M16 0c-8.837 0-16 2.239-16 5v4c0 2.761 7.163 5 16 5s16-2.239 16-5v-4c0-2.761-7.163-5-16-5z\"></path>\n",
       "<path d=\"M16 17c-8.837 0-16-2.239-16-5v6c0 2.761 7.163 5 16 5s16-2.239 16-5v-6c0 2.761-7.163 5-16 5z\"></path>\n",
       "<path d=\"M16 26c-8.837 0-16-2.239-16-5v6c0 2.761 7.163 5 16 5s16-2.239 16-5v-6c0 2.761-7.163 5-16 5z\"></path>\n",
       "</symbol>\n",
       "<symbol id=\"icon-file-text2\" viewBox=\"0 0 32 32\">\n",
       "<path d=\"M28.681 7.159c-0.694-0.947-1.662-2.053-2.724-3.116s-2.169-2.030-3.116-2.724c-1.612-1.182-2.393-1.319-2.841-1.319h-15.5c-1.378 0-2.5 1.121-2.5 2.5v27c0 1.378 1.122 2.5 2.5 2.5h23c1.378 0 2.5-1.122 2.5-2.5v-19.5c0-0.448-0.137-1.23-1.319-2.841zM24.543 5.457c0.959 0.959 1.712 1.825 2.268 2.543h-4.811v-4.811c0.718 0.556 1.584 1.309 2.543 2.268zM28 29.5c0 0.271-0.229 0.5-0.5 0.5h-23c-0.271 0-0.5-0.229-0.5-0.5v-27c0-0.271 0.229-0.5 0.5-0.5 0 0 15.499-0 15.5 0v7c0 0.552 0.448 1 1 1h7v19.5z\"></path>\n",
       "<path d=\"M23 26h-14c-0.552 0-1-0.448-1-1s0.448-1 1-1h14c0.552 0 1 0.448 1 1s-0.448 1-1 1z\"></path>\n",
       "<path d=\"M23 22h-14c-0.552 0-1-0.448-1-1s0.448-1 1-1h14c0.552 0 1 0.448 1 1s-0.448 1-1 1z\"></path>\n",
       "<path d=\"M23 18h-14c-0.552 0-1-0.448-1-1s0.448-1 1-1h14c0.552 0 1 0.448 1 1s-0.448 1-1 1z\"></path>\n",
       "</symbol>\n",
       "</defs>\n",
       "</svg>\n",
       "<style>/* CSS stylesheet for displaying xarray objects in jupyterlab.\n",
       " *\n",
       " */\n",
       "\n",
       ":root {\n",
       "  --xr-font-color0: var(--jp-content-font-color0, rgba(0, 0, 0, 1));\n",
       "  --xr-font-color2: var(--jp-content-font-color2, rgba(0, 0, 0, 0.54));\n",
       "  --xr-font-color3: var(--jp-content-font-color3, rgba(0, 0, 0, 0.38));\n",
       "  --xr-border-color: var(--jp-border-color2, #e0e0e0);\n",
       "  --xr-disabled-color: var(--jp-layout-color3, #bdbdbd);\n",
       "  --xr-background-color: var(--jp-layout-color0, white);\n",
       "  --xr-background-color-row-even: var(--jp-layout-color1, white);\n",
       "  --xr-background-color-row-odd: var(--jp-layout-color2, #eeeeee);\n",
       "}\n",
       "\n",
       "html[theme=dark],\n",
       "body.vscode-dark {\n",
       "  --xr-font-color0: rgba(255, 255, 255, 1);\n",
       "  --xr-font-color2: rgba(255, 255, 255, 0.54);\n",
       "  --xr-font-color3: rgba(255, 255, 255, 0.38);\n",
       "  --xr-border-color: #1F1F1F;\n",
       "  --xr-disabled-color: #515151;\n",
       "  --xr-background-color: #111111;\n",
       "  --xr-background-color-row-even: #111111;\n",
       "  --xr-background-color-row-odd: #313131;\n",
       "}\n",
       "\n",
       ".xr-wrap {\n",
       "  display: block;\n",
       "  min-width: 300px;\n",
       "  max-width: 700px;\n",
       "}\n",
       "\n",
       ".xr-text-repr-fallback {\n",
       "  /* fallback to plain text repr when CSS is not injected (untrusted notebook) */\n",
       "  display: none;\n",
       "}\n",
       "\n",
       ".xr-header {\n",
       "  padding-top: 6px;\n",
       "  padding-bottom: 6px;\n",
       "  margin-bottom: 4px;\n",
       "  border-bottom: solid 1px var(--xr-border-color);\n",
       "}\n",
       "\n",
       ".xr-header > div,\n",
       ".xr-header > ul {\n",
       "  display: inline;\n",
       "  margin-top: 0;\n",
       "  margin-bottom: 0;\n",
       "}\n",
       "\n",
       ".xr-obj-type,\n",
       ".xr-array-name {\n",
       "  margin-left: 2px;\n",
       "  margin-right: 10px;\n",
       "}\n",
       "\n",
       ".xr-obj-type {\n",
       "  color: var(--xr-font-color2);\n",
       "}\n",
       "\n",
       ".xr-sections {\n",
       "  padding-left: 0 !important;\n",
       "  display: grid;\n",
       "  grid-template-columns: 150px auto auto 1fr 20px 20px;\n",
       "}\n",
       "\n",
       ".xr-section-item {\n",
       "  display: contents;\n",
       "}\n",
       "\n",
       ".xr-section-item input {\n",
       "  display: none;\n",
       "}\n",
       "\n",
       ".xr-section-item input + label {\n",
       "  color: var(--xr-disabled-color);\n",
       "}\n",
       "\n",
       ".xr-section-item input:enabled + label {\n",
       "  cursor: pointer;\n",
       "  color: var(--xr-font-color2);\n",
       "}\n",
       "\n",
       ".xr-section-item input:enabled + label:hover {\n",
       "  color: var(--xr-font-color0);\n",
       "}\n",
       "\n",
       ".xr-section-summary {\n",
       "  grid-column: 1;\n",
       "  color: var(--xr-font-color2);\n",
       "  font-weight: 500;\n",
       "}\n",
       "\n",
       ".xr-section-summary > span {\n",
       "  display: inline-block;\n",
       "  padding-left: 0.5em;\n",
       "}\n",
       "\n",
       ".xr-section-summary-in:disabled + label {\n",
       "  color: var(--xr-font-color2);\n",
       "}\n",
       "\n",
       ".xr-section-summary-in + label:before {\n",
       "  display: inline-block;\n",
       "  content: '►';\n",
       "  font-size: 11px;\n",
       "  width: 15px;\n",
       "  text-align: center;\n",
       "}\n",
       "\n",
       ".xr-section-summary-in:disabled + label:before {\n",
       "  color: var(--xr-disabled-color);\n",
       "}\n",
       "\n",
       ".xr-section-summary-in:checked + label:before {\n",
       "  content: '▼';\n",
       "}\n",
       "\n",
       ".xr-section-summary-in:checked + label > span {\n",
       "  display: none;\n",
       "}\n",
       "\n",
       ".xr-section-summary,\n",
       ".xr-section-inline-details {\n",
       "  padding-top: 4px;\n",
       "  padding-bottom: 4px;\n",
       "}\n",
       "\n",
       ".xr-section-inline-details {\n",
       "  grid-column: 2 / -1;\n",
       "}\n",
       "\n",
       ".xr-section-details {\n",
       "  display: none;\n",
       "  grid-column: 1 / -1;\n",
       "  margin-bottom: 5px;\n",
       "}\n",
       "\n",
       ".xr-section-summary-in:checked ~ .xr-section-details {\n",
       "  display: contents;\n",
       "}\n",
       "\n",
       ".xr-array-wrap {\n",
       "  grid-column: 1 / -1;\n",
       "  display: grid;\n",
       "  grid-template-columns: 20px auto;\n",
       "}\n",
       "\n",
       ".xr-array-wrap > label {\n",
       "  grid-column: 1;\n",
       "  vertical-align: top;\n",
       "}\n",
       "\n",
       ".xr-preview {\n",
       "  color: var(--xr-font-color3);\n",
       "}\n",
       "\n",
       ".xr-array-preview,\n",
       ".xr-array-data {\n",
       "  padding: 0 5px !important;\n",
       "  grid-column: 2;\n",
       "}\n",
       "\n",
       ".xr-array-data,\n",
       ".xr-array-in:checked ~ .xr-array-preview {\n",
       "  display: none;\n",
       "}\n",
       "\n",
       ".xr-array-in:checked ~ .xr-array-data,\n",
       ".xr-array-preview {\n",
       "  display: inline-block;\n",
       "}\n",
       "\n",
       ".xr-dim-list {\n",
       "  display: inline-block !important;\n",
       "  list-style: none;\n",
       "  padding: 0 !important;\n",
       "  margin: 0;\n",
       "}\n",
       "\n",
       ".xr-dim-list li {\n",
       "  display: inline-block;\n",
       "  padding: 0;\n",
       "  margin: 0;\n",
       "}\n",
       "\n",
       ".xr-dim-list:before {\n",
       "  content: '(';\n",
       "}\n",
       "\n",
       ".xr-dim-list:after {\n",
       "  content: ')';\n",
       "}\n",
       "\n",
       ".xr-dim-list li:not(:last-child):after {\n",
       "  content: ',';\n",
       "  padding-right: 5px;\n",
       "}\n",
       "\n",
       ".xr-has-index {\n",
       "  font-weight: bold;\n",
       "}\n",
       "\n",
       ".xr-var-list,\n",
       ".xr-var-item {\n",
       "  display: contents;\n",
       "}\n",
       "\n",
       ".xr-var-item > div,\n",
       ".xr-var-item label,\n",
       ".xr-var-item > .xr-var-name span {\n",
       "  background-color: var(--xr-background-color-row-even);\n",
       "  margin-bottom: 0;\n",
       "}\n",
       "\n",
       ".xr-var-item > .xr-var-name:hover span {\n",
       "  padding-right: 5px;\n",
       "}\n",
       "\n",
       ".xr-var-list > li:nth-child(odd) > div,\n",
       ".xr-var-list > li:nth-child(odd) > label,\n",
       ".xr-var-list > li:nth-child(odd) > .xr-var-name span {\n",
       "  background-color: var(--xr-background-color-row-odd);\n",
       "}\n",
       "\n",
       ".xr-var-name {\n",
       "  grid-column: 1;\n",
       "}\n",
       "\n",
       ".xr-var-dims {\n",
       "  grid-column: 2;\n",
       "}\n",
       "\n",
       ".xr-var-dtype {\n",
       "  grid-column: 3;\n",
       "  text-align: right;\n",
       "  color: var(--xr-font-color2);\n",
       "}\n",
       "\n",
       ".xr-var-preview {\n",
       "  grid-column: 4;\n",
       "}\n",
       "\n",
       ".xr-var-name,\n",
       ".xr-var-dims,\n",
       ".xr-var-dtype,\n",
       ".xr-preview,\n",
       ".xr-attrs dt {\n",
       "  white-space: nowrap;\n",
       "  overflow: hidden;\n",
       "  text-overflow: ellipsis;\n",
       "  padding-right: 10px;\n",
       "}\n",
       "\n",
       ".xr-var-name:hover,\n",
       ".xr-var-dims:hover,\n",
       ".xr-var-dtype:hover,\n",
       ".xr-attrs dt:hover {\n",
       "  overflow: visible;\n",
       "  width: auto;\n",
       "  z-index: 1;\n",
       "}\n",
       "\n",
       ".xr-var-attrs,\n",
       ".xr-var-data {\n",
       "  display: none;\n",
       "  background-color: var(--xr-background-color) !important;\n",
       "  padding-bottom: 5px !important;\n",
       "}\n",
       "\n",
       ".xr-var-attrs-in:checked ~ .xr-var-attrs,\n",
       ".xr-var-data-in:checked ~ .xr-var-data {\n",
       "  display: block;\n",
       "}\n",
       "\n",
       ".xr-var-data > table {\n",
       "  float: right;\n",
       "}\n",
       "\n",
       ".xr-var-name span,\n",
       ".xr-var-data,\n",
       ".xr-attrs {\n",
       "  padding-left: 25px !important;\n",
       "}\n",
       "\n",
       ".xr-attrs,\n",
       ".xr-var-attrs,\n",
       ".xr-var-data {\n",
       "  grid-column: 1 / -1;\n",
       "}\n",
       "\n",
       "dl.xr-attrs {\n",
       "  padding: 0;\n",
       "  margin: 0;\n",
       "  display: grid;\n",
       "  grid-template-columns: 125px auto;\n",
       "}\n",
       "\n",
       ".xr-attrs dt,\n",
       ".xr-attrs dd {\n",
       "  padding: 0;\n",
       "  margin: 0;\n",
       "  float: left;\n",
       "  padding-right: 10px;\n",
       "  width: auto;\n",
       "}\n",
       "\n",
       ".xr-attrs dt {\n",
       "  font-weight: normal;\n",
       "  grid-column: 1;\n",
       "}\n",
       "\n",
       ".xr-attrs dt:hover span {\n",
       "  display: inline-block;\n",
       "  background: var(--xr-background-color);\n",
       "  padding-right: 10px;\n",
       "}\n",
       "\n",
       ".xr-attrs dd {\n",
       "  grid-column: 2;\n",
       "  white-space: pre-wrap;\n",
       "  word-break: break-all;\n",
       "}\n",
       "\n",
       ".xr-icon-database,\n",
       ".xr-icon-file-text2 {\n",
       "  display: inline-block;\n",
       "  vertical-align: middle;\n",
       "  width: 1em;\n",
       "  height: 1.5em !important;\n",
       "  stroke-width: 0;\n",
       "  stroke: currentColor;\n",
       "  fill: currentColor;\n",
       "}\n",
       "</style><pre class='xr-text-repr-fallback'>&lt;xarray.DataArray (variable: 1, member: 10, valid_time: 101, lat: 93, lon: 172)&gt;\n",
       "array([[[[[3.01053647e-01, 4.30970623e-01, 5.74420528e-01, ...,\n",
       "           4.07775744e-01, 4.03023890e-01, 3.98107896e-01],\n",
       "          [3.50360558e-01, 2.98886125e-01, 1.36070486e-01, ...,\n",
       "           3.84204037e-01, 3.81259676e-01, 4.00963425e-01],\n",
       "          [6.29287130e-01, 5.98463392e-01, 4.89741797e-01, ...,\n",
       "           3.65489415e-01, 3.71376218e-01, 3.85884938e-01],\n",
       "          ...,\n",
       "          [0.00000000e+00, 0.00000000e+00, 2.32960875e-02, ...,\n",
       "           4.33855303e-02, 7.74335538e-04, 2.79797671e-03],\n",
       "          [5.57682546e-02, 9.93955513e-02, 1.91622802e-01, ...,\n",
       "           0.00000000e+00, 1.24615663e-02, 4.71934326e-02],\n",
       "          [1.11713518e-01, 1.68800772e-01, 1.86983340e-01, ...,\n",
       "           2.83188763e-01, 2.58380267e-01, 3.11095490e-01]],\n",
       "\n",
       "         [[4.67681586e-01, 3.09886144e-01, 3.58872728e-01, ...,\n",
       "           2.70211285e-01, 2.51587437e-01, 2.33679436e-01],\n",
       "          [2.17803054e-01, 1.11798255e-01, 2.95733102e-02, ...,\n",
       "           2.97110918e-01, 2.72448244e-01, 2.30026949e-01],\n",
       "          [4.62480264e-01, 3.71839116e-01, 2.67128682e-01, ...,\n",
       "           3.18388955e-01, 2.94163562e-01, 2.44502470e-01],\n",
       "...\n",
       "          [1.36581859e-02, 2.67711691e-03, 1.58821370e-02, ...,\n",
       "           4.65337618e-01, 4.74839874e-01, 4.81428487e-01],\n",
       "          [5.12692571e-03, 0.00000000e+00, 2.35492240e-02, ...,\n",
       "           4.97496663e-01, 4.66686727e-01, 4.20776149e-01],\n",
       "          [0.00000000e+00, 0.00000000e+00, 1.67929464e-01, ...,\n",
       "           4.39200834e-01, 4.23750479e-01, 4.30086190e-01]],\n",
       "\n",
       "         [[4.57715637e-02, 1.64082959e-02, 1.57480472e-01, ...,\n",
       "           4.20917784e-01, 4.20543460e-01, 4.32545872e-01],\n",
       "          [1.15769199e-01, 3.10847969e-01, 3.15031832e-01, ...,\n",
       "           4.16436239e-01, 4.28971173e-01, 4.48385757e-01],\n",
       "          [7.41873945e-02, 6.16905950e-02, 5.31865903e-02, ...,\n",
       "           4.45216919e-01, 4.71863953e-01, 4.98515993e-01],\n",
       "          ...,\n",
       "          [8.82416384e-02, 7.45681052e-03, 0.00000000e+00, ...,\n",
       "           1.12155828e-02, 9.44849380e-03, 0.00000000e+00],\n",
       "          [1.24867302e-01, 5.17970068e-02, 0.00000000e+00, ...,\n",
       "           0.00000000e+00, 0.00000000e+00, 0.00000000e+00],\n",
       "          [1.27003755e-01, 9.73690793e-02, 6.68321427e-02, ...,\n",
       "           0.00000000e+00, 0.00000000e+00, 0.00000000e+00]]]]])\n",
       "Coordinates:\n",
       "    lead_time   timedelta64[ns] 12:00:00\n",
       "    init_time   (valid_time) datetime64[ns] 2020-01-01 ... 2020-11-30T12:00:00\n",
       "  * member      (member) int32 0 1 2 3 4 5 6 7 8 9\n",
       "  * lon         (lon) float64 235.2 235.5 235.8 236.2 ... 289.3 289.6 289.9\n",
       "  * lat         (lat) float64 49.68 49.36 49.04 48.72 ... 21.2 20.88 20.56 20.24\n",
       "  * valid_time  (valid_time) datetime64[ns] 2020-01-01T12:00:00 ... 2020-12-01\n",
       "  * variable    (variable) &lt;U2 &#x27;tp&#x27;</pre><div class='xr-wrap' hidden><div class='xr-header'><div class='xr-obj-type'>xarray.DataArray</div><div class='xr-array-name'></div><ul class='xr-dim-list'><li><span class='xr-has-index'>variable</span>: 1</li><li><span class='xr-has-index'>member</span>: 10</li><li><span class='xr-has-index'>valid_time</span>: 101</li><li><span class='xr-has-index'>lat</span>: 93</li><li><span class='xr-has-index'>lon</span>: 172</li></ul></div><ul class='xr-sections'><li class='xr-section-item'><div class='xr-array-wrap'><input id='section-665d872a-000d-4993-94c8-f25c3d802c0b' class='xr-array-in' type='checkbox' checked><label for='section-665d872a-000d-4993-94c8-f25c3d802c0b' title='Show/hide data repr'><svg class='icon xr-icon-database'><use xlink:href='#icon-database'></use></svg></label><div class='xr-array-preview xr-preview'><span>0.3011 0.431 0.5744 0.6294 0.6511 0.6627 ... 0.0 0.0 0.0 0.0 0.0 0.0</span></div><div class='xr-array-data'><pre>array([[[[[3.01053647e-01, 4.30970623e-01, 5.74420528e-01, ...,\n",
       "           4.07775744e-01, 4.03023890e-01, 3.98107896e-01],\n",
       "          [3.50360558e-01, 2.98886125e-01, 1.36070486e-01, ...,\n",
       "           3.84204037e-01, 3.81259676e-01, 4.00963425e-01],\n",
       "          [6.29287130e-01, 5.98463392e-01, 4.89741797e-01, ...,\n",
       "           3.65489415e-01, 3.71376218e-01, 3.85884938e-01],\n",
       "          ...,\n",
       "          [0.00000000e+00, 0.00000000e+00, 2.32960875e-02, ...,\n",
       "           4.33855303e-02, 7.74335538e-04, 2.79797671e-03],\n",
       "          [5.57682546e-02, 9.93955513e-02, 1.91622802e-01, ...,\n",
       "           0.00000000e+00, 1.24615663e-02, 4.71934326e-02],\n",
       "          [1.11713518e-01, 1.68800772e-01, 1.86983340e-01, ...,\n",
       "           2.83188763e-01, 2.58380267e-01, 3.11095490e-01]],\n",
       "\n",
       "         [[4.67681586e-01, 3.09886144e-01, 3.58872728e-01, ...,\n",
       "           2.70211285e-01, 2.51587437e-01, 2.33679436e-01],\n",
       "          [2.17803054e-01, 1.11798255e-01, 2.95733102e-02, ...,\n",
       "           2.97110918e-01, 2.72448244e-01, 2.30026949e-01],\n",
       "          [4.62480264e-01, 3.71839116e-01, 2.67128682e-01, ...,\n",
       "           3.18388955e-01, 2.94163562e-01, 2.44502470e-01],\n",
       "...\n",
       "          [1.36581859e-02, 2.67711691e-03, 1.58821370e-02, ...,\n",
       "           4.65337618e-01, 4.74839874e-01, 4.81428487e-01],\n",
       "          [5.12692571e-03, 0.00000000e+00, 2.35492240e-02, ...,\n",
       "           4.97496663e-01, 4.66686727e-01, 4.20776149e-01],\n",
       "          [0.00000000e+00, 0.00000000e+00, 1.67929464e-01, ...,\n",
       "           4.39200834e-01, 4.23750479e-01, 4.30086190e-01]],\n",
       "\n",
       "         [[4.57715637e-02, 1.64082959e-02, 1.57480472e-01, ...,\n",
       "           4.20917784e-01, 4.20543460e-01, 4.32545872e-01],\n",
       "          [1.15769199e-01, 3.10847969e-01, 3.15031832e-01, ...,\n",
       "           4.16436239e-01, 4.28971173e-01, 4.48385757e-01],\n",
       "          [7.41873945e-02, 6.16905950e-02, 5.31865903e-02, ...,\n",
       "           4.45216919e-01, 4.71863953e-01, 4.98515993e-01],\n",
       "          ...,\n",
       "          [8.82416384e-02, 7.45681052e-03, 0.00000000e+00, ...,\n",
       "           1.12155828e-02, 9.44849380e-03, 0.00000000e+00],\n",
       "          [1.24867302e-01, 5.17970068e-02, 0.00000000e+00, ...,\n",
       "           0.00000000e+00, 0.00000000e+00, 0.00000000e+00],\n",
       "          [1.27003755e-01, 9.73690793e-02, 6.68321427e-02, ...,\n",
       "           0.00000000e+00, 0.00000000e+00, 0.00000000e+00]]]]])</pre></div></div></li><li class='xr-section-item'><input id='section-46226a84-876c-4dd6-a9ca-c1e27526670c' class='xr-section-summary-in' type='checkbox'  checked><label for='section-46226a84-876c-4dd6-a9ca-c1e27526670c' class='xr-section-summary' >Coordinates: <span>(7)</span></label><div class='xr-section-inline-details'></div><div class='xr-section-details'><ul class='xr-var-list'><li class='xr-var-item'><div class='xr-var-name'><span>lead_time</span></div><div class='xr-var-dims'>()</div><div class='xr-var-dtype'>timedelta64[ns]</div><div class='xr-var-preview xr-preview'>12:00:00</div><input id='attrs-9929c022-cbd3-4ce4-b3e0-886566a029f1' class='xr-var-attrs-in' type='checkbox' ><label for='attrs-9929c022-cbd3-4ce4-b3e0-886566a029f1' title='Show/Hide attributes'><svg class='icon xr-icon-file-text2'><use xlink:href='#icon-file-text2'></use></svg></label><input id='data-bf164d67-84b6-4108-a256-f4d94899db6d' class='xr-var-data-in' type='checkbox'><label for='data-bf164d67-84b6-4108-a256-f4d94899db6d' title='Show/Hide data repr'><svg class='icon xr-icon-database'><use xlink:href='#icon-database'></use></svg></label><div class='xr-var-attrs'><dl class='xr-attrs'><dt><span>long_name :</span></dt><dd>Forecast offset from initial time</dd></dl></div><div class='xr-var-data'><pre>array(43200000000000, dtype=&#x27;timedelta64[ns]&#x27;)</pre></div></li><li class='xr-var-item'><div class='xr-var-name'><span>init_time</span></div><div class='xr-var-dims'>(valid_time)</div><div class='xr-var-dtype'>datetime64[ns]</div><div class='xr-var-preview xr-preview'>2020-01-01 ... 2020-11-30T12:00:00</div><input id='attrs-372445f8-2768-40ce-ae4c-35a81c23666d' class='xr-var-attrs-in' type='checkbox' ><label for='attrs-372445f8-2768-40ce-ae4c-35a81c23666d' title='Show/Hide attributes'><svg class='icon xr-icon-file-text2'><use xlink:href='#icon-file-text2'></use></svg></label><input id='data-6515b3f5-01d6-4f73-a1ab-e25b5c715f68' class='xr-var-data-in' type='checkbox'><label for='data-6515b3f5-01d6-4f73-a1ab-e25b5c715f68' title='Show/Hide data repr'><svg class='icon xr-icon-database'><use xlink:href='#icon-database'></use></svg></label><div class='xr-var-attrs'><dl class='xr-attrs'><dt><span>long_name :</span></dt><dd>initial time</dd></dl></div><div class='xr-var-data'><pre>array([&#x27;2020-01-01T00:00:00.000000000&#x27;, &#x27;2020-01-01T12:00:00.000000000&#x27;,\n",
       "       &#x27;2020-01-02T00:00:00.000000000&#x27;, &#x27;2020-01-02T12:00:00.000000000&#x27;,\n",
       "       &#x27;2020-01-03T00:00:00.000000000&#x27;, &#x27;2020-01-03T12:00:00.000000000&#x27;,\n",
       "       &#x27;2020-01-04T00:00:00.000000000&#x27;, &#x27;2020-01-04T12:00:00.000000000&#x27;,\n",
       "       &#x27;2020-01-05T00:00:00.000000000&#x27;, &#x27;2020-01-31T12:00:00.000000000&#x27;,\n",
       "       &#x27;2020-02-01T00:00:00.000000000&#x27;, &#x27;2020-02-01T12:00:00.000000000&#x27;,\n",
       "       &#x27;2020-02-02T00:00:00.000000000&#x27;, &#x27;2020-02-02T12:00:00.000000000&#x27;,\n",
       "       &#x27;2020-02-03T00:00:00.000000000&#x27;, &#x27;2020-02-03T12:00:00.000000000&#x27;,\n",
       "       &#x27;2020-02-04T00:00:00.000000000&#x27;, &#x27;2020-02-04T12:00:00.000000000&#x27;,\n",
       "       &#x27;2020-02-05T00:00:00.000000000&#x27;, &#x27;2020-02-29T12:00:00.000000000&#x27;,\n",
       "       &#x27;2020-03-01T00:00:00.000000000&#x27;, &#x27;2020-03-01T12:00:00.000000000&#x27;,\n",
       "       &#x27;2020-03-02T00:00:00.000000000&#x27;, &#x27;2020-03-02T12:00:00.000000000&#x27;,\n",
       "       &#x27;2020-03-03T00:00:00.000000000&#x27;, &#x27;2020-03-03T12:00:00.000000000&#x27;,\n",
       "       &#x27;2020-03-04T00:00:00.000000000&#x27;, &#x27;2020-03-04T12:00:00.000000000&#x27;,\n",
       "       &#x27;2020-03-05T00:00:00.000000000&#x27;, &#x27;2020-03-31T12:00:00.000000000&#x27;,\n",
       "       &#x27;2020-04-01T00:00:00.000000000&#x27;, &#x27;2020-04-01T12:00:00.000000000&#x27;,\n",
       "       &#x27;2020-04-02T00:00:00.000000000&#x27;, &#x27;2020-04-02T12:00:00.000000000&#x27;,\n",
       "       &#x27;2020-04-03T00:00:00.000000000&#x27;, &#x27;2020-04-03T12:00:00.000000000&#x27;,\n",
       "       &#x27;2020-04-04T00:00:00.000000000&#x27;, &#x27;2020-04-04T12:00:00.000000000&#x27;,\n",
       "       &#x27;2020-04-05T00:00:00.000000000&#x27;, &#x27;2020-04-30T12:00:00.000000000&#x27;,\n",
       "...\n",
       "       &#x27;2020-07-02T00:00:00.000000000&#x27;, &#x27;2020-07-02T12:00:00.000000000&#x27;,\n",
       "       &#x27;2020-07-03T00:00:00.000000000&#x27;, &#x27;2020-07-03T12:00:00.000000000&#x27;,\n",
       "       &#x27;2020-07-04T00:00:00.000000000&#x27;, &#x27;2020-07-04T12:00:00.000000000&#x27;,\n",
       "       &#x27;2020-07-05T00:00:00.000000000&#x27;, &#x27;2020-07-31T12:00:00.000000000&#x27;,\n",
       "       &#x27;2020-08-01T00:00:00.000000000&#x27;, &#x27;2020-08-01T12:00:00.000000000&#x27;,\n",
       "       &#x27;2020-08-02T00:00:00.000000000&#x27;, &#x27;2020-08-02T12:00:00.000000000&#x27;,\n",
       "       &#x27;2020-08-03T00:00:00.000000000&#x27;, &#x27;2020-08-03T12:00:00.000000000&#x27;,\n",
       "       &#x27;2020-08-04T00:00:00.000000000&#x27;, &#x27;2020-08-04T12:00:00.000000000&#x27;,\n",
       "       &#x27;2020-08-05T00:00:00.000000000&#x27;, &#x27;2020-08-31T12:00:00.000000000&#x27;,\n",
       "       &#x27;2020-09-01T00:00:00.000000000&#x27;, &#x27;2020-09-01T12:00:00.000000000&#x27;,\n",
       "       &#x27;2020-09-02T00:00:00.000000000&#x27;, &#x27;2020-09-02T12:00:00.000000000&#x27;,\n",
       "       &#x27;2020-09-03T00:00:00.000000000&#x27;, &#x27;2020-09-03T12:00:00.000000000&#x27;,\n",
       "       &#x27;2020-09-04T00:00:00.000000000&#x27;, &#x27;2020-09-04T12:00:00.000000000&#x27;,\n",
       "       &#x27;2020-09-05T00:00:00.000000000&#x27;, &#x27;2020-09-30T12:00:00.000000000&#x27;,\n",
       "       &#x27;2020-10-31T12:00:00.000000000&#x27;, &#x27;2020-11-01T00:00:00.000000000&#x27;,\n",
       "       &#x27;2020-11-01T12:00:00.000000000&#x27;, &#x27;2020-11-02T00:00:00.000000000&#x27;,\n",
       "       &#x27;2020-11-02T12:00:00.000000000&#x27;, &#x27;2020-11-03T00:00:00.000000000&#x27;,\n",
       "       &#x27;2020-11-03T12:00:00.000000000&#x27;, &#x27;2020-11-04T00:00:00.000000000&#x27;,\n",
       "       &#x27;2020-11-04T12:00:00.000000000&#x27;, &#x27;2020-11-05T00:00:00.000000000&#x27;,\n",
       "       &#x27;2020-11-30T12:00:00.000000000&#x27;], dtype=&#x27;datetime64[ns]&#x27;)</pre></div></li><li class='xr-var-item'><div class='xr-var-name'><span class='xr-has-index'>member</span></div><div class='xr-var-dims'>(member)</div><div class='xr-var-dtype'>int32</div><div class='xr-var-preview xr-preview'>0 1 2 3 4 5 6 7 8 9</div><input id='attrs-4e6a3863-2ee0-4c82-9b6b-68f6e670e44f' class='xr-var-attrs-in' type='checkbox' ><label for='attrs-4e6a3863-2ee0-4c82-9b6b-68f6e670e44f' title='Show/Hide attributes'><svg class='icon xr-icon-file-text2'><use xlink:href='#icon-file-text2'></use></svg></label><input id='data-5b3104ad-b14c-476b-ba4a-ad5f1704d5ad' class='xr-var-data-in' type='checkbox'><label for='data-5b3104ad-b14c-476b-ba4a-ad5f1704d5ad' title='Show/Hide data repr'><svg class='icon xr-icon-database'><use xlink:href='#icon-database'></use></svg></label><div class='xr-var-attrs'><dl class='xr-attrs'><dt><span>long_name :</span></dt><dd>ensemble indexes</dd><dt><span>units :</span></dt><dd>non-dim</dd></dl></div><div class='xr-var-data'><pre>array([0, 1, 2, 3, 4, 5, 6, 7, 8, 9], dtype=int32)</pre></div></li><li class='xr-var-item'><div class='xr-var-name'><span class='xr-has-index'>lon</span></div><div class='xr-var-dims'>(lon)</div><div class='xr-var-dtype'>float64</div><div class='xr-var-preview xr-preview'>235.2 235.5 235.8 ... 289.6 289.9</div><input id='attrs-b035cc29-68ff-4f7c-976d-17bf83314493' class='xr-var-attrs-in' type='checkbox' disabled><label for='attrs-b035cc29-68ff-4f7c-976d-17bf83314493' title='Show/Hide attributes'><svg class='icon xr-icon-file-text2'><use xlink:href='#icon-file-text2'></use></svg></label><input id='data-6dfbb864-4c10-4f47-80d8-af2f1ba063f2' class='xr-var-data-in' type='checkbox'><label for='data-6dfbb864-4c10-4f47-80d8-af2f1ba063f2' title='Show/Hide data repr'><svg class='icon xr-icon-database'><use xlink:href='#icon-database'></use></svg></label><div class='xr-var-attrs'><dl class='xr-attrs'></dl></div><div class='xr-var-data'><pre>array([235.2 , 235.52, 235.84, 236.16, 236.48, 236.8 , 237.12, 237.44, 237.76,\n",
       "       238.08, 238.4 , 238.72, 239.04, 239.36, 239.68, 240.  , 240.32, 240.64,\n",
       "       240.96, 241.28, 241.6 , 241.92, 242.24, 242.56, 242.88, 243.2 , 243.52,\n",
       "       243.84, 244.16, 244.48, 244.8 , 245.12, 245.44, 245.76, 246.08, 246.4 ,\n",
       "       246.72, 247.04, 247.36, 247.68, 248.  , 248.32, 248.64, 248.96, 249.28,\n",
       "       249.6 , 249.92, 250.24, 250.56, 250.88, 251.2 , 251.52, 251.84, 252.16,\n",
       "       252.48, 252.8 , 253.12, 253.44, 253.76, 254.08, 254.4 , 254.72, 255.04,\n",
       "       255.36, 255.68, 256.  , 256.32, 256.64, 256.96, 257.28, 257.6 , 257.92,\n",
       "       258.24, 258.56, 258.88, 259.2 , 259.52, 259.84, 260.16, 260.48, 260.8 ,\n",
       "       261.12, 261.44, 261.76, 262.08, 262.4 , 262.72, 263.04, 263.36, 263.68,\n",
       "       264.  , 264.32, 264.64, 264.96, 265.28, 265.6 , 265.92, 266.24, 266.56,\n",
       "       266.88, 267.2 , 267.52, 267.84, 268.16, 268.48, 268.8 , 269.12, 269.44,\n",
       "       269.76, 270.08, 270.4 , 270.72, 271.04, 271.36, 271.68, 272.  , 272.32,\n",
       "       272.64, 272.96, 273.28, 273.6 , 273.92, 274.24, 274.56, 274.88, 275.2 ,\n",
       "       275.52, 275.84, 276.16, 276.48, 276.8 , 277.12, 277.44, 277.76, 278.08,\n",
       "       278.4 , 278.72, 279.04, 279.36, 279.68, 280.  , 280.32, 280.64, 280.96,\n",
       "       281.28, 281.6 , 281.92, 282.24, 282.56, 282.88, 283.2 , 283.52, 283.84,\n",
       "       284.16, 284.48, 284.8 , 285.12, 285.44, 285.76, 286.08, 286.4 , 286.72,\n",
       "       287.04, 287.36, 287.68, 288.  , 288.32, 288.64, 288.96, 289.28, 289.6 ,\n",
       "       289.92])</pre></div></li><li class='xr-var-item'><div class='xr-var-name'><span class='xr-has-index'>lat</span></div><div class='xr-var-dims'>(lat)</div><div class='xr-var-dtype'>float64</div><div class='xr-var-preview xr-preview'>49.68 49.36 49.04 ... 20.56 20.24</div><input id='attrs-4ce5f6e5-c5dc-42d9-8c03-1c539c4f6657' class='xr-var-attrs-in' type='checkbox' disabled><label for='attrs-4ce5f6e5-c5dc-42d9-8c03-1c539c4f6657' title='Show/Hide attributes'><svg class='icon xr-icon-file-text2'><use xlink:href='#icon-file-text2'></use></svg></label><input id='data-eb624948-1793-4f84-971e-48de7e0b2f61' class='xr-var-data-in' type='checkbox'><label for='data-eb624948-1793-4f84-971e-48de7e0b2f61' title='Show/Hide data repr'><svg class='icon xr-icon-database'><use xlink:href='#icon-database'></use></svg></label><div class='xr-var-attrs'><dl class='xr-attrs'></dl></div><div class='xr-var-data'><pre>array([49.68, 49.36, 49.04, 48.72, 48.4 , 48.08, 47.76, 47.44, 47.12, 46.8 ,\n",
       "       46.48, 46.16, 45.84, 45.52, 45.2 , 44.88, 44.56, 44.24, 43.92, 43.6 ,\n",
       "       43.28, 42.96, 42.64, 42.32, 42.  , 41.68, 41.36, 41.04, 40.72, 40.4 ,\n",
       "       40.08, 39.76, 39.44, 39.12, 38.8 , 38.48, 38.16, 37.84, 37.52, 37.2 ,\n",
       "       36.88, 36.56, 36.24, 35.92, 35.6 , 35.28, 34.96, 34.64, 34.32, 34.  ,\n",
       "       33.68, 33.36, 33.04, 32.72, 32.4 , 32.08, 31.76, 31.44, 31.12, 30.8 ,\n",
       "       30.48, 30.16, 29.84, 29.52, 29.2 , 28.88, 28.56, 28.24, 27.92, 27.6 ,\n",
       "       27.28, 26.96, 26.64, 26.32, 26.  , 25.68, 25.36, 25.04, 24.72, 24.4 ,\n",
       "       24.08, 23.76, 23.44, 23.12, 22.8 , 22.48, 22.16, 21.84, 21.52, 21.2 ,\n",
       "       20.88, 20.56, 20.24])</pre></div></li><li class='xr-var-item'><div class='xr-var-name'><span class='xr-has-index'>valid_time</span></div><div class='xr-var-dims'>(valid_time)</div><div class='xr-var-dtype'>datetime64[ns]</div><div class='xr-var-preview xr-preview'>2020-01-01T12:00:00 ... 2020-12-01</div><input id='attrs-fa00e09a-04d9-40a5-bc9e-e709dc4cc553' class='xr-var-attrs-in' type='checkbox' disabled><label for='attrs-fa00e09a-04d9-40a5-bc9e-e709dc4cc553' title='Show/Hide attributes'><svg class='icon xr-icon-file-text2'><use xlink:href='#icon-file-text2'></use></svg></label><input id='data-4b66264c-79ea-4b62-869e-66982a3e7bb2' class='xr-var-data-in' type='checkbox'><label for='data-4b66264c-79ea-4b62-869e-66982a3e7bb2' title='Show/Hide data repr'><svg class='icon xr-icon-database'><use xlink:href='#icon-database'></use></svg></label><div class='xr-var-attrs'><dl class='xr-attrs'></dl></div><div class='xr-var-data'><pre>array([&#x27;2020-01-01T12:00:00.000000000&#x27;, &#x27;2020-01-02T00:00:00.000000000&#x27;,\n",
       "       &#x27;2020-01-02T12:00:00.000000000&#x27;, &#x27;2020-01-03T00:00:00.000000000&#x27;,\n",
       "       &#x27;2020-01-03T12:00:00.000000000&#x27;, &#x27;2020-01-04T00:00:00.000000000&#x27;,\n",
       "       &#x27;2020-01-04T12:00:00.000000000&#x27;, &#x27;2020-01-05T00:00:00.000000000&#x27;,\n",
       "       &#x27;2020-01-05T12:00:00.000000000&#x27;, &#x27;2020-02-01T00:00:00.000000000&#x27;,\n",
       "       &#x27;2020-02-01T12:00:00.000000000&#x27;, &#x27;2020-02-02T00:00:00.000000000&#x27;,\n",
       "       &#x27;2020-02-02T12:00:00.000000000&#x27;, &#x27;2020-02-03T00:00:00.000000000&#x27;,\n",
       "       &#x27;2020-02-03T12:00:00.000000000&#x27;, &#x27;2020-02-04T00:00:00.000000000&#x27;,\n",
       "       &#x27;2020-02-04T12:00:00.000000000&#x27;, &#x27;2020-02-05T00:00:00.000000000&#x27;,\n",
       "       &#x27;2020-02-05T12:00:00.000000000&#x27;, &#x27;2020-03-01T00:00:00.000000000&#x27;,\n",
       "       &#x27;2020-03-01T12:00:00.000000000&#x27;, &#x27;2020-03-02T00:00:00.000000000&#x27;,\n",
       "       &#x27;2020-03-02T12:00:00.000000000&#x27;, &#x27;2020-03-03T00:00:00.000000000&#x27;,\n",
       "       &#x27;2020-03-03T12:00:00.000000000&#x27;, &#x27;2020-03-04T00:00:00.000000000&#x27;,\n",
       "       &#x27;2020-03-04T12:00:00.000000000&#x27;, &#x27;2020-03-05T00:00:00.000000000&#x27;,\n",
       "       &#x27;2020-03-05T12:00:00.000000000&#x27;, &#x27;2020-04-01T00:00:00.000000000&#x27;,\n",
       "       &#x27;2020-04-01T12:00:00.000000000&#x27;, &#x27;2020-04-02T00:00:00.000000000&#x27;,\n",
       "       &#x27;2020-04-02T12:00:00.000000000&#x27;, &#x27;2020-04-03T00:00:00.000000000&#x27;,\n",
       "       &#x27;2020-04-03T12:00:00.000000000&#x27;, &#x27;2020-04-04T00:00:00.000000000&#x27;,\n",
       "       &#x27;2020-04-04T12:00:00.000000000&#x27;, &#x27;2020-04-05T00:00:00.000000000&#x27;,\n",
       "       &#x27;2020-04-05T12:00:00.000000000&#x27;, &#x27;2020-05-01T00:00:00.000000000&#x27;,\n",
       "       &#x27;2020-05-01T12:00:00.000000000&#x27;, &#x27;2020-05-02T00:00:00.000000000&#x27;,\n",
       "       &#x27;2020-05-02T12:00:00.000000000&#x27;, &#x27;2020-05-03T00:00:00.000000000&#x27;,\n",
       "       &#x27;2020-05-03T12:00:00.000000000&#x27;, &#x27;2020-05-04T00:00:00.000000000&#x27;,\n",
       "       &#x27;2020-05-04T12:00:00.000000000&#x27;, &#x27;2020-05-05T00:00:00.000000000&#x27;,\n",
       "       &#x27;2020-05-05T12:00:00.000000000&#x27;, &#x27;2020-06-01T00:00:00.000000000&#x27;,\n",
       "       &#x27;2020-06-01T12:00:00.000000000&#x27;, &#x27;2020-06-02T00:00:00.000000000&#x27;,\n",
       "       &#x27;2020-06-02T12:00:00.000000000&#x27;, &#x27;2020-06-03T00:00:00.000000000&#x27;,\n",
       "       &#x27;2020-06-03T12:00:00.000000000&#x27;, &#x27;2020-06-04T00:00:00.000000000&#x27;,\n",
       "       &#x27;2020-06-04T12:00:00.000000000&#x27;, &#x27;2020-06-05T00:00:00.000000000&#x27;,\n",
       "       &#x27;2020-06-05T12:00:00.000000000&#x27;, &#x27;2020-07-01T00:00:00.000000000&#x27;,\n",
       "       &#x27;2020-07-01T12:00:00.000000000&#x27;, &#x27;2020-07-02T00:00:00.000000000&#x27;,\n",
       "       &#x27;2020-07-02T12:00:00.000000000&#x27;, &#x27;2020-07-03T00:00:00.000000000&#x27;,\n",
       "       &#x27;2020-07-03T12:00:00.000000000&#x27;, &#x27;2020-07-04T00:00:00.000000000&#x27;,\n",
       "       &#x27;2020-07-04T12:00:00.000000000&#x27;, &#x27;2020-07-05T00:00:00.000000000&#x27;,\n",
       "       &#x27;2020-07-05T12:00:00.000000000&#x27;, &#x27;2020-08-01T00:00:00.000000000&#x27;,\n",
       "       &#x27;2020-08-01T12:00:00.000000000&#x27;, &#x27;2020-08-02T00:00:00.000000000&#x27;,\n",
       "       &#x27;2020-08-02T12:00:00.000000000&#x27;, &#x27;2020-08-03T00:00:00.000000000&#x27;,\n",
       "       &#x27;2020-08-03T12:00:00.000000000&#x27;, &#x27;2020-08-04T00:00:00.000000000&#x27;,\n",
       "       &#x27;2020-08-04T12:00:00.000000000&#x27;, &#x27;2020-08-05T00:00:00.000000000&#x27;,\n",
       "       &#x27;2020-08-05T12:00:00.000000000&#x27;, &#x27;2020-09-01T00:00:00.000000000&#x27;,\n",
       "       &#x27;2020-09-01T12:00:00.000000000&#x27;, &#x27;2020-09-02T00:00:00.000000000&#x27;,\n",
       "       &#x27;2020-09-02T12:00:00.000000000&#x27;, &#x27;2020-09-03T00:00:00.000000000&#x27;,\n",
       "       &#x27;2020-09-03T12:00:00.000000000&#x27;, &#x27;2020-09-04T00:00:00.000000000&#x27;,\n",
       "       &#x27;2020-09-04T12:00:00.000000000&#x27;, &#x27;2020-09-05T00:00:00.000000000&#x27;,\n",
       "       &#x27;2020-09-05T12:00:00.000000000&#x27;, &#x27;2020-10-01T00:00:00.000000000&#x27;,\n",
       "       &#x27;2020-11-01T00:00:00.000000000&#x27;, &#x27;2020-11-01T12:00:00.000000000&#x27;,\n",
       "       &#x27;2020-11-02T00:00:00.000000000&#x27;, &#x27;2020-11-02T12:00:00.000000000&#x27;,\n",
       "       &#x27;2020-11-03T00:00:00.000000000&#x27;, &#x27;2020-11-03T12:00:00.000000000&#x27;,\n",
       "       &#x27;2020-11-04T00:00:00.000000000&#x27;, &#x27;2020-11-04T12:00:00.000000000&#x27;,\n",
       "       &#x27;2020-11-05T00:00:00.000000000&#x27;, &#x27;2020-11-05T12:00:00.000000000&#x27;,\n",
       "       &#x27;2020-12-01T00:00:00.000000000&#x27;], dtype=&#x27;datetime64[ns]&#x27;)</pre></div></li><li class='xr-var-item'><div class='xr-var-name'><span class='xr-has-index'>variable</span></div><div class='xr-var-dims'>(variable)</div><div class='xr-var-dtype'>&lt;U2</div><div class='xr-var-preview xr-preview'>&#x27;tp&#x27;</div><input id='attrs-35e46afd-af7b-4824-abf3-dce351363654' class='xr-var-attrs-in' type='checkbox' disabled><label for='attrs-35e46afd-af7b-4824-abf3-dce351363654' title='Show/Hide attributes'><svg class='icon xr-icon-file-text2'><use xlink:href='#icon-file-text2'></use></svg></label><input id='data-84a5d891-4421-405a-bf77-96ac8720d2d1' class='xr-var-data-in' type='checkbox'><label for='data-84a5d891-4421-405a-bf77-96ac8720d2d1' title='Show/Hide data repr'><svg class='icon xr-icon-database'><use xlink:href='#icon-database'></use></svg></label><div class='xr-var-attrs'><dl class='xr-attrs'></dl></div><div class='xr-var-data'><pre>array([&#x27;tp&#x27;], dtype=&#x27;&lt;U2&#x27;)</pre></div></li></ul></div></li><li class='xr-section-item'><input id='section-4cfc4dbc-1250-4c21-9d0a-5a4ae27664de' class='xr-section-summary-in' type='checkbox' disabled ><label for='section-4cfc4dbc-1250-4c21-9d0a-5a4ae27664de' class='xr-section-summary'  title='Expand/collapse section'>Attributes: <span>(0)</span></label><div class='xr-section-inline-details'></div><div class='xr-section-details'><dl class='xr-attrs'></dl></div></li></ul></div></div>"
      ],
      "text/plain": [
       "<xarray.DataArray (variable: 1, member: 10, valid_time: 101, lat: 93, lon: 172)>\n",
       "array([[[[[3.01053647e-01, 4.30970623e-01, 5.74420528e-01, ...,\n",
       "           4.07775744e-01, 4.03023890e-01, 3.98107896e-01],\n",
       "          [3.50360558e-01, 2.98886125e-01, 1.36070486e-01, ...,\n",
       "           3.84204037e-01, 3.81259676e-01, 4.00963425e-01],\n",
       "          [6.29287130e-01, 5.98463392e-01, 4.89741797e-01, ...,\n",
       "           3.65489415e-01, 3.71376218e-01, 3.85884938e-01],\n",
       "          ...,\n",
       "          [0.00000000e+00, 0.00000000e+00, 2.32960875e-02, ...,\n",
       "           4.33855303e-02, 7.74335538e-04, 2.79797671e-03],\n",
       "          [5.57682546e-02, 9.93955513e-02, 1.91622802e-01, ...,\n",
       "           0.00000000e+00, 1.24615663e-02, 4.71934326e-02],\n",
       "          [1.11713518e-01, 1.68800772e-01, 1.86983340e-01, ...,\n",
       "           2.83188763e-01, 2.58380267e-01, 3.11095490e-01]],\n",
       "\n",
       "         [[4.67681586e-01, 3.09886144e-01, 3.58872728e-01, ...,\n",
       "           2.70211285e-01, 2.51587437e-01, 2.33679436e-01],\n",
       "          [2.17803054e-01, 1.11798255e-01, 2.95733102e-02, ...,\n",
       "           2.97110918e-01, 2.72448244e-01, 2.30026949e-01],\n",
       "          [4.62480264e-01, 3.71839116e-01, 2.67128682e-01, ...,\n",
       "           3.18388955e-01, 2.94163562e-01, 2.44502470e-01],\n",
       "...\n",
       "          [1.36581859e-02, 2.67711691e-03, 1.58821370e-02, ...,\n",
       "           4.65337618e-01, 4.74839874e-01, 4.81428487e-01],\n",
       "          [5.12692571e-03, 0.00000000e+00, 2.35492240e-02, ...,\n",
       "           4.97496663e-01, 4.66686727e-01, 4.20776149e-01],\n",
       "          [0.00000000e+00, 0.00000000e+00, 1.67929464e-01, ...,\n",
       "           4.39200834e-01, 4.23750479e-01, 4.30086190e-01]],\n",
       "\n",
       "         [[4.57715637e-02, 1.64082959e-02, 1.57480472e-01, ...,\n",
       "           4.20917784e-01, 4.20543460e-01, 4.32545872e-01],\n",
       "          [1.15769199e-01, 3.10847969e-01, 3.15031832e-01, ...,\n",
       "           4.16436239e-01, 4.28971173e-01, 4.48385757e-01],\n",
       "          [7.41873945e-02, 6.16905950e-02, 5.31865903e-02, ...,\n",
       "           4.45216919e-01, 4.71863953e-01, 4.98515993e-01],\n",
       "          ...,\n",
       "          [8.82416384e-02, 7.45681052e-03, 0.00000000e+00, ...,\n",
       "           1.12155828e-02, 9.44849380e-03, 0.00000000e+00],\n",
       "          [1.24867302e-01, 5.17970068e-02, 0.00000000e+00, ...,\n",
       "           0.00000000e+00, 0.00000000e+00, 0.00000000e+00],\n",
       "          [1.27003755e-01, 9.73690793e-02, 6.68321427e-02, ...,\n",
       "           0.00000000e+00, 0.00000000e+00, 0.00000000e+00]]]]])\n",
       "Coordinates:\n",
       "    lead_time   timedelta64[ns] 12:00:00\n",
       "    init_time   (valid_time) datetime64[ns] 2020-01-01 ... 2020-11-30T12:00:00\n",
       "  * member      (member) int32 0 1 2 3 4 5 6 7 8 9\n",
       "  * lon         (lon) float64 235.2 235.5 235.8 236.2 ... 289.3 289.6 289.9\n",
       "  * lat         (lat) float64 49.68 49.36 49.04 48.72 ... 21.2 20.88 20.56 20.24\n",
       "  * valid_time  (valid_time) datetime64[ns] 2020-01-01T12:00:00 ... 2020-12-01\n",
       "  * variable    (variable) <U2 'tp'"
      ]
     },
     "execution_count": 13,
     "metadata": {},
     "output_type": "execute_result"
    }
   ],
   "source": [
    "ds_test_pad.tigge"
   ]
  },
  {
   "cell_type": "code",
   "execution_count": 11,
   "id": "a7429f16",
   "metadata": {},
   "outputs": [
    {
     "data": {
      "text/plain": [
       "(2, 16, 16)"
      ]
     },
     "execution_count": 11,
     "metadata": {},
     "output_type": "execute_result"
    }
   ],
   "source": [
    "ds_test_pad[0][0].shape"
   ]
  },
  {
   "cell_type": "markdown",
   "id": "b994dced",
   "metadata": {
    "Collapsed": "false"
   },
   "source": [
    "## Load models"
   ]
  },
  {
   "cell_type": "markdown",
   "id": "ed5a272a",
   "metadata": {
    "Collapsed": "false"
   },
   "source": [
    "### Model 1: single_forecast_tp_pure_sr_pretraining"
   ]
  },
  {
   "cell_type": "code",
   "execution_count": 15,
   "id": "da5daad2",
   "metadata": {
    "Collapsed": "false"
   },
   "outputs": [],
   "source": [
    "name='single_forecast_tp_pure_sr_pretraining'"
   ]
  },
  {
   "cell_type": "code",
   "execution_count": 16,
   "id": "76a6306e",
   "metadata": {
    "Collapsed": "false"
   },
   "outputs": [],
   "source": [
    "zero_noise=True"
   ]
  },
  {
   "cell_type": "code",
   "execution_count": 17,
   "id": "228d305f",
   "metadata": {
    "Collapsed": "false"
   },
   "outputs": [],
   "source": [
    "model_dir = '/home/jupyter/data/saved_models/leingan/single_forecast_tp_pure_sr_pretraining/0'"
   ]
  },
  {
   "cell_type": "code",
   "execution_count": 18,
   "id": "5bb2092f",
   "metadata": {
    "Collapsed": "false"
   },
   "outputs": [],
   "source": [
    "sys.path.append(model_dir)"
   ]
  },
  {
   "cell_type": "code",
   "execution_count": 19,
   "id": "846ae726",
   "metadata": {
    "Collapsed": "false"
   },
   "outputs": [],
   "source": [
    "gan = BaseGAN2.load_from_checkpoint(\n",
    "    f\"{model_dir}/epoch=199-step=133999.ckpt\")"
   ]
  },
  {
   "cell_type": "code",
   "execution_count": 20,
   "id": "d395931f",
   "metadata": {
    "Collapsed": "false"
   },
   "outputs": [],
   "source": [
    "model = gan.gen\n",
    "model = model.to(device)\n",
    "model.train(False);"
   ]
  },
  {
   "cell_type": "markdown",
   "id": "dfa6835f",
   "metadata": {
    "Collapsed": "false"
   },
   "source": [
    "## Model 2: ens_mean_L1_weighted_gen_loss"
   ]
  },
  {
   "cell_type": "code",
   "execution_count": 11,
   "id": "291fc84e",
   "metadata": {
    "Collapsed": "false"
   },
   "outputs": [],
   "source": [
    "name='ens_mean_L1_weighted_gen_loss'"
   ]
  },
  {
   "cell_type": "code",
   "execution_count": 15,
   "id": "e890dcc1",
   "metadata": {
    "Collapsed": "false"
   },
   "outputs": [],
   "source": [
    "model_dir = '/home/jupyter/data/saved_models/leingan/ens10_tp/random/ens_mean_L1_weighted_gen_loss/3'"
   ]
  },
  {
   "cell_type": "code",
   "execution_count": 16,
   "id": "070c332c",
   "metadata": {
    "Collapsed": "false"
   },
   "outputs": [],
   "source": [
    "sys.path.append(model_dir)"
   ]
  },
  {
   "cell_type": "code",
   "execution_count": 17,
   "id": "764826dc",
   "metadata": {
    "Collapsed": "false"
   },
   "outputs": [],
   "source": [
    "gan = BaseGAN2.load_from_checkpoint(\n",
    "    f\"{model_dir}/epoch=349-step=234499.ckpt\")"
   ]
  },
  {
   "cell_type": "code",
   "execution_count": 18,
   "id": "a9458086",
   "metadata": {
    "Collapsed": "false"
   },
   "outputs": [],
   "source": [
    "model = gan.gen\n",
    "model = model.to(device)\n",
    "model.train(False);"
   ]
  },
  {
   "cell_type": "markdown",
   "id": "013654f2",
   "metadata": {
    "Collapsed": "false"
   },
   "source": [
    "### Model 3: ens10_tp_and_added_vars_TCW_broadfield_channel"
   ]
  },
  {
   "cell_type": "code",
   "execution_count": 12,
   "id": "88a9bc74",
   "metadata": {
    "Collapsed": "false"
   },
   "outputs": [],
   "source": [
    "name='ens10_tp_and_added_vars_TCW_broadfield_channel'"
   ]
  },
  {
   "cell_type": "code",
   "execution_count": 35,
   "id": "45781641",
   "metadata": {
    "Collapsed": "false"
   },
   "outputs": [],
   "source": [
    "ds_test = ds_test_pad"
   ]
  },
  {
   "cell_type": "code",
   "execution_count": 14,
   "id": "0395e2ed",
   "metadata": {
    "Collapsed": "false"
   },
   "outputs": [],
   "source": [
    "model_dir = '/home/jupyter/data/saved_models/leingan/ens10_tp_and_added_vars_TCW_broadfield_channel/15'"
   ]
  },
  {
   "cell_type": "code",
   "execution_count": 15,
   "id": "0ea2d943",
   "metadata": {
    "Collapsed": "false"
   },
   "outputs": [],
   "source": [
    "sys.path.append(model_dir)"
   ]
  },
  {
   "cell_type": "code",
   "execution_count": 16,
   "id": "89484504",
   "metadata": {
    "Collapsed": "false"
   },
   "outputs": [],
   "source": [
    "gan = BaseGAN2.load_from_checkpoint(\n",
    "    f\"{model_dir}/epoch=499-step=258499.ckpt\")"
   ]
  },
  {
   "cell_type": "code",
   "execution_count": 17,
   "id": "47e2ea62",
   "metadata": {
    "Collapsed": "false"
   },
   "outputs": [],
   "source": [
    "model = gan.gen\n",
    "model = model.to(device)\n",
    "model.train(False);"
   ]
  },
  {
   "cell_type": "markdown",
   "id": "2d826f5f",
   "metadata": {
    "Collapsed": "false"
   },
   "source": [
    "## Full field eval"
   ]
  },
  {
   "cell_type": "code",
   "execution_count": 18,
   "id": "fd34b611",
   "metadata": {
    "Collapsed": "false"
   },
   "outputs": [],
   "source": [
    "def create_valid_predictions(model, ds_valid, member_idx=None, zero_noise=False):\n",
    "    # Get predictions for full field\n",
    "    preds = []\n",
    "    for t in tqdm(range(len(ds_valid.tigge.valid_time))):\n",
    "        X, y = ds_valid.return_full_array(t, member_idx=member_idx)\n",
    "        noise = torch.randn(1, X.shape[0], X.shape[1], X.shape[2]).to(device)\n",
    "        if zero_noise:\n",
    "            noise *= 0\n",
    "        pred = model(torch.FloatTensor(X[None]).to(device), noise).to('cpu').detach().numpy()[0, 0]\n",
    "        preds.append(pred)\n",
    "    preds = np.array(preds)\n",
    "    \n",
    "    # Unscale\n",
    "    preds = preds * (ds_valid.maxs.tp.values - ds_valid.mins.tp.values) + ds_valid.mins.tp.values\n",
    "    \n",
    "    # Un-log\n",
    "    if ds_valid.tp_log:\n",
    "        preds = log_retrans(preds, ds_valid.tp_log)\n",
    "    \n",
    "    # Convert to xarray\n",
    "    preds = xr.DataArray(\n",
    "        preds,\n",
    "        dims=['valid_time', 'lat', 'lon'],\n",
    "        coords={\n",
    "            'valid_time': ds_valid.tigge.valid_time,\n",
    "            'lat': ds_valid.mrms.lat.isel(\n",
    "                lat=slice(ds_valid.pad_mrms, ds_valid.pad_mrms+preds.shape[1])\n",
    "            ),\n",
    "            'lon': ds_valid.mrms.lon.isel(\n",
    "                lon=slice(ds_valid.pad_mrms, ds_valid.pad_mrms+preds.shape[2])\n",
    "            )\n",
    "        },\n",
    "        name='tp'\n",
    "    )\n",
    "    return preds"
   ]
  },
  {
   "cell_type": "code",
   "execution_count": 19,
   "id": "f1be933b",
   "metadata": {
    "Collapsed": "false"
   },
   "outputs": [],
   "source": [
    "def create_stitched_predictions(model, ds_test, member_idx, zero_noise=False):\n",
    "    preds = ds_test.mrms.copy(True) * np.NaN\n",
    "    for idx in tqdm(range(len(ds_test.idxs))):\n",
    "        time_idx, lat_idx, lon_idx = ds_test.idxs[idx]\n",
    "        lat_slice = slice(lat_idx * ds_test.ratio, lat_idx * ds_test.ratio + ds_test.patch_mrms)\n",
    "        lon_slice = slice(lon_idx * ds_test.ratio, lon_idx * ds_test.ratio + ds_test.patch_mrms)\n",
    "\n",
    "        X, y = ds_test.__getitem__(idx, member_idx=member_idx)\n",
    "\n",
    "        noise = torch.randn(1, X.shape[0], X.shape[1], X.shape[2]).to(device)\n",
    "        if zero_noise:\n",
    "            noise *= 0\n",
    "        p = model(torch.FloatTensor(X[None]).to(device), noise).to('cpu').detach().numpy()[0, 0]\n",
    "\n",
    "        preds[time_idx, lat_slice, lon_slice] = p\n",
    "    # Unscale\n",
    "    preds = preds * (ds_test.maxs.tp.values - ds_test.mins.tp.values) + ds_test.mins.tp.values\n",
    "\n",
    "    # Un-log\n",
    "    if ds_test.tp_log:\n",
    "        preds = log_retrans(preds, ds_test.tp_log)\n",
    "    preds = preds.rename({'time': 'valid_time'})\n",
    "    return preds"
   ]
  },
  {
   "cell_type": "code",
   "execution_count": 20,
   "id": "35391705",
   "metadata": {
    "Collapsed": "false"
   },
   "outputs": [],
   "source": [
    "def create_valid_ensemble(model, ds_valid, nens, stitched=False, zero_noise=False):\n",
    "    \"\"\"Wrapper to create ensemble\"\"\"\n",
    "    if stitched:\n",
    "        fn = create_stitched_predictions\n",
    "    else:\n",
    "        fn = create_valid_predictions\n",
    "    preds = [fn(model, ds_valid, member_idx=member_idx, zero_noise=zero_noise) for member_idx in range(nens)]\n",
    "    return xr.concat(preds, 'member')"
   ]
  },
  {
   "cell_type": "code",
   "execution_count": 22,
   "id": "d2ee8bbb",
   "metadata": {
    "Collapsed": "false"
   },
   "outputs": [],
   "source": [
    "# ens_pred = create_valid_ensemble(model, ds_test, members, zero_noise=zero_noise)"
   ]
  },
  {
   "cell_type": "code",
   "execution_count": 36,
   "id": "e1d2378b",
   "metadata": {},
   "outputs": [],
   "source": [
    "X, y = ds_test[0]"
   ]
  },
  {
   "cell_type": "code",
   "execution_count": 37,
   "id": "a11977a8",
   "metadata": {},
   "outputs": [
    {
     "data": {
      "text/plain": [
       "(2, 16, 16)"
      ]
     },
     "execution_count": 37,
     "metadata": {},
     "output_type": "execute_result"
    }
   ],
   "source": [
    "X.shape"
   ]
  },
  {
   "cell_type": "code",
   "execution_count": 27,
   "id": "433260b1",
   "metadata": {
    "collapsed": true,
    "jupyter": {
     "outputs_hidden": true
    }
   },
   "outputs": [
    {
     "data": {
      "text/plain": [
       "LeinGen2(\n",
       "  (embed): Sequential(\n",
       "    (0): Conv2d(3, 64, kernel_size=(3, 3), stride=(1, 1), padding=(1, 1))\n",
       "    (1): ReLU()\n",
       "    (2): LeinResBlock(\n",
       "      (shortcut): Sequential(\n",
       "        (0): ConvBlock(\n",
       "          (conv): Conv2d(64, 128, kernel_size=(1, 1), stride=(1, 1))\n",
       "        )\n",
       "      )\n",
       "      (convblock1): ConvBlock(\n",
       "        (conv): Conv2d(64, 128, kernel_size=(3, 3), stride=(1, 1), padding=(1, 1))\n",
       "      )\n",
       "      (convblock2): ConvBlock(\n",
       "        (conv): Conv2d(128, 128, kernel_size=(3, 3), stride=(1, 1), padding=(1, 1))\n",
       "      )\n",
       "    )\n",
       "    (3): LeinResBlock(\n",
       "      (shortcut): Sequential(\n",
       "        (0): ConvBlock(\n",
       "          (conv): Conv2d(128, 255, kernel_size=(1, 1), stride=(1, 1))\n",
       "        )\n",
       "      )\n",
       "      (convblock1): ConvBlock(\n",
       "        (conv): Conv2d(128, 255, kernel_size=(3, 3), stride=(1, 1), padding=(1, 1))\n",
       "      )\n",
       "      (convblock2): ConvBlock(\n",
       "        (conv): Conv2d(255, 255, kernel_size=(3, 3), stride=(1, 1), padding=(1, 1))\n",
       "      )\n",
       "    )\n",
       "  )\n",
       "  (process): Sequential(\n",
       "    (0): LeinResBlock(\n",
       "      (shortcut): Sequential()\n",
       "      (convblock1): ConvBlock(\n",
       "        (conv): Conv2d(256, 256, kernel_size=(3, 3), stride=(1, 1), padding=(1, 1))\n",
       "      )\n",
       "      (convblock2): ConvBlock(\n",
       "        (conv): Conv2d(256, 256, kernel_size=(3, 3), stride=(1, 1), padding=(1, 1))\n",
       "      )\n",
       "    )\n",
       "    (1): LeinResBlock(\n",
       "      (shortcut): Sequential()\n",
       "      (convblock1): ConvBlock(\n",
       "        (conv): Conv2d(256, 256, kernel_size=(3, 3), stride=(1, 1), padding=(1, 1))\n",
       "      )\n",
       "      (convblock2): ConvBlock(\n",
       "        (conv): Conv2d(256, 256, kernel_size=(3, 3), stride=(1, 1), padding=(1, 1))\n",
       "      )\n",
       "    )\n",
       "  )\n",
       "  (upscale): Sequential(\n",
       "    (0): LeinResBlock(\n",
       "      (shortcut): Sequential()\n",
       "      (convblock1): ConvBlock(\n",
       "        (conv): Conv2d(256, 256, kernel_size=(3, 3), stride=(1, 1), padding=(1, 1))\n",
       "      )\n",
       "      (convblock2): ConvBlock(\n",
       "        (conv): Conv2d(256, 256, kernel_size=(3, 3), stride=(1, 1), padding=(1, 1))\n",
       "      )\n",
       "    )\n",
       "    (1): UpSample()\n",
       "    (2): LeinResBlock(\n",
       "      (shortcut): Sequential(\n",
       "        (0): ConvBlock(\n",
       "          (conv): Conv2d(256, 128, kernel_size=(1, 1), stride=(1, 1))\n",
       "        )\n",
       "      )\n",
       "      (convblock1): ConvBlock(\n",
       "        (conv): Conv2d(256, 128, kernel_size=(3, 3), stride=(1, 1), padding=(1, 1))\n",
       "      )\n",
       "      (convblock2): ConvBlock(\n",
       "        (conv): Conv2d(128, 128, kernel_size=(3, 3), stride=(1, 1), padding=(1, 1))\n",
       "      )\n",
       "    )\n",
       "    (3): UpSample()\n",
       "    (4): LeinResBlock(\n",
       "      (shortcut): Sequential(\n",
       "        (0): ConvBlock(\n",
       "          (conv): Conv2d(128, 64, kernel_size=(1, 1), stride=(1, 1))\n",
       "        )\n",
       "      )\n",
       "      (convblock1): ConvBlock(\n",
       "        (conv): Conv2d(128, 64, kernel_size=(3, 3), stride=(1, 1), padding=(1, 1))\n",
       "      )\n",
       "      (convblock2): ConvBlock(\n",
       "        (conv): Conv2d(64, 64, kernel_size=(3, 3), stride=(1, 1), padding=(1, 1))\n",
       "      )\n",
       "    )\n",
       "    (5): UpSample()\n",
       "    (6): LeinResBlock(\n",
       "      (shortcut): Sequential(\n",
       "        (0): ConvBlock(\n",
       "          (conv): Conv2d(64, 32, kernel_size=(1, 1), stride=(1, 1))\n",
       "        )\n",
       "      )\n",
       "      (convblock1): ConvBlock(\n",
       "        (conv): Conv2d(64, 32, kernel_size=(3, 3), stride=(1, 1), padding=(1, 1))\n",
       "      )\n",
       "      (convblock2): ConvBlock(\n",
       "        (conv): Conv2d(32, 32, kernel_size=(3, 3), stride=(1, 1), padding=(1, 1))\n",
       "      )\n",
       "    )\n",
       "  )\n",
       "  (final): Conv2d(32, 1, kernel_size=(3, 3), stride=(1, 1), padding=(1, 1))\n",
       ")"
      ]
     },
     "execution_count": 27,
     "metadata": {},
     "output_type": "execute_result"
    }
   ],
   "source": [
    "model"
   ]
  },
  {
   "cell_type": "code",
   "execution_count": 32,
   "id": "fb1d1dc0",
   "metadata": {
    "Collapsed": "false"
   },
   "outputs": [
    {
     "name": "stderr",
     "output_type": "stream",
     "text": [
      "  0%|          | 0/3636 [00:00<?, ?it/s]\n"
     ]
    },
    {
     "ename": "RuntimeError",
     "evalue": "Given groups=1, weight of size [64, 3, 3, 3], expected input[1, 2, 16, 16] to have 3 channels, but got 2 channels instead",
     "output_type": "error",
     "traceback": [
      "\u001b[0;31m---------------------------------------------------------------------------\u001b[0m",
      "\u001b[0;31mRuntimeError\u001b[0m                              Traceback (most recent call last)",
      "\u001b[0;32m<ipython-input-32-77aad44d491f>\u001b[0m in \u001b[0;36m<module>\u001b[0;34m\u001b[0m\n\u001b[0;32m----> 1\u001b[0;31m \u001b[0mens_pred_stitched\u001b[0m \u001b[0;34m=\u001b[0m \u001b[0mcreate_valid_ensemble\u001b[0m\u001b[0;34m(\u001b[0m\u001b[0mmodel\u001b[0m\u001b[0;34m,\u001b[0m \u001b[0mds_test\u001b[0m\u001b[0;34m,\u001b[0m \u001b[0mmembers\u001b[0m\u001b[0;34m,\u001b[0m \u001b[0mstitched\u001b[0m\u001b[0;34m=\u001b[0m\u001b[0;32mTrue\u001b[0m\u001b[0;34m,\u001b[0m \u001b[0mzero_noise\u001b[0m\u001b[0;34m=\u001b[0m\u001b[0mzero_noise\u001b[0m\u001b[0;34m)\u001b[0m\u001b[0;34m\u001b[0m\u001b[0;34m\u001b[0m\u001b[0m\n\u001b[0m",
      "\u001b[0;32m<ipython-input-20-c6bf34974962>\u001b[0m in \u001b[0;36mcreate_valid_ensemble\u001b[0;34m(model, ds_valid, nens, stitched, zero_noise)\u001b[0m\n\u001b[1;32m      5\u001b[0m     \u001b[0;32melse\u001b[0m\u001b[0;34m:\u001b[0m\u001b[0;34m\u001b[0m\u001b[0;34m\u001b[0m\u001b[0m\n\u001b[1;32m      6\u001b[0m         \u001b[0mfn\u001b[0m \u001b[0;34m=\u001b[0m \u001b[0mcreate_valid_predictions\u001b[0m\u001b[0;34m\u001b[0m\u001b[0;34m\u001b[0m\u001b[0m\n\u001b[0;32m----> 7\u001b[0;31m     \u001b[0mpreds\u001b[0m \u001b[0;34m=\u001b[0m \u001b[0;34m[\u001b[0m\u001b[0mfn\u001b[0m\u001b[0;34m(\u001b[0m\u001b[0mmodel\u001b[0m\u001b[0;34m,\u001b[0m \u001b[0mds_valid\u001b[0m\u001b[0;34m,\u001b[0m \u001b[0mmember_idx\u001b[0m\u001b[0;34m=\u001b[0m\u001b[0mmember_idx\u001b[0m\u001b[0;34m,\u001b[0m \u001b[0mzero_noise\u001b[0m\u001b[0;34m=\u001b[0m\u001b[0mzero_noise\u001b[0m\u001b[0;34m)\u001b[0m \u001b[0;32mfor\u001b[0m \u001b[0mmember_idx\u001b[0m \u001b[0;32min\u001b[0m \u001b[0mrange\u001b[0m\u001b[0;34m(\u001b[0m\u001b[0mnens\u001b[0m\u001b[0;34m)\u001b[0m\u001b[0;34m]\u001b[0m\u001b[0;34m\u001b[0m\u001b[0;34m\u001b[0m\u001b[0m\n\u001b[0m\u001b[1;32m      8\u001b[0m     \u001b[0;32mreturn\u001b[0m \u001b[0mxr\u001b[0m\u001b[0;34m.\u001b[0m\u001b[0mconcat\u001b[0m\u001b[0;34m(\u001b[0m\u001b[0mpreds\u001b[0m\u001b[0;34m,\u001b[0m \u001b[0;34m'member'\u001b[0m\u001b[0;34m)\u001b[0m\u001b[0;34m\u001b[0m\u001b[0;34m\u001b[0m\u001b[0m\n",
      "\u001b[0;32m<ipython-input-20-c6bf34974962>\u001b[0m in \u001b[0;36m<listcomp>\u001b[0;34m(.0)\u001b[0m\n\u001b[1;32m      5\u001b[0m     \u001b[0;32melse\u001b[0m\u001b[0;34m:\u001b[0m\u001b[0;34m\u001b[0m\u001b[0;34m\u001b[0m\u001b[0m\n\u001b[1;32m      6\u001b[0m         \u001b[0mfn\u001b[0m \u001b[0;34m=\u001b[0m \u001b[0mcreate_valid_predictions\u001b[0m\u001b[0;34m\u001b[0m\u001b[0;34m\u001b[0m\u001b[0m\n\u001b[0;32m----> 7\u001b[0;31m     \u001b[0mpreds\u001b[0m \u001b[0;34m=\u001b[0m \u001b[0;34m[\u001b[0m\u001b[0mfn\u001b[0m\u001b[0;34m(\u001b[0m\u001b[0mmodel\u001b[0m\u001b[0;34m,\u001b[0m \u001b[0mds_valid\u001b[0m\u001b[0;34m,\u001b[0m \u001b[0mmember_idx\u001b[0m\u001b[0;34m=\u001b[0m\u001b[0mmember_idx\u001b[0m\u001b[0;34m,\u001b[0m \u001b[0mzero_noise\u001b[0m\u001b[0;34m=\u001b[0m\u001b[0mzero_noise\u001b[0m\u001b[0;34m)\u001b[0m \u001b[0;32mfor\u001b[0m \u001b[0mmember_idx\u001b[0m \u001b[0;32min\u001b[0m \u001b[0mrange\u001b[0m\u001b[0;34m(\u001b[0m\u001b[0mnens\u001b[0m\u001b[0;34m)\u001b[0m\u001b[0;34m]\u001b[0m\u001b[0;34m\u001b[0m\u001b[0;34m\u001b[0m\u001b[0m\n\u001b[0m\u001b[1;32m      8\u001b[0m     \u001b[0;32mreturn\u001b[0m \u001b[0mxr\u001b[0m\u001b[0;34m.\u001b[0m\u001b[0mconcat\u001b[0m\u001b[0;34m(\u001b[0m\u001b[0mpreds\u001b[0m\u001b[0;34m,\u001b[0m \u001b[0;34m'member'\u001b[0m\u001b[0;34m)\u001b[0m\u001b[0;34m\u001b[0m\u001b[0;34m\u001b[0m\u001b[0m\n",
      "\u001b[0;32m<ipython-input-19-174d3a46ed49>\u001b[0m in \u001b[0;36mcreate_stitched_predictions\u001b[0;34m(model, ds_test, member_idx, zero_noise)\u001b[0m\n\u001b[1;32m     11\u001b[0m         \u001b[0;32mif\u001b[0m \u001b[0mzero_noise\u001b[0m\u001b[0;34m:\u001b[0m\u001b[0;34m\u001b[0m\u001b[0;34m\u001b[0m\u001b[0m\n\u001b[1;32m     12\u001b[0m             \u001b[0mnoise\u001b[0m \u001b[0;34m*=\u001b[0m \u001b[0;36m0\u001b[0m\u001b[0;34m\u001b[0m\u001b[0;34m\u001b[0m\u001b[0m\n\u001b[0;32m---> 13\u001b[0;31m         \u001b[0mp\u001b[0m \u001b[0;34m=\u001b[0m \u001b[0mmodel\u001b[0m\u001b[0;34m(\u001b[0m\u001b[0mtorch\u001b[0m\u001b[0;34m.\u001b[0m\u001b[0mFloatTensor\u001b[0m\u001b[0;34m(\u001b[0m\u001b[0mX\u001b[0m\u001b[0;34m[\u001b[0m\u001b[0;32mNone\u001b[0m\u001b[0;34m]\u001b[0m\u001b[0;34m)\u001b[0m\u001b[0;34m.\u001b[0m\u001b[0mto\u001b[0m\u001b[0;34m(\u001b[0m\u001b[0mdevice\u001b[0m\u001b[0;34m)\u001b[0m\u001b[0;34m,\u001b[0m \u001b[0mnoise\u001b[0m\u001b[0;34m)\u001b[0m\u001b[0;34m.\u001b[0m\u001b[0mto\u001b[0m\u001b[0;34m(\u001b[0m\u001b[0;34m'cpu'\u001b[0m\u001b[0;34m)\u001b[0m\u001b[0;34m.\u001b[0m\u001b[0mdetach\u001b[0m\u001b[0;34m(\u001b[0m\u001b[0;34m)\u001b[0m\u001b[0;34m.\u001b[0m\u001b[0mnumpy\u001b[0m\u001b[0;34m(\u001b[0m\u001b[0;34m)\u001b[0m\u001b[0;34m[\u001b[0m\u001b[0;36m0\u001b[0m\u001b[0;34m,\u001b[0m \u001b[0;36m0\u001b[0m\u001b[0;34m]\u001b[0m\u001b[0;34m\u001b[0m\u001b[0;34m\u001b[0m\u001b[0m\n\u001b[0m\u001b[1;32m     14\u001b[0m \u001b[0;34m\u001b[0m\u001b[0m\n\u001b[1;32m     15\u001b[0m         \u001b[0mpreds\u001b[0m\u001b[0;34m[\u001b[0m\u001b[0mtime_idx\u001b[0m\u001b[0;34m,\u001b[0m \u001b[0mlat_slice\u001b[0m\u001b[0;34m,\u001b[0m \u001b[0mlon_slice\u001b[0m\u001b[0;34m]\u001b[0m \u001b[0;34m=\u001b[0m \u001b[0mp\u001b[0m\u001b[0;34m\u001b[0m\u001b[0;34m\u001b[0m\u001b[0m\n",
      "\u001b[0;32m/opt/conda/envs/ilan/lib/python3.9/site-packages/torch/nn/modules/module.py\u001b[0m in \u001b[0;36m_call_impl\u001b[0;34m(self, *input, **kwargs)\u001b[0m\n\u001b[1;32m   1049\u001b[0m         if not (self._backward_hooks or self._forward_hooks or self._forward_pre_hooks or _global_backward_hooks\n\u001b[1;32m   1050\u001b[0m                 or _global_forward_hooks or _global_forward_pre_hooks):\n\u001b[0;32m-> 1051\u001b[0;31m             \u001b[0;32mreturn\u001b[0m \u001b[0mforward_call\u001b[0m\u001b[0;34m(\u001b[0m\u001b[0;34m*\u001b[0m\u001b[0minput\u001b[0m\u001b[0;34m,\u001b[0m \u001b[0;34m**\u001b[0m\u001b[0mkwargs\u001b[0m\u001b[0;34m)\u001b[0m\u001b[0;34m\u001b[0m\u001b[0;34m\u001b[0m\u001b[0m\n\u001b[0m\u001b[1;32m   1052\u001b[0m         \u001b[0;31m# Do not call functions when jit is used\u001b[0m\u001b[0;34m\u001b[0m\u001b[0;34m\u001b[0m\u001b[0;34m\u001b[0m\u001b[0m\n\u001b[1;32m   1053\u001b[0m         \u001b[0mfull_backward_hooks\u001b[0m\u001b[0;34m,\u001b[0m \u001b[0mnon_full_backward_hooks\u001b[0m \u001b[0;34m=\u001b[0m \u001b[0;34m[\u001b[0m\u001b[0;34m]\u001b[0m\u001b[0;34m,\u001b[0m \u001b[0;34m[\u001b[0m\u001b[0;34m]\u001b[0m\u001b[0;34m\u001b[0m\u001b[0;34m\u001b[0m\u001b[0m\n",
      "\u001b[0;32m~/data/saved_models/leingan/ens10_tp_and_added_vars_TCW_broadfield_channel/15/run_src/models.py\u001b[0m in \u001b[0;36mforward\u001b[0;34m(self, x, noise)\u001b[0m\n\u001b[1;32m    813\u001b[0m \u001b[0;34m\u001b[0m\u001b[0m\n\u001b[1;32m    814\u001b[0m     \u001b[0;32mdef\u001b[0m \u001b[0mforward\u001b[0m\u001b[0;34m(\u001b[0m\u001b[0mself\u001b[0m\u001b[0;34m,\u001b[0m \u001b[0mx\u001b[0m\u001b[0;34m,\u001b[0m \u001b[0mnoise\u001b[0m\u001b[0;34m)\u001b[0m\u001b[0;34m:\u001b[0m\u001b[0;34m\u001b[0m\u001b[0;34m\u001b[0m\u001b[0m\n\u001b[0;32m--> 815\u001b[0;31m         \u001b[0mx\u001b[0m \u001b[0;34m=\u001b[0m \u001b[0mself\u001b[0m\u001b[0;34m.\u001b[0m\u001b[0membed\u001b[0m\u001b[0;34m(\u001b[0m\u001b[0mx\u001b[0m\u001b[0;34m)\u001b[0m\u001b[0;34m\u001b[0m\u001b[0;34m\u001b[0m\u001b[0m\n\u001b[0m\u001b[1;32m    816\u001b[0m         \u001b[0mx\u001b[0m \u001b[0;34m=\u001b[0m \u001b[0mtorch\u001b[0m\u001b[0;34m.\u001b[0m\u001b[0mcat\u001b[0m\u001b[0;34m(\u001b[0m\u001b[0;34m(\u001b[0m\u001b[0mx\u001b[0m\u001b[0;34m,\u001b[0m\u001b[0mnoise\u001b[0m\u001b[0;34m)\u001b[0m\u001b[0;34m,\u001b[0m \u001b[0maxis\u001b[0m\u001b[0;34m=\u001b[0m\u001b[0;36m1\u001b[0m\u001b[0;34m)\u001b[0m\u001b[0;34m\u001b[0m\u001b[0;34m\u001b[0m\u001b[0m\n\u001b[1;32m    817\u001b[0m         \u001b[0mx\u001b[0m \u001b[0;34m=\u001b[0m \u001b[0mself\u001b[0m\u001b[0;34m.\u001b[0m\u001b[0mprocess\u001b[0m\u001b[0;34m(\u001b[0m\u001b[0mx\u001b[0m\u001b[0;34m)\u001b[0m\u001b[0;34m\u001b[0m\u001b[0;34m\u001b[0m\u001b[0m\n",
      "\u001b[0;32m/opt/conda/envs/ilan/lib/python3.9/site-packages/torch/nn/modules/module.py\u001b[0m in \u001b[0;36m_call_impl\u001b[0;34m(self, *input, **kwargs)\u001b[0m\n\u001b[1;32m   1049\u001b[0m         if not (self._backward_hooks or self._forward_hooks or self._forward_pre_hooks or _global_backward_hooks\n\u001b[1;32m   1050\u001b[0m                 or _global_forward_hooks or _global_forward_pre_hooks):\n\u001b[0;32m-> 1051\u001b[0;31m             \u001b[0;32mreturn\u001b[0m \u001b[0mforward_call\u001b[0m\u001b[0;34m(\u001b[0m\u001b[0;34m*\u001b[0m\u001b[0minput\u001b[0m\u001b[0;34m,\u001b[0m \u001b[0;34m**\u001b[0m\u001b[0mkwargs\u001b[0m\u001b[0;34m)\u001b[0m\u001b[0;34m\u001b[0m\u001b[0;34m\u001b[0m\u001b[0m\n\u001b[0m\u001b[1;32m   1052\u001b[0m         \u001b[0;31m# Do not call functions when jit is used\u001b[0m\u001b[0;34m\u001b[0m\u001b[0;34m\u001b[0m\u001b[0;34m\u001b[0m\u001b[0m\n\u001b[1;32m   1053\u001b[0m         \u001b[0mfull_backward_hooks\u001b[0m\u001b[0;34m,\u001b[0m \u001b[0mnon_full_backward_hooks\u001b[0m \u001b[0;34m=\u001b[0m \u001b[0;34m[\u001b[0m\u001b[0;34m]\u001b[0m\u001b[0;34m,\u001b[0m \u001b[0;34m[\u001b[0m\u001b[0;34m]\u001b[0m\u001b[0;34m\u001b[0m\u001b[0;34m\u001b[0m\u001b[0m\n",
      "\u001b[0;32m/opt/conda/envs/ilan/lib/python3.9/site-packages/torch/nn/modules/container.py\u001b[0m in \u001b[0;36mforward\u001b[0;34m(self, input)\u001b[0m\n\u001b[1;32m    137\u001b[0m     \u001b[0;32mdef\u001b[0m \u001b[0mforward\u001b[0m\u001b[0;34m(\u001b[0m\u001b[0mself\u001b[0m\u001b[0;34m,\u001b[0m \u001b[0minput\u001b[0m\u001b[0;34m)\u001b[0m\u001b[0;34m:\u001b[0m\u001b[0;34m\u001b[0m\u001b[0;34m\u001b[0m\u001b[0m\n\u001b[1;32m    138\u001b[0m         \u001b[0;32mfor\u001b[0m \u001b[0mmodule\u001b[0m \u001b[0;32min\u001b[0m \u001b[0mself\u001b[0m\u001b[0;34m:\u001b[0m\u001b[0;34m\u001b[0m\u001b[0;34m\u001b[0m\u001b[0m\n\u001b[0;32m--> 139\u001b[0;31m             \u001b[0minput\u001b[0m \u001b[0;34m=\u001b[0m \u001b[0mmodule\u001b[0m\u001b[0;34m(\u001b[0m\u001b[0minput\u001b[0m\u001b[0;34m)\u001b[0m\u001b[0;34m\u001b[0m\u001b[0;34m\u001b[0m\u001b[0m\n\u001b[0m\u001b[1;32m    140\u001b[0m         \u001b[0;32mreturn\u001b[0m \u001b[0minput\u001b[0m\u001b[0;34m\u001b[0m\u001b[0;34m\u001b[0m\u001b[0m\n\u001b[1;32m    141\u001b[0m \u001b[0;34m\u001b[0m\u001b[0m\n",
      "\u001b[0;32m/opt/conda/envs/ilan/lib/python3.9/site-packages/torch/nn/modules/module.py\u001b[0m in \u001b[0;36m_call_impl\u001b[0;34m(self, *input, **kwargs)\u001b[0m\n\u001b[1;32m   1049\u001b[0m         if not (self._backward_hooks or self._forward_hooks or self._forward_pre_hooks or _global_backward_hooks\n\u001b[1;32m   1050\u001b[0m                 or _global_forward_hooks or _global_forward_pre_hooks):\n\u001b[0;32m-> 1051\u001b[0;31m             \u001b[0;32mreturn\u001b[0m \u001b[0mforward_call\u001b[0m\u001b[0;34m(\u001b[0m\u001b[0;34m*\u001b[0m\u001b[0minput\u001b[0m\u001b[0;34m,\u001b[0m \u001b[0;34m**\u001b[0m\u001b[0mkwargs\u001b[0m\u001b[0;34m)\u001b[0m\u001b[0;34m\u001b[0m\u001b[0;34m\u001b[0m\u001b[0m\n\u001b[0m\u001b[1;32m   1052\u001b[0m         \u001b[0;31m# Do not call functions when jit is used\u001b[0m\u001b[0;34m\u001b[0m\u001b[0;34m\u001b[0m\u001b[0;34m\u001b[0m\u001b[0m\n\u001b[1;32m   1053\u001b[0m         \u001b[0mfull_backward_hooks\u001b[0m\u001b[0;34m,\u001b[0m \u001b[0mnon_full_backward_hooks\u001b[0m \u001b[0;34m=\u001b[0m \u001b[0;34m[\u001b[0m\u001b[0;34m]\u001b[0m\u001b[0;34m,\u001b[0m \u001b[0;34m[\u001b[0m\u001b[0;34m]\u001b[0m\u001b[0;34m\u001b[0m\u001b[0;34m\u001b[0m\u001b[0m\n",
      "\u001b[0;32m/opt/conda/envs/ilan/lib/python3.9/site-packages/torch/nn/modules/conv.py\u001b[0m in \u001b[0;36mforward\u001b[0;34m(self, input)\u001b[0m\n\u001b[1;32m    441\u001b[0m \u001b[0;34m\u001b[0m\u001b[0m\n\u001b[1;32m    442\u001b[0m     \u001b[0;32mdef\u001b[0m \u001b[0mforward\u001b[0m\u001b[0;34m(\u001b[0m\u001b[0mself\u001b[0m\u001b[0;34m,\u001b[0m \u001b[0minput\u001b[0m\u001b[0;34m:\u001b[0m \u001b[0mTensor\u001b[0m\u001b[0;34m)\u001b[0m \u001b[0;34m->\u001b[0m \u001b[0mTensor\u001b[0m\u001b[0;34m:\u001b[0m\u001b[0;34m\u001b[0m\u001b[0;34m\u001b[0m\u001b[0m\n\u001b[0;32m--> 443\u001b[0;31m         \u001b[0;32mreturn\u001b[0m \u001b[0mself\u001b[0m\u001b[0;34m.\u001b[0m\u001b[0m_conv_forward\u001b[0m\u001b[0;34m(\u001b[0m\u001b[0minput\u001b[0m\u001b[0;34m,\u001b[0m \u001b[0mself\u001b[0m\u001b[0;34m.\u001b[0m\u001b[0mweight\u001b[0m\u001b[0;34m,\u001b[0m \u001b[0mself\u001b[0m\u001b[0;34m.\u001b[0m\u001b[0mbias\u001b[0m\u001b[0;34m)\u001b[0m\u001b[0;34m\u001b[0m\u001b[0;34m\u001b[0m\u001b[0m\n\u001b[0m\u001b[1;32m    444\u001b[0m \u001b[0;34m\u001b[0m\u001b[0m\n\u001b[1;32m    445\u001b[0m \u001b[0;32mclass\u001b[0m \u001b[0mConv3d\u001b[0m\u001b[0;34m(\u001b[0m\u001b[0m_ConvNd\u001b[0m\u001b[0;34m)\u001b[0m\u001b[0;34m:\u001b[0m\u001b[0;34m\u001b[0m\u001b[0;34m\u001b[0m\u001b[0m\n",
      "\u001b[0;32m/opt/conda/envs/ilan/lib/python3.9/site-packages/torch/nn/modules/conv.py\u001b[0m in \u001b[0;36m_conv_forward\u001b[0;34m(self, input, weight, bias)\u001b[0m\n\u001b[1;32m    437\u001b[0m                             \u001b[0mweight\u001b[0m\u001b[0;34m,\u001b[0m \u001b[0mbias\u001b[0m\u001b[0;34m,\u001b[0m \u001b[0mself\u001b[0m\u001b[0;34m.\u001b[0m\u001b[0mstride\u001b[0m\u001b[0;34m,\u001b[0m\u001b[0;34m\u001b[0m\u001b[0;34m\u001b[0m\u001b[0m\n\u001b[1;32m    438\u001b[0m                             _pair(0), self.dilation, self.groups)\n\u001b[0;32m--> 439\u001b[0;31m         return F.conv2d(input, weight, bias, self.stride,\n\u001b[0m\u001b[1;32m    440\u001b[0m                         self.padding, self.dilation, self.groups)\n\u001b[1;32m    441\u001b[0m \u001b[0;34m\u001b[0m\u001b[0m\n",
      "\u001b[0;31mRuntimeError\u001b[0m: Given groups=1, weight of size [64, 3, 3, 3], expected input[1, 2, 16, 16] to have 3 channels, but got 2 channels instead"
     ]
    }
   ],
   "source": [
    "ens_pred_stitched = create_valid_ensemble(model, ds_test, members, stitched=True, zero_noise=zero_noise)"
   ]
  },
  {
   "cell_type": "code",
   "execution_count": null,
   "id": "1275f141",
   "metadata": {
    "Collapsed": "false"
   },
   "outputs": [],
   "source": [
    "ens_pred.to_netcdf(f'tmp/ens_pred_{name}.nc')\n",
    "ens_pred_stitched.to_netcdf(f'tmp/ens_pred_stitched_{name}.nc')"
   ]
  },
  {
   "cell_type": "code",
   "execution_count": null,
   "id": "a570268b",
   "metadata": {
    "Collapsed": "false"
   },
   "outputs": [],
   "source": [
    "ens_pred.isel(valid_time=1).plot(vmin=0, vmax=20, cmap='gist_ncar_r', col='member')"
   ]
  },
  {
   "cell_type": "markdown",
   "id": "aa517491",
   "metadata": {
    "Collapsed": "false"
   },
   "source": [
    "## Get ground truth"
   ]
  },
  {
   "cell_type": "code",
   "execution_count": null,
   "id": "eed9be4b",
   "metadata": {
    "Collapsed": "false"
   },
   "outputs": [],
   "source": [
    "mrms = ds_test.mrms.rename(\n",
    "    {'time': 'valid_time'}) * ds_test.maxs.tp.values\n",
    "mrms = log_retrans(mrms, ds_test.tp_log)"
   ]
  },
  {
   "cell_type": "code",
   "execution_count": null,
   "id": "6f9b0490",
   "metadata": {
    "Collapsed": "false"
   },
   "outputs": [],
   "source": [
    "mrms.to_netcdf('tmp/mrms.nc')"
   ]
  },
  {
   "cell_type": "markdown",
   "id": "4d930c42",
   "metadata": {
    "Collapsed": "false"
   },
   "source": [
    "## Get interpolation baseline"
   ]
  },
  {
   "cell_type": "code",
   "execution_count": null,
   "id": "56bc0bab",
   "metadata": {
    "Collapsed": "false"
   },
   "outputs": [],
   "source": [
    "tigge = ds_test.tigge.isel(variable=0) * ds_test.maxs.tp.values\n",
    "tigge = log_retrans(tigge, ds_test.tp_log)"
   ]
  },
  {
   "cell_type": "code",
   "execution_count": null,
   "id": "8f697533",
   "metadata": {
    "Collapsed": "false"
   },
   "outputs": [],
   "source": [
    "interp = tigge.interp_like(mrms, method='linear')"
   ]
  },
  {
   "cell_type": "code",
   "execution_count": null,
   "id": "78d6bd42",
   "metadata": {
    "Collapsed": "false"
   },
   "outputs": [],
   "source": [
    "interp.to_netcdf('tmp/interp_ens.nc')"
   ]
  },
  {
   "cell_type": "markdown",
   "id": "27247084",
   "metadata": {
    "Collapsed": "false"
   },
   "source": [
    "### HREF"
   ]
  },
  {
   "cell_type": "code",
   "execution_count": null,
   "id": "fff0b9db",
   "metadata": {
    "Collapsed": "false"
   },
   "outputs": [],
   "source": [
    "href = xr.open_mfdataset('/home/jupyter/data/hrefv2//4km/total_precipitation/2020*.nc')"
   ]
  },
  {
   "cell_type": "code",
   "execution_count": null,
   "id": "0478ef8f",
   "metadata": {
    "Collapsed": "false"
   },
   "outputs": [],
   "source": [
    "href = href.tp.diff('lead_time').sel(lead_time=np.timedelta64(12, 'h'))"
   ]
  },
  {
   "cell_type": "code",
   "execution_count": null,
   "id": "6910fa06",
   "metadata": {
    "Collapsed": "false"
   },
   "outputs": [],
   "source": [
    "href['valid_time'] = href.init_time + href.lead_time\n",
    "href = href.swap_dims({'init_time': 'valid_time'})"
   ]
  },
  {
   "cell_type": "code",
   "execution_count": null,
   "id": "8a59f2ff",
   "metadata": {
    "Collapsed": "false"
   },
   "outputs": [],
   "source": [
    "href = href.assign_coords({'lat': interp.lat.values, 'lon': interp.lon.values})"
   ]
  },
  {
   "cell_type": "code",
   "execution_count": null,
   "id": "4db2430a",
   "metadata": {
    "Collapsed": "false"
   },
   "outputs": [],
   "source": [
    "overlap_times = np.intersect1d(interp.valid_time, href.valid_time)"
   ]
  },
  {
   "cell_type": "code",
   "execution_count": null,
   "id": "f42bea7c",
   "metadata": {
    "Collapsed": "false"
   },
   "outputs": [],
   "source": [
    "href = href.sel(valid_time=overlap_times)"
   ]
  },
  {
   "cell_type": "code",
   "execution_count": null,
   "id": "f8adedf7",
   "metadata": {
    "Collapsed": "false"
   },
   "outputs": [],
   "source": [
    "href.load();"
   ]
  },
  {
   "cell_type": "code",
   "execution_count": null,
   "id": "865ae512",
   "metadata": {
    "Collapsed": "false"
   },
   "outputs": [],
   "source": [
    "href.to_netcdf('tmp/href.nc')"
   ]
  },
  {
   "cell_type": "markdown",
   "id": "f7b6683d",
   "metadata": {
    "Collapsed": "false"
   },
   "source": [
    "# Old"
   ]
  },
  {
   "cell_type": "markdown",
   "id": "f8bd9505",
   "metadata": {
    "Collapsed": "false"
   },
   "source": [
    "## Get mask"
   ]
  },
  {
   "cell_type": "code",
   "execution_count": null,
   "id": "e48c5f48",
   "metadata": {
    "Collapsed": "false"
   },
   "outputs": [],
   "source": [
    "ds = xr.open_dataset(\n",
    "    '/home/jupyter/data/hrrr/raw/total_precipitation/20180215_00.nc')"
   ]
  },
  {
   "cell_type": "code",
   "execution_count": null,
   "id": "8ddc7de1",
   "metadata": {
    "Collapsed": "false"
   },
   "outputs": [],
   "source": [
    "from src.regrid import *"
   ]
  },
  {
   "cell_type": "code",
   "execution_count": null,
   "id": "81826f24",
   "metadata": {
    "Collapsed": "false"
   },
   "outputs": [],
   "source": [
    "ds_regridded = regrid(ds, 4, lons=(235, 290), lats=(50, 20))"
   ]
  },
  {
   "cell_type": "code",
   "execution_count": null,
   "id": "3ef8d695",
   "metadata": {
    "Collapsed": "false"
   },
   "outputs": [],
   "source": [
    "hrrr_mask = np.isfinite(ds_regridded).tp.isel(init_time=0, lead_time=0)"
   ]
  },
  {
   "cell_type": "code",
   "execution_count": null,
   "id": "a42ab74a",
   "metadata": {
    "Collapsed": "false"
   },
   "outputs": [],
   "source": [
    "rq.plot(vmin=0, vmax=1)"
   ]
  },
  {
   "cell_type": "code",
   "execution_count": null,
   "id": "34db134f",
   "metadata": {
    "Collapsed": "false"
   },
   "outputs": [],
   "source": [
    "(rq>0.3).plot(vmin=0, vmax=1)"
   ]
  },
  {
   "cell_type": "code",
   "execution_count": null,
   "id": "5c7426a0",
   "metadata": {
    "Collapsed": "false"
   },
   "outputs": [],
   "source": [
    "mrms_mask.plot(vmin=0, vmax=1)"
   ]
  },
  {
   "cell_type": "code",
   "execution_count": null,
   "id": "40333310",
   "metadata": {
    "Collapsed": "false"
   },
   "outputs": [],
   "source": [
    "rq = xr.open_dataarray(f'{DATADRIVE}/mrms/4km/RadarQuality.nc')\n",
    "mrms_mask = rq>-1\n",
    "mrms_mask = mrms_mask.assign_coords({\n",
    "    'lat': hrrr_mask.lat,\n",
    "    'lon': hrrr_mask.lon\n",
    "})"
   ]
  },
  {
   "cell_type": "code",
   "execution_count": null,
   "id": "d2b61a29",
   "metadata": {
    "Collapsed": "false"
   },
   "outputs": [],
   "source": [
    "total_mask = mrms_mask * hrrr_mask"
   ]
  },
  {
   "cell_type": "code",
   "execution_count": null,
   "id": "5089d328",
   "metadata": {
    "Collapsed": "false"
   },
   "outputs": [],
   "source": [
    "total_mask = total_mask.isel(lat=slice(0, -6))"
   ]
  },
  {
   "cell_type": "code",
   "execution_count": null,
   "id": "3f8b5587",
   "metadata": {
    "Collapsed": "false"
   },
   "outputs": [],
   "source": [
    "total_mask = total_mask.assign_coords({'lat': interp.lat.values, 'lon': interp.lon.values})"
   ]
  },
  {
   "cell_type": "code",
   "execution_count": null,
   "id": "3e4973dc",
   "metadata": {
    "Collapsed": "false"
   },
   "outputs": [],
   "source": [
    "total_mask.plot()"
   ]
  },
  {
   "cell_type": "markdown",
   "id": "06006ae3",
   "metadata": {
    "Collapsed": "false"
   },
   "source": [
    "## Compute scores"
   ]
  },
  {
   "cell_type": "code",
   "execution_count": null,
   "id": "5f311085",
   "metadata": {
    "Collapsed": "false"
   },
   "outputs": [],
   "source": [
    "hrrr = hrrr.isel(lat=slice(0, -6))"
   ]
  },
  {
   "cell_type": "code",
   "execution_count": null,
   "id": "9ea5caa7",
   "metadata": {
    "Collapsed": "false"
   },
   "outputs": [],
   "source": [
    "hrrr = hrrr.assign_coords({'lat': interp.lat.values, 'lon': interp.lon.values})"
   ]
  },
  {
   "cell_type": "code",
   "execution_count": null,
   "id": "5cbdb643",
   "metadata": {
    "Collapsed": "false"
   },
   "outputs": [],
   "source": [
    "# Apply mask\n",
    "mrms = mrms.where(total_mask)\n",
    "det_pred = det_pred.where(total_mask)\n",
    "hrrr = hrrr.where(total_mask)\n",
    "interp = interp.where(total_mask)"
   ]
  },
  {
   "cell_type": "code",
   "execution_count": null,
   "id": "5fb39eca",
   "metadata": {
    "Collapsed": "false"
   },
   "outputs": [],
   "source": [
    "det_pred2 = det_pred2.where(total_mask)\n"
   ]
  },
  {
   "cell_type": "code",
   "execution_count": null,
   "id": "4d13ab3f",
   "metadata": {
    "Collapsed": "false"
   },
   "outputs": [],
   "source": [
    "hrrr.load()"
   ]
  },
  {
   "cell_type": "markdown",
   "id": "8a0997aa",
   "metadata": {
    "Collapsed": "false"
   },
   "source": [
    "## Bias"
   ]
  },
  {
   "cell_type": "code",
   "execution_count": null,
   "id": "380b144a",
   "metadata": {
    "Collapsed": "false"
   },
   "outputs": [],
   "source": [
    "mrms.mean().values"
   ]
  },
  {
   "cell_type": "code",
   "execution_count": null,
   "id": "772ec02e",
   "metadata": {
    "Collapsed": "false"
   },
   "outputs": [],
   "source": [
    "det_pred.mean().values"
   ]
  },
  {
   "cell_type": "code",
   "execution_count": null,
   "id": "04587f7c",
   "metadata": {
    "Collapsed": "false"
   },
   "outputs": [],
   "source": [
    "interp.mean().values"
   ]
  },
  {
   "cell_type": "code",
   "execution_count": null,
   "id": "f16b09e2",
   "metadata": {
    "Collapsed": "false"
   },
   "outputs": [],
   "source": [
    "hrrr.mean().values"
   ]
  },
  {
   "cell_type": "markdown",
   "id": "1957e5b3",
   "metadata": {
    "Collapsed": "false"
   },
   "source": [
    "### Histograms"
   ]
  },
  {
   "cell_type": "code",
   "execution_count": null,
   "id": "214ead45",
   "metadata": {
    "Collapsed": "false"
   },
   "outputs": [],
   "source": [
    "bins = np.logspace(0, 2, 25)-1\n",
    "mid_bin = (bins[1:] + bins[:-1])/2"
   ]
  },
  {
   "cell_type": "code",
   "execution_count": null,
   "id": "e8617e0f",
   "metadata": {
    "Collapsed": "false"
   },
   "outputs": [],
   "source": [
    "def plot_hist(ds, bins, label):\n",
    "    nums, bins = np.histogram(ds.values, bins=bins)\n",
    "    plt.plot(mid_bin, nums, marker='o', label=label)"
   ]
  },
  {
   "cell_type": "code",
   "execution_count": null,
   "id": "e7a5e727",
   "metadata": {
    "Collapsed": "false"
   },
   "outputs": [],
   "source": [
    "plt.figure(figsize=(10, 5))\n",
    "plot_hist(det_pred, bins, 'GAN')\n",
    "plot_hist(mrms, bins, 'Obs')\n",
    "plot_hist(interp, bins, 'Interp')\n",
    "plot_hist(hrrr, bins, 'HRRR')\n",
    "plt.yscale('log')\n",
    "plt.legend()"
   ]
  },
  {
   "cell_type": "markdown",
   "id": "89a53143",
   "metadata": {
    "Collapsed": "false"
   },
   "source": [
    "### RMSE"
   ]
  },
  {
   "cell_type": "code",
   "execution_count": null,
   "id": "d8127dc7",
   "metadata": {
    "Collapsed": "false"
   },
   "outputs": [],
   "source": [
    "xs.rmse(det_pred, mrms, dim=['lat', 'lon', 'valid_time'], skipna=True).values"
   ]
  },
  {
   "cell_type": "code",
   "execution_count": null,
   "id": "09edcbca",
   "metadata": {
    "Collapsed": "false"
   },
   "outputs": [],
   "source": [
    "xs.rmse(interp, mrms, dim=['lat', 'lon', 'valid_time'], skipna=True).values"
   ]
  },
  {
   "cell_type": "code",
   "execution_count": null,
   "id": "6e7fce7f",
   "metadata": {
    "Collapsed": "false"
   },
   "outputs": [],
   "source": [
    "xs.rmse(hrrr, mrms, dim=['lat', 'lon', 'valid_time'], skipna=True).values"
   ]
  },
  {
   "cell_type": "markdown",
   "id": "59c0e77f",
   "metadata": {
    "Collapsed": "false"
   },
   "source": [
    "### FSS"
   ]
  },
  {
   "cell_type": "code",
   "execution_count": null,
   "id": "51b2b6bd",
   "metadata": {
    "Collapsed": "false"
   },
   "outputs": [],
   "source": [
    "thresh = 10\n",
    "window = 100 // 4"
   ]
  },
  {
   "cell_type": "code",
   "execution_count": null,
   "id": "56004886",
   "metadata": {
    "Collapsed": "false"
   },
   "outputs": [],
   "source": [
    "def compute_fss(f, o, thresh, window, time_mean=True):\n",
    "    f_thresh = f > thresh\n",
    "    o_thresh = o > thresh\n",
    "    f_frac = f_thresh.rolling({'lat': window, 'lon': window}, center=True).mean()\n",
    "    o_frac = o_thresh.rolling({'lat': window, 'lon': window}, center=True).mean()\n",
    "    mse = ((f_frac - o_frac)**2).mean(('lat', 'lon'))\n",
    "    mse_ref = (f_frac**2).mean(('lat', 'lon')) + (o_frac**2).mean(('lat', 'lon'))\n",
    "    fss = 1 - mse / mse_ref\n",
    "    if time_mean:\n",
    "        fss = fss.mean('valid_time')\n",
    "    return fss"
   ]
  },
  {
   "cell_type": "code",
   "execution_count": null,
   "id": "5ab69b74",
   "metadata": {
    "Collapsed": "false"
   },
   "outputs": [],
   "source": [
    "compute_fss(mrms, det_pred, thresh, window).values"
   ]
  },
  {
   "cell_type": "code",
   "execution_count": null,
   "id": "bc29169d",
   "metadata": {
    "Collapsed": "false"
   },
   "outputs": [],
   "source": [
    "compute_fss(mrms, interp, thresh, window).values"
   ]
  },
  {
   "cell_type": "code",
   "execution_count": null,
   "id": "9a1ccc89",
   "metadata": {
    "Collapsed": "false"
   },
   "outputs": [],
   "source": [
    "compute_fss(mrms, hrrr, thresh, window).values"
   ]
  },
  {
   "cell_type": "code",
   "execution_count": null,
   "id": "634a7b94",
   "metadata": {
    "Collapsed": "false"
   },
   "outputs": [],
   "source": []
  },
  {
   "cell_type": "code",
   "execution_count": null,
   "id": "69106762",
   "metadata": {
    "Collapsed": "false"
   },
   "outputs": [],
   "source": [
    "fig, ax = plt.subplots(figsize=(20, 10))\n",
    "det_pred.isel(valid_time=2).plot(vmin=0, vmax=20)\n",
    "ax.set_aspect('equal')"
   ]
  },
  {
   "cell_type": "code",
   "execution_count": null,
   "id": "9ad391bd",
   "metadata": {
    "Collapsed": "false"
   },
   "outputs": [],
   "source": [
    "fig, ax = plt.subplots(figsize=(20, 10))\n",
    "det_pred2.isel(valid_time=2).plot(vmin=0, vmax=20)\n",
    "ax.set_aspect('equal')"
   ]
  },
  {
   "cell_type": "code",
   "execution_count": null,
   "id": "5c2f3ff0",
   "metadata": {
    "Collapsed": "false"
   },
   "outputs": [],
   "source": [
    "fig, ax = plt.subplots(figsize=(20, 10))\n",
    "mrms.isel(valid_time=2).plot(vmin=0, vmax=20)\n",
    "ax.set_aspect('equal')"
   ]
  },
  {
   "cell_type": "code",
   "execution_count": null,
   "id": "914f9dac",
   "metadata": {
    "Collapsed": "false"
   },
   "outputs": [],
   "source": [
    "fig, ax = plt.subplots(figsize=(20, 10))\n",
    "interp.isel(valid_time=2).plot(vmin=0, vmax=20)\n",
    "ax.set_aspect('equal')"
   ]
  },
  {
   "cell_type": "code",
   "execution_count": null,
   "id": "fb861e6a",
   "metadata": {
    "Collapsed": "false"
   },
   "outputs": [],
   "source": [
    "fig, ax = plt.subplots(figsize=(20, 10))\n",
    "hrrr.isel(valid_time=2).plot(vmin=0, vmax=20)\n",
    "ax.set_aspect('equal')"
   ]
  },
  {
   "cell_type": "code",
   "execution_count": null,
   "id": "f0a152e2",
   "metadata": {
    "Collapsed": "false"
   },
   "outputs": [],
   "source": []
  },
  {
   "cell_type": "code",
   "execution_count": null,
   "id": "ddc449fc",
   "metadata": {
    "Collapsed": "false"
   },
   "outputs": [],
   "source": [
    "interp[50].plot(vmin=0, vmax=20)"
   ]
  },
  {
   "cell_type": "code",
   "execution_count": null,
   "id": "8b0a689c",
   "metadata": {
    "Collapsed": "false"
   },
   "outputs": [],
   "source": [
    "hrrr[50].plot(vmin=0, vmax=20)"
   ]
  },
  {
   "cell_type": "code",
   "execution_count": null,
   "id": "a189fd10",
   "metadata": {
    "Collapsed": "false"
   },
   "outputs": [],
   "source": [
    "\n",
    " eps = 1e-6\n",
    "bin_edges = [-eps] + np.linspace(eps, log_retrans(ds_max, tp_log)+eps, 51).tolist()\n",
    "pred_means.append(np.mean(preds.sel(member=0)))\n",
    "pred_hists.append(np.histogram(preds.sel(member=0), bins = bin_edges, density=False)[0])\n",
    "truth_means.append(np.mean(truth))\n",
    "truth_hists.append(np.histogram(truth, bins = bin_edges, density=False)[0])\n",
    "\n",
    "truth_pert = truth + np.random.normal(scale=1e-6, size=truth.shape)\n",
    "preds_pert = preds + np.random.normal(scale=1e-6, size=preds.shape) \n"
   ]
  },
  {
   "cell_type": "code",
   "execution_count": null,
   "id": "f87d8b62",
   "metadata": {
    "Collapsed": "false"
   },
   "outputs": [],
   "source": []
  },
  {
   "cell_type": "code",
   "execution_count": null,
   "id": "57fde68a",
   "metadata": {
    "Collapsed": "false"
   },
   "outputs": [],
   "source": []
  },
  {
   "cell_type": "code",
   "execution_count": null,
   "id": "f1ed50d8",
   "metadata": {
    "Collapsed": "false"
   },
   "outputs": [],
   "source": []
  },
  {
   "cell_type": "code",
   "execution_count": null,
   "id": "3ad63e77",
   "metadata": {
    "Collapsed": "false"
   },
   "outputs": [],
   "source": []
  },
  {
   "cell_type": "code",
   "execution_count": null,
   "id": "3bcb27b5",
   "metadata": {
    "Collapsed": "false"
   },
   "outputs": [],
   "source": []
  },
  {
   "cell_type": "code",
   "execution_count": null,
   "id": "29ff522b",
   "metadata": {
    "Collapsed": "false"
   },
   "outputs": [],
   "source": []
  },
  {
   "cell_type": "code",
   "execution_count": null,
   "id": "bc6170ff",
   "metadata": {
    "Collapsed": "false"
   },
   "outputs": [],
   "source": []
  },
  {
   "cell_type": "code",
   "execution_count": null,
   "id": "cbcbc74a",
   "metadata": {
    "Collapsed": "false"
   },
   "outputs": [],
   "source": []
  },
  {
   "cell_type": "code",
   "execution_count": null,
   "id": "9199f332",
   "metadata": {
    "Collapsed": "false"
   },
   "outputs": [],
   "source": []
  },
  {
   "cell_type": "code",
   "execution_count": null,
   "id": "7abca51f",
   "metadata": {
    "Collapsed": "false"
   },
   "outputs": [],
   "source": []
  },
  {
   "cell_type": "code",
   "execution_count": null,
   "id": "36f41225",
   "metadata": {
    "Collapsed": "false"
   },
   "outputs": [],
   "source": []
  },
  {
   "cell_type": "code",
   "execution_count": null,
   "id": "06d02e95",
   "metadata": {
    "Collapsed": "false"
   },
   "outputs": [],
   "source": []
  },
  {
   "cell_type": "code",
   "execution_count": null,
   "id": "ce93bb7c",
   "metadata": {
    "Collapsed": "false"
   },
   "outputs": [],
   "source": []
  },
  {
   "cell_type": "code",
   "execution_count": null,
   "id": "a1137ce6",
   "metadata": {
    "Collapsed": "false"
   },
   "outputs": [],
   "source": []
  },
  {
   "cell_type": "code",
   "execution_count": null,
   "id": "0fb076b6",
   "metadata": {
    "Collapsed": "false"
   },
   "outputs": [],
   "source": []
  },
  {
   "cell_type": "code",
   "execution_count": null,
   "id": "2fa83be6",
   "metadata": {
    "Collapsed": "false"
   },
   "outputs": [],
   "source": []
  },
  {
   "cell_type": "code",
   "execution_count": null,
   "id": "b4d9eb78",
   "metadata": {
    "Collapsed": "false"
   },
   "outputs": [],
   "source": []
  },
  {
   "cell_type": "code",
   "execution_count": null,
   "id": "ce9c3c8a",
   "metadata": {
    "Collapsed": "false"
   },
   "outputs": [],
   "source": []
  },
  {
   "cell_type": "code",
   "execution_count": null,
   "id": "384e99d1",
   "metadata": {
    "Collapsed": "false"
   },
   "outputs": [],
   "source": []
  },
  {
   "cell_type": "code",
   "execution_count": null,
   "id": "cf64f894",
   "metadata": {
    "Collapsed": "false"
   },
   "outputs": [],
   "source": []
  },
  {
   "cell_type": "code",
   "execution_count": null,
   "id": "d6fc2b49",
   "metadata": {
    "Collapsed": "false"
   },
   "outputs": [],
   "source": []
  },
  {
   "cell_type": "code",
   "execution_count": null,
   "id": "c9184d61",
   "metadata": {
    "Collapsed": "false"
   },
   "outputs": [],
   "source": []
  },
  {
   "cell_type": "code",
   "execution_count": null,
   "id": "93dbfbf7",
   "metadata": {
    "Collapsed": "false"
   },
   "outputs": [],
   "source": []
  },
  {
   "cell_type": "code",
   "execution_count": null,
   "id": "1ff8f132",
   "metadata": {
    "Collapsed": "false"
   },
   "outputs": [],
   "source": []
  },
  {
   "cell_type": "code",
   "execution_count": null,
   "id": "df568b84",
   "metadata": {
    "Collapsed": "false"
   },
   "outputs": [],
   "source": []
  },
  {
   "cell_type": "code",
   "execution_count": null,
   "id": "1c47273a",
   "metadata": {
    "Collapsed": "false"
   },
   "outputs": [],
   "source": []
  },
  {
   "cell_type": "code",
   "execution_count": null,
   "id": "89911769",
   "metadata": {
    "Collapsed": "false"
   },
   "outputs": [],
   "source": []
  },
  {
   "cell_type": "code",
   "execution_count": null,
   "id": "5d8aed3a",
   "metadata": {
    "Collapsed": "false"
   },
   "outputs": [],
   "source": []
  },
  {
   "cell_type": "code",
   "execution_count": null,
   "id": "4e4ded51",
   "metadata": {
    "Collapsed": "false"
   },
   "outputs": [],
   "source": []
  },
  {
   "cell_type": "code",
   "execution_count": null,
   "id": "c9f5ede0",
   "metadata": {
    "Collapsed": "false"
   },
   "outputs": [],
   "source": []
  },
  {
   "cell_type": "code",
   "execution_count": null,
   "id": "3094cd8b",
   "metadata": {
    "Collapsed": "false"
   },
   "outputs": [],
   "source": []
  },
  {
   "cell_type": "code",
   "execution_count": null,
   "id": "d3043698",
   "metadata": {
    "Collapsed": "false"
   },
   "outputs": [],
   "source": []
  },
  {
   "cell_type": "code",
   "execution_count": null,
   "id": "45c7755e",
   "metadata": {
    "Collapsed": "false"
   },
   "outputs": [],
   "source": []
  },
  {
   "cell_type": "code",
   "execution_count": null,
   "id": "1d991194",
   "metadata": {
    "Collapsed": "false"
   },
   "outputs": [],
   "source": []
  },
  {
   "cell_type": "code",
   "execution_count": null,
   "id": "0e227dd0",
   "metadata": {
    "Collapsed": "false"
   },
   "outputs": [],
   "source": []
  },
  {
   "cell_type": "code",
   "execution_count": null,
   "id": "bd41a185",
   "metadata": {
    "Collapsed": "false"
   },
   "outputs": [],
   "source": []
  },
  {
   "cell_type": "code",
   "execution_count": null,
   "id": "2c9c39dd",
   "metadata": {
    "Collapsed": "false"
   },
   "outputs": [],
   "source": []
  }
 ],
 "metadata": {
  "environment": {
   "name": "common-cu110.m78",
   "type": "gcloud",
   "uri": "gcr.io/deeplearning-platform-release/base-cu110:m78"
  },
  "kernelspec": {
   "display_name": "Python [conda env:ilan]",
   "language": "python",
   "name": "conda-env-ilan-py"
  },
  "language_info": {
   "codemirror_mode": {
    "name": "ipython",
    "version": 3
   },
   "file_extension": ".py",
   "mimetype": "text/x-python",
   "name": "python",
   "nbconvert_exporter": "python",
   "pygments_lexer": "ipython3",
   "version": "3.9.5"
  }
 },
 "nbformat": 4,
 "nbformat_minor": 5
}
