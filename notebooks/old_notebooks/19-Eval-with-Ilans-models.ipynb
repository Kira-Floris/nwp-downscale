{
 "cells": [
  {
   "cell_type": "code",
   "execution_count": 1,
   "id": "70a02c1c",
   "metadata": {},
   "outputs": [],
   "source": [
    "%load_ext autoreload\n",
    "%autoreload 2"
   ]
  },
  {
   "cell_type": "code",
   "execution_count": 9,
   "id": "4f6227b7",
   "metadata": {},
   "outputs": [],
   "source": [
    "import torch\n",
    "from torch.nn import functional as F\n",
    "from torch import nn\n",
    "from pytorch_lightning.core.lightning import LightningModule\n",
    "import pytorch_lightning as pl\n",
    "\n",
    "import torch.optim as optim\n",
    "import torchvision\n",
    "import torchvision.datasets as datasets\n",
    "import torchvision.transforms as transforms\n",
    "from torch.utils.data import DataLoader\n",
    "\n",
    "# from src.models import *\n",
    "from ilan_src.models import *\n",
    "from src.dataloader import *\n",
    "from src.utils import *\n",
    "from src.evaluation import *\n",
    "\n",
    "import xarray as xr\n",
    "import numpy as np\n",
    "import matplotlib.pyplot as plt\n",
    "\n",
    "import pickle\n",
    "\n",
    "if torch.cuda.is_available():\n",
    "    device = torch.device(\"cuda\") \n",
    "else:\n",
    "    device = torch.device(\"cpu\")"
   ]
  },
  {
   "cell_type": "code",
   "execution_count": 15,
   "id": "60d3a0ca",
   "metadata": {},
   "outputs": [
    {
     "ename": "RuntimeError",
     "evalue": "version_ <= kMaxSupportedFileFormatVersion INTERNAL ASSERT FAILED at /opt/conda/conda-bld/pytorch_1579022060824/work/caffe2/serialize/inline_container.cc:132, please report a bug to PyTorch. Attempted to read a PyTorch file with version 3, but the maximum supported version for reading is 2. Your PyTorch installation may be too old. (init at /opt/conda/conda-bld/pytorch_1579022060824/work/caffe2/serialize/inline_container.cc:132)\nframe #0: c10::Error::Error(c10::SourceLocation, std::string const&) + 0x47 (0x7fcf804e0627 in /opt/conda/lib/python3.7/site-packages/torch/lib/libc10.so)\nframe #1: caffe2::serialize::PyTorchStreamReader::init() + 0x1f5b (0x7fcf4ec869ab in /opt/conda/lib/python3.7/site-packages/torch/lib/libtorch.so)\nframe #2: caffe2::serialize::PyTorchStreamReader::PyTorchStreamReader(std::unique_ptr<caffe2::serialize::ReadAdapterInterface, std::default_delete<caffe2::serialize::ReadAdapterInterface> >) + 0x57 (0x7fcf4ec87af7 in /opt/conda/lib/python3.7/site-packages/torch/lib/libtorch.so)\nframe #3: <unknown function> + 0x6b0792 (0x7fcf80fe2792 in /opt/conda/lib/python3.7/site-packages/torch/lib/libtorch_python.so)\nframe #4: <unknown function> + 0x28ba06 (0x7fcf80bbda06 in /opt/conda/lib/python3.7/site-packages/torch/lib/libtorch_python.so)\nframe #5: _PyMethodDef_RawFastCallDict + 0x1f4 (0x557c1aae6794 in /opt/conda/bin/python)\nframe #6: <unknown function> + 0x164efa (0x557c1ab2defa in /opt/conda/bin/python)\nframe #7: PyObject_Call + 0x6c (0x557c1aaca08c in /opt/conda/bin/python)\nframe #8: <unknown function> + 0x166a6f (0x557c1ab2fa6f in /opt/conda/bin/python)\nframe #9: _PyObject_FastCallKeywords + 0x18c (0x557c1ab5775c in /opt/conda/bin/python)\nframe #10: <unknown function> + 0x18fb59 (0x557c1ab58b59 in /opt/conda/bin/python)\nframe #11: _PyEval_EvalFrameDefault + 0x4c0a (0x557c1ab8374a in /opt/conda/bin/python)\nframe #12: _PyEval_EvalCodeWithName + 0x242 (0x557c1aac6af2 in /opt/conda/bin/python)\nframe #13: _PyFunction_FastCallDict + 0x35d (0x557c1aac806d in /opt/conda/bin/python)\nframe #14: <unknown function> + 0x1668ac (0x557c1ab2f8ac in /opt/conda/bin/python)\nframe #15: _PyObject_FastCallKeywords + 0x18c (0x557c1ab5775c in /opt/conda/bin/python)\nframe #16: <unknown function> + 0x18fb59 (0x557c1ab58b59 in /opt/conda/bin/python)\nframe #17: _PyEval_EvalFrameDefault + 0x96c (0x557c1ab7f4ac in /opt/conda/bin/python)\nframe #18: _PyEval_EvalCodeWithName + 0x242 (0x557c1aac6af2 in /opt/conda/bin/python)\nframe #19: _PyFunction_FastCallKeywords + 0x320 (0x557c1aaf5030 in /opt/conda/bin/python)\nframe #20: <unknown function> + 0x18f9c8 (0x557c1ab589c8 in /opt/conda/bin/python)\nframe #21: _PyEval_EvalFrameDefault + 0x1699 (0x557c1ab801d9 in /opt/conda/bin/python)\nframe #22: _PyEval_EvalCodeWithName + 0x242 (0x557c1aac6af2 in /opt/conda/bin/python)\nframe #23: _PyFunction_FastCallKeywords + 0x320 (0x557c1aaf5030 in /opt/conda/bin/python)\nframe #24: <unknown function> + 0x18f9c8 (0x557c1ab589c8 in /opt/conda/bin/python)\nframe #25: _PyEval_EvalFrameDefault + 0x1699 (0x557c1ab801d9 in /opt/conda/bin/python)\nframe #26: _PyEval_EvalCodeWithName + 0x242 (0x557c1aac6af2 in /opt/conda/bin/python)\nframe #27: _PyFunction_FastCallKeywords + 0x320 (0x557c1aaf5030 in /opt/conda/bin/python)\nframe #28: <unknown function> + 0x18f9c8 (0x557c1ab589c8 in /opt/conda/bin/python)\nframe #29: _PyEval_EvalFrameDefault + 0x4c0a (0x557c1ab8374a in /opt/conda/bin/python)\nframe #30: _PyEval_EvalCodeWithName + 0x242 (0x557c1aac6af2 in /opt/conda/bin/python)\nframe #31: PyEval_EvalCodeEx + 0x39 (0x557c1aac7d09 in /opt/conda/bin/python)\nframe #32: PyEval_EvalCode + 0x1b (0x557c1aba28ab in /opt/conda/bin/python)\nframe #33: <unknown function> + 0x247c92 (0x557c1ac10c92 in /opt/conda/bin/python)\nframe #34: _PyMethodDef_RawFastCallKeywords + 0x68 (0x557c1ab57278 in /opt/conda/bin/python)\nframe #35: <unknown function> + 0x18fad8 (0x557c1ab58ad8 in /opt/conda/bin/python)\nframe #36: _PyEval_EvalFrameDefault + 0x96c (0x557c1ab7f4ac in /opt/conda/bin/python)\nframe #37: <unknown function> + 0x164ab3 (0x557c1ab2dab3 in /opt/conda/bin/python)\nframe #38: _PyEval_EvalFrameDefault + 0x1bc6 (0x557c1ab80706 in /opt/conda/bin/python)\nframe #39: <unknown function> + 0x164ab3 (0x557c1ab2dab3 in /opt/conda/bin/python)\nframe #40: _PyEval_EvalFrameDefault + 0x1bc6 (0x557c1ab80706 in /opt/conda/bin/python)\nframe #41: <unknown function> + 0x164ab3 (0x557c1ab2dab3 in /opt/conda/bin/python)\nframe #42: _PyMethodDescr_FastCallKeywords + 0x334 (0x557c1ab586c4 in /opt/conda/bin/python)\nframe #43: <unknown function> + 0x18fa9d (0x557c1ab58a9d in /opt/conda/bin/python)\nframe #44: _PyEval_EvalFrameDefault + 0xa04 (0x557c1ab7f544 in /opt/conda/bin/python)\nframe #45: _PyFunction_FastCallKeywords + 0x184 (0x557c1aaf4e94 in /opt/conda/bin/python)\nframe #46: <unknown function> + 0x18f9c8 (0x557c1ab589c8 in /opt/conda/bin/python)\nframe #47: _PyEval_EvalFrameDefault + 0x96c (0x557c1ab7f4ac in /opt/conda/bin/python)\nframe #48: _PyFunction_FastCallKeywords + 0x184 (0x557c1aaf4e94 in /opt/conda/bin/python)\nframe #49: <unknown function> + 0x18f9c8 (0x557c1ab589c8 in /opt/conda/bin/python)\nframe #50: _PyEval_EvalFrameDefault + 0xa04 (0x557c1ab7f544 in /opt/conda/bin/python)\nframe #51: _PyEval_EvalCodeWithName + 0x242 (0x557c1aac6af2 in /opt/conda/bin/python)\nframe #52: _PyFunction_FastCallDict + 0x698 (0x557c1aac83a8 in /opt/conda/bin/python)\nframe #53: <unknown function> + 0x164f93 (0x557c1ab2df93 in /opt/conda/bin/python)\nframe #54: PyObject_Call + 0x6c (0x557c1aaca08c in /opt/conda/bin/python)\nframe #55: _PyEval_EvalFrameDefault + 0x1f67 (0x557c1ab80aa7 in /opt/conda/bin/python)\nframe #56: _PyEval_EvalCodeWithName + 0x242 (0x557c1aac6af2 in /opt/conda/bin/python)\nframe #57: _PyFunction_FastCallKeywords + 0x320 (0x557c1aaf5030 in /opt/conda/bin/python)\nframe #58: <unknown function> + 0x18f9c8 (0x557c1ab589c8 in /opt/conda/bin/python)\nframe #59: _PyEval_EvalFrameDefault + 0x1699 (0x557c1ab801d9 in /opt/conda/bin/python)\nframe #60: <unknown function> + 0x17fabe (0x557c1ab48abe in /opt/conda/bin/python)\nframe #61: _PyMethodDef_RawFastCallKeywords + 0x68 (0x557c1ab57278 in /opt/conda/bin/python)\nframe #62: _PyCFunction_FastCallKeywords + 0x26 (0x557c1ab575b6 in /opt/conda/bin/python)\nframe #63: <unknown function> + 0x221bdf (0x557c1abeabdf in /opt/conda/bin/python)\n",
     "output_type": "error",
     "traceback": [
      "\u001b[0;31m---------------------------------------------------------------------------\u001b[0m",
      "\u001b[0;31mRuntimeError\u001b[0m                              Traceback (most recent call last)",
      "\u001b[0;32m<ipython-input-15-d8974535e02b>\u001b[0m in \u001b[0;36m<module>\u001b[0;34m\u001b[0m\n\u001b[0;32m----> 1\u001b[0;31m \u001b[0mgan\u001b[0m \u001b[0;34m=\u001b[0m \u001b[0mWGANGP\u001b[0m\u001b[0;34m.\u001b[0m\u001b[0mload_from_checkpoint\u001b[0m\u001b[0;34m(\u001b[0m\u001b[0;34m\"/home/jupyter/data/saved_models/wgan-gp/0/epoch=124-step=334999.ckpt\"\u001b[0m\u001b[0;34m)\u001b[0m\u001b[0;34m\u001b[0m\u001b[0;34m\u001b[0m\u001b[0m\n\u001b[0m",
      "\u001b[0;32m/opt/conda/lib/python3.7/site-packages/pytorch_lightning/core/saving.py\u001b[0m in \u001b[0;36mload_from_checkpoint\u001b[0;34m(cls, checkpoint_path, map_location, hparams_file, strict, **kwargs)\u001b[0m\n\u001b[1;32m    133\u001b[0m             \u001b[0mcheckpoint\u001b[0m \u001b[0;34m=\u001b[0m \u001b[0mpl_load\u001b[0m\u001b[0;34m(\u001b[0m\u001b[0mcheckpoint_path\u001b[0m\u001b[0;34m,\u001b[0m \u001b[0mmap_location\u001b[0m\u001b[0;34m=\u001b[0m\u001b[0mmap_location\u001b[0m\u001b[0;34m)\u001b[0m\u001b[0;34m\u001b[0m\u001b[0;34m\u001b[0m\u001b[0m\n\u001b[1;32m    134\u001b[0m         \u001b[0;32melse\u001b[0m\u001b[0;34m:\u001b[0m\u001b[0;34m\u001b[0m\u001b[0;34m\u001b[0m\u001b[0m\n\u001b[0;32m--> 135\u001b[0;31m             \u001b[0mcheckpoint\u001b[0m \u001b[0;34m=\u001b[0m \u001b[0mpl_load\u001b[0m\u001b[0;34m(\u001b[0m\u001b[0mcheckpoint_path\u001b[0m\u001b[0;34m,\u001b[0m \u001b[0mmap_location\u001b[0m\u001b[0;34m=\u001b[0m\u001b[0;32mlambda\u001b[0m \u001b[0mstorage\u001b[0m\u001b[0;34m,\u001b[0m \u001b[0mloc\u001b[0m\u001b[0;34m:\u001b[0m \u001b[0mstorage\u001b[0m\u001b[0;34m)\u001b[0m\u001b[0;34m\u001b[0m\u001b[0;34m\u001b[0m\u001b[0m\n\u001b[0m\u001b[1;32m    136\u001b[0m \u001b[0;34m\u001b[0m\u001b[0m\n\u001b[1;32m    137\u001b[0m         \u001b[0;32mif\u001b[0m \u001b[0mhparams_file\u001b[0m \u001b[0;32mis\u001b[0m \u001b[0;32mnot\u001b[0m \u001b[0;32mNone\u001b[0m\u001b[0;34m:\u001b[0m\u001b[0;34m\u001b[0m\u001b[0;34m\u001b[0m\u001b[0m\n",
      "\u001b[0;32m/opt/conda/lib/python3.7/site-packages/pytorch_lightning/utilities/cloud_io.py\u001b[0m in \u001b[0;36mload\u001b[0;34m(path_or_url, map_location)\u001b[0m\n\u001b[1;32m     31\u001b[0m     \u001b[0mfs\u001b[0m \u001b[0;34m=\u001b[0m \u001b[0mget_filesystem\u001b[0m\u001b[0;34m(\u001b[0m\u001b[0mpath_or_url\u001b[0m\u001b[0;34m)\u001b[0m\u001b[0;34m\u001b[0m\u001b[0;34m\u001b[0m\u001b[0m\n\u001b[1;32m     32\u001b[0m     \u001b[0;32mwith\u001b[0m \u001b[0mfs\u001b[0m\u001b[0;34m.\u001b[0m\u001b[0mopen\u001b[0m\u001b[0;34m(\u001b[0m\u001b[0mpath_or_url\u001b[0m\u001b[0;34m,\u001b[0m \u001b[0;34m\"rb\"\u001b[0m\u001b[0;34m)\u001b[0m \u001b[0;32mas\u001b[0m \u001b[0mf\u001b[0m\u001b[0;34m:\u001b[0m\u001b[0;34m\u001b[0m\u001b[0;34m\u001b[0m\u001b[0m\n\u001b[0;32m---> 33\u001b[0;31m         \u001b[0;32mreturn\u001b[0m \u001b[0mtorch\u001b[0m\u001b[0;34m.\u001b[0m\u001b[0mload\u001b[0m\u001b[0;34m(\u001b[0m\u001b[0mf\u001b[0m\u001b[0;34m,\u001b[0m \u001b[0mmap_location\u001b[0m\u001b[0;34m=\u001b[0m\u001b[0mmap_location\u001b[0m\u001b[0;34m)\u001b[0m\u001b[0;34m\u001b[0m\u001b[0;34m\u001b[0m\u001b[0m\n\u001b[0m\u001b[1;32m     34\u001b[0m \u001b[0;34m\u001b[0m\u001b[0m\n\u001b[1;32m     35\u001b[0m \u001b[0;34m\u001b[0m\u001b[0m\n",
      "\u001b[0;32m/opt/conda/lib/python3.7/site-packages/torch/serialization.py\u001b[0m in \u001b[0;36mload\u001b[0;34m(f, map_location, pickle_module, **pickle_load_args)\u001b[0m\n\u001b[1;32m    525\u001b[0m     \u001b[0;32mwith\u001b[0m \u001b[0m_open_file_like\u001b[0m\u001b[0;34m(\u001b[0m\u001b[0mf\u001b[0m\u001b[0;34m,\u001b[0m \u001b[0;34m'rb'\u001b[0m\u001b[0;34m)\u001b[0m \u001b[0;32mas\u001b[0m \u001b[0mopened_file\u001b[0m\u001b[0;34m:\u001b[0m\u001b[0;34m\u001b[0m\u001b[0;34m\u001b[0m\u001b[0m\n\u001b[1;32m    526\u001b[0m         \u001b[0;32mif\u001b[0m \u001b[0m_is_zipfile\u001b[0m\u001b[0;34m(\u001b[0m\u001b[0mopened_file\u001b[0m\u001b[0;34m)\u001b[0m\u001b[0;34m:\u001b[0m\u001b[0;34m\u001b[0m\u001b[0;34m\u001b[0m\u001b[0m\n\u001b[0;32m--> 527\u001b[0;31m             \u001b[0;32mwith\u001b[0m \u001b[0m_open_zipfile_reader\u001b[0m\u001b[0;34m(\u001b[0m\u001b[0mf\u001b[0m\u001b[0;34m)\u001b[0m \u001b[0;32mas\u001b[0m \u001b[0mopened_zipfile\u001b[0m\u001b[0;34m:\u001b[0m\u001b[0;34m\u001b[0m\u001b[0;34m\u001b[0m\u001b[0m\n\u001b[0m\u001b[1;32m    528\u001b[0m                 \u001b[0;32mreturn\u001b[0m \u001b[0m_load\u001b[0m\u001b[0;34m(\u001b[0m\u001b[0mopened_zipfile\u001b[0m\u001b[0;34m,\u001b[0m \u001b[0mmap_location\u001b[0m\u001b[0;34m,\u001b[0m \u001b[0mpickle_module\u001b[0m\u001b[0;34m,\u001b[0m \u001b[0;34m**\u001b[0m\u001b[0mpickle_load_args\u001b[0m\u001b[0;34m)\u001b[0m\u001b[0;34m\u001b[0m\u001b[0;34m\u001b[0m\u001b[0m\n\u001b[1;32m    529\u001b[0m         \u001b[0;32mreturn\u001b[0m \u001b[0m_legacy_load\u001b[0m\u001b[0;34m(\u001b[0m\u001b[0mopened_file\u001b[0m\u001b[0;34m,\u001b[0m \u001b[0mmap_location\u001b[0m\u001b[0;34m,\u001b[0m \u001b[0mpickle_module\u001b[0m\u001b[0;34m,\u001b[0m \u001b[0;34m**\u001b[0m\u001b[0mpickle_load_args\u001b[0m\u001b[0;34m)\u001b[0m\u001b[0;34m\u001b[0m\u001b[0;34m\u001b[0m\u001b[0m\n",
      "\u001b[0;32m/opt/conda/lib/python3.7/site-packages/torch/serialization.py\u001b[0m in \u001b[0;36m__init__\u001b[0;34m(self, name_or_buffer)\u001b[0m\n\u001b[1;32m    222\u001b[0m \u001b[0;32mclass\u001b[0m \u001b[0m_open_zipfile_reader\u001b[0m\u001b[0;34m(\u001b[0m\u001b[0m_opener\u001b[0m\u001b[0;34m)\u001b[0m\u001b[0;34m:\u001b[0m\u001b[0;34m\u001b[0m\u001b[0;34m\u001b[0m\u001b[0m\n\u001b[1;32m    223\u001b[0m     \u001b[0;32mdef\u001b[0m \u001b[0m__init__\u001b[0m\u001b[0;34m(\u001b[0m\u001b[0mself\u001b[0m\u001b[0;34m,\u001b[0m \u001b[0mname_or_buffer\u001b[0m\u001b[0;34m)\u001b[0m\u001b[0;34m:\u001b[0m\u001b[0;34m\u001b[0m\u001b[0;34m\u001b[0m\u001b[0m\n\u001b[0;32m--> 224\u001b[0;31m         \u001b[0msuper\u001b[0m\u001b[0;34m(\u001b[0m\u001b[0m_open_zipfile_reader\u001b[0m\u001b[0;34m,\u001b[0m \u001b[0mself\u001b[0m\u001b[0;34m)\u001b[0m\u001b[0;34m.\u001b[0m\u001b[0m__init__\u001b[0m\u001b[0;34m(\u001b[0m\u001b[0mtorch\u001b[0m\u001b[0;34m.\u001b[0m\u001b[0m_C\u001b[0m\u001b[0;34m.\u001b[0m\u001b[0mPyTorchFileReader\u001b[0m\u001b[0;34m(\u001b[0m\u001b[0mname_or_buffer\u001b[0m\u001b[0;34m)\u001b[0m\u001b[0;34m)\u001b[0m\u001b[0;34m\u001b[0m\u001b[0;34m\u001b[0m\u001b[0m\n\u001b[0m\u001b[1;32m    225\u001b[0m \u001b[0;34m\u001b[0m\u001b[0m\n\u001b[1;32m    226\u001b[0m \u001b[0;34m\u001b[0m\u001b[0m\n",
      "\u001b[0;31mRuntimeError\u001b[0m: version_ <= kMaxSupportedFileFormatVersion INTERNAL ASSERT FAILED at /opt/conda/conda-bld/pytorch_1579022060824/work/caffe2/serialize/inline_container.cc:132, please report a bug to PyTorch. Attempted to read a PyTorch file with version 3, but the maximum supported version for reading is 2. Your PyTorch installation may be too old. (init at /opt/conda/conda-bld/pytorch_1579022060824/work/caffe2/serialize/inline_container.cc:132)\nframe #0: c10::Error::Error(c10::SourceLocation, std::string const&) + 0x47 (0x7fcf804e0627 in /opt/conda/lib/python3.7/site-packages/torch/lib/libc10.so)\nframe #1: caffe2::serialize::PyTorchStreamReader::init() + 0x1f5b (0x7fcf4ec869ab in /opt/conda/lib/python3.7/site-packages/torch/lib/libtorch.so)\nframe #2: caffe2::serialize::PyTorchStreamReader::PyTorchStreamReader(std::unique_ptr<caffe2::serialize::ReadAdapterInterface, std::default_delete<caffe2::serialize::ReadAdapterInterface> >) + 0x57 (0x7fcf4ec87af7 in /opt/conda/lib/python3.7/site-packages/torch/lib/libtorch.so)\nframe #3: <unknown function> + 0x6b0792 (0x7fcf80fe2792 in /opt/conda/lib/python3.7/site-packages/torch/lib/libtorch_python.so)\nframe #4: <unknown function> + 0x28ba06 (0x7fcf80bbda06 in /opt/conda/lib/python3.7/site-packages/torch/lib/libtorch_python.so)\nframe #5: _PyMethodDef_RawFastCallDict + 0x1f4 (0x557c1aae6794 in /opt/conda/bin/python)\nframe #6: <unknown function> + 0x164efa (0x557c1ab2defa in /opt/conda/bin/python)\nframe #7: PyObject_Call + 0x6c (0x557c1aaca08c in /opt/conda/bin/python)\nframe #8: <unknown function> + 0x166a6f (0x557c1ab2fa6f in /opt/conda/bin/python)\nframe #9: _PyObject_FastCallKeywords + 0x18c (0x557c1ab5775c in /opt/conda/bin/python)\nframe #10: <unknown function> + 0x18fb59 (0x557c1ab58b59 in /opt/conda/bin/python)\nframe #11: _PyEval_EvalFrameDefault + 0x4c0a (0x557c1ab8374a in /opt/conda/bin/python)\nframe #12: _PyEval_EvalCodeWithName + 0x242 (0x557c1aac6af2 in /opt/conda/bin/python)\nframe #13: _PyFunction_FastCallDict + 0x35d (0x557c1aac806d in /opt/conda/bin/python)\nframe #14: <unknown function> + 0x1668ac (0x557c1ab2f8ac in /opt/conda/bin/python)\nframe #15: _PyObject_FastCallKeywords + 0x18c (0x557c1ab5775c in /opt/conda/bin/python)\nframe #16: <unknown function> + 0x18fb59 (0x557c1ab58b59 in /opt/conda/bin/python)\nframe #17: _PyEval_EvalFrameDefault + 0x96c (0x557c1ab7f4ac in /opt/conda/bin/python)\nframe #18: _PyEval_EvalCodeWithName + 0x242 (0x557c1aac6af2 in /opt/conda/bin/python)\nframe #19: _PyFunction_FastCallKeywords + 0x320 (0x557c1aaf5030 in /opt/conda/bin/python)\nframe #20: <unknown function> + 0x18f9c8 (0x557c1ab589c8 in /opt/conda/bin/python)\nframe #21: _PyEval_EvalFrameDefault + 0x1699 (0x557c1ab801d9 in /opt/conda/bin/python)\nframe #22: _PyEval_EvalCodeWithName + 0x242 (0x557c1aac6af2 in /opt/conda/bin/python)\nframe #23: _PyFunction_FastCallKeywords + 0x320 (0x557c1aaf5030 in /opt/conda/bin/python)\nframe #24: <unknown function> + 0x18f9c8 (0x557c1ab589c8 in /opt/conda/bin/python)\nframe #25: _PyEval_EvalFrameDefault + 0x1699 (0x557c1ab801d9 in /opt/conda/bin/python)\nframe #26: _PyEval_EvalCodeWithName + 0x242 (0x557c1aac6af2 in /opt/conda/bin/python)\nframe #27: _PyFunction_FastCallKeywords + 0x320 (0x557c1aaf5030 in /opt/conda/bin/python)\nframe #28: <unknown function> + 0x18f9c8 (0x557c1ab589c8 in /opt/conda/bin/python)\nframe #29: _PyEval_EvalFrameDefault + 0x4c0a (0x557c1ab8374a in /opt/conda/bin/python)\nframe #30: _PyEval_EvalCodeWithName + 0x242 (0x557c1aac6af2 in /opt/conda/bin/python)\nframe #31: PyEval_EvalCodeEx + 0x39 (0x557c1aac7d09 in /opt/conda/bin/python)\nframe #32: PyEval_EvalCode + 0x1b (0x557c1aba28ab in /opt/conda/bin/python)\nframe #33: <unknown function> + 0x247c92 (0x557c1ac10c92 in /opt/conda/bin/python)\nframe #34: _PyMethodDef_RawFastCallKeywords + 0x68 (0x557c1ab57278 in /opt/conda/bin/python)\nframe #35: <unknown function> + 0x18fad8 (0x557c1ab58ad8 in /opt/conda/bin/python)\nframe #36: _PyEval_EvalFrameDefault + 0x96c (0x557c1ab7f4ac in /opt/conda/bin/python)\nframe #37: <unknown function> + 0x164ab3 (0x557c1ab2dab3 in /opt/conda/bin/python)\nframe #38: _PyEval_EvalFrameDefault + 0x1bc6 (0x557c1ab80706 in /opt/conda/bin/python)\nframe #39: <unknown function> + 0x164ab3 (0x557c1ab2dab3 in /opt/conda/bin/python)\nframe #40: _PyEval_EvalFrameDefault + 0x1bc6 (0x557c1ab80706 in /opt/conda/bin/python)\nframe #41: <unknown function> + 0x164ab3 (0x557c1ab2dab3 in /opt/conda/bin/python)\nframe #42: _PyMethodDescr_FastCallKeywords + 0x334 (0x557c1ab586c4 in /opt/conda/bin/python)\nframe #43: <unknown function> + 0x18fa9d (0x557c1ab58a9d in /opt/conda/bin/python)\nframe #44: _PyEval_EvalFrameDefault + 0xa04 (0x557c1ab7f544 in /opt/conda/bin/python)\nframe #45: _PyFunction_FastCallKeywords + 0x184 (0x557c1aaf4e94 in /opt/conda/bin/python)\nframe #46: <unknown function> + 0x18f9c8 (0x557c1ab589c8 in /opt/conda/bin/python)\nframe #47: _PyEval_EvalFrameDefault + 0x96c (0x557c1ab7f4ac in /opt/conda/bin/python)\nframe #48: _PyFunction_FastCallKeywords + 0x184 (0x557c1aaf4e94 in /opt/conda/bin/python)\nframe #49: <unknown function> + 0x18f9c8 (0x557c1ab589c8 in /opt/conda/bin/python)\nframe #50: _PyEval_EvalFrameDefault + 0xa04 (0x557c1ab7f544 in /opt/conda/bin/python)\nframe #51: _PyEval_EvalCodeWithName + 0x242 (0x557c1aac6af2 in /opt/conda/bin/python)\nframe #52: _PyFunction_FastCallDict + 0x698 (0x557c1aac83a8 in /opt/conda/bin/python)\nframe #53: <unknown function> + 0x164f93 (0x557c1ab2df93 in /opt/conda/bin/python)\nframe #54: PyObject_Call + 0x6c (0x557c1aaca08c in /opt/conda/bin/python)\nframe #55: _PyEval_EvalFrameDefault + 0x1f67 (0x557c1ab80aa7 in /opt/conda/bin/python)\nframe #56: _PyEval_EvalCodeWithName + 0x242 (0x557c1aac6af2 in /opt/conda/bin/python)\nframe #57: _PyFunction_FastCallKeywords + 0x320 (0x557c1aaf5030 in /opt/conda/bin/python)\nframe #58: <unknown function> + 0x18f9c8 (0x557c1ab589c8 in /opt/conda/bin/python)\nframe #59: _PyEval_EvalFrameDefault + 0x1699 (0x557c1ab801d9 in /opt/conda/bin/python)\nframe #60: <unknown function> + 0x17fabe (0x557c1ab48abe in /opt/conda/bin/python)\nframe #61: _PyMethodDef_RawFastCallKeywords + 0x68 (0x557c1ab57278 in /opt/conda/bin/python)\nframe #62: _PyCFunction_FastCallKeywords + 0x26 (0x557c1ab575b6 in /opt/conda/bin/python)\nframe #63: <unknown function> + 0x221bdf (0x557c1abeabdf in /opt/conda/bin/python)\n"
     ]
    }
   ],
   "source": [
    "\n",
    "gan = WGANGP.load_from_checkpoint(\"/home/jupyter/data/saved_models/wgan-gp/0/epoch=124-step=334999.ckpt\")"
   ]
  },
  {
   "cell_type": "code",
   "execution_count": null,
   "id": "d11d42f5",
   "metadata": {},
   "outputs": [],
   "source": []
  }
 ],
 "metadata": {
  "environment": {
   "name": "common-cu110.m74",
   "type": "gcloud",
   "uri": "gcr.io/deeplearning-platform-release/base-cu110:m74"
  },
  "kernelspec": {
   "display_name": "Python [conda env:root] *",
   "language": "python",
   "name": "conda-root-py"
  },
  "language_info": {
   "codemirror_mode": {
    "name": "ipython",
    "version": 3
   },
   "file_extension": ".py",
   "mimetype": "text/x-python",
   "name": "python",
   "nbconvert_exporter": "python",
   "pygments_lexer": "ipython3",
   "version": "3.7.10"
  }
 },
 "nbformat": 4,
 "nbformat_minor": 5
}
