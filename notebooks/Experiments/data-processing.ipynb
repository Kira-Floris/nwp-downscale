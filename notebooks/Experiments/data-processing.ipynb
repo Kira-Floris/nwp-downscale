{
 "cells": [
  {
   "cell_type": "code",
   "execution_count": 12,
   "id": "pressing-correlation",
   "metadata": {},
   "outputs": [],
   "source": [
    "import torch\n",
    "from torch.nn import functional as F\n",
    "from torch import nn\n",
    "from pytorch_lightning.core.lightning import LightningModule\n",
    "import pytorch_lightning as pl\n",
    "\n",
    "import torch.optim as optim\n",
    "import torchvision\n",
    "import torchvision.datasets as datasets\n",
    "import torchvision.transforms as transforms\n",
    "from torch.utils.data import DataLoader\n",
    "\n",
    "from ilan_src.models import *\n",
    "from ilan_src.dataloader import *\n",
    "from ilan_src.utils import *\n",
    "\n",
    "import xarray as xr\n",
    "import numpy as np\n",
    "import matplotlib.pyplot as plt\n"
   ]
  },
  {
   "cell_type": "markdown",
   "id": "powered-handle",
   "metadata": {},
   "source": [
    "## Train and Val"
   ]
  },
  {
   "cell_type": "code",
   "execution_count": 13,
   "id": "governmental-arcade",
   "metadata": {},
   "outputs": [],
   "source": [
    "DATADRIVE = '/datadrive_ssd/'"
   ]
  },
  {
   "cell_type": "code",
   "execution_count": 4,
   "id": "sudden-essence",
   "metadata": {},
   "outputs": [
    {
     "name": "stderr",
     "output_type": "stream",
     "text": [
      "/home/ilan/.conda/envs/ilan/lib/python3.9/site-packages/xarray/core/indexing.py:1379: PerformanceWarning: Slicing is producing a large chunk. To accept the large\n",
      "chunk and silence this warning, set the option\n",
      "    >>> with dask.config.set(**{'array.slicing.split_large_chunks': False}):\n",
      "    ...     array[indexer]\n",
      "\n",
      "To avoid creating the large chunks, set the option\n",
      "    >>> with dask.config.set(**{'array.slicing.split_large_chunks': True}):\n",
      "    ...     array[indexer]\n",
      "  return self.array[key]\n"
     ]
    },
    {
     "name": "stdout",
     "output_type": "stream",
     "text": [
      "Loading data\n"
     ]
    }
   ],
   "source": [
    "ds_train = TiggeMRMSDataset(\n",
    "    tigge_dir=f'{DATADRIVE}/tigge/32km/',\n",
    "    tigge_vars=['total_precipitation'],\n",
    "    mrms_dir=f'{DATADRIVE}/mrms/4km/RadarOnly_QPE_06H/',\n",
    "    rq_fn=f'{DATADRIVE}/mrms/4km/RadarQuality.nc',\n",
    "#     const_fn='/datadrive/tigge/32km/constants.nc',\n",
    "#     const_vars=['orog', 'lsm'],\n",
    "    data_period=('2018-01', '2019-12'),\n",
    "    val_days=5,\n",
    "    split='train',\n",
    "    pure_sr_ratio=None, \n",
    "    tp_log=0.01\n",
    ")"
   ]
  },
  {
   "cell_type": "code",
   "execution_count": 5,
   "id": "literary-motivation",
   "metadata": {},
   "outputs": [
    {
     "name": "stderr",
     "output_type": "stream",
     "text": [
      "/home/ilan/.conda/envs/ilan/lib/python3.9/site-packages/xarray/core/indexing.py:1379: PerformanceWarning: Slicing is producing a large chunk. To accept the large\n",
      "chunk and silence this warning, set the option\n",
      "    >>> with dask.config.set(**{'array.slicing.split_large_chunks': False}):\n",
      "    ...     array[indexer]\n",
      "\n",
      "To avoid creating the large chunks, set the option\n",
      "    >>> with dask.config.set(**{'array.slicing.split_large_chunks': True}):\n",
      "    ...     array[indexer]\n",
      "  return self.array[key]\n"
     ]
    },
    {
     "name": "stdout",
     "output_type": "stream",
     "text": [
      "Loading data\n"
     ]
    }
   ],
   "source": [
    "ds_valid = TiggeMRMSDataset(\n",
    "    tigge_dir=f'{DATADRIVE}/tigge/32km/',\n",
    "    tigge_vars=['total_precipitation'],\n",
    "    mrms_dir=f'{DATADRIVE}/mrms/4km/RadarOnly_QPE_06H/',\n",
    "    rq_fn=f'{DATADRIVE}/mrms/4km/RadarQuality.nc',\n",
    "#     const_fn='/datadrive/tigge/32km/constants.nc',\n",
    "#     const_vars=['orog', 'lsm'],\n",
    "    data_period=('2018-01', '2019-12'),\n",
    "    val_days=5,\n",
    "    split='valid',\n",
    "    mins=ds_train.mins,\n",
    "    maxs=ds_train.maxs,\n",
    "    pure_sr_ratio=None,\n",
    "    tp_log= 0.01\n",
    ")"
   ]
  },
  {
   "cell_type": "code",
   "execution_count": 6,
   "id": "polar-source",
   "metadata": {},
   "outputs": [],
   "source": [
    "sampler_train = torch.utils.data.WeightedRandomSampler(ds_train.compute_weights(), len(ds_train))\n",
    "sampler_valid = torch.utils.data.WeightedRandomSampler(ds_valid.compute_weights(), len(ds_valid))"
   ]
  },
  {
   "cell_type": "code",
   "execution_count": 7,
   "id": "short-recruitment",
   "metadata": {},
   "outputs": [],
   "source": [
    "dl_train = torch.utils.data.DataLoader(ds_train, batch_size=16, sampler=sampler_train, num_workers=6)\n",
    "dl_valid = torch.utils.data.DataLoader(ds_valid, batch_size=16, sampler=sampler_valid, num_workers=6)"
   ]
  },
  {
   "cell_type": "code",
   "execution_count": 8,
   "id": "subsequent-slide",
   "metadata": {},
   "outputs": [
    {
     "data": {
      "text/plain": [
       "(42876, 2680)"
      ]
     },
     "execution_count": 8,
     "metadata": {},
     "output_type": "execute_result"
    }
   ],
   "source": [
    "len(ds_train), len(dl_train)"
   ]
  },
  {
   "cell_type": "code",
   "execution_count": 14,
   "id": "valuable-redhead",
   "metadata": {},
   "outputs": [],
   "source": [
    "import pickle\n",
    "pickle.dump(dl_train, open(DATADRIVE+\"saved_datasets/trainloader_single_forecast_only_log_trans_full.pkl\", \"wb\"))\n",
    "pickle.dump(dl_valid, open(DATADRIVE+\"saved_datasets/validloader_single_forecast_only_log_trans_full.pkl\", \"wb\"))\n",
    "pickle.dump(ds_train, open(DATADRIVE+\"saved_datasets/traindataset_single_forecast_only_log_trans_full.pkl\", \"wb\"))\n",
    "pickle.dump(ds_valid, open(DATADRIVE+\"saved_datasets/validdataset_single_forecast_only_log_trans_full.pkl\", \"wb\"))"
   ]
  },
  {
   "cell_type": "code",
   "execution_count": 10,
   "id": "weird-annex",
   "metadata": {},
   "outputs": [],
   "source": []
  },
  {
   "cell_type": "markdown",
   "id": "second-columbus",
   "metadata": {},
   "source": [
    "## Test"
   ]
  },
  {
   "cell_type": "code",
   "execution_count": 15,
   "id": "warming-proposition",
   "metadata": {},
   "outputs": [
    {
     "name": "stderr",
     "output_type": "stream",
     "text": [
      "/home/ilan/.conda/envs/ilan/lib/python3.9/site-packages/xarray/core/indexing.py:1379: PerformanceWarning: Slicing is producing a large chunk. To accept the large\n",
      "chunk and silence this warning, set the option\n",
      "    >>> with dask.config.set(**{'array.slicing.split_large_chunks': False}):\n",
      "    ...     array[indexer]\n",
      "\n",
      "To avoid creating the large chunks, set the option\n",
      "    >>> with dask.config.set(**{'array.slicing.split_large_chunks': True}):\n",
      "    ...     array[indexer]\n",
      "  return self.array[key]\n"
     ]
    },
    {
     "name": "stdout",
     "output_type": "stream",
     "text": [
      "Loading data\n"
     ]
    }
   ],
   "source": [
    "ds_test = TiggeMRMSDataset(\n",
    "    tigge_dir=f'{DATADRIVE}/tigge/32km/',\n",
    "    tigge_vars=['total_precipitation'],\n",
    "    mrms_dir=f'{DATADRIVE}/mrms/4km/RadarOnly_QPE_06H/',\n",
    "    rq_fn=f'{DATADRIVE}/mrms/4km/RadarQuality.nc',\n",
    "#     const_fn='/datadrive/tigge/32km/constants.nc',\n",
    "#     const_vars=['orog', 'lsm'],\n",
    "    data_period=('2020-01', '2020-12'),\n",
    "    mins=ds_train.mins,\n",
    "    maxs=ds_train.maxs,\n",
    "    first_days=2,\n",
    "    pure_sr_ratio=None, \n",
    "    tp_log=0.01\n",
    ")"
   ]
  },
  {
   "cell_type": "code",
   "execution_count": 16,
   "id": "varied-wings",
   "metadata": {},
   "outputs": [],
   "source": [
    "pickle.dump(ds_test, open(DATADRIVE+\"saved_datasets/testdataset_single_forecast_only_log_trans_first_days_2.pkl\", \"wb\"))"
   ]
  },
  {
   "cell_type": "code",
   "execution_count": null,
   "id": "norman-track",
   "metadata": {},
   "outputs": [],
   "source": []
  }
 ],
 "metadata": {
  "kernelspec": {
   "display_name": "ilan",
   "language": "python",
   "name": "ilan"
  },
  "language_info": {
   "codemirror_mode": {
    "name": "ipython",
    "version": 3
   },
   "file_extension": ".py",
   "mimetype": "text/x-python",
   "name": "python",
   "nbconvert_exporter": "python",
   "pygments_lexer": "ipython3",
   "version": "3.9.5"
  }
 },
 "nbformat": 4,
 "nbformat_minor": 5
}
